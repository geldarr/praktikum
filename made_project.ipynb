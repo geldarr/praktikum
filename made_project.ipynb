{
  "nbformat": 4,
  "nbformat_minor": 0,
  "metadata": {
    "colab": {
      "name": "made_project.ipynb",
      "provenance": [],
      "collapsed_sections": []
    },
    "kernelspec": {
      "display_name": "Python 3",
      "language": "python",
      "name": "python3"
    },
    "language_info": {
      "codemirror_mode": {
        "name": "ipython",
        "version": 3
      },
      "file_extension": ".py",
      "mimetype": "text/x-python",
      "name": "python",
      "nbconvert_exporter": "python",
      "pygments_lexer": "ipython3",
      "version": "3.7.8"
    },
    "toc": {
      "base_numbering": 1,
      "nav_menu": {},
      "number_sections": true,
      "sideBar": true,
      "skip_h1_title": false,
      "title_cell": "Table of Contents",
      "title_sidebar": "Contents",
      "toc_cell": false,
      "toc_position": {},
      "toc_section_display": true,
      "toc_window_display": false
    }
  },
  "cells": [
    {
      "cell_type": "markdown",
      "metadata": {
        "id": "zUwyam31vFIs"
      },
      "source": [
        "# Импорт библиотек"
      ]
    },
    {
      "cell_type": "markdown",
      "metadata": {
        "id": "LyUM1Hz25k7K"
      },
      "source": [
        "Описание проекта\n",
        "Подготовьте прототип модели машинного обучения для «Цифры». Компания разрабатывает решения для эффективной работы промышленных предприятий.\n",
        "\n",
        "Модель должна предсказать коэффициент восстановления золота из золотосодержащей руды. В вашем распоряжении данные с параметрами добычи и очистки.\n",
        "\n",
        "\n",
        "Модель поможет оптимизировать производство, чтобы не запускать предприятие с убыточными характеристиками.\n",
        "\n",
        "Вам нужно:\n",
        "\n",
        "Подготовить данные;\n",
        "Провести исследовательский анализ данных;\n",
        "Построить и обучить модель.\n",
        "Чтобы выполнить проект, обращайтесь к библиотекам pandas, matplotlib и sklearn. Вам поможет их документация."
      ]
    },
    {
      "cell_type": "markdown",
      "metadata": {
        "id": "-bRImaTr9YkL"
      },
      "source": [
        "Флотация (обогощение) золосожержащей руды  => Черновой концентрат + Отвальные хвосты\n",
        "\n",
        "Очистка  чернового концентрата => финальный концентрат + отвальные хвосты.\n"
      ]
    },
    {
      "cell_type": "code",
      "metadata": {
        "id": "gpsODALaFun2"
      },
      "source": [
        "import pandas as pd\n",
        "import numpy as np\n",
        "from sklearn.metrics import mean_absolute_error\n",
        "import matplotlib.pyplot as plt\n",
        "import seaborn as sns\n",
        "from scipy.stats import norm\n",
        "from sklearn.pipeline import Pipeline\n",
        "from sklearn.linear_model import LinearRegression\n",
        "from sklearn.preprocessing import StandardScaler\n",
        "from sklearn.utils import shuffle\n",
        "from sklearn.model_selection import cross_validate\n",
        "from sklearn.model_selection import cross_val_score\n",
        "from sklearn.multioutput import MultiOutputRegressor\n",
        "from sklearn.ensemble import RandomForestRegressor\n",
        "from sklearn.model_selection import GridSearchCV\n",
        "from sklearn.metrics import r2_score\n",
        "from sklearn.metrics import make_scorer\n",
        "from sklearn.tree import DecisionTreeRegressor"
      ],
      "execution_count": 1,
      "outputs": []
    },
    {
      "cell_type": "markdown",
      "metadata": {
        "id": "uahgTi9ju-28"
      },
      "source": [
        "# Импорт данных"
      ]
    },
    {
      "cell_type": "code",
      "metadata": {
        "colab": {
          "base_uri": "https://localhost:8080/"
        },
        "id": "8YFONso4AkQ5",
        "outputId": "2f2f6e75-a351-4cc3-fd03-a8e650576a4c"
      },
      "source": [
        "from google.colab import drive\n",
        "drive.mount('/content/drive')"
      ],
      "execution_count": 2,
      "outputs": [
        {
          "output_type": "stream",
          "text": [
            "Drive already mounted at /content/drive; to attempt to forcibly remount, call drive.mount(\"/content/drive\", force_remount=True).\n"
          ],
          "name": "stdout"
        }
      ]
    },
    {
      "cell_type": "code",
      "metadata": {
        "id": "gXa7CNGVF84H"
      },
      "source": [
        "data_full = pd.read_csv('/content/drive/MyDrive/Colab Notebooks/Shad/gold_recovery/gold_recovery_full.csv')\n",
        "data_train = pd.read_csv('/content/drive/MyDrive/Colab Notebooks/Shad/gold_recovery/gold_recovery_train.csv')\n",
        "data_test = pd.read_csv('/content/drive/MyDrive/Colab Notebooks/Shad/gold_recovery/gold_recovery_test.csv')"
      ],
      "execution_count": 3,
      "outputs": []
    },
    {
      "cell_type": "markdown",
      "metadata": {
        "id": "nV_z9MU4N-6p"
      },
      "source": [
        "# Анализ данных"
      ]
    },
    {
      "cell_type": "markdown",
      "metadata": {
        "id": "MY-dX3N2aQOA"
      },
      "source": [
        "\n",
        "Цеоевые признаки:\n",
        "\n",
        "\n",
        "*   **final.output.recovery**\n",
        "*   **rougher.output.recovery**\n",
        "\n",
        "Предсказав данные признаки мы сможем расщитать целевую эффективность обогощения.\n",
        "\n",
        "---\n",
        "Признаки:\n",
        "\n",
        "Для обучения модели нам необходимы признаки, параметры технического процесса, которые заранее известны. В нашем случае такие признаки содержат следующие значения:\n",
        "\n",
        "*   input - изначальные параметры сырья\n",
        "*   state - параметры, характеризующие текущее состояние этапа\n",
        "\n",
        "\n",
        "\n",
        "\n"
      ]
    },
    {
      "cell_type": "markdown",
      "metadata": {
        "id": "5yo-XWynm8QH"
      },
      "source": [
        "# Проверка на корректность формулы вычисления эффективности обогащения"
      ]
    },
    {
      "cell_type": "markdown",
      "metadata": {
        "id": "Vo4LyuMd-E4W"
      },
      "source": [
        "Проверка на корректность формулы вычисления эффективности обогащения. \n",
        "Обогощение исходного сырья (золотосодержащей руды) происходит на стадии флотации. В предоставленных данных результат флотации представлен в признаках:\n",
        "\n",
        "\n",
        "1.   C = rougher.output.concentrate_au  - доля золота в концентрате после флотации \n",
        "2.   F = rougher.input.feed_au - Доля золота в сырье до флотации \n",
        "3.   T =  rougher.output.tail_au - Доля золота в отвальных хвостах после флотации.\n",
        "\n",
        "Расчитывать эффективность обогощения будем по следующей формуле:\n",
        "\n",
        " \n",
        "\n",
        "```\n",
        "# Recovery = ((C * (F - T))/(F * (C - T))\n",
        "```\n",
        "Для расчета создадим функцию \"recovery\".\n",
        "\n"
      ]
    },
    {
      "cell_type": "code",
      "metadata": {
        "id": "C1Ge1iSn-DpS"
      },
      "source": [
        "def recovery(c,f,t):\n",
        "  recovery = ((c * (f - t))/(f * (c - t)))*100\n",
        "  return recovery"
      ],
      "execution_count": 4,
      "outputs": []
    },
    {
      "cell_type": "code",
      "metadata": {
        "id": "6pgr6ZUupZxz"
      },
      "source": [
        "# Удалим нулевые значения из целевых признаков.\n",
        "#data_train['rougher.output.recovery'].dropna()\n",
        "#data_train['final.output.recovery'].dropna()"
      ],
      "execution_count": 5,
      "outputs": []
    },
    {
      "cell_type": "code",
      "metadata": {
        "id": "azbVvm4gAwg2"
      },
      "source": [
        "data_train['rougher.calculated.recovery'] = recovery(data_train['rougher.output.concentrate_au'],\n",
        "                                                     data_train['rougher.input.feed_au'],\n",
        "                                                     data_train['rougher.output.tail_au'])"
      ],
      "execution_count": 6,
      "outputs": []
    },
    {
      "cell_type": "markdown",
      "metadata": {
        "id": "-SlDLdMyBtuN"
      },
      "source": [
        "Вычислим MAE между полученными данными эффективности и имеющимися. "
      ]
    },
    {
      "cell_type": "code",
      "metadata": {
        "colab": {
          "base_uri": "https://localhost:8080/"
        },
        "id": "DcEm0i7dpsUC",
        "outputId": "d0eaef57-b9a3-45d8-c43b-40344a5a28ca"
      },
      "source": [
        "data_train['rougher.calculated.recovery'].count()"
      ],
      "execution_count": 7,
      "outputs": [
        {
          "output_type": "execute_result",
          "data": {
            "text/plain": [
              "14577"
            ]
          },
          "metadata": {
            "tags": []
          },
          "execution_count": 7
        }
      ]
    },
    {
      "cell_type": "code",
      "metadata": {
        "id": "uI5COU3GFWmj"
      },
      "source": [
        "# для проверки отберем только актульные данные \n",
        "output_recovery = data_train.loc[data_train['rougher.output.recovery'].notna()]['rougher.output.recovery']"
      ],
      "execution_count": 8,
      "outputs": []
    },
    {
      "cell_type": "code",
      "metadata": {
        "id": "aGtiZtvKFfpW"
      },
      "source": [
        "output_calculate = data_train.loc[output_recovery.index]['rougher.calculated.recovery']"
      ],
      "execution_count": 9,
      "outputs": []
    },
    {
      "cell_type": "code",
      "metadata": {
        "colab": {
          "base_uri": "https://localhost:8080/"
        },
        "id": "B_Hqj5_EBTTJ",
        "outputId": "06bd3e33-6cf8-429c-cd02-e9ab68fee159"
      },
      "source": [
        "mean_absolute_error(output_recovery,output_recovery)"
      ],
      "execution_count": 10,
      "outputs": [
        {
          "output_type": "execute_result",
          "data": {
            "text/plain": [
              "0.0"
            ]
          },
          "metadata": {
            "tags": []
          },
          "execution_count": 10
        }
      ]
    },
    {
      "cell_type": "markdown",
      "metadata": {
        "id": "qg8tPZtudxYX"
      },
      "source": [
        "Расчет корректен"
      ]
    },
    {
      "cell_type": "markdown",
      "metadata": {
        "id": "9ozExvcL04d1"
      },
      "source": [
        "Анализ тестовой выборки, анализ признаков, поиск различий между обучающей выборкой.\n"
      ]
    },
    {
      "cell_type": "code",
      "metadata": {
        "colab": {
          "base_uri": "https://localhost:8080/"
        },
        "id": "HdNrt2vafH_0",
        "outputId": "ad4aaa49-f9e1-4993-ba81-60c101e9b60d"
      },
      "source": [
        "data_test.info()"
      ],
      "execution_count": 11,
      "outputs": [
        {
          "output_type": "stream",
          "text": [
            "<class 'pandas.core.frame.DataFrame'>\n",
            "RangeIndex: 5856 entries, 0 to 5855\n",
            "Data columns (total 53 columns):\n",
            " #   Column                                      Non-Null Count  Dtype  \n",
            "---  ------                                      --------------  -----  \n",
            " 0   date                                        5856 non-null   object \n",
            " 1   primary_cleaner.input.sulfate               5554 non-null   float64\n",
            " 2   primary_cleaner.input.depressant            5572 non-null   float64\n",
            " 3   primary_cleaner.input.feed_size             5856 non-null   float64\n",
            " 4   primary_cleaner.input.xanthate              5690 non-null   float64\n",
            " 5   primary_cleaner.state.floatbank8_a_air      5840 non-null   float64\n",
            " 6   primary_cleaner.state.floatbank8_a_level    5840 non-null   float64\n",
            " 7   primary_cleaner.state.floatbank8_b_air      5840 non-null   float64\n",
            " 8   primary_cleaner.state.floatbank8_b_level    5840 non-null   float64\n",
            " 9   primary_cleaner.state.floatbank8_c_air      5840 non-null   float64\n",
            " 10  primary_cleaner.state.floatbank8_c_level    5840 non-null   float64\n",
            " 11  primary_cleaner.state.floatbank8_d_air      5840 non-null   float64\n",
            " 12  primary_cleaner.state.floatbank8_d_level    5840 non-null   float64\n",
            " 13  rougher.input.feed_ag                       5840 non-null   float64\n",
            " 14  rougher.input.feed_pb                       5840 non-null   float64\n",
            " 15  rougher.input.feed_rate                     5816 non-null   float64\n",
            " 16  rougher.input.feed_size                     5834 non-null   float64\n",
            " 17  rougher.input.feed_sol                      5789 non-null   float64\n",
            " 18  rougher.input.feed_au                       5840 non-null   float64\n",
            " 19  rougher.input.floatbank10_sulfate           5599 non-null   float64\n",
            " 20  rougher.input.floatbank10_xanthate          5733 non-null   float64\n",
            " 21  rougher.input.floatbank11_sulfate           5801 non-null   float64\n",
            " 22  rougher.input.floatbank11_xanthate          5503 non-null   float64\n",
            " 23  rougher.state.floatbank10_a_air             5839 non-null   float64\n",
            " 24  rougher.state.floatbank10_a_level           5840 non-null   float64\n",
            " 25  rougher.state.floatbank10_b_air             5839 non-null   float64\n",
            " 26  rougher.state.floatbank10_b_level           5840 non-null   float64\n",
            " 27  rougher.state.floatbank10_c_air             5839 non-null   float64\n",
            " 28  rougher.state.floatbank10_c_level           5840 non-null   float64\n",
            " 29  rougher.state.floatbank10_d_air             5839 non-null   float64\n",
            " 30  rougher.state.floatbank10_d_level           5840 non-null   float64\n",
            " 31  rougher.state.floatbank10_e_air             5839 non-null   float64\n",
            " 32  rougher.state.floatbank10_e_level           5840 non-null   float64\n",
            " 33  rougher.state.floatbank10_f_air             5839 non-null   float64\n",
            " 34  rougher.state.floatbank10_f_level           5840 non-null   float64\n",
            " 35  secondary_cleaner.state.floatbank2_a_air    5836 non-null   float64\n",
            " 36  secondary_cleaner.state.floatbank2_a_level  5840 non-null   float64\n",
            " 37  secondary_cleaner.state.floatbank2_b_air    5833 non-null   float64\n",
            " 38  secondary_cleaner.state.floatbank2_b_level  5840 non-null   float64\n",
            " 39  secondary_cleaner.state.floatbank3_a_air    5822 non-null   float64\n",
            " 40  secondary_cleaner.state.floatbank3_a_level  5840 non-null   float64\n",
            " 41  secondary_cleaner.state.floatbank3_b_air    5840 non-null   float64\n",
            " 42  secondary_cleaner.state.floatbank3_b_level  5840 non-null   float64\n",
            " 43  secondary_cleaner.state.floatbank4_a_air    5840 non-null   float64\n",
            " 44  secondary_cleaner.state.floatbank4_a_level  5840 non-null   float64\n",
            " 45  secondary_cleaner.state.floatbank4_b_air    5840 non-null   float64\n",
            " 46  secondary_cleaner.state.floatbank4_b_level  5840 non-null   float64\n",
            " 47  secondary_cleaner.state.floatbank5_a_air    5840 non-null   float64\n",
            " 48  secondary_cleaner.state.floatbank5_a_level  5840 non-null   float64\n",
            " 49  secondary_cleaner.state.floatbank5_b_air    5840 non-null   float64\n",
            " 50  secondary_cleaner.state.floatbank5_b_level  5840 non-null   float64\n",
            " 51  secondary_cleaner.state.floatbank6_a_air    5840 non-null   float64\n",
            " 52  secondary_cleaner.state.floatbank6_a_level  5840 non-null   float64\n",
            "dtypes: float64(52), object(1)\n",
            "memory usage: 2.4+ MB\n"
          ],
          "name": "stdout"
        }
      ]
    },
    {
      "cell_type": "code",
      "metadata": {
        "id": "1m2gWPELwFgm"
      },
      "source": [
        "differences = list(set(data_train.columns) - set(data_test.columns))"
      ],
      "execution_count": 12,
      "outputs": []
    },
    {
      "cell_type": "code",
      "metadata": {
        "colab": {
          "base_uri": "https://localhost:8080/"
        },
        "id": "gj-TmFyCTUSI",
        "outputId": "963a27dd-b1d3-4434-af8d-493abbdc783d"
      },
      "source": [
        "len(differences)"
      ],
      "execution_count": 13,
      "outputs": [
        {
          "output_type": "execute_result",
          "data": {
            "text/plain": [
              "35"
            ]
          },
          "metadata": {
            "tags": []
          },
          "execution_count": 13
        }
      ]
    },
    {
      "cell_type": "code",
      "metadata": {
        "colab": {
          "base_uri": "https://localhost:8080/"
        },
        "id": "UwtglNfXkj3p",
        "outputId": "54a6bb74-1ee5-440b-9721-fecad7ec0543"
      },
      "source": [
        "differences"
      ],
      "execution_count": 14,
      "outputs": [
        {
          "output_type": "execute_result",
          "data": {
            "text/plain": [
              "['rougher.output.tail_au',\n",
              " 'final.output.tail_au',\n",
              " 'primary_cleaner.output.concentrate_sol',\n",
              " 'primary_cleaner.output.tail_au',\n",
              " 'rougher.output.tail_ag',\n",
              " 'rougher.output.tail_pb',\n",
              " 'rougher.output.concentrate_pb',\n",
              " 'secondary_cleaner.output.tail_pb',\n",
              " 'primary_cleaner.output.concentrate_pb',\n",
              " 'primary_cleaner.output.concentrate_ag',\n",
              " 'secondary_cleaner.output.tail_au',\n",
              " 'rougher.calculated.recovery',\n",
              " 'final.output.tail_ag',\n",
              " 'rougher.output.tail_sol',\n",
              " 'final.output.concentrate_au',\n",
              " 'final.output.concentrate_sol',\n",
              " 'secondary_cleaner.output.tail_ag',\n",
              " 'final.output.concentrate_ag',\n",
              " 'primary_cleaner.output.concentrate_au',\n",
              " 'final.output.concentrate_pb',\n",
              " 'final.output.recovery',\n",
              " 'primary_cleaner.output.tail_pb',\n",
              " 'primary_cleaner.output.tail_sol',\n",
              " 'rougher.calculation.floatbank11_sulfate_to_au_feed',\n",
              " 'primary_cleaner.output.tail_ag',\n",
              " 'rougher.output.recovery',\n",
              " 'rougher.calculation.sulfate_to_au_concentrate',\n",
              " 'final.output.tail_pb',\n",
              " 'rougher.output.concentrate_ag',\n",
              " 'rougher.calculation.floatbank10_sulfate_to_au_feed',\n",
              " 'rougher.calculation.au_pb_ratio',\n",
              " 'secondary_cleaner.output.tail_sol',\n",
              " 'rougher.output.concentrate_au',\n",
              " 'rougher.output.concentrate_sol',\n",
              " 'final.output.tail_sol']"
            ]
          },
          "metadata": {
            "tags": []
          },
          "execution_count": 14
        }
      ]
    },
    {
      "cell_type": "markdown",
      "metadata": {
        "id": "x15VAnW8x-TG"
      },
      "source": [
        "Заменим индексы нанаших датасетах, согласно условиям задачи данные индексируются по дате, ее и установим в качестве индекса"
      ]
    },
    {
      "cell_type": "code",
      "metadata": {
        "id": "TaQyEMdNuqrJ"
      },
      "source": [
        "data_test = data_test.set_index('date')\n",
        "data_full = data_full.set_index('date')\n",
        "data_train = data_train.set_index('date')"
      ],
      "execution_count": 15,
      "outputs": []
    },
    {
      "cell_type": "markdown",
      "metadata": {
        "id": "EvforqynyJ20"
      },
      "source": [
        "Добавим в тестовую выборку целевые признаки."
      ]
    },
    {
      "cell_type": "code",
      "metadata": {
        "id": "gyPnhqblvMRc"
      },
      "source": [
        "data_test[['rougher.output.recovery','final.output.recovery']] = data_full.loc[data_test.index][['rougher.output.recovery','final.output.recovery']]"
      ],
      "execution_count": 16,
      "outputs": []
    },
    {
      "cell_type": "code",
      "metadata": {
        "colab": {
          "base_uri": "https://localhost:8080/"
        },
        "id": "-cxEuv_Uq44I",
        "outputId": "bff11325-fea6-44bf-e394-463359166ef9"
      },
      "source": [
        "data_test.info()"
      ],
      "execution_count": 17,
      "outputs": [
        {
          "output_type": "stream",
          "text": [
            "<class 'pandas.core.frame.DataFrame'>\n",
            "Index: 5856 entries, 2016-09-01 00:59:59 to 2017-12-31 23:59:59\n",
            "Data columns (total 54 columns):\n",
            " #   Column                                      Non-Null Count  Dtype  \n",
            "---  ------                                      --------------  -----  \n",
            " 0   primary_cleaner.input.sulfate               5554 non-null   float64\n",
            " 1   primary_cleaner.input.depressant            5572 non-null   float64\n",
            " 2   primary_cleaner.input.feed_size             5856 non-null   float64\n",
            " 3   primary_cleaner.input.xanthate              5690 non-null   float64\n",
            " 4   primary_cleaner.state.floatbank8_a_air      5840 non-null   float64\n",
            " 5   primary_cleaner.state.floatbank8_a_level    5840 non-null   float64\n",
            " 6   primary_cleaner.state.floatbank8_b_air      5840 non-null   float64\n",
            " 7   primary_cleaner.state.floatbank8_b_level    5840 non-null   float64\n",
            " 8   primary_cleaner.state.floatbank8_c_air      5840 non-null   float64\n",
            " 9   primary_cleaner.state.floatbank8_c_level    5840 non-null   float64\n",
            " 10  primary_cleaner.state.floatbank8_d_air      5840 non-null   float64\n",
            " 11  primary_cleaner.state.floatbank8_d_level    5840 non-null   float64\n",
            " 12  rougher.input.feed_ag                       5840 non-null   float64\n",
            " 13  rougher.input.feed_pb                       5840 non-null   float64\n",
            " 14  rougher.input.feed_rate                     5816 non-null   float64\n",
            " 15  rougher.input.feed_size                     5834 non-null   float64\n",
            " 16  rougher.input.feed_sol                      5789 non-null   float64\n",
            " 17  rougher.input.feed_au                       5840 non-null   float64\n",
            " 18  rougher.input.floatbank10_sulfate           5599 non-null   float64\n",
            " 19  rougher.input.floatbank10_xanthate          5733 non-null   float64\n",
            " 20  rougher.input.floatbank11_sulfate           5801 non-null   float64\n",
            " 21  rougher.input.floatbank11_xanthate          5503 non-null   float64\n",
            " 22  rougher.state.floatbank10_a_air             5839 non-null   float64\n",
            " 23  rougher.state.floatbank10_a_level           5840 non-null   float64\n",
            " 24  rougher.state.floatbank10_b_air             5839 non-null   float64\n",
            " 25  rougher.state.floatbank10_b_level           5840 non-null   float64\n",
            " 26  rougher.state.floatbank10_c_air             5839 non-null   float64\n",
            " 27  rougher.state.floatbank10_c_level           5840 non-null   float64\n",
            " 28  rougher.state.floatbank10_d_air             5839 non-null   float64\n",
            " 29  rougher.state.floatbank10_d_level           5840 non-null   float64\n",
            " 30  rougher.state.floatbank10_e_air             5839 non-null   float64\n",
            " 31  rougher.state.floatbank10_e_level           5840 non-null   float64\n",
            " 32  rougher.state.floatbank10_f_air             5839 non-null   float64\n",
            " 33  rougher.state.floatbank10_f_level           5840 non-null   float64\n",
            " 34  secondary_cleaner.state.floatbank2_a_air    5836 non-null   float64\n",
            " 35  secondary_cleaner.state.floatbank2_a_level  5840 non-null   float64\n",
            " 36  secondary_cleaner.state.floatbank2_b_air    5833 non-null   float64\n",
            " 37  secondary_cleaner.state.floatbank2_b_level  5840 non-null   float64\n",
            " 38  secondary_cleaner.state.floatbank3_a_air    5822 non-null   float64\n",
            " 39  secondary_cleaner.state.floatbank3_a_level  5840 non-null   float64\n",
            " 40  secondary_cleaner.state.floatbank3_b_air    5840 non-null   float64\n",
            " 41  secondary_cleaner.state.floatbank3_b_level  5840 non-null   float64\n",
            " 42  secondary_cleaner.state.floatbank4_a_air    5840 non-null   float64\n",
            " 43  secondary_cleaner.state.floatbank4_a_level  5840 non-null   float64\n",
            " 44  secondary_cleaner.state.floatbank4_b_air    5840 non-null   float64\n",
            " 45  secondary_cleaner.state.floatbank4_b_level  5840 non-null   float64\n",
            " 46  secondary_cleaner.state.floatbank5_a_air    5840 non-null   float64\n",
            " 47  secondary_cleaner.state.floatbank5_a_level  5840 non-null   float64\n",
            " 48  secondary_cleaner.state.floatbank5_b_air    5840 non-null   float64\n",
            " 49  secondary_cleaner.state.floatbank5_b_level  5840 non-null   float64\n",
            " 50  secondary_cleaner.state.floatbank6_a_air    5840 non-null   float64\n",
            " 51  secondary_cleaner.state.floatbank6_a_level  5840 non-null   float64\n",
            " 52  rougher.output.recovery                     5310 non-null   float64\n",
            " 53  final.output.recovery                       5414 non-null   float64\n",
            "dtypes: float64(54)\n",
            "memory usage: 2.5+ MB\n"
          ],
          "name": "stdout"
        }
      ]
    },
    {
      "cell_type": "markdown",
      "metadata": {
        "id": "607F_bZMr7w8"
      },
      "source": [
        "Тестовая выборка содержит признаки, которые известны еще до запуска процесса, что вполне подходит для тестирования и обучения модели. \n",
        "Аналогичные признаки будем использовать и в обучающем наборе данных. "
      ]
    },
    {
      "cell_type": "markdown",
      "metadata": {
        "id": "W_aAzfk5k-jT"
      },
      "source": [
        "На этапе проверки расчета коофицента обогощения, были ошибки, которые указывали на наличие пустых признаков в данных, проверим и посчитаем долю пропусков."
      ]
    },
    {
      "cell_type": "code",
      "metadata": {
        "colab": {
          "base_uri": "https://localhost:8080/"
        },
        "id": "ktXMcCzaTeFY",
        "outputId": "04fff74f-5cad-4bfc-951a-f09312e7d16a"
      },
      "source": [
        "# проверка на пустые значения\n",
        "data_train.isna().mean().nlargest(15)"
      ],
      "execution_count": 18,
      "outputs": [
        {
          "output_type": "execute_result",
          "data": {
            "text/plain": [
              "rougher.output.recovery                   0.152610\n",
              "rougher.calculated.recovery               0.135409\n",
              "rougher.output.tail_ag                    0.133452\n",
              "rougher.output.tail_sol                   0.133393\n",
              "rougher.output.tail_au                    0.133393\n",
              "secondary_cleaner.output.tail_sol         0.117794\n",
              "rougher.input.floatbank11_xanthate        0.112930\n",
              "final.output.recovery                     0.090214\n",
              "primary_cleaner.input.sulfate             0.077521\n",
              "primary_cleaner.input.depressant          0.074852\n",
              "rougher.calculation.au_pb_ratio           0.073665\n",
              "rougher.input.floatbank10_sulfate         0.061922\n",
              "primary_cleaner.input.xanthate            0.058422\n",
              "primary_cleaner.output.concentrate_sol    0.037722\n",
              "rougher.input.floatbank11_sulfate         0.036951\n",
              "dtype: float64"
            ]
          },
          "metadata": {
            "tags": []
          },
          "execution_count": 18
        }
      ]
    },
    {
      "cell_type": "code",
      "metadata": {
        "colab": {
          "base_uri": "https://localhost:8080/"
        },
        "id": "v2n0IRBMk79p",
        "outputId": "a2919ad0-df02-4581-c361-62a2ae27ed22"
      },
      "source": [
        "# проверка на пустые значения\n",
        "data_test.isna().mean().nlargest(15)"
      ],
      "execution_count": 19,
      "outputs": [
        {
          "output_type": "execute_result",
          "data": {
            "text/plain": [
              "rougher.output.recovery                     0.093238\n",
              "final.output.recovery                       0.075478\n",
              "rougher.input.floatbank11_xanthate          0.060280\n",
              "primary_cleaner.input.sulfate               0.051571\n",
              "primary_cleaner.input.depressant            0.048497\n",
              "rougher.input.floatbank10_sulfate           0.043887\n",
              "primary_cleaner.input.xanthate              0.028347\n",
              "rougher.input.floatbank10_xanthate          0.021004\n",
              "rougher.input.feed_sol                      0.011441\n",
              "rougher.input.floatbank11_sulfate           0.009392\n",
              "rougher.input.feed_rate                     0.006831\n",
              "secondary_cleaner.state.floatbank3_a_air    0.005806\n",
              "secondary_cleaner.state.floatbank2_b_air    0.003928\n",
              "rougher.input.feed_size                     0.003757\n",
              "secondary_cleaner.state.floatbank2_a_air    0.003415\n",
              "dtype: float64"
            ]
          },
          "metadata": {
            "tags": []
          },
          "execution_count": 19
        }
      ]
    },
    {
      "cell_type": "code",
      "metadata": {
        "colab": {
          "base_uri": "https://localhost:8080/"
        },
        "id": "Jj-Ip1POOPqb",
        "outputId": "61720835-1d3b-4538-b0bc-2e383da85d2d"
      },
      "source": [
        "# проверка на пустые значения\n",
        "data_full.isna().mean().nlargest(15)"
      ],
      "execution_count": 20,
      "outputs": [
        {
          "output_type": "execute_result",
          "data": {
            "text/plain": [
              "rougher.output.recovery                   0.137304\n",
              "rougher.output.tail_ag                    0.120488\n",
              "rougher.output.tail_sol                   0.120444\n",
              "rougher.output.tail_au                    0.120444\n",
              "rougher.input.floatbank11_xanthate        0.099357\n",
              "secondary_cleaner.output.tail_sol         0.097508\n",
              "final.output.recovery                     0.086415\n",
              "rougher.calculation.au_pb_ratio           0.071624\n",
              "primary_cleaner.input.sulfate             0.070831\n",
              "primary_cleaner.input.depressant          0.068058\n",
              "rougher.input.floatbank10_sulfate         0.057272\n",
              "primary_cleaner.input.xanthate            0.050669\n",
              "primary_cleaner.output.concentrate_sol    0.035129\n",
              "rougher.input.floatbank11_sulfate         0.029847\n",
              "rougher.state.floatbank10_e_air           0.027294\n",
              "dtype: float64"
            ]
          },
          "metadata": {
            "tags": []
          },
          "execution_count": 20
        }
      ]
    },
    {
      "cell_type": "code",
      "metadata": {
        "colab": {
          "base_uri": "https://localhost:8080/"
        },
        "id": "p_zLDZCQmBTr",
        "outputId": "04fce4ca-06db-484b-d1b0-4fef7c5204f0"
      },
      "source": [
        "# проверка на дубликаты\n",
        "data_train.duplicated().mean()"
      ],
      "execution_count": 21,
      "outputs": [
        {
          "output_type": "execute_result",
          "data": {
            "text/plain": [
              "0.0009489916963226571"
            ]
          },
          "metadata": {
            "tags": []
          },
          "execution_count": 21
        }
      ]
    },
    {
      "cell_type": "code",
      "metadata": {
        "id": "PxBAsdQ0mfS0"
      },
      "source": [
        "# проверка на дубликаты\n",
        "data_test.drop_duplicates(inplace=True)"
      ],
      "execution_count": 22,
      "outputs": []
    },
    {
      "cell_type": "code",
      "metadata": {
        "colab": {
          "base_uri": "https://localhost:8080/"
        },
        "id": "TOv_-aiymgZ2",
        "outputId": "04038b93-8956-430e-8e34-31b156806eb9"
      },
      "source": [
        "# проверка на дубликаты\n",
        "data_full.duplicated().mean()"
      ],
      "execution_count": 23,
      "outputs": [
        {
          "output_type": "execute_result",
          "data": {
            "text/plain": [
              "0.0009684803662616658"
            ]
          },
          "metadata": {
            "tags": []
          },
          "execution_count": 23
        }
      ]
    },
    {
      "cell_type": "markdown",
      "metadata": {
        "id": "7FLrAsGzYaO8"
      },
      "source": [
        "Заполним NaN методом линейной интерполяции"
      ]
    },
    {
      "cell_type": "code",
      "metadata": {
        "id": "ljzK7ksYnRQm"
      },
      "source": [
        "data_train=data_train.interpolate(method='linear')"
      ],
      "execution_count": 24,
      "outputs": []
    },
    {
      "cell_type": "code",
      "metadata": {
        "colab": {
          "base_uri": "https://localhost:8080/"
        },
        "id": "n_mNd6BZAZFH",
        "outputId": "7b542e7c-438e-42e5-8d30-0ffbf451dd69"
      },
      "source": [
        "data_train['rougher.output.recovery']"
      ],
      "execution_count": 25,
      "outputs": [
        {
          "output_type": "execute_result",
          "data": {
            "text/plain": [
              "date\n",
              "2016-01-15 00:00:00    87.107763\n",
              "2016-01-15 01:00:00    86.843261\n",
              "2016-01-15 02:00:00    86.842308\n",
              "2016-01-15 03:00:00    87.226430\n",
              "2016-01-15 04:00:00    86.688794\n",
              "                         ...    \n",
              "2018-08-18 06:59:59    89.574376\n",
              "2018-08-18 07:59:59    87.724007\n",
              "2018-08-18 08:59:59    88.890579\n",
              "2018-08-18 09:59:59    89.858126\n",
              "2018-08-18 10:59:59    89.514960\n",
              "Name: rougher.output.recovery, Length: 16860, dtype: float64"
            ]
          },
          "metadata": {
            "tags": []
          },
          "execution_count": 25
        }
      ]
    },
    {
      "cell_type": "markdown",
      "metadata": {
        "id": "QoBhWn56Ynk1"
      },
      "source": [
        "Из тестовой выборки удалим все пустые значения."
      ]
    },
    {
      "cell_type": "code",
      "metadata": {
        "colab": {
          "base_uri": "https://localhost:8080/"
        },
        "id": "HoIpYhIQyu07",
        "outputId": "87514823-0099-4aee-d778-4826c7ce140d"
      },
      "source": [
        "data_test.dropna(inplace=True)\n",
        "data_test.isna().mean().nlargest(15)"
      ],
      "execution_count": 26,
      "outputs": [
        {
          "output_type": "execute_result",
          "data": {
            "text/plain": [
              "primary_cleaner.input.sulfate               0.0\n",
              "primary_cleaner.input.depressant            0.0\n",
              "primary_cleaner.input.feed_size             0.0\n",
              "primary_cleaner.input.xanthate              0.0\n",
              "primary_cleaner.state.floatbank8_a_air      0.0\n",
              "primary_cleaner.state.floatbank8_a_level    0.0\n",
              "primary_cleaner.state.floatbank8_b_air      0.0\n",
              "primary_cleaner.state.floatbank8_b_level    0.0\n",
              "primary_cleaner.state.floatbank8_c_air      0.0\n",
              "primary_cleaner.state.floatbank8_c_level    0.0\n",
              "primary_cleaner.state.floatbank8_d_air      0.0\n",
              "primary_cleaner.state.floatbank8_d_level    0.0\n",
              "rougher.input.feed_ag                       0.0\n",
              "rougher.input.feed_pb                       0.0\n",
              "rougher.input.feed_rate                     0.0\n",
              "dtype: float64"
            ]
          },
          "metadata": {
            "tags": []
          },
          "execution_count": 26
        }
      ]
    },
    {
      "cell_type": "code",
      "metadata": {
        "colab": {
          "base_uri": "https://localhost:8080/"
        },
        "id": "mIlPbKWEraMx",
        "outputId": "083d36e7-b166-48e7-d88e-4a1d52fa3722"
      },
      "source": [
        "len(data_test)"
      ],
      "execution_count": 27,
      "outputs": [
        {
          "output_type": "execute_result",
          "data": {
            "text/plain": [
              "5229"
            ]
          },
          "metadata": {
            "tags": []
          },
          "execution_count": 27
        }
      ]
    },
    {
      "cell_type": "code",
      "metadata": {
        "colab": {
          "base_uri": "https://localhost:8080/"
        },
        "id": "DuYki-6Krcqe",
        "outputId": "bb79f8ac-b304-49fe-8ba3-4ad4230afcf9"
      },
      "source": [
        "len(data_train)"
      ],
      "execution_count": 28,
      "outputs": [
        {
          "output_type": "execute_result",
          "data": {
            "text/plain": [
              "16860"
            ]
          },
          "metadata": {
            "tags": []
          },
          "execution_count": 28
        }
      ]
    },
    {
      "cell_type": "markdown",
      "metadata": {
        "id": "H1Jub0vzsK6V"
      },
      "source": [
        "# 2.1. Посмотрите, как меняется концентрация металлов (Au, Ag, Pb) на различных этапах очистки. Опишите выводы."
      ]
    },
    {
      "cell_type": "markdown",
      "metadata": {
        "id": "keO4_60VsdIa"
      },
      "source": [
        "У нас есть два этапа очистки, первый и второй.\n",
        "построи график дл этих этапов"
      ]
    },
    {
      "cell_type": "code",
      "metadata": {
        "id": "xUUg1929ENuE"
      },
      "source": [
        "sns.set_theme(style=\"darkgrid\")"
      ],
      "execution_count": 29,
      "outputs": []
    },
    {
      "cell_type": "code",
      "metadata": {
        "id": "r_nHjHsyBbhL"
      },
      "source": [
        "data_ag = data_train[['rougher.input.feed_ag','rougher.output.concentrate_ag','primary_cleaner.output.concentrate_ag','final.output.concentrate_ag']]"
      ],
      "execution_count": 30,
      "outputs": []
    },
    {
      "cell_type": "code",
      "metadata": {
        "colab": {
          "base_uri": "https://localhost:8080/",
          "height": 355
        },
        "id": "QgqBlVXHBx6U",
        "outputId": "492a0fd8-9df0-418e-c130-a3e519595f91"
      },
      "source": [
        "fig, ax1 = plt.subplots(figsize=(15,5))\n",
        "sns.histplot(data=data_ag,alpha=.8)\n",
        "ax1.set_title('Ag Concetration')\n"
      ],
      "execution_count": 31,
      "outputs": [
        {
          "output_type": "execute_result",
          "data": {
            "text/plain": [
              "Text(0.5, 1.0, 'Ag Concetration')"
            ]
          },
          "metadata": {
            "tags": []
          },
          "execution_count": 31
        },
        {
          "output_type": "display_data",
          "data": {
            "image/png": "[encoded data removed]",
            "text/plain": [
              "<Figure size 1080x360 with 1 Axes>"
            ]
          },
          "metadata": {
            "tags": []
          }
        }
      ]
    },
    {
      "cell_type": "code",
      "metadata": {
        "id": "Pi5mjIewCz0U"
      },
      "source": [
        "data_au = data_train[['rougher.input.feed_au','rougher.output.concentrate_au','primary_cleaner.output.concentrate_au','final.output.concentrate_au']]"
      ],
      "execution_count": 32,
      "outputs": []
    },
    {
      "cell_type": "code",
      "metadata": {
        "colab": {
          "base_uri": "https://localhost:8080/",
          "height": 355
        },
        "id": "Vyo-XPfCCtnN",
        "outputId": "71abf32c-d6e6-4002-d3f5-8b948558b822"
      },
      "source": [
        "fig, ax2 = plt.subplots(1,figsize=(15,5))\n",
        "sns.histplot(data=data_au)\n",
        "ax2.set_title('Au Concetration')\n"
      ],
      "execution_count": 33,
      "outputs": [
        {
          "output_type": "execute_result",
          "data": {
            "text/plain": [
              "Text(0.5, 1.0, 'Au Concetration')"
            ]
          },
          "metadata": {
            "tags": []
          },
          "execution_count": 33
        },
        {
          "output_type": "display_data",
          "data": {
            "image/png": "[encoded data removed]",
            "text/plain": [
              "<Figure size 1080x360 with 1 Axes>"
            ]
          },
          "metadata": {
            "tags": []
          }
        }
      ]
    },
    {
      "cell_type": "code",
      "metadata": {
        "id": "veh6x0cWDUAi"
      },
      "source": [
        "data_pb = data_train[['rougher.input.feed_pb','primary_cleaner.output.concentrate_pb','rougher.output.concentrate_pb','final.output.concentrate_pb']]"
      ],
      "execution_count": 34,
      "outputs": []
    },
    {
      "cell_type": "code",
      "metadata": {
        "colab": {
          "base_uri": "https://localhost:8080/",
          "height": 355
        },
        "id": "RkRvPL1TDgJR",
        "outputId": "927e04ed-7acb-4455-bc28-03d2c31f96ef"
      },
      "source": [
        "fig, ax3 = plt.subplots(1,figsize=(15,5))\n",
        "sns.histplot(data=data_pb,ax=ax3)\n",
        "ax3.set_title('Pb Concetration')\n"
      ],
      "execution_count": 35,
      "outputs": [
        {
          "output_type": "execute_result",
          "data": {
            "text/plain": [
              "Text(0.5, 1.0, 'Pb Concetration')"
            ]
          },
          "metadata": {
            "tags": []
          },
          "execution_count": 35
        },
        {
          "output_type": "display_data",
          "data": {
            "image/png": "[encoded data removed]",
            "text/plain": [
              "<Figure size 1080x360 with 1 Axes>"
            ]
          },
          "metadata": {
            "tags": []
          }
        }
      ]
    },
    {
      "cell_type": "markdown",
      "metadata": {
        "id": "KsYVifsCIGa7"
      },
      "source": [
        "1. Концентрация серербра Ag \n",
        "\n",
        "Уровень серебра заметно уменьшается после второй очистики. Среднее значение уменьшается. На графике видно как после каждого этапа график смещается в лево.\n",
        "2. Концентрация золота Au\n",
        "\n",
        "Гистограмма золота как и серебра показывает изменения. Средний показатель увеличился, от этого график значительно сместился вправо. Разброс значений уменьшился. Это говорит о том, что доля золота в концентрате увеличивается на каждом этапе процеса очистки.\n",
        "\n",
        "3. Свенец Pb\n",
        "Гистограмма сместилась вправо, разброс данных немного уменьшился. Но из-за того что график сдвинулся вправо, похоже, что доля свенца в концентрате увеличилась, вероятно это из-за технологии флотации.\n",
        "\n",
        "\n",
        "Еще на всех трех графиках есть пики на нулевых значениях. Это не похоже на истинные данные. Нулевые значения больше похожи на ошибки измерения или их отсутвие, возможно стоит от них мзбавится."
      ]
    },
    {
      "cell_type": "markdown",
      "metadata": {
        "id": "T7gPenvFAZFJ"
      },
      "source": [
        "<div class=\"alert alert-block alert-info\">\n",
        "<b>Совет: </b> Гистограммы получились неплохо, но я бы сделал из полупрозрачными: параметр \"alpha\".\n",
        "</div>"
      ]
    },
    {
      "cell_type": "markdown",
      "metadata": {
        "id": "oxNwgun6AZFK"
      },
      "source": [
        "<div class=\"alert alert-block alert-warning\">\n",
        "<b>Изменения:</b> Поигрался с прозрачностью, оставил в первом графике. В целом думаю надо цвета подобрать другие.\n",
        "</div>"
      ]
    },
    {
      "cell_type": "markdown",
      "metadata": {
        "id": "i0Cnlo2nrQe_"
      },
      "source": [
        "# 2.2 Сравнение размеров гранул сырья"
      ]
    },
    {
      "cell_type": "code",
      "metadata": {
        "colab": {
          "base_uri": "https://localhost:8080/",
          "height": 372
        },
        "id": "gpL5Fn-Cu-if",
        "outputId": "581282d2-c6d5-48a9-e3f8-07dc321f4b18"
      },
      "source": [
        "fig, ax4 = plt.subplots(1,figsize=(15,5))\n",
        "sns.histplot(data_train['rougher.input.feed_size'],label='train',color='red',alpha=0.6)\n",
        "sns.histplot(data_test['rougher.input.feed_size'],label='test',color='green',alpha=0.6)\n",
        "ax4.set_title('deferent feed size train and test')\n",
        "ax4.legend()"
      ],
      "execution_count": 36,
      "outputs": [
        {
          "output_type": "execute_result",
          "data": {
            "text/plain": [
              "<matplotlib.legend.Legend at 0x7fc1f1923c50>"
            ]
          },
          "metadata": {
            "tags": []
          },
          "execution_count": 36
        },
        {
          "output_type": "display_data",
          "data": {
            "image/png": "[encoded data removed]",
            "text/plain": [
              "<Figure size 1080x360 with 1 Axes>"
            ]
          },
          "metadata": {
            "tags": []
          }
        }
      ]
    },
    {
      "cell_type": "markdown",
      "metadata": {
        "id": "4wHnzR0yEAZ6"
      },
      "source": [
        "Распределение значения размера гранул  на обучающем и тестовом наборах данных схожи между собой"
      ]
    },
    {
      "cell_type": "markdown",
      "metadata": {
        "id": "Nda258kyFhX8"
      },
      "source": [
        "# 2.3. Исследования суммарной концентрации всех веществ на разных стадиях"
      ]
    },
    {
      "cell_type": "markdown",
      "metadata": {
        "id": "VITfpfACFuGC"
      },
      "source": [
        "У нас есть три стадии обработки сырья.\n",
        "\n",
        "\n",
        "1.   Первая стадия - обогощение, флотация. Итог - черновой концентрат\n",
        "2.   Вторая стадия - первый этап очистки. Итог - очищеный концентрат\n",
        "3.   Третья стадия - второй этап очистки. Итог - финальный концентрат \n",
        "\n",
        "Вычислим для каждой стадии суммарное значение и построим  гистограмму и боксплот.\n"
      ]
    },
    {
      "cell_type": "code",
      "metadata": {
        "id": "MGGXimDZHqsz"
      },
      "source": [
        "stage_concentration = pd.DataFrame(columns = ['input','rougher','primary','final'])"
      ],
      "execution_count": 37,
      "outputs": []
    },
    {
      "cell_type": "code",
      "metadata": {
        "id": "Sd64FabVtcxI"
      },
      "source": [
        "data_train['rougher_sum'] = data_train['rougher.output.concentrate_pb'] +\\\n",
        "                    data_train['rougher.output.concentrate_ag'] +\\\n",
        "                    data_train['rougher.output.concentrate_au'] +\\\n",
        "                    data_train['rougher.output.concentrate_sol']"
      ],
      "execution_count": 38,
      "outputs": []
    },
    {
      "cell_type": "code",
      "metadata": {
        "id": "0ydtz6NtHgSh"
      },
      "source": [
        "data_train['primary_sum'] = data_train['primary_cleaner.output.concentrate_pb'] +\\\n",
        "                    data_train['primary_cleaner.output.concentrate_ag'] +\\\n",
        "                    data_train['primary_cleaner.output.concentrate_au'] +\\\n",
        "                    data_train['primary_cleaner.output.concentrate_sol']"
      ],
      "execution_count": 39,
      "outputs": []
    },
    {
      "cell_type": "code",
      "metadata": {
        "id": "423QJYaDInqm"
      },
      "source": [
        "data_train['final_sum'] = data_train['final.output.concentrate_pb'] +\\\n",
        "                    data_train['final.output.concentrate_ag'] +\\\n",
        "                    data_train['final.output.concentrate_au'] +\\\n",
        "                    data_train['final.output.concentrate_sol']"
      ],
      "execution_count": 40,
      "outputs": []
    },
    {
      "cell_type": "code",
      "metadata": {
        "id": "0xIIUWNUJVhA"
      },
      "source": [
        "data_train['input_sum'] = data_train['rougher.input.feed_pb'] +\\\n",
        "                    data_train['rougher.input.feed_ag'] +\\\n",
        "                    data_train['rougher.input.feed_au'] +\\\n",
        "                    data_train['rougher.input.feed_sol']"
      ],
      "execution_count": 41,
      "outputs": []
    },
    {
      "cell_type": "code",
      "metadata": {
        "id": "xeYRPdT0Xvn9"
      },
      "source": [
        "stage_concentration = data_train.loc[:,['input_sum','rougher_sum','primary_sum','final_sum']]"
      ],
      "execution_count": 42,
      "outputs": []
    },
    {
      "cell_type": "code",
      "metadata": {
        "id": "GjC2KqBmMFfz",
        "outputId": "e20b8a49-e848-4132-e6b6-b80826c5a245",
        "colab": {
          "base_uri": "https://localhost:8080/",
          "height": 382
        }
      },
      "source": [
        "sns.displot(data=stage_concentration, aspect=2, kde=True, alpha = 0.3)"
      ],
      "execution_count": 43,
      "outputs": [
        {
          "output_type": "execute_result",
          "data": {
            "text/plain": [
              "<seaborn.axisgrid.FacetGrid at 0x7fc1f368c7d0>"
            ]
          },
          "metadata": {
            "tags": []
          },
          "execution_count": 43
        },
        {
          "output_type": "display_data",
          "data": {
            "image/png": "[encoded data removed]",
            "text/plain": [
              "<Figure size 831.975x360 with 1 Axes>"
            ]
          },
          "metadata": {
            "tags": []
          }
        }
      ]
    },
    {
      "cell_type": "code",
      "metadata": {
        "colab": {
          "base_uri": "https://localhost:8080/",
          "height": 394
        },
        "id": "L9sG2jywNiUf",
        "outputId": "6b95f635-ffca-4485-c559-f3f48d2eb1f7"
      },
      "source": [
        "sns.set(style=\"whitegrid\")\n",
        "plt.figure(figsize=(14,6))\n",
        "sns.boxplot(data=stage_concentration,width=0.5)"
      ],
      "execution_count": 44,
      "outputs": [
        {
          "output_type": "execute_result",
          "data": {
            "text/plain": [
              "<matplotlib.axes._subplots.AxesSubplot at 0x7fc1f1004750>"
            ]
          },
          "metadata": {
            "tags": []
          },
          "execution_count": 44
        },
        {
          "output_type": "display_data",
          "data": {
            "image/png": "[encoded data removed]",
            "text/plain": [
              "<Figure size 1008x432 with 1 Axes>"
            ]
          },
          "metadata": {
            "tags": []
          }
        }
      ]
    },
    {
      "cell_type": "markdown",
      "metadata": {
        "id": "SixV4HAmZZHJ"
      },
      "source": [
        "На графике очень хорошо видно \"свечку\" с нулевыми или близкими к 0 показателями, как следствие ошибок при занесении данных или их отсутсвии. Такие данны для нас бесполезны, придется удалить."
      ]
    },
    {
      "cell_type": "markdown",
      "metadata": {
        "id": "EwAMFoBziVil"
      },
      "source": [
        "Удалим все выбросы. Так как на каждом этапе происходит измерение результата этапа и внесение данных, некорректные значения будем удалять для каждого этапа. Порог будет 0.1, соответсвенно если на одном из этапов сумарное значение концентрата веществ меньше или равно 0.1 для нас это будет означать, что на данном этапе были внесены не корректные данные."
      ]
    },
    {
      "cell_type": "code",
      "metadata": {
        "id": "HCyqA70GJ7A1"
      },
      "source": [
        "data_train.drop(data_train.loc[data_train['rougher_sum'] <=0.1].index,inplace=True)\n",
        "data_train.drop(data_train.loc[data_train['primary_sum'] <= 0.1].index,inplace=True)\n",
        "data_train.drop(data_train.loc[data_train['final_sum'] <= 0.1].index,inplace=True)\n",
        "data_train.drop(data_train.loc[data_train['input_sum'] <= 0.1].index,inplace=True)"
      ],
      "execution_count": 45,
      "outputs": []
    },
    {
      "cell_type": "code",
      "metadata": {
        "colab": {
          "base_uri": "https://localhost:8080/"
        },
        "id": "yd4RHPAOmDYs",
        "outputId": "38e109e0-e707-4f2f-de32-d1b5024374b7"
      },
      "source": [
        "len(data_train)"
      ],
      "execution_count": 46,
      "outputs": [
        {
          "output_type": "execute_result",
          "data": {
            "text/plain": [
              "14362"
            ]
          },
          "metadata": {
            "tags": []
          },
          "execution_count": 46
        }
      ]
    },
    {
      "cell_type": "code",
      "metadata": {
        "colab": {
          "base_uri": "https://localhost:8080/"
        },
        "id": "2rFm83sEmNcY",
        "outputId": "a017d2de-6d3a-4941-e207-8ec67b463def"
      },
      "source": [
        "(16860-14362)/16860"
      ],
      "execution_count": 47,
      "outputs": [
        {
          "output_type": "execute_result",
          "data": {
            "text/plain": [
              "0.14816132858837486"
            ]
          },
          "metadata": {
            "tags": []
          },
          "execution_count": 47
        }
      ]
    },
    {
      "cell_type": "code",
      "metadata": {
        "id": "rgSIYnqeTtSp"
      },
      "source": [
        "stage_concentration = data_train.loc[:,['input_sum','rougher_sum','primary_sum','final_sum']]"
      ],
      "execution_count": 48,
      "outputs": []
    },
    {
      "cell_type": "code",
      "metadata": {
        "colab": {
          "base_uri": "https://localhost:8080/",
          "height": 382
        },
        "id": "QaDlRS7jTg7F",
        "outputId": "fdb02524-840e-4681-c072-57be8f794ead"
      },
      "source": [
        "sns.displot(data=stage_concentration, aspect=2, kde=True, alpha = 0.3)"
      ],
      "execution_count": 49,
      "outputs": [
        {
          "output_type": "execute_result",
          "data": {
            "text/plain": [
              "<seaborn.axisgrid.FacetGrid at 0x7fc1f11df990>"
            ]
          },
          "metadata": {
            "tags": []
          },
          "execution_count": 49
        },
        {
          "output_type": "display_data",
          "data": {
            "image/png": "[encoded data removed]",
            "text/plain": [
              "<Figure size 831.975x360 with 1 Axes>"
            ]
          },
          "metadata": {
            "tags": []
          }
        }
      ]
    },
    {
      "cell_type": "markdown",
      "metadata": {
        "id": "HL6nWVbJPsSb"
      },
      "source": [
        "\n",
        "\n",
        "После удаление нулевых строк, выброс стал гораздо меньше, но и данных уже тоже меньше). Нам пришлось удалить 15 % данных\n"
      ]
    },
    {
      "cell_type": "markdown",
      "metadata": {
        "id": "Gu17124Mr0yD"
      },
      "source": [
        "# 3. Построение модели."
      ]
    },
    {
      "cell_type": "markdown",
      "metadata": {
        "id": "tZt5IAyRr6ho"
      },
      "source": [
        "Функция подсчета sMAPE.\n",
        "\n",
        "Для опеределения лучшей модели будем использовать эту функцию. Данная метрика покажет нам процент ошибок в предсказания модели. Идеальным показателем для модели бедт значение 0 "
      ]
    },
    {
      "cell_type": "code",
      "metadata": {
        "id": "mL269e6hlee8"
      },
      "source": [
        "def smape_final(p, t):\n",
        "     return 1/len(p) * (sum((2*abs(t - p))*100 / (abs(p) + abs(t))))"
      ],
      "execution_count": 50,
      "outputs": []
    },
    {
      "cell_type": "code",
      "metadata": {
        "id": "spfYtQmFr4q8"
      },
      "source": [
        "def smape(y_true,y_predict):\n",
        "  if len(y_true) != len(y_predict):\n",
        "    return \"разная длина массивов\"\n",
        "  \n",
        "  result_rougher = smape_final(y_true['rougher.output.recovery'],y_predict[:,0])\n",
        "  result_final = smape_final(y_true['final.output.recovery'],y_predict[:,1])\n",
        "  \n",
        "\n",
        "  result = (0.25*result_rougher + 0.75*result_final)\n",
        "  return result"
      ],
      "execution_count": 51,
      "outputs": []
    },
    {
      "cell_type": "markdown",
      "metadata": {
        "id": "GhKhgOgAr4Zm"
      },
      "source": [
        "# Подготовим наборы для обучения"
      ]
    },
    {
      "cell_type": "markdown",
      "metadata": {
        "id": "A1nG1nnucB2J"
      },
      "source": [
        ""
      ]
    },
    {
      "cell_type": "markdown",
      "metadata": {
        "id": "gpRvfdiGsJtV"
      },
      "source": [
        "\n",
        "\n",
        "1.   Для начала подгтовим тестовы набор данных, затем по нему определим признаки для тренировочного.\n",
        "\n",
        "\n",
        "\n"
      ]
    },
    {
      "cell_type": "code",
      "metadata": {
        "colab": {
          "base_uri": "https://localhost:8080/"
        },
        "id": "xAjYpHPkMvUM",
        "outputId": "2658bc8d-f454-4b86-f5b7-e51b42a17f04"
      },
      "source": [
        "data_train.isna().mean().nlargest(15)"
      ],
      "execution_count": 52,
      "outputs": [
        {
          "output_type": "execute_result",
          "data": {
            "text/plain": [
              "final.output.concentrate_ag              0.0\n",
              "final.output.concentrate_pb              0.0\n",
              "final.output.concentrate_sol             0.0\n",
              "final.output.concentrate_au              0.0\n",
              "final.output.recovery                    0.0\n",
              "final.output.tail_ag                     0.0\n",
              "final.output.tail_pb                     0.0\n",
              "final.output.tail_sol                    0.0\n",
              "final.output.tail_au                     0.0\n",
              "primary_cleaner.input.sulfate            0.0\n",
              "primary_cleaner.input.depressant         0.0\n",
              "primary_cleaner.input.feed_size          0.0\n",
              "primary_cleaner.input.xanthate           0.0\n",
              "primary_cleaner.output.concentrate_ag    0.0\n",
              "primary_cleaner.output.concentrate_pb    0.0\n",
              "dtype: float64"
            ]
          },
          "metadata": {
            "tags": []
          },
          "execution_count": 52
        }
      ]
    },
    {
      "cell_type": "code",
      "metadata": {
        "id": "kGG6yQG4uB_-"
      },
      "source": [
        "data_train = shuffle(data_train)"
      ],
      "execution_count": 53,
      "outputs": []
    },
    {
      "cell_type": "code",
      "metadata": {
        "id": "j8lRnJZNuOLI"
      },
      "source": [
        "data_test = shuffle(data_test)"
      ],
      "execution_count": 54,
      "outputs": []
    },
    {
      "cell_type": "code",
      "metadata": {
        "id": "5ERkMPCi4wyZ"
      },
      "source": [
        "x_test = data_test.drop(['rougher.output.recovery','final.output.recovery'],axis=1)\n",
        "y_test = data_test[['rougher.output.recovery','final.output.recovery']]"
      ],
      "execution_count": 55,
      "outputs": []
    },
    {
      "cell_type": "code",
      "metadata": {
        "id": "qpFl3D6ErTet"
      },
      "source": [
        "# подготовка тренеровочного набора.\n",
        "x_train = data_train[x_test.columns]\n",
        "y_train = data_train[['rougher.output.recovery','final.output.recovery']]"
      ],
      "execution_count": 56,
      "outputs": []
    },
    {
      "cell_type": "code",
      "metadata": {
        "colab": {
          "base_uri": "https://localhost:8080/"
        },
        "id": "WTNUEP3rtQRH",
        "outputId": "eb4c8d83-684f-47d0-8022-93b5173b5e85"
      },
      "source": [
        "len(y_train)"
      ],
      "execution_count": 57,
      "outputs": [
        {
          "output_type": "execute_result",
          "data": {
            "text/plain": [
              "14362"
            ]
          },
          "metadata": {
            "tags": []
          },
          "execution_count": 57
        }
      ]
    },
    {
      "cell_type": "markdown",
      "metadata": {
        "id": "WUKQKdA8dOce"
      },
      "source": [
        "Обучать будем три модели\n",
        "MultiOutputRegressor и RandomForestRegressor Treedesigen.\n",
        "\n",
        "\n"
      ]
    },
    {
      "cell_type": "markdown",
      "metadata": {
        "id": "zdxSa7Aq71CH"
      },
      "source": [
        "Линейная регрессия"
      ]
    },
    {
      "cell_type": "code",
      "metadata": {
        "colab": {
          "base_uri": "https://localhost:8080/"
        },
        "id": "JFxnCRPlv6LL",
        "outputId": "c0d7eb56-9fe3-45df-d74c-3620473df20f"
      },
      "source": [
        "lr  = MultiOutputRegressor(LinearRegression(normalize=True))\n",
        "lr.fit(x_train, y_train)"
      ],
      "execution_count": 58,
      "outputs": [
        {
          "output_type": "execute_result",
          "data": {
            "text/plain": [
              "MultiOutputRegressor(estimator=LinearRegression(copy_X=True, fit_intercept=True,\n",
              "                                                n_jobs=None, normalize=True),\n",
              "                     n_jobs=None)"
            ]
          },
          "metadata": {
            "tags": []
          },
          "execution_count": 58
        }
      ]
    },
    {
      "cell_type": "code",
      "metadata": {
        "id": "wp34HrYj4otn"
      },
      "source": [
        "predict_lr = lr.predict(x_train)"
      ],
      "execution_count": 59,
      "outputs": []
    },
    {
      "cell_type": "code",
      "metadata": {
        "colab": {
          "base_uri": "https://localhost:8080/"
        },
        "id": "o6FhkgE242Ue",
        "outputId": "d78b84ca-bf77-450c-f9d4-47f06fb54d3c"
      },
      "source": [
        "smape(y_train,predict_lr)"
      ],
      "execution_count": 60,
      "outputs": [
        {
          "output_type": "execute_result",
          "data": {
            "text/plain": [
              "7.620775552632167"
            ]
          },
          "metadata": {
            "tags": []
          },
          "execution_count": 60
        }
      ]
    },
    {
      "cell_type": "markdown",
      "metadata": {
        "id": "6d3ywdhJ7nwg"
      },
      "source": [
        "Модель случайный лес"
      ]
    },
    {
      "cell_type": "code",
      "metadata": {
        "id": "SETS0e2RtyKt"
      },
      "source": [
        "gyperparams = [{'n_estimators': range(1,50,10),'max_depth': range(1,40,10)}]\n",
        "clf = RandomForestRegressor(random_state=12345)"
      ],
      "execution_count": 61,
      "outputs": []
    },
    {
      "cell_type": "code",
      "metadata": {
        "id": "X8nGZ6V6uPI0"
      },
      "source": [
        "#  так как наша задача минимизировать показатель smape, будем использовать параметр greater_is_better = False\n",
        "grid = GridSearchCV(clf,gyperparams,scoring=make_scorer(smape,greater_is_better=False),cv=3)"
      ],
      "execution_count": 62,
      "outputs": []
    },
    {
      "cell_type": "code",
      "metadata": {
        "colab": {
          "base_uri": "https://localhost:8080/"
        },
        "id": "RpY2ba4gvQus",
        "outputId": "27ebdc1f-799c-4e9b-b1ed-7659646c775e"
      },
      "source": [
        "\n",
        "%time grid.fit(x_train,y_train)"
      ],
      "execution_count": 63,
      "outputs": [
        {
          "output_type": "stream",
          "text": [
            "CPU times: user 8min 9s, sys: 233 ms, total: 8min 9s\n",
            "Wall time: 8min 11s\n"
          ],
          "name": "stdout"
        },
        {
          "output_type": "execute_result",
          "data": {
            "text/plain": [
              "GridSearchCV(cv=3, error_score=nan,\n",
              "             estimator=RandomForestRegressor(bootstrap=True, ccp_alpha=0.0,\n",
              "                                             criterion='mse', max_depth=None,\n",
              "                                             max_features='auto',\n",
              "                                             max_leaf_nodes=None,\n",
              "                                             max_samples=None,\n",
              "                                             min_impurity_decrease=0.0,\n",
              "                                             min_impurity_split=None,\n",
              "                                             min_samples_leaf=1,\n",
              "                                             min_samples_split=2,\n",
              "                                             min_weight_fraction_leaf=0.0,\n",
              "                                             n_estimators=100, n_jobs=None,\n",
              "                                             oob_score=False,\n",
              "                                             random_state=12345, verbose=0,\n",
              "                                             warm_start=False),\n",
              "             iid='deprecated', n_jobs=None,\n",
              "             param_grid=[{'max_depth': range(1, 40, 10),\n",
              "                          'n_estimators': range(1, 50, 10)}],\n",
              "             pre_dispatch='2*n_jobs', refit=True, return_train_score=False,\n",
              "             scoring=make_scorer(smape, greater_is_better=False), verbose=0)"
            ]
          },
          "metadata": {
            "tags": []
          },
          "execution_count": 63
        }
      ]
    },
    {
      "cell_type": "code",
      "metadata": {
        "colab": {
          "base_uri": "https://localhost:8080/"
        },
        "id": "nEC9P78KraFd",
        "outputId": "13fa6938-1a8a-49a3-d715-8a3e718e1f1c"
      },
      "source": [
        "grid.best_score_ *-1"
      ],
      "execution_count": 64,
      "outputs": [
        {
          "output_type": "execute_result",
          "data": {
            "text/plain": [
              "5.421992198974851"
            ]
          },
          "metadata": {
            "tags": []
          },
          "execution_count": 64
        }
      ]
    },
    {
      "cell_type": "code",
      "metadata": {
        "colab": {
          "base_uri": "https://localhost:8080/"
        },
        "id": "A_2ZPtxZruCG",
        "outputId": "04e541bb-d44b-496c-cd19-95abd5a3b125"
      },
      "source": [
        "grid.best_params_"
      ],
      "execution_count": 65,
      "outputs": [
        {
          "output_type": "execute_result",
          "data": {
            "text/plain": [
              "{'max_depth': 31, 'n_estimators': 41}"
            ]
          },
          "metadata": {
            "tags": []
          },
          "execution_count": 65
        }
      ]
    },
    {
      "cell_type": "markdown",
      "metadata": {
        "id": "J-PBNwSL7kF4"
      },
      "source": [
        "Модель решающее дерево"
      ]
    },
    {
      "cell_type": "code",
      "metadata": {
        "id": "HMfoOJdeLVA4"
      },
      "source": [
        "gyperparams_tr = [{'max_depth': range(1,40,10)}]\n",
        "tr = RandomForestRegressor(random_state=12345)"
      ],
      "execution_count": 66,
      "outputs": []
    },
    {
      "cell_type": "code",
      "metadata": {
        "id": "CjYN1U60Ljzt"
      },
      "source": [
        "grid_tr = GridSearchCV(tr, gyperparams_tr, scoring=make_scorer(smape,greater_is_better=False),cv=3)"
      ],
      "execution_count": 67,
      "outputs": []
    },
    {
      "cell_type": "code",
      "metadata": {
        "colab": {
          "base_uri": "https://localhost:8080/"
        },
        "id": "x5hxKqRCLlEY",
        "outputId": "7fe0bccd-ed35-41fe-8665-cde8af18611c"
      },
      "source": [
        "import warnings\n",
        "warnings.simplefilter(action='ignore', category=FutureWarning)\n",
        "%time grid_tr.fit(x_train,y_train)"
      ],
      "execution_count": 68,
      "outputs": [
        {
          "output_type": "stream",
          "text": [
            "CPU times: user 8min 37s, sys: 276 ms, total: 8min 38s\n",
            "Wall time: 8min 39s\n"
          ],
          "name": "stdout"
        },
        {
          "output_type": "execute_result",
          "data": {
            "text/plain": [
              "GridSearchCV(cv=3, error_score=nan,\n",
              "             estimator=RandomForestRegressor(bootstrap=True, ccp_alpha=0.0,\n",
              "                                             criterion='mse', max_depth=None,\n",
              "                                             max_features='auto',\n",
              "                                             max_leaf_nodes=None,\n",
              "                                             max_samples=None,\n",
              "                                             min_impurity_decrease=0.0,\n",
              "                                             min_impurity_split=None,\n",
              "                                             min_samples_leaf=1,\n",
              "                                             min_samples_split=2,\n",
              "                                             min_weight_fraction_leaf=0.0,\n",
              "                                             n_estimators=100, n_jobs=None,\n",
              "                                             oob_score=False,\n",
              "                                             random_state=12345, verbose=0,\n",
              "                                             warm_start=False),\n",
              "             iid='deprecated', n_jobs=None,\n",
              "             param_grid=[{'max_depth': range(1, 40, 10)}],\n",
              "             pre_dispatch='2*n_jobs', refit=True, return_train_score=False,\n",
              "             scoring=make_scorer(smape, greater_is_better=False), verbose=0)"
            ]
          },
          "metadata": {
            "tags": []
          },
          "execution_count": 68
        }
      ]
    },
    {
      "cell_type": "code",
      "metadata": {
        "colab": {
          "base_uri": "https://localhost:8080/"
        },
        "id": "tqIM651TLqHu",
        "outputId": "a7b7f949-6067-4644-c345-8f91e530971e"
      },
      "source": [
        "grid_tr.best_score_ *-1"
      ],
      "execution_count": 69,
      "outputs": [
        {
          "output_type": "execute_result",
          "data": {
            "text/plain": [
              "5.322979468079908"
            ]
          },
          "metadata": {
            "tags": []
          },
          "execution_count": 69
        }
      ]
    },
    {
      "cell_type": "code",
      "metadata": {
        "colab": {
          "base_uri": "https://localhost:8080/"
        },
        "id": "HWlZjcqHNlTw",
        "outputId": "15e8e307-8c2e-420b-b3fc-9bfa4150fe3b"
      },
      "source": [
        "grid_tr.best_params_"
      ],
      "execution_count": 70,
      "outputs": [
        {
          "output_type": "execute_result",
          "data": {
            "text/plain": [
              "{'max_depth': 31}"
            ]
          },
          "metadata": {
            "tags": []
          },
          "execution_count": 70
        }
      ]
    },
    {
      "cell_type": "markdown",
      "metadata": {
        "id": "Knz2M4AP8Doc"
      },
      "source": [
        "Лучше всего показатель оказался у модели решабщего дерева и случайного леса. Несмотря на то что они трицательные.\n",
        "\n",
        "Проверим эти модели с полученными параметрами на тестовой выборке."
      ]
    },
    {
      "cell_type": "markdown",
      "metadata": {
        "id": "pKLatzxPTURe"
      },
      "source": [
        "Случайнй лес"
      ]
    },
    {
      "cell_type": "code",
      "metadata": {
        "id": "c9OtEX7uhSRV"
      },
      "source": [
        "model_rf = RandomForestRegressor(n_estimators=41,max_depth=31,random_state=12345)"
      ],
      "execution_count": 71,
      "outputs": []
    },
    {
      "cell_type": "code",
      "metadata": {
        "colab": {
          "base_uri": "https://localhost:8080/"
        },
        "id": "55y1bbhuhy3x",
        "outputId": "d351aeae-c542-432e-9cba-cff0132d743e"
      },
      "source": [
        "model_rf.fit(x_train,y_train)"
      ],
      "execution_count": 72,
      "outputs": [
        {
          "output_type": "execute_result",
          "data": {
            "text/plain": [
              "RandomForestRegressor(bootstrap=True, ccp_alpha=0.0, criterion='mse',\n",
              "                      max_depth=31, max_features='auto', max_leaf_nodes=None,\n",
              "                      max_samples=None, min_impurity_decrease=0.0,\n",
              "                      min_impurity_split=None, min_samples_leaf=1,\n",
              "                      min_samples_split=2, min_weight_fraction_leaf=0.0,\n",
              "                      n_estimators=41, n_jobs=None, oob_score=False,\n",
              "                      random_state=12345, verbose=0, warm_start=False)"
            ]
          },
          "metadata": {
            "tags": []
          },
          "execution_count": 72
        }
      ]
    },
    {
      "cell_type": "code",
      "metadata": {
        "id": "fdnqS-69ekBQ"
      },
      "source": [
        "predicted_rf = model_rf.predict(x_test)"
      ],
      "execution_count": 73,
      "outputs": []
    },
    {
      "cell_type": "code",
      "metadata": {
        "colab": {
          "base_uri": "https://localhost:8080/"
        },
        "id": "imNZDmK1jI0z",
        "outputId": "eac9c83b-dd65-4a20-ae45-2ec2828278a5"
      },
      "source": [
        "smape(y_test, predicted_rf)"
      ],
      "execution_count": 74,
      "outputs": [
        {
          "output_type": "execute_result",
          "data": {
            "text/plain": [
              "10.535759924237547"
            ]
          },
          "metadata": {
            "tags": []
          },
          "execution_count": 74
        }
      ]
    },
    {
      "cell_type": "markdown",
      "metadata": {
        "id": "_w9zKDGjTg_j"
      },
      "source": [
        "Решающее дерево"
      ]
    },
    {
      "cell_type": "code",
      "metadata": {
        "id": "2uzE_rwukXd2"
      },
      "source": [
        "model_tr = DecisionTreeRegressor(max_depth=41, random_state=12345)"
      ],
      "execution_count": 75,
      "outputs": []
    },
    {
      "cell_type": "code",
      "metadata": {
        "colab": {
          "base_uri": "https://localhost:8080/"
        },
        "id": "utAPQnchTu36",
        "outputId": "e1d5d931-c228-4a53-e693-b1cfccd09cd8"
      },
      "source": [
        "model_tr.fit(x_train, y_train)"
      ],
      "execution_count": 76,
      "outputs": [
        {
          "output_type": "execute_result",
          "data": {
            "text/plain": [
              "DecisionTreeRegressor(ccp_alpha=0.0, criterion='mse', max_depth=41,\n",
              "                      max_features=None, max_leaf_nodes=None,\n",
              "                      min_impurity_decrease=0.0, min_impurity_split=None,\n",
              "                      min_samples_leaf=1, min_samples_split=2,\n",
              "                      min_weight_fraction_leaf=0.0, presort='deprecated',\n",
              "                      random_state=12345, splitter='best')"
            ]
          },
          "metadata": {
            "tags": []
          },
          "execution_count": 76
        }
      ]
    },
    {
      "cell_type": "code",
      "metadata": {
        "id": "SUwyH9p-Tz2D"
      },
      "source": [
        "predicted_tr = model_tr.predict(x_test)"
      ],
      "execution_count": 77,
      "outputs": []
    },
    {
      "cell_type": "code",
      "metadata": {
        "colab": {
          "base_uri": "https://localhost:8080/"
        },
        "id": "kdY3knqHT8Rn",
        "outputId": "89b817e6-1dce-40a7-fee9-381590aeb1a0"
      },
      "source": [
        "smape(y_test, predicted_tr)"
      ],
      "execution_count": 78,
      "outputs": [
        {
          "output_type": "execute_result",
          "data": {
            "text/plain": [
              "16.513851489619473"
            ]
          },
          "metadata": {
            "tags": []
          },
          "execution_count": 78
        }
      ]
    },
    {
      "cell_type": "markdown",
      "metadata": {
        "id": "kHTFdylC9G6S"
      },
      "source": [
        "# Итог\n",
        "Модели обучены, предсказания получены, эффетивность обогощения расчитана расчитана.\n",
        "\n",
        "Полученный набор данных был с множеством неточностей, большим колличеством пропусков на разных этапах процесса очистки. В дальнейшем для улучшения модели необходимо более тчательно подходить к процессу измерения на всех стадиях обработки сырья.\n",
        "Для обучения модели нам пришлось избавится от 15% процентов данных. \n",
        "\n",
        "Тестировались три модели Линейная регрессия, случайный лес и дерево решений.\n",
        "Для моделей решабщее дерево и случайный лес подбор параметров производился с помощью gridsearchCV и кросс-валидации с 3-мя наборами.\n",
        "По итогам была выбраны две лучшие модели Случайный лес и решающее дерево, на тестовой выборке лучший показатель у модели решающее дерево, отклонение 10 %\n",
        "\n",
        "\n",
        "\n"
      ]
    },
    {
      "cell_type": "code",
      "metadata": {
        "id": "A3db6qylAZFV"
      },
      "source": [
        ""
      ],
      "execution_count": 78,
      "outputs": []
    }
  ]
}