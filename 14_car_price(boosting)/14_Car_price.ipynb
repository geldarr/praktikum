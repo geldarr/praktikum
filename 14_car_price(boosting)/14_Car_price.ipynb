{
  "nbformat": 4,
  "nbformat_minor": 0,
  "metadata": {
    "kernelspec": {
      "display_name": "Python 3",
      "language": "python",
      "name": "python3"
    },
    "language_info": {
      "codemirror_mode": {
        "name": "ipython",
        "version": 3
      },
      "file_extension": ".py",
      "mimetype": "text/x-python",
      "name": "python",
      "nbconvert_exporter": "python",
      "pygments_lexer": "ipython3",
      "version": "3.7.8"
    },
    "toc": {
      "base_numbering": 1,
      "nav_menu": {
        "height": "280px",
        "width": "513px"
      },
      "number_sections": true,
      "sideBar": true,
      "skip_h1_title": false,
      "title_cell": "Table of Contents",
      "title_sidebar": "Contents",
      "toc_cell": false,
      "toc_position": {},
      "toc_section_display": true,
      "toc_window_display": false
    },
    "colab": {
      "name": "14_Car_price.ipynb",
      "provenance": []
    }
  },
  "cells": [
    {
      "cell_type": "markdown",
      "metadata": {
        "id": "g60vSrfD_Kc7"
      },
      "source": [
        "Сервис по продаже автомобилей с пробегом «Не бит, не крашен» разрабатывает приложение для привлечения новых клиентов. В нём можно быстро узнать рыночную стоимость своего автомобиля. В вашем распоряжении исторические данные: технические характеристики, комплектации и цены автомобилей. Вам нужно построить модель для определения стоимости. \n",
        "\n",
        "Заказчику важны:\n",
        "\n",
        "- качество предсказания;\n",
        "- скорость предсказания;\n",
        "- время обучения."
      ]
    },
    {
      "cell_type": "markdown",
      "metadata": {
        "id": "-PEsK6EV_Kc7"
      },
      "source": [
        "Согласно поставленной задачи, нам нужно качественно и быстро определять предпологаемую цену автомобиля. Для того что бы деллать это качественно нужно хорошо предобработать данные и удалить ошибочные или не корректные данные. При анализе будем руводствоваться общепринятыми стандартами или известными ззначениями.\n",
        "1. Обще ознакомление с данными\n",
        "2. Анализ целевого признака\n",
        "3. Изучение признаков, удаление некачественных данных\n",
        "    - Категориальные \n",
        "        \n",
        "    - Количественные\n",
        "4. Анализ пропусков\n",
        "5. Формирование датасетов для обучения.\n",
        "    "
      ]
    },
    {
      "cell_type": "markdown",
      "metadata": {
        "id": "rgaLP5ex_Kc7"
      },
      "source": [
        "# 1. Подготовка данных"
      ]
    },
    {
      "cell_type": "markdown",
      "metadata": {
        "id": "Ul9V1BxI_Kc7"
      },
      "source": [
        "#import"
      ]
    },
    {
      "cell_type": "code",
      "metadata": {
        "colab": {
          "base_uri": "https://localhost:8080/"
        },
        "id": "h3icICY__dmJ",
        "outputId": "1553b9f5-b80c-4687-b882-870268fa2982"
      },
      "source": [
        "!pip install catboost"
      ],
      "execution_count": 3,
      "outputs": [
        {
          "output_type": "stream",
          "text": [
            "Collecting catboost\n",
            "\u001b[?25l  Downloading https://files.pythonhosted.org/packages/96/3b/bb419654adcf7efff42ed8a3f84e50c8f236424b7ed1cc8ccd290852e003/catboost-0.24.4-cp37-none-manylinux1_x86_64.whl (65.7MB)\n",
            "\u001b[K     |████████████████████████████████| 65.7MB 73kB/s \n",
            "\u001b[?25hRequirement already satisfied: matplotlib in /usr/local/lib/python3.7/dist-packages (from catboost) (3.2.2)\n",
            "Requirement already satisfied: six in /usr/local/lib/python3.7/dist-packages (from catboost) (1.15.0)\n",
            "Requirement already satisfied: scipy in /usr/local/lib/python3.7/dist-packages (from catboost) (1.4.1)\n",
            "Requirement already satisfied: pandas>=0.24.0 in /usr/local/lib/python3.7/dist-packages (from catboost) (1.1.5)\n",
            "Requirement already satisfied: graphviz in /usr/local/lib/python3.7/dist-packages (from catboost) (0.10.1)\n",
            "Requirement already satisfied: plotly in /usr/local/lib/python3.7/dist-packages (from catboost) (4.4.1)\n",
            "Requirement already satisfied: numpy>=1.16.0 in /usr/local/lib/python3.7/dist-packages (from catboost) (1.19.5)\n",
            "Requirement already satisfied: kiwisolver>=1.0.1 in /usr/local/lib/python3.7/dist-packages (from matplotlib->catboost) (1.3.1)\n",
            "Requirement already satisfied: python-dateutil>=2.1 in /usr/local/lib/python3.7/dist-packages (from matplotlib->catboost) (2.8.1)\n",
            "Requirement already satisfied: pyparsing!=2.0.4,!=2.1.2,!=2.1.6,>=2.0.1 in /usr/local/lib/python3.7/dist-packages (from matplotlib->catboost) (2.4.7)\n",
            "Requirement already satisfied: cycler>=0.10 in /usr/local/lib/python3.7/dist-packages (from matplotlib->catboost) (0.10.0)\n",
            "Requirement already satisfied: pytz>=2017.2 in /usr/local/lib/python3.7/dist-packages (from pandas>=0.24.0->catboost) (2018.9)\n",
            "Requirement already satisfied: retrying>=1.3.3 in /usr/local/lib/python3.7/dist-packages (from plotly->catboost) (1.3.3)\n",
            "Installing collected packages: catboost\n",
            "Successfully installed catboost-0.24.4\n"
          ],
          "name": "stdout"
        }
      ]
    },
    {
      "cell_type": "code",
      "metadata": {
        "id": "n_bpQC0R_Kc8"
      },
      "source": [
        "import pandas as pd\n",
        "import numpy as np\n",
        "import seaborn as sns\n",
        "import matplotlib.pyplot as plt\n",
        "from sklearn.model_selection import train_test_split\n",
        "from catboost import CatBoostRegressor\n",
        "from sklearn.preprocessing import StandardScaler\n",
        "from sklearn.preprocessing import OrdinalEncoder\n",
        "from sklearn.model_selection import KFold\n",
        "from sklearn.metrics import mean_squared_error\n",
        "from catboost import Pool, cv\n",
        "import time\n",
        "import lightgbm as lgb\n",
        "from sklearn.metrics import make_scorer\n",
        "from sklearn.model_selection import GridSearchCV\n",
        "from sklearn.linear_model import LinearRegression\n",
        "from datetime import timedelta\n",
        "from sklearn.base import BaseEstimator, TransformerMixin"
      ],
      "execution_count": 127,
      "outputs": []
    },
    {
      "cell_type": "code",
      "metadata": {
        "colab": {
          "base_uri": "https://localhost:8080/"
        },
        "id": "_y6cSxpA_jid",
        "outputId": "41573bac-2043-4447-9959-0da9bd70d151"
      },
      "source": [
        "from google.colab import drive\n",
        "drive.mount('/content/drive')"
      ],
      "execution_count": 5,
      "outputs": [
        {
          "output_type": "stream",
          "text": [
            "Mounted at /content/drive\n"
          ],
          "name": "stdout"
        }
      ]
    },
    {
      "cell_type": "code",
      "metadata": {
        "id": "6X4lo8DH_Kc8"
      },
      "source": [
        "df = pd.read_csv('/content/drive/MyDrive/Colab Notebooks/Shad/car_price/autos.csv')"
      ],
      "execution_count": 7,
      "outputs": []
    },
    {
      "cell_type": "code",
      "metadata": {
        "colab": {
          "base_uri": "https://localhost:8080/"
        },
        "id": "1TqlLp9-_Kc8",
        "outputId": "84c49908-c35a-43b4-fb7c-0ce4c70bbcc2"
      },
      "source": [
        "#check datatype\n",
        "df.info()"
      ],
      "execution_count": 8,
      "outputs": [
        {
          "output_type": "stream",
          "text": [
            "<class 'pandas.core.frame.DataFrame'>\n",
            "RangeIndex: 354369 entries, 0 to 354368\n",
            "Data columns (total 16 columns):\n",
            " #   Column             Non-Null Count   Dtype \n",
            "---  ------             --------------   ----- \n",
            " 0   DateCrawled        354369 non-null  object\n",
            " 1   Price              354369 non-null  int64 \n",
            " 2   VehicleType        316879 non-null  object\n",
            " 3   RegistrationYear   354369 non-null  int64 \n",
            " 4   Gearbox            334536 non-null  object\n",
            " 5   Power              354369 non-null  int64 \n",
            " 6   Model              334664 non-null  object\n",
            " 7   Kilometer          354369 non-null  int64 \n",
            " 8   RegistrationMonth  354369 non-null  int64 \n",
            " 9   FuelType           321474 non-null  object\n",
            " 10  Brand              354369 non-null  object\n",
            " 11  NotRepaired        283215 non-null  object\n",
            " 12  DateCreated        354369 non-null  object\n",
            " 13  NumberOfPictures   354369 non-null  int64 \n",
            " 14  PostalCode         354369 non-null  int64 \n",
            " 15  LastSeen           354369 non-null  object\n",
            "dtypes: int64(7), object(9)\n",
            "memory usage: 43.3+ MB\n"
          ],
          "name": "stdout"
        }
      ]
    },
    {
      "cell_type": "code",
      "metadata": {
        "colab": {
          "base_uri": "https://localhost:8080/"
        },
        "id": "JutdrFeI_Kc9",
        "outputId": "de70dde4-0f28-4270-8bde-5925a7de261d"
      },
      "source": [
        "df.shape"
      ],
      "execution_count": 9,
      "outputs": [
        {
          "output_type": "execute_result",
          "data": {
            "text/plain": [
              "(354369, 16)"
            ]
          },
          "metadata": {
            "tags": []
          },
          "execution_count": 9
        }
      ]
    },
    {
      "cell_type": "code",
      "metadata": {
        "scrolled": false,
        "colab": {
          "base_uri": "https://localhost:8080/",
          "height": 719
        },
        "id": "YywY5GBm_Kc9",
        "outputId": "30097af5-b54d-4a5c-b88d-1a3dd7b304d7"
      },
      "source": [
        "# просмотр данных\n",
        "df.head(10) "
      ],
      "execution_count": 10,
      "outputs": [
        {
          "output_type": "execute_result",
          "data": {
            "text/html": [
              "<div>\n",
              "<style scoped>\n",
              "    .dataframe tbody tr th:only-of-type {\n",
              "        vertical-align: middle;\n",
              "    }\n",
              "\n",
              "    .dataframe tbody tr th {\n",
              "        vertical-align: top;\n",
              "    }\n",
              "\n",
              "    .dataframe thead th {\n",
              "        text-align: right;\n",
              "    }\n",
              "</style>\n",
              "<table border=\"1\" class=\"dataframe\">\n",
              "  <thead>\n",
              "    <tr style=\"text-align: right;\">\n",
              "      <th></th>\n",
              "      <th>DateCrawled</th>\n",
              "      <th>Price</th>\n",
              "      <th>VehicleType</th>\n",
              "      <th>RegistrationYear</th>\n",
              "      <th>Gearbox</th>\n",
              "      <th>Power</th>\n",
              "      <th>Model</th>\n",
              "      <th>Kilometer</th>\n",
              "      <th>RegistrationMonth</th>\n",
              "      <th>FuelType</th>\n",
              "      <th>Brand</th>\n",
              "      <th>NotRepaired</th>\n",
              "      <th>DateCreated</th>\n",
              "      <th>NumberOfPictures</th>\n",
              "      <th>PostalCode</th>\n",
              "      <th>LastSeen</th>\n",
              "    </tr>\n",
              "  </thead>\n",
              "  <tbody>\n",
              "    <tr>\n",
              "      <th>0</th>\n",
              "      <td>2016-03-24 11:52:17</td>\n",
              "      <td>480</td>\n",
              "      <td>NaN</td>\n",
              "      <td>1993</td>\n",
              "      <td>manual</td>\n",
              "      <td>0</td>\n",
              "      <td>golf</td>\n",
              "      <td>150000</td>\n",
              "      <td>0</td>\n",
              "      <td>petrol</td>\n",
              "      <td>volkswagen</td>\n",
              "      <td>NaN</td>\n",
              "      <td>2016-03-24 00:00:00</td>\n",
              "      <td>0</td>\n",
              "      <td>70435</td>\n",
              "      <td>2016-04-07 03:16:57</td>\n",
              "    </tr>\n",
              "    <tr>\n",
              "      <th>1</th>\n",
              "      <td>2016-03-24 10:58:45</td>\n",
              "      <td>18300</td>\n",
              "      <td>coupe</td>\n",
              "      <td>2011</td>\n",
              "      <td>manual</td>\n",
              "      <td>190</td>\n",
              "      <td>NaN</td>\n",
              "      <td>125000</td>\n",
              "      <td>5</td>\n",
              "      <td>gasoline</td>\n",
              "      <td>audi</td>\n",
              "      <td>yes</td>\n",
              "      <td>2016-03-24 00:00:00</td>\n",
              "      <td>0</td>\n",
              "      <td>66954</td>\n",
              "      <td>2016-04-07 01:46:50</td>\n",
              "    </tr>\n",
              "    <tr>\n",
              "      <th>2</th>\n",
              "      <td>2016-03-14 12:52:21</td>\n",
              "      <td>9800</td>\n",
              "      <td>suv</td>\n",
              "      <td>2004</td>\n",
              "      <td>auto</td>\n",
              "      <td>163</td>\n",
              "      <td>grand</td>\n",
              "      <td>125000</td>\n",
              "      <td>8</td>\n",
              "      <td>gasoline</td>\n",
              "      <td>jeep</td>\n",
              "      <td>NaN</td>\n",
              "      <td>2016-03-14 00:00:00</td>\n",
              "      <td>0</td>\n",
              "      <td>90480</td>\n",
              "      <td>2016-04-05 12:47:46</td>\n",
              "    </tr>\n",
              "    <tr>\n",
              "      <th>3</th>\n",
              "      <td>2016-03-17 16:54:04</td>\n",
              "      <td>1500</td>\n",
              "      <td>small</td>\n",
              "      <td>2001</td>\n",
              "      <td>manual</td>\n",
              "      <td>75</td>\n",
              "      <td>golf</td>\n",
              "      <td>150000</td>\n",
              "      <td>6</td>\n",
              "      <td>petrol</td>\n",
              "      <td>volkswagen</td>\n",
              "      <td>no</td>\n",
              "      <td>2016-03-17 00:00:00</td>\n",
              "      <td>0</td>\n",
              "      <td>91074</td>\n",
              "      <td>2016-03-17 17:40:17</td>\n",
              "    </tr>\n",
              "    <tr>\n",
              "      <th>4</th>\n",
              "      <td>2016-03-31 17:25:20</td>\n",
              "      <td>3600</td>\n",
              "      <td>small</td>\n",
              "      <td>2008</td>\n",
              "      <td>manual</td>\n",
              "      <td>69</td>\n",
              "      <td>fabia</td>\n",
              "      <td>90000</td>\n",
              "      <td>7</td>\n",
              "      <td>gasoline</td>\n",
              "      <td>skoda</td>\n",
              "      <td>no</td>\n",
              "      <td>2016-03-31 00:00:00</td>\n",
              "      <td>0</td>\n",
              "      <td>60437</td>\n",
              "      <td>2016-04-06 10:17:21</td>\n",
              "    </tr>\n",
              "    <tr>\n",
              "      <th>5</th>\n",
              "      <td>2016-04-04 17:36:23</td>\n",
              "      <td>650</td>\n",
              "      <td>sedan</td>\n",
              "      <td>1995</td>\n",
              "      <td>manual</td>\n",
              "      <td>102</td>\n",
              "      <td>3er</td>\n",
              "      <td>150000</td>\n",
              "      <td>10</td>\n",
              "      <td>petrol</td>\n",
              "      <td>bmw</td>\n",
              "      <td>yes</td>\n",
              "      <td>2016-04-04 00:00:00</td>\n",
              "      <td>0</td>\n",
              "      <td>33775</td>\n",
              "      <td>2016-04-06 19:17:07</td>\n",
              "    </tr>\n",
              "    <tr>\n",
              "      <th>6</th>\n",
              "      <td>2016-04-01 20:48:51</td>\n",
              "      <td>2200</td>\n",
              "      <td>convertible</td>\n",
              "      <td>2004</td>\n",
              "      <td>manual</td>\n",
              "      <td>109</td>\n",
              "      <td>2_reihe</td>\n",
              "      <td>150000</td>\n",
              "      <td>8</td>\n",
              "      <td>petrol</td>\n",
              "      <td>peugeot</td>\n",
              "      <td>no</td>\n",
              "      <td>2016-04-01 00:00:00</td>\n",
              "      <td>0</td>\n",
              "      <td>67112</td>\n",
              "      <td>2016-04-05 18:18:39</td>\n",
              "    </tr>\n",
              "    <tr>\n",
              "      <th>7</th>\n",
              "      <td>2016-03-21 18:54:38</td>\n",
              "      <td>0</td>\n",
              "      <td>sedan</td>\n",
              "      <td>1980</td>\n",
              "      <td>manual</td>\n",
              "      <td>50</td>\n",
              "      <td>other</td>\n",
              "      <td>40000</td>\n",
              "      <td>7</td>\n",
              "      <td>petrol</td>\n",
              "      <td>volkswagen</td>\n",
              "      <td>no</td>\n",
              "      <td>2016-03-21 00:00:00</td>\n",
              "      <td>0</td>\n",
              "      <td>19348</td>\n",
              "      <td>2016-03-25 16:47:58</td>\n",
              "    </tr>\n",
              "    <tr>\n",
              "      <th>8</th>\n",
              "      <td>2016-04-04 23:42:13</td>\n",
              "      <td>14500</td>\n",
              "      <td>bus</td>\n",
              "      <td>2014</td>\n",
              "      <td>manual</td>\n",
              "      <td>125</td>\n",
              "      <td>c_max</td>\n",
              "      <td>30000</td>\n",
              "      <td>8</td>\n",
              "      <td>petrol</td>\n",
              "      <td>ford</td>\n",
              "      <td>NaN</td>\n",
              "      <td>2016-04-04 00:00:00</td>\n",
              "      <td>0</td>\n",
              "      <td>94505</td>\n",
              "      <td>2016-04-04 23:42:13</td>\n",
              "    </tr>\n",
              "    <tr>\n",
              "      <th>9</th>\n",
              "      <td>2016-03-17 10:53:50</td>\n",
              "      <td>999</td>\n",
              "      <td>small</td>\n",
              "      <td>1998</td>\n",
              "      <td>manual</td>\n",
              "      <td>101</td>\n",
              "      <td>golf</td>\n",
              "      <td>150000</td>\n",
              "      <td>0</td>\n",
              "      <td>NaN</td>\n",
              "      <td>volkswagen</td>\n",
              "      <td>NaN</td>\n",
              "      <td>2016-03-17 00:00:00</td>\n",
              "      <td>0</td>\n",
              "      <td>27472</td>\n",
              "      <td>2016-03-31 17:17:06</td>\n",
              "    </tr>\n",
              "  </tbody>\n",
              "</table>\n",
              "</div>"
            ],
            "text/plain": [
              "           DateCrawled  Price  ... PostalCode             LastSeen\n",
              "0  2016-03-24 11:52:17    480  ...      70435  2016-04-07 03:16:57\n",
              "1  2016-03-24 10:58:45  18300  ...      66954  2016-04-07 01:46:50\n",
              "2  2016-03-14 12:52:21   9800  ...      90480  2016-04-05 12:47:46\n",
              "3  2016-03-17 16:54:04   1500  ...      91074  2016-03-17 17:40:17\n",
              "4  2016-03-31 17:25:20   3600  ...      60437  2016-04-06 10:17:21\n",
              "5  2016-04-04 17:36:23    650  ...      33775  2016-04-06 19:17:07\n",
              "6  2016-04-01 20:48:51   2200  ...      67112  2016-04-05 18:18:39\n",
              "7  2016-03-21 18:54:38      0  ...      19348  2016-03-25 16:47:58\n",
              "8  2016-04-04 23:42:13  14500  ...      94505  2016-04-04 23:42:13\n",
              "9  2016-03-17 10:53:50    999  ...      27472  2016-03-31 17:17:06\n",
              "\n",
              "[10 rows x 16 columns]"
            ]
          },
          "metadata": {
            "tags": []
          },
          "execution_count": 10
        }
      ]
    },
    {
      "cell_type": "code",
      "metadata": {
        "colab": {
          "base_uri": "https://localhost:8080/"
        },
        "id": "W9hX0FQp_Kc-",
        "outputId": "0195ed9b-6fa7-4cd7-af76-01557f5b40ca"
      },
      "source": [
        "# Приведем название признаков к нижнему регистру\n",
        "df.columns = map(str.lower, df.columns)\n",
        "df.columns"
      ],
      "execution_count": 11,
      "outputs": [
        {
          "output_type": "execute_result",
          "data": {
            "text/plain": [
              "Index(['datecrawled', 'price', 'vehicletype', 'registrationyear', 'gearbox',\n",
              "       'power', 'model', 'kilometer', 'registrationmonth', 'fueltype', 'brand',\n",
              "       'notrepaired', 'datecreated', 'numberofpictures', 'postalcode',\n",
              "       'lastseen'],\n",
              "      dtype='object')"
            ]
          },
          "metadata": {
            "tags": []
          },
          "execution_count": 11
        }
      ]
    },
    {
      "cell_type": "markdown",
      "metadata": {
        "id": "K3a6V-Aq_Kc-"
      },
      "source": [
        "### Анализ  целевого признака"
      ]
    },
    {
      "cell_type": "code",
      "metadata": {
        "scrolled": true,
        "colab": {
          "base_uri": "https://localhost:8080/",
          "height": 346
        },
        "id": "u_jH0lDo_Kc-",
        "outputId": "d7bac3c3-a4d9-411b-db93-2fec557580d2"
      },
      "source": [
        "sns.set_theme(style=\"whitegrid\")\n",
        "g = sns.displot(data=df.price, aspect=3,kde=True).set_titles(\"Price\")"
      ],
      "execution_count": 24,
      "outputs": [
        {
          "output_type": "execute_result",
          "data": {
            "text/plain": [
              "<seaborn.axisgrid.FacetGrid at 0x7fbd50a62a90>"
            ]
          },
          "metadata": {
            "tags": []
          },
          "execution_count": 24
        },
        {
          "output_type": "display_data",
          "data": {
            "image/png": "[encoded data removed]",
            "text/plain": [
              "<Figure size 1080x360 with 1 Axes>"
            ]
          },
          "metadata": {
            "tags": []
          }
        }
      ]
    },
    {
      "cell_type": "code",
      "metadata": {
        "scrolled": true,
        "colab": {
          "base_uri": "https://localhost:8080/",
          "height": 321
        },
        "id": "aIN96lqQ_Kc_",
        "outputId": "4a1a0958-3f59-46d5-870c-d9e3c1588119"
      },
      "source": [
        "plt.figure(figsize=(19, 5))\n",
        "sns.boxplot(x=df.price)"
      ],
      "execution_count": 38,
      "outputs": [
        {
          "output_type": "execute_result",
          "data": {
            "text/plain": [
              "<matplotlib.axes._subplots.AxesSubplot at 0x7fbd512b10d0>"
            ]
          },
          "metadata": {
            "tags": []
          },
          "execution_count": 38
        },
        {
          "output_type": "display_data",
          "data": {
            "image/png": "[encoded data removed]",
            "text/plain": [
              "<Figure size 1368x360 with 1 Axes>"
            ]
          },
          "metadata": {
            "tags": []
          }
        }
      ]
    },
    {
      "cell_type": "markdown",
      "metadata": {
        "id": "ljxr9QJs_Kc_"
      },
      "source": [
        "Много нулевых занчений и близких к 0 , удалим. Для нашей задачи нулевая стоимость авто не годится, будем считать, что минимальная стоимость авто 100 евро, Максимальную цену оставим без изменений.Далее возможно внес корректировки. Есть предположение, что когда продавец заполняет поле 0 или другой не  корректной величиной (1,2,3 999 и т.д.), то он просто не знает этого параметра. "
      ]
    },
    {
      "cell_type": "code",
      "metadata": {
        "id": "eLyMbPye_Kc_"
      },
      "source": [
        "df.drop(df.loc[df['price'] < 100].index, inplace=True)"
      ],
      "execution_count": 39,
      "outputs": []
    },
    {
      "cell_type": "code",
      "metadata": {
        "colab": {
          "base_uri": "https://localhost:8080/",
          "height": 329
        },
        "id": "sDthPVNL_Kc_",
        "outputId": "c4b0612d-2a0a-403b-e792-acd5bb1f87a3"
      },
      "source": [
        "g = sns.displot(data=df.price, aspect=3,kde=True).set_titles(\"Price\")"
      ],
      "execution_count": 41,
      "outputs": [
        {
          "output_type": "display_data",
          "data": {
            "image/png": "[encoded data removed]",
            "text/plain": [
              "<Figure size 1080x360 with 1 Axes>"
            ]
          },
          "metadata": {
            "tags": []
          }
        }
      ]
    },
    {
      "cell_type": "code",
      "metadata": {
        "colab": {
          "base_uri": "https://localhost:8080/"
        },
        "id": "Apo_qHWP_KdA",
        "outputId": "27a67892-0cd8-40eb-c64d-2ac15f5396a1"
      },
      "source": [
        "df['price'].describe()"
      ],
      "execution_count": 42,
      "outputs": [
        {
          "output_type": "execute_result",
          "data": {
            "text/plain": [
              "count    341055.000000\n",
              "mean       4588.861052\n",
              "std        4514.844700\n",
              "min         100.000000\n",
              "25%        1200.000000\n",
              "50%        2900.000000\n",
              "75%        6500.000000\n",
              "max       20000.000000\n",
              "Name: price, dtype: float64"
            ]
          },
          "metadata": {
            "tags": []
          },
          "execution_count": 42
        }
      ]
    },
    {
      "cell_type": "markdown",
      "metadata": {
        "id": "sbKY3Gmr_KdA"
      },
      "source": [
        "Перейдем к признакам, проверим сначала категориальные, затем колличественные избавимся от выбросов и некорректно указанных данных, а после уже проверим кол-во пустых значений."
      ]
    },
    {
      "cell_type": "code",
      "metadata": {
        "colab": {
          "base_uri": "https://localhost:8080/",
          "height": 394
        },
        "id": "UxZusIFk_KdB",
        "outputId": "3d24ad19-7dda-4b54-bd02-5d2809c6779e"
      },
      "source": [
        "df.head(5)"
      ],
      "execution_count": 43,
      "outputs": [
        {
          "output_type": "execute_result",
          "data": {
            "text/html": [
              "<div>\n",
              "<style scoped>\n",
              "    .dataframe tbody tr th:only-of-type {\n",
              "        vertical-align: middle;\n",
              "    }\n",
              "\n",
              "    .dataframe tbody tr th {\n",
              "        vertical-align: top;\n",
              "    }\n",
              "\n",
              "    .dataframe thead th {\n",
              "        text-align: right;\n",
              "    }\n",
              "</style>\n",
              "<table border=\"1\" class=\"dataframe\">\n",
              "  <thead>\n",
              "    <tr style=\"text-align: right;\">\n",
              "      <th></th>\n",
              "      <th>datecrawled</th>\n",
              "      <th>price</th>\n",
              "      <th>vehicletype</th>\n",
              "      <th>registrationyear</th>\n",
              "      <th>gearbox</th>\n",
              "      <th>power</th>\n",
              "      <th>model</th>\n",
              "      <th>kilometer</th>\n",
              "      <th>registrationmonth</th>\n",
              "      <th>fueltype</th>\n",
              "      <th>brand</th>\n",
              "      <th>notrepaired</th>\n",
              "      <th>datecreated</th>\n",
              "      <th>numberofpictures</th>\n",
              "      <th>postalcode</th>\n",
              "      <th>lastseen</th>\n",
              "    </tr>\n",
              "  </thead>\n",
              "  <tbody>\n",
              "    <tr>\n",
              "      <th>0</th>\n",
              "      <td>2016-03-24 11:52:17</td>\n",
              "      <td>480</td>\n",
              "      <td>NaN</td>\n",
              "      <td>1993</td>\n",
              "      <td>manual</td>\n",
              "      <td>0</td>\n",
              "      <td>golf</td>\n",
              "      <td>150000</td>\n",
              "      <td>0</td>\n",
              "      <td>petrol</td>\n",
              "      <td>volkswagen</td>\n",
              "      <td>NaN</td>\n",
              "      <td>2016-03-24 00:00:00</td>\n",
              "      <td>0</td>\n",
              "      <td>70435</td>\n",
              "      <td>2016-04-07 03:16:57</td>\n",
              "    </tr>\n",
              "    <tr>\n",
              "      <th>1</th>\n",
              "      <td>2016-03-24 10:58:45</td>\n",
              "      <td>18300</td>\n",
              "      <td>coupe</td>\n",
              "      <td>2011</td>\n",
              "      <td>manual</td>\n",
              "      <td>190</td>\n",
              "      <td>NaN</td>\n",
              "      <td>125000</td>\n",
              "      <td>5</td>\n",
              "      <td>gasoline</td>\n",
              "      <td>audi</td>\n",
              "      <td>yes</td>\n",
              "      <td>2016-03-24 00:00:00</td>\n",
              "      <td>0</td>\n",
              "      <td>66954</td>\n",
              "      <td>2016-04-07 01:46:50</td>\n",
              "    </tr>\n",
              "    <tr>\n",
              "      <th>2</th>\n",
              "      <td>2016-03-14 12:52:21</td>\n",
              "      <td>9800</td>\n",
              "      <td>suv</td>\n",
              "      <td>2004</td>\n",
              "      <td>auto</td>\n",
              "      <td>163</td>\n",
              "      <td>grand</td>\n",
              "      <td>125000</td>\n",
              "      <td>8</td>\n",
              "      <td>gasoline</td>\n",
              "      <td>jeep</td>\n",
              "      <td>NaN</td>\n",
              "      <td>2016-03-14 00:00:00</td>\n",
              "      <td>0</td>\n",
              "      <td>90480</td>\n",
              "      <td>2016-04-05 12:47:46</td>\n",
              "    </tr>\n",
              "    <tr>\n",
              "      <th>3</th>\n",
              "      <td>2016-03-17 16:54:04</td>\n",
              "      <td>1500</td>\n",
              "      <td>small</td>\n",
              "      <td>2001</td>\n",
              "      <td>manual</td>\n",
              "      <td>75</td>\n",
              "      <td>golf</td>\n",
              "      <td>150000</td>\n",
              "      <td>6</td>\n",
              "      <td>petrol</td>\n",
              "      <td>volkswagen</td>\n",
              "      <td>no</td>\n",
              "      <td>2016-03-17 00:00:00</td>\n",
              "      <td>0</td>\n",
              "      <td>91074</td>\n",
              "      <td>2016-03-17 17:40:17</td>\n",
              "    </tr>\n",
              "    <tr>\n",
              "      <th>4</th>\n",
              "      <td>2016-03-31 17:25:20</td>\n",
              "      <td>3600</td>\n",
              "      <td>small</td>\n",
              "      <td>2008</td>\n",
              "      <td>manual</td>\n",
              "      <td>69</td>\n",
              "      <td>fabia</td>\n",
              "      <td>90000</td>\n",
              "      <td>7</td>\n",
              "      <td>gasoline</td>\n",
              "      <td>skoda</td>\n",
              "      <td>no</td>\n",
              "      <td>2016-03-31 00:00:00</td>\n",
              "      <td>0</td>\n",
              "      <td>60437</td>\n",
              "      <td>2016-04-06 10:17:21</td>\n",
              "    </tr>\n",
              "  </tbody>\n",
              "</table>\n",
              "</div>"
            ],
            "text/plain": [
              "           datecrawled  price  ... postalcode             lastseen\n",
              "0  2016-03-24 11:52:17    480  ...      70435  2016-04-07 03:16:57\n",
              "1  2016-03-24 10:58:45  18300  ...      66954  2016-04-07 01:46:50\n",
              "2  2016-03-14 12:52:21   9800  ...      90480  2016-04-05 12:47:46\n",
              "3  2016-03-17 16:54:04   1500  ...      91074  2016-03-17 17:40:17\n",
              "4  2016-03-31 17:25:20   3600  ...      60437  2016-04-06 10:17:21\n",
              "\n",
              "[5 rows x 16 columns]"
            ]
          },
          "metadata": {
            "tags": []
          },
          "execution_count": 43
        }
      ]
    },
    {
      "cell_type": "markdown",
      "metadata": {
        "id": "aXg2Ltcu_KdB"
      },
      "source": [
        "### Проверим категориальные признаки "
      ]
    },
    {
      "cell_type": "markdown",
      "metadata": {
        "id": "iwxEGZAg_KdB"
      },
      "source": [
        "#### Коропка передач"
      ]
    },
    {
      "cell_type": "code",
      "metadata": {
        "colab": {
          "base_uri": "https://localhost:8080/"
        },
        "id": "QtiYRKwF_KdB",
        "outputId": "58b3093d-f2d8-4352-b22d-5432d2c785c8"
      },
      "source": [
        "df.gearbox.unique()"
      ],
      "execution_count": 44,
      "outputs": [
        {
          "output_type": "execute_result",
          "data": {
            "text/plain": [
              "array(['manual', 'auto', nan], dtype=object)"
            ]
          },
          "metadata": {
            "tags": []
          },
          "execution_count": 44
        }
      ]
    },
    {
      "cell_type": "markdown",
      "metadata": {
        "id": "fC7cVbvq_KdB"
      },
      "source": [
        "#### Модель автомобиля"
      ]
    },
    {
      "cell_type": "code",
      "metadata": {
        "colab": {
          "base_uri": "https://localhost:8080/"
        },
        "id": "blPSA9U6_KdC",
        "outputId": "df51bd24-a784-49ad-81f3-d618cf197786"
      },
      "source": [
        "df.model.unique()"
      ],
      "execution_count": 57,
      "outputs": [
        {
          "output_type": "execute_result",
          "data": {
            "text/plain": [
              "array(['golf', nan, 'grand', 'fabia', '3er', '2_reihe', 'c_max',\n",
              "       '3_reihe', 'passat', 'navara', 'ka', 'polo', 'twingo', 'a_klasse',\n",
              "       'scirocco', '5er', 'meriva', 'arosa', 'other', 'c4', 'civic',\n",
              "       'transporter', 'punto', 'e_klasse', 'clio', 'kadett', 'kangoo',\n",
              "       'one', 'fortwo', '1er', 'b_klasse', 'signum', 'astra', 'a8',\n",
              "       'jetta', 'fiesta', 'c_klasse', 'micra', 'vito', 'sprinter', '156',\n",
              "       'escort', 'forester', 'xc_reihe', 'scenic', 'a4', 'a1', 'insignia',\n",
              "       'combo', 'focus', 'tt', 'corsa', 'a6', 'jazz', 'omega', 'slk',\n",
              "       '7er', '80', '147', '100', 'z_reihe', 'sportage', 'sorento', 'v40',\n",
              "       'ibiza', 'mustang', 'eos', 'touran', 'getz', 'a3', 'almera',\n",
              "       'megane', 'lupo', 'r19', 'zafira', 'caddy', 'mondeo', 'cordoba',\n",
              "       'colt', 'impreza', 'vectra', 'berlingo', 'tiguan', 'i_reihe',\n",
              "       'espace', 'sharan', '6_reihe', 'panda', 'up', 'seicento', 'ceed',\n",
              "       '5_reihe', 'yeti', 'octavia', 'mii', 'rx_reihe', '6er', 'modus',\n",
              "       'fox', 'matiz', 'beetle', 'c1', 'rio', 'touareg', 'logan',\n",
              "       'spider', 'cuore', 's_max', 'a2', 'galaxy', 'c3', 'viano',\n",
              "       's_klasse', '1_reihe', 'avensis', 'roomster', 'sl', 'kaefer',\n",
              "       'santa', 'cooper', 'leon', '4_reihe', 'a5', '500', 'laguna',\n",
              "       'ptcruiser', 'clk', 'primera', 'x_reihe', 'exeo', '159', 'transit',\n",
              "       'juke', 'qashqai', 'carisma', 'accord', 'corolla', 'lanos',\n",
              "       'phaeton', 'verso', 'swift', 'rav', 'picanto', 'boxster', 'kalos',\n",
              "       'superb', 'stilo', 'alhambra', 'roadster', 'ypsilon', 'cayenne',\n",
              "       'galant', 'justy', '90', 'sirion', 'crossfire', 'agila', 'duster',\n",
              "       'cr_reihe', 'v50', 'mx_reihe', 'c_reihe', 'v_klasse', 'm_klasse',\n",
              "       'yaris', 'c5', 'aygo', 'cc', 'carnival', 'fusion', '911', 'bora',\n",
              "       'forfour', 'cl', 'tigra', '300c', 'spark', 'v70', 'kuga', 'x_type',\n",
              "       'ducato', 's_type', 'x_trail', 'toledo', 'altea', 'voyager',\n",
              "       'calibra', 'bravo', 'antara', 'tucson', 'citigo', 'jimny',\n",
              "       'wrangler', 'lybra', 'q7', 'lancer', 'captiva', 'c2', 'discovery',\n",
              "       'freelander', 'sandero', 'note', '900', 'cherokee', 'clubman',\n",
              "       'samara', 'defender', '601', 'cx_reihe', 'legacy', 'pajero',\n",
              "       'auris', 'niva', 's60', 'm_reihe', 'nubira', 'vivaro', 'g_klasse',\n",
              "       'lodgy', '850', 'range_rover', 'q3', 'serie_2', 'glk', 'charade',\n",
              "       'croma', 'outlander', 'doblo', 'musa', 'move', '9000', 'v60',\n",
              "       'aveo', '200', '145', 'b_max', 'range_rover_sport', 'terios',\n",
              "       'rangerover', 'q5', 'range_rover_evoque', 'materia', 'delta', 'gl',\n",
              "       'kalina', 'amarok', 'elefantino', 'i3', 'kappa', 'serie_3',\n",
              "       'serie_1'], dtype=object)"
            ]
          },
          "metadata": {
            "tags": []
          },
          "execution_count": 57
        }
      ]
    },
    {
      "cell_type": "markdown",
      "metadata": {
        "id": "K7d5SxNe_KdC"
      },
      "source": [
        "#### Тип топлива"
      ]
    },
    {
      "cell_type": "code",
      "metadata": {
        "colab": {
          "base_uri": "https://localhost:8080/"
        },
        "id": "nIE1ezYP_KdC",
        "outputId": "12d1bc52-4319-45e0-fdc9-d79af7a2da25"
      },
      "source": [
        "df.fueltype.unique()"
      ],
      "execution_count": 58,
      "outputs": [
        {
          "output_type": "execute_result",
          "data": {
            "text/plain": [
              "array(['petrol', 'gasoline', nan, 'lpg', 'other', 'hybrid', 'cng',\n",
              "       'electric'], dtype=object)"
            ]
          },
          "metadata": {
            "tags": []
          },
          "execution_count": 58
        }
      ]
    },
    {
      "cell_type": "markdown",
      "metadata": {
        "id": "fipPDLVz_KdC"
      },
      "source": [
        "#### Производитель"
      ]
    },
    {
      "cell_type": "code",
      "metadata": {
        "colab": {
          "base_uri": "https://localhost:8080/"
        },
        "id": "j_w8HPtX_KdC",
        "outputId": "1f5a0f42-3cd3-43ed-f83b-e5e72df29669"
      },
      "source": [
        "df.brand.unique()"
      ],
      "execution_count": 59,
      "outputs": [
        {
          "output_type": "execute_result",
          "data": {
            "text/plain": [
              "array(['volkswagen', 'audi', 'jeep', 'skoda', 'bmw', 'peugeot', 'ford',\n",
              "       'mazda', 'nissan', 'renault', 'mercedes_benz', 'opel', 'seat',\n",
              "       'citroen', 'honda', 'fiat', 'mini', 'smart', 'hyundai',\n",
              "       'alfa_romeo', 'subaru', 'volvo', 'mitsubishi', 'kia', 'suzuki',\n",
              "       'lancia', 'sonstige_autos', 'toyota', 'chevrolet', 'dacia',\n",
              "       'daihatsu', 'chrysler', 'jaguar', 'daewoo', 'rover', 'porsche',\n",
              "       'saab', 'trabant', 'land_rover', 'lada'], dtype=object)"
            ]
          },
          "metadata": {
            "tags": []
          },
          "execution_count": 59
        }
      ]
    },
    {
      "cell_type": "markdown",
      "metadata": {
        "id": "utxca1VY_KdC"
      },
      "source": [
        "Похоже что нечего критичного кроме nan нет. "
      ]
    },
    {
      "cell_type": "markdown",
      "metadata": {
        "id": "HPj6OWWO_KdD"
      },
      "source": [
        "### Проверим количественные признаки"
      ]
    },
    {
      "cell_type": "markdown",
      "metadata": {
        "id": "8RqhJQ23_KdD"
      },
      "source": [
        "#### Год регистрации автомобиля "
      ]
    },
    {
      "cell_type": "markdown",
      "metadata": {
        "id": "RDoEtVY__KdD"
      },
      "source": [
        "Печально, много неверных данных."
      ]
    },
    {
      "cell_type": "code",
      "metadata": {
        "colab": {
          "base_uri": "https://localhost:8080/"
        },
        "id": "fsALhEpL_KdD",
        "outputId": "02173564-6fbb-46f2-bbef-7b500ce937fd"
      },
      "source": [
        "df.registrationyear.describe()"
      ],
      "execution_count": 70,
      "outputs": [
        {
          "output_type": "execute_result",
          "data": {
            "text/plain": [
              "count    341055.000000\n",
              "mean       2003.955303\n",
              "std          69.811742\n",
              "min        1000.000000\n",
              "25%        1999.000000\n",
              "50%        2003.000000\n",
              "75%        2008.000000\n",
              "max        9999.000000\n",
              "Name: registrationyear, dtype: float64"
            ]
          },
          "metadata": {
            "tags": []
          },
          "execution_count": 70
        }
      ]
    },
    {
      "cell_type": "code",
      "metadata": {
        "colab": {
          "base_uri": "https://localhost:8080/"
        },
        "id": "xCxkuB5S_KdE",
        "outputId": "9bb090e8-0083-492a-ef6c-199655e30ee6"
      },
      "source": [
        "#найдем реальный минимальный год регистрации автомобиля\n",
        "df.query('registrationyear < 1999 and registrationyear >1800')['registrationyear'].min()\n"
      ],
      "execution_count": 72,
      "outputs": [
        {
          "output_type": "execute_result",
          "data": {
            "text/plain": [
              "1910"
            ]
          },
          "metadata": {
            "tags": []
          },
          "execution_count": 72
        }
      ]
    },
    {
      "cell_type": "code",
      "metadata": {
        "id": "os69E6-__KdE"
      },
      "source": [
        "# Удалим года регистрации со значениями  меньше 1910 и старше 2016 года \n",
        "df.drop(df.query('registrationyear > 2016 or registrationyear < 1910').index,inplace=True)"
      ],
      "execution_count": 79,
      "outputs": []
    },
    {
      "cell_type": "code",
      "metadata": {
        "colab": {
          "base_uri": "https://localhost:8080/"
        },
        "id": "yeRUel1T_KdE",
        "outputId": "df6beb13-5c96-49b7-d43e-e1087da0275b"
      },
      "source": [
        "df.registrationyear.describe()"
      ],
      "execution_count": 80,
      "outputs": [
        {
          "output_type": "execute_result",
          "data": {
            "text/plain": [
              "count    327325.000000\n",
              "mean       2002.624749\n",
              "std           6.860012\n",
              "min        1910.000000\n",
              "25%        1999.000000\n",
              "50%        2003.000000\n",
              "75%        2007.000000\n",
              "max        2016.000000\n",
              "Name: registrationyear, dtype: float64"
            ]
          },
          "metadata": {
            "tags": []
          },
          "execution_count": 80
        }
      ]
    },
    {
      "cell_type": "code",
      "metadata": {
        "colab": {
          "base_uri": "https://localhost:8080/",
          "height": 346
        },
        "id": "cYKcP-xz_KdE",
        "outputId": "219e83a9-e3fb-4b6d-844e-f86acc43b89f"
      },
      "source": [
        "sns.displot(df.registrationyear,aspect=3)"
      ],
      "execution_count": 81,
      "outputs": [
        {
          "output_type": "execute_result",
          "data": {
            "text/plain": [
              "<seaborn.axisgrid.FacetGrid at 0x7fbd1a22fc90>"
            ]
          },
          "metadata": {
            "tags": []
          },
          "execution_count": 81
        },
        {
          "output_type": "display_data",
          "data": {
            "image/png": "[encoded data removed]",
            "text/plain": [
              "<Figure size 1080x360 with 1 Axes>"
            ]
          },
          "metadata": {
            "tags": []
          }
        }
      ]
    },
    {
      "cell_type": "markdown",
      "metadata": {
        "id": "xBoynhH1_KdF"
      },
      "source": [
        "Теперь посмотрим на мощность"
      ]
    },
    {
      "cell_type": "code",
      "metadata": {
        "colab": {
          "base_uri": "https://localhost:8080/"
        },
        "id": "i3NOjTogICT6",
        "outputId": "18978bcc-abad-4a24-a7f0-2b85a7e89eec"
      },
      "source": [
        "df.power.max()"
      ],
      "execution_count": 85,
      "outputs": [
        {
          "output_type": "execute_result",
          "data": {
            "text/plain": [
              "20000"
            ]
          },
          "metadata": {
            "tags": []
          },
          "execution_count": 85
        }
      ]
    },
    {
      "cell_type": "code",
      "metadata": {
        "colab": {
          "base_uri": "https://localhost:8080/",
          "height": 346
        },
        "id": "0W4I6oaO_KdF",
        "outputId": "3764dbd3-6e2a-4282-fd3a-405ec5844761"
      },
      "source": [
        "sns.displot(df.power,aspect=3)"
      ],
      "execution_count": 83,
      "outputs": [
        {
          "output_type": "execute_result",
          "data": {
            "text/plain": [
              "<seaborn.axisgrid.FacetGrid at 0x7fbd19e02d50>"
            ]
          },
          "metadata": {
            "tags": []
          },
          "execution_count": 83
        },
        {
          "output_type": "display_data",
          "data": {
            "image/png": "[encoded data removed]",
            "text/plain": [
              "<Figure size 1080x360 with 1 Axes>"
            ]
          },
          "metadata": {
            "tags": []
          }
        }
      ]
    },
    {
      "cell_type": "code",
      "metadata": {
        "colab": {
          "base_uri": "https://localhost:8080/"
        },
        "id": "AXSzSE6Q_KdF",
        "outputId": "34d1960a-39a9-4a0e-8307-a6f08d754467"
      },
      "source": [
        "df.power.describe()"
      ],
      "execution_count": 86,
      "outputs": [
        {
          "output_type": "execute_result",
          "data": {
            "text/plain": [
              "count    327325.000000\n",
              "mean        112.338596\n",
              "std         185.284657\n",
              "min           0.000000\n",
              "25%          71.000000\n",
              "50%         105.000000\n",
              "75%         143.000000\n",
              "max       20000.000000\n",
              "Name: power, dtype: float64"
            ]
          },
          "metadata": {
            "tags": []
          },
          "execution_count": 86
        }
      ]
    },
    {
      "cell_type": "markdown",
      "metadata": {
        "id": "ZjAaPf11_KdG"
      },
      "source": [
        "Не машины, а ракеты. Мощность среднестатистического автомобиля схожа с нашим средним 111 л.с, есть автобусы с мощностью до 500 л.с. Удалим данные с мощностью более 700 л.с. - это уже уникальные ТС.\n",
        "У нас есть еще нулевые значения мощности. Вероятно здесь похожая ситуация как и с ценой автомобиля.\n",
        "За минимально возможную величину возьмем 9 л.с. "
      ]
    },
    {
      "cell_type": "code",
      "metadata": {
        "scrolled": true,
        "id": "v-e6vO4P_KdG"
      },
      "source": [
        "df.drop(df.query('power > 700 or power < 9').index, inplace=True)"
      ],
      "execution_count": 87,
      "outputs": []
    },
    {
      "cell_type": "code",
      "metadata": {
        "colab": {
          "base_uri": "https://localhost:8080/"
        },
        "id": "gGGD2jUi_KdG",
        "outputId": "b5717134-6027-4d36-e0a0-f1b2e957bc78"
      },
      "source": [
        "df.power.describe()"
      ],
      "execution_count": 88,
      "outputs": [
        {
          "output_type": "execute_result",
          "data": {
            "text/plain": [
              "count    295219.000000\n",
              "mean        120.767440\n",
              "std          54.035429\n",
              "min           9.000000\n",
              "25%          76.000000\n",
              "50%         111.000000\n",
              "75%         150.000000\n",
              "max         700.000000\n",
              "Name: power, dtype: float64"
            ]
          },
          "metadata": {
            "tags": []
          },
          "execution_count": 88
        }
      ]
    },
    {
      "cell_type": "code",
      "metadata": {
        "colab": {
          "base_uri": "https://localhost:8080/",
          "height": 306
        },
        "id": "ZC7IIMosITBp",
        "outputId": "eb3d3788-99a0-4fdc-f5e5-354555269356"
      },
      "source": [
        "plt.figure(figsize=(19,5))\n",
        "sns.histplot(df.power)"
      ],
      "execution_count": 96,
      "outputs": [
        {
          "output_type": "execute_result",
          "data": {
            "text/plain": [
              "<matplotlib.axes._subplots.AxesSubplot at 0x7fbd050753d0>"
            ]
          },
          "metadata": {
            "tags": []
          },
          "execution_count": 96
        },
        {
          "output_type": "display_data",
          "data": {
            "image/png": "[encoded data removed]",
            "text/plain": [
              "<Figure size 1368x360 with 1 Axes>"
            ]
          },
          "metadata": {
            "tags": []
          }
        }
      ]
    },
    {
      "cell_type": "code",
      "metadata": {
        "colab": {
          "base_uri": "https://localhost:8080/",
          "height": 321
        },
        "id": "gbHldI7B_KdG",
        "outputId": "e0e96c73-0159-4b5b-fbdc-a2736f1aa333"
      },
      "source": [
        "plt.figure(figsize=(19,5))\n",
        "sns.boxplot(data=df, x='power')"
      ],
      "execution_count": 97,
      "outputs": [
        {
          "output_type": "execute_result",
          "data": {
            "text/plain": [
              "<matplotlib.axes._subplots.AxesSubplot at 0x7fbd04b12550>"
            ]
          },
          "metadata": {
            "tags": []
          },
          "execution_count": 97
        },
        {
          "output_type": "display_data",
          "data": {
            "image/png": "[encoded data removed]",
            "text/plain": [
              "<Figure size 1368x360 with 1 Axes>"
            ]
          },
          "metadata": {
            "tags": []
          }
        }
      ]
    },
    {
      "cell_type": "markdown",
      "metadata": {
        "id": "NcBHp00A_KdG"
      },
      "source": [
        "#### Пробег"
      ]
    },
    {
      "cell_type": "code",
      "metadata": {
        "colab": {
          "base_uri": "https://localhost:8080/",
          "height": 346
        },
        "id": "LjnzdCxX_KdH",
        "outputId": "6f5bdff2-19e3-4b35-b1e7-3d3be0ca087a"
      },
      "source": [
        "sns.displot(df.kilometer,aspect=3)"
      ],
      "execution_count": 100,
      "outputs": [
        {
          "output_type": "execute_result",
          "data": {
            "text/plain": [
              "<seaborn.axisgrid.FacetGrid at 0x7fbd044c9950>"
            ]
          },
          "metadata": {
            "tags": []
          },
          "execution_count": 100
        },
        {
          "output_type": "display_data",
          "data": {
            "image/png": "[encoded data removed]",
            "text/plain": [
              "<Figure size 1080x360 with 1 Axes>"
            ]
          },
          "metadata": {
            "tags": []
          }
        }
      ]
    },
    {
      "cell_type": "code",
      "metadata": {
        "id": "pfzLqK8e_KdH",
        "outputId": "c0b9575f-f375-494b-d8de-9a6a682cae12"
      },
      "source": [
        "df.kilometer.describe()"
      ],
      "execution_count": null,
      "outputs": [
        {
          "output_type": "execute_result",
          "data": {
            "text/plain": [
              "count    295219.000000\n",
              "mean     128303.090248\n",
              "std       36714.971982\n",
              "min        5000.000000\n",
              "25%      125000.000000\n",
              "50%      150000.000000\n",
              "75%      150000.000000\n",
              "max      150000.000000\n",
              "Name: kilometer, dtype: float64"
            ]
          },
          "metadata": {
            "tags": []
          },
          "execution_count": 30
        }
      ]
    },
    {
      "cell_type": "markdown",
      "metadata": {
        "id": "ubY1tGeb_KdH"
      },
      "source": [
        "Признак километража очень странно выглядит, вероятно есть операция округления значений при подаче обьявлений"
      ]
    },
    {
      "cell_type": "code",
      "metadata": {
        "colab": {
          "base_uri": "https://localhost:8080/",
          "height": 363
        },
        "id": "tB253V0X_KdH",
        "outputId": "411a5728-cf74-4fee-dac7-190cebce4142"
      },
      "source": [
        "sns.displot(df.registrationmonth,aspect=3)"
      ],
      "execution_count": 103,
      "outputs": [
        {
          "output_type": "execute_result",
          "data": {
            "text/plain": [
              "<seaborn.axisgrid.FacetGrid at 0x7fbd04068d10>"
            ]
          },
          "metadata": {
            "tags": []
          },
          "execution_count": 103
        },
        {
          "output_type": "display_data",
          "data": {
            "text/plain": [
              "<Figure size 1368x360 with 0 Axes>"
            ]
          },
          "metadata": {
            "tags": []
          }
        },
        {
          "output_type": "display_data",
          "data": {
            "image/png": "[encoded data removed]",
            "text/plain": [
              "<Figure size 1080x360 with 1 Axes>"
            ]
          },
          "metadata": {
            "tags": []
          }
        }
      ]
    },
    {
      "cell_type": "markdown",
      "metadata": {
        "id": "nr6TvZ4C_KdI"
      },
      "source": [
        "Нулевой месяц, возможно это авто снятое с учета, тогда registrationyear скорее год выпуска. Пока оставим без изменений."
      ]
    },
    {
      "cell_type": "code",
      "metadata": {
        "colab": {
          "base_uri": "https://localhost:8080/"
        },
        "id": "z-PXa7hn_KdI",
        "outputId": "47306cb7-b136-4100-8824-f54cdcf9ac9c"
      },
      "source": [
        "df.shape"
      ],
      "execution_count": 106,
      "outputs": [
        {
          "output_type": "execute_result",
          "data": {
            "text/plain": [
              "(295219, 16)"
            ]
          },
          "metadata": {
            "tags": []
          },
          "execution_count": 106
        }
      ]
    },
    {
      "cell_type": "code",
      "metadata": {
        "colab": {
          "base_uri": "https://localhost:8080/"
        },
        "id": "zUYXx7PQ_KdI",
        "outputId": "5bc31fe2-7a39-44a8-d114-8f7475c4ba31"
      },
      "source": [
        "# check for NuN or empty\n",
        "df.isna().mean()\n"
      ],
      "execution_count": 107,
      "outputs": [
        {
          "output_type": "execute_result",
          "data": {
            "text/plain": [
              "datecrawled          0.000000\n",
              "price                0.000000\n",
              "vehicletype          0.036654\n",
              "registrationyear     0.000000\n",
              "gearbox              0.017811\n",
              "power                0.000000\n",
              "model                0.037061\n",
              "kilometer            0.000000\n",
              "registrationmonth    0.000000\n",
              "fueltype             0.051904\n",
              "brand                0.000000\n",
              "notrepaired          0.143869\n",
              "datecreated          0.000000\n",
              "numberofpictures     0.000000\n",
              "postalcode           0.000000\n",
              "lastseen             0.000000\n",
              "dtype: float64"
            ]
          },
          "metadata": {
            "tags": []
          },
          "execution_count": 107
        }
      ]
    },
    {
      "cell_type": "markdown",
      "metadata": {
        "id": "WdpUMy1A_KdI"
      },
      "source": [
        "Пропуски: \n",
        "- vehicletype - тип кузова 9%\n",
        "- gearbox  тип КП 4%\n",
        "- model - 4% \n",
        "- fueltype - тип топлива 8%\n",
        "- notrepaired - признак ремонта 18%\n",
        "\n",
        "Метрики категориальные. Попробуем сделать 2 дата сета.\n",
        " 1. полностью удалим данные,  хотя удалять 15% это совсем не правильно. Но в рамках эксперемента можно)\n",
        " 2. заполним пустышки \"other\", а затем сделаем процедуру \"OrdinalEncoder\"\n",
        " "
      ]
    },
    {
      "cell_type": "markdown",
      "metadata": {
        "id": "bwdrL9hc_KdJ"
      },
      "source": [
        "### Временные признаки, дата"
      ]
    },
    {
      "cell_type": "code",
      "metadata": {
        "colab": {
          "base_uri": "https://localhost:8080/",
          "height": 134
        },
        "id": "Up_PqBxn_KdJ",
        "outputId": "f9d4e70f-251b-488a-d42f-d8cc0fdcc3e5"
      },
      "source": [
        "df.head(1)"
      ],
      "execution_count": 108,
      "outputs": [
        {
          "output_type": "execute_result",
          "data": {
            "text/html": [
              "<div>\n",
              "<style scoped>\n",
              "    .dataframe tbody tr th:only-of-type {\n",
              "        vertical-align: middle;\n",
              "    }\n",
              "\n",
              "    .dataframe tbody tr th {\n",
              "        vertical-align: top;\n",
              "    }\n",
              "\n",
              "    .dataframe thead th {\n",
              "        text-align: right;\n",
              "    }\n",
              "</style>\n",
              "<table border=\"1\" class=\"dataframe\">\n",
              "  <thead>\n",
              "    <tr style=\"text-align: right;\">\n",
              "      <th></th>\n",
              "      <th>datecrawled</th>\n",
              "      <th>price</th>\n",
              "      <th>vehicletype</th>\n",
              "      <th>registrationyear</th>\n",
              "      <th>gearbox</th>\n",
              "      <th>power</th>\n",
              "      <th>model</th>\n",
              "      <th>kilometer</th>\n",
              "      <th>registrationmonth</th>\n",
              "      <th>fueltype</th>\n",
              "      <th>brand</th>\n",
              "      <th>notrepaired</th>\n",
              "      <th>datecreated</th>\n",
              "      <th>numberofpictures</th>\n",
              "      <th>postalcode</th>\n",
              "      <th>lastseen</th>\n",
              "    </tr>\n",
              "  </thead>\n",
              "  <tbody>\n",
              "    <tr>\n",
              "      <th>1</th>\n",
              "      <td>2016-03-24 10:58:45</td>\n",
              "      <td>18300</td>\n",
              "      <td>coupe</td>\n",
              "      <td>2011</td>\n",
              "      <td>manual</td>\n",
              "      <td>190</td>\n",
              "      <td>NaN</td>\n",
              "      <td>125000</td>\n",
              "      <td>5</td>\n",
              "      <td>gasoline</td>\n",
              "      <td>audi</td>\n",
              "      <td>yes</td>\n",
              "      <td>2016-03-24 00:00:00</td>\n",
              "      <td>0</td>\n",
              "      <td>66954</td>\n",
              "      <td>2016-04-07 01:46:50</td>\n",
              "    </tr>\n",
              "  </tbody>\n",
              "</table>\n",
              "</div>"
            ],
            "text/plain": [
              "           datecrawled  price  ... postalcode             lastseen\n",
              "1  2016-03-24 10:58:45  18300  ...      66954  2016-04-07 01:46:50\n",
              "\n",
              "[1 rows x 16 columns]"
            ]
          },
          "metadata": {
            "tags": []
          },
          "execution_count": 108
        }
      ]
    },
    {
      "cell_type": "markdown",
      "metadata": {
        "id": "hR60WcgE_KdJ"
      },
      "source": [
        "У нас есть три временных признака, дата скачивания анкеты (datecrawled), дата создания обьявления (datecreated)  и дата последней активности (lastseen) посмотрим на самые старые или новые обьявления. "
      ]
    },
    {
      "cell_type": "code",
      "metadata": {
        "colab": {
          "base_uri": "https://localhost:8080/"
        },
        "id": "Sm-UxSsv_KdJ",
        "outputId": "fa513f1e-af09-468d-fd89-d352b9d3baad"
      },
      "source": [
        "df[['datecrawled', 'datecreated', 'lastseen']].min()"
      ],
      "execution_count": 109,
      "outputs": [
        {
          "output_type": "execute_result",
          "data": {
            "text/plain": [
              "datecrawled    2016-03-05 14:06:22\n",
              "datecreated    2015-03-20 00:00:00\n",
              "lastseen       2016-03-05 14:15:08\n",
              "dtype: object"
            ]
          },
          "metadata": {
            "tags": []
          },
          "execution_count": 109
        }
      ]
    },
    {
      "cell_type": "code",
      "metadata": {
        "colab": {
          "base_uri": "https://localhost:8080/"
        },
        "id": "sENCnNJa_KdK",
        "outputId": "0ae0f9bb-33ac-4492-e1e7-ad92c08a5ff3"
      },
      "source": [
        "df[['datecrawled', 'datecreated', 'lastseen']].max()"
      ],
      "execution_count": 110,
      "outputs": [
        {
          "output_type": "execute_result",
          "data": {
            "text/plain": [
              "datecrawled    2016-04-07 14:36:58\n",
              "datecreated    2016-04-07 00:00:00\n",
              "lastseen       2016-04-07 14:58:51\n",
              "dtype: object"
            ]
          },
          "metadata": {
            "tags": []
          },
          "execution_count": 110
        }
      ]
    },
    {
      "cell_type": "code",
      "metadata": {
        "id": "302USZyq_KdK"
      },
      "source": [
        "df['yearcreated'] = pd.DatetimeIndex(df['datecreated']).year"
      ],
      "execution_count": 111,
      "outputs": []
    },
    {
      "cell_type": "code",
      "metadata": {
        "id": "foBQLb8X_KdK"
      },
      "source": [
        "df['monthcreated'] = pd.DatetimeIndex(df['datecreated']).month"
      ],
      "execution_count": 112,
      "outputs": []
    },
    {
      "cell_type": "markdown",
      "metadata": {
        "id": "D7-S8Kc-_KdK"
      },
      "source": [
        "В нашем распоряжении срез данных примерно за год и три временных признака, но важным по сути является только дата создания обьявления, создадим 2 новых признака. Год и месяц публикации"
      ]
    },
    {
      "cell_type": "code",
      "metadata": {
        "colab": {
          "base_uri": "https://localhost:8080/",
          "height": 264
        },
        "id": "BZr6DOnK_KdK",
        "outputId": "510f9f7d-b419-4a51-bdad-87145f96cbf1"
      },
      "source": [
        "df.head(3)"
      ],
      "execution_count": 114,
      "outputs": [
        {
          "output_type": "execute_result",
          "data": {
            "text/html": [
              "<div>\n",
              "<style scoped>\n",
              "    .dataframe tbody tr th:only-of-type {\n",
              "        vertical-align: middle;\n",
              "    }\n",
              "\n",
              "    .dataframe tbody tr th {\n",
              "        vertical-align: top;\n",
              "    }\n",
              "\n",
              "    .dataframe thead th {\n",
              "        text-align: right;\n",
              "    }\n",
              "</style>\n",
              "<table border=\"1\" class=\"dataframe\">\n",
              "  <thead>\n",
              "    <tr style=\"text-align: right;\">\n",
              "      <th></th>\n",
              "      <th>datecrawled</th>\n",
              "      <th>price</th>\n",
              "      <th>vehicletype</th>\n",
              "      <th>registrationyear</th>\n",
              "      <th>gearbox</th>\n",
              "      <th>power</th>\n",
              "      <th>model</th>\n",
              "      <th>kilometer</th>\n",
              "      <th>registrationmonth</th>\n",
              "      <th>fueltype</th>\n",
              "      <th>brand</th>\n",
              "      <th>notrepaired</th>\n",
              "      <th>datecreated</th>\n",
              "      <th>numberofpictures</th>\n",
              "      <th>postalcode</th>\n",
              "      <th>lastseen</th>\n",
              "      <th>yearcreated</th>\n",
              "      <th>monthcreated</th>\n",
              "    </tr>\n",
              "  </thead>\n",
              "  <tbody>\n",
              "    <tr>\n",
              "      <th>1</th>\n",
              "      <td>2016-03-24 10:58:45</td>\n",
              "      <td>18300</td>\n",
              "      <td>coupe</td>\n",
              "      <td>2011</td>\n",
              "      <td>manual</td>\n",
              "      <td>190</td>\n",
              "      <td>NaN</td>\n",
              "      <td>125000</td>\n",
              "      <td>5</td>\n",
              "      <td>gasoline</td>\n",
              "      <td>audi</td>\n",
              "      <td>yes</td>\n",
              "      <td>2016-03-24 00:00:00</td>\n",
              "      <td>0</td>\n",
              "      <td>66954</td>\n",
              "      <td>2016-04-07 01:46:50</td>\n",
              "      <td>2016</td>\n",
              "      <td>3</td>\n",
              "    </tr>\n",
              "    <tr>\n",
              "      <th>2</th>\n",
              "      <td>2016-03-14 12:52:21</td>\n",
              "      <td>9800</td>\n",
              "      <td>suv</td>\n",
              "      <td>2004</td>\n",
              "      <td>auto</td>\n",
              "      <td>163</td>\n",
              "      <td>grand</td>\n",
              "      <td>125000</td>\n",
              "      <td>8</td>\n",
              "      <td>gasoline</td>\n",
              "      <td>jeep</td>\n",
              "      <td>NaN</td>\n",
              "      <td>2016-03-14 00:00:00</td>\n",
              "      <td>0</td>\n",
              "      <td>90480</td>\n",
              "      <td>2016-04-05 12:47:46</td>\n",
              "      <td>2016</td>\n",
              "      <td>3</td>\n",
              "    </tr>\n",
              "    <tr>\n",
              "      <th>3</th>\n",
              "      <td>2016-03-17 16:54:04</td>\n",
              "      <td>1500</td>\n",
              "      <td>small</td>\n",
              "      <td>2001</td>\n",
              "      <td>manual</td>\n",
              "      <td>75</td>\n",
              "      <td>golf</td>\n",
              "      <td>150000</td>\n",
              "      <td>6</td>\n",
              "      <td>petrol</td>\n",
              "      <td>volkswagen</td>\n",
              "      <td>no</td>\n",
              "      <td>2016-03-17 00:00:00</td>\n",
              "      <td>0</td>\n",
              "      <td>91074</td>\n",
              "      <td>2016-03-17 17:40:17</td>\n",
              "      <td>2016</td>\n",
              "      <td>3</td>\n",
              "    </tr>\n",
              "  </tbody>\n",
              "</table>\n",
              "</div>"
            ],
            "text/plain": [
              "           datecrawled  price  ... yearcreated  monthcreated\n",
              "1  2016-03-24 10:58:45  18300  ...        2016             3\n",
              "2  2016-03-14 12:52:21   9800  ...        2016             3\n",
              "3  2016-03-17 16:54:04   1500  ...        2016             3\n",
              "\n",
              "[3 rows x 18 columns]"
            ]
          },
          "metadata": {
            "tags": []
          },
          "execution_count": 114
        }
      ]
    },
    {
      "cell_type": "markdown",
      "metadata": {
        "id": "Rp5tDTI1_KdK"
      },
      "source": [
        "#### Почтовый индекс"
      ]
    },
    {
      "cell_type": "markdown",
      "metadata": {
        "id": "KZrBXjyS_KdL"
      },
      "source": [
        "Почтовый индекс значимый признак, отражающий географическое положение обьявления, что вв свою очередь влияет на цену автомобиля.\n",
        "Проверим уникальность индексов и присвоим им ранг. Возможно это облегчит задачу модели."
      ]
    },
    {
      "cell_type": "code",
      "metadata": {
        "colab": {
          "base_uri": "https://localhost:8080/"
        },
        "id": "TVzN-UFb_KdL",
        "outputId": "0672ca1a-f549-413d-a521-849f65a8c4fe"
      },
      "source": [
        "# проверка уникальности индексов\n",
        "len(df['postalcode'].unique())"
      ],
      "execution_count": 115,
      "outputs": [
        {
          "output_type": "execute_result",
          "data": {
            "text/plain": [
              "8116"
            ]
          },
          "metadata": {
            "tags": []
          },
          "execution_count": 115
        }
      ]
    },
    {
      "cell_type": "code",
      "metadata": {
        "id": "6aCDIfl-_KdL"
      },
      "source": [
        "df['postalrank'] = df['postalcode'].rank(pct=max)"
      ],
      "execution_count": 116,
      "outputs": []
    },
    {
      "cell_type": "code",
      "metadata": {
        "colab": {
          "base_uri": "https://localhost:8080/",
          "height": 199
        },
        "id": "IcWXcQqQ_KdL",
        "outputId": "bc35a71a-4969-4da9-d002-4d3ec73265be"
      },
      "source": [
        "df.head(2)"
      ],
      "execution_count": 117,
      "outputs": [
        {
          "output_type": "execute_result",
          "data": {
            "text/html": [
              "<div>\n",
              "<style scoped>\n",
              "    .dataframe tbody tr th:only-of-type {\n",
              "        vertical-align: middle;\n",
              "    }\n",
              "\n",
              "    .dataframe tbody tr th {\n",
              "        vertical-align: top;\n",
              "    }\n",
              "\n",
              "    .dataframe thead th {\n",
              "        text-align: right;\n",
              "    }\n",
              "</style>\n",
              "<table border=\"1\" class=\"dataframe\">\n",
              "  <thead>\n",
              "    <tr style=\"text-align: right;\">\n",
              "      <th></th>\n",
              "      <th>datecrawled</th>\n",
              "      <th>price</th>\n",
              "      <th>vehicletype</th>\n",
              "      <th>registrationyear</th>\n",
              "      <th>gearbox</th>\n",
              "      <th>power</th>\n",
              "      <th>model</th>\n",
              "      <th>kilometer</th>\n",
              "      <th>registrationmonth</th>\n",
              "      <th>fueltype</th>\n",
              "      <th>brand</th>\n",
              "      <th>notrepaired</th>\n",
              "      <th>datecreated</th>\n",
              "      <th>numberofpictures</th>\n",
              "      <th>postalcode</th>\n",
              "      <th>lastseen</th>\n",
              "      <th>yearcreated</th>\n",
              "      <th>monthcreated</th>\n",
              "      <th>postalrank</th>\n",
              "    </tr>\n",
              "  </thead>\n",
              "  <tbody>\n",
              "    <tr>\n",
              "      <th>1</th>\n",
              "      <td>2016-03-24 10:58:45</td>\n",
              "      <td>18300</td>\n",
              "      <td>coupe</td>\n",
              "      <td>2011</td>\n",
              "      <td>manual</td>\n",
              "      <td>190</td>\n",
              "      <td>NaN</td>\n",
              "      <td>125000</td>\n",
              "      <td>5</td>\n",
              "      <td>gasoline</td>\n",
              "      <td>audi</td>\n",
              "      <td>yes</td>\n",
              "      <td>2016-03-24 00:00:00</td>\n",
              "      <td>0</td>\n",
              "      <td>66954</td>\n",
              "      <td>2016-04-07 01:46:50</td>\n",
              "      <td>2016</td>\n",
              "      <td>3</td>\n",
              "      <td>0.710339</td>\n",
              "    </tr>\n",
              "    <tr>\n",
              "      <th>2</th>\n",
              "      <td>2016-03-14 12:52:21</td>\n",
              "      <td>9800</td>\n",
              "      <td>suv</td>\n",
              "      <td>2004</td>\n",
              "      <td>auto</td>\n",
              "      <td>163</td>\n",
              "      <td>grand</td>\n",
              "      <td>125000</td>\n",
              "      <td>8</td>\n",
              "      <td>gasoline</td>\n",
              "      <td>jeep</td>\n",
              "      <td>NaN</td>\n",
              "      <td>2016-03-14 00:00:00</td>\n",
              "      <td>0</td>\n",
              "      <td>90480</td>\n",
              "      <td>2016-04-05 12:47:46</td>\n",
              "      <td>2016</td>\n",
              "      <td>3</td>\n",
              "      <td>0.924730</td>\n",
              "    </tr>\n",
              "  </tbody>\n",
              "</table>\n",
              "</div>"
            ],
            "text/plain": [
              "           datecrawled  price  ... monthcreated  postalrank\n",
              "1  2016-03-24 10:58:45  18300  ...            3    0.710339\n",
              "2  2016-03-14 12:52:21   9800  ...            3    0.924730\n",
              "\n",
              "[2 rows x 19 columns]"
            ]
          },
          "metadata": {
            "tags": []
          },
          "execution_count": 117
        }
      ]
    },
    {
      "cell_type": "code",
      "metadata": {
        "id": "USDrl8S7_KdL"
      },
      "source": [
        "# Удалим  признаки даты \n",
        "df.drop(['datecrawled', 'datecreated', 'lastseen','numberofpictures'],axis=1 ,inplace=True)"
      ],
      "execution_count": 118,
      "outputs": []
    },
    {
      "cell_type": "code",
      "metadata": {
        "colab": {
          "base_uri": "https://localhost:8080/",
          "height": 348
        },
        "id": "5hbRX7-F_KdM",
        "outputId": "dd5fc8de-422b-4748-98ae-bc9eeab9e7ba"
      },
      "source": [
        "df.corr()"
      ],
      "execution_count": 119,
      "outputs": [
        {
          "output_type": "execute_result",
          "data": {
            "text/html": [
              "<div>\n",
              "<style scoped>\n",
              "    .dataframe tbody tr th:only-of-type {\n",
              "        vertical-align: middle;\n",
              "    }\n",
              "\n",
              "    .dataframe tbody tr th {\n",
              "        vertical-align: top;\n",
              "    }\n",
              "\n",
              "    .dataframe thead th {\n",
              "        text-align: right;\n",
              "    }\n",
              "</style>\n",
              "<table border=\"1\" class=\"dataframe\">\n",
              "  <thead>\n",
              "    <tr style=\"text-align: right;\">\n",
              "      <th></th>\n",
              "      <th>price</th>\n",
              "      <th>registrationyear</th>\n",
              "      <th>power</th>\n",
              "      <th>kilometer</th>\n",
              "      <th>registrationmonth</th>\n",
              "      <th>postalcode</th>\n",
              "      <th>yearcreated</th>\n",
              "      <th>monthcreated</th>\n",
              "      <th>postalrank</th>\n",
              "    </tr>\n",
              "  </thead>\n",
              "  <tbody>\n",
              "    <tr>\n",
              "      <th>price</th>\n",
              "      <td>1.000000</td>\n",
              "      <td>0.481021</td>\n",
              "      <td>0.506217</td>\n",
              "      <td>-0.388892</td>\n",
              "      <td>0.067679</td>\n",
              "      <td>0.064415</td>\n",
              "      <td>-0.004414</td>\n",
              "      <td>0.015664</td>\n",
              "      <td>0.064683</td>\n",
              "    </tr>\n",
              "    <tr>\n",
              "      <th>registrationyear</th>\n",
              "      <td>0.481021</td>\n",
              "      <td>1.000000</td>\n",
              "      <td>0.135802</td>\n",
              "      <td>-0.287921</td>\n",
              "      <td>0.046820</td>\n",
              "      <td>0.029403</td>\n",
              "      <td>-0.001554</td>\n",
              "      <td>0.000500</td>\n",
              "      <td>0.029667</td>\n",
              "    </tr>\n",
              "    <tr>\n",
              "      <th>power</th>\n",
              "      <td>0.506217</td>\n",
              "      <td>0.135802</td>\n",
              "      <td>1.000000</td>\n",
              "      <td>0.104346</td>\n",
              "      <td>0.041344</td>\n",
              "      <td>0.054016</td>\n",
              "      <td>-0.000275</td>\n",
              "      <td>0.002578</td>\n",
              "      <td>0.054569</td>\n",
              "    </tr>\n",
              "    <tr>\n",
              "      <th>kilometer</th>\n",
              "      <td>-0.388892</td>\n",
              "      <td>-0.287921</td>\n",
              "      <td>0.104346</td>\n",
              "      <td>1.000000</td>\n",
              "      <td>-0.014919</td>\n",
              "      <td>-0.010198</td>\n",
              "      <td>0.004751</td>\n",
              "      <td>-0.002722</td>\n",
              "      <td>-0.011170</td>\n",
              "    </tr>\n",
              "    <tr>\n",
              "      <th>registrationmonth</th>\n",
              "      <td>0.067679</td>\n",
              "      <td>0.046820</td>\n",
              "      <td>0.041344</td>\n",
              "      <td>-0.014919</td>\n",
              "      <td>1.000000</td>\n",
              "      <td>0.002165</td>\n",
              "      <td>0.003145</td>\n",
              "      <td>-0.002819</td>\n",
              "      <td>0.002421</td>\n",
              "    </tr>\n",
              "    <tr>\n",
              "      <th>postalcode</th>\n",
              "      <td>0.064415</td>\n",
              "      <td>0.029403</td>\n",
              "      <td>0.054016</td>\n",
              "      <td>-0.010198</td>\n",
              "      <td>0.002165</td>\n",
              "      <td>1.000000</td>\n",
              "      <td>0.002194</td>\n",
              "      <td>0.009980</td>\n",
              "      <td>0.997360</td>\n",
              "    </tr>\n",
              "    <tr>\n",
              "      <th>yearcreated</th>\n",
              "      <td>-0.004414</td>\n",
              "      <td>-0.001554</td>\n",
              "      <td>-0.000275</td>\n",
              "      <td>0.004751</td>\n",
              "      <td>0.003145</td>\n",
              "      <td>0.002194</td>\n",
              "      <td>1.000000</td>\n",
              "      <td>-0.175954</td>\n",
              "      <td>0.001912</td>\n",
              "    </tr>\n",
              "    <tr>\n",
              "      <th>monthcreated</th>\n",
              "      <td>0.015664</td>\n",
              "      <td>0.000500</td>\n",
              "      <td>0.002578</td>\n",
              "      <td>-0.002722</td>\n",
              "      <td>-0.002819</td>\n",
              "      <td>0.009980</td>\n",
              "      <td>-0.175954</td>\n",
              "      <td>1.000000</td>\n",
              "      <td>0.010125</td>\n",
              "    </tr>\n",
              "    <tr>\n",
              "      <th>postalrank</th>\n",
              "      <td>0.064683</td>\n",
              "      <td>0.029667</td>\n",
              "      <td>0.054569</td>\n",
              "      <td>-0.011170</td>\n",
              "      <td>0.002421</td>\n",
              "      <td>0.997360</td>\n",
              "      <td>0.001912</td>\n",
              "      <td>0.010125</td>\n",
              "      <td>1.000000</td>\n",
              "    </tr>\n",
              "  </tbody>\n",
              "</table>\n",
              "</div>"
            ],
            "text/plain": [
              "                      price  registrationyear  ...  monthcreated  postalrank\n",
              "price              1.000000          0.481021  ...      0.015664    0.064683\n",
              "registrationyear   0.481021          1.000000  ...      0.000500    0.029667\n",
              "power              0.506217          0.135802  ...      0.002578    0.054569\n",
              "kilometer         -0.388892         -0.287921  ...     -0.002722   -0.011170\n",
              "registrationmonth  0.067679          0.046820  ...     -0.002819    0.002421\n",
              "postalcode         0.064415          0.029403  ...      0.009980    0.997360\n",
              "yearcreated       -0.004414         -0.001554  ...     -0.175954    0.001912\n",
              "monthcreated       0.015664          0.000500  ...      1.000000    0.010125\n",
              "postalrank         0.064683          0.029667  ...      0.010125    1.000000\n",
              "\n",
              "[9 rows x 9 columns]"
            ]
          },
          "metadata": {
            "tags": []
          },
          "execution_count": 119
        }
      ]
    },
    {
      "cell_type": "code",
      "metadata": {
        "id": "NMcoKNpS_KdM"
      },
      "source": [
        "# Удалим  признаки даты и почтового индекса\n",
        "df.drop(['postalcode','registrationmonth','yearcreated','monthcreated'],axis=1 ,inplace=True)"
      ],
      "execution_count": 120,
      "outputs": []
    },
    {
      "cell_type": "code",
      "metadata": {
        "colab": {
          "base_uri": "https://localhost:8080/",
          "height": 419
        },
        "id": "-BSidqBT_KdM",
        "outputId": "30434869-14a8-425e-b805-c0536acddc87"
      },
      "source": [
        "df"
      ],
      "execution_count": 167,
      "outputs": [
        {
          "output_type": "execute_result",
          "data": {
            "text/html": [
              "<div>\n",
              "<style scoped>\n",
              "    .dataframe tbody tr th:only-of-type {\n",
              "        vertical-align: middle;\n",
              "    }\n",
              "\n",
              "    .dataframe tbody tr th {\n",
              "        vertical-align: top;\n",
              "    }\n",
              "\n",
              "    .dataframe thead th {\n",
              "        text-align: right;\n",
              "    }\n",
              "</style>\n",
              "<table border=\"1\" class=\"dataframe\">\n",
              "  <thead>\n",
              "    <tr style=\"text-align: right;\">\n",
              "      <th></th>\n",
              "      <th>price</th>\n",
              "      <th>vehicletype</th>\n",
              "      <th>registrationyear</th>\n",
              "      <th>gearbox</th>\n",
              "      <th>power</th>\n",
              "      <th>model</th>\n",
              "      <th>kilometer</th>\n",
              "      <th>fueltype</th>\n",
              "      <th>brand</th>\n",
              "      <th>notrepaired</th>\n",
              "      <th>postalrank</th>\n",
              "    </tr>\n",
              "  </thead>\n",
              "  <tbody>\n",
              "    <tr>\n",
              "      <th>1</th>\n",
              "      <td>18300</td>\n",
              "      <td>coupe</td>\n",
              "      <td>2011</td>\n",
              "      <td>manual</td>\n",
              "      <td>190</td>\n",
              "      <td>NaN</td>\n",
              "      <td>125000</td>\n",
              "      <td>gasoline</td>\n",
              "      <td>audi</td>\n",
              "      <td>yes</td>\n",
              "      <td>0.710339</td>\n",
              "    </tr>\n",
              "    <tr>\n",
              "      <th>2</th>\n",
              "      <td>9800</td>\n",
              "      <td>suv</td>\n",
              "      <td>2004</td>\n",
              "      <td>auto</td>\n",
              "      <td>163</td>\n",
              "      <td>grand</td>\n",
              "      <td>125000</td>\n",
              "      <td>gasoline</td>\n",
              "      <td>jeep</td>\n",
              "      <td>NaN</td>\n",
              "      <td>0.924730</td>\n",
              "    </tr>\n",
              "    <tr>\n",
              "      <th>3</th>\n",
              "      <td>1500</td>\n",
              "      <td>small</td>\n",
              "      <td>2001</td>\n",
              "      <td>manual</td>\n",
              "      <td>75</td>\n",
              "      <td>golf</td>\n",
              "      <td>150000</td>\n",
              "      <td>petrol</td>\n",
              "      <td>volkswagen</td>\n",
              "      <td>no</td>\n",
              "      <td>0.930518</td>\n",
              "    </tr>\n",
              "    <tr>\n",
              "      <th>4</th>\n",
              "      <td>3600</td>\n",
              "      <td>small</td>\n",
              "      <td>2008</td>\n",
              "      <td>manual</td>\n",
              "      <td>69</td>\n",
              "      <td>fabia</td>\n",
              "      <td>90000</td>\n",
              "      <td>gasoline</td>\n",
              "      <td>skoda</td>\n",
              "      <td>no</td>\n",
              "      <td>0.635552</td>\n",
              "    </tr>\n",
              "    <tr>\n",
              "      <th>5</th>\n",
              "      <td>650</td>\n",
              "      <td>sedan</td>\n",
              "      <td>1995</td>\n",
              "      <td>manual</td>\n",
              "      <td>102</td>\n",
              "      <td>3er</td>\n",
              "      <td>150000</td>\n",
              "      <td>petrol</td>\n",
              "      <td>bmw</td>\n",
              "      <td>yes</td>\n",
              "      <td>0.293530</td>\n",
              "    </tr>\n",
              "    <tr>\n",
              "      <th>...</th>\n",
              "      <td>...</td>\n",
              "      <td>...</td>\n",
              "      <td>...</td>\n",
              "      <td>...</td>\n",
              "      <td>...</td>\n",
              "      <td>...</td>\n",
              "      <td>...</td>\n",
              "      <td>...</td>\n",
              "      <td>...</td>\n",
              "      <td>...</td>\n",
              "      <td>...</td>\n",
              "    </tr>\n",
              "    <tr>\n",
              "      <th>354361</th>\n",
              "      <td>5250</td>\n",
              "      <td>NaN</td>\n",
              "      <td>2016</td>\n",
              "      <td>auto</td>\n",
              "      <td>150</td>\n",
              "      <td>159</td>\n",
              "      <td>150000</td>\n",
              "      <td>NaN</td>\n",
              "      <td>alfa_romeo</td>\n",
              "      <td>no</td>\n",
              "      <td>0.514105</td>\n",
              "    </tr>\n",
              "    <tr>\n",
              "      <th>354362</th>\n",
              "      <td>3200</td>\n",
              "      <td>sedan</td>\n",
              "      <td>2004</td>\n",
              "      <td>manual</td>\n",
              "      <td>225</td>\n",
              "      <td>leon</td>\n",
              "      <td>150000</td>\n",
              "      <td>petrol</td>\n",
              "      <td>seat</td>\n",
              "      <td>yes</td>\n",
              "      <td>0.976816</td>\n",
              "    </tr>\n",
              "    <tr>\n",
              "      <th>354366</th>\n",
              "      <td>1199</td>\n",
              "      <td>convertible</td>\n",
              "      <td>2000</td>\n",
              "      <td>auto</td>\n",
              "      <td>101</td>\n",
              "      <td>fortwo</td>\n",
              "      <td>125000</td>\n",
              "      <td>petrol</td>\n",
              "      <td>smart</td>\n",
              "      <td>no</td>\n",
              "      <td>0.192315</td>\n",
              "    </tr>\n",
              "    <tr>\n",
              "      <th>354367</th>\n",
              "      <td>9200</td>\n",
              "      <td>bus</td>\n",
              "      <td>1996</td>\n",
              "      <td>manual</td>\n",
              "      <td>102</td>\n",
              "      <td>transporter</td>\n",
              "      <td>150000</td>\n",
              "      <td>gasoline</td>\n",
              "      <td>volkswagen</td>\n",
              "      <td>no</td>\n",
              "      <td>0.891321</td>\n",
              "    </tr>\n",
              "    <tr>\n",
              "      <th>354368</th>\n",
              "      <td>3400</td>\n",
              "      <td>wagon</td>\n",
              "      <td>2002</td>\n",
              "      <td>manual</td>\n",
              "      <td>100</td>\n",
              "      <td>golf</td>\n",
              "      <td>150000</td>\n",
              "      <td>gasoline</td>\n",
              "      <td>volkswagen</td>\n",
              "      <td>NaN</td>\n",
              "      <td>0.368787</td>\n",
              "    </tr>\n",
              "  </tbody>\n",
              "</table>\n",
              "<p>295219 rows × 11 columns</p>\n",
              "</div>"
            ],
            "text/plain": [
              "        price  vehicletype  ...  notrepaired postalrank\n",
              "1       18300        coupe  ...          yes   0.710339\n",
              "2        9800          suv  ...          NaN   0.924730\n",
              "3        1500        small  ...           no   0.930518\n",
              "4        3600        small  ...           no   0.635552\n",
              "5         650        sedan  ...          yes   0.293530\n",
              "...       ...          ...  ...          ...        ...\n",
              "354361   5250          NaN  ...           no   0.514105\n",
              "354362   3200        sedan  ...          yes   0.976816\n",
              "354366   1199  convertible  ...           no   0.192315\n",
              "354367   9200          bus  ...           no   0.891321\n",
              "354368   3400        wagon  ...          NaN   0.368787\n",
              "\n",
              "[295219 rows x 11 columns]"
            ]
          },
          "metadata": {
            "tags": []
          },
          "execution_count": 167
        }
      ]
    },
    {
      "cell_type": "markdown",
      "metadata": {
        "id": "d7djEVuI_KdM"
      },
      "source": [
        "#### Порядковое кодирование и стандартизация"
      ]
    },
    {
      "cell_type": "code",
      "metadata": {
        "id": "bTddhtNyPmJh"
      },
      "source": [
        "class myTransform(BaseEstimator, TransformerMixin):\n",
        "  def __init__(self, clr):\n",
        "    self.clr = clr \n",
        "  \n",
        "\n",
        "  def fit(self, X, y=None):\n",
        "    return self\n",
        "\n",
        "  def transform(self, X):\n",
        "    temp = X.copy()\n",
        "\n",
        "    if self.clr:\n",
        "      temp = temp.dropna()\n",
        "    else: \n",
        "      temp.fillna(value=\"other\", inplace=True)  \n",
        "    \n",
        "    return temp"
      ],
      "execution_count": 196,
      "outputs": []
    },
    {
      "cell_type": "code",
      "metadata": {
        "id": "rYIa0Mxm_KdM"
      },
      "source": [
        "\n",
        "df_clear = myTransform(clr=False)"
      ],
      "execution_count": 197,
      "outputs": []
    },
    {
      "cell_type": "code",
      "metadata": {
        "id": "KatHJYgbi_Fy",
        "outputId": "b60da043-41ac-45a8-de76-89b59ac2b7f0",
        "colab": {
          "base_uri": "https://localhost:8080/"
        }
      },
      "source": [
        "df_clear"
      ],
      "execution_count": 198,
      "outputs": [
        {
          "output_type": "execute_result",
          "data": {
            "text/plain": [
              "myTransform(clr=False)"
            ]
          },
          "metadata": {
            "tags": []
          },
          "execution_count": 198
        }
      ]
    },
    {
      "cell_type": "code",
      "metadata": {
        "id": "3-6xtYTIRnR7"
      },
      "source": [
        "\n",
        "newdf = df_clear.fit_transform(df)"
      ],
      "execution_count": 199,
      "outputs": []
    },
    {
      "cell_type": "code",
      "metadata": {
        "scrolled": false,
        "colab": {
          "base_uri": "https://localhost:8080/",
          "height": 419
        },
        "id": "Z13RnL92_KdN",
        "outputId": "90e56ced-e38c-4838-befa-079857ce2c6c"
      },
      "source": [
        "newdf"
      ],
      "execution_count": 200,
      "outputs": [
        {
          "output_type": "execute_result",
          "data": {
            "text/html": [
              "<div>\n",
              "<style scoped>\n",
              "    .dataframe tbody tr th:only-of-type {\n",
              "        vertical-align: middle;\n",
              "    }\n",
              "\n",
              "    .dataframe tbody tr th {\n",
              "        vertical-align: top;\n",
              "    }\n",
              "\n",
              "    .dataframe thead th {\n",
              "        text-align: right;\n",
              "    }\n",
              "</style>\n",
              "<table border=\"1\" class=\"dataframe\">\n",
              "  <thead>\n",
              "    <tr style=\"text-align: right;\">\n",
              "      <th></th>\n",
              "      <th>price</th>\n",
              "      <th>vehicletype</th>\n",
              "      <th>registrationyear</th>\n",
              "      <th>gearbox</th>\n",
              "      <th>power</th>\n",
              "      <th>model</th>\n",
              "      <th>kilometer</th>\n",
              "      <th>fueltype</th>\n",
              "      <th>brand</th>\n",
              "      <th>notrepaired</th>\n",
              "      <th>postalrank</th>\n",
              "    </tr>\n",
              "  </thead>\n",
              "  <tbody>\n",
              "    <tr>\n",
              "      <th>1</th>\n",
              "      <td>18300</td>\n",
              "      <td>coupe</td>\n",
              "      <td>2011</td>\n",
              "      <td>manual</td>\n",
              "      <td>190</td>\n",
              "      <td>other</td>\n",
              "      <td>125000</td>\n",
              "      <td>gasoline</td>\n",
              "      <td>audi</td>\n",
              "      <td>yes</td>\n",
              "      <td>0.710339</td>\n",
              "    </tr>\n",
              "    <tr>\n",
              "      <th>2</th>\n",
              "      <td>9800</td>\n",
              "      <td>suv</td>\n",
              "      <td>2004</td>\n",
              "      <td>auto</td>\n",
              "      <td>163</td>\n",
              "      <td>grand</td>\n",
              "      <td>125000</td>\n",
              "      <td>gasoline</td>\n",
              "      <td>jeep</td>\n",
              "      <td>other</td>\n",
              "      <td>0.924730</td>\n",
              "    </tr>\n",
              "    <tr>\n",
              "      <th>3</th>\n",
              "      <td>1500</td>\n",
              "      <td>small</td>\n",
              "      <td>2001</td>\n",
              "      <td>manual</td>\n",
              "      <td>75</td>\n",
              "      <td>golf</td>\n",
              "      <td>150000</td>\n",
              "      <td>petrol</td>\n",
              "      <td>volkswagen</td>\n",
              "      <td>no</td>\n",
              "      <td>0.930518</td>\n",
              "    </tr>\n",
              "    <tr>\n",
              "      <th>4</th>\n",
              "      <td>3600</td>\n",
              "      <td>small</td>\n",
              "      <td>2008</td>\n",
              "      <td>manual</td>\n",
              "      <td>69</td>\n",
              "      <td>fabia</td>\n",
              "      <td>90000</td>\n",
              "      <td>gasoline</td>\n",
              "      <td>skoda</td>\n",
              "      <td>no</td>\n",
              "      <td>0.635552</td>\n",
              "    </tr>\n",
              "    <tr>\n",
              "      <th>5</th>\n",
              "      <td>650</td>\n",
              "      <td>sedan</td>\n",
              "      <td>1995</td>\n",
              "      <td>manual</td>\n",
              "      <td>102</td>\n",
              "      <td>3er</td>\n",
              "      <td>150000</td>\n",
              "      <td>petrol</td>\n",
              "      <td>bmw</td>\n",
              "      <td>yes</td>\n",
              "      <td>0.293530</td>\n",
              "    </tr>\n",
              "    <tr>\n",
              "      <th>...</th>\n",
              "      <td>...</td>\n",
              "      <td>...</td>\n",
              "      <td>...</td>\n",
              "      <td>...</td>\n",
              "      <td>...</td>\n",
              "      <td>...</td>\n",
              "      <td>...</td>\n",
              "      <td>...</td>\n",
              "      <td>...</td>\n",
              "      <td>...</td>\n",
              "      <td>...</td>\n",
              "    </tr>\n",
              "    <tr>\n",
              "      <th>354361</th>\n",
              "      <td>5250</td>\n",
              "      <td>other</td>\n",
              "      <td>2016</td>\n",
              "      <td>auto</td>\n",
              "      <td>150</td>\n",
              "      <td>159</td>\n",
              "      <td>150000</td>\n",
              "      <td>other</td>\n",
              "      <td>alfa_romeo</td>\n",
              "      <td>no</td>\n",
              "      <td>0.514105</td>\n",
              "    </tr>\n",
              "    <tr>\n",
              "      <th>354362</th>\n",
              "      <td>3200</td>\n",
              "      <td>sedan</td>\n",
              "      <td>2004</td>\n",
              "      <td>manual</td>\n",
              "      <td>225</td>\n",
              "      <td>leon</td>\n",
              "      <td>150000</td>\n",
              "      <td>petrol</td>\n",
              "      <td>seat</td>\n",
              "      <td>yes</td>\n",
              "      <td>0.976816</td>\n",
              "    </tr>\n",
              "    <tr>\n",
              "      <th>354366</th>\n",
              "      <td>1199</td>\n",
              "      <td>convertible</td>\n",
              "      <td>2000</td>\n",
              "      <td>auto</td>\n",
              "      <td>101</td>\n",
              "      <td>fortwo</td>\n",
              "      <td>125000</td>\n",
              "      <td>petrol</td>\n",
              "      <td>smart</td>\n",
              "      <td>no</td>\n",
              "      <td>0.192315</td>\n",
              "    </tr>\n",
              "    <tr>\n",
              "      <th>354367</th>\n",
              "      <td>9200</td>\n",
              "      <td>bus</td>\n",
              "      <td>1996</td>\n",
              "      <td>manual</td>\n",
              "      <td>102</td>\n",
              "      <td>transporter</td>\n",
              "      <td>150000</td>\n",
              "      <td>gasoline</td>\n",
              "      <td>volkswagen</td>\n",
              "      <td>no</td>\n",
              "      <td>0.891321</td>\n",
              "    </tr>\n",
              "    <tr>\n",
              "      <th>354368</th>\n",
              "      <td>3400</td>\n",
              "      <td>wagon</td>\n",
              "      <td>2002</td>\n",
              "      <td>manual</td>\n",
              "      <td>100</td>\n",
              "      <td>golf</td>\n",
              "      <td>150000</td>\n",
              "      <td>gasoline</td>\n",
              "      <td>volkswagen</td>\n",
              "      <td>other</td>\n",
              "      <td>0.368787</td>\n",
              "    </tr>\n",
              "  </tbody>\n",
              "</table>\n",
              "<p>295219 rows × 11 columns</p>\n",
              "</div>"
            ],
            "text/plain": [
              "        price  vehicletype  ...  notrepaired postalrank\n",
              "1       18300        coupe  ...          yes   0.710339\n",
              "2        9800          suv  ...        other   0.924730\n",
              "3        1500        small  ...           no   0.930518\n",
              "4        3600        small  ...           no   0.635552\n",
              "5         650        sedan  ...          yes   0.293530\n",
              "...       ...          ...  ...          ...        ...\n",
              "354361   5250        other  ...           no   0.514105\n",
              "354362   3200        sedan  ...          yes   0.976816\n",
              "354366   1199  convertible  ...           no   0.192315\n",
              "354367   9200          bus  ...           no   0.891321\n",
              "354368   3400        wagon  ...        other   0.368787\n",
              "\n",
              "[295219 rows x 11 columns]"
            ]
          },
          "metadata": {
            "tags": []
          },
          "execution_count": 200
        }
      ]
    },
    {
      "cell_type": "code",
      "metadata": {
        "id": "EPBVz0Jg_KdN"
      },
      "source": [
        "df_replace = df.copy()"
      ],
      "execution_count": null,
      "outputs": []
    },
    {
      "cell_type": "code",
      "metadata": {
        "id": "_QSt2-op_KdN",
        "outputId": "a2b62687-ba63-47d6-e0e6-1263680217c3"
      },
      "source": [
        "df_replace.isna().mean()"
      ],
      "execution_count": null,
      "outputs": [
        {
          "output_type": "execute_result",
          "data": {
            "text/plain": [
              "price               0.000000\n",
              "vehicletype         0.036654\n",
              "registrationyear    0.000000\n",
              "gearbox             0.017811\n",
              "power               0.000000\n",
              "model               0.037061\n",
              "kilometer           0.000000\n",
              "fueltype            0.051904\n",
              "brand               0.000000\n",
              "notrepaired         0.143869\n",
              "postalrank          0.000000\n",
              "dtype: float64"
            ]
          },
          "metadata": {
            "tags": []
          },
          "execution_count": 50
        }
      ]
    },
    {
      "cell_type": "code",
      "metadata": {
        "id": "wt6U_GZp_KdN"
      },
      "source": [
        "df_replace.fillna(value=\"other\",inplace=True)"
      ],
      "execution_count": null,
      "outputs": []
    },
    {
      "cell_type": "code",
      "metadata": {
        "id": "W7YNMaue_KdN",
        "outputId": "e16e055c-c8a0-4faf-ff28-4d52e4c158fb"
      },
      "source": [
        "df_replace.isna().mean()"
      ],
      "execution_count": null,
      "outputs": [
        {
          "output_type": "execute_result",
          "data": {
            "text/plain": [
              "price               0.0\n",
              "vehicletype         0.0\n",
              "registrationyear    0.0\n",
              "gearbox             0.0\n",
              "power               0.0\n",
              "model               0.0\n",
              "kilometer           0.0\n",
              "fueltype            0.0\n",
              "brand               0.0\n",
              "notrepaired         0.0\n",
              "postalrank          0.0\n",
              "dtype: float64"
            ]
          },
          "metadata": {
            "tags": []
          },
          "execution_count": 52
        }
      ]
    },
    {
      "cell_type": "code",
      "metadata": {
        "id": "hBdacD22_KdN"
      },
      "source": [
        "df_clear = pd.get_dummies(df_clear, drop_first=True)"
      ],
      "execution_count": null,
      "outputs": []
    },
    {
      "cell_type": "code",
      "metadata": {
        "id": "xsIpYoy6_KdO",
        "outputId": "f131d866-d9c8-4c34-cdad-bf70737aed1a"
      },
      "source": [
        ""
      ],
      "execution_count": null,
      "outputs": [
        {
          "output_type": "execute_result",
          "data": {
            "text/html": [
              "<div>\n",
              "<style scoped>\n",
              "    .dataframe tbody tr th:only-of-type {\n",
              "        vertical-align: middle;\n",
              "    }\n",
              "\n",
              "    .dataframe tbody tr th {\n",
              "        vertical-align: top;\n",
              "    }\n",
              "\n",
              "    .dataframe thead th {\n",
              "        text-align: right;\n",
              "    }\n",
              "</style>\n",
              "<table border=\"1\" class=\"dataframe\">\n",
              "  <thead>\n",
              "    <tr style=\"text-align: right;\">\n",
              "      <th></th>\n",
              "      <th>price</th>\n",
              "      <th>registrationyear</th>\n",
              "      <th>power</th>\n",
              "      <th>kilometer</th>\n",
              "      <th>postalrank</th>\n",
              "      <th>vehicletype_convertible</th>\n",
              "      <th>vehicletype_coupe</th>\n",
              "      <th>vehicletype_other</th>\n",
              "      <th>vehicletype_sedan</th>\n",
              "      <th>vehicletype_small</th>\n",
              "      <th>...</th>\n",
              "      <th>brand_seat</th>\n",
              "      <th>brand_skoda</th>\n",
              "      <th>brand_smart</th>\n",
              "      <th>brand_subaru</th>\n",
              "      <th>brand_suzuki</th>\n",
              "      <th>brand_toyota</th>\n",
              "      <th>brand_trabant</th>\n",
              "      <th>brand_volkswagen</th>\n",
              "      <th>brand_volvo</th>\n",
              "      <th>notrepaired_yes</th>\n",
              "    </tr>\n",
              "  </thead>\n",
              "  <tbody>\n",
              "    <tr>\n",
              "      <td>3</td>\n",
              "      <td>1500</td>\n",
              "      <td>2001</td>\n",
              "      <td>75</td>\n",
              "      <td>150000</td>\n",
              "      <td>0.930518</td>\n",
              "      <td>0</td>\n",
              "      <td>0</td>\n",
              "      <td>0</td>\n",
              "      <td>0</td>\n",
              "      <td>1</td>\n",
              "      <td>...</td>\n",
              "      <td>0</td>\n",
              "      <td>0</td>\n",
              "      <td>0</td>\n",
              "      <td>0</td>\n",
              "      <td>0</td>\n",
              "      <td>0</td>\n",
              "      <td>0</td>\n",
              "      <td>1</td>\n",
              "      <td>0</td>\n",
              "      <td>0</td>\n",
              "    </tr>\n",
              "    <tr>\n",
              "      <td>4</td>\n",
              "      <td>3600</td>\n",
              "      <td>2008</td>\n",
              "      <td>69</td>\n",
              "      <td>90000</td>\n",
              "      <td>0.635552</td>\n",
              "      <td>0</td>\n",
              "      <td>0</td>\n",
              "      <td>0</td>\n",
              "      <td>0</td>\n",
              "      <td>1</td>\n",
              "      <td>...</td>\n",
              "      <td>0</td>\n",
              "      <td>1</td>\n",
              "      <td>0</td>\n",
              "      <td>0</td>\n",
              "      <td>0</td>\n",
              "      <td>0</td>\n",
              "      <td>0</td>\n",
              "      <td>0</td>\n",
              "      <td>0</td>\n",
              "      <td>0</td>\n",
              "    </tr>\n",
              "    <tr>\n",
              "      <td>5</td>\n",
              "      <td>650</td>\n",
              "      <td>1995</td>\n",
              "      <td>102</td>\n",
              "      <td>150000</td>\n",
              "      <td>0.293530</td>\n",
              "      <td>0</td>\n",
              "      <td>0</td>\n",
              "      <td>0</td>\n",
              "      <td>1</td>\n",
              "      <td>0</td>\n",
              "      <td>...</td>\n",
              "      <td>0</td>\n",
              "      <td>0</td>\n",
              "      <td>0</td>\n",
              "      <td>0</td>\n",
              "      <td>0</td>\n",
              "      <td>0</td>\n",
              "      <td>0</td>\n",
              "      <td>0</td>\n",
              "      <td>0</td>\n",
              "      <td>1</td>\n",
              "    </tr>\n",
              "    <tr>\n",
              "      <td>6</td>\n",
              "      <td>2200</td>\n",
              "      <td>2004</td>\n",
              "      <td>109</td>\n",
              "      <td>150000</td>\n",
              "      <td>0.713408</td>\n",
              "      <td>1</td>\n",
              "      <td>0</td>\n",
              "      <td>0</td>\n",
              "      <td>0</td>\n",
              "      <td>0</td>\n",
              "      <td>...</td>\n",
              "      <td>0</td>\n",
              "      <td>0</td>\n",
              "      <td>0</td>\n",
              "      <td>0</td>\n",
              "      <td>0</td>\n",
              "      <td>0</td>\n",
              "      <td>0</td>\n",
              "      <td>0</td>\n",
              "      <td>0</td>\n",
              "      <td>0</td>\n",
              "    </tr>\n",
              "    <tr>\n",
              "      <td>10</td>\n",
              "      <td>2000</td>\n",
              "      <td>2004</td>\n",
              "      <td>105</td>\n",
              "      <td>150000</td>\n",
              "      <td>0.974468</td>\n",
              "      <td>0</td>\n",
              "      <td>0</td>\n",
              "      <td>0</td>\n",
              "      <td>1</td>\n",
              "      <td>0</td>\n",
              "      <td>...</td>\n",
              "      <td>0</td>\n",
              "      <td>0</td>\n",
              "      <td>0</td>\n",
              "      <td>0</td>\n",
              "      <td>0</td>\n",
              "      <td>0</td>\n",
              "      <td>0</td>\n",
              "      <td>0</td>\n",
              "      <td>0</td>\n",
              "      <td>0</td>\n",
              "    </tr>\n",
              "    <tr>\n",
              "      <td>...</td>\n",
              "      <td>...</td>\n",
              "      <td>...</td>\n",
              "      <td>...</td>\n",
              "      <td>...</td>\n",
              "      <td>...</td>\n",
              "      <td>...</td>\n",
              "      <td>...</td>\n",
              "      <td>...</td>\n",
              "      <td>...</td>\n",
              "      <td>...</td>\n",
              "      <td>...</td>\n",
              "      <td>...</td>\n",
              "      <td>...</td>\n",
              "      <td>...</td>\n",
              "      <td>...</td>\n",
              "      <td>...</td>\n",
              "      <td>...</td>\n",
              "      <td>...</td>\n",
              "      <td>...</td>\n",
              "      <td>...</td>\n",
              "      <td>...</td>\n",
              "    </tr>\n",
              "    <tr>\n",
              "      <td>354358</td>\n",
              "      <td>1490</td>\n",
              "      <td>1998</td>\n",
              "      <td>50</td>\n",
              "      <td>150000</td>\n",
              "      <td>0.477403</td>\n",
              "      <td>0</td>\n",
              "      <td>0</td>\n",
              "      <td>0</td>\n",
              "      <td>0</td>\n",
              "      <td>1</td>\n",
              "      <td>...</td>\n",
              "      <td>0</td>\n",
              "      <td>0</td>\n",
              "      <td>0</td>\n",
              "      <td>0</td>\n",
              "      <td>0</td>\n",
              "      <td>0</td>\n",
              "      <td>0</td>\n",
              "      <td>1</td>\n",
              "      <td>0</td>\n",
              "      <td>0</td>\n",
              "    </tr>\n",
              "    <tr>\n",
              "      <td>354359</td>\n",
              "      <td>7900</td>\n",
              "      <td>2010</td>\n",
              "      <td>140</td>\n",
              "      <td>150000</td>\n",
              "      <td>0.788621</td>\n",
              "      <td>0</td>\n",
              "      <td>0</td>\n",
              "      <td>0</td>\n",
              "      <td>1</td>\n",
              "      <td>0</td>\n",
              "      <td>...</td>\n",
              "      <td>0</td>\n",
              "      <td>0</td>\n",
              "      <td>0</td>\n",
              "      <td>0</td>\n",
              "      <td>0</td>\n",
              "      <td>0</td>\n",
              "      <td>0</td>\n",
              "      <td>1</td>\n",
              "      <td>0</td>\n",
              "      <td>0</td>\n",
              "    </tr>\n",
              "    <tr>\n",
              "      <td>354362</td>\n",
              "      <td>3200</td>\n",
              "      <td>2004</td>\n",
              "      <td>225</td>\n",
              "      <td>150000</td>\n",
              "      <td>0.976816</td>\n",
              "      <td>0</td>\n",
              "      <td>0</td>\n",
              "      <td>0</td>\n",
              "      <td>1</td>\n",
              "      <td>0</td>\n",
              "      <td>...</td>\n",
              "      <td>1</td>\n",
              "      <td>0</td>\n",
              "      <td>0</td>\n",
              "      <td>0</td>\n",
              "      <td>0</td>\n",
              "      <td>0</td>\n",
              "      <td>0</td>\n",
              "      <td>0</td>\n",
              "      <td>0</td>\n",
              "      <td>1</td>\n",
              "    </tr>\n",
              "    <tr>\n",
              "      <td>354366</td>\n",
              "      <td>1199</td>\n",
              "      <td>2000</td>\n",
              "      <td>101</td>\n",
              "      <td>125000</td>\n",
              "      <td>0.192315</td>\n",
              "      <td>1</td>\n",
              "      <td>0</td>\n",
              "      <td>0</td>\n",
              "      <td>0</td>\n",
              "      <td>0</td>\n",
              "      <td>...</td>\n",
              "      <td>0</td>\n",
              "      <td>0</td>\n",
              "      <td>1</td>\n",
              "      <td>0</td>\n",
              "      <td>0</td>\n",
              "      <td>0</td>\n",
              "      <td>0</td>\n",
              "      <td>0</td>\n",
              "      <td>0</td>\n",
              "      <td>0</td>\n",
              "    </tr>\n",
              "    <tr>\n",
              "      <td>354367</td>\n",
              "      <td>9200</td>\n",
              "      <td>1996</td>\n",
              "      <td>102</td>\n",
              "      <td>150000</td>\n",
              "      <td>0.891321</td>\n",
              "      <td>0</td>\n",
              "      <td>0</td>\n",
              "      <td>0</td>\n",
              "      <td>0</td>\n",
              "      <td>0</td>\n",
              "      <td>...</td>\n",
              "      <td>0</td>\n",
              "      <td>0</td>\n",
              "      <td>0</td>\n",
              "      <td>0</td>\n",
              "      <td>0</td>\n",
              "      <td>0</td>\n",
              "      <td>0</td>\n",
              "      <td>1</td>\n",
              "      <td>0</td>\n",
              "      <td>0</td>\n",
              "    </tr>\n",
              "  </tbody>\n",
              "</table>\n",
              "<p>232591 rows × 306 columns</p>\n",
              "</div>"
            ],
            "text/plain": [
              "        price  registrationyear  power  kilometer  postalrank  \\\n",
              "3        1500              2001     75     150000    0.930518   \n",
              "4        3600              2008     69      90000    0.635552   \n",
              "5         650              1995    102     150000    0.293530   \n",
              "6        2200              2004    109     150000    0.713408   \n",
              "10       2000              2004    105     150000    0.974468   \n",
              "...       ...               ...    ...        ...         ...   \n",
              "354358   1490              1998     50     150000    0.477403   \n",
              "354359   7900              2010    140     150000    0.788621   \n",
              "354362   3200              2004    225     150000    0.976816   \n",
              "354366   1199              2000    101     125000    0.192315   \n",
              "354367   9200              1996    102     150000    0.891321   \n",
              "\n",
              "        vehicletype_convertible  vehicletype_coupe  vehicletype_other  \\\n",
              "3                             0                  0                  0   \n",
              "4                             0                  0                  0   \n",
              "5                             0                  0                  0   \n",
              "6                             1                  0                  0   \n",
              "10                            0                  0                  0   \n",
              "...                         ...                ...                ...   \n",
              "354358                        0                  0                  0   \n",
              "354359                        0                  0                  0   \n",
              "354362                        0                  0                  0   \n",
              "354366                        1                  0                  0   \n",
              "354367                        0                  0                  0   \n",
              "\n",
              "        vehicletype_sedan  vehicletype_small  ...  brand_seat  brand_skoda  \\\n",
              "3                       0                  1  ...           0            0   \n",
              "4                       0                  1  ...           0            1   \n",
              "5                       1                  0  ...           0            0   \n",
              "6                       0                  0  ...           0            0   \n",
              "10                      1                  0  ...           0            0   \n",
              "...                   ...                ...  ...         ...          ...   \n",
              "354358                  0                  1  ...           0            0   \n",
              "354359                  1                  0  ...           0            0   \n",
              "354362                  1                  0  ...           1            0   \n",
              "354366                  0                  0  ...           0            0   \n",
              "354367                  0                  0  ...           0            0   \n",
              "\n",
              "        brand_smart  brand_subaru  brand_suzuki  brand_toyota  brand_trabant  \\\n",
              "3                 0             0             0             0              0   \n",
              "4                 0             0             0             0              0   \n",
              "5                 0             0             0             0              0   \n",
              "6                 0             0             0             0              0   \n",
              "10                0             0             0             0              0   \n",
              "...             ...           ...           ...           ...            ...   \n",
              "354358            0             0             0             0              0   \n",
              "354359            0             0             0             0              0   \n",
              "354362            0             0             0             0              0   \n",
              "354366            1             0             0             0              0   \n",
              "354367            0             0             0             0              0   \n",
              "\n",
              "        brand_volkswagen  brand_volvo  notrepaired_yes  \n",
              "3                      1            0                0  \n",
              "4                      0            0                0  \n",
              "5                      0            0                1  \n",
              "6                      0            0                0  \n",
              "10                     0            0                0  \n",
              "...                  ...          ...              ...  \n",
              "354358                 1            0                0  \n",
              "354359                 1            0                0  \n",
              "354362                 0            0                1  \n",
              "354366                 0            0                0  \n",
              "354367                 1            0                0  \n",
              "\n",
              "[232591 rows x 306 columns]"
            ]
          },
          "metadata": {
            "tags": []
          },
          "execution_count": 54
        }
      ]
    },
    {
      "cell_type": "code",
      "metadata": {
        "id": "pvvlTlbK_KdO",
        "outputId": "323d3471-d7e9-49be-b5da-f04dea986619"
      },
      "source": [
        "df_clear.shape"
      ],
      "execution_count": null,
      "outputs": [
        {
          "output_type": "execute_result",
          "data": {
            "text/plain": [
              "(232591, 306)"
            ]
          },
          "metadata": {
            "tags": []
          },
          "execution_count": 55
        }
      ]
    },
    {
      "cell_type": "code",
      "metadata": {
        "id": "6uj3z5O__KdO"
      },
      "source": [
        "df_replace = pd.get_dummies(df_replace, drop_first=True)"
      ],
      "execution_count": null,
      "outputs": []
    },
    {
      "cell_type": "code",
      "metadata": {
        "id": "3Fbc2nfL_KdO",
        "outputId": "db5092b3-10a9-4a7a-e67b-c049b0a48acb"
      },
      "source": [
        "df_replace"
      ],
      "execution_count": null,
      "outputs": [
        {
          "output_type": "execute_result",
          "data": {
            "text/html": [
              "<div>\n",
              "<style scoped>\n",
              "    .dataframe tbody tr th:only-of-type {\n",
              "        vertical-align: middle;\n",
              "    }\n",
              "\n",
              "    .dataframe tbody tr th {\n",
              "        vertical-align: top;\n",
              "    }\n",
              "\n",
              "    .dataframe thead th {\n",
              "        text-align: right;\n",
              "    }\n",
              "</style>\n",
              "<table border=\"1\" class=\"dataframe\">\n",
              "  <thead>\n",
              "    <tr style=\"text-align: right;\">\n",
              "      <th></th>\n",
              "      <th>price</th>\n",
              "      <th>registrationyear</th>\n",
              "      <th>power</th>\n",
              "      <th>kilometer</th>\n",
              "      <th>postalrank</th>\n",
              "      <th>vehicletype_convertible</th>\n",
              "      <th>vehicletype_coupe</th>\n",
              "      <th>vehicletype_other</th>\n",
              "      <th>vehicletype_sedan</th>\n",
              "      <th>vehicletype_small</th>\n",
              "      <th>...</th>\n",
              "      <th>brand_smart</th>\n",
              "      <th>brand_sonstige_autos</th>\n",
              "      <th>brand_subaru</th>\n",
              "      <th>brand_suzuki</th>\n",
              "      <th>brand_toyota</th>\n",
              "      <th>brand_trabant</th>\n",
              "      <th>brand_volkswagen</th>\n",
              "      <th>brand_volvo</th>\n",
              "      <th>notrepaired_other</th>\n",
              "      <th>notrepaired_yes</th>\n",
              "    </tr>\n",
              "  </thead>\n",
              "  <tbody>\n",
              "    <tr>\n",
              "      <td>1</td>\n",
              "      <td>18300</td>\n",
              "      <td>2011</td>\n",
              "      <td>190</td>\n",
              "      <td>125000</td>\n",
              "      <td>0.710339</td>\n",
              "      <td>0</td>\n",
              "      <td>1</td>\n",
              "      <td>0</td>\n",
              "      <td>0</td>\n",
              "      <td>0</td>\n",
              "      <td>...</td>\n",
              "      <td>0</td>\n",
              "      <td>0</td>\n",
              "      <td>0</td>\n",
              "      <td>0</td>\n",
              "      <td>0</td>\n",
              "      <td>0</td>\n",
              "      <td>0</td>\n",
              "      <td>0</td>\n",
              "      <td>0</td>\n",
              "      <td>1</td>\n",
              "    </tr>\n",
              "    <tr>\n",
              "      <td>2</td>\n",
              "      <td>9800</td>\n",
              "      <td>2004</td>\n",
              "      <td>163</td>\n",
              "      <td>125000</td>\n",
              "      <td>0.924730</td>\n",
              "      <td>0</td>\n",
              "      <td>0</td>\n",
              "      <td>0</td>\n",
              "      <td>0</td>\n",
              "      <td>0</td>\n",
              "      <td>...</td>\n",
              "      <td>0</td>\n",
              "      <td>0</td>\n",
              "      <td>0</td>\n",
              "      <td>0</td>\n",
              "      <td>0</td>\n",
              "      <td>0</td>\n",
              "      <td>0</td>\n",
              "      <td>0</td>\n",
              "      <td>1</td>\n",
              "      <td>0</td>\n",
              "    </tr>\n",
              "    <tr>\n",
              "      <td>3</td>\n",
              "      <td>1500</td>\n",
              "      <td>2001</td>\n",
              "      <td>75</td>\n",
              "      <td>150000</td>\n",
              "      <td>0.930518</td>\n",
              "      <td>0</td>\n",
              "      <td>0</td>\n",
              "      <td>0</td>\n",
              "      <td>0</td>\n",
              "      <td>1</td>\n",
              "      <td>...</td>\n",
              "      <td>0</td>\n",
              "      <td>0</td>\n",
              "      <td>0</td>\n",
              "      <td>0</td>\n",
              "      <td>0</td>\n",
              "      <td>0</td>\n",
              "      <td>1</td>\n",
              "      <td>0</td>\n",
              "      <td>0</td>\n",
              "      <td>0</td>\n",
              "    </tr>\n",
              "    <tr>\n",
              "      <td>4</td>\n",
              "      <td>3600</td>\n",
              "      <td>2008</td>\n",
              "      <td>69</td>\n",
              "      <td>90000</td>\n",
              "      <td>0.635552</td>\n",
              "      <td>0</td>\n",
              "      <td>0</td>\n",
              "      <td>0</td>\n",
              "      <td>0</td>\n",
              "      <td>1</td>\n",
              "      <td>...</td>\n",
              "      <td>0</td>\n",
              "      <td>0</td>\n",
              "      <td>0</td>\n",
              "      <td>0</td>\n",
              "      <td>0</td>\n",
              "      <td>0</td>\n",
              "      <td>0</td>\n",
              "      <td>0</td>\n",
              "      <td>0</td>\n",
              "      <td>0</td>\n",
              "    </tr>\n",
              "    <tr>\n",
              "      <td>5</td>\n",
              "      <td>650</td>\n",
              "      <td>1995</td>\n",
              "      <td>102</td>\n",
              "      <td>150000</td>\n",
              "      <td>0.293530</td>\n",
              "      <td>0</td>\n",
              "      <td>0</td>\n",
              "      <td>0</td>\n",
              "      <td>1</td>\n",
              "      <td>0</td>\n",
              "      <td>...</td>\n",
              "      <td>0</td>\n",
              "      <td>0</td>\n",
              "      <td>0</td>\n",
              "      <td>0</td>\n",
              "      <td>0</td>\n",
              "      <td>0</td>\n",
              "      <td>0</td>\n",
              "      <td>0</td>\n",
              "      <td>0</td>\n",
              "      <td>1</td>\n",
              "    </tr>\n",
              "    <tr>\n",
              "      <td>...</td>\n",
              "      <td>...</td>\n",
              "      <td>...</td>\n",
              "      <td>...</td>\n",
              "      <td>...</td>\n",
              "      <td>...</td>\n",
              "      <td>...</td>\n",
              "      <td>...</td>\n",
              "      <td>...</td>\n",
              "      <td>...</td>\n",
              "      <td>...</td>\n",
              "      <td>...</td>\n",
              "      <td>...</td>\n",
              "      <td>...</td>\n",
              "      <td>...</td>\n",
              "      <td>...</td>\n",
              "      <td>...</td>\n",
              "      <td>...</td>\n",
              "      <td>...</td>\n",
              "      <td>...</td>\n",
              "      <td>...</td>\n",
              "      <td>...</td>\n",
              "    </tr>\n",
              "    <tr>\n",
              "      <td>354361</td>\n",
              "      <td>5250</td>\n",
              "      <td>2016</td>\n",
              "      <td>150</td>\n",
              "      <td>150000</td>\n",
              "      <td>0.514105</td>\n",
              "      <td>0</td>\n",
              "      <td>0</td>\n",
              "      <td>1</td>\n",
              "      <td>0</td>\n",
              "      <td>0</td>\n",
              "      <td>...</td>\n",
              "      <td>0</td>\n",
              "      <td>0</td>\n",
              "      <td>0</td>\n",
              "      <td>0</td>\n",
              "      <td>0</td>\n",
              "      <td>0</td>\n",
              "      <td>0</td>\n",
              "      <td>0</td>\n",
              "      <td>0</td>\n",
              "      <td>0</td>\n",
              "    </tr>\n",
              "    <tr>\n",
              "      <td>354362</td>\n",
              "      <td>3200</td>\n",
              "      <td>2004</td>\n",
              "      <td>225</td>\n",
              "      <td>150000</td>\n",
              "      <td>0.976816</td>\n",
              "      <td>0</td>\n",
              "      <td>0</td>\n",
              "      <td>0</td>\n",
              "      <td>1</td>\n",
              "      <td>0</td>\n",
              "      <td>...</td>\n",
              "      <td>0</td>\n",
              "      <td>0</td>\n",
              "      <td>0</td>\n",
              "      <td>0</td>\n",
              "      <td>0</td>\n",
              "      <td>0</td>\n",
              "      <td>0</td>\n",
              "      <td>0</td>\n",
              "      <td>0</td>\n",
              "      <td>1</td>\n",
              "    </tr>\n",
              "    <tr>\n",
              "      <td>354366</td>\n",
              "      <td>1199</td>\n",
              "      <td>2000</td>\n",
              "      <td>101</td>\n",
              "      <td>125000</td>\n",
              "      <td>0.192315</td>\n",
              "      <td>1</td>\n",
              "      <td>0</td>\n",
              "      <td>0</td>\n",
              "      <td>0</td>\n",
              "      <td>0</td>\n",
              "      <td>...</td>\n",
              "      <td>1</td>\n",
              "      <td>0</td>\n",
              "      <td>0</td>\n",
              "      <td>0</td>\n",
              "      <td>0</td>\n",
              "      <td>0</td>\n",
              "      <td>0</td>\n",
              "      <td>0</td>\n",
              "      <td>0</td>\n",
              "      <td>0</td>\n",
              "    </tr>\n",
              "    <tr>\n",
              "      <td>354367</td>\n",
              "      <td>9200</td>\n",
              "      <td>1996</td>\n",
              "      <td>102</td>\n",
              "      <td>150000</td>\n",
              "      <td>0.891321</td>\n",
              "      <td>0</td>\n",
              "      <td>0</td>\n",
              "      <td>0</td>\n",
              "      <td>0</td>\n",
              "      <td>0</td>\n",
              "      <td>...</td>\n",
              "      <td>0</td>\n",
              "      <td>0</td>\n",
              "      <td>0</td>\n",
              "      <td>0</td>\n",
              "      <td>0</td>\n",
              "      <td>0</td>\n",
              "      <td>1</td>\n",
              "      <td>0</td>\n",
              "      <td>0</td>\n",
              "      <td>0</td>\n",
              "    </tr>\n",
              "    <tr>\n",
              "      <td>354368</td>\n",
              "      <td>3400</td>\n",
              "      <td>2002</td>\n",
              "      <td>100</td>\n",
              "      <td>150000</td>\n",
              "      <td>0.368787</td>\n",
              "      <td>0</td>\n",
              "      <td>0</td>\n",
              "      <td>0</td>\n",
              "      <td>0</td>\n",
              "      <td>0</td>\n",
              "      <td>...</td>\n",
              "      <td>0</td>\n",
              "      <td>0</td>\n",
              "      <td>0</td>\n",
              "      <td>0</td>\n",
              "      <td>0</td>\n",
              "      <td>0</td>\n",
              "      <td>1</td>\n",
              "      <td>0</td>\n",
              "      <td>1</td>\n",
              "      <td>0</td>\n",
              "    </tr>\n",
              "  </tbody>\n",
              "</table>\n",
              "<p>295219 rows × 309 columns</p>\n",
              "</div>"
            ],
            "text/plain": [
              "        price  registrationyear  power  kilometer  postalrank  \\\n",
              "1       18300              2011    190     125000    0.710339   \n",
              "2        9800              2004    163     125000    0.924730   \n",
              "3        1500              2001     75     150000    0.930518   \n",
              "4        3600              2008     69      90000    0.635552   \n",
              "5         650              1995    102     150000    0.293530   \n",
              "...       ...               ...    ...        ...         ...   \n",
              "354361   5250              2016    150     150000    0.514105   \n",
              "354362   3200              2004    225     150000    0.976816   \n",
              "354366   1199              2000    101     125000    0.192315   \n",
              "354367   9200              1996    102     150000    0.891321   \n",
              "354368   3400              2002    100     150000    0.368787   \n",
              "\n",
              "        vehicletype_convertible  vehicletype_coupe  vehicletype_other  \\\n",
              "1                             0                  1                  0   \n",
              "2                             0                  0                  0   \n",
              "3                             0                  0                  0   \n",
              "4                             0                  0                  0   \n",
              "5                             0                  0                  0   \n",
              "...                         ...                ...                ...   \n",
              "354361                        0                  0                  1   \n",
              "354362                        0                  0                  0   \n",
              "354366                        1                  0                  0   \n",
              "354367                        0                  0                  0   \n",
              "354368                        0                  0                  0   \n",
              "\n",
              "        vehicletype_sedan  vehicletype_small  ...  brand_smart  \\\n",
              "1                       0                  0  ...            0   \n",
              "2                       0                  0  ...            0   \n",
              "3                       0                  1  ...            0   \n",
              "4                       0                  1  ...            0   \n",
              "5                       1                  0  ...            0   \n",
              "...                   ...                ...  ...          ...   \n",
              "354361                  0                  0  ...            0   \n",
              "354362                  1                  0  ...            0   \n",
              "354366                  0                  0  ...            1   \n",
              "354367                  0                  0  ...            0   \n",
              "354368                  0                  0  ...            0   \n",
              "\n",
              "        brand_sonstige_autos  brand_subaru  brand_suzuki  brand_toyota  \\\n",
              "1                          0             0             0             0   \n",
              "2                          0             0             0             0   \n",
              "3                          0             0             0             0   \n",
              "4                          0             0             0             0   \n",
              "5                          0             0             0             0   \n",
              "...                      ...           ...           ...           ...   \n",
              "354361                     0             0             0             0   \n",
              "354362                     0             0             0             0   \n",
              "354366                     0             0             0             0   \n",
              "354367                     0             0             0             0   \n",
              "354368                     0             0             0             0   \n",
              "\n",
              "        brand_trabant  brand_volkswagen  brand_volvo  notrepaired_other  \\\n",
              "1                   0                 0            0                  0   \n",
              "2                   0                 0            0                  1   \n",
              "3                   0                 1            0                  0   \n",
              "4                   0                 0            0                  0   \n",
              "5                   0                 0            0                  0   \n",
              "...               ...               ...          ...                ...   \n",
              "354361              0                 0            0                  0   \n",
              "354362              0                 0            0                  0   \n",
              "354366              0                 0            0                  0   \n",
              "354367              0                 1            0                  0   \n",
              "354368              0                 1            0                  1   \n",
              "\n",
              "        notrepaired_yes  \n",
              "1                     1  \n",
              "2                     0  \n",
              "3                     0  \n",
              "4                     0  \n",
              "5                     1  \n",
              "...                 ...  \n",
              "354361                0  \n",
              "354362                1  \n",
              "354366                0  \n",
              "354367                0  \n",
              "354368                0  \n",
              "\n",
              "[295219 rows x 309 columns]"
            ]
          },
          "metadata": {
            "tags": []
          },
          "execution_count": 57
        }
      ]
    },
    {
      "cell_type": "code",
      "metadata": {
        "id": "jOws5BIq_KdO",
        "outputId": "7ea88c26-df21-4e23-85c8-ffce88ee7f01"
      },
      "source": [
        "df_replace.shape"
      ],
      "execution_count": null,
      "outputs": [
        {
          "output_type": "execute_result",
          "data": {
            "text/plain": [
              "(295219, 309)"
            ]
          },
          "metadata": {
            "tags": []
          },
          "execution_count": 58
        }
      ]
    },
    {
      "cell_type": "markdown",
      "metadata": {
        "id": "S2EEa0_I_KdO"
      },
      "source": [
        "### Итог\n",
        "Проведена предобработка данных.\n",
        "Удалены выборосы.\n",
        "Получили 3 дата сета. Было удалено порядка 19% процентов данных в случае формирования чистого датасета без выбросов и пропусков и около 12% при формировании датасета очистив его только от выбросов.\n",
        "\n"
      ]
    },
    {
      "cell_type": "markdown",
      "metadata": {
        "id": "Qiceshwk_KdP"
      },
      "source": [
        "<div style=\"background: #cceeaa; padding: 5px; border: 1px solid green; border-radius: 5px;\">\n",
        "<font color='green'><u><b>КОММЕНТАРИЙ РЕВЬЮЕРА</b></u>\n",
        "<font color='green'><br>отличная работа по разделу! как настоящий аналитик - два подхода к данным)"
      ]
    },
    {
      "cell_type": "markdown",
      "metadata": {
        "id": "tpyfUkJY_KdP"
      },
      "source": [
        "# 2. Обучение моделей"
      ]
    },
    {
      "cell_type": "markdown",
      "metadata": {
        "id": "4Ck1CzXj_KdP"
      },
      "source": [
        "### Подготовка данных к обучению"
      ]
    },
    {
      "cell_type": "markdown",
      "metadata": {
        "id": "8p_ns3Sg_KdP"
      },
      "source": [
        "#### Разбивка датасетов"
      ]
    },
    {
      "cell_type": "code",
      "metadata": {
        "id": "7hRNTlSD_KdP"
      },
      "source": [
        "# выборка с \"чистыми данными\"\n",
        "df_clear_features = df_clear.drop('price', axis=1)\n",
        "df_clear_target = df_clear['price']"
      ],
      "execution_count": null,
      "outputs": []
    },
    {
      "cell_type": "code",
      "metadata": {
        "id": "Fh9DxDPz_KdP"
      },
      "source": [
        "# выборка с данными, в которых NuN заменены на other\n",
        "df_replace_features = df_replace.drop('price', axis=1)\n",
        "df_replace_target = df_replace['price']"
      ],
      "execution_count": null,
      "outputs": []
    },
    {
      "cell_type": "markdown",
      "metadata": {
        "id": "J6okepvx_KdQ"
      },
      "source": [
        "### Подготовка тренеровочных и тестовых латасетов"
      ]
    },
    {
      "cell_type": "code",
      "metadata": {
        "id": "5xLowtAE_KdQ"
      },
      "source": [
        "df_clear_train_x, df_clear_test_x, df_clear_train_y, df_clear_test_y = train_test_split(df_clear_features, \n",
        "                                                                                         df_clear_target, \n",
        "                                                                                         test_size=0.20, \n",
        "                                                                                         random_state=42)"
      ],
      "execution_count": null,
      "outputs": []
    },
    {
      "cell_type": "code",
      "metadata": {
        "id": "NSgdSIFi_KdQ"
      },
      "source": [
        "df_replace_train_x, df_replace_test_x, df_replace_train_y, df_replace_test_y = train_test_split(df_replace_features,\n",
        "                                                                                                 df_replace_target, \n",
        "                                                                                                 test_size=0.20, \n",
        "                                                                                                 random_state=42)"
      ],
      "execution_count": null,
      "outputs": []
    },
    {
      "cell_type": "markdown",
      "metadata": {
        "id": "dcct-Gd0_KdQ"
      },
      "source": [
        "<div style=\"background: #cceeaa; padding: 5px; border: 1px solid green; border-radius: 5px;\">\n",
        "<font color='green'><u><b>КОММЕНТАРИЙ РЕВЬЮЕРА</b></u>\n",
        "<font color='green'><br>ОК"
      ]
    },
    {
      "cell_type": "markdown",
      "metadata": {
        "id": "LFPao-eu_KdQ"
      },
      "source": [
        "### Обучение моделей"
      ]
    },
    {
      "cell_type": "markdown",
      "metadata": {
        "id": "pi-mRemZ_KdQ"
      },
      "source": [
        "Подберем параметры моделей используя два датасета, подбор будем делать на 10 итерациях, затем на подобранных параметрах увеличим количество итераций"
      ]
    },
    {
      "cell_type": "markdown",
      "metadata": {
        "id": "w1OtecoK_KdQ"
      },
      "source": [
        "#### catboost датасет df_replace"
      ]
    },
    {
      "cell_type": "code",
      "metadata": {
        "id": "7-O250V7_KdR"
      },
      "source": [
        "catboost_replace = {}"
      ],
      "execution_count": null,
      "outputs": []
    },
    {
      "cell_type": "code",
      "metadata": {
        "id": "dKQOW6BT_KdR"
      },
      "source": [
        "grid_model_replace = CatBoostRegressor(loss_function=\"RMSE\", iterations=5, random_state=42)"
      ],
      "execution_count": null,
      "outputs": []
    },
    {
      "cell_type": "code",
      "metadata": {
        "id": "7UGEcJrQ_KdR"
      },
      "source": [
        "grid = {\n",
        "        'learning_rate': [0.1,0.5,1],\n",
        "        'depth': [10,15]\n",
        "       }"
      ],
      "execution_count": null,
      "outputs": []
    },
    {
      "cell_type": "code",
      "metadata": {
        "id": "LI92XOqn_KdR"
      },
      "source": [
        "cv_dataset_replace = Pool(data=df_replace_train_x,\n",
        "                  label=df_replace_train_y)\n",
        "cv_test_replace = Pool(data=df_replace_test_x, label = df_replace_test_y)"
      ],
      "execution_count": null,
      "outputs": []
    },
    {
      "cell_type": "code",
      "metadata": {
        "id": "8rKOjuXm_KdR",
        "outputId": "a1a699f7-0702-404a-e9d1-cdb5cdc1c59e"
      },
      "source": [
        "start = time.time()\n",
        "grid_model_replace.grid_search(grid, X=cv_dataset_replace, \n",
        "                                       plot=False,\n",
        "                                       cv=3,\n",
        "                                       shuffle=True,\n",
        "                                       train_size=0.8,\n",
        "                                       verbose=10\n",
        "                                      )\n",
        "end = time.time()\n",
        "grid_time_for_replace = end - start"
      ],
      "execution_count": null,
      "outputs": [
        {
          "output_type": "stream",
          "text": [
            "0:\tloss: 4417.1674566\tbest: 4417.1674566 (0)\ttotal: 7.97s\tremaining: 39.9s\n",
            "5:\tloss: 1848.7980445\tbest: 1848.7980445 (5)\ttotal: 32.5s\tremaining: 0us\n",
            "Estimating final quality...\n"
          ],
          "name": "stdout"
        }
      ]
    },
    {
      "cell_type": "code",
      "metadata": {
        "id": "70s74LMB_KdR"
      },
      "source": [
        "catboost_replace['grid_time'] = str(timedelta(seconds=grid_time_for_replace))"
      ],
      "execution_count": null,
      "outputs": []
    },
    {
      "cell_type": "code",
      "metadata": {
        "id": "VRH_aur-_KdS"
      },
      "source": [
        "catboost_replace['grid_score'] = grid_model_replace.get_best_score()['learn']['RMSE']"
      ],
      "execution_count": null,
      "outputs": []
    },
    {
      "cell_type": "code",
      "metadata": {
        "id": "lpxrC-7P_KdS",
        "outputId": "bdd193e1-d9fd-42cc-8c3b-679cf4e75aef"
      },
      "source": [
        "grid_model_replace.get_params()"
      ],
      "execution_count": null,
      "outputs": [
        {
          "output_type": "execute_result",
          "data": {
            "text/plain": [
              "{'iterations': 5,\n",
              " 'loss_function': 'RMSE',\n",
              " 'random_state': 42,\n",
              " 'depth': 15,\n",
              " 'learning_rate': 1}"
            ]
          },
          "metadata": {
            "tags": []
          },
          "execution_count": 70
        }
      ]
    },
    {
      "cell_type": "code",
      "metadata": {
        "id": "OPNZFvjN_KdS"
      },
      "source": [
        "model_for_replace = CatBoostRegressor(loss_function=\"RMSE\", iterations=70, depth=15, \n",
        "                          learning_rate=1,\n",
        "                          l2_leaf_reg=1, \n",
        "                          random_state=42)"
      ],
      "execution_count": null,
      "outputs": []
    },
    {
      "cell_type": "code",
      "metadata": {
        "id": "XcEV0gwt_KdS",
        "outputId": "fdca2a12-8f27-4517-8d7b-e56507f494a9"
      },
      "source": [
        "start = time.time()\n",
        "\n",
        "model_for_replace.fit(df_replace_train_x, df_replace_train_y,eval_set = cv_test_replace, verbose=10)\n",
        "\n",
        "end = time.time()\n",
        "fit_time_for_replace = end - start"
      ],
      "execution_count": null,
      "outputs": [
        {
          "output_type": "stream",
          "text": [
            "0:\tlearn: 2182.8558189\ttest: 2183.9244636\tbest: 2183.9244636 (0)\ttotal: 1.39s\tremaining: 1m 36s\n",
            "10:\tlearn: 1592.1461383\ttest: 1694.1439809\tbest: 1694.1439809 (10)\ttotal: 15.7s\tremaining: 1m 24s\n",
            "20:\tlearn: 1469.8310043\ttest: 1656.7762399\tbest: 1656.7762399 (20)\ttotal: 30.2s\tremaining: 1m 10s\n",
            "30:\tlearn: 1398.6978067\ttest: 1643.4087132\tbest: 1643.4087132 (30)\ttotal: 44.7s\tremaining: 56.3s\n",
            "40:\tlearn: 1335.9834727\ttest: 1642.1391629\tbest: 1640.4466577 (39)\ttotal: 59.2s\tremaining: 41.9s\n",
            "50:\tlearn: 1278.8444481\ttest: 1640.9510514\tbest: 1640.3708265 (48)\ttotal: 1m 13s\tremaining: 27.5s\n",
            "60:\tlearn: 1229.9297364\ttest: 1643.1485659\tbest: 1640.3708265 (48)\ttotal: 1m 28s\tremaining: 13.1s\n",
            "69:\tlearn: 1187.0646631\ttest: 1645.6981633\tbest: 1640.3708265 (48)\ttotal: 1m 41s\tremaining: 0us\n",
            "\n",
            "bestTest = 1640.370827\n",
            "bestIteration = 48\n",
            "\n",
            "Shrink model to first 49 iterations.\n"
          ],
          "name": "stdout"
        }
      ]
    },
    {
      "cell_type": "code",
      "metadata": {
        "id": "Hp3tFG4-_KdS"
      },
      "source": [
        "catboost_replace['fit_time'] = str(timedelta(seconds=fit_time_for_replace))"
      ],
      "execution_count": null,
      "outputs": []
    },
    {
      "cell_type": "code",
      "metadata": {
        "id": "JTCMjLZo_KdT"
      },
      "source": [
        "catboost_replace['fit_score']  = model_for_replace.get_best_score()['validation']['RMSE']"
      ],
      "execution_count": null,
      "outputs": []
    },
    {
      "cell_type": "code",
      "metadata": {
        "id": "6E_O0p-P_KdT"
      },
      "source": [
        "catboost_replace['model'] = model_for_replace"
      ],
      "execution_count": null,
      "outputs": []
    },
    {
      "cell_type": "code",
      "metadata": {
        "id": "xAHO9b1F_KdT",
        "outputId": "b4b2d43d-a42b-4788-bbd1-44dec8bacbca"
      },
      "source": [
        "catboost_replace"
      ],
      "execution_count": null,
      "outputs": [
        {
          "output_type": "execute_result",
          "data": {
            "text/plain": [
              "{'grid_time': '0:01:14.810871',\n",
              " 'grid_score': 1737.5142517374036,\n",
              " 'fit_time': '0:01:51.018680',\n",
              " 'fit_score': 1640.3708265324594,\n",
              " 'model': <catboost.core.CatBoostRegressor at 0x7f4c2a56d190>}"
            ]
          },
          "metadata": {
            "tags": []
          },
          "execution_count": 76
        }
      ]
    },
    {
      "cell_type": "markdown",
      "metadata": {
        "id": "-HnSBfW6_KdT"
      },
      "source": [
        " #### catboost  датасет df_clear"
      ]
    },
    {
      "cell_type": "code",
      "metadata": {
        "id": "z9gwT1mE_KdT"
      },
      "source": [
        "catboost_clear = {}"
      ],
      "execution_count": null,
      "outputs": []
    },
    {
      "cell_type": "code",
      "metadata": {
        "id": "wSlebkM1_KdT"
      },
      "source": [
        "cv_dataset_clear = Pool(df_clear_train_x, label = df_clear_train_y)\n",
        "cv_test_clear = Pool(df_clear_test_x, df_clear_test_y)"
      ],
      "execution_count": null,
      "outputs": []
    },
    {
      "cell_type": "code",
      "metadata": {
        "id": "-MOaRrs2_KdT"
      },
      "source": [
        "grid_model_clear = CatBoostRegressor(loss_function=\"RMSE\", iterations=5, random_state=42)"
      ],
      "execution_count": null,
      "outputs": []
    },
    {
      "cell_type": "code",
      "metadata": {
        "id": "FSHCY4tQ_KdU",
        "outputId": "2cc6bc53-54f2-43c0-bf04-0dcedb2a3935"
      },
      "source": [
        "start = time.time()\n",
        "grid_model_clear.grid_search(grid, X=cv_dataset_clear, \n",
        "                                       plot=False,\n",
        "                                       cv=3,\n",
        "                                       shuffle=True,\n",
        "                                       train_size=0.8,               \n",
        "                                       verbose=10\n",
        "                                      )\n",
        "end = time.time()\n",
        "time_grid_for_clear = end - start"
      ],
      "execution_count": null,
      "outputs": [
        {
          "output_type": "stream",
          "text": [
            "0:\tloss: 4638.2293262\tbest: 4638.2293262 (0)\ttotal: 6.82s\tremaining: 34.1s\n",
            "5:\tloss: 1818.1384495\tbest: 1818.1384495 (5)\ttotal: 28.6s\tremaining: 0us\n",
            "Estimating final quality...\n"
          ],
          "name": "stdout"
        }
      ]
    },
    {
      "cell_type": "code",
      "metadata": {
        "id": "16lZNKAv_KdU"
      },
      "source": [
        "catboost_clear['grid_time'] = str(timedelta(seconds=time_grid_for_clear))"
      ],
      "execution_count": null,
      "outputs": []
    },
    {
      "cell_type": "code",
      "metadata": {
        "id": "LS6mwTRV_KdU"
      },
      "source": [
        "catboost_clear['grid_score'] = grid_model_clear.get_best_score()['learn']['RMSE']"
      ],
      "execution_count": null,
      "outputs": []
    },
    {
      "cell_type": "code",
      "metadata": {
        "id": "8SDPF1-O_KdU",
        "outputId": "fd4f6437-e133-4b6b-d868-37d8460700ff"
      },
      "source": [
        "grid_model_clear.get_params()"
      ],
      "execution_count": null,
      "outputs": [
        {
          "output_type": "execute_result",
          "data": {
            "text/plain": [
              "{'iterations': 5,\n",
              " 'loss_function': 'RMSE',\n",
              " 'random_state': 42,\n",
              " 'depth': 15,\n",
              " 'learning_rate': 1}"
            ]
          },
          "metadata": {
            "tags": []
          },
          "execution_count": 83
        }
      ]
    },
    {
      "cell_type": "code",
      "metadata": {
        "id": "MvjIco6H_KdU"
      },
      "source": [
        "model_for_clear = CatBoostRegressor(loss_function=\"RMSE\", iterations=60, depth=15, \n",
        "                          learning_rate=1,\n",
        "                          l2_leaf_reg=1, \n",
        "                          random_state=42)"
      ],
      "execution_count": null,
      "outputs": []
    },
    {
      "cell_type": "code",
      "metadata": {
        "id": "ZGYnl2d1_KdV",
        "outputId": "c210bf2b-091d-412c-e1cd-b2030ba8a15b"
      },
      "source": [
        "start = time.time()\n",
        "model_for_clear.fit(df_clear_train_x, df_clear_train_y, eval_set = cv_test_clear, verbose=10)\n",
        "end = time.time()\n",
        "fit_time = end - start"
      ],
      "execution_count": null,
      "outputs": [
        {
          "output_type": "stream",
          "text": [
            "0:\tlearn: 2186.9550459\ttest: 2187.3748247\tbest: 2187.3748247 (0)\ttotal: 1.28s\tremaining: 1m 15s\n",
            "10:\tlearn: 1567.1458712\ttest: 1686.9026181\tbest: 1686.9026181 (10)\ttotal: 15.4s\tremaining: 1m 8s\n",
            "20:\tlearn: 1444.8842753\ttest: 1643.6621195\tbest: 1643.6621195 (20)\ttotal: 29.4s\tremaining: 54.7s\n",
            "30:\tlearn: 1371.1463195\ttest: 1631.3866508\tbest: 1631.3866508 (30)\ttotal: 42.8s\tremaining: 40s\n",
            "40:\tlearn: 1298.4756353\ttest: 1628.2985220\tbest: 1628.2985220 (40)\ttotal: 56s\tremaining: 26s\n",
            "50:\tlearn: 1249.4497915\ttest: 1625.2053835\tbest: 1625.2053835 (50)\ttotal: 1m 9s\tremaining: 12.3s\n",
            "59:\tlearn: 1206.3159493\ttest: 1626.0129939\tbest: 1624.5805370 (53)\ttotal: 1m 21s\tremaining: 0us\n",
            "\n",
            "bestTest = 1624.580537\n",
            "bestIteration = 53\n",
            "\n",
            "Shrink model to first 54 iterations.\n"
          ],
          "name": "stdout"
        }
      ]
    },
    {
      "cell_type": "code",
      "metadata": {
        "id": "AeDJxspC_KdV"
      },
      "source": [
        "catboost_clear['fit_time'] = str(timedelta(seconds=fit_time))"
      ],
      "execution_count": null,
      "outputs": []
    },
    {
      "cell_type": "code",
      "metadata": {
        "id": "-MU1oie3_KdV"
      },
      "source": [
        "catboost_clear['fit_score'] = model_for_clear.get_best_score()['validation']['RMSE']"
      ],
      "execution_count": null,
      "outputs": []
    },
    {
      "cell_type": "code",
      "metadata": {
        "id": "MCt5vYbS_KdV"
      },
      "source": [
        "catboost_clear['model'] = \"Catboost\""
      ],
      "execution_count": null,
      "outputs": []
    },
    {
      "cell_type": "code",
      "metadata": {
        "id": "SGL56HGG_KdW",
        "outputId": "764dea0f-ed8f-4267-8802-d5ea6d888396"
      },
      "source": [
        "catboost_clear"
      ],
      "execution_count": null,
      "outputs": [
        {
          "output_type": "execute_result",
          "data": {
            "text/plain": [
              "{'grid_time': '0:01:06.866642',\n",
              " 'grid_score': 1729.6254036106034,\n",
              " 'fit_time': '0:01:28.752476',\n",
              " 'fit_score': 1624.5805370308228,\n",
              " 'model': 'Catboost'}"
            ]
          },
          "metadata": {
            "tags": []
          },
          "execution_count": 89
        }
      ]
    },
    {
      "cell_type": "markdown",
      "metadata": {
        "id": "-C5tF4sx_KdW"
      },
      "source": [
        "#### итог"
      ]
    },
    {
      "cell_type": "code",
      "metadata": {
        "id": "rUc7Cp1a_KdW",
        "outputId": "11766a66-c7d3-488d-d7f6-79beb4840e24"
      },
      "source": [
        "catboost_clear"
      ],
      "execution_count": null,
      "outputs": [
        {
          "output_type": "execute_result",
          "data": {
            "text/plain": [
              "{'grid_time': '0:01:06.866642',\n",
              " 'grid_score': 1729.6254036106034,\n",
              " 'fit_time': '0:01:28.752476',\n",
              " 'fit_score': 1624.5805370308228,\n",
              " 'model': 'Catboost'}"
            ]
          },
          "metadata": {
            "tags": []
          },
          "execution_count": 90
        }
      ]
    },
    {
      "cell_type": "code",
      "metadata": {
        "id": "EC_uiAij_KdW",
        "outputId": "ba46e0c5-ed6c-48fd-96e8-3ebe7bb20658"
      },
      "source": [
        "catboost_replace"
      ],
      "execution_count": null,
      "outputs": [
        {
          "output_type": "execute_result",
          "data": {
            "text/plain": [
              "{'grid_time': '0:01:14.810871',\n",
              " 'grid_score': 1737.5142517374036,\n",
              " 'fit_time': '0:01:51.018680',\n",
              " 'fit_score': 1640.3708265324594,\n",
              " 'model': <catboost.core.CatBoostRegressor at 0x7f4c2a56d190>}"
            ]
          },
          "metadata": {
            "tags": []
          },
          "execution_count": 91
        }
      ]
    },
    {
      "cell_type": "markdown",
      "metadata": {
        "id": "sFh2bmsR_KdX"
      },
      "source": [
        "#### LGBM  модель"
      ]
    },
    {
      "cell_type": "markdown",
      "metadata": {
        "id": "A2GJmPm4_KdX"
      },
      "source": [
        "По рещультатам модели catboost модель LGBM будем обучать на чистом датасете  df_clear по аналогичному принципу"
      ]
    },
    {
      "cell_type": "code",
      "metadata": {
        "id": "ug5bS0XW_KdX"
      },
      "source": [
        "del df"
      ],
      "execution_count": null,
      "outputs": []
    },
    {
      "cell_type": "code",
      "metadata": {
        "id": "oB3_SIsc_KdX"
      },
      "source": [
        "del df_replace_train_x\n",
        "del df_replace_test_x"
      ],
      "execution_count": null,
      "outputs": []
    },
    {
      "cell_type": "code",
      "metadata": {
        "id": "yPchzQpd_KdX"
      },
      "source": [
        "lgbm = {}"
      ],
      "execution_count": null,
      "outputs": []
    },
    {
      "cell_type": "code",
      "metadata": {
        "id": "dkbAKqOp_KdX"
      },
      "source": [
        "params = {\n",
        "    'n_estimators': [10],\n",
        "    'learning_rate': [0.1,0.5,1],\n",
        "    'max_depth': [25,40],\n",
        "    'objective':['regression']\n",
        "}"
      ],
      "execution_count": null,
      "outputs": []
    },
    {
      "cell_type": "code",
      "metadata": {
        "id": "9kumIC_B_KdY"
      },
      "source": [
        "mse = make_scorer(mean_squared_error,greater_is_better=False)"
      ],
      "execution_count": null,
      "outputs": []
    },
    {
      "cell_type": "code",
      "metadata": {
        "id": "cqj9MhBl_KdY"
      },
      "source": [
        "grid = GridSearchCV(lgb.LGBMRegressor(random_state=42), params, scoring=mse, cv=3)"
      ],
      "execution_count": null,
      "outputs": []
    },
    {
      "cell_type": "code",
      "metadata": {
        "id": "18UVLpFX_KdY"
      },
      "source": [
        "start = time.time()\n",
        "\n",
        "grid.fit(df_clear_train_x, df_clear_train_y)\n",
        "\n",
        "time_grid = time.time() - start"
      ],
      "execution_count": null,
      "outputs": []
    },
    {
      "cell_type": "code",
      "metadata": {
        "id": "acgR0pdQ_KdY"
      },
      "source": [
        "lgbm['grid_time'] = str(timedelta(seconds=time_grid))"
      ],
      "execution_count": null,
      "outputs": []
    },
    {
      "cell_type": "code",
      "metadata": {
        "id": "JdEeMR5c_KdY"
      },
      "source": [
        "lgbm['grid_score'] = (grid.best_score_*-1)**0.5"
      ],
      "execution_count": null,
      "outputs": []
    },
    {
      "cell_type": "code",
      "metadata": {
        "id": "Md607iTB_KdY",
        "outputId": "3291f919-486b-48f6-9c96-1a618dd53633"
      },
      "source": [
        "grid.best_params_"
      ],
      "execution_count": null,
      "outputs": [
        {
          "output_type": "execute_result",
          "data": {
            "text/plain": [
              "{'learning_rate': 0.5,\n",
              " 'max_depth': 25,\n",
              " 'n_estimators': 10,\n",
              " 'objective': 'regression'}"
            ]
          },
          "metadata": {
            "tags": []
          },
          "execution_count": 101
        }
      ]
    },
    {
      "cell_type": "code",
      "metadata": {
        "id": "AuEHQtYl_KdY"
      },
      "source": [
        "lgbmr = lgb.LGBMRegressor(boosting_type='gbdt',objective= 'regression',learning_rate=0.5, \n",
        "                          max_depth=25,n_estimators=200,\n",
        "                          eval_set=[(df_clear_test_x, df_clear_test_y)],\n",
        "                          eval_metric='rmse', verbose=1,\n",
        "                          random_state=42)"
      ],
      "execution_count": null,
      "outputs": []
    },
    {
      "cell_type": "code",
      "metadata": {
        "id": "JUL1kjWo_KdZ"
      },
      "source": [
        "start = time.time()\n",
        "lgbmr.fit(df_clear_train_x, df_clear_train_y)\n",
        "lgbm['fit_time']  = str(timedelta(seconds = time.time() - start))"
      ],
      "execution_count": null,
      "outputs": []
    },
    {
      "cell_type": "code",
      "metadata": {
        "id": "h_k_9K_J_KdZ"
      },
      "source": [
        "lgbm['fit_score'] = (grid.best_score_*-1)**0.5"
      ],
      "execution_count": null,
      "outputs": []
    },
    {
      "cell_type": "code",
      "metadata": {
        "id": "gQatEkDM_KdZ"
      },
      "source": [
        "lgbm['model'] = 'LGBMRegressor'"
      ],
      "execution_count": null,
      "outputs": []
    },
    {
      "cell_type": "code",
      "metadata": {
        "id": "logJXwFJ_KdZ",
        "outputId": "6e570031-e711-4322-a21f-44bb4d859026"
      },
      "source": [
        "lgbm"
      ],
      "execution_count": null,
      "outputs": [
        {
          "output_type": "execute_result",
          "data": {
            "text/plain": [
              "{'grid_time': '0:01:00.765031',\n",
              " 'grid_score': 1770.482753397451,\n",
              " 'fit_time': '0:00:17.703767',\n",
              " 'fit_score': 1770.482753397451,\n",
              " 'model': 'LGBMRegressor'}"
            ]
          },
          "metadata": {
            "tags": []
          },
          "execution_count": 106
        }
      ]
    },
    {
      "cell_type": "markdown",
      "metadata": {
        "id": "GnYa8cxQ_KdZ"
      },
      "source": [
        "#### Линейная регрессия"
      ]
    },
    {
      "cell_type": "code",
      "metadata": {
        "id": "btB489AE_KdZ"
      },
      "source": [
        "lin_r = {}"
      ],
      "execution_count": null,
      "outputs": []
    },
    {
      "cell_type": "code",
      "metadata": {
        "id": "WFq7mU9J_KdZ",
        "outputId": "22994d18-e15f-4fd6-e4d9-a094b22d112e"
      },
      "source": [
        "df_clear_train_x.head(2)"
      ],
      "execution_count": null,
      "outputs": [
        {
          "output_type": "execute_result",
          "data": {
            "text/html": [
              "<div>\n",
              "<style scoped>\n",
              "    .dataframe tbody tr th:only-of-type {\n",
              "        vertical-align: middle;\n",
              "    }\n",
              "\n",
              "    .dataframe tbody tr th {\n",
              "        vertical-align: top;\n",
              "    }\n",
              "\n",
              "    .dataframe thead th {\n",
              "        text-align: right;\n",
              "    }\n",
              "</style>\n",
              "<table border=\"1\" class=\"dataframe\">\n",
              "  <thead>\n",
              "    <tr style=\"text-align: right;\">\n",
              "      <th></th>\n",
              "      <th>registrationyear</th>\n",
              "      <th>power</th>\n",
              "      <th>kilometer</th>\n",
              "      <th>postalrank</th>\n",
              "      <th>vehicletype_convertible</th>\n",
              "      <th>vehicletype_coupe</th>\n",
              "      <th>vehicletype_other</th>\n",
              "      <th>vehicletype_sedan</th>\n",
              "      <th>vehicletype_small</th>\n",
              "      <th>vehicletype_suv</th>\n",
              "      <th>...</th>\n",
              "      <th>brand_seat</th>\n",
              "      <th>brand_skoda</th>\n",
              "      <th>brand_smart</th>\n",
              "      <th>brand_subaru</th>\n",
              "      <th>brand_suzuki</th>\n",
              "      <th>brand_toyota</th>\n",
              "      <th>brand_trabant</th>\n",
              "      <th>brand_volkswagen</th>\n",
              "      <th>brand_volvo</th>\n",
              "      <th>notrepaired_yes</th>\n",
              "    </tr>\n",
              "  </thead>\n",
              "  <tbody>\n",
              "    <tr>\n",
              "      <td>44871</td>\n",
              "      <td>2008</td>\n",
              "      <td>109</td>\n",
              "      <td>150000</td>\n",
              "      <td>0.674865</td>\n",
              "      <td>0</td>\n",
              "      <td>0</td>\n",
              "      <td>0</td>\n",
              "      <td>0</td>\n",
              "      <td>1</td>\n",
              "      <td>0</td>\n",
              "      <td>...</td>\n",
              "      <td>0</td>\n",
              "      <td>0</td>\n",
              "      <td>0</td>\n",
              "      <td>0</td>\n",
              "      <td>0</td>\n",
              "      <td>0</td>\n",
              "      <td>0</td>\n",
              "      <td>0</td>\n",
              "      <td>0</td>\n",
              "      <td>0</td>\n",
              "    </tr>\n",
              "    <tr>\n",
              "      <td>68108</td>\n",
              "      <td>2008</td>\n",
              "      <td>80</td>\n",
              "      <td>150000</td>\n",
              "      <td>0.404535</td>\n",
              "      <td>0</td>\n",
              "      <td>0</td>\n",
              "      <td>0</td>\n",
              "      <td>1</td>\n",
              "      <td>0</td>\n",
              "      <td>0</td>\n",
              "      <td>...</td>\n",
              "      <td>0</td>\n",
              "      <td>0</td>\n",
              "      <td>0</td>\n",
              "      <td>0</td>\n",
              "      <td>0</td>\n",
              "      <td>0</td>\n",
              "      <td>0</td>\n",
              "      <td>1</td>\n",
              "      <td>0</td>\n",
              "      <td>0</td>\n",
              "    </tr>\n",
              "  </tbody>\n",
              "</table>\n",
              "<p>2 rows × 305 columns</p>\n",
              "</div>"
            ],
            "text/plain": [
              "       registrationyear  power  kilometer  postalrank  \\\n",
              "44871              2008    109     150000    0.674865   \n",
              "68108              2008     80     150000    0.404535   \n",
              "\n",
              "       vehicletype_convertible  vehicletype_coupe  vehicletype_other  \\\n",
              "44871                        0                  0                  0   \n",
              "68108                        0                  0                  0   \n",
              "\n",
              "       vehicletype_sedan  vehicletype_small  vehicletype_suv  ...  brand_seat  \\\n",
              "44871                  0                  1                0  ...           0   \n",
              "68108                  1                  0                0  ...           0   \n",
              "\n",
              "       brand_skoda  brand_smart  brand_subaru  brand_suzuki  brand_toyota  \\\n",
              "44871            0            0             0             0             0   \n",
              "68108            0            0             0             0             0   \n",
              "\n",
              "       brand_trabant  brand_volkswagen  brand_volvo  notrepaired_yes  \n",
              "44871              0                 0            0                0  \n",
              "68108              0                 1            0                0  \n",
              "\n",
              "[2 rows x 305 columns]"
            ]
          },
          "metadata": {
            "tags": []
          },
          "execution_count": 108
        }
      ]
    },
    {
      "cell_type": "code",
      "metadata": {
        "id": "bPLjWbJ-_Kda"
      },
      "source": [
        "numeric = ['registrationyear','power','kilometer']\n",
        "scaler = StandardScaler()\n",
        "\n",
        "scaler.fit(df_clear_train_x[numeric])\n",
        "df_lr_clear_train_x = df_clear_train_x.copy()\n",
        "df_lr_clear_test_x = df_clear_test_x.copy()       \n",
        "\n",
        "df_lr_clear_train_x[numeric] = scaler.transform(df_lr_clear_train_x[numeric])\n",
        "df_lr_clear_test_x[numeric] = scaler.transform(df_lr_clear_test_x[numeric])"
      ],
      "execution_count": null,
      "outputs": []
    },
    {
      "cell_type": "code",
      "metadata": {
        "id": "Jh4loqir_Kda",
        "outputId": "d9db47e5-af9b-47b4-eb10-dc05f85694ca"
      },
      "source": [
        "df_lr_clear_train_x"
      ],
      "execution_count": null,
      "outputs": [
        {
          "output_type": "execute_result",
          "data": {
            "text/html": [
              "<div>\n",
              "<style scoped>\n",
              "    .dataframe tbody tr th:only-of-type {\n",
              "        vertical-align: middle;\n",
              "    }\n",
              "\n",
              "    .dataframe tbody tr th {\n",
              "        vertical-align: top;\n",
              "    }\n",
              "\n",
              "    .dataframe thead th {\n",
              "        text-align: right;\n",
              "    }\n",
              "</style>\n",
              "<table border=\"1\" class=\"dataframe\">\n",
              "  <thead>\n",
              "    <tr style=\"text-align: right;\">\n",
              "      <th></th>\n",
              "      <th>registrationyear</th>\n",
              "      <th>power</th>\n",
              "      <th>kilometer</th>\n",
              "      <th>postalrank</th>\n",
              "      <th>vehicletype_convertible</th>\n",
              "      <th>vehicletype_coupe</th>\n",
              "      <th>vehicletype_other</th>\n",
              "      <th>vehicletype_sedan</th>\n",
              "      <th>vehicletype_small</th>\n",
              "      <th>vehicletype_suv</th>\n",
              "      <th>...</th>\n",
              "      <th>brand_seat</th>\n",
              "      <th>brand_skoda</th>\n",
              "      <th>brand_smart</th>\n",
              "      <th>brand_subaru</th>\n",
              "      <th>brand_suzuki</th>\n",
              "      <th>brand_toyota</th>\n",
              "      <th>brand_trabant</th>\n",
              "      <th>brand_volkswagen</th>\n",
              "      <th>brand_volvo</th>\n",
              "      <th>notrepaired_yes</th>\n",
              "    </tr>\n",
              "  </thead>\n",
              "  <tbody>\n",
              "    <tr>\n",
              "      <td>44871</td>\n",
              "      <td>0.807465</td>\n",
              "      <td>-0.262286</td>\n",
              "      <td>0.620776</td>\n",
              "      <td>0.674865</td>\n",
              "      <td>0</td>\n",
              "      <td>0</td>\n",
              "      <td>0</td>\n",
              "      <td>0</td>\n",
              "      <td>1</td>\n",
              "      <td>0</td>\n",
              "      <td>...</td>\n",
              "      <td>0</td>\n",
              "      <td>0</td>\n",
              "      <td>0</td>\n",
              "      <td>0</td>\n",
              "      <td>0</td>\n",
              "      <td>0</td>\n",
              "      <td>0</td>\n",
              "      <td>0</td>\n",
              "      <td>0</td>\n",
              "      <td>0</td>\n",
              "    </tr>\n",
              "    <tr>\n",
              "      <td>68108</td>\n",
              "      <td>0.807465</td>\n",
              "      <td>-0.801753</td>\n",
              "      <td>0.620776</td>\n",
              "      <td>0.404535</td>\n",
              "      <td>0</td>\n",
              "      <td>0</td>\n",
              "      <td>0</td>\n",
              "      <td>1</td>\n",
              "      <td>0</td>\n",
              "      <td>0</td>\n",
              "      <td>...</td>\n",
              "      <td>0</td>\n",
              "      <td>0</td>\n",
              "      <td>0</td>\n",
              "      <td>0</td>\n",
              "      <td>0</td>\n",
              "      <td>0</td>\n",
              "      <td>0</td>\n",
              "      <td>1</td>\n",
              "      <td>0</td>\n",
              "      <td>0</td>\n",
              "    </tr>\n",
              "    <tr>\n",
              "      <td>9503</td>\n",
              "      <td>0.972228</td>\n",
              "      <td>-0.336695</td>\n",
              "      <td>-0.054210</td>\n",
              "      <td>0.264590</td>\n",
              "      <td>0</td>\n",
              "      <td>0</td>\n",
              "      <td>0</td>\n",
              "      <td>0</td>\n",
              "      <td>1</td>\n",
              "      <td>0</td>\n",
              "      <td>...</td>\n",
              "      <td>1</td>\n",
              "      <td>0</td>\n",
              "      <td>0</td>\n",
              "      <td>0</td>\n",
              "      <td>0</td>\n",
              "      <td>0</td>\n",
              "      <td>0</td>\n",
              "      <td>0</td>\n",
              "      <td>0</td>\n",
              "      <td>0</td>\n",
              "    </tr>\n",
              "    <tr>\n",
              "      <td>239580</td>\n",
              "      <td>-1.004929</td>\n",
              "      <td>1.300307</td>\n",
              "      <td>0.620776</td>\n",
              "      <td>0.934112</td>\n",
              "      <td>0</td>\n",
              "      <td>0</td>\n",
              "      <td>0</td>\n",
              "      <td>0</td>\n",
              "      <td>0</td>\n",
              "      <td>0</td>\n",
              "      <td>...</td>\n",
              "      <td>0</td>\n",
              "      <td>0</td>\n",
              "      <td>0</td>\n",
              "      <td>0</td>\n",
              "      <td>0</td>\n",
              "      <td>0</td>\n",
              "      <td>0</td>\n",
              "      <td>0</td>\n",
              "      <td>0</td>\n",
              "      <td>0</td>\n",
              "    </tr>\n",
              "    <tr>\n",
              "      <td>83450</td>\n",
              "      <td>-2.158271</td>\n",
              "      <td>-0.392502</td>\n",
              "      <td>0.620776</td>\n",
              "      <td>0.828239</td>\n",
              "      <td>0</td>\n",
              "      <td>0</td>\n",
              "      <td>0</td>\n",
              "      <td>1</td>\n",
              "      <td>0</td>\n",
              "      <td>0</td>\n",
              "      <td>...</td>\n",
              "      <td>0</td>\n",
              "      <td>0</td>\n",
              "      <td>0</td>\n",
              "      <td>0</td>\n",
              "      <td>0</td>\n",
              "      <td>0</td>\n",
              "      <td>0</td>\n",
              "      <td>0</td>\n",
              "      <td>0</td>\n",
              "      <td>0</td>\n",
              "    </tr>\n",
              "    <tr>\n",
              "      <td>...</td>\n",
              "      <td>...</td>\n",
              "      <td>...</td>\n",
              "      <td>...</td>\n",
              "      <td>...</td>\n",
              "      <td>...</td>\n",
              "      <td>...</td>\n",
              "      <td>...</td>\n",
              "      <td>...</td>\n",
              "      <td>...</td>\n",
              "      <td>...</td>\n",
              "      <td>...</td>\n",
              "      <td>...</td>\n",
              "      <td>...</td>\n",
              "      <td>...</td>\n",
              "      <td>...</td>\n",
              "      <td>...</td>\n",
              "      <td>...</td>\n",
              "      <td>...</td>\n",
              "      <td>...</td>\n",
              "      <td>...</td>\n",
              "      <td>...</td>\n",
              "    </tr>\n",
              "    <tr>\n",
              "      <td>182484</td>\n",
              "      <td>-0.181114</td>\n",
              "      <td>-1.211004</td>\n",
              "      <td>0.620776</td>\n",
              "      <td>0.479988</td>\n",
              "      <td>0</td>\n",
              "      <td>0</td>\n",
              "      <td>0</td>\n",
              "      <td>0</td>\n",
              "      <td>1</td>\n",
              "      <td>0</td>\n",
              "      <td>...</td>\n",
              "      <td>0</td>\n",
              "      <td>0</td>\n",
              "      <td>0</td>\n",
              "      <td>0</td>\n",
              "      <td>0</td>\n",
              "      <td>0</td>\n",
              "      <td>0</td>\n",
              "      <td>0</td>\n",
              "      <td>0</td>\n",
              "      <td>0</td>\n",
              "    </tr>\n",
              "    <tr>\n",
              "      <td>157844</td>\n",
              "      <td>0.313176</td>\n",
              "      <td>-1.117992</td>\n",
              "      <td>-0.054210</td>\n",
              "      <td>0.125737</td>\n",
              "      <td>0</td>\n",
              "      <td>0</td>\n",
              "      <td>0</td>\n",
              "      <td>0</td>\n",
              "      <td>1</td>\n",
              "      <td>0</td>\n",
              "      <td>...</td>\n",
              "      <td>0</td>\n",
              "      <td>0</td>\n",
              "      <td>0</td>\n",
              "      <td>0</td>\n",
              "      <td>0</td>\n",
              "      <td>0</td>\n",
              "      <td>0</td>\n",
              "      <td>0</td>\n",
              "      <td>0</td>\n",
              "      <td>0</td>\n",
              "    </tr>\n",
              "    <tr>\n",
              "      <td>201033</td>\n",
              "      <td>1.301755</td>\n",
              "      <td>0.239976</td>\n",
              "      <td>-0.729197</td>\n",
              "      <td>0.504673</td>\n",
              "      <td>0</td>\n",
              "      <td>0</td>\n",
              "      <td>0</td>\n",
              "      <td>0</td>\n",
              "      <td>0</td>\n",
              "      <td>0</td>\n",
              "      <td>...</td>\n",
              "      <td>0</td>\n",
              "      <td>0</td>\n",
              "      <td>0</td>\n",
              "      <td>0</td>\n",
              "      <td>0</td>\n",
              "      <td>0</td>\n",
              "      <td>0</td>\n",
              "      <td>0</td>\n",
              "      <td>0</td>\n",
              "      <td>0</td>\n",
              "    </tr>\n",
              "    <tr>\n",
              "      <td>223905</td>\n",
              "      <td>0.313176</td>\n",
              "      <td>2.546661</td>\n",
              "      <td>0.620776</td>\n",
              "      <td>0.301676</td>\n",
              "      <td>0</td>\n",
              "      <td>0</td>\n",
              "      <td>0</td>\n",
              "      <td>1</td>\n",
              "      <td>0</td>\n",
              "      <td>0</td>\n",
              "      <td>...</td>\n",
              "      <td>0</td>\n",
              "      <td>0</td>\n",
              "      <td>0</td>\n",
              "      <td>0</td>\n",
              "      <td>0</td>\n",
              "      <td>0</td>\n",
              "      <td>0</td>\n",
              "      <td>0</td>\n",
              "      <td>0</td>\n",
              "      <td>0</td>\n",
              "    </tr>\n",
              "    <tr>\n",
              "      <td>185735</td>\n",
              "      <td>-2.158271</td>\n",
              "      <td>-0.243684</td>\n",
              "      <td>0.620776</td>\n",
              "      <td>0.239070</td>\n",
              "      <td>0</td>\n",
              "      <td>0</td>\n",
              "      <td>0</td>\n",
              "      <td>1</td>\n",
              "      <td>0</td>\n",
              "      <td>0</td>\n",
              "      <td>...</td>\n",
              "      <td>0</td>\n",
              "      <td>0</td>\n",
              "      <td>0</td>\n",
              "      <td>0</td>\n",
              "      <td>0</td>\n",
              "      <td>0</td>\n",
              "      <td>0</td>\n",
              "      <td>1</td>\n",
              "      <td>0</td>\n",
              "      <td>0</td>\n",
              "    </tr>\n",
              "  </tbody>\n",
              "</table>\n",
              "<p>186072 rows × 305 columns</p>\n",
              "</div>"
            ],
            "text/plain": [
              "        registrationyear     power  kilometer  postalrank  \\\n",
              "44871           0.807465 -0.262286   0.620776    0.674865   \n",
              "68108           0.807465 -0.801753   0.620776    0.404535   \n",
              "9503            0.972228 -0.336695  -0.054210    0.264590   \n",
              "239580         -1.004929  1.300307   0.620776    0.934112   \n",
              "83450          -2.158271 -0.392502   0.620776    0.828239   \n",
              "...                  ...       ...        ...         ...   \n",
              "182484         -0.181114 -1.211004   0.620776    0.479988   \n",
              "157844          0.313176 -1.117992  -0.054210    0.125737   \n",
              "201033          1.301755  0.239976  -0.729197    0.504673   \n",
              "223905          0.313176  2.546661   0.620776    0.301676   \n",
              "185735         -2.158271 -0.243684   0.620776    0.239070   \n",
              "\n",
              "        vehicletype_convertible  vehicletype_coupe  vehicletype_other  \\\n",
              "44871                         0                  0                  0   \n",
              "68108                         0                  0                  0   \n",
              "9503                          0                  0                  0   \n",
              "239580                        0                  0                  0   \n",
              "83450                         0                  0                  0   \n",
              "...                         ...                ...                ...   \n",
              "182484                        0                  0                  0   \n",
              "157844                        0                  0                  0   \n",
              "201033                        0                  0                  0   \n",
              "223905                        0                  0                  0   \n",
              "185735                        0                  0                  0   \n",
              "\n",
              "        vehicletype_sedan  vehicletype_small  vehicletype_suv  ...  \\\n",
              "44871                   0                  1                0  ...   \n",
              "68108                   1                  0                0  ...   \n",
              "9503                    0                  1                0  ...   \n",
              "239580                  0                  0                0  ...   \n",
              "83450                   1                  0                0  ...   \n",
              "...                   ...                ...              ...  ...   \n",
              "182484                  0                  1                0  ...   \n",
              "157844                  0                  1                0  ...   \n",
              "201033                  0                  0                0  ...   \n",
              "223905                  1                  0                0  ...   \n",
              "185735                  1                  0                0  ...   \n",
              "\n",
              "        brand_seat  brand_skoda  brand_smart  brand_subaru  brand_suzuki  \\\n",
              "44871            0            0            0             0             0   \n",
              "68108            0            0            0             0             0   \n",
              "9503             1            0            0             0             0   \n",
              "239580           0            0            0             0             0   \n",
              "83450            0            0            0             0             0   \n",
              "...            ...          ...          ...           ...           ...   \n",
              "182484           0            0            0             0             0   \n",
              "157844           0            0            0             0             0   \n",
              "201033           0            0            0             0             0   \n",
              "223905           0            0            0             0             0   \n",
              "185735           0            0            0             0             0   \n",
              "\n",
              "        brand_toyota  brand_trabant  brand_volkswagen  brand_volvo  \\\n",
              "44871              0              0                 0            0   \n",
              "68108              0              0                 1            0   \n",
              "9503               0              0                 0            0   \n",
              "239580             0              0                 0            0   \n",
              "83450              0              0                 0            0   \n",
              "...              ...            ...               ...          ...   \n",
              "182484             0              0                 0            0   \n",
              "157844             0              0                 0            0   \n",
              "201033             0              0                 0            0   \n",
              "223905             0              0                 0            0   \n",
              "185735             0              0                 1            0   \n",
              "\n",
              "        notrepaired_yes  \n",
              "44871                 0  \n",
              "68108                 0  \n",
              "9503                  0  \n",
              "239580                0  \n",
              "83450                 0  \n",
              "...                 ...  \n",
              "182484                0  \n",
              "157844                0  \n",
              "201033                0  \n",
              "223905                0  \n",
              "185735                0  \n",
              "\n",
              "[186072 rows x 305 columns]"
            ]
          },
          "metadata": {
            "tags": []
          },
          "execution_count": 110
        }
      ]
    },
    {
      "cell_type": "code",
      "metadata": {
        "id": "r6MbwAT6_Kda"
      },
      "source": [
        "lr = LinearRegression()"
      ],
      "execution_count": null,
      "outputs": []
    },
    {
      "cell_type": "code",
      "metadata": {
        "id": "3HpJM9Bn_Kda"
      },
      "source": [
        ""
      ],
      "execution_count": null,
      "outputs": []
    },
    {
      "cell_type": "code",
      "metadata": {
        "id": "v73-7PVG_Kda"
      },
      "source": [
        "start = time.time()\n",
        "from sklearn.model_selection import cross_val_score\n",
        "lin_r['grid_time'] = str(timedelta(time.time() - start))"
      ],
      "execution_count": null,
      "outputs": []
    },
    {
      "cell_type": "code",
      "metadata": {
        "scrolled": true,
        "id": "F2O41YXT_Kda"
      },
      "source": [
        "scor = cross_val_score(lr, df_lr_clear_train_x, df_clear_train_y, cv=3,scoring ='neg_mean_squared_error')"
      ],
      "execution_count": null,
      "outputs": []
    },
    {
      "cell_type": "code",
      "metadata": {
        "id": "gG_3DvOE_Kdb"
      },
      "source": [
        "lin_r['grid_score'] = ((scor*-1)**0.5).min()"
      ],
      "execution_count": null,
      "outputs": []
    },
    {
      "cell_type": "code",
      "metadata": {
        "id": "oRkPjlQQ_Kdb",
        "outputId": "3bbbdae5-3640-44e1-f6ce-2f79ef108994"
      },
      "source": [
        "lin_r"
      ],
      "execution_count": null,
      "outputs": [
        {
          "output_type": "execute_result",
          "data": {
            "text/plain": [
              "{'grid_time': '0:00:09.475708', 'grid_score': 2512.2725724836423}"
            ]
          },
          "metadata": {
            "tags": []
          },
          "execution_count": 115
        }
      ]
    },
    {
      "cell_type": "markdown",
      "metadata": {
        "id": "f6YgXu7T_Kdb"
      },
      "source": [
        "<div style=\"background: #cceeaa; padding: 5px; border: 1px solid green; border-radius: 5px;\">\n",
        "<font color='green'><u><b>КОММЕНТАРИЙ РЕВЬЮЕРА</b></u>\n",
        "<font color='green'><br>хорошо получилось)"
      ]
    },
    {
      "cell_type": "markdown",
      "metadata": {
        "id": "G4DtLJif_Kdb"
      },
      "source": [
        "# 3. Анализ моделей"
      ]
    },
    {
      "cell_type": "markdown",
      "metadata": {
        "id": "LRzGWTgu_Kdb"
      },
      "source": [
        "###  Проверка модлеей на тестовой выборке"
      ]
    },
    {
      "cell_type": "code",
      "metadata": {
        "id": "7pGCJK0e_Kdb"
      },
      "source": [
        "def scores (y_true, y_predict):\n",
        "    score = mean_squared_error(y_true, y_predict)\n",
        "    if score < 0:\n",
        "        score*-1\n",
        "    else: return score**0.5"
      ],
      "execution_count": null,
      "outputs": []
    },
    {
      "cell_type": "markdown",
      "metadata": {
        "id": "6YizDau7_Kdb"
      },
      "source": [
        "#### catboost"
      ]
    },
    {
      "cell_type": "code",
      "metadata": {
        "id": "SvJ9Cs-X_Kdc"
      },
      "source": [
        "start = time.time()\n",
        "catboost_predict = model_for_clear.predict(df_clear_test_x)\n",
        "catboost_clear['predict_time'] = str(timedelta(seconds=time.time()-start))"
      ],
      "execution_count": null,
      "outputs": []
    },
    {
      "cell_type": "code",
      "metadata": {
        "id": "NcZdEkmp_Kdc"
      },
      "source": [
        "catboost_clear['result_score'] = scores(df_clear_test_y, catboost_predict)"
      ],
      "execution_count": null,
      "outputs": []
    },
    {
      "cell_type": "code",
      "metadata": {
        "id": "YDglXQzK_Kdc"
      },
      "source": [
        "## здесь я немного не понял, почему, если я изменяю количество итераци при обучении качество предсказания не изменяется "
      ],
      "execution_count": null,
      "outputs": []
    },
    {
      "cell_type": "markdown",
      "metadata": {
        "id": "iYUoVW65_Kdc"
      },
      "source": [
        "<div style=\"background: #cceeaa; padding: 5px; border: 1px solid green; border-radius: 5px;\">\n",
        "<font color='green'><u><b>КОММЕНТАРИЙ РЕВЬЮЕРА</b></u>\n",
        "<font color='green'><br>пока не понятно на каких диапазонах не меняется.... как вараинт, можно построить график зависимости метрики от числа итерации. И псометреть в каких диапазонах меняется/не меняестя..."
      ]
    },
    {
      "cell_type": "markdown",
      "metadata": {
        "id": "d3CZcE6l_Kdc"
      },
      "source": [
        "<div style=\"background: #8aacc8; padding: 5px; border: 1px solid #0077c2; border-radius: 5px;\">\n",
        "Добавил валидационный набор для проверки, в моем случае я не стал дополнительно \"откусывать\" от тренеровочного набора еще  и валидационный и стало понятно когда и где получаем минимальную метрику."
      ]
    },
    {
      "cell_type": "markdown",
      "metadata": {
        "id": "d5sQKOk7_Kdc"
      },
      "source": [
        "#### lgbm"
      ]
    },
    {
      "cell_type": "code",
      "metadata": {
        "id": "QsGnKldo_Kdc"
      },
      "source": [
        "start = time.time()\n",
        "lgbm_predict = lgbmr.predict(df_clear_test_x)\n",
        "lgbm['predict_time'] = str(timedelta(seconds=time.time()-start))"
      ],
      "execution_count": null,
      "outputs": []
    },
    {
      "cell_type": "code",
      "metadata": {
        "id": "Kdcoiypt_Kdc"
      },
      "source": [
        "lgbm['result_score'] = scores(df_clear_test_y, lgbm_predict)"
      ],
      "execution_count": null,
      "outputs": []
    },
    {
      "cell_type": "markdown",
      "metadata": {
        "id": "MzEfW4iO_Kdd"
      },
      "source": [
        "#### Линейная регрессия"
      ]
    },
    {
      "cell_type": "code",
      "metadata": {
        "id": "lsMSQzBF_Kdd"
      },
      "source": [
        "start = time.time()\n",
        "lr.fit(df_lr_clear_test_x, df_clear_test_y)\n",
        "lin_r['fit_time'] = str(timedelta(seconds=time.time()-start))"
      ],
      "execution_count": null,
      "outputs": []
    },
    {
      "cell_type": "code",
      "metadata": {
        "id": "PSLy1Hlm_Kdd"
      },
      "source": [
        "start = time.time()\n",
        "lr_predict = lr.predict(df_lr_clear_test_x)\n",
        "lin_r['predict_time'] = str(timedelta(seconds=time.time()-start))"
      ],
      "execution_count": null,
      "outputs": []
    },
    {
      "cell_type": "code",
      "metadata": {
        "id": "SlQkpu1l_Kdd"
      },
      "source": [
        "lin_r['result_score'] =scores(df_clear_test_y, lr_predict)"
      ],
      "execution_count": null,
      "outputs": []
    },
    {
      "cell_type": "code",
      "metadata": {
        "id": "Tzkhvro0_Kdd",
        "outputId": "0aca6227-cf21-45de-b0f7-95e7d4063682"
      },
      "source": [
        "(mean_squared_error(df_clear_test_y, lr_predict))**0.5"
      ],
      "execution_count": null,
      "outputs": [
        {
          "output_type": "execute_result",
          "data": {
            "text/plain": [
              "2507.9946562093633"
            ]
          },
          "metadata": {
            "tags": []
          },
          "execution_count": 125
        }
      ]
    },
    {
      "cell_type": "code",
      "metadata": {
        "id": "sCJcx7b6_Kde"
      },
      "source": [
        "lin_r['model'] = 'LinearRegression'"
      ],
      "execution_count": null,
      "outputs": []
    },
    {
      "cell_type": "markdown",
      "metadata": {
        "id": "_UmlH9tk_Kde"
      },
      "source": [
        "#### Анализ важности признаков "
      ]
    },
    {
      "cell_type": "code",
      "metadata": {
        "id": "JkUMc89L_Kde"
      },
      "source": [
        "catboost_feachures_important=pd.DataFrame({'feature_importance': model_for_clear.feature_importances_, \n",
        "              'feature_names': df_clear_train_x.columns}).sort_values(by=['feature_importance'], \n",
        "                                                           ascending=False).head(10)"
      ],
      "execution_count": null,
      "outputs": []
    },
    {
      "cell_type": "code",
      "metadata": {
        "id": "4JGyc98B_Kde",
        "outputId": "ee482cd3-0f32-4a8e-fc26-7c3f27604ca1"
      },
      "source": [
        "catboost_feachures_important"
      ],
      "execution_count": null,
      "outputs": [
        {
          "output_type": "execute_result",
          "data": {
            "text/html": [
              "<div>\n",
              "<style scoped>\n",
              "    .dataframe tbody tr th:only-of-type {\n",
              "        vertical-align: middle;\n",
              "    }\n",
              "\n",
              "    .dataframe tbody tr th {\n",
              "        vertical-align: top;\n",
              "    }\n",
              "\n",
              "    .dataframe thead th {\n",
              "        text-align: right;\n",
              "    }\n",
              "</style>\n",
              "<table border=\"1\" class=\"dataframe\">\n",
              "  <thead>\n",
              "    <tr style=\"text-align: right;\">\n",
              "      <th></th>\n",
              "      <th>feature_importance</th>\n",
              "      <th>feature_names</th>\n",
              "    </tr>\n",
              "  </thead>\n",
              "  <tbody>\n",
              "    <tr>\n",
              "      <td>0</td>\n",
              "      <td>29.848164</td>\n",
              "      <td>registrationyear</td>\n",
              "    </tr>\n",
              "    <tr>\n",
              "      <td>1</td>\n",
              "      <td>20.226839</td>\n",
              "      <td>power</td>\n",
              "    </tr>\n",
              "    <tr>\n",
              "      <td>2</td>\n",
              "      <td>10.261059</td>\n",
              "      <td>kilometer</td>\n",
              "    </tr>\n",
              "    <tr>\n",
              "      <td>265</td>\n",
              "      <td>4.022074</td>\n",
              "      <td>fueltype_petrol</td>\n",
              "    </tr>\n",
              "    <tr>\n",
              "      <td>304</td>\n",
              "      <td>3.274201</td>\n",
              "      <td>notrepaired_yes</td>\n",
              "    </tr>\n",
              "    <tr>\n",
              "      <td>266</td>\n",
              "      <td>2.910771</td>\n",
              "      <td>brand_audi</td>\n",
              "    </tr>\n",
              "    <tr>\n",
              "      <td>3</td>\n",
              "      <td>2.881409</td>\n",
              "      <td>postalrank</td>\n",
              "    </tr>\n",
              "    <tr>\n",
              "      <td>285</td>\n",
              "      <td>2.783965</td>\n",
              "      <td>brand_mercedes_benz</td>\n",
              "    </tr>\n",
              "    <tr>\n",
              "      <td>267</td>\n",
              "      <td>2.558453</td>\n",
              "      <td>brand_bmw</td>\n",
              "    </tr>\n",
              "    <tr>\n",
              "      <td>7</td>\n",
              "      <td>2.394427</td>\n",
              "      <td>vehicletype_sedan</td>\n",
              "    </tr>\n",
              "  </tbody>\n",
              "</table>\n",
              "</div>"
            ],
            "text/plain": [
              "     feature_importance        feature_names\n",
              "0             29.848164     registrationyear\n",
              "1             20.226839                power\n",
              "2             10.261059            kilometer\n",
              "265            4.022074      fueltype_petrol\n",
              "304            3.274201      notrepaired_yes\n",
              "266            2.910771           brand_audi\n",
              "3              2.881409           postalrank\n",
              "285            2.783965  brand_mercedes_benz\n",
              "267            2.558453            brand_bmw\n",
              "7              2.394427    vehicletype_sedan"
            ]
          },
          "metadata": {
            "tags": []
          },
          "execution_count": 128
        }
      ]
    },
    {
      "cell_type": "code",
      "metadata": {
        "id": "zdz-7mdn_Kde"
      },
      "source": [
        "lgbm_feachures_important = pd.DataFrame({'feature_importance':lgbmr.feature_importances_, \n",
        "              'feature_names': df_clear_train_x.columns}).sort_values(by=['feature_importance'], \n",
        "                                                           ascending=False).head(10)"
      ],
      "execution_count": null,
      "outputs": []
    },
    {
      "cell_type": "code",
      "metadata": {
        "id": "qRGuBPJ5_Kde",
        "outputId": "31ca33c7-dc2c-467e-86a4-4acfb0fd72f3"
      },
      "source": [
        "from matplotlib import pyplot as plt\n",
        "fig, axes = plt.subplots(1,2, figsize=(18, 7))\n",
        "\n",
        "sns.barplot(ax=axes[0],\n",
        "    data=catboost_feachures_important,\n",
        "    x=\"feature_importance\", y=\"feature_names\").set(title='catboost_feachures_important')\n",
        "\n",
        "sns.barplot(ax=axes[1], \n",
        "    data=lgbm_feachures_important,\n",
        "    x=\"feature_importance\", y=\"feature_names\").set(title='lgbm_feachures_important')\n",
        "\n"
      ],
      "execution_count": null,
      "outputs": [
        {
          "output_type": "execute_result",
          "data": {
            "text/plain": [
              "[Text(0.5, 1.0, 'lgbm_feachures_important')]"
            ]
          },
          "metadata": {
            "tags": []
          },
          "execution_count": 130
        },
        {
          "output_type": "display_data",
          "data": {
            "image/png": "[encoded data removed]",
            "text/plain": [
              "<Figure size 1296x504 with 2 Axes>"
            ]
          },
          "metadata": {
            "tags": [],
            "needs_background": "light"
          }
        }
      ]
    },
    {
      "cell_type": "markdown",
      "metadata": {
        "id": "DaYWESSU_Kdf"
      },
      "source": [
        "График топ 10 значимых факторов моделей catboost и  lgbm. Совпадение только по признаку года регистрации, в остальном моожели совершенно по разному определили значимость признаков. И кажеться что модель lgbm сделала это лучше. "
      ]
    },
    {
      "cell_type": "markdown",
      "metadata": {
        "id": "vqf7jxBc_Kdf"
      },
      "source": [
        "<div style=\"background: #cceeaa; padding: 5px; border: 1px solid green; border-radius: 5px;\">\n",
        "    <font color='green'> <b><u>КОММЕНТАРИЙ РЕВЬЮЕРА 2</u></b>\n",
        "</font>\n",
        "<font color='green'><br>отлично)"
      ]
    },
    {
      "cell_type": "markdown",
      "metadata": {
        "id": "8D5R9G02_Kdf"
      },
      "source": [
        "### Итоговый  результат"
      ]
    },
    {
      "cell_type": "code",
      "metadata": {
        "id": "GRAKX0Zk_Kdf"
      },
      "source": [
        "results = pd.DataFrame()"
      ],
      "execution_count": null,
      "outputs": []
    },
    {
      "cell_type": "code",
      "metadata": {
        "id": "mf3frhhd_Kdf"
      },
      "source": [
        "results = results.append(catboost_clear,ignore_index=True)"
      ],
      "execution_count": null,
      "outputs": []
    },
    {
      "cell_type": "code",
      "metadata": {
        "id": "wfSz9Puj_Kdf"
      },
      "source": [
        "results = results.append(lgbm,ignore_index=True)"
      ],
      "execution_count": null,
      "outputs": []
    },
    {
      "cell_type": "code",
      "metadata": {
        "id": "s_2dnh1C_Kdg"
      },
      "source": [
        "results = results.append(lin_r,ignore_index=True)"
      ],
      "execution_count": null,
      "outputs": []
    },
    {
      "cell_type": "code",
      "metadata": {
        "id": "Ttk2A0pE_Kdh",
        "outputId": "c86273ca-01dc-4bb6-a9e0-9554bce39c26"
      },
      "source": [
        "results"
      ],
      "execution_count": null,
      "outputs": [
        {
          "output_type": "execute_result",
          "data": {
            "text/html": [
              "<div>\n",
              "<style scoped>\n",
              "    .dataframe tbody tr th:only-of-type {\n",
              "        vertical-align: middle;\n",
              "    }\n",
              "\n",
              "    .dataframe tbody tr th {\n",
              "        vertical-align: top;\n",
              "    }\n",
              "\n",
              "    .dataframe thead th {\n",
              "        text-align: right;\n",
              "    }\n",
              "</style>\n",
              "<table border=\"1\" class=\"dataframe\">\n",
              "  <thead>\n",
              "    <tr style=\"text-align: right;\">\n",
              "      <th></th>\n",
              "      <th>fit_score</th>\n",
              "      <th>fit_time</th>\n",
              "      <th>grid_score</th>\n",
              "      <th>grid_time</th>\n",
              "      <th>model</th>\n",
              "      <th>predict_time</th>\n",
              "      <th>result_score</th>\n",
              "    </tr>\n",
              "  </thead>\n",
              "  <tbody>\n",
              "    <tr>\n",
              "      <td>0</td>\n",
              "      <td>1624.580537</td>\n",
              "      <td>0:01:28.752476</td>\n",
              "      <td>1729.625404</td>\n",
              "      <td>0:01:06.866642</td>\n",
              "      <td>Catboost</td>\n",
              "      <td>0:00:00.088639</td>\n",
              "      <td>1624.580537</td>\n",
              "    </tr>\n",
              "    <tr>\n",
              "      <td>1</td>\n",
              "      <td>1770.482753</td>\n",
              "      <td>0:00:17.703767</td>\n",
              "      <td>1770.482753</td>\n",
              "      <td>0:01:00.765031</td>\n",
              "      <td>LGBMRegressor</td>\n",
              "      <td>0:00:01.066813</td>\n",
              "      <td>1548.406709</td>\n",
              "    </tr>\n",
              "    <tr>\n",
              "      <td>2</td>\n",
              "      <td>NaN</td>\n",
              "      <td>0:00:04.678552</td>\n",
              "      <td>2512.272572</td>\n",
              "      <td>0:00:09.475708</td>\n",
              "      <td>LinearRegression</td>\n",
              "      <td>0:00:00.107004</td>\n",
              "      <td>2507.994656</td>\n",
              "    </tr>\n",
              "  </tbody>\n",
              "</table>\n",
              "</div>"
            ],
            "text/plain": [
              "     fit_score        fit_time   grid_score       grid_time             model  \\\n",
              "0  1624.580537  0:01:28.752476  1729.625404  0:01:06.866642          Catboost   \n",
              "1  1770.482753  0:00:17.703767  1770.482753  0:01:00.765031     LGBMRegressor   \n",
              "2          NaN  0:00:04.678552  2512.272572  0:00:09.475708  LinearRegression   \n",
              "\n",
              "     predict_time  result_score  \n",
              "0  0:00:00.088639   1624.580537  \n",
              "1  0:00:01.066813   1548.406709  \n",
              "2  0:00:00.107004   2507.994656  "
            ]
          },
          "metadata": {
            "tags": []
          },
          "execution_count": 135
        }
      ]
    },
    {
      "cell_type": "markdown",
      "metadata": {
        "id": "Egp6MmEN_Kdh"
      },
      "source": [
        "<div style=\"background: #cceeaa; padding: 5px; border: 1px solid green; border-radius: 5px;\">\n",
        "<font color='green'><u><b>КОММЕНТАРИЙ РЕВЬЮЕРА</b></u></font><br />\n",
        "<font color='green'>\n",
        "<br/>Илья, крепкая работа<br>\n",
        "Прочитав её до конца хочется добавить: ...\"А по сему и делу конец), как говорится\" <br>\n",
        "Мне было интерено двигаться от блока к блоку, читать размышления, код и выводы.<br>\n",
        "При этом оформление выводов такое же последовательное и адекватное.<br>\n",
        "В целом, ты не забыл поисследовать данные, и достаточно разносторонне поработать с моделями.<br>\n",
        "    \n",
        "<font color='green'>\n",
        "Если говорить, что можно ещё улучшить в подобных проектах, то я бы выделили такие моменты:<br>    \n",
        "1) Для понимания, а какие в итоге факторы важны при моделировании, можно выводить их важность, использую feature_importances_, ну и график заодно. Это будет смотреться очнь здорово: результативная метрика и график важности факторов)))<br>  \n",
        "    \n",
        "2) предварительная работа с данными:<br>\n",
        "- На этом этапе нужно БОЛЬШЕ аргументации, для принимаемых решений.<br>\n",
        "- Также, можно организовать для себя некую систему работы с данными:<br>\n",
        " \n",
        "Например, алгоритм такой может:<br>\n",
        "а) анализ аномалий: количественные и категориальные переменные <br>\n",
        "б) анализ пропусков: количественные и категориальные переменные<br>\n",
        "в) проверка дубликатов<br>\n",
        "г) Анализ факторов: исходя из типа шкалы, могут применять следующие графический и аналитический анализы:<br>\n",
        "- колличественная-колличественная: аналитически методод - корреляции, графический - скатерплот.<br>\n",
        "- колличественная-номинальная: аналитически методод - проверка гипотез (стьюдент, маннауитни), графический - боксплот.<br>\n",
        "- номинальная-номинальная: аналитически методод - Хи-квадрат, графический - круговая диаграмма<br>\n",
        "    \n",
        "3) Можно попробовать провести анализ остатков. Вычислить разницу между прогноз-факт и посмотерть что и как можедель чаще всего хорошо/плохо предсказывает.<br>\n",
        "4) У нас разный возраст машин. Есть гипотеза, что для разных возрастов - своё ценообразование. Поэтому, можно попробовать ввести фактор \"тип возраста\" (ретро, суперретро, старая, новаоя... надо пдумать..) ну и попробовать новую модель (этопросто на обчуждение). А может, по каждому кластеру - вообще своя модель...<br>\n",
        "    \n",
        "    \n",
        "<font color='red'>\n",
        "Что ещё лучше сделать в этой работе:<br>\n",
        "1) Очень здорово будет, если найдёшь возможность сделать график важности факторов. Это необходимая вещь для финалной части любой модельной работы.<br>\n",
        "3) Если честно, то результаты лучше выводить в виде таблицы. Заказчику при презентации удобнее принимать решение, когда видна вся информация по моделям (метрика, время прогноза, время расчёта) в одном месте.\n",
        "<font color='green'>    \n",
        "<br>\n",
        "Спасибо) БУДУ ЖДАТЬ КОММЕНТАРИЕВ!"
      ]
    },
    {
      "cell_type": "markdown",
      "metadata": {
        "id": "BDgpAF2m_Kdh"
      },
      "source": [
        "<div style=\"background: #8aacc8; padding: 5px; border: 1px solid #0077c2; border-radius: 5px;\">\n",
        "Николай, спасибо за очень полезные и информативные коментарии, я их учер и исправил что смог)\n",
        "Начну составять для себя проектный алгоритм, и изучу  дополнительно материал про остатки."
      ]
    },
    {
      "cell_type": "markdown",
      "metadata": {
        "id": "0P4HVTki_Kdh"
      },
      "source": [
        "<div style=\"background: #cceeaa; padding: 5px; border: 1px solid green; border-radius: 5px;\">\n",
        "    <font color='green'> <b><u>КОММЕНТАРИЙ РЕВЬЮЕРА 2</u></b>\n",
        "</font>\n",
        "<font color='green'><br>Спасибо, Илья, за доработки.<br>\n",
        "Ты прав -нужен алгоритм для себя, обязательно.<br>\n",
        "Спасибо за проект) УСПЕШНОГО ДАЛЬНЕЙШЕГО ОБУЧЕНИЯ!"
      ]
    },
    {
      "cell_type": "markdown",
      "metadata": {
        "id": "aIJN_5FB_Kdh"
      },
      "source": [
        "## Чек-лист проверки"
      ]
    },
    {
      "cell_type": "markdown",
      "metadata": {
        "id": "M9m87HyZ_Kdh"
      },
      "source": [
        "Полученные данные были очищены от выбросов, удалены лишние признаки, не несущие в себе никакой значимости для целевого признака.\n",
        "После первоначальной обработки было сформированно два датасет для обучения моделей. Оба датасета сократились порядка на 40 000 событий.\n",
        "1. Датасет в котором все пропуски были заменены на \"other\", размер датасета остался не изменым после первого этапа обработки\n",
        "2. Датасет был полностью очищен от событий с пропусками, размер сократился еще порядка на 15 процентов от этапа обработки\n",
        "\n",
        "В таком виде выборки были переданы на второй этап - обучение моделей, и выбора датасета для тестирования и обучения.\n",
        "В качестве первой модели обучения была модель catboostRegressor, с ее помощью предполагалось выбрать наилучший датасет.\n",
        "После первых попыток, в выборках были перекодированы категориальные признаки, что ускорило время обучения.\n",
        "\n",
        "Для моделей lgbm, catboost для проверки использовалась тестовая выборка.\n",
        "\n",
        "Подбор параметров для моделей catboost подбирался методом gred_search на 1 итерации.  Параметр learning_rate.Не уверен что данный параметр удалось подобрать корректно на 5 итерациях. Увеличение кол-ва итераций сильно увеличивает время подбора параметров.\n",
        "\n",
        "По полученным параметрам, с небольшим отрывом от показателей модели catboost, в скорости, и  существенным в значении метрики, лучшей показала себя модель lgbm."
      ]
    },
    {
      "cell_type": "markdown",
      "metadata": {
        "id": "mlcxkY4S_Kdh"
      },
      "source": [
        "Поставьте 'x' в выполненных пунктах. Далее нажмите Shift+Enter."
      ]
    },
    {
      "cell_type": "markdown",
      "metadata": {
        "id": "PicMBAMH_Kdi"
      },
      "source": [
        "- [x]  Jupyter Notebook открыт\n",
        "- [x]  Весь код выполняется без ошибок\n",
        "- [x]  Ячейки с кодом расположены в порядке исполнения\n",
        "- [x]  Выполнена загрузка и подготовка данных\n",
        "- [x]  Выполнено обучение моделей\n",
        "- [x]  Есть анализ скорости работы и качества моделей"
      ]
    },
    {
      "cell_type": "code",
      "metadata": {
        "id": "4vwyXB6I_Kdi"
      },
      "source": [
        ""
      ],
      "execution_count": null,
      "outputs": []
    }
  ]
}