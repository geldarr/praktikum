{
  "nbformat": 4,
  "nbformat_minor": 0,
  "metadata": {
    "colab": {
      "name": "progect_busines.ipynb",
      "provenance": []
    },
    "kernelspec": {
      "display_name": "Python 3",
      "language": "python",
      "name": "python3"
    },
    "language_info": {
      "codemirror_mode": {
        "name": "ipython",
        "version": 3
      },
      "file_extension": ".py",
      "mimetype": "text/x-python",
      "name": "python",
      "nbconvert_exporter": "python",
      "pygments_lexer": "ipython3",
      "version": "3.7.8"
    },
    "toc": {
      "base_numbering": 1,
      "nav_menu": {},
      "number_sections": true,
      "sideBar": true,
      "skip_h1_title": true,
      "title_cell": "Table of Contents",
      "title_sidebar": "Contents",
      "toc_cell": false,
      "toc_position": {},
      "toc_section_display": true,
      "toc_window_display": false
    }
  },
  "cells": [
    {
      "cell_type": "markdown",
      "metadata": {
        "id": "OuOXL-2Lt6dm"
      },
      "source": [
        "# Описание проекта"
      ]
    },
    {
      "cell_type": "markdown",
      "metadata": {
        "id": "oR3btD_Ft6dp"
      },
      "source": [
        "\n",
        "Вам предоставлены пробы нефти в трёх регионах: в каждом 10 000 месторождений, где измерили качество нефти и объём её запасов. Постройте модель машинного обучения, которая поможет определить регион, где добыча принесёт наибольшую прибыль. Проанализируйте возможную прибыль и риски техникой *Bootstrap.*\n",
        "\n",
        "Шаги для выбора локации:\n",
        "\n",
        "- В избранном регионе ищут месторождения, для каждого определяют значения признаков;\n",
        "- Строят модель и оценивают объём запасов;\n",
        "- Выбирают месторождения с самым высокими оценками значений. Количество месторождений зависит от бюджета компании и стоимости разработки одной скважины;\n",
        "- Прибыль равна суммарной прибыли отобранных месторождений."
      ]
    },
    {
      "cell_type": "markdown",
      "metadata": {
        "id": "DCMgq6RGtgLH"
      },
      "source": [
        "Условия задачи:\r\n",
        "\r\n",
        "Для обучения модели подходит только линейная регрессия (остальные — недостаточно предсказуемые).\r\n",
        "\r\n",
        "При разведке региона исследуют 500 точек, из которых с помощью машинного обучения выбирают 200 лучших для разработки.\r\n",
        "\r\n",
        "Бюджет на разработку скважин в регионе — 10 млрд рублей.\r\n",
        "\r\n",
        "При нынешних ценах один баррель сырья приносит 450 рублей дохода. Доход с каждой единицы продукта составляет 450 тыс. рублей, поскольку объём указан в тысячах баррелей.\r\n",
        "\r\n",
        "После оценки рисков нужно оставить лишь те регионы, в которых вероятность убытков меньше 2.5%. Среди них выбирают регион с наибольшей средней прибылью."
      ]
    },
    {
      "cell_type": "markdown",
      "metadata": {
        "id": "5V6YJvS5sF3r"
      },
      "source": [
        "Загрузите и подготовьте данные. Поясните порядок действий.\r\n",
        "\r\n",
        "Обучите и проверьте модель для каждого региона:\r\n",
        "\r\n",
        "  2.1. Разбейте данные на обучающую и валидационную выборки в соотношении 75:25.\r\n",
        "\r\n",
        "  2.2. Обучите модель и сделайте предсказания на валидационной выборке.\r\n",
        "\r\n",
        "  2.3. Сохраните предсказания и правильные ответы на валидационной выборке.\r\n",
        "\r\n",
        "  2.4. Напечатайте на экране средний запас предсказанного сырья и RMSE модели.\r\n",
        "\r\n",
        "  2.5. Проанализируйте результаты.\r\n",
        "\r\n",
        "Подготовьтесь к расчёту прибыли:\r\n",
        "\r\n",
        "3.1. Все ключевые значения для расчётов сохраните в отдельных переменных.\r\n",
        "\r\n",
        "3.2. Рассчитайте достаточный объём сырья для безубыточной разработки новой \r\n",
        "скважины. Сравните полученный объём сырья со средним запасом в каждом регионе.\r\n",
        "\r\n",
        "3.3. Напишите выводы по этапу подготовки расчёта прибыли.\r\n",
        "\r\n",
        "Напишите функцию для расчёта прибыли по выбранным скважинам и предсказаниям модели:\r\n",
        "\r\n",
        "4.1. Выберите скважины с максимальными значениями предсказаний.\r\n",
        "\r\n",
        "4.2. Просуммируйте целевое значение объёма сырья, соответствующее этим предсказаниям.\r\n",
        "\r\n",
        "4.3. Рассчитайте прибыль для полученного объёма сырья.\r\n",
        "\r\n",
        "Посчитайте риски и прибыль для каждого региона:\r\n",
        "\r\n",
        "5.1. Примените технику Bootstrap с 1000 выборок, чтобы найти распределение прибыли.\r\n",
        "\r\n",
        "5.2. Найдите среднюю прибыль, 95%-й доверительный интервал и риск убытков. Убыток — это отрицательная прибыль.\r\n",
        "\r\n",
        "5.3. Напишите выводы: предложите регион для разработки скважин и обоснуйте выбор."
      ]
    },
    {
      "cell_type": "markdown",
      "metadata": {
        "id": "I3EMbJd8t6dr"
      },
      "source": [
        "# 1. Загрузка и подготовка данных"
      ]
    },
    {
      "cell_type": "code",
      "metadata": {
        "id": "ntz80oRYt6dr"
      },
      "source": [
        "#импортируем библиотеки\n",
        "import pandas as pd\n",
        "import numpy as np\n",
        "from sklearn.model_selection import train_test_split\n",
        "from sklearn.linear_model import LinearRegression\n",
        "from sklearn.model_selection import cross_val_score\n",
        "from sklearn.preprocessing import StandardScaler \n",
        "from sklearn.metrics import mean_squared_error\n",
        "import matplotlib.pyplot as plt \n",
        "from sklearn.metrics import r2_score"
      ],
      "execution_count": 1,
      "outputs": []
    },
    {
      "cell_type": "code",
      "metadata": {
        "colab": {
          "base_uri": "https://localhost:8080/"
        },
        "id": "agoThOiQuOte",
        "outputId": "221ea828-5480-4909-a5ed-581f76bcd10e"
      },
      "source": [
        "from google.colab import drive\n",
        "drive.mount('/content/drive')"
      ],
      "execution_count": 2,
      "outputs": [
        {
          "output_type": "stream",
          "text": [
            "Drive already mounted at /content/drive; to attempt to forcibly remount, call drive.mount(\"/content/drive\", force_remount=True).\n"
          ],
          "name": "stdout"
        }
      ]
    },
    {
      "cell_type": "code",
      "metadata": {
        "id": "k3YfecagubCL"
      },
      "source": [
        "df_geo_1 = pd.read_csv('/content/drive/MyDrive/Colab Notebooks/Shad/BP/geo_data_0.csv')\n",
        "df_geo_2 = pd.read_csv('/content/drive/MyDrive/Colab Notebooks/Shad/BP/geo_data_1.csv')\n",
        "df_geo_3 = pd.read_csv('/content/drive/MyDrive/Colab Notebooks/Shad/BP/geo_data_2.csv')"
      ],
      "execution_count": 3,
      "outputs": []
    },
    {
      "cell_type": "code",
      "metadata": {
        "colab": {
          "base_uri": "https://localhost:8080/"
        },
        "id": "Ho-6unf0Euqj",
        "outputId": "bc429f9d-2cf7-481c-e75a-c795273cd7d1"
      },
      "source": [
        "df_geo_1.info()"
      ],
      "execution_count": 4,
      "outputs": [
        {
          "output_type": "stream",
          "text": [
            "<class 'pandas.core.frame.DataFrame'>\n",
            "RangeIndex: 100000 entries, 0 to 99999\n",
            "Data columns (total 5 columns):\n",
            " #   Column   Non-Null Count   Dtype  \n",
            "---  ------   --------------   -----  \n",
            " 0   id       100000 non-null  object \n",
            " 1   f0       100000 non-null  float64\n",
            " 2   f1       100000 non-null  float64\n",
            " 3   f2       100000 non-null  float64\n",
            " 4   product  100000 non-null  float64\n",
            "dtypes: float64(4), object(1)\n",
            "memory usage: 3.8+ MB\n"
          ],
          "name": "stdout"
        }
      ]
    },
    {
      "cell_type": "code",
      "metadata": {
        "colab": {
          "base_uri": "https://localhost:8080/"
        },
        "id": "XQEiw9AvE7nV",
        "outputId": "0468a7c6-5ce8-4ec7-c53a-4e394976611e"
      },
      "source": [
        "df_geo_2.info()"
      ],
      "execution_count": 5,
      "outputs": [
        {
          "output_type": "stream",
          "text": [
            "<class 'pandas.core.frame.DataFrame'>\n",
            "RangeIndex: 100000 entries, 0 to 99999\n",
            "Data columns (total 5 columns):\n",
            " #   Column   Non-Null Count   Dtype  \n",
            "---  ------   --------------   -----  \n",
            " 0   id       100000 non-null  object \n",
            " 1   f0       100000 non-null  float64\n",
            " 2   f1       100000 non-null  float64\n",
            " 3   f2       100000 non-null  float64\n",
            " 4   product  100000 non-null  float64\n",
            "dtypes: float64(4), object(1)\n",
            "memory usage: 3.8+ MB\n"
          ],
          "name": "stdout"
        }
      ]
    },
    {
      "cell_type": "code",
      "metadata": {
        "colab": {
          "base_uri": "https://localhost:8080/"
        },
        "id": "d8by79blE8RW",
        "outputId": "d1bae218-74a9-48c9-e375-52f73455b650"
      },
      "source": [
        "df_geo_3.info()"
      ],
      "execution_count": 6,
      "outputs": [
        {
          "output_type": "stream",
          "text": [
            "<class 'pandas.core.frame.DataFrame'>\n",
            "RangeIndex: 100000 entries, 0 to 99999\n",
            "Data columns (total 5 columns):\n",
            " #   Column   Non-Null Count   Dtype  \n",
            "---  ------   --------------   -----  \n",
            " 0   id       100000 non-null  object \n",
            " 1   f0       100000 non-null  float64\n",
            " 2   f1       100000 non-null  float64\n",
            " 3   f2       100000 non-null  float64\n",
            " 4   product  100000 non-null  float64\n",
            "dtypes: float64(4), object(1)\n",
            "memory usage: 3.8+ MB\n"
          ],
          "name": "stdout"
        }
      ]
    },
    {
      "cell_type": "code",
      "metadata": {
        "colab": {
          "base_uri": "https://localhost:8080/",
          "height": 359
        },
        "id": "cKBmGJLHxTib",
        "outputId": "1729baae-c4d1-4ac4-c62f-48ca7e444fb9"
      },
      "source": [
        "df_geo_1.head(10)"
      ],
      "execution_count": 7,
      "outputs": [
        {
          "output_type": "execute_result",
          "data": {
            "text/html": [
              "<div>\n",
              "<style scoped>\n",
              "    .dataframe tbody tr th:only-of-type {\n",
              "        vertical-align: middle;\n",
              "    }\n",
              "\n",
              "    .dataframe tbody tr th {\n",
              "        vertical-align: top;\n",
              "    }\n",
              "\n",
              "    .dataframe thead th {\n",
              "        text-align: right;\n",
              "    }\n",
              "</style>\n",
              "<table border=\"1\" class=\"dataframe\">\n",
              "  <thead>\n",
              "    <tr style=\"text-align: right;\">\n",
              "      <th></th>\n",
              "      <th>id</th>\n",
              "      <th>f0</th>\n",
              "      <th>f1</th>\n",
              "      <th>f2</th>\n",
              "      <th>product</th>\n",
              "    </tr>\n",
              "  </thead>\n",
              "  <tbody>\n",
              "    <tr>\n",
              "      <th>0</th>\n",
              "      <td>txEyH</td>\n",
              "      <td>0.705745</td>\n",
              "      <td>-0.497823</td>\n",
              "      <td>1.221170</td>\n",
              "      <td>105.280062</td>\n",
              "    </tr>\n",
              "    <tr>\n",
              "      <th>1</th>\n",
              "      <td>2acmU</td>\n",
              "      <td>1.334711</td>\n",
              "      <td>-0.340164</td>\n",
              "      <td>4.365080</td>\n",
              "      <td>73.037750</td>\n",
              "    </tr>\n",
              "    <tr>\n",
              "      <th>2</th>\n",
              "      <td>409Wp</td>\n",
              "      <td>1.022732</td>\n",
              "      <td>0.151990</td>\n",
              "      <td>1.419926</td>\n",
              "      <td>85.265647</td>\n",
              "    </tr>\n",
              "    <tr>\n",
              "      <th>3</th>\n",
              "      <td>iJLyR</td>\n",
              "      <td>-0.032172</td>\n",
              "      <td>0.139033</td>\n",
              "      <td>2.978566</td>\n",
              "      <td>168.620776</td>\n",
              "    </tr>\n",
              "    <tr>\n",
              "      <th>4</th>\n",
              "      <td>Xdl7t</td>\n",
              "      <td>1.988431</td>\n",
              "      <td>0.155413</td>\n",
              "      <td>4.751769</td>\n",
              "      <td>154.036647</td>\n",
              "    </tr>\n",
              "    <tr>\n",
              "      <th>5</th>\n",
              "      <td>wX4Hy</td>\n",
              "      <td>0.969570</td>\n",
              "      <td>0.489775</td>\n",
              "      <td>-0.735383</td>\n",
              "      <td>64.741541</td>\n",
              "    </tr>\n",
              "    <tr>\n",
              "      <th>6</th>\n",
              "      <td>tL6pL</td>\n",
              "      <td>0.645075</td>\n",
              "      <td>0.530656</td>\n",
              "      <td>1.780266</td>\n",
              "      <td>49.055285</td>\n",
              "    </tr>\n",
              "    <tr>\n",
              "      <th>7</th>\n",
              "      <td>BYPU6</td>\n",
              "      <td>-0.400648</td>\n",
              "      <td>0.808337</td>\n",
              "      <td>-5.624670</td>\n",
              "      <td>72.943292</td>\n",
              "    </tr>\n",
              "    <tr>\n",
              "      <th>8</th>\n",
              "      <td>j9Oui</td>\n",
              "      <td>0.643105</td>\n",
              "      <td>-0.551583</td>\n",
              "      <td>2.372141</td>\n",
              "      <td>113.356160</td>\n",
              "    </tr>\n",
              "    <tr>\n",
              "      <th>9</th>\n",
              "      <td>OLuZU</td>\n",
              "      <td>2.173381</td>\n",
              "      <td>0.563698</td>\n",
              "      <td>9.441852</td>\n",
              "      <td>127.910945</td>\n",
              "    </tr>\n",
              "  </tbody>\n",
              "</table>\n",
              "</div>"
            ],
            "text/plain": [
              "      id        f0        f1        f2     product\n",
              "0  txEyH  0.705745 -0.497823  1.221170  105.280062\n",
              "1  2acmU  1.334711 -0.340164  4.365080   73.037750\n",
              "2  409Wp  1.022732  0.151990  1.419926   85.265647\n",
              "3  iJLyR -0.032172  0.139033  2.978566  168.620776\n",
              "4  Xdl7t  1.988431  0.155413  4.751769  154.036647\n",
              "5  wX4Hy  0.969570  0.489775 -0.735383   64.741541\n",
              "6  tL6pL  0.645075  0.530656  1.780266   49.055285\n",
              "7  BYPU6 -0.400648  0.808337 -5.624670   72.943292\n",
              "8  j9Oui  0.643105 -0.551583  2.372141  113.356160\n",
              "9  OLuZU  2.173381  0.563698  9.441852  127.910945"
            ]
          },
          "metadata": {
            "tags": []
          },
          "execution_count": 7
        }
      ]
    },
    {
      "cell_type": "code",
      "metadata": {
        "colab": {
          "base_uri": "https://localhost:8080/",
          "height": 297
        },
        "id": "5l3vD88BvXl-",
        "outputId": "49ba46af-acf2-4c50-e54b-d56a194e9f48"
      },
      "source": [
        "df_geo_1.describe()"
      ],
      "execution_count": 8,
      "outputs": [
        {
          "output_type": "execute_result",
          "data": {
            "text/html": [
              "<div>\n",
              "<style scoped>\n",
              "    .dataframe tbody tr th:only-of-type {\n",
              "        vertical-align: middle;\n",
              "    }\n",
              "\n",
              "    .dataframe tbody tr th {\n",
              "        vertical-align: top;\n",
              "    }\n",
              "\n",
              "    .dataframe thead th {\n",
              "        text-align: right;\n",
              "    }\n",
              "</style>\n",
              "<table border=\"1\" class=\"dataframe\">\n",
              "  <thead>\n",
              "    <tr style=\"text-align: right;\">\n",
              "      <th></th>\n",
              "      <th>f0</th>\n",
              "      <th>f1</th>\n",
              "      <th>f2</th>\n",
              "      <th>product</th>\n",
              "    </tr>\n",
              "  </thead>\n",
              "  <tbody>\n",
              "    <tr>\n",
              "      <th>count</th>\n",
              "      <td>100000.000000</td>\n",
              "      <td>100000.000000</td>\n",
              "      <td>100000.000000</td>\n",
              "      <td>100000.000000</td>\n",
              "    </tr>\n",
              "    <tr>\n",
              "      <th>mean</th>\n",
              "      <td>0.500419</td>\n",
              "      <td>0.250143</td>\n",
              "      <td>2.502647</td>\n",
              "      <td>92.500000</td>\n",
              "    </tr>\n",
              "    <tr>\n",
              "      <th>std</th>\n",
              "      <td>0.871832</td>\n",
              "      <td>0.504433</td>\n",
              "      <td>3.248248</td>\n",
              "      <td>44.288691</td>\n",
              "    </tr>\n",
              "    <tr>\n",
              "      <th>min</th>\n",
              "      <td>-1.408605</td>\n",
              "      <td>-0.848218</td>\n",
              "      <td>-12.088328</td>\n",
              "      <td>0.000000</td>\n",
              "    </tr>\n",
              "    <tr>\n",
              "      <th>25%</th>\n",
              "      <td>-0.072580</td>\n",
              "      <td>-0.200881</td>\n",
              "      <td>0.287748</td>\n",
              "      <td>56.497507</td>\n",
              "    </tr>\n",
              "    <tr>\n",
              "      <th>50%</th>\n",
              "      <td>0.502360</td>\n",
              "      <td>0.250252</td>\n",
              "      <td>2.515969</td>\n",
              "      <td>91.849972</td>\n",
              "    </tr>\n",
              "    <tr>\n",
              "      <th>75%</th>\n",
              "      <td>1.073581</td>\n",
              "      <td>0.700646</td>\n",
              "      <td>4.715088</td>\n",
              "      <td>128.564089</td>\n",
              "    </tr>\n",
              "    <tr>\n",
              "      <th>max</th>\n",
              "      <td>2.362331</td>\n",
              "      <td>1.343769</td>\n",
              "      <td>16.003790</td>\n",
              "      <td>185.364347</td>\n",
              "    </tr>\n",
              "  </tbody>\n",
              "</table>\n",
              "</div>"
            ],
            "text/plain": [
              "                  f0             f1             f2        product\n",
              "count  100000.000000  100000.000000  100000.000000  100000.000000\n",
              "mean        0.500419       0.250143       2.502647      92.500000\n",
              "std         0.871832       0.504433       3.248248      44.288691\n",
              "min        -1.408605      -0.848218     -12.088328       0.000000\n",
              "25%        -0.072580      -0.200881       0.287748      56.497507\n",
              "50%         0.502360       0.250252       2.515969      91.849972\n",
              "75%         1.073581       0.700646       4.715088     128.564089\n",
              "max         2.362331       1.343769      16.003790     185.364347"
            ]
          },
          "metadata": {
            "tags": []
          },
          "execution_count": 8
        }
      ]
    },
    {
      "cell_type": "code",
      "metadata": {
        "colab": {
          "base_uri": "https://localhost:8080/",
          "height": 297
        },
        "id": "kspE4jidvX4L",
        "outputId": "255f49ee-861e-4732-9594-bfcc524855f1"
      },
      "source": [
        "df_geo_2.describe()"
      ],
      "execution_count": 9,
      "outputs": [
        {
          "output_type": "execute_result",
          "data": {
            "text/html": [
              "<div>\n",
              "<style scoped>\n",
              "    .dataframe tbody tr th:only-of-type {\n",
              "        vertical-align: middle;\n",
              "    }\n",
              "\n",
              "    .dataframe tbody tr th {\n",
              "        vertical-align: top;\n",
              "    }\n",
              "\n",
              "    .dataframe thead th {\n",
              "        text-align: right;\n",
              "    }\n",
              "</style>\n",
              "<table border=\"1\" class=\"dataframe\">\n",
              "  <thead>\n",
              "    <tr style=\"text-align: right;\">\n",
              "      <th></th>\n",
              "      <th>f0</th>\n",
              "      <th>f1</th>\n",
              "      <th>f2</th>\n",
              "      <th>product</th>\n",
              "    </tr>\n",
              "  </thead>\n",
              "  <tbody>\n",
              "    <tr>\n",
              "      <th>count</th>\n",
              "      <td>100000.000000</td>\n",
              "      <td>100000.000000</td>\n",
              "      <td>100000.000000</td>\n",
              "      <td>100000.000000</td>\n",
              "    </tr>\n",
              "    <tr>\n",
              "      <th>mean</th>\n",
              "      <td>1.141296</td>\n",
              "      <td>-4.796579</td>\n",
              "      <td>2.494541</td>\n",
              "      <td>68.825000</td>\n",
              "    </tr>\n",
              "    <tr>\n",
              "      <th>std</th>\n",
              "      <td>8.965932</td>\n",
              "      <td>5.119872</td>\n",
              "      <td>1.703572</td>\n",
              "      <td>45.944423</td>\n",
              "    </tr>\n",
              "    <tr>\n",
              "      <th>min</th>\n",
              "      <td>-31.609576</td>\n",
              "      <td>-26.358598</td>\n",
              "      <td>-0.018144</td>\n",
              "      <td>0.000000</td>\n",
              "    </tr>\n",
              "    <tr>\n",
              "      <th>25%</th>\n",
              "      <td>-6.298551</td>\n",
              "      <td>-8.267985</td>\n",
              "      <td>1.000021</td>\n",
              "      <td>26.953261</td>\n",
              "    </tr>\n",
              "    <tr>\n",
              "      <th>50%</th>\n",
              "      <td>1.153055</td>\n",
              "      <td>-4.813172</td>\n",
              "      <td>2.011479</td>\n",
              "      <td>57.085625</td>\n",
              "    </tr>\n",
              "    <tr>\n",
              "      <th>75%</th>\n",
              "      <td>8.621015</td>\n",
              "      <td>-1.332816</td>\n",
              "      <td>3.999904</td>\n",
              "      <td>107.813044</td>\n",
              "    </tr>\n",
              "    <tr>\n",
              "      <th>max</th>\n",
              "      <td>29.421755</td>\n",
              "      <td>18.734063</td>\n",
              "      <td>5.019721</td>\n",
              "      <td>137.945408</td>\n",
              "    </tr>\n",
              "  </tbody>\n",
              "</table>\n",
              "</div>"
            ],
            "text/plain": [
              "                  f0             f1             f2        product\n",
              "count  100000.000000  100000.000000  100000.000000  100000.000000\n",
              "mean        1.141296      -4.796579       2.494541      68.825000\n",
              "std         8.965932       5.119872       1.703572      45.944423\n",
              "min       -31.609576     -26.358598      -0.018144       0.000000\n",
              "25%        -6.298551      -8.267985       1.000021      26.953261\n",
              "50%         1.153055      -4.813172       2.011479      57.085625\n",
              "75%         8.621015      -1.332816       3.999904     107.813044\n",
              "max        29.421755      18.734063       5.019721     137.945408"
            ]
          },
          "metadata": {
            "tags": []
          },
          "execution_count": 9
        }
      ]
    },
    {
      "cell_type": "code",
      "metadata": {
        "colab": {
          "base_uri": "https://localhost:8080/",
          "height": 297
        },
        "id": "g8SvpkOCvYF1",
        "outputId": "6e50d976-2c22-4df5-cf49-9a996d14e147"
      },
      "source": [
        "df_geo_3.describe()"
      ],
      "execution_count": 10,
      "outputs": [
        {
          "output_type": "execute_result",
          "data": {
            "text/html": [
              "<div>\n",
              "<style scoped>\n",
              "    .dataframe tbody tr th:only-of-type {\n",
              "        vertical-align: middle;\n",
              "    }\n",
              "\n",
              "    .dataframe tbody tr th {\n",
              "        vertical-align: top;\n",
              "    }\n",
              "\n",
              "    .dataframe thead th {\n",
              "        text-align: right;\n",
              "    }\n",
              "</style>\n",
              "<table border=\"1\" class=\"dataframe\">\n",
              "  <thead>\n",
              "    <tr style=\"text-align: right;\">\n",
              "      <th></th>\n",
              "      <th>f0</th>\n",
              "      <th>f1</th>\n",
              "      <th>f2</th>\n",
              "      <th>product</th>\n",
              "    </tr>\n",
              "  </thead>\n",
              "  <tbody>\n",
              "    <tr>\n",
              "      <th>count</th>\n",
              "      <td>100000.000000</td>\n",
              "      <td>100000.000000</td>\n",
              "      <td>100000.000000</td>\n",
              "      <td>100000.000000</td>\n",
              "    </tr>\n",
              "    <tr>\n",
              "      <th>mean</th>\n",
              "      <td>0.002023</td>\n",
              "      <td>-0.002081</td>\n",
              "      <td>2.495128</td>\n",
              "      <td>95.000000</td>\n",
              "    </tr>\n",
              "    <tr>\n",
              "      <th>std</th>\n",
              "      <td>1.732045</td>\n",
              "      <td>1.730417</td>\n",
              "      <td>3.473445</td>\n",
              "      <td>44.749921</td>\n",
              "    </tr>\n",
              "    <tr>\n",
              "      <th>min</th>\n",
              "      <td>-8.760004</td>\n",
              "      <td>-7.084020</td>\n",
              "      <td>-11.970335</td>\n",
              "      <td>0.000000</td>\n",
              "    </tr>\n",
              "    <tr>\n",
              "      <th>25%</th>\n",
              "      <td>-1.162288</td>\n",
              "      <td>-1.174820</td>\n",
              "      <td>0.130359</td>\n",
              "      <td>59.450441</td>\n",
              "    </tr>\n",
              "    <tr>\n",
              "      <th>50%</th>\n",
              "      <td>0.009424</td>\n",
              "      <td>-0.009482</td>\n",
              "      <td>2.484236</td>\n",
              "      <td>94.925613</td>\n",
              "    </tr>\n",
              "    <tr>\n",
              "      <th>75%</th>\n",
              "      <td>1.158535</td>\n",
              "      <td>1.163678</td>\n",
              "      <td>4.858794</td>\n",
              "      <td>130.595027</td>\n",
              "    </tr>\n",
              "    <tr>\n",
              "      <th>max</th>\n",
              "      <td>7.238262</td>\n",
              "      <td>7.844801</td>\n",
              "      <td>16.739402</td>\n",
              "      <td>190.029838</td>\n",
              "    </tr>\n",
              "  </tbody>\n",
              "</table>\n",
              "</div>"
            ],
            "text/plain": [
              "                  f0             f1             f2        product\n",
              "count  100000.000000  100000.000000  100000.000000  100000.000000\n",
              "mean        0.002023      -0.002081       2.495128      95.000000\n",
              "std         1.732045       1.730417       3.473445      44.749921\n",
              "min        -8.760004      -7.084020     -11.970335       0.000000\n",
              "25%        -1.162288      -1.174820       0.130359      59.450441\n",
              "50%         0.009424      -0.009482       2.484236      94.925613\n",
              "75%         1.158535       1.163678       4.858794     130.595027\n",
              "max         7.238262       7.844801      16.739402     190.029838"
            ]
          },
          "metadata": {
            "tags": []
          },
          "execution_count": 10
        }
      ]
    },
    {
      "cell_type": "code",
      "metadata": {
        "id": "Y3eZn4SxFk9r"
      },
      "source": [
        "# построим гистограммы признаков"
      ],
      "execution_count": 11,
      "outputs": []
    },
    {
      "cell_type": "code",
      "metadata": {
        "id": "luDsVnTENpyP"
      },
      "source": [
        "bins_count = 30"
      ],
      "execution_count": 12,
      "outputs": []
    },
    {
      "cell_type": "code",
      "metadata": {
        "colab": {
          "base_uri": "https://localhost:8080/",
          "height": 244
        },
        "id": "zM-RKQs6Kd-a",
        "outputId": "b2f23122-b087-45b1-8328-26a2ae99bc8d"
      },
      "source": [
        "fig, (ax0, ax1,ax2) = plt.subplots(nrows=1, ncols=3,figsize=(15,3))\n",
        "ax0.hist(df_geo_1['f0'],bins=bins_count)\n",
        "ax0.set_title('Region 1, f0')\n",
        "\n",
        "ax1.hist(df_geo_1['f1'],bins=bins_count)\n",
        "ax1.set_title('Region 1 , f1')\n",
        "\n",
        "ax2.hist(df_geo_1['f2'],bins=bins_count)\n",
        "ax2.set_title('Region 1, f2')"
      ],
      "execution_count": 13,
      "outputs": [
        {
          "output_type": "execute_result",
          "data": {
            "text/plain": [
              "Text(0.5, 1.0, 'Region 1, f2')"
            ]
          },
          "metadata": {
            "tags": []
          },
          "execution_count": 13
        },
        {
          "output_type": "display_data",
          "data": {
            "image/png": "[encoded data removed]",
            "text/plain": [
              "<Figure size 1080x216 with 3 Axes>"
            ]
          },
          "metadata": {
            "tags": [],
            "needs_background": "light"
          }
        }
      ]
    },
    {
      "cell_type": "code",
      "metadata": {
        "colab": {
          "base_uri": "https://localhost:8080/",
          "height": 244
        },
        "id": "MpV4ob3wFJv9",
        "outputId": "e4dbc7dc-5faa-43ea-89cc-88d9d1fe18ba"
      },
      "source": [
        "fig, (ax0, ax1,ax2) = plt.subplots(nrows=1, ncols=3,figsize=(15,3))\n",
        "ax0.hist(df_geo_2['f0'],bins=bins_count)\n",
        "ax0.set_title('Region 3, f0')\n",
        "\n",
        "ax1.hist(df_geo_2['f1'],bins=bins_count)\n",
        "ax1.set_title('Region 2 , f1')\n",
        "\n",
        "ax2.hist(df_geo_2['f2'],bins=bins_count)\n",
        "ax2.set_title('Region 2, f2')"
      ],
      "execution_count": 14,
      "outputs": [
        {
          "output_type": "execute_result",
          "data": {
            "text/plain": [
              "Text(0.5, 1.0, 'Region 2, f2')"
            ]
          },
          "metadata": {
            "tags": []
          },
          "execution_count": 14
        },
        {
          "output_type": "display_data",
          "data": {
            "image/png": "[encoded data removed]",
            "text/plain": [
              "<Figure size 1080x216 with 3 Axes>"
            ]
          },
          "metadata": {
            "tags": [],
            "needs_background": "light"
          }
        }
      ]
    },
    {
      "cell_type": "code",
      "metadata": {
        "colab": {
          "base_uri": "https://localhost:8080/",
          "height": 244
        },
        "id": "UeY3gl0qMTnj",
        "outputId": "f0e9843a-019e-4f8c-ec86-11962a5e3fd3"
      },
      "source": [
        "fig, (ax0, ax1,ax2) = plt.subplots(nrows=1, ncols=3,figsize=(15,3))\n",
        "ax0.hist(df_geo_3['f0'],bins=bins_count)\n",
        "ax0.set_title('Region 3, f0')\n",
        "ax1.hist(df_geo_3['f1'],bins=bins_count)\n",
        "ax1.set_title('Region 3 , f1')\n",
        "ax2.hist(df_geo_3['f2'],bins=bins_count)\n",
        "ax2.set_title('Region 3, f2')"
      ],
      "execution_count": 15,
      "outputs": [
        {
          "output_type": "execute_result",
          "data": {
            "text/plain": [
              "Text(0.5, 1.0, 'Region 3, f2')"
            ]
          },
          "metadata": {
            "tags": []
          },
          "execution_count": 15
        },
        {
          "output_type": "display_data",
          "data": {
            "image/png": "[encoded data removed]",
            "text/plain": [
              "<Figure size 1080x216 with 3 Axes>"
            ]
          },
          "metadata": {
            "tags": [],
            "needs_background": "light"
          }
        }
      ]
    },
    {
      "cell_type": "markdown",
      "metadata": {
        "id": "l-MWcqzCOdf6"
      },
      "source": [
        " Данные по всем районам однотипные. Пропусков нет.\n",
        "Все три набора данных полученных с каждого региона по разным признакам отличаються доуг от друга разными формами распределения.\n",
        "\n",
        "Данных полученные со второго региона по признаку f2 имеют больший разброс, и сильно отличаются по форме распределения от остальных, возможно это говорит о некой особенности данного региона.\n",
        "\n"
      ]
    },
    {
      "cell_type": "markdown",
      "metadata": {
        "id": "AlzSYFHM0ssu"
      },
      "source": [
        "<div class=\"alert alert-block alert-success\">\n",
        "<b>Успех:</b> Загрузка данных и первичный анализ сделаны верно.\n",
        "</div>"
      ]
    },
    {
      "cell_type": "markdown",
      "metadata": {
        "id": "W5EeAjF1t6ds"
      },
      "source": [
        "# 2. Обучение и проверка модели"
      ]
    },
    {
      "cell_type": "markdown",
      "metadata": {
        "id": "tH_nP81vNALP"
      },
      "source": [
        "Для начала разобьем данные каждого региона на тестовые и валидационные выборки, затем обучим для каждого региона модели на своих данных.\n",
        "\n"
      ]
    },
    {
      "cell_type": "markdown",
      "metadata": {
        "id": "2icFj0wQNCCw"
      },
      "source": [
        "# Разделим данные на выборки"
      ]
    },
    {
      "cell_type": "code",
      "metadata": {
        "id": "vkUyyj1Xt6ds"
      },
      "source": [
        "# разделим данные на обучающую и обучающую и валидационную выборки, "
      ],
      "execution_count": 16,
      "outputs": []
    },
    {
      "cell_type": "markdown",
      "metadata": {
        "id": "ZNW5_wm-2EJ5"
      },
      "source": [
        "Первый регион"
      ]
    },
    {
      "cell_type": "code",
      "metadata": {
        "id": "Xh3YvOdGGRkA"
      },
      "source": [
        "x_geo_1 = df_geo_1.drop(['id','product'],axis=1)\n",
        "y_geo_1 = df_geo_1['product']"
      ],
      "execution_count": 17,
      "outputs": []
    },
    {
      "cell_type": "code",
      "metadata": {
        "id": "wJBPJeKWKrSx"
      },
      "source": [
        "x_geo_1_train, x_geo_1_test, y_geo_1_train, y_geo_1_test = train_test_split(\n",
        "    x_geo_1, y_geo_1, test_size = 0.25, random_state = 12345)"
      ],
      "execution_count": 18,
      "outputs": []
    },
    {
      "cell_type": "code",
      "metadata": {
        "colab": {
          "base_uri": "https://localhost:8080/"
        },
        "id": "_fA0OGGjLIuE",
        "outputId": "9f89c61e-7c2b-4f27-bc72-9b837a0c8496"
      },
      "source": [
        "print (len(y_geo_1_train), len(x_geo_1_test))"
      ],
      "execution_count": 19,
      "outputs": [
        {
          "output_type": "stream",
          "text": [
            "75000 25000\n"
          ],
          "name": "stdout"
        }
      ]
    },
    {
      "cell_type": "code",
      "metadata": {
        "id": "Str_-NZILLXS"
      },
      "source": [
        ""
      ],
      "execution_count": 19,
      "outputs": []
    },
    {
      "cell_type": "markdown",
      "metadata": {
        "id": "hfDvUQoj2Hy4"
      },
      "source": [
        "Второй регион"
      ]
    },
    {
      "cell_type": "code",
      "metadata": {
        "id": "VUuqBTMaG-5s"
      },
      "source": [
        "x_geo_2 = df_geo_2.drop(['id','product'],axis=1)\n",
        "y_geo_2 = df_geo_2['product']"
      ],
      "execution_count": 20,
      "outputs": []
    },
    {
      "cell_type": "code",
      "metadata": {
        "id": "-i7gDbSYLWVs"
      },
      "source": [
        "x_geo_2_train, x_geo_2_test, y_geo_2_train, y_geo_2_test = train_test_split(\n",
        "    x_geo_2, y_geo_2, test_size = 0.25, random_state = 12345)"
      ],
      "execution_count": 21,
      "outputs": []
    },
    {
      "cell_type": "code",
      "metadata": {
        "colab": {
          "base_uri": "https://localhost:8080/"
        },
        "id": "likJU7cfgPh2",
        "outputId": "134faaae-cf57-4c56-b637-ed59391795ba"
      },
      "source": [
        "print (len(y_geo_2_train), len(x_geo_2_test))"
      ],
      "execution_count": 22,
      "outputs": [
        {
          "output_type": "stream",
          "text": [
            "75000 25000\n"
          ],
          "name": "stdout"
        }
      ]
    },
    {
      "cell_type": "markdown",
      "metadata": {
        "id": "VSCt1TJ02JaM"
      },
      "source": [
        "Третий регион"
      ]
    },
    {
      "cell_type": "code",
      "metadata": {
        "id": "ZsDw3Nb-KlXo"
      },
      "source": [
        "x_geo_3 = df_geo_3.drop(['id','product'],axis=1)\n",
        "y_geo_3 = df_geo_3['product']"
      ],
      "execution_count": 23,
      "outputs": []
    },
    {
      "cell_type": "code",
      "metadata": {
        "id": "PPVIlzgoLftN"
      },
      "source": [
        "x_geo_3_train, x_geo_3_test, y_geo_3_train, y_geo_3_test = train_test_split(\n",
        "    x_geo_3, y_geo_3, test_size = 0.25, random_state = 12345)"
      ],
      "execution_count": 24,
      "outputs": []
    },
    {
      "cell_type": "code",
      "metadata": {
        "colab": {
          "base_uri": "https://localhost:8080/"
        },
        "id": "1lwmKH8xgQ-t",
        "outputId": "2df8187e-6b2b-47e2-d6cc-814bfd65b0f3"
      },
      "source": [
        "print (len(y_geo_1_train), len(x_geo_1_test))"
      ],
      "execution_count": 25,
      "outputs": [
        {
          "output_type": "stream",
          "text": [
            "75000 25000\n"
          ],
          "name": "stdout"
        }
      ]
    },
    {
      "cell_type": "markdown",
      "metadata": {
        "id": "nN7hsCjs0ssx"
      },
      "source": [
        "<div class=\"alert alert-block alert-success\">\n",
        "<b>Успех:</b> Разбиение выполнено корректно, молодец, что проверяешь размеры выборок.\n",
        "</div>"
      ]
    },
    {
      "cell_type": "markdown",
      "metadata": {
        "id": "x9v8woMTNKyb"
      },
      "source": [
        "# Обучим модели для каждого из регионов."
      ]
    },
    {
      "cell_type": "code",
      "metadata": {
        "id": "yL4uMHsDNl8O"
      },
      "source": [
        "model_1 = LinearRegression()"
      ],
      "execution_count": 26,
      "outputs": []
    },
    {
      "cell_type": "code",
      "metadata": {
        "colab": {
          "base_uri": "https://localhost:8080/"
        },
        "id": "yevFfL33PNwb",
        "outputId": "ae7baa11-e389-4099-e24b-b353f410d723"
      },
      "source": [
        "# обучим модель \n",
        "model_1.fit(x_geo_1_train, y_geo_1_train)"
      ],
      "execution_count": 27,
      "outputs": [
        {
          "output_type": "execute_result",
          "data": {
            "text/plain": [
              "LinearRegression(copy_X=True, fit_intercept=True, n_jobs=None, normalize=False)"
            ]
          },
          "metadata": {
            "tags": []
          },
          "execution_count": 27
        }
      ]
    },
    {
      "cell_type": "code",
      "metadata": {
        "id": "NZ4eLcc_T8Ch"
      },
      "source": [
        "# сохраним результат работы моедли для первого региона\n",
        "predict_1 = pd.Series(model_1.predict(x_geo_1_test),index=x_geo_1_test.index)"
      ],
      "execution_count": 28,
      "outputs": []
    },
    {
      "cell_type": "code",
      "metadata": {
        "id": "88yrsKhBVW9T"
      },
      "source": [
        "mse_1 = mean_squared_error(y_geo_1_test, predict_1)"
      ],
      "execution_count": 29,
      "outputs": []
    },
    {
      "cell_type": "code",
      "metadata": {
        "colab": {
          "base_uri": "https://localhost:8080/"
        },
        "id": "TuG8nh6ZcHh-",
        "outputId": "0b4fe3ba-6441-484e-c285-09e3ba6050d4"
      },
      "source": [
        "print('RMSE модели  первого региона', mse_1 ** 0.5)\n",
        "print('Cреднее предсказанного запаса сырья для первого региона',predict_1.mean())"
      ],
      "execution_count": 76,
      "outputs": [
        {
          "output_type": "stream",
          "text": [
            "RMSE модели  первого региона 37.5794217150813\n",
            "Cреднее предсказанного запаса сырья для первого региона 92.59256778438008\n"
          ],
          "name": "stdout"
        }
      ]
    },
    {
      "cell_type": "code",
      "metadata": {
        "id": "32SOalSHQXy1"
      },
      "source": [
        "# Обучим модель для вторго региона "
      ],
      "execution_count": 31,
      "outputs": []
    },
    {
      "cell_type": "code",
      "metadata": {
        "id": "czKkq5mUQqen"
      },
      "source": [
        "model_r2 = LinearRegression()"
      ],
      "execution_count": 32,
      "outputs": []
    },
    {
      "cell_type": "code",
      "metadata": {
        "colab": {
          "base_uri": "https://localhost:8080/"
        },
        "id": "NLLGQ_GJQum0",
        "outputId": "e967ff5c-de41-4ffb-dda6-11173fefd854"
      },
      "source": [
        "model_r2.fit(x_geo_2_train, y_geo_2_train)"
      ],
      "execution_count": 33,
      "outputs": [
        {
          "output_type": "execute_result",
          "data": {
            "text/plain": [
              "LinearRegression(copy_X=True, fit_intercept=True, n_jobs=None, normalize=False)"
            ]
          },
          "metadata": {
            "tags": []
          },
          "execution_count": 33
        }
      ]
    },
    {
      "cell_type": "code",
      "metadata": {
        "id": "KTs6FS_TUV_z"
      },
      "source": [
        "predict_2 = pd.Series(model_r2.predict(x_geo_2_test),index=x_geo_2_test.index)"
      ],
      "execution_count": 34,
      "outputs": []
    },
    {
      "cell_type": "code",
      "metadata": {
        "id": "K4_ZyTwRUsx5"
      },
      "source": [
        "mse_2 = mean_squared_error(y_geo_2_test, predict_2)"
      ],
      "execution_count": 35,
      "outputs": []
    },
    {
      "cell_type": "code",
      "metadata": {
        "colab": {
          "base_uri": "https://localhost:8080/"
        },
        "id": "cfELr_kuUpCd",
        "outputId": "f7240522-e38b-4ab0-f9a7-69189c8d2bc0"
      },
      "source": [
        "print('RMSE модели  второго региона', mse_2 ** 0.5)\n",
        "print('Cреднее предсказанного запаса сырья для второго региона',predict_2.mean())"
      ],
      "execution_count": 77,
      "outputs": [
        {
          "output_type": "stream",
          "text": [
            "RMSE модели  второго региона 0.893099286775616\n",
            "Cреднее предсказанного запаса сырья для второго региона 68.7285468954458\n"
          ],
          "name": "stdout"
        }
      ]
    },
    {
      "cell_type": "markdown",
      "metadata": {
        "id": "lKiAxjko20sX"
      },
      "source": [
        "Показатели модели второго региона очень хорошие модель точна в своих предсказаниях."
      ]
    },
    {
      "cell_type": "code",
      "metadata": {
        "id": "tDHdVCTJVoRS"
      },
      "source": [
        "# Обучим модель обученную только на даных третьего региона\n",
        "model_3 = LinearRegression()"
      ],
      "execution_count": 37,
      "outputs": []
    },
    {
      "cell_type": "code",
      "metadata": {
        "colab": {
          "base_uri": "https://localhost:8080/"
        },
        "id": "8Ltk9ZM4VseD",
        "outputId": "28dd538f-18f3-4634-9e46-83afe4b1d8b9"
      },
      "source": [
        "model_3.fit(x_geo_3_train, y_geo_3_train)"
      ],
      "execution_count": 38,
      "outputs": [
        {
          "output_type": "execute_result",
          "data": {
            "text/plain": [
              "LinearRegression(copy_X=True, fit_intercept=True, n_jobs=None, normalize=False)"
            ]
          },
          "metadata": {
            "tags": []
          },
          "execution_count": 38
        }
      ]
    },
    {
      "cell_type": "code",
      "metadata": {
        "id": "HtExSJjIV7dp"
      },
      "source": [
        "predict_3 = pd.Series(model_3.predict(x_geo_3_test),index=x_geo_3_test.index)"
      ],
      "execution_count": 39,
      "outputs": []
    },
    {
      "cell_type": "code",
      "metadata": {
        "id": "vB8ibZ5XWB4G"
      },
      "source": [
        "mse_3 = mean_squared_error(y_geo_3_test, predict_3)"
      ],
      "execution_count": 40,
      "outputs": []
    },
    {
      "cell_type": "code",
      "metadata": {
        "colab": {
          "base_uri": "https://localhost:8080/"
        },
        "id": "O35ZOD2iWHCn",
        "outputId": "ca4daf14-e822-411d-b0ed-2fc46e99de59"
      },
      "source": [
        "print('RMSE модели терьего региона', mse_3 ** 0.5)\n",
        "print('Cреднее предсказанного запаса сырья для третьего региона',predict_3.mean())"
      ],
      "execution_count": 79,
      "outputs": [
        {
          "output_type": "stream",
          "text": [
            "RMSE модели терьего региона 40.02970873393434\n",
            "Cреднее предсказанного запаса сырья для третьего региона 94.96504596800506\n"
          ],
          "name": "stdout"
        }
      ]
    },
    {
      "cell_type": "markdown",
      "metadata": {
        "id": "FP3KK--ut6dt"
      },
      "source": [
        "# 3. Подготовка к расчёту прибыли"
      ]
    },
    {
      "cell_type": "markdown",
      "metadata": {
        "id": "Vy7NSd9PnBDJ"
      },
      "source": [
        "Условия\n",
        "\n",
        "Для разведки региона используют 500 точек и выбирают 200 лучших по результатам модели\n",
        "\n",
        "Затраты на разработку 200-т вышек 10 млрд\n",
        "\n",
        "Цена за 1 еденицу продукта 450 000 \n",
        "\n"
      ]
    },
    {
      "cell_type": "code",
      "metadata": {
        "id": "dxjm83R3t6dt"
      },
      "source": [
        "# Для разработки региона отбирают 200 вышек, стоимость затран на разработку 10 000 000 000. \n",
        "# найдем точку безубыточности \n",
        "\n",
        "# точка безубыточности\n",
        "BEP = (10000000000 / 450000) / 200\n",
        "# Цена за еденицу продукта\n",
        "PRICE = 450000\n",
        "# Кол-во вышек для разработки региона\n",
        "COUNT = 200\n",
        "# Затраты на разработку региона\n",
        "COST = 10000000000"
      ],
      "execution_count": 42,
      "outputs": []
    },
    {
      "cell_type": "markdown",
      "metadata": {
        "id": "QBqIdzCJ940-"
      },
      "source": [
        "Минимальное кол-во сырья  на одну вышку в регионе, для его безубыточной разработки 111,11 тыс едениц продукта\n"
      ]
    },
    {
      "cell_type": "code",
      "metadata": {
        "id": "qXjskqmD-moV"
      },
      "source": [
        "# оценим среднее кол-во едениц продукта на одну вышку"
      ],
      "execution_count": 43,
      "outputs": []
    },
    {
      "cell_type": "code",
      "metadata": {
        "colab": {
          "base_uri": "https://localhost:8080/"
        },
        "id": "5PFAsVHs9woK",
        "outputId": "cb739422-692e-40b3-a2cc-b775f464747d"
      },
      "source": [
        "y_geo_1.mean()"
      ],
      "execution_count": 44,
      "outputs": [
        {
          "output_type": "execute_result",
          "data": {
            "text/plain": [
              "92.49999999999976"
            ]
          },
          "metadata": {
            "tags": []
          },
          "execution_count": 44
        }
      ]
    },
    {
      "cell_type": "code",
      "metadata": {
        "colab": {
          "base_uri": "https://localhost:8080/"
        },
        "id": "o6F6coDU-YLj",
        "outputId": "3806c707-d41d-4c3f-8c21-73ec1405984f"
      },
      "source": [
        "y_geo_2.mean()"
      ],
      "execution_count": 45,
      "outputs": [
        {
          "output_type": "execute_result",
          "data": {
            "text/plain": [
              "68.82500000002561"
            ]
          },
          "metadata": {
            "tags": []
          },
          "execution_count": 45
        }
      ]
    },
    {
      "cell_type": "code",
      "metadata": {
        "colab": {
          "base_uri": "https://localhost:8080/"
        },
        "id": "m-q5uk_5-aIA",
        "outputId": "44468d12-1d65-4380-90ec-bea5512e74f1"
      },
      "source": [
        "y_geo_3.mean()"
      ],
      "execution_count": 46,
      "outputs": [
        {
          "output_type": "execute_result",
          "data": {
            "text/plain": [
              "95.00000000000041"
            ]
          },
          "metadata": {
            "tags": []
          },
          "execution_count": 46
        }
      ]
    },
    {
      "cell_type": "markdown",
      "metadata": {
        "id": "adin22YmAP4K"
      },
      "source": [
        "Средний показатель модели и фактический очень близки. Но очень низок по сравнению с данными по точке безубыточности."
      ]
    },
    {
      "cell_type": "markdown",
      "metadata": {
        "id": "5PvG-GMQt6du"
      },
      "source": [
        "# 4. Расчёт прибыли и рисков "
      ]
    },
    {
      "cell_type": "code",
      "metadata": {
        "id": "M7NOnADYt6du"
      },
      "source": [
        "# функция расчета прибыли "
      ],
      "execution_count": 47,
      "outputs": []
    },
    {
      "cell_type": "code",
      "metadata": {
        "id": "WYSm8SFiYu1b"
      },
      "source": [
        "def revenue(valid_data, predicted_data,count):\n",
        "  top_predicted = predicted_data.sort_values(ascending=False)\n",
        "  selected = valid_data[top_predicted.index][:COUNT]\n",
        "  return selected.sum() * PRICE - COST"
      ],
      "execution_count": 48,
      "outputs": []
    },
    {
      "cell_type": "code",
      "metadata": {
        "id": "PGaUrrbgamKn"
      },
      "source": [
        "# определим прибыль с каждого региона основываясь на прогнозах модлей"
      ],
      "execution_count": 49,
      "outputs": []
    },
    {
      "cell_type": "code",
      "metadata": {
        "id": "5ShBMIYeVh8Y"
      },
      "source": [
        "def check_risk(y_test, predict):\n",
        "\n",
        "  state = np.random.RandomState(12345)\n",
        "  values = []\n",
        "  for i in range(1000):\n",
        "    geo_subsamle = y_test.sample(n=500, replace=True, random_state=state)\n",
        "    \n",
        "    predict_subsample = predict.loc[geo_subsamle.index] \n",
        "    values.append(revenue(geo_subsamle,predict_subsample,COUNT))\n",
        "\n",
        "  values = pd.Series(values)\n",
        "  return values"
      ],
      "execution_count": 50,
      "outputs": []
    },
    {
      "cell_type": "markdown",
      "metadata": {
        "id": "Kbqh2-MprZRl"
      },
      "source": [
        "Результирующая таблица"
      ]
    },
    {
      "cell_type": "code",
      "metadata": {
        "id": "W9_BBACSTlOb"
      },
      "source": [
        "result = pd.DataFrame(columns=['region', 'profit_mean', \r\n",
        "                               'probability_loss', \r\n",
        "                               'profit_min', \r\n",
        "                               '95%_interval_profit_min',\r\n",
        "                               '95%_interval_profit_max'])"
      ],
      "execution_count": 51,
      "outputs": []
    },
    {
      "cell_type": "code",
      "metadata": {
        "colab": {
          "base_uri": "https://localhost:8080/",
          "height": 49
        },
        "id": "0KG37mdZUz-3",
        "outputId": "413c6d33-79d5-4ac5-a221-4301e6e97db1"
      },
      "source": [
        "result"
      ],
      "execution_count": 52,
      "outputs": [
        {
          "output_type": "execute_result",
          "data": {
            "text/html": [
              "<div>\n",
              "<style scoped>\n",
              "    .dataframe tbody tr th:only-of-type {\n",
              "        vertical-align: middle;\n",
              "    }\n",
              "\n",
              "    .dataframe tbody tr th {\n",
              "        vertical-align: top;\n",
              "    }\n",
              "\n",
              "    .dataframe thead th {\n",
              "        text-align: right;\n",
              "    }\n",
              "</style>\n",
              "<table border=\"1\" class=\"dataframe\">\n",
              "  <thead>\n",
              "    <tr style=\"text-align: right;\">\n",
              "      <th></th>\n",
              "      <th>region</th>\n",
              "      <th>profit_mean</th>\n",
              "      <th>probability_loss</th>\n",
              "      <th>profit_min</th>\n",
              "      <th>95%_interval_profit_min</th>\n",
              "      <th>95%_interval_profit_max</th>\n",
              "    </tr>\n",
              "  </thead>\n",
              "  <tbody>\n",
              "  </tbody>\n",
              "</table>\n",
              "</div>"
            ],
            "text/plain": [
              "Empty DataFrame\n",
              "Columns: [region, profit_mean, probability_loss, profit_min, 95%_interval_profit_min, 95%_interval_profit_max]\n",
              "Index: []"
            ]
          },
          "metadata": {
            "tags": []
          },
          "execution_count": 52
        }
      ]
    },
    {
      "cell_type": "code",
      "metadata": {
        "id": "Opj70lfoXyuL"
      },
      "source": [
        "# функция для оформления финальных результатов\r\n",
        "def result_fromat(array_result,region,array_values):\r\n",
        "  profit_mean = \"{:,.2f}\".format(array_values.mean())\r\n",
        "  probability_loss = \"{:,.2f}\".format((array_values < 0).mean())\r\n",
        "  profit_min = \"{:,.2f}\".format(array_values.quantile(0.025))\r\n",
        "  interval_profit_min = profit_min\r\n",
        "  interval_profit_max = \"{:,.2f}\".format(array_values.quantile(0.975))\r\n",
        "  \r\n",
        "  array_result.loc[len(array_result), :] = ([region,profit_mean, probability_loss, profit_min, interval_profit_min, interval_profit_max])\r\n",
        "  return array_result"
      ],
      "execution_count": 71,
      "outputs": []
    },
    {
      "cell_type": "markdown",
      "metadata": {
        "id": "YydkO-kkZtzN"
      },
      "source": [
        ""
      ]
    },
    {
      "cell_type": "markdown",
      "metadata": {
        "id": "tiYmHKDcTen3"
      },
      "source": [
        "## Первый регион"
      ]
    },
    {
      "cell_type": "code",
      "metadata": {
        "id": "XpEHPBrMlKD9"
      },
      "source": [
        "value_1 = check_risk(y_geo_1_test, predict_1)"
      ],
      "execution_count": 54,
      "outputs": []
    },
    {
      "cell_type": "code",
      "metadata": {
        "colab": {
          "base_uri": "https://localhost:8080/",
          "height": 295
        },
        "id": "-xQrELAnlXAE",
        "outputId": "bb2a9047-31fd-42bc-b49d-b69bae0e7f4a"
      },
      "source": [
        "value_1.hist(bins=40)"
      ],
      "execution_count": 75,
      "outputs": [
        {
          "output_type": "execute_result",
          "data": {
            "text/plain": [
              "<matplotlib.axes._subplots.AxesSubplot at 0x7fa568d0ddd0>"
            ]
          },
          "metadata": {
            "tags": []
          },
          "execution_count": 75
        },
        {
          "output_type": "display_data",
          "data": {
            "image/png": "[encoded data removed]",
            "text/plain": [
              "<Figure size 432x288 with 1 Axes>"
            ]
          },
          "metadata": {
            "tags": [],
            "needs_background": "light"
          }
        }
      ]
    },
    {
      "cell_type": "markdown",
      "metadata": {
        "id": "wQr26UfT6ILy"
      },
      "source": [
        "## Первый регион"
      ]
    },
    {
      "cell_type": "code",
      "metadata": {
        "colab": {
          "base_uri": "https://localhost:8080/",
          "height": 80
        },
        "id": "ttIMYZC1bVYH",
        "outputId": "39561e70-b9d1-40ea-a677-f354a225622d"
      },
      "source": [
        "result_fromat(result, 1 , value_1)"
      ],
      "execution_count": 56,
      "outputs": [
        {
          "output_type": "execute_result",
          "data": {
            "text/html": [
              "<div>\n",
              "<style scoped>\n",
              "    .dataframe tbody tr th:only-of-type {\n",
              "        vertical-align: middle;\n",
              "    }\n",
              "\n",
              "    .dataframe tbody tr th {\n",
              "        vertical-align: top;\n",
              "    }\n",
              "\n",
              "    .dataframe thead th {\n",
              "        text-align: right;\n",
              "    }\n",
              "</style>\n",
              "<table border=\"1\" class=\"dataframe\">\n",
              "  <thead>\n",
              "    <tr style=\"text-align: right;\">\n",
              "      <th></th>\n",
              "      <th>region</th>\n",
              "      <th>profit_mean</th>\n",
              "      <th>probability_loss</th>\n",
              "      <th>profit_min</th>\n",
              "      <th>95%_interval_profit_min</th>\n",
              "      <th>95%_interval_profit_max</th>\n",
              "    </tr>\n",
              "  </thead>\n",
              "  <tbody>\n",
              "    <tr>\n",
              "      <th>0</th>\n",
              "      <td>1</td>\n",
              "      <td>425,938,526.91</td>\n",
              "      <td>0.06</td>\n",
              "      <td>-102,090,094.84</td>\n",
              "      <td>-102,090,094.84</td>\n",
              "      <td>947,976,353.36</td>\n",
              "    </tr>\n",
              "  </tbody>\n",
              "</table>\n",
              "</div>"
            ],
            "text/plain": [
              "  region     profit_mean  ... 95%_interval_profit_min 95%_interval_profit_max\n",
              "0      1  425,938,526.91  ...         -102,090,094.84          947,976,353.36\n",
              "\n",
              "[1 rows x 6 columns]"
            ]
          },
          "metadata": {
            "tags": []
          },
          "execution_count": 56
        }
      ]
    },
    {
      "cell_type": "markdown",
      "metadata": {
        "id": "foBBwFGg6EV9"
      },
      "source": [
        "## Второй регион"
      ]
    },
    {
      "cell_type": "code",
      "metadata": {
        "id": "pTzoc1uEcEkB"
      },
      "source": [
        "value_2 = check_risk(y_geo_2_test, predict_2)"
      ],
      "execution_count": 58,
      "outputs": []
    },
    {
      "cell_type": "code",
      "metadata": {
        "colab": {
          "base_uri": "https://localhost:8080/",
          "height": 295
        },
        "id": "TD_Q21XZm_If",
        "outputId": "a40f5461-6e46-41cb-bea9-d50ce6de71ad"
      },
      "source": [
        "value_2.hist(bins=40)"
      ],
      "execution_count": 74,
      "outputs": [
        {
          "output_type": "execute_result",
          "data": {
            "text/plain": [
              "<matplotlib.axes._subplots.AxesSubplot at 0x7fa568f38cd0>"
            ]
          },
          "metadata": {
            "tags": []
          },
          "execution_count": 74
        },
        {
          "output_type": "display_data",
          "data": {
            "image/png": "[encoded data removed]",
            "text/plain": [
              "<Figure size 432x288 with 1 Axes>"
            ]
          },
          "metadata": {
            "tags": [],
            "needs_background": "light"
          }
        }
      ]
    },
    {
      "cell_type": "markdown",
      "metadata": {
        "id": "bjY59woJ5_xi"
      },
      "source": [
        "## Третий Регион"
      ]
    },
    {
      "cell_type": "code",
      "metadata": {
        "colab": {
          "base_uri": "https://localhost:8080/",
          "height": 111
        },
        "id": "x7Bqat6ynROE",
        "outputId": "278a4a4c-161c-42d7-94c1-657af20f53a5"
      },
      "source": [
        "result_fromat(result, 2 , value_2)"
      ],
      "execution_count": 60,
      "outputs": [
        {
          "output_type": "execute_result",
          "data": {
            "text/html": [
              "<div>\n",
              "<style scoped>\n",
              "    .dataframe tbody tr th:only-of-type {\n",
              "        vertical-align: middle;\n",
              "    }\n",
              "\n",
              "    .dataframe tbody tr th {\n",
              "        vertical-align: top;\n",
              "    }\n",
              "\n",
              "    .dataframe thead th {\n",
              "        text-align: right;\n",
              "    }\n",
              "</style>\n",
              "<table border=\"1\" class=\"dataframe\">\n",
              "  <thead>\n",
              "    <tr style=\"text-align: right;\">\n",
              "      <th></th>\n",
              "      <th>region</th>\n",
              "      <th>profit_mean</th>\n",
              "      <th>probability_loss</th>\n",
              "      <th>profit_min</th>\n",
              "      <th>95%_interval_profit_min</th>\n",
              "      <th>95%_interval_profit_max</th>\n",
              "    </tr>\n",
              "  </thead>\n",
              "  <tbody>\n",
              "    <tr>\n",
              "      <th>0</th>\n",
              "      <td>1</td>\n",
              "      <td>425,938,526.91</td>\n",
              "      <td>0.06</td>\n",
              "      <td>-102,090,094.84</td>\n",
              "      <td>-102,090,094.84</td>\n",
              "      <td>947,976,353.36</td>\n",
              "    </tr>\n",
              "    <tr>\n",
              "      <th>1</th>\n",
              "      <td>2</td>\n",
              "      <td>515,222,773.44</td>\n",
              "      <td>0.01</td>\n",
              "      <td>68,873,225.37</td>\n",
              "      <td>68,873,225.37</td>\n",
              "      <td>931,547,591.26</td>\n",
              "    </tr>\n",
              "  </tbody>\n",
              "</table>\n",
              "</div>"
            ],
            "text/plain": [
              "  region     profit_mean  ... 95%_interval_profit_min 95%_interval_profit_max\n",
              "0      1  425,938,526.91  ...         -102,090,094.84          947,976,353.36\n",
              "1      2  515,222,773.44  ...           68,873,225.37          931,547,591.26\n",
              "\n",
              "[2 rows x 6 columns]"
            ]
          },
          "metadata": {
            "tags": []
          },
          "execution_count": 60
        }
      ]
    },
    {
      "cell_type": "code",
      "metadata": {
        "id": "yDbBgpPZnNi2"
      },
      "source": [
        "value_3 = check_risk(y_geo_3_test, predict_3)"
      ],
      "execution_count": 62,
      "outputs": []
    },
    {
      "cell_type": "code",
      "metadata": {
        "colab": {
          "base_uri": "https://localhost:8080/",
          "height": 295
        },
        "id": "9ihzEVgjnx6C",
        "outputId": "0ae8478e-f4c0-49a0-fd42-d805dbd6f6e7"
      },
      "source": [
        "value_3.hist(bins=40)"
      ],
      "execution_count": 73,
      "outputs": [
        {
          "output_type": "execute_result",
          "data": {
            "text/plain": [
              "<matplotlib.axes._subplots.AxesSubplot at 0x7fa568f70310>"
            ]
          },
          "metadata": {
            "tags": []
          },
          "execution_count": 73
        },
        {
          "output_type": "display_data",
          "data": {
            "image/png": "[encoded data removed]",
            "text/plain": [
              "<Figure size 432x288 with 1 Axes>"
            ]
          },
          "metadata": {
            "tags": [],
            "needs_background": "light"
          }
        }
      ]
    },
    {
      "cell_type": "code",
      "metadata": {
        "colab": {
          "base_uri": "https://localhost:8080/",
          "height": 142
        },
        "id": "WN2T2G7WosWb",
        "outputId": "a38077c8-fdc2-4ec7-e640-307bf359a9ce"
      },
      "source": [
        "result_fromat(result, 3 , value_3)"
      ],
      "execution_count": 64,
      "outputs": [
        {
          "output_type": "execute_result",
          "data": {
            "text/html": [
              "<div>\n",
              "<style scoped>\n",
              "    .dataframe tbody tr th:only-of-type {\n",
              "        vertical-align: middle;\n",
              "    }\n",
              "\n",
              "    .dataframe tbody tr th {\n",
              "        vertical-align: top;\n",
              "    }\n",
              "\n",
              "    .dataframe thead th {\n",
              "        text-align: right;\n",
              "    }\n",
              "</style>\n",
              "<table border=\"1\" class=\"dataframe\">\n",
              "  <thead>\n",
              "    <tr style=\"text-align: right;\">\n",
              "      <th></th>\n",
              "      <th>region</th>\n",
              "      <th>profit_mean</th>\n",
              "      <th>probability_loss</th>\n",
              "      <th>profit_min</th>\n",
              "      <th>95%_interval_profit_min</th>\n",
              "      <th>95%_interval_profit_max</th>\n",
              "    </tr>\n",
              "  </thead>\n",
              "  <tbody>\n",
              "    <tr>\n",
              "      <th>0</th>\n",
              "      <td>1</td>\n",
              "      <td>425,938,526.91</td>\n",
              "      <td>0.06</td>\n",
              "      <td>-102,090,094.84</td>\n",
              "      <td>-102,090,094.84</td>\n",
              "      <td>947,976,353.36</td>\n",
              "    </tr>\n",
              "    <tr>\n",
              "      <th>1</th>\n",
              "      <td>2</td>\n",
              "      <td>515,222,773.44</td>\n",
              "      <td>0.01</td>\n",
              "      <td>68,873,225.37</td>\n",
              "      <td>68,873,225.37</td>\n",
              "      <td>931,547,591.26</td>\n",
              "    </tr>\n",
              "    <tr>\n",
              "      <th>2</th>\n",
              "      <td>3</td>\n",
              "      <td>435,008,362.78</td>\n",
              "      <td>0.06</td>\n",
              "      <td>-128,880,547.33</td>\n",
              "      <td>-128,880,547.33</td>\n",
              "      <td>969,706,954.18</td>\n",
              "    </tr>\n",
              "  </tbody>\n",
              "</table>\n",
              "</div>"
            ],
            "text/plain": [
              "  region     profit_mean  ... 95%_interval_profit_min 95%_interval_profit_max\n",
              "0      1  425,938,526.91  ...         -102,090,094.84          947,976,353.36\n",
              "1      2  515,222,773.44  ...           68,873,225.37          931,547,591.26\n",
              "2      3  435,008,362.78  ...         -128,880,547.33          969,706,954.18\n",
              "\n",
              "[3 rows x 6 columns]"
            ]
          },
          "metadata": {
            "tags": []
          },
          "execution_count": 64
        }
      ]
    },
    {
      "cell_type": "markdown",
      "metadata": {
        "id": "hNo7_2hJ5QKc"
      },
      "source": [
        "# Итог\n",
        "Для решения задачи были построены индивидуальные модели для каждого из регионов, основываясь на предположении о сильном отличии регионов друг от друга\n",
        "\n",
        "Под условия поставленной задачи для дальнейшей разработки  только второй регион.\n",
        "\n",
        "\n",
        "Риски получить убыток по данному региону наименьшие среди всех изученных. И полностью соответсвуют условию задачи.\n",
        "\n",
        "Вероятнее всего данный регион хорош из-за своей скрытой для нас особенности, которая нам видна только на гисторамме. Среди всех остальных регионов его три показателя имеют различные распределения, данных.\n",
        "\n",
        "Так же модель на этих данных дала самый точные предсказания.\n",
        "\n",
        "\n",
        "\n",
        "\n",
        "\n"
      ]
    },
    {
      "cell_type": "code",
      "metadata": {
        "id": "XQzp8CCsN4lH"
      },
      "source": [
        ""
      ],
      "execution_count": 65,
      "outputs": []
    }
  ]
}