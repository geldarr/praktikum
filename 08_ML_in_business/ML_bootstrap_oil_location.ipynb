{
 "cells": [
  {
   "cell_type": "markdown",
   "metadata": {},
   "source": [
    "Привет, меня зовут Люман Аблаев. Сегодня я проверю твой проект.\n",
    "<br> Дальнейшее общение будет происходить на \"ты\" если это не вызывает никаких проблем.\n",
    "<br> Желательно реагировать на каждый мой комментарий ('исправил', 'не понятно как исправить ошибку', ...)\n",
    "<br> Пожалуйста, не удаляй комментарии ревьюера, так как они повышают качество повторного ревью.\n",
    "\n",
    "Комментарии будут в <font color='green'>зеленой</font>, <font color='blue'>синей</font> или <font color='red'>красной</font> рамках:\n",
    "\n",
    "<div class=\"alert alert-block alert-success\">\n",
    "<b>Успех:</b> Если все сделано отлично\n",
    "</div>\n",
    "\n",
    "<div class=\"alert alert-block alert-info\">\n",
    "<b>Совет: </b> Если можно немного улучшить\n",
    "</div>\n",
    "\n",
    "<div class=\"alert alert-block alert-danger\">\n",
    "<b>Ошибка:</b> Если требуются исправления. Работа не может быть принята с красными комментариями.\n",
    "</div>\n",
    "\n",
    "### <font color='orange'>Общее впечатление</font>\n",
    "* Спасибо, что прислал такую отличную работу!\n",
    "* Отлично, что bootstrap был корректно использован.\n",
    "* Я оставил небольшие, но полезные советы. Обрати на них внимание.\n",
    "* Я нашел небольшую неточность в твоей работе постарайся это поправить. Я думаю у тебя легко это получится!\n",
    "* Жду твою дополненную работу! (Выводы могут обновиться)\n"
   ]
  },
  {
   "cell_type": "markdown",
   "metadata": {},
   "source": [
    "*Привет, Люман.\n",
    "Большое спасибо за хороший отзыв и твои комментарии.\n",
    "Ошибки исправил, работу улучшил)*\n"
   ]
  },
  {
   "cell_type": "markdown",
   "metadata": {},
   "source": [
    "### <font color='orange'>Общее впечатление</font>\n",
    "* Спасибо за оперативные правки своей работы!\n",
    "* Радует, что ты реагируешь на мои комментарии.\n",
    "* Ты правильно определил регион.\n",
    "* Каждый шаг теперь выглядит законченным и верно выполненным.\n",
    "* Я принимаю твою работу и желаю удачи в дальнейшем обучении.\n",
    "* Продолжай в том же духе!\n"
   ]
  },
  {
   "cell_type": "markdown",
   "metadata": {
    "id": "OuOXL-2Lt6dm"
   },
   "source": [
    "# Описание проекта"
   ]
  },
  {
   "cell_type": "markdown",
   "metadata": {
    "id": "oR3btD_Ft6dp"
   },
   "source": [
    "Допустим, вы работаете в добывающей компании «ГлавРосГосНефть». Нужно решить, где бурить новую скважину.\n",
    "\n",
    "Вам предоставлены пробы нефти в трёх регионах: в каждом 10 000 месторождений, где измерили качество нефти и объём её запасов. Постройте модель машинного обучения, которая поможет определить регион, где добыча принесёт наибольшую прибыль. Проанализируйте возможную прибыль и риски техникой *Bootstrap.*\n",
    "\n",
    "Шаги для выбора локации:\n",
    "\n",
    "- В избранном регионе ищут месторождения, для каждого определяют значения признаков;\n",
    "- Строят модель и оценивают объём запасов;\n",
    "- Выбирают месторождения с самым высокими оценками значений. Количество месторождений зависит от бюджета компании и стоимости разработки одной скважины;\n",
    "- Прибыль равна суммарной прибыли отобранных месторождений."
   ]
  },
  {
   "cell_type": "markdown",
   "metadata": {},
   "source": [
    "<div class=\"alert alert-block alert-success\">\n",
    "<b>Успех:</b> Спасибо за подробное описание проекта!\n",
    "</div>"
   ]
  },
  {
   "cell_type": "markdown",
   "metadata": {
    "id": "I3EMbJd8t6dr"
   },
   "source": [
    "# 1. Загрузка и подготовка данных"
   ]
  },
  {
   "cell_type": "code",
   "execution_count": 1,
   "metadata": {
    "id": "ntz80oRYt6dr"
   },
   "outputs": [],
   "source": [
    "#импортируем библиотеки\n",
    "import pandas as pd\n",
    "import numpy as np\n",
    "from sklearn.model_selection import train_test_split\n",
    "from sklearn.linear_model import LinearRegression\n",
    "from sklearn.model_selection import cross_val_score\n",
    "from sklearn.preprocessing import StandardScaler \n",
    "from sklearn.metrics import mean_squared_error\n",
    "import matplotlib.pyplot as plt \n",
    "from sklearn.metrics import r2_score"
   ]
  },
  {
   "cell_type": "code",
   "execution_count": null,
   "metadata": {
    "id": "54qzghX7uMEs"
   },
   "outputs": [],
   "source": []
  },
  {
   "cell_type": "code",
   "execution_count": 2,
   "metadata": {
    "colab": {
     "base_uri": "https://localhost:8080/"
    },
    "id": "agoThOiQuOte",
    "outputId": "53ea00f2-32b3-4493-ae26-7784b88898cb"
   },
   "outputs": [],
   "source": [
    "#from google.colab import drive\n",
    "#drive.mount('/content/drive')"
   ]
  },
  {
   "cell_type": "code",
   "execution_count": 3,
   "metadata": {
    "id": "k3YfecagubCL"
   },
   "outputs": [],
   "source": [
    "#df_geo_1 = pd.read_csv('/content/drive/MyDrive/Colab Notebooks/Shad/geo_data_0.csv')\n",
    "#df_geo_2 = pd.read_csv('/content/drive/MyDrive/Colab Notebooks/Shad/geo_data_1.csv')\n",
    "#df_geo_3 = pd.read_csv('/content/drive/MyDrive/Colab Notebooks/Shad/geo_data_2.csv')"
   ]
  },
  {
   "cell_type": "code",
   "execution_count": 4,
   "metadata": {},
   "outputs": [],
   "source": [
    "df_geo_1 = pd.read_csv('/datasets/geo_data_0.csv')\n",
    "df_geo_2 = pd.read_csv('/datasets/geo_data_1.csv')\n",
    "df_geo_3 = pd.read_csv('/datasets/geo_data_2.csv')"
   ]
  },
  {
   "cell_type": "code",
   "execution_count": 5,
   "metadata": {
    "colab": {
     "base_uri": "https://localhost:8080/"
    },
    "id": "Ho-6unf0Euqj",
    "outputId": "79fe4c96-3751-4516-8dde-28d326af105e"
   },
   "outputs": [
    {
     "name": "stdout",
     "output_type": "stream",
     "text": [
      "<class 'pandas.core.frame.DataFrame'>\n",
      "RangeIndex: 100000 entries, 0 to 99999\n",
      "Data columns (total 5 columns):\n",
      "id         100000 non-null object\n",
      "f0         100000 non-null float64\n",
      "f1         100000 non-null float64\n",
      "f2         100000 non-null float64\n",
      "product    100000 non-null float64\n",
      "dtypes: float64(4), object(1)\n",
      "memory usage: 3.8+ MB\n"
     ]
    }
   ],
   "source": [
    "df_geo_1.info()"
   ]
  },
  {
   "cell_type": "code",
   "execution_count": 6,
   "metadata": {
    "colab": {
     "base_uri": "https://localhost:8080/"
    },
    "id": "XQEiw9AvE7nV",
    "outputId": "f9fdacf6-0882-46d9-fdae-082eabce3830"
   },
   "outputs": [
    {
     "name": "stdout",
     "output_type": "stream",
     "text": [
      "<class 'pandas.core.frame.DataFrame'>\n",
      "RangeIndex: 100000 entries, 0 to 99999\n",
      "Data columns (total 5 columns):\n",
      "id         100000 non-null object\n",
      "f0         100000 non-null float64\n",
      "f1         100000 non-null float64\n",
      "f2         100000 non-null float64\n",
      "product    100000 non-null float64\n",
      "dtypes: float64(4), object(1)\n",
      "memory usage: 3.8+ MB\n"
     ]
    }
   ],
   "source": [
    "df_geo_2.info()"
   ]
  },
  {
   "cell_type": "code",
   "execution_count": 7,
   "metadata": {
    "colab": {
     "base_uri": "https://localhost:8080/"
    },
    "id": "d8by79blE8RW",
    "outputId": "e886f025-46ec-4b99-bdc5-b38559982f32"
   },
   "outputs": [
    {
     "name": "stdout",
     "output_type": "stream",
     "text": [
      "<class 'pandas.core.frame.DataFrame'>\n",
      "RangeIndex: 100000 entries, 0 to 99999\n",
      "Data columns (total 5 columns):\n",
      "id         100000 non-null object\n",
      "f0         100000 non-null float64\n",
      "f1         100000 non-null float64\n",
      "f2         100000 non-null float64\n",
      "product    100000 non-null float64\n",
      "dtypes: float64(4), object(1)\n",
      "memory usage: 3.8+ MB\n"
     ]
    }
   ],
   "source": [
    "df_geo_3.info()"
   ]
  },
  {
   "cell_type": "code",
   "execution_count": 8,
   "metadata": {
    "colab": {
     "base_uri": "https://localhost:8080/",
     "height": 359
    },
    "id": "cKBmGJLHxTib",
    "outputId": "876df8c9-4b8b-4d23-c7b6-28f65ebeb2ad"
   },
   "outputs": [
    {
     "data": {
      "text/html": [
       "<div>\n",
       "<style scoped>\n",
       "    .dataframe tbody tr th:only-of-type {\n",
       "        vertical-align: middle;\n",
       "    }\n",
       "\n",
       "    .dataframe tbody tr th {\n",
       "        vertical-align: top;\n",
       "    }\n",
       "\n",
       "    .dataframe thead th {\n",
       "        text-align: right;\n",
       "    }\n",
       "</style>\n",
       "<table border=\"1\" class=\"dataframe\">\n",
       "  <thead>\n",
       "    <tr style=\"text-align: right;\">\n",
       "      <th></th>\n",
       "      <th>id</th>\n",
       "      <th>f0</th>\n",
       "      <th>f1</th>\n",
       "      <th>f2</th>\n",
       "      <th>product</th>\n",
       "    </tr>\n",
       "  </thead>\n",
       "  <tbody>\n",
       "    <tr>\n",
       "      <td>0</td>\n",
       "      <td>txEyH</td>\n",
       "      <td>0.705745</td>\n",
       "      <td>-0.497823</td>\n",
       "      <td>1.221170</td>\n",
       "      <td>105.280062</td>\n",
       "    </tr>\n",
       "    <tr>\n",
       "      <td>1</td>\n",
       "      <td>2acmU</td>\n",
       "      <td>1.334711</td>\n",
       "      <td>-0.340164</td>\n",
       "      <td>4.365080</td>\n",
       "      <td>73.037750</td>\n",
       "    </tr>\n",
       "    <tr>\n",
       "      <td>2</td>\n",
       "      <td>409Wp</td>\n",
       "      <td>1.022732</td>\n",
       "      <td>0.151990</td>\n",
       "      <td>1.419926</td>\n",
       "      <td>85.265647</td>\n",
       "    </tr>\n",
       "    <tr>\n",
       "      <td>3</td>\n",
       "      <td>iJLyR</td>\n",
       "      <td>-0.032172</td>\n",
       "      <td>0.139033</td>\n",
       "      <td>2.978566</td>\n",
       "      <td>168.620776</td>\n",
       "    </tr>\n",
       "    <tr>\n",
       "      <td>4</td>\n",
       "      <td>Xdl7t</td>\n",
       "      <td>1.988431</td>\n",
       "      <td>0.155413</td>\n",
       "      <td>4.751769</td>\n",
       "      <td>154.036647</td>\n",
       "    </tr>\n",
       "    <tr>\n",
       "      <td>5</td>\n",
       "      <td>wX4Hy</td>\n",
       "      <td>0.969570</td>\n",
       "      <td>0.489775</td>\n",
       "      <td>-0.735383</td>\n",
       "      <td>64.741541</td>\n",
       "    </tr>\n",
       "    <tr>\n",
       "      <td>6</td>\n",
       "      <td>tL6pL</td>\n",
       "      <td>0.645075</td>\n",
       "      <td>0.530656</td>\n",
       "      <td>1.780266</td>\n",
       "      <td>49.055285</td>\n",
       "    </tr>\n",
       "    <tr>\n",
       "      <td>7</td>\n",
       "      <td>BYPU6</td>\n",
       "      <td>-0.400648</td>\n",
       "      <td>0.808337</td>\n",
       "      <td>-5.624670</td>\n",
       "      <td>72.943292</td>\n",
       "    </tr>\n",
       "    <tr>\n",
       "      <td>8</td>\n",
       "      <td>j9Oui</td>\n",
       "      <td>0.643105</td>\n",
       "      <td>-0.551583</td>\n",
       "      <td>2.372141</td>\n",
       "      <td>113.356160</td>\n",
       "    </tr>\n",
       "    <tr>\n",
       "      <td>9</td>\n",
       "      <td>OLuZU</td>\n",
       "      <td>2.173381</td>\n",
       "      <td>0.563698</td>\n",
       "      <td>9.441852</td>\n",
       "      <td>127.910945</td>\n",
       "    </tr>\n",
       "  </tbody>\n",
       "</table>\n",
       "</div>"
      ],
      "text/plain": [
       "      id        f0        f1        f2     product\n",
       "0  txEyH  0.705745 -0.497823  1.221170  105.280062\n",
       "1  2acmU  1.334711 -0.340164  4.365080   73.037750\n",
       "2  409Wp  1.022732  0.151990  1.419926   85.265647\n",
       "3  iJLyR -0.032172  0.139033  2.978566  168.620776\n",
       "4  Xdl7t  1.988431  0.155413  4.751769  154.036647\n",
       "5  wX4Hy  0.969570  0.489775 -0.735383   64.741541\n",
       "6  tL6pL  0.645075  0.530656  1.780266   49.055285\n",
       "7  BYPU6 -0.400648  0.808337 -5.624670   72.943292\n",
       "8  j9Oui  0.643105 -0.551583  2.372141  113.356160\n",
       "9  OLuZU  2.173381  0.563698  9.441852  127.910945"
      ]
     },
     "execution_count": 8,
     "metadata": {},
     "output_type": "execute_result"
    }
   ],
   "source": [
    "df_geo_1.head(10)"
   ]
  },
  {
   "cell_type": "code",
   "execution_count": 9,
   "metadata": {
    "colab": {
     "base_uri": "https://localhost:8080/",
     "height": 297
    },
    "id": "5l3vD88BvXl-",
    "outputId": "508d19ef-e42e-4c1a-b298-e0dd9288f31e"
   },
   "outputs": [
    {
     "data": {
      "text/html": [
       "<div>\n",
       "<style scoped>\n",
       "    .dataframe tbody tr th:only-of-type {\n",
       "        vertical-align: middle;\n",
       "    }\n",
       "\n",
       "    .dataframe tbody tr th {\n",
       "        vertical-align: top;\n",
       "    }\n",
       "\n",
       "    .dataframe thead th {\n",
       "        text-align: right;\n",
       "    }\n",
       "</style>\n",
       "<table border=\"1\" class=\"dataframe\">\n",
       "  <thead>\n",
       "    <tr style=\"text-align: right;\">\n",
       "      <th></th>\n",
       "      <th>f0</th>\n",
       "      <th>f1</th>\n",
       "      <th>f2</th>\n",
       "      <th>product</th>\n",
       "    </tr>\n",
       "  </thead>\n",
       "  <tbody>\n",
       "    <tr>\n",
       "      <td>count</td>\n",
       "      <td>100000.000000</td>\n",
       "      <td>100000.000000</td>\n",
       "      <td>100000.000000</td>\n",
       "      <td>100000.000000</td>\n",
       "    </tr>\n",
       "    <tr>\n",
       "      <td>mean</td>\n",
       "      <td>0.500419</td>\n",
       "      <td>0.250143</td>\n",
       "      <td>2.502647</td>\n",
       "      <td>92.500000</td>\n",
       "    </tr>\n",
       "    <tr>\n",
       "      <td>std</td>\n",
       "      <td>0.871832</td>\n",
       "      <td>0.504433</td>\n",
       "      <td>3.248248</td>\n",
       "      <td>44.288691</td>\n",
       "    </tr>\n",
       "    <tr>\n",
       "      <td>min</td>\n",
       "      <td>-1.408605</td>\n",
       "      <td>-0.848218</td>\n",
       "      <td>-12.088328</td>\n",
       "      <td>0.000000</td>\n",
       "    </tr>\n",
       "    <tr>\n",
       "      <td>25%</td>\n",
       "      <td>-0.072580</td>\n",
       "      <td>-0.200881</td>\n",
       "      <td>0.287748</td>\n",
       "      <td>56.497507</td>\n",
       "    </tr>\n",
       "    <tr>\n",
       "      <td>50%</td>\n",
       "      <td>0.502360</td>\n",
       "      <td>0.250252</td>\n",
       "      <td>2.515969</td>\n",
       "      <td>91.849972</td>\n",
       "    </tr>\n",
       "    <tr>\n",
       "      <td>75%</td>\n",
       "      <td>1.073581</td>\n",
       "      <td>0.700646</td>\n",
       "      <td>4.715088</td>\n",
       "      <td>128.564089</td>\n",
       "    </tr>\n",
       "    <tr>\n",
       "      <td>max</td>\n",
       "      <td>2.362331</td>\n",
       "      <td>1.343769</td>\n",
       "      <td>16.003790</td>\n",
       "      <td>185.364347</td>\n",
       "    </tr>\n",
       "  </tbody>\n",
       "</table>\n",
       "</div>"
      ],
      "text/plain": [
       "                  f0             f1             f2        product\n",
       "count  100000.000000  100000.000000  100000.000000  100000.000000\n",
       "mean        0.500419       0.250143       2.502647      92.500000\n",
       "std         0.871832       0.504433       3.248248      44.288691\n",
       "min        -1.408605      -0.848218     -12.088328       0.000000\n",
       "25%        -0.072580      -0.200881       0.287748      56.497507\n",
       "50%         0.502360       0.250252       2.515969      91.849972\n",
       "75%         1.073581       0.700646       4.715088     128.564089\n",
       "max         2.362331       1.343769      16.003790     185.364347"
      ]
     },
     "execution_count": 9,
     "metadata": {},
     "output_type": "execute_result"
    }
   ],
   "source": [
    "df_geo_1.describe()"
   ]
  },
  {
   "cell_type": "code",
   "execution_count": 10,
   "metadata": {
    "colab": {
     "base_uri": "https://localhost:8080/",
     "height": 297
    },
    "id": "kspE4jidvX4L",
    "outputId": "dda59af0-bbf2-4d2f-802e-b5498b4b5da3"
   },
   "outputs": [
    {
     "data": {
      "text/html": [
       "<div>\n",
       "<style scoped>\n",
       "    .dataframe tbody tr th:only-of-type {\n",
       "        vertical-align: middle;\n",
       "    }\n",
       "\n",
       "    .dataframe tbody tr th {\n",
       "        vertical-align: top;\n",
       "    }\n",
       "\n",
       "    .dataframe thead th {\n",
       "        text-align: right;\n",
       "    }\n",
       "</style>\n",
       "<table border=\"1\" class=\"dataframe\">\n",
       "  <thead>\n",
       "    <tr style=\"text-align: right;\">\n",
       "      <th></th>\n",
       "      <th>f0</th>\n",
       "      <th>f1</th>\n",
       "      <th>f2</th>\n",
       "      <th>product</th>\n",
       "    </tr>\n",
       "  </thead>\n",
       "  <tbody>\n",
       "    <tr>\n",
       "      <td>count</td>\n",
       "      <td>100000.000000</td>\n",
       "      <td>100000.000000</td>\n",
       "      <td>100000.000000</td>\n",
       "      <td>100000.000000</td>\n",
       "    </tr>\n",
       "    <tr>\n",
       "      <td>mean</td>\n",
       "      <td>1.141296</td>\n",
       "      <td>-4.796579</td>\n",
       "      <td>2.494541</td>\n",
       "      <td>68.825000</td>\n",
       "    </tr>\n",
       "    <tr>\n",
       "      <td>std</td>\n",
       "      <td>8.965932</td>\n",
       "      <td>5.119872</td>\n",
       "      <td>1.703572</td>\n",
       "      <td>45.944423</td>\n",
       "    </tr>\n",
       "    <tr>\n",
       "      <td>min</td>\n",
       "      <td>-31.609576</td>\n",
       "      <td>-26.358598</td>\n",
       "      <td>-0.018144</td>\n",
       "      <td>0.000000</td>\n",
       "    </tr>\n",
       "    <tr>\n",
       "      <td>25%</td>\n",
       "      <td>-6.298551</td>\n",
       "      <td>-8.267985</td>\n",
       "      <td>1.000021</td>\n",
       "      <td>26.953261</td>\n",
       "    </tr>\n",
       "    <tr>\n",
       "      <td>50%</td>\n",
       "      <td>1.153055</td>\n",
       "      <td>-4.813172</td>\n",
       "      <td>2.011479</td>\n",
       "      <td>57.085625</td>\n",
       "    </tr>\n",
       "    <tr>\n",
       "      <td>75%</td>\n",
       "      <td>8.621015</td>\n",
       "      <td>-1.332816</td>\n",
       "      <td>3.999904</td>\n",
       "      <td>107.813044</td>\n",
       "    </tr>\n",
       "    <tr>\n",
       "      <td>max</td>\n",
       "      <td>29.421755</td>\n",
       "      <td>18.734063</td>\n",
       "      <td>5.019721</td>\n",
       "      <td>137.945408</td>\n",
       "    </tr>\n",
       "  </tbody>\n",
       "</table>\n",
       "</div>"
      ],
      "text/plain": [
       "                  f0             f1             f2        product\n",
       "count  100000.000000  100000.000000  100000.000000  100000.000000\n",
       "mean        1.141296      -4.796579       2.494541      68.825000\n",
       "std         8.965932       5.119872       1.703572      45.944423\n",
       "min       -31.609576     -26.358598      -0.018144       0.000000\n",
       "25%        -6.298551      -8.267985       1.000021      26.953261\n",
       "50%         1.153055      -4.813172       2.011479      57.085625\n",
       "75%         8.621015      -1.332816       3.999904     107.813044\n",
       "max        29.421755      18.734063       5.019721     137.945408"
      ]
     },
     "execution_count": 10,
     "metadata": {},
     "output_type": "execute_result"
    }
   ],
   "source": [
    "df_geo_2.describe()"
   ]
  },
  {
   "cell_type": "code",
   "execution_count": 11,
   "metadata": {
    "colab": {
     "base_uri": "https://localhost:8080/",
     "height": 297
    },
    "id": "g8SvpkOCvYF1",
    "outputId": "4057b921-473c-4551-b318-06380046db43"
   },
   "outputs": [
    {
     "data": {
      "text/html": [
       "<div>\n",
       "<style scoped>\n",
       "    .dataframe tbody tr th:only-of-type {\n",
       "        vertical-align: middle;\n",
       "    }\n",
       "\n",
       "    .dataframe tbody tr th {\n",
       "        vertical-align: top;\n",
       "    }\n",
       "\n",
       "    .dataframe thead th {\n",
       "        text-align: right;\n",
       "    }\n",
       "</style>\n",
       "<table border=\"1\" class=\"dataframe\">\n",
       "  <thead>\n",
       "    <tr style=\"text-align: right;\">\n",
       "      <th></th>\n",
       "      <th>f0</th>\n",
       "      <th>f1</th>\n",
       "      <th>f2</th>\n",
       "      <th>product</th>\n",
       "    </tr>\n",
       "  </thead>\n",
       "  <tbody>\n",
       "    <tr>\n",
       "      <td>count</td>\n",
       "      <td>100000.000000</td>\n",
       "      <td>100000.000000</td>\n",
       "      <td>100000.000000</td>\n",
       "      <td>100000.000000</td>\n",
       "    </tr>\n",
       "    <tr>\n",
       "      <td>mean</td>\n",
       "      <td>0.002023</td>\n",
       "      <td>-0.002081</td>\n",
       "      <td>2.495128</td>\n",
       "      <td>95.000000</td>\n",
       "    </tr>\n",
       "    <tr>\n",
       "      <td>std</td>\n",
       "      <td>1.732045</td>\n",
       "      <td>1.730417</td>\n",
       "      <td>3.473445</td>\n",
       "      <td>44.749921</td>\n",
       "    </tr>\n",
       "    <tr>\n",
       "      <td>min</td>\n",
       "      <td>-8.760004</td>\n",
       "      <td>-7.084020</td>\n",
       "      <td>-11.970335</td>\n",
       "      <td>0.000000</td>\n",
       "    </tr>\n",
       "    <tr>\n",
       "      <td>25%</td>\n",
       "      <td>-1.162288</td>\n",
       "      <td>-1.174820</td>\n",
       "      <td>0.130359</td>\n",
       "      <td>59.450441</td>\n",
       "    </tr>\n",
       "    <tr>\n",
       "      <td>50%</td>\n",
       "      <td>0.009424</td>\n",
       "      <td>-0.009482</td>\n",
       "      <td>2.484236</td>\n",
       "      <td>94.925613</td>\n",
       "    </tr>\n",
       "    <tr>\n",
       "      <td>75%</td>\n",
       "      <td>1.158535</td>\n",
       "      <td>1.163678</td>\n",
       "      <td>4.858794</td>\n",
       "      <td>130.595027</td>\n",
       "    </tr>\n",
       "    <tr>\n",
       "      <td>max</td>\n",
       "      <td>7.238262</td>\n",
       "      <td>7.844801</td>\n",
       "      <td>16.739402</td>\n",
       "      <td>190.029838</td>\n",
       "    </tr>\n",
       "  </tbody>\n",
       "</table>\n",
       "</div>"
      ],
      "text/plain": [
       "                  f0             f1             f2        product\n",
       "count  100000.000000  100000.000000  100000.000000  100000.000000\n",
       "mean        0.002023      -0.002081       2.495128      95.000000\n",
       "std         1.732045       1.730417       3.473445      44.749921\n",
       "min        -8.760004      -7.084020     -11.970335       0.000000\n",
       "25%        -1.162288      -1.174820       0.130359      59.450441\n",
       "50%         0.009424      -0.009482       2.484236      94.925613\n",
       "75%         1.158535       1.163678       4.858794     130.595027\n",
       "max         7.238262       7.844801      16.739402     190.029838"
      ]
     },
     "execution_count": 11,
     "metadata": {},
     "output_type": "execute_result"
    }
   ],
   "source": [
    "df_geo_3.describe()"
   ]
  },
  {
   "cell_type": "code",
   "execution_count": 12,
   "metadata": {
    "id": "Y3eZn4SxFk9r"
   },
   "outputs": [],
   "source": [
    "# построим гистограммы признаков"
   ]
  },
  {
   "cell_type": "code",
   "execution_count": 13,
   "metadata": {
    "id": "luDsVnTENpyP"
   },
   "outputs": [],
   "source": [
    "bins_count = 30"
   ]
  },
  {
   "cell_type": "code",
   "execution_count": 14,
   "metadata": {
    "colab": {
     "base_uri": "https://localhost:8080/",
     "height": 244
    },
    "id": "zM-RKQs6Kd-a",
    "outputId": "b892e513-9399-4007-f24a-b56e88c32a8c"
   },
   "outputs": [
    {
     "data": {
      "text/plain": [
       "Text(0.5, 1.0, 'Region 1, f2')"
      ]
     },
     "execution_count": 14,
     "metadata": {},
     "output_type": "execute_result"
    },
    {
     "data": {
      "image/png": "[encoded data removed]",
      "text/plain": [
       "<Figure size 1080x216 with 3 Axes>"
      ]
     },
     "metadata": {
      "needs_background": "light"
     },
     "output_type": "display_data"
    }
   ],
   "source": [
    "fig, (ax0, ax1,ax2) = plt.subplots(nrows=1, ncols=3,figsize=(15,3))\n",
    "ax0.hist(df_geo_1['f0'],bins=bins_count)\n",
    "ax0.set_title('Region 1, f0')\n",
    "\n",
    "ax1.hist(df_geo_1['f1'],bins=bins_count)\n",
    "ax1.set_title('Region 1 , f1')\n",
    "\n",
    "ax2.hist(df_geo_1['f2'],bins=bins_count)\n",
    "ax2.set_title('Region 1, f2')"
   ]
  },
  {
   "cell_type": "code",
   "execution_count": 15,
   "metadata": {
    "colab": {
     "base_uri": "https://localhost:8080/",
     "height": 244
    },
    "id": "MpV4ob3wFJv9",
    "outputId": "2799fb07-b6cb-40ea-947e-090927080bb7"
   },
   "outputs": [
    {
     "data": {
      "text/plain": [
       "Text(0.5, 1.0, 'Region 2, f2')"
      ]
     },
     "execution_count": 15,
     "metadata": {},
     "output_type": "execute_result"
    },
    {
     "data": {
      "image/png": "[encoded data removed]",
      "text/plain": [
       "<Figure size 1080x216 with 3 Axes>"
      ]
     },
     "metadata": {
      "needs_background": "light"
     },
     "output_type": "display_data"
    }
   ],
   "source": [
    "fig, (ax0, ax1,ax2) = plt.subplots(nrows=1, ncols=3,figsize=(15,3))\n",
    "ax0.hist(df_geo_2['f0'],bins=bins_count)\n",
    "ax0.set_title('Region 3, f0')\n",
    "\n",
    "ax1.hist(df_geo_2['f1'],bins=bins_count)\n",
    "ax1.set_title('Region 2 , f1')\n",
    "\n",
    "ax2.hist(df_geo_2['f2'],bins=bins_count)\n",
    "ax2.set_title('Region 2, f2')"
   ]
  },
  {
   "cell_type": "code",
   "execution_count": 16,
   "metadata": {
    "colab": {
     "base_uri": "https://localhost:8080/",
     "height": 244
    },
    "id": "UeY3gl0qMTnj",
    "outputId": "d01ae348-6c25-4a8e-c7d7-cf9ace811ad3"
   },
   "outputs": [
    {
     "data": {
      "text/plain": [
       "Text(0.5, 1.0, 'Region 3, f2')"
      ]
     },
     "execution_count": 16,
     "metadata": {},
     "output_type": "execute_result"
    },
    {
     "data": {
      "image/png": "[encoded data removed]",
      "text/plain": [
       "<Figure size 1080x216 with 3 Axes>"
      ]
     },
     "metadata": {
      "needs_background": "light"
     },
     "output_type": "display_data"
    }
   ],
   "source": [
    "fig, (ax0, ax1,ax2) = plt.subplots(nrows=1, ncols=3,figsize=(15,3))\n",
    "ax0.hist(df_geo_3['f0'],bins=bins_count)\n",
    "ax0.set_title('Region 3, f0')\n",
    "ax1.hist(df_geo_3['f1'],bins=bins_count)\n",
    "ax1.set_title('Region 3 , f1')\n",
    "ax2.hist(df_geo_3['f2'],bins=bins_count)\n",
    "ax2.set_title('Region 3, f2')"
   ]
  },
  {
   "cell_type": "code",
   "execution_count": null,
   "metadata": {
    "id": "LiyrNZDzEoGu"
   },
   "outputs": [],
   "source": []
  },
  {
   "cell_type": "markdown",
   "metadata": {
    "id": "l-MWcqzCOdf6"
   },
   "source": [
    " Данные по всем районам однотипные. Пропусков нет.\n",
    "Все три набора данных полученных с каждого региона по разным признакам отличаються доуг от друга разными формами распределения.\n",
    "\n",
    "Данных полученные со второго региона по признаку f2 имеют больший разброс, и сильно отличаются по форме распределения от остальных, возможно это говорит о некой особенности данного региона.\n",
    "\n"
   ]
  },
  {
   "cell_type": "markdown",
   "metadata": {},
   "source": [
    "<div class=\"alert alert-block alert-success\">\n",
    "<b>Успех:</b> Загрузка данных и первичный анализ сделаны верно.\n",
    "</div>"
   ]
  },
  {
   "cell_type": "markdown",
   "metadata": {
    "id": "W5EeAjF1t6ds"
   },
   "source": [
    "# 2. Обучение и проверка модели"
   ]
  },
  {
   "cell_type": "markdown",
   "metadata": {
    "id": "tH_nP81vNALP"
   },
   "source": [
    "Для начала разобьем данные каждого региона на тестовые и валидационные выборки, затем обучим для каждого региона модели на своих данных.\n",
    "\n"
   ]
  },
  {
   "cell_type": "markdown",
   "metadata": {
    "id": "2icFj0wQNCCw"
   },
   "source": [
    "# Разделим данные на выборки"
   ]
  },
  {
   "cell_type": "code",
   "execution_count": 17,
   "metadata": {
    "id": "vkUyyj1Xt6ds"
   },
   "outputs": [],
   "source": [
    "# разделим данные на обучающую и обучающую и валидационную выборки, "
   ]
  },
  {
   "cell_type": "code",
   "execution_count": 18,
   "metadata": {
    "id": "Xh3YvOdGGRkA"
   },
   "outputs": [],
   "source": [
    "x_geo_1 = df_geo_1.drop(['id','product'],axis=1)\n",
    "y_geo_1 = df_geo_1['product']"
   ]
  },
  {
   "cell_type": "code",
   "execution_count": 19,
   "metadata": {
    "id": "wJBPJeKWKrSx"
   },
   "outputs": [],
   "source": [
    "x_geo_1_train, x_geo_1_test, y_geo_1_train, y_geo_1_test = train_test_split(\n",
    "    x_geo_1, y_geo_1, test_size = 0.25, random_state = 12345)"
   ]
  },
  {
   "cell_type": "code",
   "execution_count": 20,
   "metadata": {
    "colab": {
     "base_uri": "https://localhost:8080/"
    },
    "id": "_fA0OGGjLIuE",
    "outputId": "779506db-57fb-4627-9ad4-d3bd8a0548e3"
   },
   "outputs": [
    {
     "name": "stdout",
     "output_type": "stream",
     "text": [
      "75000 25000\n"
     ]
    }
   ],
   "source": [
    "print (len(y_geo_1_train), len(x_geo_1_test))"
   ]
  },
  {
   "cell_type": "code",
   "execution_count": null,
   "metadata": {
    "id": "Str_-NZILLXS"
   },
   "outputs": [],
   "source": []
  },
  {
   "cell_type": "code",
   "execution_count": 21,
   "metadata": {
    "id": "VUuqBTMaG-5s"
   },
   "outputs": [],
   "source": [
    "x_geo_2 = df_geo_2.drop(['id','product'],axis=1)\n",
    "y_geo_2 = df_geo_2['product']"
   ]
  },
  {
   "cell_type": "code",
   "execution_count": 22,
   "metadata": {
    "id": "-i7gDbSYLWVs"
   },
   "outputs": [],
   "source": [
    "x_geo_2_train, x_geo_2_test, y_geo_2_train, y_geo_2_test = train_test_split(\n",
    "    x_geo_2, y_geo_2, test_size = 0.25, random_state = 12345)"
   ]
  },
  {
   "cell_type": "code",
   "execution_count": 23,
   "metadata": {
    "colab": {
     "base_uri": "https://localhost:8080/"
    },
    "id": "likJU7cfgPh2",
    "outputId": "170842e8-a08b-420e-c38d-dec1c3fa2167"
   },
   "outputs": [
    {
     "name": "stdout",
     "output_type": "stream",
     "text": [
      "75000 25000\n"
     ]
    }
   ],
   "source": [
    "print (len(y_geo_2_train), len(x_geo_2_test))"
   ]
  },
  {
   "cell_type": "code",
   "execution_count": 24,
   "metadata": {
    "id": "ZsDw3Nb-KlXo"
   },
   "outputs": [],
   "source": [
    "x_geo_3 = df_geo_3.drop(['id','product'],axis=1)\n",
    "y_geo_3 = df_geo_3['product']"
   ]
  },
  {
   "cell_type": "code",
   "execution_count": 25,
   "metadata": {
    "id": "PPVIlzgoLftN"
   },
   "outputs": [],
   "source": [
    "x_geo_3_train, x_geo_3_test, y_geo_3_train, y_geo_3_test = train_test_split(\n",
    "    x_geo_3, y_geo_3, test_size = 0.25, random_state = 12345)"
   ]
  },
  {
   "cell_type": "code",
   "execution_count": 26,
   "metadata": {
    "colab": {
     "base_uri": "https://localhost:8080/"
    },
    "id": "1lwmKH8xgQ-t",
    "outputId": "b748e523-a2c7-497c-f119-2d07c9807c0d"
   },
   "outputs": [
    {
     "name": "stdout",
     "output_type": "stream",
     "text": [
      "75000 25000\n"
     ]
    }
   ],
   "source": [
    "print (len(y_geo_1_train), len(x_geo_1_test))"
   ]
  },
  {
   "cell_type": "markdown",
   "metadata": {},
   "source": [
    "<div class=\"alert alert-block alert-success\">\n",
    "<b>Успех:</b> Разбиение выполнено корректно, молодец, что проверяешь размеры выборок.\n",
    "</div>"
   ]
  },
  {
   "cell_type": "markdown",
   "metadata": {
    "id": "x9v8woMTNKyb"
   },
   "source": [
    "# Обучим модели для каждого из регионов и получим предсказания."
   ]
  },
  {
   "cell_type": "code",
   "execution_count": 27,
   "metadata": {
    "id": "yL4uMHsDNl8O"
   },
   "outputs": [],
   "source": [
    "model_1 = LinearRegression()"
   ]
  },
  {
   "cell_type": "code",
   "execution_count": 28,
   "metadata": {
    "colab": {
     "base_uri": "https://localhost:8080/"
    },
    "id": "yevFfL33PNwb",
    "outputId": "84115d7b-d97b-4a1a-d57e-f847fae9818c"
   },
   "outputs": [
    {
     "data": {
      "text/plain": [
       "LinearRegression(copy_X=True, fit_intercept=True, n_jobs=None, normalize=False)"
      ]
     },
     "execution_count": 28,
     "metadata": {},
     "output_type": "execute_result"
    }
   ],
   "source": [
    "# обучим модель \n",
    "model_1.fit(x_geo_1_train, y_geo_1_train)"
   ]
  },
  {
   "cell_type": "code",
   "execution_count": 29,
   "metadata": {
    "id": "NZ4eLcc_T8Ch"
   },
   "outputs": [],
   "source": [
    "# сохраним результат работы моедли для первого региона\n",
    "predict_1 = pd.Series(model_1.predict(x_geo_1_test),index=x_geo_1_test.index)"
   ]
  },
  {
   "cell_type": "code",
   "execution_count": 30,
   "metadata": {
    "id": "88yrsKhBVW9T"
   },
   "outputs": [],
   "source": [
    "mse_1 = mean_squared_error(y_geo_1_test, predict_1)"
   ]
  },
  {
   "cell_type": "code",
   "execution_count": 31,
   "metadata": {
    "colab": {
     "base_uri": "https://localhost:8080/"
    },
    "id": "TuG8nh6ZcHh-",
    "outputId": "c15b448e-1d90-43e9-84d7-9e10cd975b5a"
   },
   "outputs": [
    {
     "name": "stdout",
     "output_type": "stream",
     "text": [
      "RMSE модели по обьедененным данным первого региона 37.5794217150813\n",
      "Cреднее предсказанного запаса сырья для первого региона 92.59256778438038\n"
     ]
    }
   ],
   "source": [
    "print('RMSE модели по обьедененным данным первого региона', mse_1 ** 0.5)\n",
    "print('Cреднее предсказанного запаса сырья для первого региона',predict_1.mean())"
   ]
  },
  {
   "cell_type": "code",
   "execution_count": 32,
   "metadata": {
    "id": "32SOalSHQXy1"
   },
   "outputs": [],
   "source": [
    "# Обучим модель для вторго региона "
   ]
  },
  {
   "cell_type": "code",
   "execution_count": 33,
   "metadata": {
    "id": "czKkq5mUQqen"
   },
   "outputs": [],
   "source": [
    "model_r2 = LinearRegression()"
   ]
  },
  {
   "cell_type": "code",
   "execution_count": 34,
   "metadata": {
    "colab": {
     "base_uri": "https://localhost:8080/"
    },
    "id": "NLLGQ_GJQum0",
    "outputId": "ce802cee-04cd-436a-fc99-a52825195a58"
   },
   "outputs": [
    {
     "data": {
      "text/plain": [
       "LinearRegression(copy_X=True, fit_intercept=True, n_jobs=None, normalize=False)"
      ]
     },
     "execution_count": 34,
     "metadata": {},
     "output_type": "execute_result"
    }
   ],
   "source": [
    "model_r2.fit(x_geo_2_train, y_geo_2_train)"
   ]
  },
  {
   "cell_type": "code",
   "execution_count": 35,
   "metadata": {
    "id": "KTs6FS_TUV_z"
   },
   "outputs": [],
   "source": [
    "predict_2 = pd.Series(model_r2.predict(x_geo_2_test),index=x_geo_2_test.index)"
   ]
  },
  {
   "cell_type": "code",
   "execution_count": 36,
   "metadata": {
    "id": "K4_ZyTwRUsx5"
   },
   "outputs": [],
   "source": [
    "mse_2 = mean_squared_error(y_geo_2_test, predict_2)"
   ]
  },
  {
   "cell_type": "code",
   "execution_count": 37,
   "metadata": {
    "colab": {
     "base_uri": "https://localhost:8080/"
    },
    "id": "cfELr_kuUpCd",
    "outputId": "46c2db77-f91c-4e12-d2d0-0a43b9bcf5bb"
   },
   "outputs": [
    {
     "name": "stdout",
     "output_type": "stream",
     "text": [
      "RMSE модели по обьедененным данным терьего региона 0.893099286775616\n",
      "Cреднее предсказанного запаса сырья для первого региона 68.728546895446\n"
     ]
    }
   ],
   "source": [
    "print('RMSE модели по обьедененным данным терьего региона', mse_2 ** 0.5)\n",
    "print('Cреднее предсказанного запаса сырья для первого региона',predict_2.mean())"
   ]
  },
  {
   "cell_type": "markdown",
   "metadata": {
    "id": "lKiAxjko20sX"
   },
   "source": [
    "Показатели модели второго региона очень хорошие модель точна в своих предсказаниях."
   ]
  },
  {
   "cell_type": "code",
   "execution_count": 38,
   "metadata": {
    "id": "tDHdVCTJVoRS"
   },
   "outputs": [],
   "source": [
    "# Обучим модель обученную только на даных первого региона\n",
    "model_3 = LinearRegression()"
   ]
  },
  {
   "cell_type": "code",
   "execution_count": 39,
   "metadata": {
    "colab": {
     "base_uri": "https://localhost:8080/"
    },
    "id": "8Ltk9ZM4VseD",
    "outputId": "0a3f3e31-012b-4ff7-f891-75cb979596fd"
   },
   "outputs": [
    {
     "data": {
      "text/plain": [
       "LinearRegression(copy_X=True, fit_intercept=True, n_jobs=None, normalize=False)"
      ]
     },
     "execution_count": 39,
     "metadata": {},
     "output_type": "execute_result"
    }
   ],
   "source": [
    "model_3.fit(x_geo_3_train, y_geo_3_train)"
   ]
  },
  {
   "cell_type": "code",
   "execution_count": 40,
   "metadata": {
    "id": "HtExSJjIV7dp"
   },
   "outputs": [],
   "source": [
    "predict_3 = pd.Series(model_3.predict(x_geo_3_test),index=x_geo_3_test.index)"
   ]
  },
  {
   "cell_type": "code",
   "execution_count": 41,
   "metadata": {
    "id": "vB8ibZ5XWB4G"
   },
   "outputs": [],
   "source": [
    "mse_3 = mean_squared_error(y_geo_3_test, predict_3)"
   ]
  },
  {
   "cell_type": "code",
   "execution_count": 42,
   "metadata": {
    "colab": {
     "base_uri": "https://localhost:8080/"
    },
    "id": "O35ZOD2iWHCn",
    "outputId": "4bbda1f7-27b0-4fd6-88e8-081de20feba9"
   },
   "outputs": [
    {
     "name": "stdout",
     "output_type": "stream",
     "text": [
      "RMSE модели по обьедененным данным терьего региона 40.02970873393434\n",
      "Cреднее предсказанного запаса сырья для первого региона 94.96504596800489\n"
     ]
    }
   ],
   "source": [
    "print('RMSE модели по обьедененным данным терьего региона', mse_3 ** 0.5)\n",
    "print('Cреднее предсказанного запаса сырья для первого региона',predict_3.mean())"
   ]
  },
  {
   "cell_type": "markdown",
   "metadata": {
    "id": "7HH7uNncWi0K"
   },
   "source": [
    "\n",
    "\n",
    "Итог:\n",
    "Мы получили две модели, для вторго региона с отличными метриакми и для первого и тертьего регионов с более худшими показателями.\n",
    "После проверки и обучения модели на данных полученныз только с первого региона показатели для него улучшились незначительно. Проверку для третьего региона было решено не делать."
   ]
  },
  {
   "cell_type": "markdown",
   "metadata": {},
   "source": [
    "<div class=\"alert alert-block alert-info\">\n",
    "<b>Совет:</b> Линейные модели любят, когда данные масштабированы.\n",
    "</div>"
   ]
  },
  {
   "cell_type": "markdown",
   "metadata": {},
   "source": [
    "*я пробовал маштабировать, как мне показалось это не дало сильного прироста к показателям модели.*"
   ]
  },
  {
   "cell_type": "markdown",
   "metadata": {},
   "source": [
    "<div class=\"alert alert-block alert-success\">\n",
    "<b>Успех[2]:</b> Да согласен, в этом случае прироста не вышло. Однако хуже от этого точно не будет =) \n",
    "</div>"
   ]
  },
  {
   "cell_type": "markdown",
   "metadata": {},
   "source": [
    "<div class=\"alert alert-block alert-success\">\n",
    "<b>Успех:</b> В целом все сделано хорошо.\n",
    "</div>"
   ]
  },
  {
   "cell_type": "markdown",
   "metadata": {
    "id": "FP3KK--ut6dt"
   },
   "source": [
    "# 3. Подготовка к расчёту прибыли"
   ]
  },
  {
   "cell_type": "markdown",
   "metadata": {
    "id": "Vy7NSd9PnBDJ"
   },
   "source": [
    "Условия\n",
    "\n",
    "Для разведки региона используют 500 точек и выбирают 200 лучших по результатам модели\n",
    "\n",
    "Затраты на разработку 200-т вышек 10 млрд\n",
    "\n",
    "Цена за 1 еденицу продукта 450 000 \n",
    "\n"
   ]
  },
  {
   "cell_type": "code",
   "execution_count": 43,
   "metadata": {
    "id": "dxjm83R3t6dt"
   },
   "outputs": [],
   "source": [
    "# Для разработки региона отбирают 200 вышек, стоимость затран на разработку 10 000 000 000. \n",
    "# найдем точку безубыточности \n",
    "\n",
    "# точка безубыточности\n",
    "BEP = (10000000000 / 450000) / 200\n",
    "# Цена за еденицу продукта\n",
    "PRICE = 450000\n",
    "# Кол-во вышек для разработки региона\n",
    "COUNT = 200\n",
    "# Затраты на разработку региона\n",
    "COST = 10000000000"
   ]
  },
  {
   "cell_type": "markdown",
   "metadata": {},
   "source": [
    "<div class=\"alert alert-block alert-info\">\n",
    "<b>Совет:</b> Константы принято записывать в ВЕРХНЕМ РЕГИСТРЕ.\n",
    "</div>"
   ]
  },
  {
   "cell_type": "markdown",
   "metadata": {},
   "source": [
    "*Спасибо, за комментарий, поправил*"
   ]
  },
  {
   "cell_type": "markdown",
   "metadata": {},
   "source": [
    "<div class=\"alert alert-block alert-success\">\n",
    "<b>Успех[2]:</b> Хорошо.\n",
    "</div>"
   ]
  },
  {
   "cell_type": "markdown",
   "metadata": {
    "id": "QBqIdzCJ940-"
   },
   "source": [
    "Минимальное кол-во сырья  на одну вышку в регионе, для его безубыточной разработки 111,11 тыс едениц продукта\n"
   ]
  },
  {
   "cell_type": "code",
   "execution_count": 44,
   "metadata": {
    "id": "qXjskqmD-moV"
   },
   "outputs": [],
   "source": [
    "# оценим среднее кол-во едениц продукта на одну вышку"
   ]
  },
  {
   "cell_type": "code",
   "execution_count": 45,
   "metadata": {
    "colab": {
     "base_uri": "https://localhost:8080/"
    },
    "id": "5PFAsVHs9woK",
    "outputId": "14eb72b3-16af-4e90-88d4-74f24f426978"
   },
   "outputs": [
    {
     "data": {
      "text/plain": [
       "92.50000000000001"
      ]
     },
     "execution_count": 45,
     "metadata": {},
     "output_type": "execute_result"
    }
   ],
   "source": [
    "y_geo_1.mean()"
   ]
  },
  {
   "cell_type": "code",
   "execution_count": 46,
   "metadata": {
    "colab": {
     "base_uri": "https://localhost:8080/"
    },
    "id": "o6F6coDU-YLj",
    "outputId": "2d2c049a-5f19-46a9-887f-830b25dfecac"
   },
   "outputs": [
    {
     "data": {
      "text/plain": [
       "68.82500000000002"
      ]
     },
     "execution_count": 46,
     "metadata": {},
     "output_type": "execute_result"
    }
   ],
   "source": [
    "y_geo_2.mean()"
   ]
  },
  {
   "cell_type": "code",
   "execution_count": 47,
   "metadata": {
    "colab": {
     "base_uri": "https://localhost:8080/"
    },
    "id": "m-q5uk_5-aIA",
    "outputId": "ac17bd66-7662-4738-e4a6-13cf6647c612"
   },
   "outputs": [
    {
     "data": {
      "text/plain": [
       "95.00000000000004"
      ]
     },
     "execution_count": 47,
     "metadata": {},
     "output_type": "execute_result"
    }
   ],
   "source": [
    "y_geo_3.mean()"
   ]
  },
  {
   "cell_type": "markdown",
   "metadata": {
    "id": "adin22YmAP4K"
   },
   "source": [
    "Средний показатель модели и фактический очень близки. Но очень низок по сравнению с данными по точке безубыточности."
   ]
  },
  {
   "cell_type": "markdown",
   "metadata": {},
   "source": [
    "<div class=\"alert alert-block alert-success\">\n",
    "<b>Успех:</b> Значение посчитано правильно. Вывод логичен.\n",
    "</div>"
   ]
  },
  {
   "cell_type": "markdown",
   "metadata": {
    "id": "5PvG-GMQt6du"
   },
   "source": [
    "# 4. Расчёт прибыли и рисков "
   ]
  },
  {
   "cell_type": "code",
   "execution_count": 48,
   "metadata": {
    "id": "M7NOnADYt6du"
   },
   "outputs": [],
   "source": [
    "# функция расчета прибыли "
   ]
  },
  {
   "cell_type": "code",
   "execution_count": 49,
   "metadata": {
    "id": "WYSm8SFiYu1b"
   },
   "outputs": [],
   "source": [
    "def revenue(valid_data, predicted_data,count):\n",
    "  top_predicted = predicted_data.sort_values(ascending=False)\n",
    "  selected = valid_data[top_predicted.index][:COUNT]\n",
    "  return selected.sum() * PRICE - COST"
   ]
  },
  {
   "cell_type": "markdown",
   "metadata": {},
   "source": [
    "<div class=\"alert alert-block alert-danger\">\n",
    "<b>Ошибка:</b> Прибыль = доходы - расходы. А у тебя здесь только доход.\n",
    "</div>"
   ]
  },
  {
   "cell_type": "markdown",
   "metadata": {},
   "source": [
    "*Спасибо, не внимательно прочитал условия задачи. Поправил*"
   ]
  },
  {
   "cell_type": "markdown",
   "metadata": {},
   "source": [
    "<div class=\"alert alert-block alert-success\">\n",
    "<b>Успех[2]:</b> Ничего страшного, бывает.\n",
    "</div>"
   ]
  },
  {
   "cell_type": "code",
   "execution_count": 50,
   "metadata": {
    "id": "PGaUrrbgamKn"
   },
   "outputs": [],
   "source": [
    "# определим прибыль с каждого региона основываясь на прогнозах модлей"
   ]
  },
  {
   "cell_type": "code",
   "execution_count": 51,
   "metadata": {
    "id": "5ShBMIYeVh8Y"
   },
   "outputs": [],
   "source": [
    "def check_risk(y_test, predict):\n",
    "\n",
    "  state = np.random.RandomState(12345)\n",
    "  values = []\n",
    "  for i in range(1000):\n",
    "    geo_subsamle = y_test.sample(n=500, replace=True, random_state=state)\n",
    "    \n",
    "    predict_subsample = predict.loc[geo_subsamle.index] \n",
    "    values.append(revenue(geo_subsamle,predict_subsample,COUNT))\n",
    "\n",
    "  values = pd.Series(values)\n",
    "  return values"
   ]
  },
  {
   "cell_type": "markdown",
   "metadata": {},
   "source": [
    "<div class=\"alert alert-block alert-info\">\n",
    "<b>Совет[2]:</b> Мне кажется, твоя функция не совсем риски находит, а оценивает целый регион получая прибыль, используя бутстрап. <br> Лучше называть функции так, чтобы проще было понять, что они выполняют и какова их цель по названию.\n",
    "</div>"
   ]
  },
  {
   "cell_type": "code",
   "execution_count": 52,
   "metadata": {
    "id": "XpEHPBrMlKD9"
   },
   "outputs": [],
   "source": [
    "value_1 = check_risk(y_geo_1_test, predict_1)"
   ]
  },
  {
   "cell_type": "code",
   "execution_count": 53,
   "metadata": {
    "colab": {
     "base_uri": "https://localhost:8080/",
     "height": 295
    },
    "id": "-xQrELAnlXAE",
    "outputId": "2d488f60-7f35-4601-ff9b-423ae7cf31dc"
   },
   "outputs": [
    {
     "data": {
      "text/plain": [
       "<matplotlib.axes._subplots.AxesSubplot at 0x7fd68a6d0650>"
      ]
     },
     "execution_count": 53,
     "metadata": {},
     "output_type": "execute_result"
    },
    {
     "data": {
      "image/png": "[encoded data removed]",
      "text/plain": [
       "<Figure size 432x288 with 1 Axes>"
      ]
     },
     "metadata": {
      "needs_background": "light"
     },
     "output_type": "display_data"
    }
   ],
   "source": [
    "value_1.hist(bins=50)"
   ]
  },
  {
   "cell_type": "markdown",
   "metadata": {},
   "source": [
    "<div class=\"alert alert-block alert-info\">\n",
    "<b>Совет:</b> Можно считать риски попроще:\n",
    "    \n",
    "    (values < 0).mean()\n",
    "</div>"
   ]
  },
  {
   "cell_type": "markdown",
   "metadata": {},
   "source": [
    "*Да, так действительно проще и локаничней, спасибо*"
   ]
  },
  {
   "cell_type": "markdown",
   "metadata": {
    "id": "wQr26UfT6ILy"
   },
   "source": [
    "## Первый регион"
   ]
  },
  {
   "cell_type": "code",
   "execution_count": 54,
   "metadata": {
    "colab": {
     "base_uri": "https://localhost:8080/"
    },
    "id": "3w6LTEugizeD",
    "outputId": "54b4b5d1-026b-4a8b-aeb0-19c6e2cceead"
   },
   "outputs": [
    {
     "name": "stdout",
     "output_type": "stream",
     "text": [
      "Средняя прибыль по первому региону 425938526.9105923\n",
      "Вероятность убытков % 0.06\n",
      "Минимальна прибыль с вероятностью 97,5% -102090094.83793654\n",
      "95-й доверительный интервал для прибыли (возможная брибыль 95%) от  -102090094.83793654 до 947976353.358369\n"
     ]
    }
   ],
   "source": [
    "print('Средняя прибыль по первому региону', value_1.mean())\n",
    "print('Вероятность убытков %', (value_1 < 0).mean())\n",
    "print('Минимальна прибыль с вероятностью 97,5%', value_1.quantile(0.025))\n",
    "print('95-й доверительный интервал для прибыли (возможная брибыль 95%) от ', value_1.quantile(0.025) ,'до',value_1.quantile(0.975))"
   ]
  },
  {
   "cell_type": "markdown",
   "metadata": {
    "id": "foBBwFGg6EV9"
   },
   "source": [
    "## Второй регион"
   ]
  },
  {
   "cell_type": "code",
   "execution_count": 55,
   "metadata": {
    "id": "pTzoc1uEcEkB"
   },
   "outputs": [],
   "source": [
    "value_2 = check_risk(y_geo_2_test, predict_2)"
   ]
  },
  {
   "cell_type": "code",
   "execution_count": 56,
   "metadata": {
    "colab": {
     "base_uri": "https://localhost:8080/",
     "height": 296
    },
    "id": "TD_Q21XZm_If",
    "outputId": "7fe083a5-624b-46f1-83e7-efd4d0b879db"
   },
   "outputs": [
    {
     "data": {
      "text/plain": [
       "<matplotlib.axes._subplots.AxesSubplot at 0x7fd688564690>"
      ]
     },
     "execution_count": 56,
     "metadata": {},
     "output_type": "execute_result"
    },
    {
     "data": {
      "image/png": "[encoded data removed]",
      "text/plain": [
       "<Figure size 432x288 with 1 Axes>"
      ]
     },
     "metadata": {
      "needs_background": "light"
     },
     "output_type": "display_data"
    }
   ],
   "source": [
    "value_2.hist(bins=50)"
   ]
  },
  {
   "cell_type": "markdown",
   "metadata": {
    "id": "bjY59woJ5_xi"
   },
   "source": [
    "## Третий Регион"
   ]
  },
  {
   "cell_type": "code",
   "execution_count": 57,
   "metadata": {
    "colab": {
     "base_uri": "https://localhost:8080/"
    },
    "id": "ci3qO-nxqRuz",
    "outputId": "f3f39c4d-a3c7-4c8a-f72e-02440fa049a1"
   },
   "outputs": [
    {
     "name": "stdout",
     "output_type": "stream",
     "text": [
      "Средняя прибыль по первому региону 515222773.44328994\n",
      "Вероятность убытков % 0.01\n",
      "Минимальна прибыль с вероятностью 97,5% 68873225.37050177\n",
      "95-й доверительный интервал для прибыли (возможная брибыль 95%) от 68873225.37050177 до 931547591.2570496\n"
     ]
    }
   ],
   "source": [
    "print('Средняя прибыль по первому региону', value_2.mean())\n",
    "print('Вероятность убытков %', (value_2 < 0).mean())\n",
    "print('Минимальна прибыль с вероятностью 97,5%', value_2.quantile(0.025))\n",
    "print('95-й доверительный интервал для прибыли (возможная брибыль 95%) от', value_2.quantile(0.025) ,'до',value_2.quantile(0.975))"
   ]
  },
  {
   "cell_type": "code",
   "execution_count": 58,
   "metadata": {
    "id": "yDbBgpPZnNi2"
   },
   "outputs": [],
   "source": [
    "value_3 = check_risk(y_geo_3_test, predict_3)"
   ]
  },
  {
   "cell_type": "code",
   "execution_count": 59,
   "metadata": {
    "colab": {
     "base_uri": "https://localhost:8080/",
     "height": 295
    },
    "id": "9ihzEVgjnx6C",
    "outputId": "6fbfda73-fe18-4984-a021-d5f422432b85"
   },
   "outputs": [
    {
     "data": {
      "text/plain": [
       "<matplotlib.axes._subplots.AxesSubplot at 0x7fd6884cb910>"
      ]
     },
     "execution_count": 59,
     "metadata": {},
     "output_type": "execute_result"
    },
    {
     "data": {
      "image/png": "[encoded data removed]",
      "text/plain": [
       "<Figure size 432x288 with 1 Axes>"
      ]
     },
     "metadata": {
      "needs_background": "light"
     },
     "output_type": "display_data"
    }
   ],
   "source": [
    "value_3.hist(bins=50)"
   ]
  },
  {
   "cell_type": "code",
   "execution_count": 60,
   "metadata": {
    "colab": {
     "base_uri": "https://localhost:8080/"
    },
    "id": "608YLRsMp9YQ",
    "outputId": "b1c3569d-8061-47ec-9434-a1f678908664",
    "scrolled": true
   },
   "outputs": [
    {
     "name": "stdout",
     "output_type": "stream",
     "text": [
      "Средняя прибыль по первому региону 435008362.78275555\n",
      "Вероятность убытков % 0.064\n",
      "Минимальна прибыль с вероятностью 97,5% -128880547.32978901\n",
      "95-й доверительный интервал для прибыли (возможная брибыль 95%) от -128880547.32978901 до 969706954.1802679\n"
     ]
    }
   ],
   "source": [
    "print('Средняя прибыль по первому региону', value_3.mean())\n",
    "print('Вероятность убытков %', (value_3 < 0).mean())\n",
    "print('Минимальна прибыль с вероятностью 97,5%', value_3.quantile(0.025))\n",
    "print('95-й доверительный интервал для прибыли (возможная брибыль 95%) от', value_3.quantile(0.025) ,'до',value_3.quantile(0.975))"
   ]
  },
  {
   "cell_type": "markdown",
   "metadata": {},
   "source": [
    "<div class=\"alert alert-block alert-info\">\n",
    "<b>Совет:</b> 95% интервал это 0.025 и 0.975 квантили. Лучше выводить именно их.\n",
    "</div>"
   ]
  },
  {
   "cell_type": "markdown",
   "metadata": {},
   "source": [
    "*Поправил*"
   ]
  },
  {
   "cell_type": "markdown",
   "metadata": {},
   "source": [
    "<div class=\"alert alert-block alert-success\">\n",
    "<b>Успех[2]:</b> Отлично.\n",
    "</div>"
   ]
  },
  {
   "cell_type": "markdown",
   "metadata": {
    "id": "hNo7_2hJ5QKc"
   },
   "source": [
    "# Итог\n",
    "Под условия поставленной задачи для дальнейшей разработки подходит только второй регион.\n",
    "\n",
    "\n",
    "Риски получить убыток по данному региону наименьшие среди всех изученных. И полностью соответсвуют условию получить убытки с вероятностью 2,5%\n",
    "\n",
    "Вероятнее всего данный регион хорош из-за своей скрытой для нас особенности, которая нам видна только на гисторамме. Среди всех остальных регионов его три показателя имеют различные распределения, данных.\n",
    "\n",
    "Так же модель на этих данных дала самый высокоточные предсказания.\n",
    "\n",
    "Касательно первого и третьего региона, были предприняты попытки обьеденить их датасеты и обучить для оду модель. Целевые показатели оказались ниже чем на индивидуальных данныхю\n",
    "\n",
    "\n",
    "\n",
    "\n"
   ]
  },
  {
   "cell_type": "markdown",
   "metadata": {},
   "source": [
    "<div class=\"alert alert-block alert-success\">\n",
    "<b>Успех:</b> Всегда приятно видеть итоговый вывод в конце проекта.\n",
    "</div>"
   ]
  },
  {
   "cell_type": "markdown",
   "metadata": {},
   "source": [
    "<div class=\"alert alert-block alert-success\">\n",
    "<b>Успех[2]:</b> С выбором региона согласен.\n",
    "</div>"
   ]
  },
  {
   "cell_type": "markdown",
   "metadata": {
    "id": "ntSNEC6Mt6dv"
   },
   "source": [
    "# Чек-лист готовности проекта"
   ]
  },
  {
   "cell_type": "markdown",
   "metadata": {
    "id": "hVM61OWSt6dv"
   },
   "source": [
    "Поставьте 'x' в выполненных пунктах. Далее нажмите Shift+Enter."
   ]
  },
  {
   "cell_type": "markdown",
   "metadata": {
    "id": "0G7MC69Xt6dw"
   },
   "source": [
    "- [x]  Jupyter Notebook открыт\n",
    "- [x]  Весь код выполняется без ошибок\n",
    "- [x]  Ячейки с кодом расположены в порядке исполнения\n",
    "- [x]  Выполнен шаг 1: данные подготовлены\n",
    "- [x]  Выполнен шаг 2: модели обучены и проверены\n",
    "    - [x]  Данные корректно разбиты на обучающую и валидационную выборки\n",
    "    - [x]  Модели обучены, предсказания сделаны\n",
    "    - [x]  Предсказания и правильные ответы на валидационной выборке сохранены\n",
    "    - [x]  На экране напечатаны результаты\n",
    "    - [x]  Сделаны выводы\n",
    "- [x]  Выполнен шаг 3: проведена подготовка к расчёту прибыли\n",
    "    - [x]  Для всех ключевых значений созданы константы Python\n",
    "    - [x]  Посчитано минимальное среднее количество продукта в месторождениях региона, достаточное для разработки\n",
    "    - [x]  По предыдущему пункту сделаны выводы\n",
    "    - [x]  Написана функция расчёта прибыли\n",
    "- [x]  Выполнен шаг 4: посчитаны риски и прибыль\n",
    "    - [x]  Проведена процедура *Bootstrap*\n",
    "    - [x]  Все параметры бутстрепа соответствуют условию\n",
    "    - [x]  Найдены все нужные величины\n",
    "    - [x]  Предложен регион для разработки месторождения\n",
    "    - [x]  Выбор региона обоснован"
   ]
  },
  {
   "cell_type": "code",
   "execution_count": null,
   "metadata": {
    "id": "UCWf7xL9t6dw"
   },
   "outputs": [],
   "source": []
  },
  {
   "cell_type": "code",
   "execution_count": null,
   "metadata": {},
   "outputs": [],
   "source": []
  }
 ],
 "metadata": {
  "colab": {
   "name": "progect_busines.ipynb",
   "provenance": [],
   "toc_visible": true
  },
  "kernelspec": {
   "display_name": "Python 3",
   "language": "python",
   "name": "python3"
  },
  "language_info": {
   "codemirror_mode": {
    "name": "ipython",
    "version": 3
   },
   "file_extension": ".py",
   "mimetype": "text/x-python",
   "name": "python",
   "nbconvert_exporter": "python",
   "pygments_lexer": "ipython3",
   "version": "3.7.8"
  },
  "toc": {
   "base_numbering": 1,
   "nav_menu": {},
   "number_sections": true,
   "sideBar": true,
   "skip_h1_title": true,
   "title_cell": "Table of Contents",
   "title_sidebar": "Contents",
   "toc_cell": false,
   "toc_position": {},
   "toc_section_display": true,
   "toc_window_display": false
  }
 },
 "nbformat": 4,
 "nbformat_minor": 1
}
