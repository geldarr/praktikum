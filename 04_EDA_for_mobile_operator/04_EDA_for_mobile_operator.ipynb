{
  "nbformat": 4,
  "nbformat_minor": 0,
  "metadata": {
    "kernelspec": {
      "display_name": "Python 3",
      "language": "python",
      "name": "python3"
    },
    "language_info": {
      "codemirror_mode": {
        "name": "ipython",
        "version": 3
      },
      "file_extension": ".py",
      "mimetype": "text/x-python",
      "name": "python",
      "nbconvert_exporter": "python",
      "pygments_lexer": "ipython3",
      "version": "3.7.8"
    },
    "toc": {
      "base_numbering": 1,
      "nav_menu": {},
      "number_sections": true,
      "sideBar": true,
      "skip_h1_title": false,
      "title_cell": "Table of Contents",
      "title_sidebar": "Contents",
      "toc_cell": false,
      "toc_position": {},
      "toc_section_display": true,
      "toc_window_display": false
    },
    "colab": {
      "name": "04_EDA_for_mobile_operator.ipynb",
      "provenance": []
    }
  },
  "cells": [
    {
      "cell_type": "markdown",
      "metadata": {
        "id": "V1JT0z1KGVJm"
      },
      "source": [
        "# Задача проекта \n",
        "\n",
        "Гланая цель проекта определить самый выгодный для компании тарифный план. \n",
        "\n",
        "План работы над проектом.\n",
        "\n",
        "1. <a href='#анализ'> Общая информация.</a>\n",
        "\n",
        "    <a href='#analysis_output'> Вывод </a>\n",
        "\n",
        "2. <a href ='#предобработка'>Предобработка данных. Замена пропусков, типов данных, поиск дубликатов. </a>\n",
        "    \n",
        "    2.1 <a href ='#change_data'> Проверка типа данных </a>\n",
        "    \n",
        "    2.2 <a href ='#NaN_zero'> Обработка пустых и нулевых значений </a>\n",
        "    \n",
        "    2.3 <a href ='#duble'> Поиск дубликатов </a>\n",
        "  \n",
        "  <a href ='#output_preparation'> Вывод </a>\n",
        "  \n",
        "\n",
        "3. <a href ='#Подсчет'> Подсчет данных </a>\n",
        "\n",
        "    3.1 <a href='#звонки'>Количество сделанных звонков и израсходованных минут разговора по месяцам</a> \n",
        "    \n",
        "    3.2 <a href=\"#message\">Количество отправленных сообщений по месяцам</a>\n",
        "    \n",
        "    3.3 <a href=\"##internet\"> Объем израсходованного интернет-трафика по месяцам </a>\n",
        "    \n",
        "    3.4 <a href=\"#peer_month_proceed\"> Помесячную выручку с каждого пользователя</a>\n",
        "\n",
        "  \n",
        "  \n",
        "4. <a href=\"##description\">Описание поведения клиентов оператора</a>\n",
        "\n",
        "    4.1 <a href='#volume'>Обьем минут разговора, интернет-трафика и сообщений </a>\n",
        "    \n",
        "    4.2 <a href='#mean'> Среднее, дисперсия и стандартное отклонение. </a>\n",
        "    \n",
        " \n",
        "5. <a href=\"##hypothesis\"> Проверка гипотез </a>\n",
        "    \n",
        "    5.1 <a href=\"##mean proceeds\"> средняя выручка пользователей тарифов «Ультра» и «Смарт» различается </a>\n",
        "    \n",
        "    5.2 <a href=\"##mean proceeds_city\"> средняя выручка пользователей из Москвы отличается от выручки пользователей из других регионов </a>\n",
        "\n",
        "\n",
        "6. <a href='##output'>Вывод </a>"
      ]
    },
    {
      "cell_type": "markdown",
      "metadata": {
        "id": "WHFvSM1uGVJn"
      },
      "source": [
        "<a id='анализ'></a>\n",
        "\n",
        "# 1. Общий анализ данных.\n",
        "\n",
        "Открыть файлы с данными, проверить наличие пустых значений, проверить соответсвие типов данных.\n",
        "\n"
      ]
    },
    {
      "cell_type": "code",
      "metadata": {
        "id": "JSlP0LX_GVJn"
      },
      "source": [
        "import pandas as pd\n",
        "import matplotlib.pyplot as plt\n",
        "import seaborn as sns\n",
        "import math\n",
        "import numpy as np\n",
        "from scipy import stats as st\n",
        "import seaborn as sns\n"
      ],
      "execution_count": 1,
      "outputs": []
    },
    {
      "cell_type": "code",
      "metadata": {
        "colab": {
          "base_uri": "https://localhost:8080/"
        },
        "id": "WNsGPUOJMeVx",
        "outputId": "bc6916dc-4a4a-45b6-eb63-0d73daa19384"
      },
      "source": [
        "from google.colab import drive\r\n",
        "drive.mount('/content/drive')"
      ],
      "execution_count": 2,
      "outputs": [
        {
          "output_type": "stream",
          "text": [
            "Mounted at /content/drive\n"
          ],
          "name": "stdout"
        }
      ]
    },
    {
      "cell_type": "markdown",
      "metadata": {
        "id": "ymgFAkMgGVJo"
      },
      "source": [
        " "
      ]
    },
    {
      "cell_type": "code",
      "metadata": {
        "colab": {
          "base_uri": "https://localhost:8080/"
        },
        "id": "0wHKACWvGVJo",
        "outputId": "d130c258-c59d-4325-a571-3b96f92729f8"
      },
      "source": [
        "# calls \n",
        "calls = pd.read_csv('/content/drive/MyDrive/Colab Notebooks/Shad/04_EDA_mobile/calls.csv')\n",
        "\n",
        "calls.info()"
      ],
      "execution_count": 3,
      "outputs": [
        {
          "output_type": "stream",
          "text": [
            "<class 'pandas.core.frame.DataFrame'>\n",
            "RangeIndex: 202607 entries, 0 to 202606\n",
            "Data columns (total 4 columns):\n",
            " #   Column     Non-Null Count   Dtype  \n",
            "---  ------     --------------   -----  \n",
            " 0   id         202607 non-null  object \n",
            " 1   call_date  202607 non-null  object \n",
            " 2   duration   202607 non-null  float64\n",
            " 3   user_id    202607 non-null  int64  \n",
            "dtypes: float64(1), int64(1), object(2)\n",
            "memory usage: 6.2+ MB\n"
          ],
          "name": "stdout"
        }
      ]
    },
    {
      "cell_type": "code",
      "metadata": {
        "colab": {
          "base_uri": "https://localhost:8080/",
          "height": 204
        },
        "id": "rxUMKh8zNQ34",
        "outputId": "94c967c4-9579-40cf-ee6a-2ad4b3ae20c4"
      },
      "source": [
        "calls.head()"
      ],
      "execution_count": 4,
      "outputs": [
        {
          "output_type": "execute_result",
          "data": {
            "text/html": [
              "<div>\n",
              "<style scoped>\n",
              "    .dataframe tbody tr th:only-of-type {\n",
              "        vertical-align: middle;\n",
              "    }\n",
              "\n",
              "    .dataframe tbody tr th {\n",
              "        vertical-align: top;\n",
              "    }\n",
              "\n",
              "    .dataframe thead th {\n",
              "        text-align: right;\n",
              "    }\n",
              "</style>\n",
              "<table border=\"1\" class=\"dataframe\">\n",
              "  <thead>\n",
              "    <tr style=\"text-align: right;\">\n",
              "      <th></th>\n",
              "      <th>id</th>\n",
              "      <th>call_date</th>\n",
              "      <th>duration</th>\n",
              "      <th>user_id</th>\n",
              "    </tr>\n",
              "  </thead>\n",
              "  <tbody>\n",
              "    <tr>\n",
              "      <th>0</th>\n",
              "      <td>1000_0</td>\n",
              "      <td>2018-07-25</td>\n",
              "      <td>0.00</td>\n",
              "      <td>1000</td>\n",
              "    </tr>\n",
              "    <tr>\n",
              "      <th>1</th>\n",
              "      <td>1000_1</td>\n",
              "      <td>2018-08-17</td>\n",
              "      <td>0.00</td>\n",
              "      <td>1000</td>\n",
              "    </tr>\n",
              "    <tr>\n",
              "      <th>2</th>\n",
              "      <td>1000_2</td>\n",
              "      <td>2018-06-11</td>\n",
              "      <td>2.85</td>\n",
              "      <td>1000</td>\n",
              "    </tr>\n",
              "    <tr>\n",
              "      <th>3</th>\n",
              "      <td>1000_3</td>\n",
              "      <td>2018-09-21</td>\n",
              "      <td>13.80</td>\n",
              "      <td>1000</td>\n",
              "    </tr>\n",
              "    <tr>\n",
              "      <th>4</th>\n",
              "      <td>1000_4</td>\n",
              "      <td>2018-12-15</td>\n",
              "      <td>5.18</td>\n",
              "      <td>1000</td>\n",
              "    </tr>\n",
              "  </tbody>\n",
              "</table>\n",
              "</div>"
            ],
            "text/plain": [
              "       id   call_date  duration  user_id\n",
              "0  1000_0  2018-07-25      0.00     1000\n",
              "1  1000_1  2018-08-17      0.00     1000\n",
              "2  1000_2  2018-06-11      2.85     1000\n",
              "3  1000_3  2018-09-21     13.80     1000\n",
              "4  1000_4  2018-12-15      5.18     1000"
            ]
          },
          "metadata": {
            "tags": []
          },
          "execution_count": 4
        }
      ]
    },
    {
      "cell_type": "code",
      "metadata": {
        "colab": {
          "base_uri": "https://localhost:8080/"
        },
        "id": "Yacds4PXNWfU",
        "outputId": "f270bfc3-7c69-4e2c-a0bb-3b9bd7e1ac8c"
      },
      "source": [
        "calls.duration.describe()"
      ],
      "execution_count": 5,
      "outputs": [
        {
          "output_type": "execute_result",
          "data": {
            "text/plain": [
              "count    202607.000000\n",
              "mean          6.755887\n",
              "std           5.843365\n",
              "min           0.000000\n",
              "25%           1.300000\n",
              "50%           6.000000\n",
              "75%          10.700000\n",
              "max          38.000000\n",
              "Name: duration, dtype: float64"
            ]
          },
          "metadata": {
            "tags": []
          },
          "execution_count": 5
        }
      ]
    },
    {
      "cell_type": "code",
      "metadata": {
        "scrolled": true,
        "colab": {
          "base_uri": "https://localhost:8080/",
          "height": 408
        },
        "id": "z63_xTQmGVJo",
        "outputId": "891d4add-ec1a-41fe-a660-b6bf367d79a8"
      },
      "source": [
        "#internet\n",
        "internet = pd.read_csv('/content/drive/MyDrive/Colab Notebooks/Shad/04_EDA_mobile/internet.csv')\n",
        "internet.info()\n",
        "internet.head(5)"
      ],
      "execution_count": 6,
      "outputs": [
        {
          "output_type": "stream",
          "text": [
            "<class 'pandas.core.frame.DataFrame'>\n",
            "RangeIndex: 149396 entries, 0 to 149395\n",
            "Data columns (total 5 columns):\n",
            " #   Column        Non-Null Count   Dtype  \n",
            "---  ------        --------------   -----  \n",
            " 0   Unnamed: 0    149396 non-null  int64  \n",
            " 1   id            149396 non-null  object \n",
            " 2   mb_used       149396 non-null  float64\n",
            " 3   session_date  149396 non-null  object \n",
            " 4   user_id       149396 non-null  int64  \n",
            "dtypes: float64(1), int64(2), object(2)\n",
            "memory usage: 5.7+ MB\n"
          ],
          "name": "stdout"
        },
        {
          "output_type": "execute_result",
          "data": {
            "text/html": [
              "<div>\n",
              "<style scoped>\n",
              "    .dataframe tbody tr th:only-of-type {\n",
              "        vertical-align: middle;\n",
              "    }\n",
              "\n",
              "    .dataframe tbody tr th {\n",
              "        vertical-align: top;\n",
              "    }\n",
              "\n",
              "    .dataframe thead th {\n",
              "        text-align: right;\n",
              "    }\n",
              "</style>\n",
              "<table border=\"1\" class=\"dataframe\">\n",
              "  <thead>\n",
              "    <tr style=\"text-align: right;\">\n",
              "      <th></th>\n",
              "      <th>Unnamed: 0</th>\n",
              "      <th>id</th>\n",
              "      <th>mb_used</th>\n",
              "      <th>session_date</th>\n",
              "      <th>user_id</th>\n",
              "    </tr>\n",
              "  </thead>\n",
              "  <tbody>\n",
              "    <tr>\n",
              "      <th>0</th>\n",
              "      <td>0</td>\n",
              "      <td>1000_0</td>\n",
              "      <td>112.95</td>\n",
              "      <td>2018-11-25</td>\n",
              "      <td>1000</td>\n",
              "    </tr>\n",
              "    <tr>\n",
              "      <th>1</th>\n",
              "      <td>1</td>\n",
              "      <td>1000_1</td>\n",
              "      <td>1052.81</td>\n",
              "      <td>2018-09-07</td>\n",
              "      <td>1000</td>\n",
              "    </tr>\n",
              "    <tr>\n",
              "      <th>2</th>\n",
              "      <td>2</td>\n",
              "      <td>1000_2</td>\n",
              "      <td>1197.26</td>\n",
              "      <td>2018-06-25</td>\n",
              "      <td>1000</td>\n",
              "    </tr>\n",
              "    <tr>\n",
              "      <th>3</th>\n",
              "      <td>3</td>\n",
              "      <td>1000_3</td>\n",
              "      <td>550.27</td>\n",
              "      <td>2018-08-22</td>\n",
              "      <td>1000</td>\n",
              "    </tr>\n",
              "    <tr>\n",
              "      <th>4</th>\n",
              "      <td>4</td>\n",
              "      <td>1000_4</td>\n",
              "      <td>302.56</td>\n",
              "      <td>2018-09-24</td>\n",
              "      <td>1000</td>\n",
              "    </tr>\n",
              "  </tbody>\n",
              "</table>\n",
              "</div>"
            ],
            "text/plain": [
              "   Unnamed: 0      id  mb_used session_date  user_id\n",
              "0           0  1000_0   112.95   2018-11-25     1000\n",
              "1           1  1000_1  1052.81   2018-09-07     1000\n",
              "2           2  1000_2  1197.26   2018-06-25     1000\n",
              "3           3  1000_3   550.27   2018-08-22     1000\n",
              "4           4  1000_4   302.56   2018-09-24     1000"
            ]
          },
          "metadata": {
            "tags": []
          },
          "execution_count": 6
        }
      ]
    },
    {
      "cell_type": "code",
      "metadata": {
        "colab": {
          "base_uri": "https://localhost:8080/"
        },
        "id": "z_SVglh6Ndz5",
        "outputId": "516bde8f-904f-4f60-cb07-6100ab876fdf"
      },
      "source": [
        "internet.mb_used.describe()"
      ],
      "execution_count": 7,
      "outputs": [
        {
          "output_type": "execute_result",
          "data": {
            "text/plain": [
              "count    149396.000000\n",
              "mean        370.192426\n",
              "std         278.300951\n",
              "min           0.000000\n",
              "25%         138.187500\n",
              "50%         348.015000\n",
              "75%         559.552500\n",
              "max        1724.830000\n",
              "Name: mb_used, dtype: float64"
            ]
          },
          "metadata": {
            "tags": []
          },
          "execution_count": 7
        }
      ]
    },
    {
      "cell_type": "code",
      "metadata": {
        "colab": {
          "base_uri": "https://localhost:8080/",
          "height": 529
        },
        "id": "cBXydm3_GVJp",
        "outputId": "ef71dec0-b4e4-47cc-ff36-dac1d64c196e"
      },
      "source": [
        "#messages\n",
        "messages = pd.read_csv('/content/drive/MyDrive/Colab Notebooks/Shad/04_EDA_mobile/messages.csv')\n",
        "messages.info()\n",
        "messages.head(10)"
      ],
      "execution_count": 8,
      "outputs": [
        {
          "output_type": "stream",
          "text": [
            "<class 'pandas.core.frame.DataFrame'>\n",
            "RangeIndex: 123036 entries, 0 to 123035\n",
            "Data columns (total 3 columns):\n",
            " #   Column        Non-Null Count   Dtype \n",
            "---  ------        --------------   ----- \n",
            " 0   id            123036 non-null  object\n",
            " 1   message_date  123036 non-null  object\n",
            " 2   user_id       123036 non-null  int64 \n",
            "dtypes: int64(1), object(2)\n",
            "memory usage: 2.8+ MB\n"
          ],
          "name": "stdout"
        },
        {
          "output_type": "execute_result",
          "data": {
            "text/html": [
              "<div>\n",
              "<style scoped>\n",
              "    .dataframe tbody tr th:only-of-type {\n",
              "        vertical-align: middle;\n",
              "    }\n",
              "\n",
              "    .dataframe tbody tr th {\n",
              "        vertical-align: top;\n",
              "    }\n",
              "\n",
              "    .dataframe thead th {\n",
              "        text-align: right;\n",
              "    }\n",
              "</style>\n",
              "<table border=\"1\" class=\"dataframe\">\n",
              "  <thead>\n",
              "    <tr style=\"text-align: right;\">\n",
              "      <th></th>\n",
              "      <th>id</th>\n",
              "      <th>message_date</th>\n",
              "      <th>user_id</th>\n",
              "    </tr>\n",
              "  </thead>\n",
              "  <tbody>\n",
              "    <tr>\n",
              "      <th>0</th>\n",
              "      <td>1000_0</td>\n",
              "      <td>2018-06-27</td>\n",
              "      <td>1000</td>\n",
              "    </tr>\n",
              "    <tr>\n",
              "      <th>1</th>\n",
              "      <td>1000_1</td>\n",
              "      <td>2018-10-08</td>\n",
              "      <td>1000</td>\n",
              "    </tr>\n",
              "    <tr>\n",
              "      <th>2</th>\n",
              "      <td>1000_2</td>\n",
              "      <td>2018-08-04</td>\n",
              "      <td>1000</td>\n",
              "    </tr>\n",
              "    <tr>\n",
              "      <th>3</th>\n",
              "      <td>1000_3</td>\n",
              "      <td>2018-06-16</td>\n",
              "      <td>1000</td>\n",
              "    </tr>\n",
              "    <tr>\n",
              "      <th>4</th>\n",
              "      <td>1000_4</td>\n",
              "      <td>2018-12-05</td>\n",
              "      <td>1000</td>\n",
              "    </tr>\n",
              "    <tr>\n",
              "      <th>5</th>\n",
              "      <td>1000_5</td>\n",
              "      <td>2018-06-20</td>\n",
              "      <td>1000</td>\n",
              "    </tr>\n",
              "    <tr>\n",
              "      <th>6</th>\n",
              "      <td>1000_6</td>\n",
              "      <td>2018-11-19</td>\n",
              "      <td>1000</td>\n",
              "    </tr>\n",
              "    <tr>\n",
              "      <th>7</th>\n",
              "      <td>1000_7</td>\n",
              "      <td>2018-10-29</td>\n",
              "      <td>1000</td>\n",
              "    </tr>\n",
              "    <tr>\n",
              "      <th>8</th>\n",
              "      <td>1000_8</td>\n",
              "      <td>2018-06-25</td>\n",
              "      <td>1000</td>\n",
              "    </tr>\n",
              "    <tr>\n",
              "      <th>9</th>\n",
              "      <td>1000_9</td>\n",
              "      <td>2018-12-18</td>\n",
              "      <td>1000</td>\n",
              "    </tr>\n",
              "  </tbody>\n",
              "</table>\n",
              "</div>"
            ],
            "text/plain": [
              "       id message_date  user_id\n",
              "0  1000_0   2018-06-27     1000\n",
              "1  1000_1   2018-10-08     1000\n",
              "2  1000_2   2018-08-04     1000\n",
              "3  1000_3   2018-06-16     1000\n",
              "4  1000_4   2018-12-05     1000\n",
              "5  1000_5   2018-06-20     1000\n",
              "6  1000_6   2018-11-19     1000\n",
              "7  1000_7   2018-10-29     1000\n",
              "8  1000_8   2018-06-25     1000\n",
              "9  1000_9   2018-12-18     1000"
            ]
          },
          "metadata": {
            "tags": []
          },
          "execution_count": 8
        }
      ]
    },
    {
      "cell_type": "code",
      "metadata": {
        "colab": {
          "base_uri": "https://localhost:8080/",
          "height": 386
        },
        "id": "JTxMKgCFGVJp",
        "outputId": "debcd5c2-89c1-40a1-8b2e-49df19221e35"
      },
      "source": [
        "#tariffs\n",
        "tariffs = pd.read_csv('/content/drive/MyDrive/Colab Notebooks/Shad/04_EDA_mobile/tariffs.csv')\n",
        "tariffs.info()\n",
        "tariffs.head()"
      ],
      "execution_count": 9,
      "outputs": [
        {
          "output_type": "stream",
          "text": [
            "<class 'pandas.core.frame.DataFrame'>\n",
            "RangeIndex: 2 entries, 0 to 1\n",
            "Data columns (total 8 columns):\n",
            " #   Column                 Non-Null Count  Dtype \n",
            "---  ------                 --------------  ----- \n",
            " 0   messages_included      2 non-null      int64 \n",
            " 1   mb_per_month_included  2 non-null      int64 \n",
            " 2   minutes_included       2 non-null      int64 \n",
            " 3   rub_monthly_fee        2 non-null      int64 \n",
            " 4   rub_per_gb             2 non-null      int64 \n",
            " 5   rub_per_message        2 non-null      int64 \n",
            " 6   rub_per_minute         2 non-null      int64 \n",
            " 7   tariff_name            2 non-null      object\n",
            "dtypes: int64(7), object(1)\n",
            "memory usage: 256.0+ bytes\n"
          ],
          "name": "stdout"
        },
        {
          "output_type": "execute_result",
          "data": {
            "text/html": [
              "<div>\n",
              "<style scoped>\n",
              "    .dataframe tbody tr th:only-of-type {\n",
              "        vertical-align: middle;\n",
              "    }\n",
              "\n",
              "    .dataframe tbody tr th {\n",
              "        vertical-align: top;\n",
              "    }\n",
              "\n",
              "    .dataframe thead th {\n",
              "        text-align: right;\n",
              "    }\n",
              "</style>\n",
              "<table border=\"1\" class=\"dataframe\">\n",
              "  <thead>\n",
              "    <tr style=\"text-align: right;\">\n",
              "      <th></th>\n",
              "      <th>messages_included</th>\n",
              "      <th>mb_per_month_included</th>\n",
              "      <th>minutes_included</th>\n",
              "      <th>rub_monthly_fee</th>\n",
              "      <th>rub_per_gb</th>\n",
              "      <th>rub_per_message</th>\n",
              "      <th>rub_per_minute</th>\n",
              "      <th>tariff_name</th>\n",
              "    </tr>\n",
              "  </thead>\n",
              "  <tbody>\n",
              "    <tr>\n",
              "      <th>0</th>\n",
              "      <td>50</td>\n",
              "      <td>15360</td>\n",
              "      <td>500</td>\n",
              "      <td>550</td>\n",
              "      <td>200</td>\n",
              "      <td>3</td>\n",
              "      <td>3</td>\n",
              "      <td>smart</td>\n",
              "    </tr>\n",
              "    <tr>\n",
              "      <th>1</th>\n",
              "      <td>1000</td>\n",
              "      <td>30720</td>\n",
              "      <td>3000</td>\n",
              "      <td>1950</td>\n",
              "      <td>150</td>\n",
              "      <td>1</td>\n",
              "      <td>1</td>\n",
              "      <td>ultra</td>\n",
              "    </tr>\n",
              "  </tbody>\n",
              "</table>\n",
              "</div>"
            ],
            "text/plain": [
              "   messages_included  mb_per_month_included  ...  rub_per_minute  tariff_name\n",
              "0                 50                  15360  ...               3        smart\n",
              "1               1000                  30720  ...               1        ultra\n",
              "\n",
              "[2 rows x 8 columns]"
            ]
          },
          "metadata": {
            "tags": []
          },
          "execution_count": 9
        }
      ]
    },
    {
      "cell_type": "code",
      "metadata": {
        "colab": {
          "base_uri": "https://localhost:8080/",
          "height": 459
        },
        "id": "_zyMxd_lGVJp",
        "outputId": "3cc5ddef-5e4e-4d71-9ec1-e6d71a0375ab"
      },
      "source": [
        "#users\n",
        "users = pd.read_csv('/content/drive/MyDrive/Colab Notebooks/Shad/04_EDA_mobile/users.csv')\n",
        "users.info()\n",
        "users.head()\n"
      ],
      "execution_count": 10,
      "outputs": [
        {
          "output_type": "stream",
          "text": [
            "<class 'pandas.core.frame.DataFrame'>\n",
            "RangeIndex: 500 entries, 0 to 499\n",
            "Data columns (total 8 columns):\n",
            " #   Column      Non-Null Count  Dtype \n",
            "---  ------      --------------  ----- \n",
            " 0   user_id     500 non-null    int64 \n",
            " 1   age         500 non-null    int64 \n",
            " 2   churn_date  38 non-null     object\n",
            " 3   city        500 non-null    object\n",
            " 4   first_name  500 non-null    object\n",
            " 5   last_name   500 non-null    object\n",
            " 6   reg_date    500 non-null    object\n",
            " 7   tariff      500 non-null    object\n",
            "dtypes: int64(2), object(6)\n",
            "memory usage: 31.4+ KB\n"
          ],
          "name": "stdout"
        },
        {
          "output_type": "execute_result",
          "data": {
            "text/html": [
              "<div>\n",
              "<style scoped>\n",
              "    .dataframe tbody tr th:only-of-type {\n",
              "        vertical-align: middle;\n",
              "    }\n",
              "\n",
              "    .dataframe tbody tr th {\n",
              "        vertical-align: top;\n",
              "    }\n",
              "\n",
              "    .dataframe thead th {\n",
              "        text-align: right;\n",
              "    }\n",
              "</style>\n",
              "<table border=\"1\" class=\"dataframe\">\n",
              "  <thead>\n",
              "    <tr style=\"text-align: right;\">\n",
              "      <th></th>\n",
              "      <th>user_id</th>\n",
              "      <th>age</th>\n",
              "      <th>churn_date</th>\n",
              "      <th>city</th>\n",
              "      <th>first_name</th>\n",
              "      <th>last_name</th>\n",
              "      <th>reg_date</th>\n",
              "      <th>tariff</th>\n",
              "    </tr>\n",
              "  </thead>\n",
              "  <tbody>\n",
              "    <tr>\n",
              "      <th>0</th>\n",
              "      <td>1000</td>\n",
              "      <td>52</td>\n",
              "      <td>NaN</td>\n",
              "      <td>Краснодар</td>\n",
              "      <td>Рафаил</td>\n",
              "      <td>Верещагин</td>\n",
              "      <td>2018-05-25</td>\n",
              "      <td>ultra</td>\n",
              "    </tr>\n",
              "    <tr>\n",
              "      <th>1</th>\n",
              "      <td>1001</td>\n",
              "      <td>41</td>\n",
              "      <td>NaN</td>\n",
              "      <td>Москва</td>\n",
              "      <td>Иван</td>\n",
              "      <td>Ежов</td>\n",
              "      <td>2018-11-01</td>\n",
              "      <td>smart</td>\n",
              "    </tr>\n",
              "    <tr>\n",
              "      <th>2</th>\n",
              "      <td>1002</td>\n",
              "      <td>59</td>\n",
              "      <td>NaN</td>\n",
              "      <td>Стерлитамак</td>\n",
              "      <td>Евгений</td>\n",
              "      <td>Абрамович</td>\n",
              "      <td>2018-06-17</td>\n",
              "      <td>smart</td>\n",
              "    </tr>\n",
              "    <tr>\n",
              "      <th>3</th>\n",
              "      <td>1003</td>\n",
              "      <td>23</td>\n",
              "      <td>NaN</td>\n",
              "      <td>Москва</td>\n",
              "      <td>Белла</td>\n",
              "      <td>Белякова</td>\n",
              "      <td>2018-08-17</td>\n",
              "      <td>ultra</td>\n",
              "    </tr>\n",
              "    <tr>\n",
              "      <th>4</th>\n",
              "      <td>1004</td>\n",
              "      <td>68</td>\n",
              "      <td>NaN</td>\n",
              "      <td>Новокузнецк</td>\n",
              "      <td>Татьяна</td>\n",
              "      <td>Авдеенко</td>\n",
              "      <td>2018-05-14</td>\n",
              "      <td>ultra</td>\n",
              "    </tr>\n",
              "  </tbody>\n",
              "</table>\n",
              "</div>"
            ],
            "text/plain": [
              "   user_id  age churn_date  ...  last_name    reg_date tariff\n",
              "0     1000   52        NaN  ...  Верещагин  2018-05-25  ultra\n",
              "1     1001   41        NaN  ...       Ежов  2018-11-01  smart\n",
              "2     1002   59        NaN  ...  Абрамович  2018-06-17  smart\n",
              "3     1003   23        NaN  ...   Белякова  2018-08-17  ultra\n",
              "4     1004   68        NaN  ...   Авдеенко  2018-05-14  ultra\n",
              "\n",
              "[5 rows x 8 columns]"
            ]
          },
          "metadata": {
            "tags": []
          },
          "execution_count": 10
        }
      ]
    },
    {
      "cell_type": "markdown",
      "metadata": {
        "id": "QIjQODOfGVJq"
      },
      "source": [
        "<a id='analysis_output'></a>\n",
        "## Вывод"
      ]
    },
    {
      "cell_type": "markdown",
      "metadata": {
        "id": "FS7hak08GVJq"
      },
      "source": [
        "\n",
        "    \n",
        "1. Таблица calls - Пропусков нет, но есть нудлевые значения в стлбце duration.\n",
        "\n",
        "    * call_date - првести в типу время\n",
        " \n",
        "    * duration - округлить в большую сторону\n",
        "\n",
        "\n",
        "2. internet - пустых значений нет, есть столбец Unnamed: 0 в описании к проекту его нет.\n",
        " \n",
        "    * session_date - привести к типу дата.\n",
        "\n",
        "    * mb_used - округлить в большую сторону. проверить нулевые значения.  \n",
        "\n",
        "\n",
        "3. messages - пропусков нет.\n",
        "\n",
        "    * message_date - привести к типу дата.\n",
        "    \n",
        "\n",
        "4. tariffs - пропусков нет, нулевых значений нет.\n",
        "\n",
        "\n",
        "5. users - пропусков нет. есть значения NaN\n",
        "\n",
        "    * проверить поле churn_date. \n",
        " \n",
        "    * reg_date - привести к типу дата\n",
        " \n"
      ]
    },
    {
      "cell_type": "markdown",
      "metadata": {
        "id": "keHiDQqQGVJq"
      },
      "source": [
        "<a id='предобработка'></a>\n",
        "\n",
        "# 2. Предобработка."
      ]
    },
    {
      "cell_type": "markdown",
      "metadata": {
        "id": "CsKBR91WGVJr"
      },
      "source": [
        "<a id='change_data'></a>\n",
        "### Проверка типов данных"
      ]
    },
    {
      "cell_type": "code",
      "metadata": {
        "id": "6eaR6mpHGVJr"
      },
      "source": [
        "calls.call_date = pd.to_datetime(calls.call_date,format='%Y-%m-%d')\n",
        "\n",
        "internet.session_date = pd.to_datetime(internet.session_date,format='%Y-%m-%d')\n",
        "\n",
        "users.reg_date = pd.to_datetime(users.reg_date,format='%Y-%m-%d')\n",
        "\n",
        "messages.message_date = pd.to_datetime(messages.message_date,format='%Y-%m-%d') "
      ],
      "execution_count": 11,
      "outputs": []
    },
    {
      "cell_type": "markdown",
      "metadata": {
        "id": "U3jHhmrlGVJr"
      },
      "source": [
        "<a id='NaN_zero'></a>\n",
        "### Работа с пропусками\n"
      ]
    },
    {
      "cell_type": "markdown",
      "metadata": {
        "id": "lXbLLz_uGVJr"
      },
      "source": [
        "<a id='calls'></a>\n"
      ]
    },
    {
      "cell_type": "code",
      "metadata": {
        "colab": {
          "base_uri": "https://localhost:8080/",
          "height": 298
        },
        "id": "qcIwX85eGVJr",
        "outputId": "ed9ef2a9-8e2a-4706-c97a-31dab7743f02"
      },
      "source": [
        "# Посмотрим на гистограмму по звонкам.\n",
        "calls.duration.hist(bins=40)\n",
        "\n",
        "# Большой пик на нуле, посмотрим сколько таких строк\n",
        "plt.title('продолжительность звонков')\n",
        "\n"
      ],
      "execution_count": 12,
      "outputs": [
        {
          "output_type": "execute_result",
          "data": {
            "text/plain": [
              "Text(0.5, 1.0, 'продолжительность звонков')"
            ]
          },
          "metadata": {
            "tags": []
          },
          "execution_count": 12
        },
        {
          "output_type": "display_data",
          "data": {
            "image/png": "[encoded data removed]",
            "text/plain": [
              "<Figure size 432x288 with 1 Axes>"
            ]
          },
          "metadata": {
            "tags": [],
            "needs_background": "light"
          }
        }
      ]
    },
    {
      "cell_type": "code",
      "metadata": {
        "id": "kyfUy2lnOCpE"
      },
      "source": [
        "#Округлим до целого в большую сторону, согласно условиям тарификации.\r\n",
        "calls.duration = calls.duration.apply(math.ceil)"
      ],
      "execution_count": 13,
      "outputs": []
    },
    {
      "cell_type": "code",
      "metadata": {
        "colab": {
          "base_uri": "https://localhost:8080/",
          "height": 419
        },
        "id": "0OVl9gB0GVJs",
        "outputId": "b7e7d414-07f4-4712-9aad-d9c28d8d49a1"
      },
      "source": [
        "calls"
      ],
      "execution_count": 14,
      "outputs": [
        {
          "output_type": "execute_result",
          "data": {
            "text/html": [
              "<div>\n",
              "<style scoped>\n",
              "    .dataframe tbody tr th:only-of-type {\n",
              "        vertical-align: middle;\n",
              "    }\n",
              "\n",
              "    .dataframe tbody tr th {\n",
              "        vertical-align: top;\n",
              "    }\n",
              "\n",
              "    .dataframe thead th {\n",
              "        text-align: right;\n",
              "    }\n",
              "</style>\n",
              "<table border=\"1\" class=\"dataframe\">\n",
              "  <thead>\n",
              "    <tr style=\"text-align: right;\">\n",
              "      <th></th>\n",
              "      <th>id</th>\n",
              "      <th>call_date</th>\n",
              "      <th>duration</th>\n",
              "      <th>user_id</th>\n",
              "    </tr>\n",
              "  </thead>\n",
              "  <tbody>\n",
              "    <tr>\n",
              "      <th>0</th>\n",
              "      <td>1000_0</td>\n",
              "      <td>2018-07-25</td>\n",
              "      <td>0</td>\n",
              "      <td>1000</td>\n",
              "    </tr>\n",
              "    <tr>\n",
              "      <th>1</th>\n",
              "      <td>1000_1</td>\n",
              "      <td>2018-08-17</td>\n",
              "      <td>0</td>\n",
              "      <td>1000</td>\n",
              "    </tr>\n",
              "    <tr>\n",
              "      <th>2</th>\n",
              "      <td>1000_2</td>\n",
              "      <td>2018-06-11</td>\n",
              "      <td>3</td>\n",
              "      <td>1000</td>\n",
              "    </tr>\n",
              "    <tr>\n",
              "      <th>3</th>\n",
              "      <td>1000_3</td>\n",
              "      <td>2018-09-21</td>\n",
              "      <td>14</td>\n",
              "      <td>1000</td>\n",
              "    </tr>\n",
              "    <tr>\n",
              "      <th>4</th>\n",
              "      <td>1000_4</td>\n",
              "      <td>2018-12-15</td>\n",
              "      <td>6</td>\n",
              "      <td>1000</td>\n",
              "    </tr>\n",
              "    <tr>\n",
              "      <th>...</th>\n",
              "      <td>...</td>\n",
              "      <td>...</td>\n",
              "      <td>...</td>\n",
              "      <td>...</td>\n",
              "    </tr>\n",
              "    <tr>\n",
              "      <th>202602</th>\n",
              "      <td>1499_215</td>\n",
              "      <td>2018-12-26</td>\n",
              "      <td>1</td>\n",
              "      <td>1499</td>\n",
              "    </tr>\n",
              "    <tr>\n",
              "      <th>202603</th>\n",
              "      <td>1499_216</td>\n",
              "      <td>2018-10-18</td>\n",
              "      <td>19</td>\n",
              "      <td>1499</td>\n",
              "    </tr>\n",
              "    <tr>\n",
              "      <th>202604</th>\n",
              "      <td>1499_217</td>\n",
              "      <td>2018-11-10</td>\n",
              "      <td>11</td>\n",
              "      <td>1499</td>\n",
              "    </tr>\n",
              "    <tr>\n",
              "      <th>202605</th>\n",
              "      <td>1499_218</td>\n",
              "      <td>2018-10-06</td>\n",
              "      <td>5</td>\n",
              "      <td>1499</td>\n",
              "    </tr>\n",
              "    <tr>\n",
              "      <th>202606</th>\n",
              "      <td>1499_219</td>\n",
              "      <td>2018-12-14</td>\n",
              "      <td>20</td>\n",
              "      <td>1499</td>\n",
              "    </tr>\n",
              "  </tbody>\n",
              "</table>\n",
              "<p>202607 rows × 4 columns</p>\n",
              "</div>"
            ],
            "text/plain": [
              "              id  call_date  duration  user_id\n",
              "0         1000_0 2018-07-25         0     1000\n",
              "1         1000_1 2018-08-17         0     1000\n",
              "2         1000_2 2018-06-11         3     1000\n",
              "3         1000_3 2018-09-21        14     1000\n",
              "4         1000_4 2018-12-15         6     1000\n",
              "...          ...        ...       ...      ...\n",
              "202602  1499_215 2018-12-26         1     1499\n",
              "202603  1499_216 2018-10-18        19     1499\n",
              "202604  1499_217 2018-11-10        11     1499\n",
              "202605  1499_218 2018-10-06         5     1499\n",
              "202606  1499_219 2018-12-14        20     1499\n",
              "\n",
              "[202607 rows x 4 columns]"
            ]
          },
          "metadata": {
            "tags": []
          },
          "execution_count": 14
        }
      ]
    },
    {
      "cell_type": "markdown",
      "metadata": {
        "id": "bpUERQtCGVJs"
      },
      "source": [
        "<a id='internet_df'></a>\n"
      ]
    },
    {
      "cell_type": "code",
      "metadata": {
        "colab": {
          "base_uri": "https://localhost:8080/"
        },
        "id": "CC6a1ZTkGVJs",
        "outputId": "485ae0ab-41c5-4d5f-f5b0-c1ef8547fe32"
      },
      "source": [
        "\n",
        "#избавимся от ненужного столбца и округлим значения в большую сторону\n",
        "internet = internet.loc[:,['id','mb_used','session_date','user_id']] \n",
        "internet.mb_used = internet.mb_used.apply(math.ceil)\n",
        "\n",
        "#посчитаем кол-во нулевых значений.\n",
        "print('количество нулевых значений',len(internet.loc[internet.mb_used == 0]))\n",
        "#Удалим нулевые ссесси\n",
        "internet=internet.query('mb_used!=0')\n",
        "print('количество нулевых значений',len(internet.loc[internet.mb_used == 0]))"
      ],
      "execution_count": 15,
      "outputs": [
        {
          "output_type": "stream",
          "text": [
            "количество нулевых значений 19598\n",
            "количество нулевых значений 0\n"
          ],
          "name": "stdout"
        }
      ]
    },
    {
      "cell_type": "code",
      "metadata": {
        "colab": {
          "base_uri": "https://localhost:8080/",
          "height": 614
        },
        "id": "U3OHcp2PGVJt",
        "outputId": "b4d2cda3-5f0e-42e5-dd03-891fb2519cd7"
      },
      "source": [
        "users.info()\n",
        "users.head(10)"
      ],
      "execution_count": 16,
      "outputs": [
        {
          "output_type": "stream",
          "text": [
            "<class 'pandas.core.frame.DataFrame'>\n",
            "RangeIndex: 500 entries, 0 to 499\n",
            "Data columns (total 8 columns):\n",
            " #   Column      Non-Null Count  Dtype         \n",
            "---  ------      --------------  -----         \n",
            " 0   user_id     500 non-null    int64         \n",
            " 1   age         500 non-null    int64         \n",
            " 2   churn_date  38 non-null     object        \n",
            " 3   city        500 non-null    object        \n",
            " 4   first_name  500 non-null    object        \n",
            " 5   last_name   500 non-null    object        \n",
            " 6   reg_date    500 non-null    datetime64[ns]\n",
            " 7   tariff      500 non-null    object        \n",
            "dtypes: datetime64[ns](1), int64(2), object(5)\n",
            "memory usage: 31.4+ KB\n"
          ],
          "name": "stdout"
        },
        {
          "output_type": "execute_result",
          "data": {
            "text/html": [
              "<div>\n",
              "<style scoped>\n",
              "    .dataframe tbody tr th:only-of-type {\n",
              "        vertical-align: middle;\n",
              "    }\n",
              "\n",
              "    .dataframe tbody tr th {\n",
              "        vertical-align: top;\n",
              "    }\n",
              "\n",
              "    .dataframe thead th {\n",
              "        text-align: right;\n",
              "    }\n",
              "</style>\n",
              "<table border=\"1\" class=\"dataframe\">\n",
              "  <thead>\n",
              "    <tr style=\"text-align: right;\">\n",
              "      <th></th>\n",
              "      <th>user_id</th>\n",
              "      <th>age</th>\n",
              "      <th>churn_date</th>\n",
              "      <th>city</th>\n",
              "      <th>first_name</th>\n",
              "      <th>last_name</th>\n",
              "      <th>reg_date</th>\n",
              "      <th>tariff</th>\n",
              "    </tr>\n",
              "  </thead>\n",
              "  <tbody>\n",
              "    <tr>\n",
              "      <th>0</th>\n",
              "      <td>1000</td>\n",
              "      <td>52</td>\n",
              "      <td>NaN</td>\n",
              "      <td>Краснодар</td>\n",
              "      <td>Рафаил</td>\n",
              "      <td>Верещагин</td>\n",
              "      <td>2018-05-25</td>\n",
              "      <td>ultra</td>\n",
              "    </tr>\n",
              "    <tr>\n",
              "      <th>1</th>\n",
              "      <td>1001</td>\n",
              "      <td>41</td>\n",
              "      <td>NaN</td>\n",
              "      <td>Москва</td>\n",
              "      <td>Иван</td>\n",
              "      <td>Ежов</td>\n",
              "      <td>2018-11-01</td>\n",
              "      <td>smart</td>\n",
              "    </tr>\n",
              "    <tr>\n",
              "      <th>2</th>\n",
              "      <td>1002</td>\n",
              "      <td>59</td>\n",
              "      <td>NaN</td>\n",
              "      <td>Стерлитамак</td>\n",
              "      <td>Евгений</td>\n",
              "      <td>Абрамович</td>\n",
              "      <td>2018-06-17</td>\n",
              "      <td>smart</td>\n",
              "    </tr>\n",
              "    <tr>\n",
              "      <th>3</th>\n",
              "      <td>1003</td>\n",
              "      <td>23</td>\n",
              "      <td>NaN</td>\n",
              "      <td>Москва</td>\n",
              "      <td>Белла</td>\n",
              "      <td>Белякова</td>\n",
              "      <td>2018-08-17</td>\n",
              "      <td>ultra</td>\n",
              "    </tr>\n",
              "    <tr>\n",
              "      <th>4</th>\n",
              "      <td>1004</td>\n",
              "      <td>68</td>\n",
              "      <td>NaN</td>\n",
              "      <td>Новокузнецк</td>\n",
              "      <td>Татьяна</td>\n",
              "      <td>Авдеенко</td>\n",
              "      <td>2018-05-14</td>\n",
              "      <td>ultra</td>\n",
              "    </tr>\n",
              "    <tr>\n",
              "      <th>5</th>\n",
              "      <td>1005</td>\n",
              "      <td>67</td>\n",
              "      <td>NaN</td>\n",
              "      <td>Набережные Челны</td>\n",
              "      <td>Афанасий</td>\n",
              "      <td>Горлов</td>\n",
              "      <td>2018-01-25</td>\n",
              "      <td>smart</td>\n",
              "    </tr>\n",
              "    <tr>\n",
              "      <th>6</th>\n",
              "      <td>1006</td>\n",
              "      <td>21</td>\n",
              "      <td>NaN</td>\n",
              "      <td>Ульяновск</td>\n",
              "      <td>Леонид</td>\n",
              "      <td>Ермолаев</td>\n",
              "      <td>2018-02-26</td>\n",
              "      <td>smart</td>\n",
              "    </tr>\n",
              "    <tr>\n",
              "      <th>7</th>\n",
              "      <td>1007</td>\n",
              "      <td>65</td>\n",
              "      <td>NaN</td>\n",
              "      <td>Москва</td>\n",
              "      <td>Юна</td>\n",
              "      <td>Березина</td>\n",
              "      <td>2018-04-19</td>\n",
              "      <td>smart</td>\n",
              "    </tr>\n",
              "    <tr>\n",
              "      <th>8</th>\n",
              "      <td>1008</td>\n",
              "      <td>63</td>\n",
              "      <td>NaN</td>\n",
              "      <td>Челябинск</td>\n",
              "      <td>Рустэм</td>\n",
              "      <td>Пономарёв</td>\n",
              "      <td>2018-12-19</td>\n",
              "      <td>smart</td>\n",
              "    </tr>\n",
              "    <tr>\n",
              "      <th>9</th>\n",
              "      <td>1009</td>\n",
              "      <td>24</td>\n",
              "      <td>NaN</td>\n",
              "      <td>Пермь</td>\n",
              "      <td>Василиса</td>\n",
              "      <td>Блинова</td>\n",
              "      <td>2018-03-22</td>\n",
              "      <td>smart</td>\n",
              "    </tr>\n",
              "  </tbody>\n",
              "</table>\n",
              "</div>"
            ],
            "text/plain": [
              "   user_id  age churn_date  ...  last_name   reg_date tariff\n",
              "0     1000   52        NaN  ...  Верещагин 2018-05-25  ultra\n",
              "1     1001   41        NaN  ...       Ежов 2018-11-01  smart\n",
              "2     1002   59        NaN  ...  Абрамович 2018-06-17  smart\n",
              "3     1003   23        NaN  ...   Белякова 2018-08-17  ultra\n",
              "4     1004   68        NaN  ...   Авдеенко 2018-05-14  ultra\n",
              "5     1005   67        NaN  ...     Горлов 2018-01-25  smart\n",
              "6     1006   21        NaN  ...   Ермолаев 2018-02-26  smart\n",
              "7     1007   65        NaN  ...   Березина 2018-04-19  smart\n",
              "8     1008   63        NaN  ...  Пономарёв 2018-12-19  smart\n",
              "9     1009   24        NaN  ...    Блинова 2018-03-22  smart\n",
              "\n",
              "[10 rows x 8 columns]"
            ]
          },
          "metadata": {
            "tags": []
          },
          "execution_count": 16
        }
      ]
    },
    {
      "cell_type": "markdown",
      "metadata": {
        "id": "dmkUzS_YGVJt"
      },
      "source": [
        "<a id = 'duble'></a>\n",
        "### Поиск дубликатов\n"
      ]
    },
    {
      "cell_type": "code",
      "metadata": {
        "colab": {
          "base_uri": "https://localhost:8080/"
        },
        "id": "ZhfX3sXcGVJt",
        "outputId": "86001b11-3f0c-4fba-e9b7-45e71f99b558"
      },
      "source": [
        "internet.duplicated().sum()\n",
        "calls.duplicated().sum()\n",
        "users.duplicated().sum()"
      ],
      "execution_count": 17,
      "outputs": [
        {
          "output_type": "execute_result",
          "data": {
            "text/plain": [
              "0"
            ]
          },
          "metadata": {
            "tags": []
          },
          "execution_count": 17
        }
      ]
    },
    {
      "cell_type": "markdown",
      "metadata": {
        "id": "2j_xRe8pGVJt"
      },
      "source": [
        "<a id='output_preparation'></a>\n",
        "## Вывод"
      ]
    },
    {
      "cell_type": "markdown",
      "metadata": {
        "id": "zALXNcYQGVJu"
      },
      "source": [
        "1. Звонки и интернет\n",
        "\n",
        "В таблице есть нулевые значения и их достаточно много. Удалять или заменять их не стоит, они нужны. Звонок с нулевой продолжительностью тоже звнок, он влияет на понимание общего количества совершеных звонков, но не влияет на общую продолжительность.\n",
        "\n",
        "\n",
        "2. Интернет\n",
        "\n",
        "В таблице есть нулевые значения и их достаточно много. Удалять нет смысла, на объем трафика они не влияют. В отличие от звонков, нулевая интернет сессия может указывать на проблемы с прохождением трафика, эту информацию нужно отдельно изучать. В рамках текущих вопросов эти данные не искажают представление о среднем пользовательском трафике \n",
        "\n",
        "3. Users, tariffs, messages. Артефактов не замечено. Из всех таблиц только в users столбец churn_date был с NaN, но он  не несет никакой ценности для нас, поэтому значения NaN остались в таблице. \n",
        "\n",
        "\n",
        "\n",
        "Были приведены к типу дата.\n",
        "\n",
        "calls.call_date internet.session_date users.reg_date messages.message_date - \n",
        "\n",
        "Дубликатов не обнаружено.\n",
        "\n"
      ]
    },
    {
      "cell_type": "markdown",
      "metadata": {
        "id": "RluJ0rzzGVJu"
      },
      "source": [
        "\n",
        "<a id=\"Подсчет\"></a>\n",
        "\n",
        "\n",
        "# 3. Подсчет-данных."
      ]
    },
    {
      "cell_type": "markdown",
      "metadata": {
        "id": "r53jBWNEGVJu"
      },
      "source": [
        "<a id='звонки'> </a>\n",
        "### 3.1 количество сделанных звонков и израсходованных минут разговора по месяцам\n",
        "\n",
        "    "
      ]
    },
    {
      "cell_type": "code",
      "metadata": {
        "id": "-TaFvIh2GVJu"
      },
      "source": [
        ""
      ],
      "execution_count": 17,
      "outputs": []
    },
    {
      "cell_type": "code",
      "metadata": {
        "colab": {
          "base_uri": "https://localhost:8080/",
          "height": 504
        },
        "id": "8_X9hdgbGVJv",
        "outputId": "0b3324d4-945e-4693-e485-206e375ee958"
      },
      "source": [
        "# Для подсчета возьмем датафрейм calls и добавим столбец с месяцем.\n",
        "calls['month'] = calls.call_date.dt.month\n",
        "# сгруппируем по пользователям, месяцам и посчитаем общую продолжительность звонков\n",
        "# и их количество\n",
        "\n",
        "calls.groupby(['user_id','month'])['duration','id'].agg({'id':'count','duration':'sum'})\n"
      ],
      "execution_count": 18,
      "outputs": [
        {
          "output_type": "stream",
          "text": [
            "/usr/local/lib/python3.7/dist-packages/ipykernel_launcher.py:6: FutureWarning: Indexing with multiple keys (implicitly converted to a tuple of keys) will be deprecated, use a list instead.\n",
            "  \n"
          ],
          "name": "stderr"
        },
        {
          "output_type": "execute_result",
          "data": {
            "text/html": [
              "<div>\n",
              "<style scoped>\n",
              "    .dataframe tbody tr th:only-of-type {\n",
              "        vertical-align: middle;\n",
              "    }\n",
              "\n",
              "    .dataframe tbody tr th {\n",
              "        vertical-align: top;\n",
              "    }\n",
              "\n",
              "    .dataframe thead th {\n",
              "        text-align: right;\n",
              "    }\n",
              "</style>\n",
              "<table border=\"1\" class=\"dataframe\">\n",
              "  <thead>\n",
              "    <tr style=\"text-align: right;\">\n",
              "      <th></th>\n",
              "      <th></th>\n",
              "      <th>id</th>\n",
              "      <th>duration</th>\n",
              "    </tr>\n",
              "    <tr>\n",
              "      <th>user_id</th>\n",
              "      <th>month</th>\n",
              "      <th></th>\n",
              "      <th></th>\n",
              "    </tr>\n",
              "  </thead>\n",
              "  <tbody>\n",
              "    <tr>\n",
              "      <th rowspan=\"5\" valign=\"top\">1000</th>\n",
              "      <th>5</th>\n",
              "      <td>22</td>\n",
              "      <td>159</td>\n",
              "    </tr>\n",
              "    <tr>\n",
              "      <th>6</th>\n",
              "      <td>43</td>\n",
              "      <td>172</td>\n",
              "    </tr>\n",
              "    <tr>\n",
              "      <th>7</th>\n",
              "      <td>47</td>\n",
              "      <td>340</td>\n",
              "    </tr>\n",
              "    <tr>\n",
              "      <th>8</th>\n",
              "      <td>52</td>\n",
              "      <td>408</td>\n",
              "    </tr>\n",
              "    <tr>\n",
              "      <th>9</th>\n",
              "      <td>58</td>\n",
              "      <td>466</td>\n",
              "    </tr>\n",
              "    <tr>\n",
              "      <th>...</th>\n",
              "      <th>...</th>\n",
              "      <td>...</td>\n",
              "      <td>...</td>\n",
              "    </tr>\n",
              "    <tr>\n",
              "      <th>1498</th>\n",
              "      <th>10</th>\n",
              "      <td>41</td>\n",
              "      <td>247</td>\n",
              "    </tr>\n",
              "    <tr>\n",
              "      <th rowspan=\"4\" valign=\"top\">1499</th>\n",
              "      <th>9</th>\n",
              "      <td>9</td>\n",
              "      <td>70</td>\n",
              "    </tr>\n",
              "    <tr>\n",
              "      <th>10</th>\n",
              "      <td>68</td>\n",
              "      <td>449</td>\n",
              "    </tr>\n",
              "    <tr>\n",
              "      <th>11</th>\n",
              "      <td>74</td>\n",
              "      <td>612</td>\n",
              "    </tr>\n",
              "    <tr>\n",
              "      <th>12</th>\n",
              "      <td>69</td>\n",
              "      <td>492</td>\n",
              "    </tr>\n",
              "  </tbody>\n",
              "</table>\n",
              "<p>3174 rows × 2 columns</p>\n",
              "</div>"
            ],
            "text/plain": [
              "               id  duration\n",
              "user_id month              \n",
              "1000    5      22       159\n",
              "        6      43       172\n",
              "        7      47       340\n",
              "        8      52       408\n",
              "        9      58       466\n",
              "...            ..       ...\n",
              "1498    10     41       247\n",
              "1499    9       9        70\n",
              "        10     68       449\n",
              "        11     74       612\n",
              "        12     69       492\n",
              "\n",
              "[3174 rows x 2 columns]"
            ]
          },
          "metadata": {
            "tags": []
          },
          "execution_count": 18
        }
      ]
    },
    {
      "cell_type": "code",
      "metadata": {
        "id": "bkdTwz7AGVJv"
      },
      "source": [
        "#Теперь удалим нулевые звонки, дальше они нам не нужны\n",
        "calls = calls.query('duration!=0')\n"
      ],
      "execution_count": 19,
      "outputs": []
    },
    {
      "cell_type": "markdown",
      "metadata": {
        "id": "T1607FLuGVJv"
      },
      "source": [
        "<a id='message'> </a>\n",
        "### 3.2 количество отправленных сообщений по месяцам для каждого пользователя"
      ]
    },
    {
      "cell_type": "code",
      "metadata": {
        "colab": {
          "base_uri": "https://localhost:8080/",
          "height": 450
        },
        "id": "jMiepx5pGVJv",
        "outputId": "e044ae8f-5b5c-46f2-b690-d5e57788e93e"
      },
      "source": [
        "#Добавим столбец с месяцем отправки сообщшения\n",
        "messages['month'] = messages.message_date.dt.month\n",
        "messages.pivot_table(index='user_id',columns='month',aggfunc='count',values='id').fillna(0)\n"
      ],
      "execution_count": 20,
      "outputs": [
        {
          "output_type": "execute_result",
          "data": {
            "text/html": [
              "<div>\n",
              "<style scoped>\n",
              "    .dataframe tbody tr th:only-of-type {\n",
              "        vertical-align: middle;\n",
              "    }\n",
              "\n",
              "    .dataframe tbody tr th {\n",
              "        vertical-align: top;\n",
              "    }\n",
              "\n",
              "    .dataframe thead th {\n",
              "        text-align: right;\n",
              "    }\n",
              "</style>\n",
              "<table border=\"1\" class=\"dataframe\">\n",
              "  <thead>\n",
              "    <tr style=\"text-align: right;\">\n",
              "      <th>month</th>\n",
              "      <th>1</th>\n",
              "      <th>2</th>\n",
              "      <th>3</th>\n",
              "      <th>4</th>\n",
              "      <th>5</th>\n",
              "      <th>6</th>\n",
              "      <th>7</th>\n",
              "      <th>8</th>\n",
              "      <th>9</th>\n",
              "      <th>10</th>\n",
              "      <th>11</th>\n",
              "      <th>12</th>\n",
              "    </tr>\n",
              "    <tr>\n",
              "      <th>user_id</th>\n",
              "      <th></th>\n",
              "      <th></th>\n",
              "      <th></th>\n",
              "      <th></th>\n",
              "      <th></th>\n",
              "      <th></th>\n",
              "      <th></th>\n",
              "      <th></th>\n",
              "      <th></th>\n",
              "      <th></th>\n",
              "      <th></th>\n",
              "      <th></th>\n",
              "    </tr>\n",
              "  </thead>\n",
              "  <tbody>\n",
              "    <tr>\n",
              "      <th>1000</th>\n",
              "      <td>0.0</td>\n",
              "      <td>0.0</td>\n",
              "      <td>0.0</td>\n",
              "      <td>0.0</td>\n",
              "      <td>22.0</td>\n",
              "      <td>60.0</td>\n",
              "      <td>75.0</td>\n",
              "      <td>81.0</td>\n",
              "      <td>57.0</td>\n",
              "      <td>73.0</td>\n",
              "      <td>58.0</td>\n",
              "      <td>70.0</td>\n",
              "    </tr>\n",
              "    <tr>\n",
              "      <th>1002</th>\n",
              "      <td>0.0</td>\n",
              "      <td>0.0</td>\n",
              "      <td>0.0</td>\n",
              "      <td>0.0</td>\n",
              "      <td>0.0</td>\n",
              "      <td>4.0</td>\n",
              "      <td>11.0</td>\n",
              "      <td>13.0</td>\n",
              "      <td>4.0</td>\n",
              "      <td>10.0</td>\n",
              "      <td>16.0</td>\n",
              "      <td>12.0</td>\n",
              "    </tr>\n",
              "    <tr>\n",
              "      <th>1003</th>\n",
              "      <td>0.0</td>\n",
              "      <td>0.0</td>\n",
              "      <td>0.0</td>\n",
              "      <td>0.0</td>\n",
              "      <td>0.0</td>\n",
              "      <td>0.0</td>\n",
              "      <td>0.0</td>\n",
              "      <td>37.0</td>\n",
              "      <td>91.0</td>\n",
              "      <td>83.0</td>\n",
              "      <td>94.0</td>\n",
              "      <td>75.0</td>\n",
              "    </tr>\n",
              "    <tr>\n",
              "      <th>1004</th>\n",
              "      <td>0.0</td>\n",
              "      <td>0.0</td>\n",
              "      <td>0.0</td>\n",
              "      <td>0.0</td>\n",
              "      <td>95.0</td>\n",
              "      <td>134.0</td>\n",
              "      <td>181.0</td>\n",
              "      <td>151.0</td>\n",
              "      <td>146.0</td>\n",
              "      <td>165.0</td>\n",
              "      <td>158.0</td>\n",
              "      <td>162.0</td>\n",
              "    </tr>\n",
              "    <tr>\n",
              "      <th>1005</th>\n",
              "      <td>7.0</td>\n",
              "      <td>38.0</td>\n",
              "      <td>56.0</td>\n",
              "      <td>41.0</td>\n",
              "      <td>42.0</td>\n",
              "      <td>47.0</td>\n",
              "      <td>56.0</td>\n",
              "      <td>64.0</td>\n",
              "      <td>52.0</td>\n",
              "      <td>44.0</td>\n",
              "      <td>51.0</td>\n",
              "      <td>54.0</td>\n",
              "    </tr>\n",
              "    <tr>\n",
              "      <th>...</th>\n",
              "      <td>...</td>\n",
              "      <td>...</td>\n",
              "      <td>...</td>\n",
              "      <td>...</td>\n",
              "      <td>...</td>\n",
              "      <td>...</td>\n",
              "      <td>...</td>\n",
              "      <td>...</td>\n",
              "      <td>...</td>\n",
              "      <td>...</td>\n",
              "      <td>...</td>\n",
              "      <td>...</td>\n",
              "    </tr>\n",
              "    <tr>\n",
              "      <th>1495</th>\n",
              "      <td>0.0</td>\n",
              "      <td>0.0</td>\n",
              "      <td>0.0</td>\n",
              "      <td>0.0</td>\n",
              "      <td>0.0</td>\n",
              "      <td>0.0</td>\n",
              "      <td>0.0</td>\n",
              "      <td>13.0</td>\n",
              "      <td>82.0</td>\n",
              "      <td>82.0</td>\n",
              "      <td>79.0</td>\n",
              "      <td>84.0</td>\n",
              "    </tr>\n",
              "    <tr>\n",
              "      <th>1496</th>\n",
              "      <td>9.0</td>\n",
              "      <td>45.0</td>\n",
              "      <td>46.0</td>\n",
              "      <td>49.0</td>\n",
              "      <td>40.0</td>\n",
              "      <td>35.0</td>\n",
              "      <td>42.0</td>\n",
              "      <td>41.0</td>\n",
              "      <td>29.0</td>\n",
              "      <td>35.0</td>\n",
              "      <td>46.0</td>\n",
              "      <td>51.0</td>\n",
              "    </tr>\n",
              "    <tr>\n",
              "      <th>1497</th>\n",
              "      <td>0.0</td>\n",
              "      <td>0.0</td>\n",
              "      <td>0.0</td>\n",
              "      <td>0.0</td>\n",
              "      <td>0.0</td>\n",
              "      <td>0.0</td>\n",
              "      <td>0.0</td>\n",
              "      <td>0.0</td>\n",
              "      <td>0.0</td>\n",
              "      <td>20.0</td>\n",
              "      <td>14.0</td>\n",
              "      <td>17.0</td>\n",
              "    </tr>\n",
              "    <tr>\n",
              "      <th>1498</th>\n",
              "      <td>0.0</td>\n",
              "      <td>0.0</td>\n",
              "      <td>0.0</td>\n",
              "      <td>0.0</td>\n",
              "      <td>0.0</td>\n",
              "      <td>0.0</td>\n",
              "      <td>20.0</td>\n",
              "      <td>62.0</td>\n",
              "      <td>44.0</td>\n",
              "      <td>42.0</td>\n",
              "      <td>0.0</td>\n",
              "      <td>0.0</td>\n",
              "    </tr>\n",
              "    <tr>\n",
              "      <th>1499</th>\n",
              "      <td>0.0</td>\n",
              "      <td>0.0</td>\n",
              "      <td>0.0</td>\n",
              "      <td>0.0</td>\n",
              "      <td>0.0</td>\n",
              "      <td>0.0</td>\n",
              "      <td>0.0</td>\n",
              "      <td>0.0</td>\n",
              "      <td>11.0</td>\n",
              "      <td>48.0</td>\n",
              "      <td>59.0</td>\n",
              "      <td>66.0</td>\n",
              "    </tr>\n",
              "  </tbody>\n",
              "</table>\n",
              "<p>426 rows × 12 columns</p>\n",
              "</div>"
            ],
            "text/plain": [
              "month     1     2     3     4     5   ...     8      9      10     11     12\n",
              "user_id                               ...                                   \n",
              "1000     0.0   0.0   0.0   0.0  22.0  ...   81.0   57.0   73.0   58.0   70.0\n",
              "1002     0.0   0.0   0.0   0.0   0.0  ...   13.0    4.0   10.0   16.0   12.0\n",
              "1003     0.0   0.0   0.0   0.0   0.0  ...   37.0   91.0   83.0   94.0   75.0\n",
              "1004     0.0   0.0   0.0   0.0  95.0  ...  151.0  146.0  165.0  158.0  162.0\n",
              "1005     7.0  38.0  56.0  41.0  42.0  ...   64.0   52.0   44.0   51.0   54.0\n",
              "...      ...   ...   ...   ...   ...  ...    ...    ...    ...    ...    ...\n",
              "1495     0.0   0.0   0.0   0.0   0.0  ...   13.0   82.0   82.0   79.0   84.0\n",
              "1496     9.0  45.0  46.0  49.0  40.0  ...   41.0   29.0   35.0   46.0   51.0\n",
              "1497     0.0   0.0   0.0   0.0   0.0  ...    0.0    0.0   20.0   14.0   17.0\n",
              "1498     0.0   0.0   0.0   0.0   0.0  ...   62.0   44.0   42.0    0.0    0.0\n",
              "1499     0.0   0.0   0.0   0.0   0.0  ...    0.0   11.0   48.0   59.0   66.0\n",
              "\n",
              "[426 rows x 12 columns]"
            ]
          },
          "metadata": {
            "tags": []
          },
          "execution_count": 20
        }
      ]
    },
    {
      "cell_type": "markdown",
      "metadata": {
        "id": "QWDnc1SmGVJv"
      },
      "source": [
        "<a id='#internet'> </a>\n",
        "### 3.3 Объем израсходованного интернет-трафика по месяцам"
      ]
    },
    {
      "cell_type": "code",
      "metadata": {
        "colab": {
          "base_uri": "https://localhost:8080/",
          "height": 450
        },
        "id": "Oway4wMGGVJw",
        "outputId": "54f8aa75-5601-447a-c27e-7df015ae8560"
      },
      "source": [
        "internet['month'] = internet.session_date.dt.month\n",
        "internet.pivot_table(index='user_id',columns='month',aggfunc='sum',values='mb_used').fillna(0)\n"
      ],
      "execution_count": 21,
      "outputs": [
        {
          "output_type": "execute_result",
          "data": {
            "text/html": [
              "<div>\n",
              "<style scoped>\n",
              "    .dataframe tbody tr th:only-of-type {\n",
              "        vertical-align: middle;\n",
              "    }\n",
              "\n",
              "    .dataframe tbody tr th {\n",
              "        vertical-align: top;\n",
              "    }\n",
              "\n",
              "    .dataframe thead th {\n",
              "        text-align: right;\n",
              "    }\n",
              "</style>\n",
              "<table border=\"1\" class=\"dataframe\">\n",
              "  <thead>\n",
              "    <tr style=\"text-align: right;\">\n",
              "      <th>month</th>\n",
              "      <th>1</th>\n",
              "      <th>2</th>\n",
              "      <th>3</th>\n",
              "      <th>4</th>\n",
              "      <th>5</th>\n",
              "      <th>6</th>\n",
              "      <th>7</th>\n",
              "      <th>8</th>\n",
              "      <th>9</th>\n",
              "      <th>10</th>\n",
              "      <th>11</th>\n",
              "      <th>12</th>\n",
              "    </tr>\n",
              "    <tr>\n",
              "      <th>user_id</th>\n",
              "      <th></th>\n",
              "      <th></th>\n",
              "      <th></th>\n",
              "      <th></th>\n",
              "      <th></th>\n",
              "      <th></th>\n",
              "      <th></th>\n",
              "      <th></th>\n",
              "      <th></th>\n",
              "      <th></th>\n",
              "      <th></th>\n",
              "      <th></th>\n",
              "    </tr>\n",
              "  </thead>\n",
              "  <tbody>\n",
              "    <tr>\n",
              "      <th>1000</th>\n",
              "      <td>0.0</td>\n",
              "      <td>0.0</td>\n",
              "      <td>0.0</td>\n",
              "      <td>0.0</td>\n",
              "      <td>2256.0</td>\n",
              "      <td>23257.0</td>\n",
              "      <td>14016.0</td>\n",
              "      <td>14070.0</td>\n",
              "      <td>14581.0</td>\n",
              "      <td>14717.0</td>\n",
              "      <td>14768.0</td>\n",
              "      <td>9827.0</td>\n",
              "    </tr>\n",
              "    <tr>\n",
              "      <th>1001</th>\n",
              "      <td>0.0</td>\n",
              "      <td>0.0</td>\n",
              "      <td>0.0</td>\n",
              "      <td>0.0</td>\n",
              "      <td>0.0</td>\n",
              "      <td>0.0</td>\n",
              "      <td>0.0</td>\n",
              "      <td>0.0</td>\n",
              "      <td>0.0</td>\n",
              "      <td>0.0</td>\n",
              "      <td>18452.0</td>\n",
              "      <td>14053.0</td>\n",
              "    </tr>\n",
              "    <tr>\n",
              "      <th>1002</th>\n",
              "      <td>0.0</td>\n",
              "      <td>0.0</td>\n",
              "      <td>0.0</td>\n",
              "      <td>0.0</td>\n",
              "      <td>0.0</td>\n",
              "      <td>10871.0</td>\n",
              "      <td>17601.0</td>\n",
              "      <td>20347.0</td>\n",
              "      <td>16712.0</td>\n",
              "      <td>13905.0</td>\n",
              "      <td>18610.0</td>\n",
              "      <td>18137.0</td>\n",
              "    </tr>\n",
              "    <tr>\n",
              "      <th>1003</th>\n",
              "      <td>0.0</td>\n",
              "      <td>0.0</td>\n",
              "      <td>0.0</td>\n",
              "      <td>0.0</td>\n",
              "      <td>0.0</td>\n",
              "      <td>0.0</td>\n",
              "      <td>0.0</td>\n",
              "      <td>8571.0</td>\n",
              "      <td>12479.0</td>\n",
              "      <td>14779.0</td>\n",
              "      <td>11368.0</td>\n",
              "      <td>10132.0</td>\n",
              "    </tr>\n",
              "    <tr>\n",
              "      <th>1004</th>\n",
              "      <td>0.0</td>\n",
              "      <td>0.0</td>\n",
              "      <td>0.0</td>\n",
              "      <td>0.0</td>\n",
              "      <td>13415.0</td>\n",
              "      <td>17619.0</td>\n",
              "      <td>22243.0</td>\n",
              "      <td>28607.0</td>\n",
              "      <td>15125.0</td>\n",
              "      <td>18494.0</td>\n",
              "      <td>15631.0</td>\n",
              "      <td>18038.0</td>\n",
              "    </tr>\n",
              "    <tr>\n",
              "      <th>...</th>\n",
              "      <td>...</td>\n",
              "      <td>...</td>\n",
              "      <td>...</td>\n",
              "      <td>...</td>\n",
              "      <td>...</td>\n",
              "      <td>...</td>\n",
              "      <td>...</td>\n",
              "      <td>...</td>\n",
              "      <td>...</td>\n",
              "      <td>...</td>\n",
              "      <td>...</td>\n",
              "      <td>...</td>\n",
              "    </tr>\n",
              "    <tr>\n",
              "      <th>1495</th>\n",
              "      <td>0.0</td>\n",
              "      <td>0.0</td>\n",
              "      <td>0.0</td>\n",
              "      <td>0.0</td>\n",
              "      <td>0.0</td>\n",
              "      <td>0.0</td>\n",
              "      <td>0.0</td>\n",
              "      <td>2616.0</td>\n",
              "      <td>33105.0</td>\n",
              "      <td>29393.0</td>\n",
              "      <td>38972.0</td>\n",
              "      <td>23450.0</td>\n",
              "    </tr>\n",
              "    <tr>\n",
              "      <th>1496</th>\n",
              "      <td>3766.0</td>\n",
              "      <td>28523.0</td>\n",
              "      <td>24990.0</td>\n",
              "      <td>21098.0</td>\n",
              "      <td>23740.0</td>\n",
              "      <td>20163.0</td>\n",
              "      <td>24395.0</td>\n",
              "      <td>23560.0</td>\n",
              "      <td>26970.0</td>\n",
              "      <td>28215.0</td>\n",
              "      <td>25092.0</td>\n",
              "      <td>20757.0</td>\n",
              "    </tr>\n",
              "    <tr>\n",
              "      <th>1497</th>\n",
              "      <td>0.0</td>\n",
              "      <td>0.0</td>\n",
              "      <td>0.0</td>\n",
              "      <td>0.0</td>\n",
              "      <td>0.0</td>\n",
              "      <td>0.0</td>\n",
              "      <td>0.0</td>\n",
              "      <td>0.0</td>\n",
              "      <td>0.0</td>\n",
              "      <td>11512.0</td>\n",
              "      <td>14174.0</td>\n",
              "      <td>19940.0</td>\n",
              "    </tr>\n",
              "    <tr>\n",
              "      <th>1498</th>\n",
              "      <td>0.0</td>\n",
              "      <td>0.0</td>\n",
              "      <td>0.0</td>\n",
              "      <td>0.0</td>\n",
              "      <td>0.0</td>\n",
              "      <td>0.0</td>\n",
              "      <td>7486.0</td>\n",
              "      <td>24270.0</td>\n",
              "      <td>22166.0</td>\n",
              "      <td>20604.0</td>\n",
              "      <td>0.0</td>\n",
              "      <td>0.0</td>\n",
              "    </tr>\n",
              "    <tr>\n",
              "      <th>1499</th>\n",
              "      <td>0.0</td>\n",
              "      <td>0.0</td>\n",
              "      <td>0.0</td>\n",
              "      <td>0.0</td>\n",
              "      <td>0.0</td>\n",
              "      <td>0.0</td>\n",
              "      <td>0.0</td>\n",
              "      <td>0.0</td>\n",
              "      <td>1848.0</td>\n",
              "      <td>17809.0</td>\n",
              "      <td>17984.0</td>\n",
              "      <td>13077.0</td>\n",
              "    </tr>\n",
              "  </tbody>\n",
              "</table>\n",
              "<p>497 rows × 12 columns</p>\n",
              "</div>"
            ],
            "text/plain": [
              "month        1        2        3        4   ...       9        10       11       12\n",
              "user_id                                     ...                                    \n",
              "1000        0.0      0.0      0.0      0.0  ...  14581.0  14717.0  14768.0   9827.0\n",
              "1001        0.0      0.0      0.0      0.0  ...      0.0      0.0  18452.0  14053.0\n",
              "1002        0.0      0.0      0.0      0.0  ...  16712.0  13905.0  18610.0  18137.0\n",
              "1003        0.0      0.0      0.0      0.0  ...  12479.0  14779.0  11368.0  10132.0\n",
              "1004        0.0      0.0      0.0      0.0  ...  15125.0  18494.0  15631.0  18038.0\n",
              "...         ...      ...      ...      ...  ...      ...      ...      ...      ...\n",
              "1495        0.0      0.0      0.0      0.0  ...  33105.0  29393.0  38972.0  23450.0\n",
              "1496     3766.0  28523.0  24990.0  21098.0  ...  26970.0  28215.0  25092.0  20757.0\n",
              "1497        0.0      0.0      0.0      0.0  ...      0.0  11512.0  14174.0  19940.0\n",
              "1498        0.0      0.0      0.0      0.0  ...  22166.0  20604.0      0.0      0.0\n",
              "1499        0.0      0.0      0.0      0.0  ...   1848.0  17809.0  17984.0  13077.0\n",
              "\n",
              "[497 rows x 12 columns]"
            ]
          },
          "metadata": {
            "tags": []
          },
          "execution_count": 21
        }
      ]
    },
    {
      "cell_type": "code",
      "metadata": {
        "colab": {
          "base_uri": "https://localhost:8080/",
          "height": 524
        },
        "id": "aFBHFohGGVJw",
        "outputId": "bfd8aea7-f825-4058-925f-87961290808d"
      },
      "source": [
        "# сводная таблица по звонкам\n",
        "user_month_calls = calls.groupby(['user_id','month']).agg({'id':'count','duration':'sum'})\n",
        "user_month_calls.columns=['count_calls','duration_calls']\n",
        "\n",
        "#Сводная таблица по сообщениям\n",
        "user_month_messages = messages.groupby(['user_id','month']).agg({'id':'count'})\n",
        "user_month_messages.columns=['count_messages'] \n",
        "\n",
        "#сводная таблица по трафику\n",
        "user_month_internet = internet.groupby(['user_id','month']).agg('sum')\n",
        "user_month_internet.columns=['mb_used']\n",
        "\n",
        "#Сведем все в одну таблицу\n",
        "\n",
        "calc_table = pd.merge(user_month_calls.reset_index(),user_month_messages.reset_index(),how='outer',on=['user_id','month'])\n",
        "\n",
        "calc_table=calc_table.merge(user_month_internet.reset_index(), how='outer',on=['user_id','month'])\n",
        "calc_table = pd.merge(calc_table, users[['user_id','tariff','city']],on='user_id',how='left')\n",
        "#заменим NaN нулями для удобсва в дальнейших расчетах.\n",
        "   \n",
        "calc_table = calc_table.merge(tariffs,left_on='tariff',right_on='tariff_name').fillna(0)\n",
        "calc_table\n",
        "#Получилас довольно большая таблица, но со всеми  данными."
      ],
      "execution_count": 22,
      "outputs": [
        {
          "output_type": "execute_result",
          "data": {
            "text/html": [
              "<div>\n",
              "<style scoped>\n",
              "    .dataframe tbody tr th:only-of-type {\n",
              "        vertical-align: middle;\n",
              "    }\n",
              "\n",
              "    .dataframe tbody tr th {\n",
              "        vertical-align: top;\n",
              "    }\n",
              "\n",
              "    .dataframe thead th {\n",
              "        text-align: right;\n",
              "    }\n",
              "</style>\n",
              "<table border=\"1\" class=\"dataframe\">\n",
              "  <thead>\n",
              "    <tr style=\"text-align: right;\">\n",
              "      <th></th>\n",
              "      <th>user_id</th>\n",
              "      <th>month</th>\n",
              "      <th>count_calls</th>\n",
              "      <th>duration_calls</th>\n",
              "      <th>count_messages</th>\n",
              "      <th>mb_used</th>\n",
              "      <th>tariff</th>\n",
              "      <th>city</th>\n",
              "      <th>messages_included</th>\n",
              "      <th>mb_per_month_included</th>\n",
              "      <th>minutes_included</th>\n",
              "      <th>rub_monthly_fee</th>\n",
              "      <th>rub_per_gb</th>\n",
              "      <th>rub_per_message</th>\n",
              "      <th>rub_per_minute</th>\n",
              "      <th>tariff_name</th>\n",
              "    </tr>\n",
              "  </thead>\n",
              "  <tbody>\n",
              "    <tr>\n",
              "      <th>0</th>\n",
              "      <td>1000</td>\n",
              "      <td>5</td>\n",
              "      <td>17.0</td>\n",
              "      <td>159.0</td>\n",
              "      <td>22.0</td>\n",
              "      <td>2256.0</td>\n",
              "      <td>ultra</td>\n",
              "      <td>Краснодар</td>\n",
              "      <td>1000</td>\n",
              "      <td>30720</td>\n",
              "      <td>3000</td>\n",
              "      <td>1950</td>\n",
              "      <td>150</td>\n",
              "      <td>1</td>\n",
              "      <td>1</td>\n",
              "      <td>ultra</td>\n",
              "    </tr>\n",
              "    <tr>\n",
              "      <th>1</th>\n",
              "      <td>1000</td>\n",
              "      <td>6</td>\n",
              "      <td>28.0</td>\n",
              "      <td>172.0</td>\n",
              "      <td>60.0</td>\n",
              "      <td>23257.0</td>\n",
              "      <td>ultra</td>\n",
              "      <td>Краснодар</td>\n",
              "      <td>1000</td>\n",
              "      <td>30720</td>\n",
              "      <td>3000</td>\n",
              "      <td>1950</td>\n",
              "      <td>150</td>\n",
              "      <td>1</td>\n",
              "      <td>1</td>\n",
              "      <td>ultra</td>\n",
              "    </tr>\n",
              "    <tr>\n",
              "      <th>2</th>\n",
              "      <td>1000</td>\n",
              "      <td>7</td>\n",
              "      <td>41.0</td>\n",
              "      <td>340.0</td>\n",
              "      <td>75.0</td>\n",
              "      <td>14016.0</td>\n",
              "      <td>ultra</td>\n",
              "      <td>Краснодар</td>\n",
              "      <td>1000</td>\n",
              "      <td>30720</td>\n",
              "      <td>3000</td>\n",
              "      <td>1950</td>\n",
              "      <td>150</td>\n",
              "      <td>1</td>\n",
              "      <td>1</td>\n",
              "      <td>ultra</td>\n",
              "    </tr>\n",
              "    <tr>\n",
              "      <th>3</th>\n",
              "      <td>1000</td>\n",
              "      <td>8</td>\n",
              "      <td>42.0</td>\n",
              "      <td>408.0</td>\n",
              "      <td>81.0</td>\n",
              "      <td>14070.0</td>\n",
              "      <td>ultra</td>\n",
              "      <td>Краснодар</td>\n",
              "      <td>1000</td>\n",
              "      <td>30720</td>\n",
              "      <td>3000</td>\n",
              "      <td>1950</td>\n",
              "      <td>150</td>\n",
              "      <td>1</td>\n",
              "      <td>1</td>\n",
              "      <td>ultra</td>\n",
              "    </tr>\n",
              "    <tr>\n",
              "      <th>4</th>\n",
              "      <td>1000</td>\n",
              "      <td>9</td>\n",
              "      <td>46.0</td>\n",
              "      <td>466.0</td>\n",
              "      <td>57.0</td>\n",
              "      <td>14581.0</td>\n",
              "      <td>ultra</td>\n",
              "      <td>Краснодар</td>\n",
              "      <td>1000</td>\n",
              "      <td>30720</td>\n",
              "      <td>3000</td>\n",
              "      <td>1950</td>\n",
              "      <td>150</td>\n",
              "      <td>1</td>\n",
              "      <td>1</td>\n",
              "      <td>ultra</td>\n",
              "    </tr>\n",
              "    <tr>\n",
              "      <th>...</th>\n",
              "      <td>...</td>\n",
              "      <td>...</td>\n",
              "      <td>...</td>\n",
              "      <td>...</td>\n",
              "      <td>...</td>\n",
              "      <td>...</td>\n",
              "      <td>...</td>\n",
              "      <td>...</td>\n",
              "      <td>...</td>\n",
              "      <td>...</td>\n",
              "      <td>...</td>\n",
              "      <td>...</td>\n",
              "      <td>...</td>\n",
              "      <td>...</td>\n",
              "      <td>...</td>\n",
              "      <td>...</td>\n",
              "    </tr>\n",
              "    <tr>\n",
              "      <th>3209</th>\n",
              "      <td>1489</td>\n",
              "      <td>8</td>\n",
              "      <td>0.0</td>\n",
              "      <td>0.0</td>\n",
              "      <td>17.0</td>\n",
              "      <td>11066.0</td>\n",
              "      <td>smart</td>\n",
              "      <td>Санкт-Петербург</td>\n",
              "      <td>50</td>\n",
              "      <td>15360</td>\n",
              "      <td>500</td>\n",
              "      <td>550</td>\n",
              "      <td>200</td>\n",
              "      <td>3</td>\n",
              "      <td>3</td>\n",
              "      <td>smart</td>\n",
              "    </tr>\n",
              "    <tr>\n",
              "      <th>3210</th>\n",
              "      <td>1489</td>\n",
              "      <td>9</td>\n",
              "      <td>0.0</td>\n",
              "      <td>0.0</td>\n",
              "      <td>32.0</td>\n",
              "      <td>17232.0</td>\n",
              "      <td>smart</td>\n",
              "      <td>Санкт-Петербург</td>\n",
              "      <td>50</td>\n",
              "      <td>15360</td>\n",
              "      <td>500</td>\n",
              "      <td>550</td>\n",
              "      <td>200</td>\n",
              "      <td>3</td>\n",
              "      <td>3</td>\n",
              "      <td>smart</td>\n",
              "    </tr>\n",
              "    <tr>\n",
              "      <th>3211</th>\n",
              "      <td>1489</td>\n",
              "      <td>10</td>\n",
              "      <td>0.0</td>\n",
              "      <td>0.0</td>\n",
              "      <td>21.0</td>\n",
              "      <td>19588.0</td>\n",
              "      <td>smart</td>\n",
              "      <td>Санкт-Петербург</td>\n",
              "      <td>50</td>\n",
              "      <td>15360</td>\n",
              "      <td>500</td>\n",
              "      <td>550</td>\n",
              "      <td>200</td>\n",
              "      <td>3</td>\n",
              "      <td>3</td>\n",
              "      <td>smart</td>\n",
              "    </tr>\n",
              "    <tr>\n",
              "      <th>3212</th>\n",
              "      <td>1489</td>\n",
              "      <td>11</td>\n",
              "      <td>0.0</td>\n",
              "      <td>0.0</td>\n",
              "      <td>20.0</td>\n",
              "      <td>17516.0</td>\n",
              "      <td>smart</td>\n",
              "      <td>Санкт-Петербург</td>\n",
              "      <td>50</td>\n",
              "      <td>15360</td>\n",
              "      <td>500</td>\n",
              "      <td>550</td>\n",
              "      <td>200</td>\n",
              "      <td>3</td>\n",
              "      <td>3</td>\n",
              "      <td>smart</td>\n",
              "    </tr>\n",
              "    <tr>\n",
              "      <th>3213</th>\n",
              "      <td>1489</td>\n",
              "      <td>12</td>\n",
              "      <td>0.0</td>\n",
              "      <td>0.0</td>\n",
              "      <td>35.0</td>\n",
              "      <td>17341.0</td>\n",
              "      <td>smart</td>\n",
              "      <td>Санкт-Петербург</td>\n",
              "      <td>50</td>\n",
              "      <td>15360</td>\n",
              "      <td>500</td>\n",
              "      <td>550</td>\n",
              "      <td>200</td>\n",
              "      <td>3</td>\n",
              "      <td>3</td>\n",
              "      <td>smart</td>\n",
              "    </tr>\n",
              "  </tbody>\n",
              "</table>\n",
              "<p>3214 rows × 16 columns</p>\n",
              "</div>"
            ],
            "text/plain": [
              "      user_id  month  count_calls  ...  rub_per_message  rub_per_minute  tariff_name\n",
              "0        1000      5         17.0  ...                1               1        ultra\n",
              "1        1000      6         28.0  ...                1               1        ultra\n",
              "2        1000      7         41.0  ...                1               1        ultra\n",
              "3        1000      8         42.0  ...                1               1        ultra\n",
              "4        1000      9         46.0  ...                1               1        ultra\n",
              "...       ...    ...          ...  ...              ...             ...          ...\n",
              "3209     1489      8          0.0  ...                3               3        smart\n",
              "3210     1489      9          0.0  ...                3               3        smart\n",
              "3211     1489     10          0.0  ...                3               3        smart\n",
              "3212     1489     11          0.0  ...                3               3        smart\n",
              "3213     1489     12          0.0  ...                3               3        smart\n",
              "\n",
              "[3214 rows x 16 columns]"
            ]
          },
          "metadata": {
            "tags": []
          },
          "execution_count": 22
        }
      ]
    },
    {
      "cell_type": "code",
      "metadata": {
        "colab": {
          "base_uri": "https://localhost:8080/",
          "height": 35
        },
        "id": "m3exgnlOGVJw",
        "outputId": "1fefa393-96a2-4a09-b2a8-35939ec09254"
      },
      "source": [
        "f'Количество пользователей: {calc_table.user_id.nunique()}'"
      ],
      "execution_count": 23,
      "outputs": [
        {
          "output_type": "execute_result",
          "data": {
            "application/vnd.google.colaboratory.intrinsic+json": {
              "type": "string"
            },
            "text/plain": [
              "'Количество пользователей: 498'"
            ]
          },
          "metadata": {
            "tags": []
          },
          "execution_count": 23
        }
      ]
    },
    {
      "cell_type": "code",
      "metadata": {
        "id": "aB9DY4LLGVJx"
      },
      "source": [
        "#расчет по звонкам.\n",
        "def over_price_call(row):\n",
        "    if row['duration_calls'] > row['minutes_included']:\n",
        "        over_price_call = (row['duration_calls']-row['minutes_included'])*row['rub_per_minute']\n",
        "    else: over_price_call = 0\n",
        "        \n",
        "    return over_price_call"
      ],
      "execution_count": 24,
      "outputs": []
    },
    {
      "cell_type": "code",
      "metadata": {
        "id": "0qQRpWYZO6h1"
      },
      "source": [
        "#расчет по интернет трафику.\r\n",
        "def over_price_internet(row):\r\n",
        "    if row['mb_used'] > row['mb_per_month_included']:\r\n",
        "        over_price_internet = ((row['mb_used']-row['mb_per_month_included'])/1000)*row['rub_per_gb']\r\n",
        "    else: over_price_internet = 0\r\n",
        "    return over_price_internet"
      ],
      "execution_count": 25,
      "outputs": []
    },
    {
      "cell_type": "code",
      "metadata": {
        "id": "SNgz_cL1O8g8"
      },
      "source": [
        "#расчет по сообщениям.\r\n",
        "def over_price_message(row):\r\n",
        "    if row['count_messages'] > row['messages_included']:\r\n",
        "        over_price_message = (row['count_messages']-row['messages_included'])*row['rub_per_message']\r\n",
        "    else: over_price_message = 0\r\n",
        "    return over_price_message    "
      ],
      "execution_count": 26,
      "outputs": []
    },
    {
      "cell_type": "code",
      "metadata": {
        "id": "s8PcVg2bO-jk"
      },
      "source": [
        "#общая выручка\r\n",
        "def total_sum(row):\r\n",
        "    total_over_price = row['over_price_call']+row['over_price_internet']+row['over_price_message']\r\n",
        "    return total_over_price"
      ],
      "execution_count": 27,
      "outputs": []
    },
    {
      "cell_type": "code",
      "metadata": {
        "id": "s9mesNGCPAZJ"
      },
      "source": [
        "calc_table['over_price_call'] = calc_table.apply(over_price_call,axis=1)\r\n",
        "calc_table['over_price_internet'] =  calc_table.apply(over_price_internet,axis=1)\r\n",
        "calc_table['over_price_message'] = calc_table.apply(over_price_message,axis=1)\r\n",
        "calc_table['over_price_total'] = calc_table.apply(total_sum,axis=1)\r\n",
        "calc_table['total_proceeds'] = calc_table['over_price_total']+calc_table['rub_monthly_fee']"
      ],
      "execution_count": 28,
      "outputs": []
    },
    {
      "cell_type": "markdown",
      "metadata": {
        "id": "wkRUV5UAGVJx"
      },
      "source": [
        "<a id='peer_month_proceed'></a>\n",
        "### 3.4 Помесячная выручка по каждому пользователю"
      ]
    },
    {
      "cell_type": "code",
      "metadata": {
        "colab": {
          "base_uri": "https://localhost:8080/",
          "height": 450
        },
        "id": "vK6pkLkiGVJx",
        "outputId": "de9aab95-2af5-4767-d999-e8839acbfc22"
      },
      "source": [
        "calc_table.pivot_table(index='user_id',columns='month',values='total_proceeds',aggfunc='sum').fillna(0)"
      ],
      "execution_count": 29,
      "outputs": [
        {
          "output_type": "execute_result",
          "data": {
            "text/html": [
              "<div>\n",
              "<style scoped>\n",
              "    .dataframe tbody tr th:only-of-type {\n",
              "        vertical-align: middle;\n",
              "    }\n",
              "\n",
              "    .dataframe tbody tr th {\n",
              "        vertical-align: top;\n",
              "    }\n",
              "\n",
              "    .dataframe thead th {\n",
              "        text-align: right;\n",
              "    }\n",
              "</style>\n",
              "<table border=\"1\" class=\"dataframe\">\n",
              "  <thead>\n",
              "    <tr style=\"text-align: right;\">\n",
              "      <th>month</th>\n",
              "      <th>1</th>\n",
              "      <th>2</th>\n",
              "      <th>3</th>\n",
              "      <th>4</th>\n",
              "      <th>5</th>\n",
              "      <th>6</th>\n",
              "      <th>7</th>\n",
              "      <th>8</th>\n",
              "      <th>9</th>\n",
              "      <th>10</th>\n",
              "      <th>11</th>\n",
              "      <th>12</th>\n",
              "    </tr>\n",
              "    <tr>\n",
              "      <th>user_id</th>\n",
              "      <th></th>\n",
              "      <th></th>\n",
              "      <th></th>\n",
              "      <th></th>\n",
              "      <th></th>\n",
              "      <th></th>\n",
              "      <th></th>\n",
              "      <th></th>\n",
              "      <th></th>\n",
              "      <th></th>\n",
              "      <th></th>\n",
              "      <th></th>\n",
              "    </tr>\n",
              "  </thead>\n",
              "  <tbody>\n",
              "    <tr>\n",
              "      <th>1000</th>\n",
              "      <td>0.0</td>\n",
              "      <td>0.0</td>\n",
              "      <td>0.0</td>\n",
              "      <td>0.0</td>\n",
              "      <td>1950.0</td>\n",
              "      <td>1950.0</td>\n",
              "      <td>1950.0</td>\n",
              "      <td>1950.0</td>\n",
              "      <td>1950.00</td>\n",
              "      <td>1950.0</td>\n",
              "      <td>1950.0</td>\n",
              "      <td>1950.0</td>\n",
              "    </tr>\n",
              "    <tr>\n",
              "      <th>1001</th>\n",
              "      <td>0.0</td>\n",
              "      <td>0.0</td>\n",
              "      <td>0.0</td>\n",
              "      <td>0.0</td>\n",
              "      <td>0.0</td>\n",
              "      <td>0.0</td>\n",
              "      <td>0.0</td>\n",
              "      <td>0.0</td>\n",
              "      <td>0.00</td>\n",
              "      <td>0.0</td>\n",
              "      <td>1168.4</td>\n",
              "      <td>550.0</td>\n",
              "    </tr>\n",
              "    <tr>\n",
              "      <th>1002</th>\n",
              "      <td>0.0</td>\n",
              "      <td>0.0</td>\n",
              "      <td>0.0</td>\n",
              "      <td>0.0</td>\n",
              "      <td>0.0</td>\n",
              "      <td>550.0</td>\n",
              "      <td>998.2</td>\n",
              "      <td>1547.4</td>\n",
              "      <td>820.40</td>\n",
              "      <td>550.0</td>\n",
              "      <td>1200.0</td>\n",
              "      <td>1105.4</td>\n",
              "    </tr>\n",
              "    <tr>\n",
              "      <th>1003</th>\n",
              "      <td>0.0</td>\n",
              "      <td>0.0</td>\n",
              "      <td>0.0</td>\n",
              "      <td>0.0</td>\n",
              "      <td>0.0</td>\n",
              "      <td>0.0</td>\n",
              "      <td>0.0</td>\n",
              "      <td>1950.0</td>\n",
              "      <td>1950.00</td>\n",
              "      <td>1950.0</td>\n",
              "      <td>1950.0</td>\n",
              "      <td>1950.0</td>\n",
              "    </tr>\n",
              "    <tr>\n",
              "      <th>1004</th>\n",
              "      <td>0.0</td>\n",
              "      <td>0.0</td>\n",
              "      <td>0.0</td>\n",
              "      <td>0.0</td>\n",
              "      <td>1950.0</td>\n",
              "      <td>1950.0</td>\n",
              "      <td>1950.0</td>\n",
              "      <td>1950.0</td>\n",
              "      <td>1950.00</td>\n",
              "      <td>1950.0</td>\n",
              "      <td>1950.0</td>\n",
              "      <td>1950.0</td>\n",
              "    </tr>\n",
              "    <tr>\n",
              "      <th>...</th>\n",
              "      <td>...</td>\n",
              "      <td>...</td>\n",
              "      <td>...</td>\n",
              "      <td>...</td>\n",
              "      <td>...</td>\n",
              "      <td>...</td>\n",
              "      <td>...</td>\n",
              "      <td>...</td>\n",
              "      <td>...</td>\n",
              "      <td>...</td>\n",
              "      <td>...</td>\n",
              "      <td>...</td>\n",
              "    </tr>\n",
              "    <tr>\n",
              "      <th>1495</th>\n",
              "      <td>0.0</td>\n",
              "      <td>0.0</td>\n",
              "      <td>0.0</td>\n",
              "      <td>0.0</td>\n",
              "      <td>0.0</td>\n",
              "      <td>0.0</td>\n",
              "      <td>0.0</td>\n",
              "      <td>1950.0</td>\n",
              "      <td>2307.75</td>\n",
              "      <td>1950.0</td>\n",
              "      <td>3187.8</td>\n",
              "      <td>1950.0</td>\n",
              "    </tr>\n",
              "    <tr>\n",
              "      <th>1496</th>\n",
              "      <td>550.0</td>\n",
              "      <td>3464.6</td>\n",
              "      <td>2647.0</td>\n",
              "      <td>1760.6</td>\n",
              "      <td>2226.0</td>\n",
              "      <td>1675.6</td>\n",
              "      <td>2603.0</td>\n",
              "      <td>2271.0</td>\n",
              "      <td>2872.00</td>\n",
              "      <td>3121.0</td>\n",
              "      <td>2982.4</td>\n",
              "      <td>1686.4</td>\n",
              "    </tr>\n",
              "    <tr>\n",
              "      <th>1497</th>\n",
              "      <td>0.0</td>\n",
              "      <td>0.0</td>\n",
              "      <td>0.0</td>\n",
              "      <td>0.0</td>\n",
              "      <td>0.0</td>\n",
              "      <td>0.0</td>\n",
              "      <td>0.0</td>\n",
              "      <td>0.0</td>\n",
              "      <td>0.00</td>\n",
              "      <td>550.0</td>\n",
              "      <td>550.0</td>\n",
              "      <td>1601.0</td>\n",
              "    </tr>\n",
              "    <tr>\n",
              "      <th>1498</th>\n",
              "      <td>0.0</td>\n",
              "      <td>0.0</td>\n",
              "      <td>0.0</td>\n",
              "      <td>0.0</td>\n",
              "      <td>0.0</td>\n",
              "      <td>0.0</td>\n",
              "      <td>550.0</td>\n",
              "      <td>2368.0</td>\n",
              "      <td>1911.20</td>\n",
              "      <td>1598.8</td>\n",
              "      <td>0.0</td>\n",
              "      <td>0.0</td>\n",
              "    </tr>\n",
              "    <tr>\n",
              "      <th>1499</th>\n",
              "      <td>0.0</td>\n",
              "      <td>0.0</td>\n",
              "      <td>0.0</td>\n",
              "      <td>0.0</td>\n",
              "      <td>0.0</td>\n",
              "      <td>0.0</td>\n",
              "      <td>0.0</td>\n",
              "      <td>0.0</td>\n",
              "      <td>550.00</td>\n",
              "      <td>1039.8</td>\n",
              "      <td>1437.8</td>\n",
              "      <td>598.0</td>\n",
              "    </tr>\n",
              "  </tbody>\n",
              "</table>\n",
              "<p>498 rows × 12 columns</p>\n",
              "</div>"
            ],
            "text/plain": [
              "month       1       2       3       4   ...       9       10      11      12\n",
              "user_id                                 ...                                 \n",
              "1000       0.0     0.0     0.0     0.0  ...  1950.00  1950.0  1950.0  1950.0\n",
              "1001       0.0     0.0     0.0     0.0  ...     0.00     0.0  1168.4   550.0\n",
              "1002       0.0     0.0     0.0     0.0  ...   820.40   550.0  1200.0  1105.4\n",
              "1003       0.0     0.0     0.0     0.0  ...  1950.00  1950.0  1950.0  1950.0\n",
              "1004       0.0     0.0     0.0     0.0  ...  1950.00  1950.0  1950.0  1950.0\n",
              "...        ...     ...     ...     ...  ...      ...     ...     ...     ...\n",
              "1495       0.0     0.0     0.0     0.0  ...  2307.75  1950.0  3187.8  1950.0\n",
              "1496     550.0  3464.6  2647.0  1760.6  ...  2872.00  3121.0  2982.4  1686.4\n",
              "1497       0.0     0.0     0.0     0.0  ...     0.00   550.0   550.0  1601.0\n",
              "1498       0.0     0.0     0.0     0.0  ...  1911.20  1598.8     0.0     0.0\n",
              "1499       0.0     0.0     0.0     0.0  ...   550.00  1039.8  1437.8   598.0\n",
              "\n",
              "[498 rows x 12 columns]"
            ]
          },
          "metadata": {
            "tags": []
          },
          "execution_count": 29
        }
      ]
    },
    {
      "cell_type": "markdown",
      "metadata": {
        "id": "dNwZhgsaGVJx"
      },
      "source": [
        "## Вывод\n",
        "Сформирована итоговая таблица.\n",
        "Судя по предстваленным данным, есть ощутимый прирост пользователей в течении года. "
      ]
    },
    {
      "cell_type": "markdown",
      "metadata": {
        "id": "E2rjsHJlGVJy"
      },
      "source": [
        "<a id='#description'> </a>\n",
        "# Описание поведения клиентов оператора"
      ]
    },
    {
      "cell_type": "markdown",
      "metadata": {
        "id": "g3VllzV3GVJy"
      },
      "source": [
        "<a id='volume'></a>\n",
        "### 4.1 Обьем минут разговора, интернет-трафика и сообщений"
      ]
    },
    {
      "cell_type": "code",
      "metadata": {
        "colab": {
          "base_uri": "https://localhost:8080/",
          "height": 281
        },
        "id": "f-AhK9ZDGVJy",
        "outputId": "f69c1ce4-4cc2-4664-dc37-2ec193b870b2"
      },
      "source": [
        "# список с параметрами для отрисовки\n",
        "tariff_list = calc_table['tariff'].unique().tolist()\n",
        "graph_list = ['duration_calls','count_messages','mb_used']\n",
        "\n",
        "# панель графиков\n",
        "f, axis = plt.subplots(1,len(graph_list),figsize=(16,4))\n",
        "\n",
        "for i in tariff_list:\n",
        "   \n",
        "    for  g in graph_list:\n",
        "        bar_table = calc_table.query('tariff==@i').pivot_table(index='month',values=g,aggfunc='sum').reset_index()\n",
        "        # потребление по месяцам \n",
        "        axis[graph_list.index(g)].bar(bar_table['month'],bar_table[g],label=i,alpha=0.6)\n",
        "        \n",
        "        axis[graph_list.index(g)].set_title(g)\n",
        "        axis[graph_list.index(g)].set_xlabel('month mean')\n",
        "        axis[graph_list.index(g)].set_ylabel('sum')\n",
        "        axis[graph_list.index(g)].legend()\n",
        "        \n",
        "        \n",
        "  "
      ],
      "execution_count": 30,
      "outputs": [
        {
          "output_type": "display_data",
          "data": {
            "image/png": "[encoded data removed]",
            "text/plain": [
              "<Figure size 1152x288 with 3 Axes>"
            ]
          },
          "metadata": {
            "tags": [],
            "needs_background": "light"
          }
        }
      ]
    },
    {
      "cell_type": "code",
      "metadata": {
        "colab": {
          "base_uri": "https://localhost:8080/",
          "height": 111
        },
        "id": "XR4jceAkGVJz",
        "outputId": "c8ca673b-4a2c-48d2-c8c7-275bbc006119"
      },
      "source": [
        "#Прирост пользователей.\n",
        "count_user_peer_month=calc_table.pivot_table(index='tariff',columns='month',values='user_id',aggfunc='count').reset_index()\n",
        "count_user_peer_month"
      ],
      "execution_count": 31,
      "outputs": [
        {
          "output_type": "execute_result",
          "data": {
            "text/html": [
              "<div>\n",
              "<style scoped>\n",
              "    .dataframe tbody tr th:only-of-type {\n",
              "        vertical-align: middle;\n",
              "    }\n",
              "\n",
              "    .dataframe tbody tr th {\n",
              "        vertical-align: top;\n",
              "    }\n",
              "\n",
              "    .dataframe thead th {\n",
              "        text-align: right;\n",
              "    }\n",
              "</style>\n",
              "<table border=\"1\" class=\"dataframe\">\n",
              "  <thead>\n",
              "    <tr style=\"text-align: right;\">\n",
              "      <th>month</th>\n",
              "      <th>tariff</th>\n",
              "      <th>1</th>\n",
              "      <th>2</th>\n",
              "      <th>3</th>\n",
              "      <th>4</th>\n",
              "      <th>5</th>\n",
              "      <th>6</th>\n",
              "      <th>7</th>\n",
              "      <th>8</th>\n",
              "      <th>9</th>\n",
              "      <th>10</th>\n",
              "      <th>11</th>\n",
              "      <th>12</th>\n",
              "    </tr>\n",
              "  </thead>\n",
              "  <tbody>\n",
              "    <tr>\n",
              "      <th>0</th>\n",
              "      <td>smart</td>\n",
              "      <td>34</td>\n",
              "      <td>58</td>\n",
              "      <td>77</td>\n",
              "      <td>112</td>\n",
              "      <td>141</td>\n",
              "      <td>164</td>\n",
              "      <td>201</td>\n",
              "      <td>235</td>\n",
              "      <td>260</td>\n",
              "      <td>294</td>\n",
              "      <td>316</td>\n",
              "      <td>337</td>\n",
              "    </tr>\n",
              "    <tr>\n",
              "      <th>1</th>\n",
              "      <td>ultra</td>\n",
              "      <td>9</td>\n",
              "      <td>24</td>\n",
              "      <td>37</td>\n",
              "      <td>55</td>\n",
              "      <td>67</td>\n",
              "      <td>84</td>\n",
              "      <td>91</td>\n",
              "      <td>107</td>\n",
              "      <td>115</td>\n",
              "      <td>123</td>\n",
              "      <td>134</td>\n",
              "      <td>139</td>\n",
              "    </tr>\n",
              "  </tbody>\n",
              "</table>\n",
              "</div>"
            ],
            "text/plain": [
              "month tariff   1   2   3    4    5    6    7    8    9   10   11   12\n",
              "0      smart  34  58  77  112  141  164  201  235  260  294  316  337\n",
              "1      ultra   9  24  37   55   67   84   91  107  115  123  134  139"
            ]
          },
          "metadata": {
            "tags": []
          },
          "execution_count": 31
        }
      ]
    },
    {
      "cell_type": "code",
      "metadata": {
        "colab": {
          "base_uri": "https://localhost:8080/",
          "height": 131
        },
        "id": "4GTCCPmkGVJz",
        "outputId": "b60aef22-f8eb-4f4a-a98d-7e2e1294e96a"
      },
      "source": [
        "#посмотрим по общему обьему и в процентном соотношении\n",
        "sum_table=(\n",
        "    calc_table\n",
        "    .pivot_table(index='tariff'\n",
        "                 ,values=['duration_calls','count_messages','mb_used','total_proceeds']\n",
        "                 ,aggfunc='sum')\n",
        "    .reset_index()\n",
        ")\n",
        "sum_table['percent_count_messages'] = sum_table.count_messages / sum_table.count_messages.sum() \n",
        "sum_table['percent_duration_calls']=sum_table.duration_calls / sum_table.duration_calls.sum() \n",
        "sum_table['percent_mb_used']=sum_table.mb_used / sum_table.mb_used.sum() \n",
        "sum_table['percent_proceeds']=sum_table.total_proceeds / sum_table.total_proceeds.sum()\n",
        "sum_table"
      ],
      "execution_count": 32,
      "outputs": [
        {
          "output_type": "execute_result",
          "data": {
            "text/html": [
              "<div>\n",
              "<style scoped>\n",
              "    .dataframe tbody tr th:only-of-type {\n",
              "        vertical-align: middle;\n",
              "    }\n",
              "\n",
              "    .dataframe tbody tr th {\n",
              "        vertical-align: top;\n",
              "    }\n",
              "\n",
              "    .dataframe thead th {\n",
              "        text-align: right;\n",
              "    }\n",
              "</style>\n",
              "<table border=\"1\" class=\"dataframe\">\n",
              "  <thead>\n",
              "    <tr style=\"text-align: right;\">\n",
              "      <th></th>\n",
              "      <th>tariff</th>\n",
              "      <th>count_messages</th>\n",
              "      <th>duration_calls</th>\n",
              "      <th>mb_used</th>\n",
              "      <th>total_proceeds</th>\n",
              "      <th>percent_count_messages</th>\n",
              "      <th>percent_duration_calls</th>\n",
              "      <th>percent_mb_used</th>\n",
              "      <th>percent_proceeds</th>\n",
              "    </tr>\n",
              "  </thead>\n",
              "  <tbody>\n",
              "    <tr>\n",
              "      <th>0</th>\n",
              "      <td>smart</td>\n",
              "      <td>74413.0</td>\n",
              "      <td>931577.0</td>\n",
              "      <td>36174861.0</td>\n",
              "      <td>2778084.40</td>\n",
              "      <td>0.604807</td>\n",
              "      <td>0.642334</td>\n",
              "      <td>0.653336</td>\n",
              "      <td>0.577526</td>\n",
              "    </tr>\n",
              "    <tr>\n",
              "      <th>1</th>\n",
              "      <td>ultra</td>\n",
              "      <td>48623.0</td>\n",
              "      <td>518724.0</td>\n",
              "      <td>19194598.0</td>\n",
              "      <td>2032234.95</td>\n",
              "      <td>0.395193</td>\n",
              "      <td>0.357666</td>\n",
              "      <td>0.346664</td>\n",
              "      <td>0.422474</td>\n",
              "    </tr>\n",
              "  </tbody>\n",
              "</table>\n",
              "</div>"
            ],
            "text/plain": [
              "  tariff  count_messages  ...  percent_mb_used  percent_proceeds\n",
              "0  smart         74413.0  ...         0.653336          0.577526\n",
              "1  ultra         48623.0  ...         0.346664          0.422474\n",
              "\n",
              "[2 rows x 9 columns]"
            ]
          },
          "metadata": {
            "tags": []
          },
          "execution_count": 32
        }
      ]
    },
    {
      "cell_type": "code",
      "metadata": {
        "colab": {
          "base_uri": "https://localhost:8080/",
          "height": 165
        },
        "id": "xXnU4MjSGVJ0",
        "outputId": "59a35268-ae59-4185-ed14-396c29c3d1fc"
      },
      "source": [
        "# переплаты по пользователм \n",
        "over_price_table = (\n",
        "calc_table\n",
        "    .groupby(['user_id','tariff'])\n",
        "            ['over_price_call','over_price_internet','over_price_message','over_price_total','tariff','duration_calls']\n",
        "    .agg('sum')\n",
        "    .reset_index()\n",
        ")\n",
        "#Отметим пользователей с переплатой\n",
        "over_price_table['over_fact'] = over_price_table.over_price_total > 0\n",
        "\n",
        "#снова сгруппируем и посчитаем общую переплату по тарифам и  количество пользователей\n",
        "over_by_user = (\n",
        "    over_price_table.groupby('tariff')\n",
        "    .agg({'user_id':'count','over_price_total':'sum','over_fact':'sum'})\n",
        "    .reset_index()\n",
        ")\n",
        "\n",
        "over_by_user['persent_user_with_over'] = over_by_user['over_fact'] /over_by_user['user_id']\n",
        "over_by_user['ovver_sum_by_user'] = over_by_user['over_price_total'] / over_by_user['over_fact']\n",
        "over_by_user"
      ],
      "execution_count": 33,
      "outputs": [
        {
          "output_type": "stream",
          "text": [
            "/usr/local/lib/python3.7/dist-packages/ipykernel_launcher.py:5: FutureWarning: Indexing with multiple keys (implicitly converted to a tuple of keys) will be deprecated, use a list instead.\n",
            "  \"\"\"\n"
          ],
          "name": "stderr"
        },
        {
          "output_type": "execute_result",
          "data": {
            "text/html": [
              "<div>\n",
              "<style scoped>\n",
              "    .dataframe tbody tr th:only-of-type {\n",
              "        vertical-align: middle;\n",
              "    }\n",
              "\n",
              "    .dataframe tbody tr th {\n",
              "        vertical-align: top;\n",
              "    }\n",
              "\n",
              "    .dataframe thead th {\n",
              "        text-align: right;\n",
              "    }\n",
              "</style>\n",
              "<table border=\"1\" class=\"dataframe\">\n",
              "  <thead>\n",
              "    <tr style=\"text-align: right;\">\n",
              "      <th></th>\n",
              "      <th>tariff</th>\n",
              "      <th>user_id</th>\n",
              "      <th>over_price_total</th>\n",
              "      <th>over_fact</th>\n",
              "      <th>persent_user_with_over</th>\n",
              "      <th>ovver_sum_by_user</th>\n",
              "    </tr>\n",
              "  </thead>\n",
              "  <tbody>\n",
              "    <tr>\n",
              "      <th>0</th>\n",
              "      <td>smart</td>\n",
              "      <td>350</td>\n",
              "      <td>1552134.40</td>\n",
              "      <td>333</td>\n",
              "      <td>0.951429</td>\n",
              "      <td>4661.064264</td>\n",
              "    </tr>\n",
              "    <tr>\n",
              "      <th>1</th>\n",
              "      <td>ultra</td>\n",
              "      <td>148</td>\n",
              "      <td>111484.95</td>\n",
              "      <td>43</td>\n",
              "      <td>0.290541</td>\n",
              "      <td>2592.673256</td>\n",
              "    </tr>\n",
              "  </tbody>\n",
              "</table>\n",
              "</div>"
            ],
            "text/plain": [
              "  tariff  user_id  ...  persent_user_with_over  ovver_sum_by_user\n",
              "0  smart      350  ...                0.951429        4661.064264\n",
              "1  ultra      148  ...                0.290541        2592.673256\n",
              "\n",
              "[2 rows x 6 columns]"
            ]
          },
          "metadata": {
            "tags": []
          },
          "execution_count": 33
        }
      ]
    },
    {
      "cell_type": "markdown",
      "metadata": {
        "id": "zsPqzQR7GVJ0"
      },
      "source": [
        "### Вывод\n",
        "Обьем по всем тарификационным еденицам увеличивается с каждым месяцем, это связанно с приходом новых пользователей.\n",
        "На месячном распределении это отчетливо видно.\n",
        "Например пользователям тарифа ultra на 9 пользователей было достаточно всего  окло 3000 минут, а вконце года для 148 пользователй уже более 80 000\n",
        "\n",
        "Стоит отметить, что при том что пользователей с тарифом ultra меньше более чем в 2 раза, они генерируют более трети трафика по всем параметрам и их доля в общей выручке составляет 42%.\n",
        "\n",
        "Так же на протяжении всего года был активный прирост клиентов. \n",
        "в конце года отношение пользоватлей с тарифом smart и ultra осталось практически без изменений по сравнению на началом года.Прирост пользователей идет поропорционально.\n",
        "\n",
        " "
      ]
    },
    {
      "cell_type": "markdown",
      "metadata": {
        "id": "0SAvJ2UGGVJ1"
      },
      "source": [
        "<a id='mean'> </a>\n",
        "### 4.2 Среднее, дисперсия и стандартное отклонение "
      ]
    },
    {
      "cell_type": "code",
      "metadata": {
        "scrolled": true,
        "colab": {
          "base_uri": "https://localhost:8080/",
          "height": 537
        },
        "id": "pJBN-7THGVJ1",
        "outputId": "66260f06-2de8-4a2a-ac5b-263ee8cf3021"
      },
      "source": [
        "# smart\n",
        "(calc_table\n",
        " .query('tariff==\"smart\"')\n",
        " .groupby('month')['duration_calls','count_messages','mb_used']\n",
        " .agg(['mean',np.median])\n",
        " .round(0)\n",
        ") "
      ],
      "execution_count": 34,
      "outputs": [
        {
          "output_type": "stream",
          "text": [
            "/usr/local/lib/python3.7/dist-packages/ipykernel_launcher.py:4: FutureWarning: Indexing with multiple keys (implicitly converted to a tuple of keys) will be deprecated, use a list instead.\n",
            "  after removing the cwd from sys.path.\n"
          ],
          "name": "stderr"
        },
        {
          "output_type": "execute_result",
          "data": {
            "text/html": [
              "<div>\n",
              "<style scoped>\n",
              "    .dataframe tbody tr th:only-of-type {\n",
              "        vertical-align: middle;\n",
              "    }\n",
              "\n",
              "    .dataframe tbody tr th {\n",
              "        vertical-align: top;\n",
              "    }\n",
              "\n",
              "    .dataframe thead tr th {\n",
              "        text-align: left;\n",
              "    }\n",
              "\n",
              "    .dataframe thead tr:last-of-type th {\n",
              "        text-align: right;\n",
              "    }\n",
              "</style>\n",
              "<table border=\"1\" class=\"dataframe\">\n",
              "  <thead>\n",
              "    <tr>\n",
              "      <th></th>\n",
              "      <th colspan=\"2\" halign=\"left\">duration_calls</th>\n",
              "      <th colspan=\"2\" halign=\"left\">count_messages</th>\n",
              "      <th colspan=\"2\" halign=\"left\">mb_used</th>\n",
              "    </tr>\n",
              "    <tr>\n",
              "      <th></th>\n",
              "      <th>mean</th>\n",
              "      <th>median</th>\n",
              "      <th>mean</th>\n",
              "      <th>median</th>\n",
              "      <th>mean</th>\n",
              "      <th>median</th>\n",
              "    </tr>\n",
              "    <tr>\n",
              "      <th>month</th>\n",
              "      <th></th>\n",
              "      <th></th>\n",
              "      <th></th>\n",
              "      <th></th>\n",
              "      <th></th>\n",
              "      <th></th>\n",
              "    </tr>\n",
              "  </thead>\n",
              "  <tbody>\n",
              "    <tr>\n",
              "      <th>1</th>\n",
              "      <td>204.0</td>\n",
              "      <td>162.0</td>\n",
              "      <td>18.0</td>\n",
              "      <td>15.0</td>\n",
              "      <td>8524.0</td>\n",
              "      <td>7107.0</td>\n",
              "    </tr>\n",
              "    <tr>\n",
              "      <th>2</th>\n",
              "      <td>299.0</td>\n",
              "      <td>258.0</td>\n",
              "      <td>24.0</td>\n",
              "      <td>20.0</td>\n",
              "      <td>11611.0</td>\n",
              "      <td>12572.0</td>\n",
              "    </tr>\n",
              "    <tr>\n",
              "      <th>3</th>\n",
              "      <td>390.0</td>\n",
              "      <td>409.0</td>\n",
              "      <td>32.0</td>\n",
              "      <td>23.0</td>\n",
              "      <td>15124.0</td>\n",
              "      <td>15690.0</td>\n",
              "    </tr>\n",
              "    <tr>\n",
              "      <th>4</th>\n",
              "      <td>367.0</td>\n",
              "      <td>368.0</td>\n",
              "      <td>31.0</td>\n",
              "      <td>28.0</td>\n",
              "      <td>13479.0</td>\n",
              "      <td>14104.0</td>\n",
              "    </tr>\n",
              "    <tr>\n",
              "      <th>5</th>\n",
              "      <td>387.0</td>\n",
              "      <td>433.0</td>\n",
              "      <td>34.0</td>\n",
              "      <td>30.0</td>\n",
              "      <td>15825.0</td>\n",
              "      <td>16343.0</td>\n",
              "    </tr>\n",
              "    <tr>\n",
              "      <th>6</th>\n",
              "      <td>396.0</td>\n",
              "      <td>400.0</td>\n",
              "      <td>33.0</td>\n",
              "      <td>28.0</td>\n",
              "      <td>15815.0</td>\n",
              "      <td>16096.0</td>\n",
              "    </tr>\n",
              "    <tr>\n",
              "      <th>7</th>\n",
              "      <td>408.0</td>\n",
              "      <td>414.0</td>\n",
              "      <td>34.0</td>\n",
              "      <td>29.0</td>\n",
              "      <td>15764.0</td>\n",
              "      <td>15948.0</td>\n",
              "    </tr>\n",
              "    <tr>\n",
              "      <th>8</th>\n",
              "      <td>421.0</td>\n",
              "      <td>432.0</td>\n",
              "      <td>34.0</td>\n",
              "      <td>27.0</td>\n",
              "      <td>16632.0</td>\n",
              "      <td>16855.0</td>\n",
              "    </tr>\n",
              "    <tr>\n",
              "      <th>9</th>\n",
              "      <td>429.0</td>\n",
              "      <td>435.0</td>\n",
              "      <td>34.0</td>\n",
              "      <td>30.0</td>\n",
              "      <td>16325.0</td>\n",
              "      <td>16050.0</td>\n",
              "    </tr>\n",
              "    <tr>\n",
              "      <th>10</th>\n",
              "      <td>426.0</td>\n",
              "      <td>428.0</td>\n",
              "      <td>34.0</td>\n",
              "      <td>30.0</td>\n",
              "      <td>16779.0</td>\n",
              "      <td>17248.0</td>\n",
              "    </tr>\n",
              "    <tr>\n",
              "      <th>11</th>\n",
              "      <td>435.0</td>\n",
              "      <td>428.0</td>\n",
              "      <td>34.0</td>\n",
              "      <td>28.0</td>\n",
              "      <td>16918.0</td>\n",
              "      <td>17036.0</td>\n",
              "    </tr>\n",
              "    <tr>\n",
              "      <th>12</th>\n",
              "      <td>479.0</td>\n",
              "      <td>471.0</td>\n",
              "      <td>36.0</td>\n",
              "      <td>29.0</td>\n",
              "      <td>18137.0</td>\n",
              "      <td>17741.0</td>\n",
              "    </tr>\n",
              "  </tbody>\n",
              "</table>\n",
              "</div>"
            ],
            "text/plain": [
              "      duration_calls        count_messages         mb_used         \n",
              "                mean median           mean median     mean   median\n",
              "month                                                              \n",
              "1              204.0  162.0           18.0   15.0   8524.0   7107.0\n",
              "2              299.0  258.0           24.0   20.0  11611.0  12572.0\n",
              "3              390.0  409.0           32.0   23.0  15124.0  15690.0\n",
              "4              367.0  368.0           31.0   28.0  13479.0  14104.0\n",
              "5              387.0  433.0           34.0   30.0  15825.0  16343.0\n",
              "6              396.0  400.0           33.0   28.0  15815.0  16096.0\n",
              "7              408.0  414.0           34.0   29.0  15764.0  15948.0\n",
              "8              421.0  432.0           34.0   27.0  16632.0  16855.0\n",
              "9              429.0  435.0           34.0   30.0  16325.0  16050.0\n",
              "10             426.0  428.0           34.0   30.0  16779.0  17248.0\n",
              "11             435.0  428.0           34.0   28.0  16918.0  17036.0\n",
              "12             479.0  471.0           36.0   29.0  18137.0  17741.0"
            ]
          },
          "metadata": {
            "tags": []
          },
          "execution_count": 34
        }
      ]
    },
    {
      "cell_type": "code",
      "metadata": {
        "scrolled": true,
        "colab": {
          "base_uri": "https://localhost:8080/",
          "height": 537
        },
        "id": "1p2Z7xCiGVJ1",
        "outputId": "70a08d63-7c79-4afc-97b5-293974d46275"
      },
      "source": [
        "#Ulta\n",
        "(calc_table\n",
        " .query('(tariff==\"ultra\")')\n",
        " .groupby('month')['duration_calls','count_messages','mb_used']\n",
        " .agg(['mean',np.median])\n",
        " .round(0)\n",
        ")"
      ],
      "execution_count": 35,
      "outputs": [
        {
          "output_type": "stream",
          "text": [
            "/usr/local/lib/python3.7/dist-packages/ipykernel_launcher.py:4: FutureWarning: Indexing with multiple keys (implicitly converted to a tuple of keys) will be deprecated, use a list instead.\n",
            "  after removing the cwd from sys.path.\n"
          ],
          "name": "stderr"
        },
        {
          "output_type": "execute_result",
          "data": {
            "text/html": [
              "<div>\n",
              "<style scoped>\n",
              "    .dataframe tbody tr th:only-of-type {\n",
              "        vertical-align: middle;\n",
              "    }\n",
              "\n",
              "    .dataframe tbody tr th {\n",
              "        vertical-align: top;\n",
              "    }\n",
              "\n",
              "    .dataframe thead tr th {\n",
              "        text-align: left;\n",
              "    }\n",
              "\n",
              "    .dataframe thead tr:last-of-type th {\n",
              "        text-align: right;\n",
              "    }\n",
              "</style>\n",
              "<table border=\"1\" class=\"dataframe\">\n",
              "  <thead>\n",
              "    <tr>\n",
              "      <th></th>\n",
              "      <th colspan=\"2\" halign=\"left\">duration_calls</th>\n",
              "      <th colspan=\"2\" halign=\"left\">count_messages</th>\n",
              "      <th colspan=\"2\" halign=\"left\">mb_used</th>\n",
              "    </tr>\n",
              "    <tr>\n",
              "      <th></th>\n",
              "      <th>mean</th>\n",
              "      <th>median</th>\n",
              "      <th>mean</th>\n",
              "      <th>median</th>\n",
              "      <th>mean</th>\n",
              "      <th>median</th>\n",
              "    </tr>\n",
              "    <tr>\n",
              "      <th>month</th>\n",
              "      <th></th>\n",
              "      <th></th>\n",
              "      <th></th>\n",
              "      <th></th>\n",
              "      <th></th>\n",
              "      <th></th>\n",
              "    </tr>\n",
              "  </thead>\n",
              "  <tbody>\n",
              "    <tr>\n",
              "      <th>1</th>\n",
              "      <td>428.0</td>\n",
              "      <td>382.0</td>\n",
              "      <td>34.0</td>\n",
              "      <td>32.0</td>\n",
              "      <td>13154.0</td>\n",
              "      <td>14808.0</td>\n",
              "    </tr>\n",
              "    <tr>\n",
              "      <th>2</th>\n",
              "      <td>297.0</td>\n",
              "      <td>168.0</td>\n",
              "      <td>22.0</td>\n",
              "      <td>6.0</td>\n",
              "      <td>11787.0</td>\n",
              "      <td>7336.0</td>\n",
              "    </tr>\n",
              "    <tr>\n",
              "      <th>3</th>\n",
              "      <td>490.0</td>\n",
              "      <td>403.0</td>\n",
              "      <td>32.0</td>\n",
              "      <td>20.0</td>\n",
              "      <td>17552.0</td>\n",
              "      <td>17513.0</td>\n",
              "    </tr>\n",
              "    <tr>\n",
              "      <th>4</th>\n",
              "      <td>458.0</td>\n",
              "      <td>453.0</td>\n",
              "      <td>32.0</td>\n",
              "      <td>17.0</td>\n",
              "      <td>16844.0</td>\n",
              "      <td>16662.0</td>\n",
              "    </tr>\n",
              "    <tr>\n",
              "      <th>5</th>\n",
              "      <td>510.0</td>\n",
              "      <td>519.0</td>\n",
              "      <td>38.0</td>\n",
              "      <td>25.0</td>\n",
              "      <td>19381.0</td>\n",
              "      <td>18717.0</td>\n",
              "    </tr>\n",
              "    <tr>\n",
              "      <th>6</th>\n",
              "      <td>480.0</td>\n",
              "      <td>479.0</td>\n",
              "      <td>42.0</td>\n",
              "      <td>28.0</td>\n",
              "      <td>18942.0</td>\n",
              "      <td>19496.0</td>\n",
              "    </tr>\n",
              "    <tr>\n",
              "      <th>7</th>\n",
              "      <td>546.0</td>\n",
              "      <td>542.0</td>\n",
              "      <td>50.0</td>\n",
              "      <td>38.0</td>\n",
              "      <td>20515.0</td>\n",
              "      <td>20034.0</td>\n",
              "    </tr>\n",
              "    <tr>\n",
              "      <th>8</th>\n",
              "      <td>511.0</td>\n",
              "      <td>500.0</td>\n",
              "      <td>48.0</td>\n",
              "      <td>40.0</td>\n",
              "      <td>19594.0</td>\n",
              "      <td>18945.0</td>\n",
              "    </tr>\n",
              "    <tr>\n",
              "      <th>9</th>\n",
              "      <td>539.0</td>\n",
              "      <td>520.0</td>\n",
              "      <td>52.0</td>\n",
              "      <td>43.0</td>\n",
              "      <td>19222.0</td>\n",
              "      <td>19675.0</td>\n",
              "    </tr>\n",
              "    <tr>\n",
              "      <th>10</th>\n",
              "      <td>558.0</td>\n",
              "      <td>533.0</td>\n",
              "      <td>58.0</td>\n",
              "      <td>49.0</td>\n",
              "      <td>20064.0</td>\n",
              "      <td>20359.0</td>\n",
              "    </tr>\n",
              "    <tr>\n",
              "      <th>11</th>\n",
              "      <td>541.0</td>\n",
              "      <td>546.0</td>\n",
              "      <td>56.0</td>\n",
              "      <td>43.0</td>\n",
              "      <td>19805.0</td>\n",
              "      <td>18398.0</td>\n",
              "    </tr>\n",
              "    <tr>\n",
              "      <th>12</th>\n",
              "      <td>593.0</td>\n",
              "      <td>584.0</td>\n",
              "      <td>61.0</td>\n",
              "      <td>51.0</td>\n",
              "      <td>21814.0</td>\n",
              "      <td>21994.0</td>\n",
              "    </tr>\n",
              "  </tbody>\n",
              "</table>\n",
              "</div>"
            ],
            "text/plain": [
              "      duration_calls        count_messages         mb_used         \n",
              "                mean median           mean median     mean   median\n",
              "month                                                              \n",
              "1              428.0  382.0           34.0   32.0  13154.0  14808.0\n",
              "2              297.0  168.0           22.0    6.0  11787.0   7336.0\n",
              "3              490.0  403.0           32.0   20.0  17552.0  17513.0\n",
              "4              458.0  453.0           32.0   17.0  16844.0  16662.0\n",
              "5              510.0  519.0           38.0   25.0  19381.0  18717.0\n",
              "6              480.0  479.0           42.0   28.0  18942.0  19496.0\n",
              "7              546.0  542.0           50.0   38.0  20515.0  20034.0\n",
              "8              511.0  500.0           48.0   40.0  19594.0  18945.0\n",
              "9              539.0  520.0           52.0   43.0  19222.0  19675.0\n",
              "10             558.0  533.0           58.0   49.0  20064.0  20359.0\n",
              "11             541.0  546.0           56.0   43.0  19805.0  18398.0\n",
              "12             593.0  584.0           61.0   51.0  21814.0  21994.0"
            ]
          },
          "metadata": {
            "tags": []
          },
          "execution_count": 35
        }
      ]
    },
    {
      "cell_type": "code",
      "metadata": {
        "colab": {
          "base_uri": "https://localhost:8080/",
          "height": 608
        },
        "id": "h7ya6myrGVJ1",
        "outputId": "60bde7ea-3b33-49f8-f4b5-813d34fe30fd"
      },
      "source": [
        "\n",
        "fig, ax = plt.subplots(len(tariff_list),len(graph_list),figsize=(16,10))\n",
        "\n",
        "for i in tariff_list:\n",
        "    calc_tariff_hist = calc_table.query('tariff==@i').fillna(0)\n",
        "    for j in graph_list:\n",
        "        #гистограмы по интересующим столбцам, без нуевых значений\n",
        "        ax[tariff_list.index(i),graph_list.index(j)].hist(calc_tariff_hist.loc[calc_tariff_hist[j]!=0, j],bins=80)\n",
        "        ax[tariff_list.index(i),graph_list.index(j)].set_title('ddd')\n",
        "        ax[tariff_list.index(i),graph_list.index(j)].set_title(j+\" for \"+i+\" tariff \")\n",
        "        ax[tariff_list.index(i),graph_list.index(j)].set_xlabel(j)\n",
        "\n"
      ],
      "execution_count": 36,
      "outputs": [
        {
          "output_type": "display_data",
          "data": {
            "image/png": "[encoded data removed]",
            "text/plain": [
              "<Figure size 1152x720 with 6 Axes>"
            ]
          },
          "metadata": {
            "tags": [],
            "needs_background": "light"
          }
        }
      ]
    },
    {
      "cell_type": "code",
      "metadata": {
        "colab": {
          "base_uri": "https://localhost:8080/",
          "height": 227
        },
        "id": "faJpbcVOGVJ2",
        "outputId": "8b69c796-210b-4ae6-eb17-9e71de105f73"
      },
      "source": [
        "(calc_table\n",
        " .groupby('tariff')['duration_calls','count_messages','mb_used']\n",
        " .agg(['mean',np.median, np.var,np.std,np.min,np.max])\n",
        " .round(0)\n",
        ")"
      ],
      "execution_count": 37,
      "outputs": [
        {
          "output_type": "stream",
          "text": [
            "/usr/local/lib/python3.7/dist-packages/ipykernel_launcher.py:2: FutureWarning: Indexing with multiple keys (implicitly converted to a tuple of keys) will be deprecated, use a list instead.\n",
            "  \n"
          ],
          "name": "stderr"
        },
        {
          "output_type": "execute_result",
          "data": {
            "text/html": [
              "<div>\n",
              "<style scoped>\n",
              "    .dataframe tbody tr th:only-of-type {\n",
              "        vertical-align: middle;\n",
              "    }\n",
              "\n",
              "    .dataframe tbody tr th {\n",
              "        vertical-align: top;\n",
              "    }\n",
              "\n",
              "    .dataframe thead tr th {\n",
              "        text-align: left;\n",
              "    }\n",
              "\n",
              "    .dataframe thead tr:last-of-type th {\n",
              "        text-align: right;\n",
              "    }\n",
              "</style>\n",
              "<table border=\"1\" class=\"dataframe\">\n",
              "  <thead>\n",
              "    <tr>\n",
              "      <th></th>\n",
              "      <th colspan=\"6\" halign=\"left\">duration_calls</th>\n",
              "      <th colspan=\"6\" halign=\"left\">count_messages</th>\n",
              "      <th colspan=\"6\" halign=\"left\">mb_used</th>\n",
              "    </tr>\n",
              "    <tr>\n",
              "      <th></th>\n",
              "      <th>mean</th>\n",
              "      <th>median</th>\n",
              "      <th>var</th>\n",
              "      <th>std</th>\n",
              "      <th>amin</th>\n",
              "      <th>amax</th>\n",
              "      <th>mean</th>\n",
              "      <th>median</th>\n",
              "      <th>var</th>\n",
              "      <th>std</th>\n",
              "      <th>amin</th>\n",
              "      <th>amax</th>\n",
              "      <th>mean</th>\n",
              "      <th>median</th>\n",
              "      <th>var</th>\n",
              "      <th>std</th>\n",
              "      <th>amin</th>\n",
              "      <th>amax</th>\n",
              "    </tr>\n",
              "    <tr>\n",
              "      <th>tariff</th>\n",
              "      <th></th>\n",
              "      <th></th>\n",
              "      <th></th>\n",
              "      <th></th>\n",
              "      <th></th>\n",
              "      <th></th>\n",
              "      <th></th>\n",
              "      <th></th>\n",
              "      <th></th>\n",
              "      <th></th>\n",
              "      <th></th>\n",
              "      <th></th>\n",
              "      <th></th>\n",
              "      <th></th>\n",
              "      <th></th>\n",
              "      <th></th>\n",
              "      <th></th>\n",
              "      <th></th>\n",
              "    </tr>\n",
              "  </thead>\n",
              "  <tbody>\n",
              "    <tr>\n",
              "      <th>smart</th>\n",
              "      <td>418.0</td>\n",
              "      <td>422.0</td>\n",
              "      <td>36219.0</td>\n",
              "      <td>190.0</td>\n",
              "      <td>0.0</td>\n",
              "      <td>1435.0</td>\n",
              "      <td>33.0</td>\n",
              "      <td>28.0</td>\n",
              "      <td>797.0</td>\n",
              "      <td>28.0</td>\n",
              "      <td>0.0</td>\n",
              "      <td>143.0</td>\n",
              "      <td>16229.0</td>\n",
              "      <td>16531.0</td>\n",
              "      <td>34545911.0</td>\n",
              "      <td>5878.0</td>\n",
              "      <td>0.0</td>\n",
              "      <td>38610.0</td>\n",
              "    </tr>\n",
              "    <tr>\n",
              "      <th>ultra</th>\n",
              "      <td>527.0</td>\n",
              "      <td>518.0</td>\n",
              "      <td>100874.0</td>\n",
              "      <td>318.0</td>\n",
              "      <td>0.0</td>\n",
              "      <td>1673.0</td>\n",
              "      <td>49.0</td>\n",
              "      <td>38.0</td>\n",
              "      <td>2285.0</td>\n",
              "      <td>48.0</td>\n",
              "      <td>0.0</td>\n",
              "      <td>224.0</td>\n",
              "      <td>19487.0</td>\n",
              "      <td>19324.0</td>\n",
              "      <td>101935621.0</td>\n",
              "      <td>10096.0</td>\n",
              "      <td>0.0</td>\n",
              "      <td>49789.0</td>\n",
              "    </tr>\n",
              "  </tbody>\n",
              "</table>\n",
              "</div>"
            ],
            "text/plain": [
              "       duration_calls                   ...  mb_used              \n",
              "                 mean median       var  ...      std amin     amax\n",
              "tariff                                  ...                       \n",
              "smart           418.0  422.0   36219.0  ...   5878.0  0.0  38610.0\n",
              "ultra           527.0  518.0  100874.0  ...  10096.0  0.0  49789.0\n",
              "\n",
              "[2 rows x 18 columns]"
            ]
          },
          "metadata": {
            "tags": []
          },
          "execution_count": 37
        }
      ]
    },
    {
      "cell_type": "code",
      "metadata": {
        "colab": {
          "base_uri": "https://localhost:8080/"
        },
        "id": "PnF2ObhxGVJ2",
        "outputId": "c5bbc4c8-b0f1-4a7d-cfea-5b24e535db05"
      },
      "source": [
        "np.var(calc_table.loc[calc_table.tariff==\"smart\",'duration_calls'],ddof=1)\n",
        "\n"
      ],
      "execution_count": 38,
      "outputs": [
        {
          "output_type": "execute_result",
          "data": {
            "text/plain": [
              "36219.31578434424"
            ]
          },
          "metadata": {
            "tags": []
          },
          "execution_count": 38
        }
      ]
    },
    {
      "cell_type": "code",
      "metadata": {
        "colab": {
          "base_uri": "https://localhost:8080/"
        },
        "id": "swyBuKzQTCy0",
        "outputId": "3f28823e-66f1-498d-b20f-bcc1c285c3b4"
      },
      "source": [
        "np.var(calc_table.loc[calc_table.tariff==\"smart\",'count_messages'],ddof=1)"
      ],
      "execution_count": 39,
      "outputs": [
        {
          "output_type": "execute_result",
          "data": {
            "text/plain": [
              "796.8129584480083"
            ]
          },
          "metadata": {
            "tags": []
          },
          "execution_count": 39
        }
      ]
    },
    {
      "cell_type": "markdown",
      "metadata": {
        "id": "OXJK-DBNGVJ2"
      },
      "source": [
        "## Вывод"
      ]
    },
    {
      "cell_type": "markdown",
      "metadata": {
        "id": "GnlVHK4-GVJ3"
      },
      "source": [
        "Графики\n",
        "1. начнем со звонков.\n",
        " * Распределение нормальное в  обоих вариантах тарифов. Но есть сильные скачки значений. \n",
        " * продолжительность разгоров у клиентов с тарифов smart имеет больший разлет по оси х,в  сравнении с клиентами  тарифа ultra, наверное из-за разности количества клиентов или из-за особенностей пользователей подключающизся к тарифам в течнии года. \n",
        " * Количество пользозвателей, которые имеют большую продолжительность разговоров, больше с тарифрм ultra чем smart\n",
        "\n",
        "2. сообщения \n",
        " * Распределение похоже на скошенное вправо. Много пиковых значений.Вероятно есть пользователи, которые очень активно рассылают много сообшений.\n",
        " \n",
        "3. трафик.\n",
        " * распределение потребления трафика очень похоже на распределение звонков в соответсвии с тарифом.\n",
        " \n",
        "Дисперсия и отклонение.\n",
        "\n",
        "Цифры говорят о большом разброс в данных(те самые скачки на графиках). Даже с учетом разделения по тарифам. \n",
        "Меньше отклонение у пользователей тарифа smart.\n",
        "Такой разброс может быть связан с моментом подключением новых пользователей. Новый пользователь может подключиться в конце месяца и не успеть обеспечить близкое к среднему значению количество минут, интернет трафика или сообщений.\n",
        "на графиках видно большой пик возле нулевых значений.\n",
        "Или же это следствие кол-ва пользователей, которых мало, но при этом генерация трафика достаточно большая.\n"
      ]
    },
    {
      "cell_type": "markdown",
      "metadata": {
        "id": "9suSnjxQGVJ3"
      },
      "source": [
        "<a id='#hypothesis'> </a>\n",
        "# 5. Проверка гипотез"
      ]
    },
    {
      "cell_type": "markdown",
      "metadata": {
        "id": "fEm5bIDVGVJ3"
      },
      "source": [
        "<a id='#mean proceeds'></a>\n",
        "### 5.1 Cредняя выручка пользователей тарифов «Ультра» и «Смарт» различается"
      ]
    },
    {
      "cell_type": "markdown",
      "metadata": {
        "id": "-plJqj8mOqcS"
      },
      "source": [
        "Сформулируем нулевую гипотезу. \"Средняя выручка от тарифа smart и ultra равны\" \r\n",
        "\r\n",
        "Сформулируем альтернативную гипотезу. \"Средняя выручка от тарифа smart и ultra не равны\"\r\n"
      ]
    },
    {
      "cell_type": "code",
      "metadata": {
        "id": "uUQxBiJ0GVJ3"
      },
      "source": [
        "# \n",
        "# Сформируем две выборки для проверки гипотезы.\n",
        "\n",
        "smart_proceed_mean=(\n",
        "    calc_table.loc[calc_table.tariff==\"smart\",'total_proceeds']\n",
        ")\n",
        "\n",
        "ultra_proceed_mean=(\n",
        "    calc_table.loc[calc_table.tariff==\"ultra\",'total_proceeds']\n",
        ")"
      ],
      "execution_count": 40,
      "outputs": []
    },
    {
      "cell_type": "markdown",
      "metadata": {
        "id": "Vj9BG7psVIy7"
      },
      "source": [
        "Проверим дисперсию и среднее"
      ]
    },
    {
      "cell_type": "code",
      "metadata": {
        "colab": {
          "base_uri": "https://localhost:8080/"
        },
        "id": "QVVwS8EkUwk2",
        "outputId": "3980ae4a-a271-4805-c4d5-38afc2de1c3f"
      },
      "source": [
        "smart_proceed_mean.describe()"
      ],
      "execution_count": 41,
      "outputs": [
        {
          "output_type": "execute_result",
          "data": {
            "text/plain": [
              "count    2229.000000\n",
              "mean     1246.336653\n",
              "std       803.671482\n",
              "min       550.000000\n",
              "25%       550.000000\n",
              "50%       967.200000\n",
              "75%      1686.400000\n",
              "max      6820.000000\n",
              "Name: total_proceeds, dtype: float64"
            ]
          },
          "metadata": {
            "tags": []
          },
          "execution_count": 41
        }
      ]
    },
    {
      "cell_type": "code",
      "metadata": {
        "colab": {
          "base_uri": "https://localhost:8080/"
        },
        "id": "JtU_Wtb5VFLQ",
        "outputId": "cc584675-0cbe-4ebc-d115-5e76f2dd9974"
      },
      "source": [
        "ultra_proceed_mean.describe()"
      ],
      "execution_count": 42,
      "outputs": [
        {
          "output_type": "execute_result",
          "data": {
            "text/plain": [
              "count     985.000000\n",
              "mean     2063.182690\n",
              "std       364.856367\n",
              "min      1950.000000\n",
              "25%      1950.000000\n",
              "50%      1950.000000\n",
              "75%      1950.000000\n",
              "max      4810.350000\n",
              "Name: total_proceeds, dtype: float64"
            ]
          },
          "metadata": {
            "tags": []
          },
          "execution_count": 42
        }
      ]
    },
    {
      "cell_type": "code",
      "metadata": {
        "colab": {
          "base_uri": "https://localhost:8080/"
        },
        "id": "VATw6qGyT3Wj",
        "outputId": "70ea022a-7356-4bb7-a286-f6fe6c4c787c"
      },
      "source": [
        "\r\n",
        "alpha = .05\r\n",
        "results = st.ttest_ind(\r\n",
        "    smart_proceed_mean, \r\n",
        "    ultra_proceed_mean,equal_var=False)\r\n",
        "\r\n",
        "\r\n",
        "print('p-значение:', results.pvalue)\r\n",
        "\r\n",
        "if (results.pvalue < alpha):\r\n",
        "    print(\"Отвергаем нулевую гипотезу\")\r\n",
        "else:\r\n",
        "    print(\"Не получилось отвергнуть нулевую гипотезу\") \r\n",
        "\r\n"
      ],
      "execution_count": 43,
      "outputs": [
        {
          "output_type": "stream",
          "text": [
            "p-значение: 6.419305524049987e-280\n",
            "Отвергаем нулевую гипотезу\n"
          ],
          "name": "stdout"
        }
      ]
    },
    {
      "cell_type": "markdown",
      "metadata": {
        "id": "Hk7fE1EUGVJ4"
      },
      "source": [
        "<a href='#mean proceeds_city'> </a>\n",
        "### 5.1 Cредняя выручка пользователей из Москвы отличается от выручки пользователей из других регионов"
      ]
    },
    {
      "cell_type": "markdown",
      "metadata": {
        "id": "IXQYMK4bOeET"
      },
      "source": [
        "Сформулируем нулевую гипотезу. \"Средняя выручка абонентов Москвы и других городов равны\"\r\n",
        "\r\n",
        "Сформулируем альтернативную гипотезу. \"Средняя выручка абонентов Москвы и других городов не равны\""
      ]
    },
    {
      "cell_type": "code",
      "metadata": {
        "id": "_p8kc9POGVJ4"
      },
      "source": [
        "# Сформируем две выборки для проверки гипотезы.\n",
        "\n",
        "moscow_proceed_mean=(\n",
        "    calc_table.loc[calc_table.city==\"Москва\",'total_proceeds']\n",
        ")\n",
        "\n",
        "another_proceed_mean=(\n",
        "    calc_table.loc[calc_table.city!=\"Москва\",'total_proceeds']\n",
        ")\n"
      ],
      "execution_count": 44,
      "outputs": []
    },
    {
      "cell_type": "code",
      "metadata": {
        "colab": {
          "base_uri": "https://localhost:8080/"
        },
        "id": "xtQr11MUVlR1",
        "outputId": "5a1e957b-c4d5-4107-dd7e-3ea2eb335024"
      },
      "source": [
        "moscow_proceed_mean.describe()"
      ],
      "execution_count": 45,
      "outputs": [
        {
          "output_type": "execute_result",
          "data": {
            "text/plain": [
              "count     611.000000\n",
              "mean     1515.902782\n",
              "std       747.676494\n",
              "min       550.000000\n",
              "25%       734.500000\n",
              "50%      1721.400000\n",
              "75%      1950.000000\n",
              "max      5279.200000\n",
              "Name: total_proceeds, dtype: float64"
            ]
          },
          "metadata": {
            "tags": []
          },
          "execution_count": 45
        }
      ]
    },
    {
      "cell_type": "code",
      "metadata": {
        "colab": {
          "base_uri": "https://localhost:8080/"
        },
        "id": "4i0qoYWWV5B2",
        "outputId": "ba853bb1-4e66-499c-9624-2581f0f6a8b1"
      },
      "source": [
        "another_proceed_mean.describe()"
      ],
      "execution_count": 46,
      "outputs": [
        {
          "output_type": "execute_result",
          "data": {
            "text/plain": [
              "count    2603.000000\n",
              "mean     1492.163945\n",
              "std       804.616310\n",
              "min       550.000000\n",
              "25%       691.000000\n",
              "50%      1533.400000\n",
              "75%      1950.000000\n",
              "max      6820.000000\n",
              "Name: total_proceeds, dtype: float64"
            ]
          },
          "metadata": {
            "tags": []
          },
          "execution_count": 46
        }
      ]
    },
    {
      "cell_type": "code",
      "metadata": {
        "colab": {
          "base_uri": "https://localhost:8080/"
        },
        "id": "AjQLiGIEI5CH",
        "outputId": "cf3d25b4-b034-4719-c873-0229c4cba290"
      },
      "source": [
        "alpha = .05\r\n",
        "\r\n",
        "\r\n",
        "results = st.ttest_ind(\r\n",
        "    moscow_proceed_mean, \r\n",
        "    another_proceed_mean)\r\n",
        "\r\n",
        "print('p-значение:', results.pvalue)\r\n",
        "\r\n",
        "if results.pvalue < alpha:\r\n",
        "    print(\"Отвергаем нулевую гипотезу\")\r\n",
        "else:\r\n",
        "  \r\n",
        "    print(\"Не получилось отвергнуть нулевую гипотезу\") \r\n",
        "results = st.ttest_ind(\r\n",
        "    moscow_proceed_mean, \r\n",
        "    another_proceed_mean,equal_var=False)"
      ],
      "execution_count": 48,
      "outputs": [
        {
          "output_type": "stream",
          "text": [
            "p-значение: 0.5061098431334738\n",
            "Не получилось отвергнуть нулевую гипотезу\n"
          ],
          "name": "stdout"
        }
      ]
    },
    {
      "cell_type": "markdown",
      "metadata": {
        "id": "GhUp5gRwGVJ4"
      },
      "source": [
        "## Вывод\n",
        "Мы имеем дело с двухсторонними гипотизами в обоих случаях.\n",
        "Согласно нулевой гипотизе разница между средними двух случайных выборок равна 0, значит альтернативная гипотеза берет на себя опровергающи области слева <0 и справа >0  исходя из этого пороговое значение выбрано 5.\n"
      ]
    },
    {
      "cell_type": "markdown",
      "metadata": {
        "id": "WUHpG2JeGVJ5"
      },
      "source": [
        "<a id='#output'></a>\n",
        "# 6.Общий вывод"
      ]
    },
    {
      "cell_type": "markdown",
      "metadata": {
        "id": "BFw6pTNVGVJ5"
      },
      "source": [
        "Общее количество пользователей в воборке 498.\n",
        "Пользователей с тарифом smart 350\n",
        "Пользователей с тарифом ultra 148\n",
        "\n",
        "Отвечая на главный вопрос, какой тариф для компании более выгодный, я скажу что это тариф ultra.\n",
        "* по соотношению кол-ва пользователей и получаемоф выручки, пользователи с тарифом ultra при том что их меньше больше чем в 2 раза приносят компании 42% выручки.\n",
        "\n",
        "Но тариф smart это очень удобны тариф для подключения новых пользователей. Этот тариф имеет очень низкий входной порог для пользователя. К тому же переплаты по тарифам встречаются в 95% именно у пользователей этого тарифа\n",
        "\n",
        "Если цель стоит привлеч больше клиентов, я бы рекомендовал обратить внимание на тариф smart. \n",
        "Далее, проанализировать и части клиентов предложить перейти на тариф ultra.\n",
        "\n",
        "\n",
        "\n"
      ]
    }
  ]
}