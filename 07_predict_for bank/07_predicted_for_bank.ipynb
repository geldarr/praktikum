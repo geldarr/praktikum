{
  "nbformat": 4,
  "nbformat_minor": 0,
  "metadata": {
    "kernelspec": {
      "display_name": "Python 3",
      "language": "python",
      "name": "python3"
    },
    "language_info": {
      "codemirror_mode": {
        "name": "ipython",
        "version": 3
      },
      "file_extension": ".py",
      "mimetype": "text/x-python",
      "name": "python",
      "nbconvert_exporter": "python",
      "pygments_lexer": "ipython3",
      "version": "3.7.8"
    },
    "toc": {
      "base_numbering": 1,
      "nav_menu": {},
      "number_sections": true,
      "sideBar": true,
      "skip_h1_title": false,
      "title_cell": "Table of Contents",
      "title_sidebar": "Contents",
      "toc_cell": false,
      "toc_position": {},
      "toc_section_display": true,
      "toc_window_display": false
    },
    "colab": {
      "name": "e9362a5d-de9d-4641-9755-20edf63bfe54.ipynb",
      "provenance": [],
      "toc_visible": true
    }
  },
  "cells": [
    {
      "cell_type": "markdown",
      "metadata": {
        "id": "CmlhIArHZrVr"
      },
      "source": [
        "# Отток клиентов"
      ]
    },
    {
      "cell_type": "markdown",
      "metadata": {
        "id": "8H9IKZV5ZrVs"
      },
      "source": [
        "\n",
        "Источник данных: [https://www.kaggle.com/barelydedicated/bank-customer-churn-modeling](https://www.kaggle.com/barelydedicated/bank-customer-churn-modeling)\n",
        "\n",
        "Признаки\n",
        "* RowNumber — индекс строки в данных\n",
        "* CustomerId — уникальный идентификатор клиента\n",
        "* Surname — фамилия\n",
        "* CreditScore — кредитный рейтинг\n",
        "* Geography — страна проживания\n",
        "* Gender — пол\n",
        "* Age — возраст\n",
        "* Tenure — количество недвижимости у клиента\n",
        "* Balance — баланс на счёте\n",
        "* NumOfProducts — количество продуктов банка, используемых клиентом\n",
        "* HasCrCard — наличие кредитной карты\n",
        "* IsActiveMember — активность клиента\n",
        "* EstimatedSalary — предполагаемая зарплата\n",
        "\n",
        "Целевой признак\n",
        "* Exited — факт ухода клиента"
      ]
    },
    {
      "cell_type": "code",
      "metadata": {
        "colab": {
          "base_uri": "https://localhost:8080/"
        },
        "id": "ANE49mzmbWgB",
        "outputId": "55587a27-5e27-4e93-d6a1-637183d79ff3"
      },
      "source": [
        "from google.colab import drive\n",
        "drive.mount('/content/drive')"
      ],
      "execution_count": 1,
      "outputs": [
        {
          "output_type": "stream",
          "text": [
            "Mounted at /content/drive\n"
          ],
          "name": "stdout"
        }
      ]
    },
    {
      "cell_type": "markdown",
      "metadata": {
        "id": "WD1n9yn3ZrVt"
      },
      "source": [
        "<a class=\"anchor\" id=\"Подготовка_данных\"></a>\n",
        "# 1. Подготовка данных"
      ]
    },
    {
      "cell_type": "markdown",
      "metadata": {
        "id": "vqrzEw8oZrVt"
      },
      "source": [
        "Первичная подготовка данных\n",
        "Оценка обьема данных\n",
        "Оценка пропусков в данных"
      ]
    },
    {
      "cell_type": "markdown",
      "metadata": {
        "id": "e8V3_fkUZrVu"
      },
      "source": [
        "<a id=\"импорт_библиотек\"></a>\n",
        "### 1.1 Импорт библиотек"
      ]
    },
    {
      "cell_type": "code",
      "metadata": {
        "id": "7zv8WrUXZrVu"
      },
      "source": [
        "import pandas as pd\n",
        "import numpy as np\n",
        "from sklearn.model_selection import train_test_split \n",
        "from sklearn.linear_model import LogisticRegression\n",
        "from sklearn.metrics import f1_score\n",
        "from sklearn.ensemble import RandomForestClassifier\n",
        "from sklearn.metrics import confusion_matrix\n",
        "from sklearn.metrics import roc_curve\n",
        "import matplotlib.pyplot as plt\n",
        "from sklearn.preprocessing import StandardScaler\n",
        "from tqdm import tqdm\n",
        "from sklearn.metrics import roc_auc_score\n",
        "from sklearn.metrics import recall_score\n",
        "from sklearn.metrics import precision_score\n",
        "from sklearn.tree import DecisionTreeClassifier\n",
        "from sklearn.utils import shuffle\n",
        "import warnings\n",
        "import seaborn as sns\n",
        "warnings.filterwarnings(action='once')\n"
      ],
      "execution_count": 2,
      "outputs": []
    },
    {
      "cell_type": "markdown",
      "metadata": {
        "id": "nHivn6cHZrVu"
      },
      "source": [
        "<a id=\"обработка_данных\"></a>\n",
        "### 1.2 Обработка данных"
      ]
    },
    {
      "cell_type": "code",
      "metadata": {
        "id": "8dhbNGq-ZrVu"
      },
      "source": [
        "#загрузим данные\n",
        "data = pd.read_csv(\"/content/drive/MyDrive/Colab Notebooks/Shad/07_babk/Churn.csv\")"
      ],
      "execution_count": 3,
      "outputs": []
    },
    {
      "cell_type": "code",
      "metadata": {
        "scrolled": true,
        "colab": {
          "base_uri": "https://localhost:8080/"
        },
        "id": "sHL-KWe2ZrVv",
        "outputId": "b198fea1-89fe-49d9-afbc-b22c5c7eb4a9"
      },
      "source": [
        "#проверим на пустые значени и типы данных.\n",
        "data.isna().mean()"
      ],
      "execution_count": 4,
      "outputs": [
        {
          "output_type": "execute_result",
          "data": {
            "text/plain": [
              "RowNumber          0.0000\n",
              "CustomerId         0.0000\n",
              "Surname            0.0000\n",
              "CreditScore        0.0000\n",
              "Geography          0.0000\n",
              "Gender             0.0000\n",
              "Age                0.0000\n",
              "Tenure             0.0909\n",
              "Balance            0.0000\n",
              "NumOfProducts      0.0000\n",
              "HasCrCard          0.0000\n",
              "IsActiveMember     0.0000\n",
              "EstimatedSalary    0.0000\n",
              "Exited             0.0000\n",
              "dtype: float64"
            ]
          },
          "metadata": {
            "tags": []
          },
          "execution_count": 4
        }
      ]
    },
    {
      "cell_type": "code",
      "metadata": {
        "colab": {
          "base_uri": "https://localhost:8080/"
        },
        "id": "IbR47WjKZrVv",
        "outputId": "6ad656bd-af31-4a1d-9b04-e7fd1d44729f"
      },
      "source": [
        "data.info()"
      ],
      "execution_count": 5,
      "outputs": [
        {
          "output_type": "stream",
          "text": [
            "<class 'pandas.core.frame.DataFrame'>\n",
            "RangeIndex: 10000 entries, 0 to 9999\n",
            "Data columns (total 14 columns):\n",
            " #   Column           Non-Null Count  Dtype  \n",
            "---  ------           --------------  -----  \n",
            " 0   RowNumber        10000 non-null  int64  \n",
            " 1   CustomerId       10000 non-null  int64  \n",
            " 2   Surname          10000 non-null  object \n",
            " 3   CreditScore      10000 non-null  int64  \n",
            " 4   Geography        10000 non-null  object \n",
            " 5   Gender           10000 non-null  object \n",
            " 6   Age              10000 non-null  int64  \n",
            " 7   Tenure           9091 non-null   float64\n",
            " 8   Balance          10000 non-null  float64\n",
            " 9   NumOfProducts    10000 non-null  int64  \n",
            " 10  HasCrCard        10000 non-null  int64  \n",
            " 11  IsActiveMember   10000 non-null  int64  \n",
            " 12  EstimatedSalary  10000 non-null  float64\n",
            " 13  Exited           10000 non-null  int64  \n",
            "dtypes: float64(3), int64(8), object(3)\n",
            "memory usage: 1.1+ MB\n"
          ],
          "name": "stdout"
        }
      ]
    },
    {
      "cell_type": "code",
      "metadata": {
        "colab": {
          "base_uri": "https://localhost:8080/",
          "height": 359
        },
        "id": "66EpTIF8ZrVw",
        "outputId": "32dd2792-c2cd-4f7a-c1f3-621909e25a21"
      },
      "source": [
        "data.head(10)"
      ],
      "execution_count": 6,
      "outputs": [
        {
          "output_type": "execute_result",
          "data": {
            "text/html": [
              "<div>\n",
              "<style scoped>\n",
              "    .dataframe tbody tr th:only-of-type {\n",
              "        vertical-align: middle;\n",
              "    }\n",
              "\n",
              "    .dataframe tbody tr th {\n",
              "        vertical-align: top;\n",
              "    }\n",
              "\n",
              "    .dataframe thead th {\n",
              "        text-align: right;\n",
              "    }\n",
              "</style>\n",
              "<table border=\"1\" class=\"dataframe\">\n",
              "  <thead>\n",
              "    <tr style=\"text-align: right;\">\n",
              "      <th></th>\n",
              "      <th>RowNumber</th>\n",
              "      <th>CustomerId</th>\n",
              "      <th>Surname</th>\n",
              "      <th>CreditScore</th>\n",
              "      <th>Geography</th>\n",
              "      <th>Gender</th>\n",
              "      <th>Age</th>\n",
              "      <th>Tenure</th>\n",
              "      <th>Balance</th>\n",
              "      <th>NumOfProducts</th>\n",
              "      <th>HasCrCard</th>\n",
              "      <th>IsActiveMember</th>\n",
              "      <th>EstimatedSalary</th>\n",
              "      <th>Exited</th>\n",
              "    </tr>\n",
              "  </thead>\n",
              "  <tbody>\n",
              "    <tr>\n",
              "      <th>0</th>\n",
              "      <td>1</td>\n",
              "      <td>15634602</td>\n",
              "      <td>Hargrave</td>\n",
              "      <td>619</td>\n",
              "      <td>France</td>\n",
              "      <td>Female</td>\n",
              "      <td>42</td>\n",
              "      <td>2.0</td>\n",
              "      <td>0.00</td>\n",
              "      <td>1</td>\n",
              "      <td>1</td>\n",
              "      <td>1</td>\n",
              "      <td>101348.88</td>\n",
              "      <td>1</td>\n",
              "    </tr>\n",
              "    <tr>\n",
              "      <th>1</th>\n",
              "      <td>2</td>\n",
              "      <td>15647311</td>\n",
              "      <td>Hill</td>\n",
              "      <td>608</td>\n",
              "      <td>Spain</td>\n",
              "      <td>Female</td>\n",
              "      <td>41</td>\n",
              "      <td>1.0</td>\n",
              "      <td>83807.86</td>\n",
              "      <td>1</td>\n",
              "      <td>0</td>\n",
              "      <td>1</td>\n",
              "      <td>112542.58</td>\n",
              "      <td>0</td>\n",
              "    </tr>\n",
              "    <tr>\n",
              "      <th>2</th>\n",
              "      <td>3</td>\n",
              "      <td>15619304</td>\n",
              "      <td>Onio</td>\n",
              "      <td>502</td>\n",
              "      <td>France</td>\n",
              "      <td>Female</td>\n",
              "      <td>42</td>\n",
              "      <td>8.0</td>\n",
              "      <td>159660.80</td>\n",
              "      <td>3</td>\n",
              "      <td>1</td>\n",
              "      <td>0</td>\n",
              "      <td>113931.57</td>\n",
              "      <td>1</td>\n",
              "    </tr>\n",
              "    <tr>\n",
              "      <th>3</th>\n",
              "      <td>4</td>\n",
              "      <td>15701354</td>\n",
              "      <td>Boni</td>\n",
              "      <td>699</td>\n",
              "      <td>France</td>\n",
              "      <td>Female</td>\n",
              "      <td>39</td>\n",
              "      <td>1.0</td>\n",
              "      <td>0.00</td>\n",
              "      <td>2</td>\n",
              "      <td>0</td>\n",
              "      <td>0</td>\n",
              "      <td>93826.63</td>\n",
              "      <td>0</td>\n",
              "    </tr>\n",
              "    <tr>\n",
              "      <th>4</th>\n",
              "      <td>5</td>\n",
              "      <td>15737888</td>\n",
              "      <td>Mitchell</td>\n",
              "      <td>850</td>\n",
              "      <td>Spain</td>\n",
              "      <td>Female</td>\n",
              "      <td>43</td>\n",
              "      <td>2.0</td>\n",
              "      <td>125510.82</td>\n",
              "      <td>1</td>\n",
              "      <td>1</td>\n",
              "      <td>1</td>\n",
              "      <td>79084.10</td>\n",
              "      <td>0</td>\n",
              "    </tr>\n",
              "    <tr>\n",
              "      <th>5</th>\n",
              "      <td>6</td>\n",
              "      <td>15574012</td>\n",
              "      <td>Chu</td>\n",
              "      <td>645</td>\n",
              "      <td>Spain</td>\n",
              "      <td>Male</td>\n",
              "      <td>44</td>\n",
              "      <td>8.0</td>\n",
              "      <td>113755.78</td>\n",
              "      <td>2</td>\n",
              "      <td>1</td>\n",
              "      <td>0</td>\n",
              "      <td>149756.71</td>\n",
              "      <td>1</td>\n",
              "    </tr>\n",
              "    <tr>\n",
              "      <th>6</th>\n",
              "      <td>7</td>\n",
              "      <td>15592531</td>\n",
              "      <td>Bartlett</td>\n",
              "      <td>822</td>\n",
              "      <td>France</td>\n",
              "      <td>Male</td>\n",
              "      <td>50</td>\n",
              "      <td>7.0</td>\n",
              "      <td>0.00</td>\n",
              "      <td>2</td>\n",
              "      <td>1</td>\n",
              "      <td>1</td>\n",
              "      <td>10062.80</td>\n",
              "      <td>0</td>\n",
              "    </tr>\n",
              "    <tr>\n",
              "      <th>7</th>\n",
              "      <td>8</td>\n",
              "      <td>15656148</td>\n",
              "      <td>Obinna</td>\n",
              "      <td>376</td>\n",
              "      <td>Germany</td>\n",
              "      <td>Female</td>\n",
              "      <td>29</td>\n",
              "      <td>4.0</td>\n",
              "      <td>115046.74</td>\n",
              "      <td>4</td>\n",
              "      <td>1</td>\n",
              "      <td>0</td>\n",
              "      <td>119346.88</td>\n",
              "      <td>1</td>\n",
              "    </tr>\n",
              "    <tr>\n",
              "      <th>8</th>\n",
              "      <td>9</td>\n",
              "      <td>15792365</td>\n",
              "      <td>He</td>\n",
              "      <td>501</td>\n",
              "      <td>France</td>\n",
              "      <td>Male</td>\n",
              "      <td>44</td>\n",
              "      <td>4.0</td>\n",
              "      <td>142051.07</td>\n",
              "      <td>2</td>\n",
              "      <td>0</td>\n",
              "      <td>1</td>\n",
              "      <td>74940.50</td>\n",
              "      <td>0</td>\n",
              "    </tr>\n",
              "    <tr>\n",
              "      <th>9</th>\n",
              "      <td>10</td>\n",
              "      <td>15592389</td>\n",
              "      <td>H?</td>\n",
              "      <td>684</td>\n",
              "      <td>France</td>\n",
              "      <td>Male</td>\n",
              "      <td>27</td>\n",
              "      <td>2.0</td>\n",
              "      <td>134603.88</td>\n",
              "      <td>1</td>\n",
              "      <td>1</td>\n",
              "      <td>1</td>\n",
              "      <td>71725.73</td>\n",
              "      <td>0</td>\n",
              "    </tr>\n",
              "  </tbody>\n",
              "</table>\n",
              "</div>"
            ],
            "text/plain": [
              "   RowNumber  CustomerId   Surname  ...  IsActiveMember EstimatedSalary Exited\n",
              "0          1    15634602  Hargrave  ...               1       101348.88      1\n",
              "1          2    15647311      Hill  ...               1       112542.58      0\n",
              "2          3    15619304      Onio  ...               0       113931.57      1\n",
              "3          4    15701354      Boni  ...               0        93826.63      0\n",
              "4          5    15737888  Mitchell  ...               1        79084.10      0\n",
              "5          6    15574012       Chu  ...               0       149756.71      1\n",
              "6          7    15592531  Bartlett  ...               1        10062.80      0\n",
              "7          8    15656148    Obinna  ...               0       119346.88      1\n",
              "8          9    15792365        He  ...               1        74940.50      0\n",
              "9         10    15592389        H?  ...               1        71725.73      0\n",
              "\n",
              "[10 rows x 14 columns]"
            ]
          },
          "metadata": {
            "tags": []
          },
          "execution_count": 6
        }
      ]
    },
    {
      "cell_type": "markdown",
      "metadata": {
        "id": "2NpiIVjkZrVw"
      },
      "source": [
        "\n",
        "Обработка:\n",
        "\n",
        "  * Убрать заглавные символы в названиях признаков, удалить не нужные признаки. \"Surname\".\n",
        "   \n",
        "  * Тип данных признака Tenure заменить на int\n",
        "  \n",
        "  * На первом круге будем обучать модель на полных данных, поэтому сформируем датасет без пустых значений. Заполним пустые значения медианой.\n",
        "  \n",
        "  \n",
        "    \n",
        "    "
      ]
    },
    {
      "cell_type": "code",
      "metadata": {
        "id": "Ur1uGTNpZrVx"
      },
      "source": [
        "# Приведем названия признаков к нижнему регистру\n",
        "data.columns = data.columns.str.lower()"
      ],
      "execution_count": 7,
      "outputs": []
    },
    {
      "cell_type": "code",
      "metadata": {
        "colab": {
          "base_uri": "https://localhost:8080/"
        },
        "id": "NJoocrbuZrVx",
        "outputId": "31efc038-3a77-42e5-c638-007870ea37f9"
      },
      "source": [
        "data['tenure'].median()"
      ],
      "execution_count": 8,
      "outputs": [
        {
          "output_type": "execute_result",
          "data": {
            "text/plain": [
              "5.0"
            ]
          },
          "metadata": {
            "tags": []
          },
          "execution_count": 8
        }
      ]
    },
    {
      "cell_type": "code",
      "metadata": {
        "colab": {
          "base_uri": "https://localhost:8080/"
        },
        "id": "P4fEpjZIZrVx",
        "outputId": "a8f2a9d4-b8e4-4aae-ed89-3118759cb9fc"
      },
      "source": [
        "data['tenure'].mean()"
      ],
      "execution_count": 9,
      "outputs": [
        {
          "output_type": "execute_result",
          "data": {
            "text/plain": [
              "4.997690023099769"
            ]
          },
          "metadata": {
            "tags": []
          },
          "execution_count": 9
        }
      ]
    },
    {
      "cell_type": "code",
      "metadata": {
        "id": "6Sy3A2PqZrVx"
      },
      "source": [
        "data['tenure'].fillna(data['tenure'].median(),inplace=True)\n"
      ],
      "execution_count": 10,
      "outputs": []
    },
    {
      "cell_type": "code",
      "metadata": {
        "colab": {
          "base_uri": "https://localhost:8080/"
        },
        "id": "VHznvisKZrVy",
        "outputId": "f44be4fc-a9ad-44ac-8779-c89246a486e8"
      },
      "source": [
        "data['exited'].mean()"
      ],
      "execution_count": 11,
      "outputs": [
        {
          "output_type": "execute_result",
          "data": {
            "text/plain": [
              "0.2037"
            ]
          },
          "metadata": {
            "tags": []
          },
          "execution_count": 11
        }
      ]
    },
    {
      "cell_type": "code",
      "metadata": {
        "id": "iORmMaz8ZrVy"
      },
      "source": [
        "# заменим тип данных tenure на int \n",
        "data['tenure'] = data['tenure'].astype('int64',errors='ignore') "
      ],
      "execution_count": 12,
      "outputs": []
    },
    {
      "cell_type": "code",
      "metadata": {
        "colab": {
          "base_uri": "https://localhost:8080/"
        },
        "id": "sTWegYsJZrVy",
        "outputId": "64b46b97-1fb2-4f38-ab38-db63b09a6a37"
      },
      "source": [
        "data.info()"
      ],
      "execution_count": 13,
      "outputs": [
        {
          "output_type": "stream",
          "text": [
            "<class 'pandas.core.frame.DataFrame'>\n",
            "RangeIndex: 10000 entries, 0 to 9999\n",
            "Data columns (total 14 columns):\n",
            " #   Column           Non-Null Count  Dtype  \n",
            "---  ------           --------------  -----  \n",
            " 0   rownumber        10000 non-null  int64  \n",
            " 1   customerid       10000 non-null  int64  \n",
            " 2   surname          10000 non-null  object \n",
            " 3   creditscore      10000 non-null  int64  \n",
            " 4   geography        10000 non-null  object \n",
            " 5   gender           10000 non-null  object \n",
            " 6   age              10000 non-null  int64  \n",
            " 7   tenure           10000 non-null  int64  \n",
            " 8   balance          10000 non-null  float64\n",
            " 9   numofproducts    10000 non-null  int64  \n",
            " 10  hascrcard        10000 non-null  int64  \n",
            " 11  isactivemember   10000 non-null  int64  \n",
            " 12  estimatedsalary  10000 non-null  float64\n",
            " 13  exited           10000 non-null  int64  \n",
            "dtypes: float64(2), int64(9), object(3)\n",
            "memory usage: 1.1+ MB\n"
          ],
          "name": "stdout"
        }
      ]
    },
    {
      "cell_type": "code",
      "metadata": {
        "id": "SteQFPPBZrVy"
      },
      "source": [
        "#data = data.fillna('unknown')"
      ],
      "execution_count": 14,
      "outputs": []
    },
    {
      "cell_type": "code",
      "metadata": {
        "id": "qdkNjUtIZrVy"
      },
      "source": [
        "#data.dropna(inplace=True)"
      ],
      "execution_count": 15,
      "outputs": []
    },
    {
      "cell_type": "code",
      "metadata": {
        "colab": {
          "base_uri": "https://localhost:8080/"
        },
        "id": "Ef3U-kMkZrVz",
        "outputId": "89268a04-7984-4857-f5b8-d4b35153b29d"
      },
      "source": [
        "data.info()"
      ],
      "execution_count": 16,
      "outputs": [
        {
          "output_type": "stream",
          "text": [
            "<class 'pandas.core.frame.DataFrame'>\n",
            "RangeIndex: 10000 entries, 0 to 9999\n",
            "Data columns (total 14 columns):\n",
            " #   Column           Non-Null Count  Dtype  \n",
            "---  ------           --------------  -----  \n",
            " 0   rownumber        10000 non-null  int64  \n",
            " 1   customerid       10000 non-null  int64  \n",
            " 2   surname          10000 non-null  object \n",
            " 3   creditscore      10000 non-null  int64  \n",
            " 4   geography        10000 non-null  object \n",
            " 5   gender           10000 non-null  object \n",
            " 6   age              10000 non-null  int64  \n",
            " 7   tenure           10000 non-null  int64  \n",
            " 8   balance          10000 non-null  float64\n",
            " 9   numofproducts    10000 non-null  int64  \n",
            " 10  hascrcard        10000 non-null  int64  \n",
            " 11  isactivemember   10000 non-null  int64  \n",
            " 12  estimatedsalary  10000 non-null  float64\n",
            " 13  exited           10000 non-null  int64  \n",
            "dtypes: float64(2), int64(9), object(3)\n",
            "memory usage: 1.1+ MB\n"
          ],
          "name": "stdout"
        }
      ]
    },
    {
      "cell_type": "code",
      "metadata": {
        "colab": {
          "base_uri": "https://localhost:8080/",
          "height": 390
        },
        "id": "DU84UY6mdIjg",
        "outputId": "f232f462-74c1-4244-ffb5-434bfa4dbcfd"
      },
      "source": [
        "data.corr()"
      ],
      "execution_count": 17,
      "outputs": [
        {
          "output_type": "execute_result",
          "data": {
            "text/html": [
              "<div>\n",
              "<style scoped>\n",
              "    .dataframe tbody tr th:only-of-type {\n",
              "        vertical-align: middle;\n",
              "    }\n",
              "\n",
              "    .dataframe tbody tr th {\n",
              "        vertical-align: top;\n",
              "    }\n",
              "\n",
              "    .dataframe thead th {\n",
              "        text-align: right;\n",
              "    }\n",
              "</style>\n",
              "<table border=\"1\" class=\"dataframe\">\n",
              "  <thead>\n",
              "    <tr style=\"text-align: right;\">\n",
              "      <th></th>\n",
              "      <th>rownumber</th>\n",
              "      <th>customerid</th>\n",
              "      <th>creditscore</th>\n",
              "      <th>age</th>\n",
              "      <th>tenure</th>\n",
              "      <th>balance</th>\n",
              "      <th>numofproducts</th>\n",
              "      <th>hascrcard</th>\n",
              "      <th>isactivemember</th>\n",
              "      <th>estimatedsalary</th>\n",
              "      <th>exited</th>\n",
              "    </tr>\n",
              "  </thead>\n",
              "  <tbody>\n",
              "    <tr>\n",
              "      <th>rownumber</th>\n",
              "      <td>1.000000</td>\n",
              "      <td>0.004202</td>\n",
              "      <td>0.005840</td>\n",
              "      <td>0.000783</td>\n",
              "      <td>-0.006979</td>\n",
              "      <td>-0.009067</td>\n",
              "      <td>0.007246</td>\n",
              "      <td>0.000599</td>\n",
              "      <td>0.012044</td>\n",
              "      <td>-0.005988</td>\n",
              "      <td>-0.016571</td>\n",
              "    </tr>\n",
              "    <tr>\n",
              "      <th>customerid</th>\n",
              "      <td>0.004202</td>\n",
              "      <td>1.000000</td>\n",
              "      <td>0.005308</td>\n",
              "      <td>0.009497</td>\n",
              "      <td>-0.020331</td>\n",
              "      <td>-0.012419</td>\n",
              "      <td>0.016972</td>\n",
              "      <td>-0.014025</td>\n",
              "      <td>0.001665</td>\n",
              "      <td>0.015271</td>\n",
              "      <td>-0.006248</td>\n",
              "    </tr>\n",
              "    <tr>\n",
              "      <th>creditscore</th>\n",
              "      <td>0.005840</td>\n",
              "      <td>0.005308</td>\n",
              "      <td>1.000000</td>\n",
              "      <td>-0.003965</td>\n",
              "      <td>-0.000060</td>\n",
              "      <td>0.006268</td>\n",
              "      <td>0.012238</td>\n",
              "      <td>-0.005458</td>\n",
              "      <td>0.025651</td>\n",
              "      <td>-0.001384</td>\n",
              "      <td>-0.027094</td>\n",
              "    </tr>\n",
              "    <tr>\n",
              "      <th>age</th>\n",
              "      <td>0.000783</td>\n",
              "      <td>0.009497</td>\n",
              "      <td>-0.003965</td>\n",
              "      <td>1.000000</td>\n",
              "      <td>-0.012606</td>\n",
              "      <td>0.028308</td>\n",
              "      <td>-0.030680</td>\n",
              "      <td>-0.011721</td>\n",
              "      <td>0.085472</td>\n",
              "      <td>-0.007201</td>\n",
              "      <td>0.285323</td>\n",
              "    </tr>\n",
              "    <tr>\n",
              "      <th>tenure</th>\n",
              "      <td>-0.006979</td>\n",
              "      <td>-0.020331</td>\n",
              "      <td>-0.000060</td>\n",
              "      <td>-0.012606</td>\n",
              "      <td>1.000000</td>\n",
              "      <td>-0.007535</td>\n",
              "      <td>0.011409</td>\n",
              "      <td>0.025979</td>\n",
              "      <td>-0.030681</td>\n",
              "      <td>0.010049</td>\n",
              "      <td>-0.015989</td>\n",
              "    </tr>\n",
              "    <tr>\n",
              "      <th>balance</th>\n",
              "      <td>-0.009067</td>\n",
              "      <td>-0.012419</td>\n",
              "      <td>0.006268</td>\n",
              "      <td>0.028308</td>\n",
              "      <td>-0.007535</td>\n",
              "      <td>1.000000</td>\n",
              "      <td>-0.304180</td>\n",
              "      <td>-0.014858</td>\n",
              "      <td>-0.010084</td>\n",
              "      <td>0.012797</td>\n",
              "      <td>0.118533</td>\n",
              "    </tr>\n",
              "    <tr>\n",
              "      <th>numofproducts</th>\n",
              "      <td>0.007246</td>\n",
              "      <td>0.016972</td>\n",
              "      <td>0.012238</td>\n",
              "      <td>-0.030680</td>\n",
              "      <td>0.011409</td>\n",
              "      <td>-0.304180</td>\n",
              "      <td>1.000000</td>\n",
              "      <td>0.003183</td>\n",
              "      <td>0.009612</td>\n",
              "      <td>0.014204</td>\n",
              "      <td>-0.047820</td>\n",
              "    </tr>\n",
              "    <tr>\n",
              "      <th>hascrcard</th>\n",
              "      <td>0.000599</td>\n",
              "      <td>-0.014025</td>\n",
              "      <td>-0.005458</td>\n",
              "      <td>-0.011721</td>\n",
              "      <td>0.025979</td>\n",
              "      <td>-0.014858</td>\n",
              "      <td>0.003183</td>\n",
              "      <td>1.000000</td>\n",
              "      <td>-0.011866</td>\n",
              "      <td>-0.009933</td>\n",
              "      <td>-0.007138</td>\n",
              "    </tr>\n",
              "    <tr>\n",
              "      <th>isactivemember</th>\n",
              "      <td>0.012044</td>\n",
              "      <td>0.001665</td>\n",
              "      <td>0.025651</td>\n",
              "      <td>0.085472</td>\n",
              "      <td>-0.030681</td>\n",
              "      <td>-0.010084</td>\n",
              "      <td>0.009612</td>\n",
              "      <td>-0.011866</td>\n",
              "      <td>1.000000</td>\n",
              "      <td>-0.011421</td>\n",
              "      <td>-0.156128</td>\n",
              "    </tr>\n",
              "    <tr>\n",
              "      <th>estimatedsalary</th>\n",
              "      <td>-0.005988</td>\n",
              "      <td>0.015271</td>\n",
              "      <td>-0.001384</td>\n",
              "      <td>-0.007201</td>\n",
              "      <td>0.010049</td>\n",
              "      <td>0.012797</td>\n",
              "      <td>0.014204</td>\n",
              "      <td>-0.009933</td>\n",
              "      <td>-0.011421</td>\n",
              "      <td>1.000000</td>\n",
              "      <td>0.012097</td>\n",
              "    </tr>\n",
              "    <tr>\n",
              "      <th>exited</th>\n",
              "      <td>-0.016571</td>\n",
              "      <td>-0.006248</td>\n",
              "      <td>-0.027094</td>\n",
              "      <td>0.285323</td>\n",
              "      <td>-0.015989</td>\n",
              "      <td>0.118533</td>\n",
              "      <td>-0.047820</td>\n",
              "      <td>-0.007138</td>\n",
              "      <td>-0.156128</td>\n",
              "      <td>0.012097</td>\n",
              "      <td>1.000000</td>\n",
              "    </tr>\n",
              "  </tbody>\n",
              "</table>\n",
              "</div>"
            ],
            "text/plain": [
              "                 rownumber  customerid  ...  estimatedsalary    exited\n",
              "rownumber         1.000000    0.004202  ...        -0.005988 -0.016571\n",
              "customerid        0.004202    1.000000  ...         0.015271 -0.006248\n",
              "creditscore       0.005840    0.005308  ...        -0.001384 -0.027094\n",
              "age               0.000783    0.009497  ...        -0.007201  0.285323\n",
              "tenure           -0.006979   -0.020331  ...         0.010049 -0.015989\n",
              "balance          -0.009067   -0.012419  ...         0.012797  0.118533\n",
              "numofproducts     0.007246    0.016972  ...         0.014204 -0.047820\n",
              "hascrcard         0.000599   -0.014025  ...        -0.009933 -0.007138\n",
              "isactivemember    0.012044    0.001665  ...        -0.011421 -0.156128\n",
              "estimatedsalary  -0.005988    0.015271  ...         1.000000  0.012097\n",
              "exited           -0.016571   -0.006248  ...         0.012097  1.000000\n",
              "\n",
              "[11 rows x 11 columns]"
            ]
          },
          "metadata": {
            "tags": []
          },
          "execution_count": 17
        }
      ]
    },
    {
      "cell_type": "markdown",
      "metadata": {
        "id": "oqwGloftZrVz"
      },
      "source": [
        "Итог\n",
        "Проведена первичная обработка полученных данных. "
      ]
    },
    {
      "cell_type": "markdown",
      "metadata": {
        "id": "hIgPI9gVZrVz"
      },
      "source": [
        "<a class=\"anchor\" id=\"исследование_задачи\"></a>\n",
        "# 2. Исследование задачи"
      ]
    },
    {
      "cell_type": "markdown",
      "metadata": {
        "id": "e-UYfw8wZrV0"
      },
      "source": [
        "### 2.1 Постановка задачи\n"
      ]
    },
    {
      "cell_type": "markdown",
      "metadata": {
        "id": "cMXMJujMZrV0"
      },
      "source": [
        "Цель - прогнозирование, уйдёт клиент из банка в ближайшее время или нет. \n",
        "\n",
        "Задача является категориальной. Будем применять модели классификации, 1 - клиент уйдет 0 - клиента отсанется. \n",
        "\n",
        "Лучшим показателем работы модели будут положительные предсказания, так как нам в первую очередь интересны клиенты, которые могут покинуть нас в ближайшее время.\n",
        "\n",
        "Основным критерием оценки работы модели будет F-Мера (F1-score), так же дополнительно для предтсавления о работе модели использовать метрики AUC-ROC для построения криво\n",
        "\n",
        "Будем использовать 3 модели, линейную регрессию,решающее дерево и случайный лес.\n"
      ]
    },
    {
      "cell_type": "markdown",
      "metadata": {
        "id": "RoMD0QiSZrV0"
      },
      "source": [
        "### План работ\n",
        "- [x] Проверить целевой признак на дисбаланс\n",
        "- [x] Отобрать признаки, проверить корреляцию признаков, преобразовать   \n",
        "- [x] Сформировать наборы данных тренировочный, валидационный и тестовый\n",
        "- [x] Провести преобразование категориальных признаков\n",
        "- [x] Выбрать подходящую модель для обучения\n",
        "- [x] Обучить модель подобрать гипер параметры проверить результат на валидационном наборе\n",
        "- [x] Оценить необходимость маштабирования признаков\n",
        "- [ ] Вывод \n",
        "\n"
      ]
    },
    {
      "cell_type": "markdown",
      "metadata": {
        "id": "mHYZHUaJZrV0"
      },
      "source": [
        "<a id=\"обработка\"></a>\n",
        "### 2.2 Обработка признаков"
      ]
    },
    {
      "cell_type": "code",
      "metadata": {
        "colab": {
          "base_uri": "https://localhost:8080/",
          "height": 296
        },
        "id": "ux5aAPiXZrV0",
        "outputId": "2072488c-4b0f-4f6f-8b3a-b6b09bbde212"
      },
      "source": [
        "#Посмотрим на целевоц признак\n",
        "sns.countplot(data = data, x = 'exited')"
      ],
      "execution_count": 18,
      "outputs": [
        {
          "output_type": "execute_result",
          "data": {
            "text/plain": [
              "<matplotlib.axes._subplots.AxesSubplot at 0x7ff2c4076ed0>"
            ]
          },
          "metadata": {
            "tags": []
          },
          "execution_count": 18
        },
        {
          "output_type": "display_data",
          "data": {
            "image/png": "[encoded data removed]",
            "text/plain": [
              "<Figure size 432x288 with 1 Axes>"
            ]
          },
          "metadata": {
            "tags": [],
            "needs_background": "light"
          }
        }
      ]
    },
    {
      "cell_type": "code",
      "metadata": {
        "colab": {
          "base_uri": "https://localhost:8080/"
        },
        "id": "3JGKVrbZZrV0",
        "outputId": "8337fd97-682b-4ad0-b896-d0d079d9f610"
      },
      "source": [
        "data['exited'].mean()"
      ],
      "execution_count": 19,
      "outputs": [
        {
          "output_type": "execute_result",
          "data": {
            "text/plain": [
              "0.2037"
            ]
          },
          "metadata": {
            "tags": []
          },
          "execution_count": 19
        }
      ]
    },
    {
      "cell_type": "markdown",
      "metadata": {
        "id": "g_d0ZLBfZrV1"
      },
      "source": [
        "Доля положительных ответов в представленном дадтасете  составляет всего 20%, это может сказаться на результатах модели. Вероятнее всего модель будет реже относить данные к положительному классу.\n"
      ]
    },
    {
      "cell_type": "code",
      "metadata": {
        "id": "_C47cahrZrV1"
      },
      "source": [
        "#Удалим лишние призанки\n",
        "data = data.drop(['rownumber','customerid','surname'],axis=1)"
      ],
      "execution_count": 20,
      "outputs": []
    },
    {
      "cell_type": "code",
      "metadata": {
        "id": "GDmGX9eVZrV1"
      },
      "source": [
        "#Для обоучения моделей проведем прямое кодирование категориальных признаков\n",
        "data = pd.get_dummies(data, drop_first=True)"
      ],
      "execution_count": 21,
      "outputs": []
    },
    {
      "cell_type": "code",
      "metadata": {
        "colab": {
          "base_uri": "https://localhost:8080/",
          "height": 419
        },
        "id": "UXILBhI-ZrV2",
        "outputId": "97c525fd-17ec-4879-8564-3f66185bc684"
      },
      "source": [
        "data"
      ],
      "execution_count": 22,
      "outputs": [
        {
          "output_type": "execute_result",
          "data": {
            "text/html": [
              "<div>\n",
              "<style scoped>\n",
              "    .dataframe tbody tr th:only-of-type {\n",
              "        vertical-align: middle;\n",
              "    }\n",
              "\n",
              "    .dataframe tbody tr th {\n",
              "        vertical-align: top;\n",
              "    }\n",
              "\n",
              "    .dataframe thead th {\n",
              "        text-align: right;\n",
              "    }\n",
              "</style>\n",
              "<table border=\"1\" class=\"dataframe\">\n",
              "  <thead>\n",
              "    <tr style=\"text-align: right;\">\n",
              "      <th></th>\n",
              "      <th>creditscore</th>\n",
              "      <th>age</th>\n",
              "      <th>tenure</th>\n",
              "      <th>balance</th>\n",
              "      <th>numofproducts</th>\n",
              "      <th>hascrcard</th>\n",
              "      <th>isactivemember</th>\n",
              "      <th>estimatedsalary</th>\n",
              "      <th>exited</th>\n",
              "      <th>geography_Germany</th>\n",
              "      <th>geography_Spain</th>\n",
              "      <th>gender_Male</th>\n",
              "    </tr>\n",
              "  </thead>\n",
              "  <tbody>\n",
              "    <tr>\n",
              "      <th>0</th>\n",
              "      <td>619</td>\n",
              "      <td>42</td>\n",
              "      <td>2</td>\n",
              "      <td>0.00</td>\n",
              "      <td>1</td>\n",
              "      <td>1</td>\n",
              "      <td>1</td>\n",
              "      <td>101348.88</td>\n",
              "      <td>1</td>\n",
              "      <td>0</td>\n",
              "      <td>0</td>\n",
              "      <td>0</td>\n",
              "    </tr>\n",
              "    <tr>\n",
              "      <th>1</th>\n",
              "      <td>608</td>\n",
              "      <td>41</td>\n",
              "      <td>1</td>\n",
              "      <td>83807.86</td>\n",
              "      <td>1</td>\n",
              "      <td>0</td>\n",
              "      <td>1</td>\n",
              "      <td>112542.58</td>\n",
              "      <td>0</td>\n",
              "      <td>0</td>\n",
              "      <td>1</td>\n",
              "      <td>0</td>\n",
              "    </tr>\n",
              "    <tr>\n",
              "      <th>2</th>\n",
              "      <td>502</td>\n",
              "      <td>42</td>\n",
              "      <td>8</td>\n",
              "      <td>159660.80</td>\n",
              "      <td>3</td>\n",
              "      <td>1</td>\n",
              "      <td>0</td>\n",
              "      <td>113931.57</td>\n",
              "      <td>1</td>\n",
              "      <td>0</td>\n",
              "      <td>0</td>\n",
              "      <td>0</td>\n",
              "    </tr>\n",
              "    <tr>\n",
              "      <th>3</th>\n",
              "      <td>699</td>\n",
              "      <td>39</td>\n",
              "      <td>1</td>\n",
              "      <td>0.00</td>\n",
              "      <td>2</td>\n",
              "      <td>0</td>\n",
              "      <td>0</td>\n",
              "      <td>93826.63</td>\n",
              "      <td>0</td>\n",
              "      <td>0</td>\n",
              "      <td>0</td>\n",
              "      <td>0</td>\n",
              "    </tr>\n",
              "    <tr>\n",
              "      <th>4</th>\n",
              "      <td>850</td>\n",
              "      <td>43</td>\n",
              "      <td>2</td>\n",
              "      <td>125510.82</td>\n",
              "      <td>1</td>\n",
              "      <td>1</td>\n",
              "      <td>1</td>\n",
              "      <td>79084.10</td>\n",
              "      <td>0</td>\n",
              "      <td>0</td>\n",
              "      <td>1</td>\n",
              "      <td>0</td>\n",
              "    </tr>\n",
              "    <tr>\n",
              "      <th>...</th>\n",
              "      <td>...</td>\n",
              "      <td>...</td>\n",
              "      <td>...</td>\n",
              "      <td>...</td>\n",
              "      <td>...</td>\n",
              "      <td>...</td>\n",
              "      <td>...</td>\n",
              "      <td>...</td>\n",
              "      <td>...</td>\n",
              "      <td>...</td>\n",
              "      <td>...</td>\n",
              "      <td>...</td>\n",
              "    </tr>\n",
              "    <tr>\n",
              "      <th>9995</th>\n",
              "      <td>771</td>\n",
              "      <td>39</td>\n",
              "      <td>5</td>\n",
              "      <td>0.00</td>\n",
              "      <td>2</td>\n",
              "      <td>1</td>\n",
              "      <td>0</td>\n",
              "      <td>96270.64</td>\n",
              "      <td>0</td>\n",
              "      <td>0</td>\n",
              "      <td>0</td>\n",
              "      <td>1</td>\n",
              "    </tr>\n",
              "    <tr>\n",
              "      <th>9996</th>\n",
              "      <td>516</td>\n",
              "      <td>35</td>\n",
              "      <td>10</td>\n",
              "      <td>57369.61</td>\n",
              "      <td>1</td>\n",
              "      <td>1</td>\n",
              "      <td>1</td>\n",
              "      <td>101699.77</td>\n",
              "      <td>0</td>\n",
              "      <td>0</td>\n",
              "      <td>0</td>\n",
              "      <td>1</td>\n",
              "    </tr>\n",
              "    <tr>\n",
              "      <th>9997</th>\n",
              "      <td>709</td>\n",
              "      <td>36</td>\n",
              "      <td>7</td>\n",
              "      <td>0.00</td>\n",
              "      <td>1</td>\n",
              "      <td>0</td>\n",
              "      <td>1</td>\n",
              "      <td>42085.58</td>\n",
              "      <td>1</td>\n",
              "      <td>0</td>\n",
              "      <td>0</td>\n",
              "      <td>0</td>\n",
              "    </tr>\n",
              "    <tr>\n",
              "      <th>9998</th>\n",
              "      <td>772</td>\n",
              "      <td>42</td>\n",
              "      <td>3</td>\n",
              "      <td>75075.31</td>\n",
              "      <td>2</td>\n",
              "      <td>1</td>\n",
              "      <td>0</td>\n",
              "      <td>92888.52</td>\n",
              "      <td>1</td>\n",
              "      <td>1</td>\n",
              "      <td>0</td>\n",
              "      <td>1</td>\n",
              "    </tr>\n",
              "    <tr>\n",
              "      <th>9999</th>\n",
              "      <td>792</td>\n",
              "      <td>28</td>\n",
              "      <td>5</td>\n",
              "      <td>130142.79</td>\n",
              "      <td>1</td>\n",
              "      <td>1</td>\n",
              "      <td>0</td>\n",
              "      <td>38190.78</td>\n",
              "      <td>0</td>\n",
              "      <td>0</td>\n",
              "      <td>0</td>\n",
              "      <td>0</td>\n",
              "    </tr>\n",
              "  </tbody>\n",
              "</table>\n",
              "<p>10000 rows × 12 columns</p>\n",
              "</div>"
            ],
            "text/plain": [
              "      creditscore  age  tenure  ...  geography_Germany  geography_Spain  gender_Male\n",
              "0             619   42       2  ...                  0                0            0\n",
              "1             608   41       1  ...                  0                1            0\n",
              "2             502   42       8  ...                  0                0            0\n",
              "3             699   39       1  ...                  0                0            0\n",
              "4             850   43       2  ...                  0                1            0\n",
              "...           ...  ...     ...  ...                ...              ...          ...\n",
              "9995          771   39       5  ...                  0                0            1\n",
              "9996          516   35      10  ...                  0                0            1\n",
              "9997          709   36       7  ...                  0                0            0\n",
              "9998          772   42       3  ...                  1                0            1\n",
              "9999          792   28       5  ...                  0                0            0\n",
              "\n",
              "[10000 rows x 12 columns]"
            ]
          },
          "metadata": {
            "tags": []
          },
          "execution_count": 22
        }
      ]
    },
    {
      "cell_type": "markdown",
      "metadata": {
        "id": "JsT4415FZrV2"
      },
      "source": [
        "<a id=\"обработка\"></a>\n",
        "### 2.3 Формирование наборов данных "
      ]
    },
    {
      "cell_type": "code",
      "metadata": {
        "id": "pZNDrFRsZrV2"
      },
      "source": [
        "# Из полученного датасета сформируем три набора данных, тренировочный, валидационный и тестовый 70/15/15\n",
        "\n",
        "x = data.drop(['exited'],axis=1)\n",
        "y = data['exited']"
      ],
      "execution_count": 23,
      "outputs": []
    },
    {
      "cell_type": "code",
      "metadata": {
        "id": "g7H_N4nee9NR"
      },
      "source": [
        "x_train, x_remainder, y_train, y_remainder = train_test_split(x, y, test_size=0.4, random_state=12345)\n",
        "#Разделим оставшиеся данные на валидационнцю и тестовую наборы\n",
        "x_valid, x_test, y_valid, y_test = train_test_split(x_remainder, y_remainder, test_size=0.5, random_state=12345)"
      ],
      "execution_count": 24,
      "outputs": []
    },
    {
      "cell_type": "code",
      "metadata": {
        "colab": {
          "base_uri": "https://localhost:8080/"
        },
        "id": "fKQpZ6rIe4wt",
        "outputId": "6c9d2014-60ee-40c8-feb9-1241f9e3b736"
      },
      "source": [
        "#Проверим разбивку\n",
        "print('Общий размер датасета:',len(x))\n",
        "print('Размер валидационного набора:',len(x_valid),len(y_valid))\n",
        "print('Размер тестового набора',len(x_test),len(y_test))\n",
        "print(\"Размер тренировочного  набора:\",len(x_train),len(y_train))\n",
        "print(\"Сумма всех нразбивок:\",len(x_valid)+len(x_test)+len(x_train))"
      ],
      "execution_count": 25,
      "outputs": [
        {
          "output_type": "stream",
          "text": [
            "Общий размер датасета: 10000\n",
            "Размер валидационного набора: 2000 2000\n",
            "Размер тестового набора 2000 2000\n",
            "Размер тренировочного  набора: 6000 6000\n",
            "Сумма всех нразбивок: 10000\n"
          ],
          "name": "stdout"
        }
      ]
    },
    {
      "cell_type": "code",
      "metadata": {
        "scrolled": true,
        "id": "IauTTUEyZrV3"
      },
      "source": [
        "# Для модели линейная регрессия сделаем дополнительный датасет, \n",
        "# и сделаем масшабирование признаков creditscore,age,balance,estimatedsalary\n",
        "numeric = ['creditscore','age','balance','estimatedsalary']\n",
        "scaler = StandardScaler()\n",
        "\n",
        "scaler.fit(x_train[numeric])\n",
        "x_train_scale = x_train.copy()\n",
        "x_valid_scale = x_valid.copy()       \n",
        "\n",
        "x_train_scale[numeric] = scaler.transform(x_train_scale[numeric])\n",
        "x_valid_scale[numeric] = scaler.transform(x_valid_scale[numeric])"
      ],
      "execution_count": 26,
      "outputs": []
    },
    {
      "cell_type": "code",
      "metadata": {
        "colab": {
          "base_uri": "https://localhost:8080/",
          "height": 419
        },
        "id": "4-BBYY61ZrV3",
        "outputId": "681eba74-2bda-4010-8608-d30ce78dd90f"
      },
      "source": [
        "x_train_scale"
      ],
      "execution_count": 27,
      "outputs": [
        {
          "output_type": "execute_result",
          "data": {
            "text/html": [
              "<div>\n",
              "<style scoped>\n",
              "    .dataframe tbody tr th:only-of-type {\n",
              "        vertical-align: middle;\n",
              "    }\n",
              "\n",
              "    .dataframe tbody tr th {\n",
              "        vertical-align: top;\n",
              "    }\n",
              "\n",
              "    .dataframe thead th {\n",
              "        text-align: right;\n",
              "    }\n",
              "</style>\n",
              "<table border=\"1\" class=\"dataframe\">\n",
              "  <thead>\n",
              "    <tr style=\"text-align: right;\">\n",
              "      <th></th>\n",
              "      <th>creditscore</th>\n",
              "      <th>age</th>\n",
              "      <th>tenure</th>\n",
              "      <th>balance</th>\n",
              "      <th>numofproducts</th>\n",
              "      <th>hascrcard</th>\n",
              "      <th>isactivemember</th>\n",
              "      <th>estimatedsalary</th>\n",
              "      <th>geography_Germany</th>\n",
              "      <th>geography_Spain</th>\n",
              "      <th>gender_Male</th>\n",
              "    </tr>\n",
              "  </thead>\n",
              "  <tbody>\n",
              "    <tr>\n",
              "      <th>7479</th>\n",
              "      <td>-0.886751</td>\n",
              "      <td>-0.373192</td>\n",
              "      <td>8</td>\n",
              "      <td>1.232271</td>\n",
              "      <td>1</td>\n",
              "      <td>1</td>\n",
              "      <td>0</td>\n",
              "      <td>-0.187705</td>\n",
              "      <td>0</td>\n",
              "      <td>1</td>\n",
              "      <td>1</td>\n",
              "    </tr>\n",
              "    <tr>\n",
              "      <th>3411</th>\n",
              "      <td>0.608663</td>\n",
              "      <td>-0.183385</td>\n",
              "      <td>8</td>\n",
              "      <td>0.600563</td>\n",
              "      <td>1</td>\n",
              "      <td>0</td>\n",
              "      <td>0</td>\n",
              "      <td>-0.333945</td>\n",
              "      <td>0</td>\n",
              "      <td>0</td>\n",
              "      <td>0</td>\n",
              "    </tr>\n",
              "    <tr>\n",
              "      <th>6027</th>\n",
              "      <td>2.052152</td>\n",
              "      <td>0.480939</td>\n",
              "      <td>3</td>\n",
              "      <td>1.027098</td>\n",
              "      <td>2</td>\n",
              "      <td>0</td>\n",
              "      <td>1</td>\n",
              "      <td>1.503095</td>\n",
              "      <td>1</td>\n",
              "      <td>0</td>\n",
              "      <td>1</td>\n",
              "    </tr>\n",
              "    <tr>\n",
              "      <th>1247</th>\n",
              "      <td>-1.457915</td>\n",
              "      <td>-1.417129</td>\n",
              "      <td>6</td>\n",
              "      <td>-1.233163</td>\n",
              "      <td>2</td>\n",
              "      <td>1</td>\n",
              "      <td>0</td>\n",
              "      <td>-1.071061</td>\n",
              "      <td>0</td>\n",
              "      <td>0</td>\n",
              "      <td>1</td>\n",
              "    </tr>\n",
              "    <tr>\n",
              "      <th>3716</th>\n",
              "      <td>0.130961</td>\n",
              "      <td>-1.132419</td>\n",
              "      <td>2</td>\n",
              "      <td>1.140475</td>\n",
              "      <td>1</td>\n",
              "      <td>0</td>\n",
              "      <td>0</td>\n",
              "      <td>1.524268</td>\n",
              "      <td>1</td>\n",
              "      <td>0</td>\n",
              "      <td>0</td>\n",
              "    </tr>\n",
              "    <tr>\n",
              "      <th>...</th>\n",
              "      <td>...</td>\n",
              "      <td>...</td>\n",
              "      <td>...</td>\n",
              "      <td>...</td>\n",
              "      <td>...</td>\n",
              "      <td>...</td>\n",
              "      <td>...</td>\n",
              "      <td>...</td>\n",
              "      <td>...</td>\n",
              "      <td>...</td>\n",
              "      <td>...</td>\n",
              "    </tr>\n",
              "    <tr>\n",
              "      <th>4478</th>\n",
              "      <td>-1.073677</td>\n",
              "      <td>-0.752805</td>\n",
              "      <td>4</td>\n",
              "      <td>-1.233163</td>\n",
              "      <td>2</td>\n",
              "      <td>0</td>\n",
              "      <td>1</td>\n",
              "      <td>-1.278361</td>\n",
              "      <td>0</td>\n",
              "      <td>0</td>\n",
              "      <td>1</td>\n",
              "    </tr>\n",
              "    <tr>\n",
              "      <th>4094</th>\n",
              "      <td>-1.447531</td>\n",
              "      <td>-0.942612</td>\n",
              "      <td>10</td>\n",
              "      <td>-1.233163</td>\n",
              "      <td>2</td>\n",
              "      <td>0</td>\n",
              "      <td>1</td>\n",
              "      <td>-1.281307</td>\n",
              "      <td>0</td>\n",
              "      <td>0</td>\n",
              "      <td>1</td>\n",
              "    </tr>\n",
              "    <tr>\n",
              "      <th>3492</th>\n",
              "      <td>0.027113</td>\n",
              "      <td>0.575842</td>\n",
              "      <td>5</td>\n",
              "      <td>-0.310229</td>\n",
              "      <td>1</td>\n",
              "      <td>0</td>\n",
              "      <td>1</td>\n",
              "      <td>-0.903158</td>\n",
              "      <td>0</td>\n",
              "      <td>0</td>\n",
              "      <td>0</td>\n",
              "    </tr>\n",
              "    <tr>\n",
              "      <th>2177</th>\n",
              "      <td>0.151731</td>\n",
              "      <td>-1.417129</td>\n",
              "      <td>4</td>\n",
              "      <td>-1.233163</td>\n",
              "      <td>2</td>\n",
              "      <td>0</td>\n",
              "      <td>1</td>\n",
              "      <td>-1.128539</td>\n",
              "      <td>0</td>\n",
              "      <td>0</td>\n",
              "      <td>0</td>\n",
              "    </tr>\n",
              "    <tr>\n",
              "      <th>4578</th>\n",
              "      <td>0.400966</td>\n",
              "      <td>-0.088482</td>\n",
              "      <td>1</td>\n",
              "      <td>-1.233163</td>\n",
              "      <td>2</td>\n",
              "      <td>0</td>\n",
              "      <td>0</td>\n",
              "      <td>-0.949841</td>\n",
              "      <td>0</td>\n",
              "      <td>0</td>\n",
              "      <td>1</td>\n",
              "    </tr>\n",
              "  </tbody>\n",
              "</table>\n",
              "<p>6000 rows × 11 columns</p>\n",
              "</div>"
            ],
            "text/plain": [
              "      creditscore       age  ...  geography_Spain  gender_Male\n",
              "7479    -0.886751 -0.373192  ...                1            1\n",
              "3411     0.608663 -0.183385  ...                0            0\n",
              "6027     2.052152  0.480939  ...                0            1\n",
              "1247    -1.457915 -1.417129  ...                0            1\n",
              "3716     0.130961 -1.132419  ...                0            0\n",
              "...           ...       ...  ...              ...          ...\n",
              "4478    -1.073677 -0.752805  ...                0            1\n",
              "4094    -1.447531 -0.942612  ...                0            1\n",
              "3492     0.027113  0.575842  ...                0            0\n",
              "2177     0.151731 -1.417129  ...                0            0\n",
              "4578     0.400966 -0.088482  ...                0            1\n",
              "\n",
              "[6000 rows x 11 columns]"
            ]
          },
          "metadata": {
            "tags": []
          },
          "execution_count": 27
        }
      ]
    },
    {
      "cell_type": "code",
      "metadata": {
        "colab": {
          "base_uri": "https://localhost:8080/",
          "height": 419
        },
        "id": "meRXJFgfZrV3",
        "outputId": "2806084a-b84a-4205-dff6-ede81a08ca53"
      },
      "source": [
        "x_valid_scale"
      ],
      "execution_count": 28,
      "outputs": [
        {
          "output_type": "execute_result",
          "data": {
            "text/html": [
              "<div>\n",
              "<style scoped>\n",
              "    .dataframe tbody tr th:only-of-type {\n",
              "        vertical-align: middle;\n",
              "    }\n",
              "\n",
              "    .dataframe tbody tr th {\n",
              "        vertical-align: top;\n",
              "    }\n",
              "\n",
              "    .dataframe thead th {\n",
              "        text-align: right;\n",
              "    }\n",
              "</style>\n",
              "<table border=\"1\" class=\"dataframe\">\n",
              "  <thead>\n",
              "    <tr style=\"text-align: right;\">\n",
              "      <th></th>\n",
              "      <th>creditscore</th>\n",
              "      <th>age</th>\n",
              "      <th>tenure</th>\n",
              "      <th>balance</th>\n",
              "      <th>numofproducts</th>\n",
              "      <th>hascrcard</th>\n",
              "      <th>isactivemember</th>\n",
              "      <th>estimatedsalary</th>\n",
              "      <th>geography_Germany</th>\n",
              "      <th>geography_Spain</th>\n",
              "      <th>gender_Male</th>\n",
              "    </tr>\n",
              "  </thead>\n",
              "  <tbody>\n",
              "    <tr>\n",
              "      <th>8532</th>\n",
              "      <td>-0.699824</td>\n",
              "      <td>-0.373192</td>\n",
              "      <td>2</td>\n",
              "      <td>-1.233163</td>\n",
              "      <td>2</td>\n",
              "      <td>1</td>\n",
              "      <td>0</td>\n",
              "      <td>-0.015173</td>\n",
              "      <td>0</td>\n",
              "      <td>0</td>\n",
              "      <td>0</td>\n",
              "    </tr>\n",
              "    <tr>\n",
              "      <th>5799</th>\n",
              "      <td>-0.284431</td>\n",
              "      <td>0.575842</td>\n",
              "      <td>3</td>\n",
              "      <td>-1.233163</td>\n",
              "      <td>1</td>\n",
              "      <td>1</td>\n",
              "      <td>1</td>\n",
              "      <td>1.471724</td>\n",
              "      <td>0</td>\n",
              "      <td>0</td>\n",
              "      <td>0</td>\n",
              "    </tr>\n",
              "    <tr>\n",
              "      <th>5511</th>\n",
              "      <td>0.151731</td>\n",
              "      <td>-0.657902</td>\n",
              "      <td>0</td>\n",
              "      <td>0.438711</td>\n",
              "      <td>1</td>\n",
              "      <td>1</td>\n",
              "      <td>0</td>\n",
              "      <td>-1.367107</td>\n",
              "      <td>1</td>\n",
              "      <td>0</td>\n",
              "      <td>1</td>\n",
              "    </tr>\n",
              "    <tr>\n",
              "      <th>7365</th>\n",
              "      <td>-0.876366</td>\n",
              "      <td>-0.278288</td>\n",
              "      <td>10</td>\n",
              "      <td>1.239884</td>\n",
              "      <td>1</td>\n",
              "      <td>1</td>\n",
              "      <td>1</td>\n",
              "      <td>-0.786517</td>\n",
              "      <td>0</td>\n",
              "      <td>1</td>\n",
              "      <td>0</td>\n",
              "    </tr>\n",
              "    <tr>\n",
              "      <th>7367</th>\n",
              "      <td>-0.481743</td>\n",
              "      <td>0.291132</td>\n",
              "      <td>10</td>\n",
              "      <td>-1.233163</td>\n",
              "      <td>2</td>\n",
              "      <td>1</td>\n",
              "      <td>0</td>\n",
              "      <td>1.358533</td>\n",
              "      <td>0</td>\n",
              "      <td>1</td>\n",
              "      <td>1</td>\n",
              "    </tr>\n",
              "    <tr>\n",
              "      <th>...</th>\n",
              "      <td>...</td>\n",
              "      <td>...</td>\n",
              "      <td>...</td>\n",
              "      <td>...</td>\n",
              "      <td>...</td>\n",
              "      <td>...</td>\n",
              "      <td>...</td>\n",
              "      <td>...</td>\n",
              "      <td>...</td>\n",
              "      <td>...</td>\n",
              "      <td>...</td>\n",
              "    </tr>\n",
              "    <tr>\n",
              "      <th>6480</th>\n",
              "      <td>0.276349</td>\n",
              "      <td>-1.417129</td>\n",
              "      <td>6</td>\n",
              "      <td>0.617449</td>\n",
              "      <td>2</td>\n",
              "      <td>0</td>\n",
              "      <td>1</td>\n",
              "      <td>0.628182</td>\n",
              "      <td>0</td>\n",
              "      <td>0</td>\n",
              "      <td>0</td>\n",
              "    </tr>\n",
              "    <tr>\n",
              "      <th>8194</th>\n",
              "      <td>-0.211738</td>\n",
              "      <td>0.291132</td>\n",
              "      <td>4</td>\n",
              "      <td>0.797229</td>\n",
              "      <td>1</td>\n",
              "      <td>1</td>\n",
              "      <td>0</td>\n",
              "      <td>0.026002</td>\n",
              "      <td>0</td>\n",
              "      <td>0</td>\n",
              "      <td>1</td>\n",
              "    </tr>\n",
              "    <tr>\n",
              "      <th>1279</th>\n",
              "      <td>-1.364452</td>\n",
              "      <td>0.006422</td>\n",
              "      <td>6</td>\n",
              "      <td>-1.233163</td>\n",
              "      <td>2</td>\n",
              "      <td>0</td>\n",
              "      <td>1</td>\n",
              "      <td>-1.249087</td>\n",
              "      <td>0</td>\n",
              "      <td>0</td>\n",
              "      <td>0</td>\n",
              "    </tr>\n",
              "    <tr>\n",
              "      <th>6532</th>\n",
              "      <td>1.075979</td>\n",
              "      <td>2.663716</td>\n",
              "      <td>4</td>\n",
              "      <td>-1.233163</td>\n",
              "      <td>3</td>\n",
              "      <td>1</td>\n",
              "      <td>1</td>\n",
              "      <td>-0.111107</td>\n",
              "      <td>0</td>\n",
              "      <td>0</td>\n",
              "      <td>1</td>\n",
              "    </tr>\n",
              "    <tr>\n",
              "      <th>6895</th>\n",
              "      <td>-0.440204</td>\n",
              "      <td>0.955455</td>\n",
              "      <td>6</td>\n",
              "      <td>0.600280</td>\n",
              "      <td>1</td>\n",
              "      <td>1</td>\n",
              "      <td>0</td>\n",
              "      <td>1.668116</td>\n",
              "      <td>1</td>\n",
              "      <td>0</td>\n",
              "      <td>1</td>\n",
              "    </tr>\n",
              "  </tbody>\n",
              "</table>\n",
              "<p>2000 rows × 11 columns</p>\n",
              "</div>"
            ],
            "text/plain": [
              "      creditscore       age  ...  geography_Spain  gender_Male\n",
              "8532    -0.699824 -0.373192  ...                0            0\n",
              "5799    -0.284431  0.575842  ...                0            0\n",
              "5511     0.151731 -0.657902  ...                0            1\n",
              "7365    -0.876366 -0.278288  ...                1            0\n",
              "7367    -0.481743  0.291132  ...                1            1\n",
              "...           ...       ...  ...              ...          ...\n",
              "6480     0.276349 -1.417129  ...                0            0\n",
              "8194    -0.211738  0.291132  ...                0            1\n",
              "1279    -1.364452  0.006422  ...                0            0\n",
              "6532     1.075979  2.663716  ...                0            1\n",
              "6895    -0.440204  0.955455  ...                0            1\n",
              "\n",
              "[2000 rows x 11 columns]"
            ]
          },
          "metadata": {
            "tags": []
          },
          "execution_count": 28
        }
      ]
    },
    {
      "cell_type": "code",
      "metadata": {
        "colab": {
          "base_uri": "https://localhost:8080/",
          "height": 419
        },
        "id": "M-X11KVjZrV3",
        "outputId": "1200ec7f-c309-4763-df45-05ba7f5bb1a6"
      },
      "source": [
        "x_train"
      ],
      "execution_count": 29,
      "outputs": [
        {
          "output_type": "execute_result",
          "data": {
            "text/html": [
              "<div>\n",
              "<style scoped>\n",
              "    .dataframe tbody tr th:only-of-type {\n",
              "        vertical-align: middle;\n",
              "    }\n",
              "\n",
              "    .dataframe tbody tr th {\n",
              "        vertical-align: top;\n",
              "    }\n",
              "\n",
              "    .dataframe thead th {\n",
              "        text-align: right;\n",
              "    }\n",
              "</style>\n",
              "<table border=\"1\" class=\"dataframe\">\n",
              "  <thead>\n",
              "    <tr style=\"text-align: right;\">\n",
              "      <th></th>\n",
              "      <th>creditscore</th>\n",
              "      <th>age</th>\n",
              "      <th>tenure</th>\n",
              "      <th>balance</th>\n",
              "      <th>numofproducts</th>\n",
              "      <th>hascrcard</th>\n",
              "      <th>isactivemember</th>\n",
              "      <th>estimatedsalary</th>\n",
              "      <th>geography_Germany</th>\n",
              "      <th>geography_Spain</th>\n",
              "      <th>gender_Male</th>\n",
              "    </tr>\n",
              "  </thead>\n",
              "  <tbody>\n",
              "    <tr>\n",
              "      <th>7479</th>\n",
              "      <td>567</td>\n",
              "      <td>35</td>\n",
              "      <td>8</td>\n",
              "      <td>153137.74</td>\n",
              "      <td>1</td>\n",
              "      <td>1</td>\n",
              "      <td>0</td>\n",
              "      <td>88659.07</td>\n",
              "      <td>0</td>\n",
              "      <td>1</td>\n",
              "      <td>1</td>\n",
              "    </tr>\n",
              "    <tr>\n",
              "      <th>3411</th>\n",
              "      <td>711</td>\n",
              "      <td>37</td>\n",
              "      <td>8</td>\n",
              "      <td>113899.92</td>\n",
              "      <td>1</td>\n",
              "      <td>0</td>\n",
              "      <td>0</td>\n",
              "      <td>80215.20</td>\n",
              "      <td>0</td>\n",
              "      <td>0</td>\n",
              "      <td>0</td>\n",
              "    </tr>\n",
              "    <tr>\n",
              "      <th>6027</th>\n",
              "      <td>850</td>\n",
              "      <td>44</td>\n",
              "      <td>3</td>\n",
              "      <td>140393.65</td>\n",
              "      <td>2</td>\n",
              "      <td>0</td>\n",
              "      <td>1</td>\n",
              "      <td>186285.52</td>\n",
              "      <td>1</td>\n",
              "      <td>0</td>\n",
              "      <td>1</td>\n",
              "    </tr>\n",
              "    <tr>\n",
              "      <th>1247</th>\n",
              "      <td>512</td>\n",
              "      <td>24</td>\n",
              "      <td>6</td>\n",
              "      <td>0.00</td>\n",
              "      <td>2</td>\n",
              "      <td>1</td>\n",
              "      <td>0</td>\n",
              "      <td>37654.31</td>\n",
              "      <td>0</td>\n",
              "      <td>0</td>\n",
              "      <td>1</td>\n",
              "    </tr>\n",
              "    <tr>\n",
              "      <th>3716</th>\n",
              "      <td>665</td>\n",
              "      <td>27</td>\n",
              "      <td>2</td>\n",
              "      <td>147435.96</td>\n",
              "      <td>1</td>\n",
              "      <td>0</td>\n",
              "      <td>0</td>\n",
              "      <td>187508.06</td>\n",
              "      <td>1</td>\n",
              "      <td>0</td>\n",
              "      <td>0</td>\n",
              "    </tr>\n",
              "    <tr>\n",
              "      <th>...</th>\n",
              "      <td>...</td>\n",
              "      <td>...</td>\n",
              "      <td>...</td>\n",
              "      <td>...</td>\n",
              "      <td>...</td>\n",
              "      <td>...</td>\n",
              "      <td>...</td>\n",
              "      <td>...</td>\n",
              "      <td>...</td>\n",
              "      <td>...</td>\n",
              "      <td>...</td>\n",
              "    </tr>\n",
              "    <tr>\n",
              "      <th>4478</th>\n",
              "      <td>549</td>\n",
              "      <td>31</td>\n",
              "      <td>4</td>\n",
              "      <td>0.00</td>\n",
              "      <td>2</td>\n",
              "      <td>0</td>\n",
              "      <td>1</td>\n",
              "      <td>25684.85</td>\n",
              "      <td>0</td>\n",
              "      <td>0</td>\n",
              "      <td>1</td>\n",
              "    </tr>\n",
              "    <tr>\n",
              "      <th>4094</th>\n",
              "      <td>513</td>\n",
              "      <td>29</td>\n",
              "      <td>10</td>\n",
              "      <td>0.00</td>\n",
              "      <td>2</td>\n",
              "      <td>0</td>\n",
              "      <td>1</td>\n",
              "      <td>25514.77</td>\n",
              "      <td>0</td>\n",
              "      <td>0</td>\n",
              "      <td>1</td>\n",
              "    </tr>\n",
              "    <tr>\n",
              "      <th>3492</th>\n",
              "      <td>655</td>\n",
              "      <td>45</td>\n",
              "      <td>5</td>\n",
              "      <td>57327.04</td>\n",
              "      <td>1</td>\n",
              "      <td>0</td>\n",
              "      <td>1</td>\n",
              "      <td>47349.00</td>\n",
              "      <td>0</td>\n",
              "      <td>0</td>\n",
              "      <td>0</td>\n",
              "    </tr>\n",
              "    <tr>\n",
              "      <th>2177</th>\n",
              "      <td>667</td>\n",
              "      <td>24</td>\n",
              "      <td>4</td>\n",
              "      <td>0.00</td>\n",
              "      <td>2</td>\n",
              "      <td>0</td>\n",
              "      <td>1</td>\n",
              "      <td>34335.55</td>\n",
              "      <td>0</td>\n",
              "      <td>0</td>\n",
              "      <td>0</td>\n",
              "    </tr>\n",
              "    <tr>\n",
              "      <th>4578</th>\n",
              "      <td>691</td>\n",
              "      <td>38</td>\n",
              "      <td>1</td>\n",
              "      <td>0.00</td>\n",
              "      <td>2</td>\n",
              "      <td>0</td>\n",
              "      <td>0</td>\n",
              "      <td>44653.50</td>\n",
              "      <td>0</td>\n",
              "      <td>0</td>\n",
              "      <td>1</td>\n",
              "    </tr>\n",
              "  </tbody>\n",
              "</table>\n",
              "<p>6000 rows × 11 columns</p>\n",
              "</div>"
            ],
            "text/plain": [
              "      creditscore  age  tenure  ...  geography_Germany  geography_Spain  gender_Male\n",
              "7479          567   35       8  ...                  0                1            1\n",
              "3411          711   37       8  ...                  0                0            0\n",
              "6027          850   44       3  ...                  1                0            1\n",
              "1247          512   24       6  ...                  0                0            1\n",
              "3716          665   27       2  ...                  1                0            0\n",
              "...           ...  ...     ...  ...                ...              ...          ...\n",
              "4478          549   31       4  ...                  0                0            1\n",
              "4094          513   29      10  ...                  0                0            1\n",
              "3492          655   45       5  ...                  0                0            0\n",
              "2177          667   24       4  ...                  0                0            0\n",
              "4578          691   38       1  ...                  0                0            1\n",
              "\n",
              "[6000 rows x 11 columns]"
            ]
          },
          "metadata": {
            "tags": []
          },
          "execution_count": 29
        }
      ]
    },
    {
      "cell_type": "code",
      "metadata": {
        "colab": {
          "base_uri": "https://localhost:8080/",
          "height": 419
        },
        "id": "U8rLxayLZrV3",
        "outputId": "402f52e1-86fa-47ad-bc93-2eb9381d54ea"
      },
      "source": [
        "x_valid"
      ],
      "execution_count": 30,
      "outputs": [
        {
          "output_type": "execute_result",
          "data": {
            "text/html": [
              "<div>\n",
              "<style scoped>\n",
              "    .dataframe tbody tr th:only-of-type {\n",
              "        vertical-align: middle;\n",
              "    }\n",
              "\n",
              "    .dataframe tbody tr th {\n",
              "        vertical-align: top;\n",
              "    }\n",
              "\n",
              "    .dataframe thead th {\n",
              "        text-align: right;\n",
              "    }\n",
              "</style>\n",
              "<table border=\"1\" class=\"dataframe\">\n",
              "  <thead>\n",
              "    <tr style=\"text-align: right;\">\n",
              "      <th></th>\n",
              "      <th>creditscore</th>\n",
              "      <th>age</th>\n",
              "      <th>tenure</th>\n",
              "      <th>balance</th>\n",
              "      <th>numofproducts</th>\n",
              "      <th>hascrcard</th>\n",
              "      <th>isactivemember</th>\n",
              "      <th>estimatedsalary</th>\n",
              "      <th>geography_Germany</th>\n",
              "      <th>geography_Spain</th>\n",
              "      <th>gender_Male</th>\n",
              "    </tr>\n",
              "  </thead>\n",
              "  <tbody>\n",
              "    <tr>\n",
              "      <th>8532</th>\n",
              "      <td>585</td>\n",
              "      <td>35</td>\n",
              "      <td>2</td>\n",
              "      <td>0.00</td>\n",
              "      <td>2</td>\n",
              "      <td>1</td>\n",
              "      <td>0</td>\n",
              "      <td>98621.04</td>\n",
              "      <td>0</td>\n",
              "      <td>0</td>\n",
              "      <td>0</td>\n",
              "    </tr>\n",
              "    <tr>\n",
              "      <th>5799</th>\n",
              "      <td>625</td>\n",
              "      <td>45</td>\n",
              "      <td>3</td>\n",
              "      <td>0.00</td>\n",
              "      <td>1</td>\n",
              "      <td>1</td>\n",
              "      <td>1</td>\n",
              "      <td>184474.15</td>\n",
              "      <td>0</td>\n",
              "      <td>0</td>\n",
              "      <td>0</td>\n",
              "    </tr>\n",
              "    <tr>\n",
              "      <th>5511</th>\n",
              "      <td>667</td>\n",
              "      <td>32</td>\n",
              "      <td>0</td>\n",
              "      <td>103846.65</td>\n",
              "      <td>1</td>\n",
              "      <td>1</td>\n",
              "      <td>0</td>\n",
              "      <td>20560.69</td>\n",
              "      <td>1</td>\n",
              "      <td>0</td>\n",
              "      <td>1</td>\n",
              "    </tr>\n",
              "    <tr>\n",
              "      <th>7365</th>\n",
              "      <td>568</td>\n",
              "      <td>36</td>\n",
              "      <td>10</td>\n",
              "      <td>153610.61</td>\n",
              "      <td>1</td>\n",
              "      <td>1</td>\n",
              "      <td>1</td>\n",
              "      <td>54083.80</td>\n",
              "      <td>0</td>\n",
              "      <td>1</td>\n",
              "      <td>0</td>\n",
              "    </tr>\n",
              "    <tr>\n",
              "      <th>7367</th>\n",
              "      <td>606</td>\n",
              "      <td>42</td>\n",
              "      <td>10</td>\n",
              "      <td>0.00</td>\n",
              "      <td>2</td>\n",
              "      <td>1</td>\n",
              "      <td>0</td>\n",
              "      <td>177938.52</td>\n",
              "      <td>0</td>\n",
              "      <td>1</td>\n",
              "      <td>1</td>\n",
              "    </tr>\n",
              "    <tr>\n",
              "      <th>...</th>\n",
              "      <td>...</td>\n",
              "      <td>...</td>\n",
              "      <td>...</td>\n",
              "      <td>...</td>\n",
              "      <td>...</td>\n",
              "      <td>...</td>\n",
              "      <td>...</td>\n",
              "      <td>...</td>\n",
              "      <td>...</td>\n",
              "      <td>...</td>\n",
              "      <td>...</td>\n",
              "    </tr>\n",
              "    <tr>\n",
              "      <th>6480</th>\n",
              "      <td>679</td>\n",
              "      <td>24</td>\n",
              "      <td>6</td>\n",
              "      <td>114948.76</td>\n",
              "      <td>2</td>\n",
              "      <td>0</td>\n",
              "      <td>1</td>\n",
              "      <td>135768.25</td>\n",
              "      <td>0</td>\n",
              "      <td>0</td>\n",
              "      <td>0</td>\n",
              "    </tr>\n",
              "    <tr>\n",
              "      <th>8194</th>\n",
              "      <td>632</td>\n",
              "      <td>42</td>\n",
              "      <td>4</td>\n",
              "      <td>126115.60</td>\n",
              "      <td>1</td>\n",
              "      <td>1</td>\n",
              "      <td>0</td>\n",
              "      <td>100998.50</td>\n",
              "      <td>0</td>\n",
              "      <td>0</td>\n",
              "      <td>1</td>\n",
              "    </tr>\n",
              "    <tr>\n",
              "      <th>1279</th>\n",
              "      <td>521</td>\n",
              "      <td>39</td>\n",
              "      <td>6</td>\n",
              "      <td>0.00</td>\n",
              "      <td>2</td>\n",
              "      <td>0</td>\n",
              "      <td>1</td>\n",
              "      <td>27375.15</td>\n",
              "      <td>0</td>\n",
              "      <td>0</td>\n",
              "      <td>0</td>\n",
              "    </tr>\n",
              "    <tr>\n",
              "      <th>6532</th>\n",
              "      <td>756</td>\n",
              "      <td>67</td>\n",
              "      <td>4</td>\n",
              "      <td>0.00</td>\n",
              "      <td>3</td>\n",
              "      <td>1</td>\n",
              "      <td>1</td>\n",
              "      <td>93081.87</td>\n",
              "      <td>0</td>\n",
              "      <td>0</td>\n",
              "      <td>1</td>\n",
              "    </tr>\n",
              "    <tr>\n",
              "      <th>6895</th>\n",
              "      <td>610</td>\n",
              "      <td>49</td>\n",
              "      <td>6</td>\n",
              "      <td>113882.33</td>\n",
              "      <td>1</td>\n",
              "      <td>1</td>\n",
              "      <td>0</td>\n",
              "      <td>195813.81</td>\n",
              "      <td>1</td>\n",
              "      <td>0</td>\n",
              "      <td>1</td>\n",
              "    </tr>\n",
              "  </tbody>\n",
              "</table>\n",
              "<p>2000 rows × 11 columns</p>\n",
              "</div>"
            ],
            "text/plain": [
              "      creditscore  age  tenure  ...  geography_Germany  geography_Spain  gender_Male\n",
              "8532          585   35       2  ...                  0                0            0\n",
              "5799          625   45       3  ...                  0                0            0\n",
              "5511          667   32       0  ...                  1                0            1\n",
              "7365          568   36      10  ...                  0                1            0\n",
              "7367          606   42      10  ...                  0                1            1\n",
              "...           ...  ...     ...  ...                ...              ...          ...\n",
              "6480          679   24       6  ...                  0                0            0\n",
              "8194          632   42       4  ...                  0                0            1\n",
              "1279          521   39       6  ...                  0                0            0\n",
              "6532          756   67       4  ...                  0                0            1\n",
              "6895          610   49       6  ...                  1                0            1\n",
              "\n",
              "[2000 rows x 11 columns]"
            ]
          },
          "metadata": {
            "tags": []
          },
          "execution_count": 30
        }
      ]
    },
    {
      "cell_type": "code",
      "metadata": {
        "id": "ejTQ9cnLZrV4"
      },
      "source": [
        "# Создадим дадасет в который будем записывать все показатели моделей.\n",
        "columns=['model_name','roc_auc_scores','recall_scores','precision_scores','f1_scores','tn','fp','fn','tp']\n",
        "result_metric = pd.DataFrame(columns=columns)"
      ],
      "execution_count": 31,
      "outputs": []
    },
    {
      "cell_type": "code",
      "metadata": {
        "colab": {
          "base_uri": "https://localhost:8080/",
          "height": 49
        },
        "id": "5ygKo5ZBZrV4",
        "outputId": "163e5ca4-357f-4ef1-aa14-eebb3a6f3b0d"
      },
      "source": [
        "result_metric"
      ],
      "execution_count": 32,
      "outputs": [
        {
          "output_type": "execute_result",
          "data": {
            "text/html": [
              "<div>\n",
              "<style scoped>\n",
              "    .dataframe tbody tr th:only-of-type {\n",
              "        vertical-align: middle;\n",
              "    }\n",
              "\n",
              "    .dataframe tbody tr th {\n",
              "        vertical-align: top;\n",
              "    }\n",
              "\n",
              "    .dataframe thead th {\n",
              "        text-align: right;\n",
              "    }\n",
              "</style>\n",
              "<table border=\"1\" class=\"dataframe\">\n",
              "  <thead>\n",
              "    <tr style=\"text-align: right;\">\n",
              "      <th></th>\n",
              "      <th>model_name</th>\n",
              "      <th>roc_auc_scores</th>\n",
              "      <th>recall_scores</th>\n",
              "      <th>precision_scores</th>\n",
              "      <th>f1_scores</th>\n",
              "      <th>tn</th>\n",
              "      <th>fp</th>\n",
              "      <th>fn</th>\n",
              "      <th>tp</th>\n",
              "    </tr>\n",
              "  </thead>\n",
              "  <tbody>\n",
              "  </tbody>\n",
              "</table>\n",
              "</div>"
            ],
            "text/plain": [
              "Empty DataFrame\n",
              "Columns: [model_name, roc_auc_scores, recall_scores, precision_scores, f1_scores, tn, fp, fn, tp]\n",
              "Index: []"
            ]
          },
          "metadata": {
            "tags": []
          },
          "execution_count": 32
        }
      ]
    },
    {
      "cell_type": "code",
      "metadata": {
        "id": "jlmpAqbuZrV4"
      },
      "source": [
        "#перед обучением сделаем функцию сбора метрик \n",
        "def metrics_model(model_name,y_valids,predictions,probabilites_one):\n",
        "    global result_metric\n",
        "    #roc_auc_scores =0\n",
        "    roc_auc_scores = roc_auc_score(y_valids, probabilites_one)\n",
        "    \n",
        "    #recall_scores=0\n",
        "    recall_scores = recall_score(y_valids, predictions)\n",
        "    \n",
        "    #precision_scores=0\n",
        "    precision_scores = precision_score(y_valids, predictions)\n",
        "    \n",
        "    #f1_scores=0\n",
        "    f1_scores = f1_score(y_valids, predictions)\n",
        "    \n",
        "    tn, fp, fn, tp = confusion_matrix(y_valids, predictions).ravel()\n",
        "    \n",
        "    result = ({'model_name':model_name,'roc_auc_scores':roc_auc_scores,\n",
        "                         'recall_scores':recall_scores,'precision_scores':precision_scores,'f1_scores':f1_scores,\n",
        "                          'tn':tn,'fp':fp,'fn':fn,'tp':tp})\n",
        "    return result"
      ],
      "execution_count": 33,
      "outputs": []
    },
    {
      "cell_type": "code",
      "metadata": {
        "id": "ptWxLPwzZrV4"
      },
      "source": [
        "def figure():\n",
        "    f, ax = plt.subplots(figsize=(6,6))\n",
        "    \n",
        "    #plt.axhspan(0,1,0,1,color='#d62728')\n",
        "    ax.plot([0, 1], [0, 1], ls=\"--\",color='#d62728')\n",
        "    return ax"
      ],
      "execution_count": 34,
      "outputs": []
    },
    {
      "cell_type": "code",
      "metadata": {
        "id": "Qj_aOK6MZrV5"
      },
      "source": [
        "#Функция отрисовки\n",
        "def roc (y_valid,probabilites_one,name,axis):\n",
        "   \n",
        "    fpr, tpr, thresholds = roc_curve(y_valid, probabilites_one)\n",
        "    roc_auc = pd.DataFrame({'fpr':fpr,'tpr':tpr,'thresholds':thresholds})\n",
        "    roc_auc['fpr_i'] = roc_auc['fpr']\n",
        "    \n",
        "    fig = plt.figure()\n",
        "    \n",
        "    roc_auc.plot(x='fpr',y='tpr',ax=axis,label=name,grid=True)"
      ],
      "execution_count": 35,
      "outputs": []
    },
    {
      "cell_type": "markdown",
      "metadata": {
        "id": "g9Rd6RaqZrV5"
      },
      "source": [
        "Данны подготовлены, сформированны все необходимые наборы. "
      ]
    },
    {
      "cell_type": "markdown",
      "metadata": {
        "id": "IEtt9ubTZrV5"
      },
      "source": [
        "<a id=\"линейная\"></a>\n",
        "### 2.4 Обучение логистической регрессии"
      ]
    },
    {
      "cell_type": "code",
      "metadata": {
        "colab": {
          "base_uri": "https://localhost:8080/"
        },
        "id": "Wtt8iZqRZrV5",
        "outputId": "4806ac16-a55e-4ee6-b739-390a159ed346"
      },
      "source": [
        "#обучим и проверим логичтическую регрессию на простом датасете\n",
        "lr = LogisticRegression(solver='liblinear',random_state=12345)\n",
        "lr.fit(x_train,y_train)\n"
      ],
      "execution_count": 36,
      "outputs": [
        {
          "output_type": "execute_result",
          "data": {
            "text/plain": [
              "LogisticRegression(C=1.0, class_weight=None, dual=False, fit_intercept=True,\n",
              "                   intercept_scaling=1, l1_ratio=None, max_iter=100,\n",
              "                   multi_class='auto', n_jobs=None, penalty='l2',\n",
              "                   random_state=12345, solver='liblinear', tol=0.0001,\n",
              "                   verbose=0, warm_start=False)"
            ]
          },
          "metadata": {
            "tags": []
          },
          "execution_count": 36
        }
      ]
    },
    {
      "cell_type": "code",
      "metadata": {
        "colab": {
          "base_uri": "https://localhost:8080/"
        },
        "id": "qRRET8gFZrV5",
        "outputId": "d30567ad-3420-4ba3-a79d-84401b12d9e2"
      },
      "source": [
        "#обучим и проверим логичтическую регрессию на  датасете с маштабированием\n",
        "lr_scale = LogisticRegression(solver='liblinear',random_state=12345)\n",
        "lr_scale.fit(x_train_scale,y_train)"
      ],
      "execution_count": 37,
      "outputs": [
        {
          "output_type": "execute_result",
          "data": {
            "text/plain": [
              "LogisticRegression(C=1.0, class_weight=None, dual=False, fit_intercept=True,\n",
              "                   intercept_scaling=1, l1_ratio=None, max_iter=100,\n",
              "                   multi_class='auto', n_jobs=None, penalty='l2',\n",
              "                   random_state=12345, solver='liblinear', tol=0.0001,\n",
              "                   verbose=0, warm_start=False)"
            ]
          },
          "metadata": {
            "tags": []
          },
          "execution_count": 37
        }
      ]
    },
    {
      "cell_type": "code",
      "metadata": {
        "id": "0w4IvFVIZrV5"
      },
      "source": [
        "#Проверим модель на валидационном наборе  и на наборе с маштабирование\n",
        "predicted_lr_valid = lr.predict(x_valid)"
      ],
      "execution_count": 38,
      "outputs": []
    },
    {
      "cell_type": "code",
      "metadata": {
        "id": "nWWc3q69ZrV6"
      },
      "source": [
        "predicted_lr_scale_valid = lr_scale.predict(x_valid_scale)"
      ],
      "execution_count": 39,
      "outputs": []
    },
    {
      "cell_type": "code",
      "metadata": {
        "id": "HbkE3KbDZrV6"
      },
      "source": [
        "probabilites_lr_one = lr.predict_proba(x_valid)[:,1]"
      ],
      "execution_count": 40,
      "outputs": []
    },
    {
      "cell_type": "code",
      "metadata": {
        "id": "wruJx59SZrV6"
      },
      "source": [
        "probabilites_lr_one_scale = lr_scale.predict_proba(x_valid_scale)[:,1]"
      ],
      "execution_count": 41,
      "outputs": []
    },
    {
      "cell_type": "code",
      "metadata": {
        "id": "GCfuIFLeZrV6"
      },
      "source": [
        "result_metric=result_metric.append(metrics_model('lr',\n",
        "              y_valid,predicted_lr_valid,\n",
        "              probabilites_lr_one),ignore_index=True)"
      ],
      "execution_count": 42,
      "outputs": []
    },
    {
      "cell_type": "code",
      "metadata": {
        "id": "j3zcc2ChZrV6"
      },
      "source": [
        "result_metric=result_metric.append(metrics_model('lr_scale',\n",
        "                                   y_valid,predicted_lr_scale_valid,\n",
        "                                   probabilites_lr_one_scale),ignore_index=True)"
      ],
      "execution_count": 43,
      "outputs": []
    },
    {
      "cell_type": "code",
      "metadata": {
        "colab": {
          "base_uri": "https://localhost:8080/",
          "height": 422
        },
        "id": "W2PmZ0jpZrV6",
        "outputId": "1a119bf2-7e4b-4ac9-bb1a-bddab3f21101"
      },
      "source": [
        "ax = figure()\n",
        "roc(y_valid,probabilites_lr_one,' lr',ax)\n",
        "roc(y_valid,probabilites_lr_one_scale,\" lr_scale\",ax)"
      ],
      "execution_count": 44,
      "outputs": [
        {
          "output_type": "display_data",
          "data": {
            "image/png": "[encoded data removed]",
            "text/plain": [
              "<Figure size 432x432 with 1 Axes>"
            ]
          },
          "metadata": {
            "tags": [],
            "needs_background": "light"
          }
        },
        {
          "output_type": "display_data",
          "data": {
            "text/plain": [
              "<Figure size 432x288 with 0 Axes>"
            ]
          },
          "metadata": {
            "tags": []
          }
        },
        {
          "output_type": "display_data",
          "data": {
            "text/plain": [
              "<Figure size 432x288 with 0 Axes>"
            ]
          },
          "metadata": {
            "tags": []
          }
        }
      ]
    },
    {
      "cell_type": "markdown",
      "metadata": {
        "id": "Z898IxxPZrV7"
      },
      "source": [
        "#### Промежуточный итог для линейной регрессии:\n",
        "\n",
        "Линейная регрессия:\n",
        "\n",
        "Полученные результаты ,после обучение и проверки данной модели на двух датасетах с мастабированием и без, оказались недостаточными для решения поставленной задачи. \n",
        "\n",
        "Матрица ошибок показала, что модель слабо распознает положительные ответ из-за этого recall очень мал.\n",
        "\n",
        "Показатель ROC AUC всго 0,75 до идеального слишком далеко, врятли получится сильно увеличить его. Целевой показатель тоже очень мал.\n",
        "\n",
        "Данную модель для решения задачи далее рассматривать не будем\n"
      ]
    },
    {
      "cell_type": "markdown",
      "metadata": {
        "id": "VIKfzHFOZrV7"
      },
      "source": [
        "<a id=\"лес\"></a>\n",
        "### 2. 5 Модель \"Случайный лес\""
      ]
    },
    {
      "cell_type": "markdown",
      "metadata": {
        "id": "QybE8dgkZrV7"
      },
      "source": [
        "Модель случайный лес будем обучать на обчном датасете, без масштабирования.\n",
        "\n"
      ]
    },
    {
      "cell_type": "code",
      "metadata": {
        "colab": {
          "base_uri": "https://localhost:8080/"
        },
        "id": "vr70ClEKZrV7",
        "outputId": "931f8010-ba30-42a8-c055-efe92ef3aa6a"
      },
      "source": [
        "warnings.filterwarnings('ignore')\n",
        "# подберем оптимальные гиперпараметры для модели\n",
        "best_score = 0\n",
        "max_est = 0\n",
        "max_depth = 0\n",
        "for est in range(1,100,5):\n",
        "    for depth in range(1,100,5):\n",
        "        \n",
        "        clf = RandomForestClassifier(n_estimators=est, max_depth=depth,random_state=12345)\n",
        "        clf.fit(x_train,y_train)\n",
        "        predicted = clf.predict(x_valid)\n",
        "        res_score = f1_score(y_valid,predicted)\n",
        "    \n",
        "        if best_score < res_score:\n",
        "            best_score = res_score\n",
        "            max_est = est\n",
        "            max_depth = depth\n",
        "   \n",
        "print('гиперпараметры')   \n",
        "print(\"n_estimators:\",max_est,'max_depth', max_depth, 'f1',best_score) "
      ],
      "execution_count": 45,
      "outputs": [
        {
          "output_type": "stream",
          "text": [
            "гиперпараметры\n",
            "n_estimators: 81 max_depth 21 f1 0.5898203592814371\n"
          ],
          "name": "stdout"
        }
      ]
    },
    {
      "cell_type": "code",
      "metadata": {
        "id": "ikwlKlB4ZrV8"
      },
      "source": [
        "#Проверим модель\n",
        "clf = RandomForestClassifier(n_estimators=max_est, max_depth=max_depth,random_state=12345)"
      ],
      "execution_count": 46,
      "outputs": []
    },
    {
      "cell_type": "code",
      "metadata": {
        "colab": {
          "base_uri": "https://localhost:8080/"
        },
        "id": "62m2US2hZrV9",
        "outputId": "505dbba6-6d65-4410-f605-0ae0fff653b0"
      },
      "source": [
        "clf.fit(x_train, y_train)"
      ],
      "execution_count": 47,
      "outputs": [
        {
          "output_type": "execute_result",
          "data": {
            "text/plain": [
              "RandomForestClassifier(bootstrap=True, ccp_alpha=0.0, class_weight=None,\n",
              "                       criterion='gini', max_depth=21, max_features='auto',\n",
              "                       max_leaf_nodes=None, max_samples=None,\n",
              "                       min_impurity_decrease=0.0, min_impurity_split=None,\n",
              "                       min_samples_leaf=1, min_samples_split=2,\n",
              "                       min_weight_fraction_leaf=0.0, n_estimators=81,\n",
              "                       n_jobs=None, oob_score=False, random_state=12345,\n",
              "                       verbose=0, warm_start=False)"
            ]
          },
          "metadata": {
            "tags": []
          },
          "execution_count": 47
        }
      ]
    },
    {
      "cell_type": "code",
      "metadata": {
        "id": "NGT_Kk5mZrV9"
      },
      "source": [
        "#Полчим прогноз модели \n",
        "predicted_clf_valid = clf.predict(x_valid)"
      ],
      "execution_count": 48,
      "outputs": []
    },
    {
      "cell_type": "code",
      "metadata": {
        "id": "4ZNvwuUNZrV9"
      },
      "source": [
        "#Вероятность \n",
        "probabilites_clf_one = clf.predict_proba(x_valid)[:,1]"
      ],
      "execution_count": 49,
      "outputs": []
    },
    {
      "cell_type": "code",
      "metadata": {
        "id": "A4J1HljjZrV9"
      },
      "source": [
        "result_metric=result_metric.append(metrics_model('clf',y_valid, predicted_clf_valid,\n",
        "                          probabilites_clf_one),ignore_index=True)"
      ],
      "execution_count": 50,
      "outputs": []
    },
    {
      "cell_type": "code",
      "metadata": {
        "colab": {
          "base_uri": "https://localhost:8080/",
          "height": 405
        },
        "id": "ffC7e_9cZrV9",
        "outputId": "806ebf26-344c-44bc-f87b-83b8ec486a8b"
      },
      "source": [
        "ax = figure()\n",
        "roc(y_valid,probabilites_clf_one,\"clf\",ax)"
      ],
      "execution_count": 51,
      "outputs": [
        {
          "output_type": "display_data",
          "data": {
            "image/png": "[encoded data removed]",
            "text/plain": [
              "<Figure size 432x432 with 1 Axes>"
            ]
          },
          "metadata": {
            "tags": [],
            "needs_background": "light"
          }
        },
        {
          "output_type": "display_data",
          "data": {
            "text/plain": [
              "<Figure size 432x288 with 0 Axes>"
            ]
          },
          "metadata": {
            "tags": []
          }
        }
      ]
    },
    {
      "cell_type": "code",
      "metadata": {
        "colab": {
          "base_uri": "https://localhost:8080/",
          "height": 142
        },
        "id": "sfkdq8lpZrV9",
        "outputId": "26508cbe-fbbd-4bb1-c1f4-9d8e13a73abe"
      },
      "source": [
        "result_metric"
      ],
      "execution_count": 52,
      "outputs": [
        {
          "output_type": "execute_result",
          "data": {
            "text/html": [
              "<div>\n",
              "<style scoped>\n",
              "    .dataframe tbody tr th:only-of-type {\n",
              "        vertical-align: middle;\n",
              "    }\n",
              "\n",
              "    .dataframe tbody tr th {\n",
              "        vertical-align: top;\n",
              "    }\n",
              "\n",
              "    .dataframe thead th {\n",
              "        text-align: right;\n",
              "    }\n",
              "</style>\n",
              "<table border=\"1\" class=\"dataframe\">\n",
              "  <thead>\n",
              "    <tr style=\"text-align: right;\">\n",
              "      <th></th>\n",
              "      <th>model_name</th>\n",
              "      <th>roc_auc_scores</th>\n",
              "      <th>recall_scores</th>\n",
              "      <th>precision_scores</th>\n",
              "      <th>f1_scores</th>\n",
              "      <th>tn</th>\n",
              "      <th>fp</th>\n",
              "      <th>fn</th>\n",
              "      <th>tp</th>\n",
              "    </tr>\n",
              "  </thead>\n",
              "  <tbody>\n",
              "    <tr>\n",
              "      <th>0</th>\n",
              "      <td>lr</td>\n",
              "      <td>0.672795</td>\n",
              "      <td>0.047847</td>\n",
              "      <td>0.338983</td>\n",
              "      <td>0.083857</td>\n",
              "      <td>1543</td>\n",
              "      <td>39</td>\n",
              "      <td>398</td>\n",
              "      <td>20</td>\n",
              "    </tr>\n",
              "    <tr>\n",
              "      <th>1</th>\n",
              "      <td>lr_scale</td>\n",
              "      <td>0.758735</td>\n",
              "      <td>0.234450</td>\n",
              "      <td>0.563218</td>\n",
              "      <td>0.331081</td>\n",
              "      <td>1506</td>\n",
              "      <td>76</td>\n",
              "      <td>320</td>\n",
              "      <td>98</td>\n",
              "    </tr>\n",
              "    <tr>\n",
              "      <th>2</th>\n",
              "      <td>clf</td>\n",
              "      <td>0.836262</td>\n",
              "      <td>0.471292</td>\n",
              "      <td>0.788000</td>\n",
              "      <td>0.589820</td>\n",
              "      <td>1529</td>\n",
              "      <td>53</td>\n",
              "      <td>221</td>\n",
              "      <td>197</td>\n",
              "    </tr>\n",
              "  </tbody>\n",
              "</table>\n",
              "</div>"
            ],
            "text/plain": [
              "  model_name  roc_auc_scores  recall_scores  ...  fp   fn   tp\n",
              "0         lr        0.672795       0.047847  ...  39  398   20\n",
              "1   lr_scale        0.758735       0.234450  ...  76  320   98\n",
              "2        clf        0.836262       0.471292  ...  53  221  197\n",
              "\n",
              "[3 rows x 9 columns]"
            ]
          },
          "metadata": {
            "tags": []
          },
          "execution_count": 52
        }
      ]
    },
    {
      "cell_type": "markdown",
      "metadata": {
        "id": "PzUWkHvuZrV-"
      },
      "source": [
        "#### Промежуточный итог для модели Случайный лес\n",
        "Модель \"решающее дерево\"  работает хорошо. результы данной модели на валидационной выборке соответсвуют минимальным требованиям.\n",
        "\n",
        "\n",
        "Показатель roc_auc_score говорит что модель существенно чем простой рандом.\n",
        "\n",
        "У модели решающего дерева  хорошая точностью, но полноту необходимо увеличить.\n",
        "\n",
        "Модель хорошо определяет тех клиентов кто останется. Но еще плохо распознает  тех кто уйдет, вероятно потому как  мало событий положительного класса. \n",
        "С текущим показателей данную модель можно донастроить на сбалансированном датасете.\n",
        "\n"
      ]
    },
    {
      "cell_type": "markdown",
      "metadata": {
        "id": "Zqn6jTnCZrV-"
      },
      "source": [
        "<a id=\"дерево\"></a>\n",
        "### 2.5 Решающее дерево"
      ]
    },
    {
      "cell_type": "code",
      "metadata": {
        "colab": {
          "base_uri": "https://localhost:8080/"
        },
        "id": "XurKekK7ZrV-",
        "outputId": "2c309a35-00c7-456e-faf6-ce6c58d78b11"
      },
      "source": [
        "warnings.filterwarnings('ignore')\n",
        "best_score = 0\n",
        "max_depth = 0\n",
        "for depht in range(1,100,5):\n",
        "    tree = DecisionTreeClassifier(max_depth=depht,random_state=12345)\n",
        "    tree.fit(x_train,y_train)\n",
        "    predicted_tree = tree.predict(x_valid)\n",
        "    \n",
        "    res_score = f1_score(y_valid,predicted_tree)\n",
        "    \n",
        "    if best_score < res_score:\n",
        "        best_score = res_score\n",
        "        max_depth = depht\n",
        "       \n",
        "print('гиперпараметры')            \n",
        "print(\"max_depth:\",max_depth, 'f1-score',best_score)"
      ],
      "execution_count": 53,
      "outputs": [
        {
          "output_type": "stream",
          "text": [
            "гиперпараметры\n",
            "max_depth: 6 f1-score 0.5696969696969697\n"
          ],
          "name": "stdout"
        }
      ]
    },
    {
      "cell_type": "code",
      "metadata": {
        "id": "NI6CjiOkZrV-"
      },
      "source": [
        "tree = DecisionTreeClassifier(max_depth=max_depth,random_state=12345)"
      ],
      "execution_count": 54,
      "outputs": []
    },
    {
      "cell_type": "code",
      "metadata": {
        "colab": {
          "base_uri": "https://localhost:8080/"
        },
        "id": "nYrJvwTvZrV-",
        "outputId": "d379cb9b-c93c-47d5-ce33-e3fab8f07c54"
      },
      "source": [
        "tree.fit(x_train,y_train)"
      ],
      "execution_count": 55,
      "outputs": [
        {
          "output_type": "execute_result",
          "data": {
            "text/plain": [
              "DecisionTreeClassifier(ccp_alpha=0.0, class_weight=None, criterion='gini',\n",
              "                       max_depth=6, max_features=None, max_leaf_nodes=None,\n",
              "                       min_impurity_decrease=0.0, min_impurity_split=None,\n",
              "                       min_samples_leaf=1, min_samples_split=2,\n",
              "                       min_weight_fraction_leaf=0.0, presort='deprecated',\n",
              "                       random_state=12345, splitter='best')"
            ]
          },
          "metadata": {
            "tags": []
          },
          "execution_count": 55
        }
      ]
    },
    {
      "cell_type": "code",
      "metadata": {
        "id": "l7hMZ6UEZrV-"
      },
      "source": [
        "predicted_tree_valid = tree.predict(x_valid)"
      ],
      "execution_count": 56,
      "outputs": []
    },
    {
      "cell_type": "code",
      "metadata": {
        "id": "N6FFP4YgZrV_"
      },
      "source": [
        "probabilites_tree_one = tree.predict_proba(x_valid)[:,1]"
      ],
      "execution_count": 57,
      "outputs": []
    },
    {
      "cell_type": "code",
      "metadata": {
        "id": "3zrnzeMRZrV_"
      },
      "source": [
        "result_metric=result_metric.append(metrics_model('tree', \n",
        "              y_valid, predicted_tree_valid,\n",
        "              probabilites_tree_one),ignore_index=True)"
      ],
      "execution_count": 58,
      "outputs": []
    },
    {
      "cell_type": "code",
      "metadata": {
        "colab": {
          "base_uri": "https://localhost:8080/",
          "height": 405
        },
        "id": "U_JkOILtZrV_",
        "outputId": "d035cfa2-94ca-4918-91db-ee438f588232"
      },
      "source": [
        "ax = figure()\n",
        "roc(y_valid,probabilites_tree_one,'tree',ax)"
      ],
      "execution_count": 59,
      "outputs": [
        {
          "output_type": "display_data",
          "data": {
            "image/png": "[encoded data removed]",
            "text/plain": [
              "<Figure size 432x432 with 1 Axes>"
            ]
          },
          "metadata": {
            "tags": [],
            "needs_background": "light"
          }
        },
        {
          "output_type": "display_data",
          "data": {
            "text/plain": [
              "<Figure size 432x288 with 0 Axes>"
            ]
          },
          "metadata": {
            "tags": []
          }
        }
      ]
    },
    {
      "cell_type": "code",
      "metadata": {
        "colab": {
          "base_uri": "https://localhost:8080/",
          "height": 173
        },
        "id": "hiY_CmfyZrV_",
        "outputId": "2a65caa4-45af-48fa-a937-e75c01f77803"
      },
      "source": [
        "result_metric"
      ],
      "execution_count": 60,
      "outputs": [
        {
          "output_type": "execute_result",
          "data": {
            "text/html": [
              "<div>\n",
              "<style scoped>\n",
              "    .dataframe tbody tr th:only-of-type {\n",
              "        vertical-align: middle;\n",
              "    }\n",
              "\n",
              "    .dataframe tbody tr th {\n",
              "        vertical-align: top;\n",
              "    }\n",
              "\n",
              "    .dataframe thead th {\n",
              "        text-align: right;\n",
              "    }\n",
              "</style>\n",
              "<table border=\"1\" class=\"dataframe\">\n",
              "  <thead>\n",
              "    <tr style=\"text-align: right;\">\n",
              "      <th></th>\n",
              "      <th>model_name</th>\n",
              "      <th>roc_auc_scores</th>\n",
              "      <th>recall_scores</th>\n",
              "      <th>precision_scores</th>\n",
              "      <th>f1_scores</th>\n",
              "      <th>tn</th>\n",
              "      <th>fp</th>\n",
              "      <th>fn</th>\n",
              "      <th>tp</th>\n",
              "    </tr>\n",
              "  </thead>\n",
              "  <tbody>\n",
              "    <tr>\n",
              "      <th>0</th>\n",
              "      <td>lr</td>\n",
              "      <td>0.672795</td>\n",
              "      <td>0.047847</td>\n",
              "      <td>0.338983</td>\n",
              "      <td>0.083857</td>\n",
              "      <td>1543</td>\n",
              "      <td>39</td>\n",
              "      <td>398</td>\n",
              "      <td>20</td>\n",
              "    </tr>\n",
              "    <tr>\n",
              "      <th>1</th>\n",
              "      <td>lr_scale</td>\n",
              "      <td>0.758735</td>\n",
              "      <td>0.234450</td>\n",
              "      <td>0.563218</td>\n",
              "      <td>0.331081</td>\n",
              "      <td>1506</td>\n",
              "      <td>76</td>\n",
              "      <td>320</td>\n",
              "      <td>98</td>\n",
              "    </tr>\n",
              "    <tr>\n",
              "      <th>2</th>\n",
              "      <td>clf</td>\n",
              "      <td>0.836262</td>\n",
              "      <td>0.471292</td>\n",
              "      <td>0.788000</td>\n",
              "      <td>0.589820</td>\n",
              "      <td>1529</td>\n",
              "      <td>53</td>\n",
              "      <td>221</td>\n",
              "      <td>197</td>\n",
              "    </tr>\n",
              "    <tr>\n",
              "      <th>3</th>\n",
              "      <td>tree</td>\n",
              "      <td>0.816463</td>\n",
              "      <td>0.449761</td>\n",
              "      <td>0.776860</td>\n",
              "      <td>0.569697</td>\n",
              "      <td>1528</td>\n",
              "      <td>54</td>\n",
              "      <td>230</td>\n",
              "      <td>188</td>\n",
              "    </tr>\n",
              "  </tbody>\n",
              "</table>\n",
              "</div>"
            ],
            "text/plain": [
              "  model_name  roc_auc_scores  recall_scores  ...  fp   fn   tp\n",
              "0         lr        0.672795       0.047847  ...  39  398   20\n",
              "1   lr_scale        0.758735       0.234450  ...  76  320   98\n",
              "2        clf        0.836262       0.471292  ...  53  221  197\n",
              "3       tree        0.816463       0.449761  ...  54  230  188\n",
              "\n",
              "[4 rows x 9 columns]"
            ]
          },
          "metadata": {
            "tags": []
          },
          "execution_count": 60
        }
      ]
    },
    {
      "cell_type": "markdown",
      "metadata": {
        "id": "bxLdn9W5ZrV_"
      },
      "source": [
        "<a id=\"Итог1\"></a>\n",
        "## 2. 7 Итог\n",
        "\n",
        "Проведено обучение трех моделей на разных датасетах, с маштабированием признаков и без. Выделим  топ модели по целевому для нашей задачи показателю в порядке убывания \n",
        "\n",
        "1. \"Решающее дерево\" - модель обучена на датасете без масштабирования \n",
        "    \n",
        "  **F1-Мера = 0,59**\n",
        "\n",
        "\n",
        "2. \"Случайный лес\" - модель обученная на датасете без масштабирования.\n",
        "\n",
        "  **F1-Мера = 0,56**\n",
        " \n",
        "\n",
        "Все обученные модели дают много ложноотрицательных ответов. Для решения данной проблемы попробуем изменить баланс классов вручную. После оценки при необходимости переобучим модели с параметром **class_weight**.\n",
        "\n",
        "\n",
        "\n"
      ]
    },
    {
      "cell_type": "markdown",
      "metadata": {
        "id": "Ed65EfEkZrV_"
      },
      "source": [
        "# 3. Борьба с дисбалансом"
      ]
    },
    {
      "cell_type": "markdown",
      "metadata": {
        "id": "EN3IXOlyZrV_"
      },
      "source": [
        "<a id=\"балансировка\"></a>\n",
        "### 3.1 Подготовка нового набора \n"
      ]
    },
    {
      "cell_type": "code",
      "metadata": {
        "colab": {
          "base_uri": "https://localhost:8080/",
          "height": 282
        },
        "id": "BvBsEV1hZrWA",
        "outputId": "7afd1cf0-b4ac-494f-93c4-476283ea47d6"
      },
      "source": [
        "y_valid.plot(kind='hist')"
      ],
      "execution_count": 61,
      "outputs": [
        {
          "output_type": "execute_result",
          "data": {
            "text/plain": [
              "<matplotlib.axes._subplots.AxesSubplot at 0x7ff2bb8f3e90>"
            ]
          },
          "metadata": {
            "tags": []
          },
          "execution_count": 61
        },
        {
          "output_type": "display_data",
          "data": {
            "image/png": "[encoded data removed]",
            "text/plain": [
              "<Figure size 432x288 with 1 Axes>"
            ]
          },
          "metadata": {
            "tags": [],
            "needs_background": "light"
          }
        }
      ]
    },
    {
      "cell_type": "code",
      "metadata": {
        "id": "4NqT61jSZrWA"
      },
      "source": [
        "def upsample(x, y, repeat):\n",
        "    x_zeros = x[y == 0]\n",
        "    x_ones = x[y == 1]\n",
        "    y_zeros = y[y == 0]\n",
        "    y_ones = y[y == 1]\n",
        "\n",
        "    x_upsampled = pd.concat([x_zeros] + [x_ones] * repeat)\n",
        "    y_upsampled = pd.concat([y_zeros] + [y_ones] * repeat)\n",
        "    \n",
        "    x_upsampled, y_upsampled = shuffle(\n",
        "        x_upsampled, y_upsampled, random_state=12345)\n",
        "    \n",
        "    return x_upsampled, y_upsampled"
      ],
      "execution_count": 62,
      "outputs": []
    },
    {
      "cell_type": "code",
      "metadata": {
        "id": "s49XGiHaZrWA"
      },
      "source": [
        "x_upsampled, y_upsampled = upsample(x_train, y_train, 2)"
      ],
      "execution_count": 63,
      "outputs": []
    },
    {
      "cell_type": "code",
      "metadata": {
        "colab": {
          "base_uri": "https://localhost:8080/"
        },
        "id": "Fpjbufb_ZrWA",
        "outputId": "cc6919b2-dc6b-474e-c552-cda97fa41cbd"
      },
      "source": [
        "y_upsampled.mean()"
      ],
      "execution_count": 64,
      "outputs": [
        {
          "output_type": "execute_result",
          "data": {
            "text/plain": [
              "0.33240689271817675"
            ]
          },
          "metadata": {
            "tags": []
          },
          "execution_count": 64
        }
      ]
    },
    {
      "cell_type": "code",
      "metadata": {
        "colab": {
          "base_uri": "https://localhost:8080/",
          "height": 284
        },
        "id": "d1cx3jk-ZrWA",
        "outputId": "574c8245-0b8e-4073-f9c0-5f91528c3138"
      },
      "source": [
        "y_upsampled.plot(kind='hist')"
      ],
      "execution_count": 65,
      "outputs": [
        {
          "output_type": "execute_result",
          "data": {
            "text/plain": [
              "<matplotlib.axes._subplots.AxesSubplot at 0x7ff2c4080510>"
            ]
          },
          "metadata": {
            "tags": []
          },
          "execution_count": 65
        },
        {
          "output_type": "display_data",
          "data": {
            "image/png": "[encoded data removed]",
            "text/plain": [
              "<Figure size 432x288 with 1 Axes>"
            ]
          },
          "metadata": {
            "tags": [],
            "needs_background": "light"
          }
        }
      ]
    },
    {
      "cell_type": "markdown",
      "metadata": {
        "id": "o-zrzT4HZrWA"
      },
      "source": [
        "<a id=\"Дерево_баланс\"></a>\n",
        "###  3.3 \"Решающее дерево\""
      ]
    },
    {
      "cell_type": "code",
      "metadata": {
        "id": "zPPvHX0RZrWB"
      },
      "source": [
        "#Перед тем как обучить модель, вернемя и подберем новые параметры для обучения"
      ],
      "execution_count": 66,
      "outputs": []
    },
    {
      "cell_type": "code",
      "metadata": {
        "colab": {
          "base_uri": "https://localhost:8080/"
        },
        "id": "Y_LQRJvpZrWB",
        "outputId": "01ad7b24-cb7c-4ac9-9bfd-da14dd438dcd"
      },
      "source": [
        "warnings.filterwarnings('ignore')\n",
        "#Подберем новые параметры для модели на новом датасете\n",
        "best_score = 0\n",
        "max_depth = 0\n",
        "for depht in range(1,100,5):\n",
        "    tree = DecisionTreeClassifier(max_depth=depht,random_state=12345)\n",
        "    tree.fit(x_upsampled,y_upsampled)\n",
        "    predicted = tree.predict(x_valid)\n",
        "    res_score = f1_score(y_valid,predicted)\n",
        "    if best_score < res_score:\n",
        "        best_score = res_score\n",
        "        max_depth = depht\n",
        "            \n",
        "print(\"Глубина дерева:\",max_depth, 'F1-мера',best_score)   "
      ],
      "execution_count": 67,
      "outputs": [
        {
          "output_type": "stream",
          "text": [
            "Глубина дерева: 6 F1-мера 0.5977961432506886\n"
          ],
          "name": "stdout"
        }
      ]
    },
    {
      "cell_type": "code",
      "metadata": {
        "colab": {
          "base_uri": "https://localhost:8080/"
        },
        "id": "tkJLmj59ZrWB",
        "outputId": "d7470279-6d5e-4454-8ace-589a7018f07e"
      },
      "source": [
        "tree = DecisionTreeClassifier(max_depth=max_depth,random_state=12345)\n",
        "tree.fit(x_upsampled,y_upsampled)"
      ],
      "execution_count": 68,
      "outputs": [
        {
          "output_type": "execute_result",
          "data": {
            "text/plain": [
              "DecisionTreeClassifier(ccp_alpha=0.0, class_weight=None, criterion='gini',\n",
              "                       max_depth=6, max_features=None, max_leaf_nodes=None,\n",
              "                       min_impurity_decrease=0.0, min_impurity_split=None,\n",
              "                       min_samples_leaf=1, min_samples_split=2,\n",
              "                       min_weight_fraction_leaf=0.0, presort='deprecated',\n",
              "                       random_state=12345, splitter='best')"
            ]
          },
          "metadata": {
            "tags": []
          },
          "execution_count": 68
        }
      ]
    },
    {
      "cell_type": "code",
      "metadata": {
        "id": "mMYDUcb7ZrWB"
      },
      "source": [
        "predicted_tree_valid = tree.predict(x_valid)"
      ],
      "execution_count": 69,
      "outputs": []
    },
    {
      "cell_type": "code",
      "metadata": {
        "id": "eU13E6RTZrWB"
      },
      "source": [
        "probabilites_tree_one = tree.predict_proba(x_valid)[:,1]"
      ],
      "execution_count": 70,
      "outputs": []
    },
    {
      "cell_type": "code",
      "metadata": {
        "id": "3iy1JiUYZrWB"
      },
      "source": [
        "result_metric=result_metric.append(metrics_model('tree_balanced',\n",
        "                                   y_valid, \n",
        "                                   predicted_tree_valid, \n",
        "                                   probabilites_tree_one),ignore_index=True)"
      ],
      "execution_count": 71,
      "outputs": []
    },
    {
      "cell_type": "code",
      "metadata": {
        "colab": {
          "base_uri": "https://localhost:8080/",
          "height": 204
        },
        "id": "3iDCW6kSZrWB",
        "outputId": "33205a7f-bab4-4e8d-e600-015d4e6b842a"
      },
      "source": [
        "\n",
        "result_metric"
      ],
      "execution_count": 72,
      "outputs": [
        {
          "output_type": "execute_result",
          "data": {
            "text/html": [
              "<div>\n",
              "<style scoped>\n",
              "    .dataframe tbody tr th:only-of-type {\n",
              "        vertical-align: middle;\n",
              "    }\n",
              "\n",
              "    .dataframe tbody tr th {\n",
              "        vertical-align: top;\n",
              "    }\n",
              "\n",
              "    .dataframe thead th {\n",
              "        text-align: right;\n",
              "    }\n",
              "</style>\n",
              "<table border=\"1\" class=\"dataframe\">\n",
              "  <thead>\n",
              "    <tr style=\"text-align: right;\">\n",
              "      <th></th>\n",
              "      <th>model_name</th>\n",
              "      <th>roc_auc_scores</th>\n",
              "      <th>recall_scores</th>\n",
              "      <th>precision_scores</th>\n",
              "      <th>f1_scores</th>\n",
              "      <th>tn</th>\n",
              "      <th>fp</th>\n",
              "      <th>fn</th>\n",
              "      <th>tp</th>\n",
              "    </tr>\n",
              "  </thead>\n",
              "  <tbody>\n",
              "    <tr>\n",
              "      <th>0</th>\n",
              "      <td>lr</td>\n",
              "      <td>0.672795</td>\n",
              "      <td>0.047847</td>\n",
              "      <td>0.338983</td>\n",
              "      <td>0.083857</td>\n",
              "      <td>1543</td>\n",
              "      <td>39</td>\n",
              "      <td>398</td>\n",
              "      <td>20</td>\n",
              "    </tr>\n",
              "    <tr>\n",
              "      <th>1</th>\n",
              "      <td>lr_scale</td>\n",
              "      <td>0.758735</td>\n",
              "      <td>0.234450</td>\n",
              "      <td>0.563218</td>\n",
              "      <td>0.331081</td>\n",
              "      <td>1506</td>\n",
              "      <td>76</td>\n",
              "      <td>320</td>\n",
              "      <td>98</td>\n",
              "    </tr>\n",
              "    <tr>\n",
              "      <th>2</th>\n",
              "      <td>clf</td>\n",
              "      <td>0.836262</td>\n",
              "      <td>0.471292</td>\n",
              "      <td>0.788000</td>\n",
              "      <td>0.589820</td>\n",
              "      <td>1529</td>\n",
              "      <td>53</td>\n",
              "      <td>221</td>\n",
              "      <td>197</td>\n",
              "    </tr>\n",
              "    <tr>\n",
              "      <th>3</th>\n",
              "      <td>tree</td>\n",
              "      <td>0.816463</td>\n",
              "      <td>0.449761</td>\n",
              "      <td>0.776860</td>\n",
              "      <td>0.569697</td>\n",
              "      <td>1528</td>\n",
              "      <td>54</td>\n",
              "      <td>230</td>\n",
              "      <td>188</td>\n",
              "    </tr>\n",
              "    <tr>\n",
              "      <th>4</th>\n",
              "      <td>tree_balanced</td>\n",
              "      <td>0.821057</td>\n",
              "      <td>0.519139</td>\n",
              "      <td>0.704545</td>\n",
              "      <td>0.597796</td>\n",
              "      <td>1491</td>\n",
              "      <td>91</td>\n",
              "      <td>201</td>\n",
              "      <td>217</td>\n",
              "    </tr>\n",
              "  </tbody>\n",
              "</table>\n",
              "</div>"
            ],
            "text/plain": [
              "      model_name  roc_auc_scores  recall_scores  ...  fp   fn   tp\n",
              "0             lr        0.672795       0.047847  ...  39  398   20\n",
              "1       lr_scale        0.758735       0.234450  ...  76  320   98\n",
              "2            clf        0.836262       0.471292  ...  53  221  197\n",
              "3           tree        0.816463       0.449761  ...  54  230  188\n",
              "4  tree_balanced        0.821057       0.519139  ...  91  201  217\n",
              "\n",
              "[5 rows x 9 columns]"
            ]
          },
          "metadata": {
            "tags": []
          },
          "execution_count": 72
        }
      ]
    },
    {
      "cell_type": "markdown",
      "metadata": {
        "id": "lnCeJitJZrWC"
      },
      "source": [
        "<a id=\"Лес_баланс\"></a>\n",
        "###  3.3 \"Случайный лес\" "
      ]
    },
    {
      "cell_type": "code",
      "metadata": {
        "colab": {
          "base_uri": "https://localhost:8080/"
        },
        "id": "m2WpH2aIZrWC",
        "outputId": "d0aaf05f-f2ef-402d-80c2-c2dc5ec2e1f4"
      },
      "source": [
        "warnings.filterwarnings('ignore')\n",
        "# Теперь подберем кол-во деревьев\n",
        "best_score = 0\n",
        "max_est = 0\n",
        "max_depth = 0\n",
        "for est in range(1,100,5):\n",
        "    for depth in range(1,100,5):\n",
        "        \n",
        "        clf = RandomForestClassifier(n_estimators=est, max_depth=depth,random_state=12345)\n",
        "        clf.fit(x_upsampled,y_upsampled)\n",
        "        predicted = clf.predict(x_valid)\n",
        "        res_score = f1_score(y_valid,predicted)\n",
        "    \n",
        "        if best_score < res_score:\n",
        "            best_score = res_score\n",
        "            max_est = est\n",
        "            max_depth = depth\n",
        "print('гиперпараметры')   \n",
        "print(\"n_estimators:\",max_est,'max_depth', max_depth, 'f1',best_score) "
      ],
      "execution_count": 73,
      "outputs": [
        {
          "output_type": "stream",
          "text": [
            "гиперпараметры\n",
            "n_estimators: 91 max_depth 11 f1 0.625503355704698\n"
          ],
          "name": "stdout"
        }
      ]
    },
    {
      "cell_type": "code",
      "metadata": {
        "colab": {
          "base_uri": "https://localhost:8080/"
        },
        "id": "IbkVvjZdZrWC",
        "outputId": "34998ba2-663b-4cb6-91ad-ab08e5b70e30"
      },
      "source": [
        "clf = RandomForestClassifier(n_estimators=max_est, max_depth=max_depth,random_state=12345)\n",
        "clf.fit(x_upsampled,y_upsampled)"
      ],
      "execution_count": 74,
      "outputs": [
        {
          "output_type": "execute_result",
          "data": {
            "text/plain": [
              "RandomForestClassifier(bootstrap=True, ccp_alpha=0.0, class_weight=None,\n",
              "                       criterion='gini', max_depth=11, max_features='auto',\n",
              "                       max_leaf_nodes=None, max_samples=None,\n",
              "                       min_impurity_decrease=0.0, min_impurity_split=None,\n",
              "                       min_samples_leaf=1, min_samples_split=2,\n",
              "                       min_weight_fraction_leaf=0.0, n_estimators=91,\n",
              "                       n_jobs=None, oob_score=False, random_state=12345,\n",
              "                       verbose=0, warm_start=False)"
            ]
          },
          "metadata": {
            "tags": []
          },
          "execution_count": 74
        }
      ]
    },
    {
      "cell_type": "code",
      "metadata": {
        "id": "2zoJ6ka2ZrWC"
      },
      "source": [
        "predicted_clf_valid = clf.predict(x_valid)"
      ],
      "execution_count": 75,
      "outputs": []
    },
    {
      "cell_type": "code",
      "metadata": {
        "id": "4gXezhGYZrWC"
      },
      "source": [
        "probabilites_clf_one = clf.predict_proba(x_valid)[:,1]"
      ],
      "execution_count": 76,
      "outputs": []
    },
    {
      "cell_type": "code",
      "metadata": {
        "id": "OXC8zeEVZrWC"
      },
      "source": [
        "result_metric=result_metric.append(metrics_model('clf_balanced',\n",
        "                                                 y_valid, predicted_clf_valid,\n",
        "                                                 probabilites_clf_one),ignore_index=True)"
      ],
      "execution_count": 77,
      "outputs": []
    },
    {
      "cell_type": "code",
      "metadata": {
        "colab": {
          "base_uri": "https://localhost:8080/",
          "height": 235
        },
        "id": "fH0aXFqjZrWD",
        "outputId": "496f2d40-ad86-470b-b7f1-7861a621c420"
      },
      "source": [
        "result_metric"
      ],
      "execution_count": 78,
      "outputs": [
        {
          "output_type": "execute_result",
          "data": {
            "text/html": [
              "<div>\n",
              "<style scoped>\n",
              "    .dataframe tbody tr th:only-of-type {\n",
              "        vertical-align: middle;\n",
              "    }\n",
              "\n",
              "    .dataframe tbody tr th {\n",
              "        vertical-align: top;\n",
              "    }\n",
              "\n",
              "    .dataframe thead th {\n",
              "        text-align: right;\n",
              "    }\n",
              "</style>\n",
              "<table border=\"1\" class=\"dataframe\">\n",
              "  <thead>\n",
              "    <tr style=\"text-align: right;\">\n",
              "      <th></th>\n",
              "      <th>model_name</th>\n",
              "      <th>roc_auc_scores</th>\n",
              "      <th>recall_scores</th>\n",
              "      <th>precision_scores</th>\n",
              "      <th>f1_scores</th>\n",
              "      <th>tn</th>\n",
              "      <th>fp</th>\n",
              "      <th>fn</th>\n",
              "      <th>tp</th>\n",
              "    </tr>\n",
              "  </thead>\n",
              "  <tbody>\n",
              "    <tr>\n",
              "      <th>0</th>\n",
              "      <td>lr</td>\n",
              "      <td>0.672795</td>\n",
              "      <td>0.047847</td>\n",
              "      <td>0.338983</td>\n",
              "      <td>0.083857</td>\n",
              "      <td>1543</td>\n",
              "      <td>39</td>\n",
              "      <td>398</td>\n",
              "      <td>20</td>\n",
              "    </tr>\n",
              "    <tr>\n",
              "      <th>1</th>\n",
              "      <td>lr_scale</td>\n",
              "      <td>0.758735</td>\n",
              "      <td>0.234450</td>\n",
              "      <td>0.563218</td>\n",
              "      <td>0.331081</td>\n",
              "      <td>1506</td>\n",
              "      <td>76</td>\n",
              "      <td>320</td>\n",
              "      <td>98</td>\n",
              "    </tr>\n",
              "    <tr>\n",
              "      <th>2</th>\n",
              "      <td>clf</td>\n",
              "      <td>0.836262</td>\n",
              "      <td>0.471292</td>\n",
              "      <td>0.788000</td>\n",
              "      <td>0.589820</td>\n",
              "      <td>1529</td>\n",
              "      <td>53</td>\n",
              "      <td>221</td>\n",
              "      <td>197</td>\n",
              "    </tr>\n",
              "    <tr>\n",
              "      <th>3</th>\n",
              "      <td>tree</td>\n",
              "      <td>0.816463</td>\n",
              "      <td>0.449761</td>\n",
              "      <td>0.776860</td>\n",
              "      <td>0.569697</td>\n",
              "      <td>1528</td>\n",
              "      <td>54</td>\n",
              "      <td>230</td>\n",
              "      <td>188</td>\n",
              "    </tr>\n",
              "    <tr>\n",
              "      <th>4</th>\n",
              "      <td>tree_balanced</td>\n",
              "      <td>0.821057</td>\n",
              "      <td>0.519139</td>\n",
              "      <td>0.704545</td>\n",
              "      <td>0.597796</td>\n",
              "      <td>1491</td>\n",
              "      <td>91</td>\n",
              "      <td>201</td>\n",
              "      <td>217</td>\n",
              "    </tr>\n",
              "    <tr>\n",
              "      <th>5</th>\n",
              "      <td>clf_balanced</td>\n",
              "      <td>0.849533</td>\n",
              "      <td>0.557416</td>\n",
              "      <td>0.712538</td>\n",
              "      <td>0.625503</td>\n",
              "      <td>1488</td>\n",
              "      <td>94</td>\n",
              "      <td>185</td>\n",
              "      <td>233</td>\n",
              "    </tr>\n",
              "  </tbody>\n",
              "</table>\n",
              "</div>"
            ],
            "text/plain": [
              "      model_name  roc_auc_scores  recall_scores  ...  fp   fn   tp\n",
              "0             lr        0.672795       0.047847  ...  39  398   20\n",
              "1       lr_scale        0.758735       0.234450  ...  76  320   98\n",
              "2            clf        0.836262       0.471292  ...  53  221  197\n",
              "3           tree        0.816463       0.449761  ...  54  230  188\n",
              "4  tree_balanced        0.821057       0.519139  ...  91  201  217\n",
              "5   clf_balanced        0.849533       0.557416  ...  94  185  233\n",
              "\n",
              "[6 rows x 9 columns]"
            ]
          },
          "metadata": {
            "tags": []
          },
          "execution_count": 78
        }
      ]
    },
    {
      "cell_type": "markdown",
      "metadata": {
        "id": "FcAq59EkZrWD"
      },
      "source": [
        "Модель \"Случайны лес\" показала очень хорошие результаты, на текущем уровне модель отвечает качеству по нашему целевому признаку\n",
        "Для модели \"решающее дерево\" после балансировки классов тоже удалось увеличить показатели.\n",
        "Попробуем еще один способ обучим модель на тренеровочной выборке, но  с параметром class_weight='balanced' и проверим результат."
      ]
    },
    {
      "cell_type": "code",
      "metadata": {
        "id": "c2_6SNVEZrWD"
      },
      "source": [
        "#Перед тем как обучить модель, подберем новые параметры для обучения\n",
        "#с учетом параметра class_weight"
      ],
      "execution_count": 79,
      "outputs": []
    },
    {
      "cell_type": "code",
      "metadata": {
        "colab": {
          "base_uri": "https://localhost:8080/"
        },
        "id": "otXlvXaMZrWD",
        "outputId": "73953c80-b31d-433f-8cc5-f8f2cf60a725"
      },
      "source": [
        "best_score = 0\n",
        "max_depth = 0\n",
        "for depht in range(1,100,5):\n",
        "    tree = DecisionTreeClassifier(max_depth=depht,random_state=12345,class_weight='balanced')\n",
        "    tree.fit(x_train,y_train)\n",
        "    predicted = tree.predict(x_valid)\n",
        "    res_score = f1_score(y_valid,predicted)\n",
        "    if best_score < res_score:\n",
        "        best_score = res_score\n",
        "        max_depth = depht\n",
        "            \n",
        "print(\"Глубина дерева:\",max_depth, 'Accuracy',best_score) "
      ],
      "execution_count": 80,
      "outputs": [
        {
          "output_type": "stream",
          "text": [
            "Глубина дерева: 6 Accuracy 0.5581835383159887\n"
          ],
          "name": "stdout"
        }
      ]
    },
    {
      "cell_type": "code",
      "metadata": {
        "id": "A4z4u24PZrWD"
      },
      "source": [
        ""
      ],
      "execution_count": 80,
      "outputs": []
    },
    {
      "cell_type": "code",
      "metadata": {
        "id": "5trd7GX6ZrWD"
      },
      "source": [
        "tree = tree = DecisionTreeClassifier(max_depth=max_depth,\n",
        "                                    random_state=12345,class_weight='balanced')\n"
      ],
      "execution_count": 81,
      "outputs": []
    },
    {
      "cell_type": "code",
      "metadata": {
        "colab": {
          "base_uri": "https://localhost:8080/"
        },
        "id": "Df-LnYb9ZrWD",
        "outputId": "d1499592-e677-45d8-8842-417224cc7122"
      },
      "source": [
        "tree.fit(x_train,y_train)"
      ],
      "execution_count": 82,
      "outputs": [
        {
          "output_type": "execute_result",
          "data": {
            "text/plain": [
              "DecisionTreeClassifier(ccp_alpha=0.0, class_weight='balanced', criterion='gini',\n",
              "                       max_depth=6, max_features=None, max_leaf_nodes=None,\n",
              "                       min_impurity_decrease=0.0, min_impurity_split=None,\n",
              "                       min_samples_leaf=1, min_samples_split=2,\n",
              "                       min_weight_fraction_leaf=0.0, presort='deprecated',\n",
              "                       random_state=12345, splitter='best')"
            ]
          },
          "metadata": {
            "tags": []
          },
          "execution_count": 82
        }
      ]
    },
    {
      "cell_type": "code",
      "metadata": {
        "id": "RPPUw2MRZrWE"
      },
      "source": [
        "predicted_tree_valid = tree.predict(x_valid)"
      ],
      "execution_count": 83,
      "outputs": []
    },
    {
      "cell_type": "code",
      "metadata": {
        "id": "pcm9_xBnZrWE"
      },
      "source": [
        "probabilites_tree_one = tree.predict_proba(x_valid)[:,1]"
      ],
      "execution_count": 84,
      "outputs": []
    },
    {
      "cell_type": "code",
      "metadata": {
        "id": "ZH6t7j-zZrWE"
      },
      "source": [
        "result_metric=result_metric.append(metrics_model('tree_class_weight', \n",
        "                                                 y_valid, \n",
        "                                                 predicted_tree_valid, \n",
        "                                                 probabilites_tree_one),ignore_index=True)"
      ],
      "execution_count": 85,
      "outputs": []
    },
    {
      "cell_type": "code",
      "metadata": {
        "colab": {
          "base_uri": "https://localhost:8080/",
          "height": 266
        },
        "id": "iuiJ8SZJZrWE",
        "outputId": "eaf388a4-e50a-4374-d2c2-df7032bdd94f"
      },
      "source": [
        "result_metric.sort_values(by='f1_scores')"
      ],
      "execution_count": 86,
      "outputs": [
        {
          "output_type": "execute_result",
          "data": {
            "text/html": [
              "<div>\n",
              "<style scoped>\n",
              "    .dataframe tbody tr th:only-of-type {\n",
              "        vertical-align: middle;\n",
              "    }\n",
              "\n",
              "    .dataframe tbody tr th {\n",
              "        vertical-align: top;\n",
              "    }\n",
              "\n",
              "    .dataframe thead th {\n",
              "        text-align: right;\n",
              "    }\n",
              "</style>\n",
              "<table border=\"1\" class=\"dataframe\">\n",
              "  <thead>\n",
              "    <tr style=\"text-align: right;\">\n",
              "      <th></th>\n",
              "      <th>model_name</th>\n",
              "      <th>roc_auc_scores</th>\n",
              "      <th>recall_scores</th>\n",
              "      <th>precision_scores</th>\n",
              "      <th>f1_scores</th>\n",
              "      <th>tn</th>\n",
              "      <th>fp</th>\n",
              "      <th>fn</th>\n",
              "      <th>tp</th>\n",
              "    </tr>\n",
              "  </thead>\n",
              "  <tbody>\n",
              "    <tr>\n",
              "      <th>0</th>\n",
              "      <td>lr</td>\n",
              "      <td>0.672795</td>\n",
              "      <td>0.047847</td>\n",
              "      <td>0.338983</td>\n",
              "      <td>0.083857</td>\n",
              "      <td>1543</td>\n",
              "      <td>39</td>\n",
              "      <td>398</td>\n",
              "      <td>20</td>\n",
              "    </tr>\n",
              "    <tr>\n",
              "      <th>1</th>\n",
              "      <td>lr_scale</td>\n",
              "      <td>0.758735</td>\n",
              "      <td>0.234450</td>\n",
              "      <td>0.563218</td>\n",
              "      <td>0.331081</td>\n",
              "      <td>1506</td>\n",
              "      <td>76</td>\n",
              "      <td>320</td>\n",
              "      <td>98</td>\n",
              "    </tr>\n",
              "    <tr>\n",
              "      <th>6</th>\n",
              "      <td>tree_class_weight</td>\n",
              "      <td>0.799947</td>\n",
              "      <td>0.705742</td>\n",
              "      <td>0.461659</td>\n",
              "      <td>0.558184</td>\n",
              "      <td>1238</td>\n",
              "      <td>344</td>\n",
              "      <td>123</td>\n",
              "      <td>295</td>\n",
              "    </tr>\n",
              "    <tr>\n",
              "      <th>3</th>\n",
              "      <td>tree</td>\n",
              "      <td>0.816463</td>\n",
              "      <td>0.449761</td>\n",
              "      <td>0.776860</td>\n",
              "      <td>0.569697</td>\n",
              "      <td>1528</td>\n",
              "      <td>54</td>\n",
              "      <td>230</td>\n",
              "      <td>188</td>\n",
              "    </tr>\n",
              "    <tr>\n",
              "      <th>2</th>\n",
              "      <td>clf</td>\n",
              "      <td>0.836262</td>\n",
              "      <td>0.471292</td>\n",
              "      <td>0.788000</td>\n",
              "      <td>0.589820</td>\n",
              "      <td>1529</td>\n",
              "      <td>53</td>\n",
              "      <td>221</td>\n",
              "      <td>197</td>\n",
              "    </tr>\n",
              "    <tr>\n",
              "      <th>4</th>\n",
              "      <td>tree_balanced</td>\n",
              "      <td>0.821057</td>\n",
              "      <td>0.519139</td>\n",
              "      <td>0.704545</td>\n",
              "      <td>0.597796</td>\n",
              "      <td>1491</td>\n",
              "      <td>91</td>\n",
              "      <td>201</td>\n",
              "      <td>217</td>\n",
              "    </tr>\n",
              "    <tr>\n",
              "      <th>5</th>\n",
              "      <td>clf_balanced</td>\n",
              "      <td>0.849533</td>\n",
              "      <td>0.557416</td>\n",
              "      <td>0.712538</td>\n",
              "      <td>0.625503</td>\n",
              "      <td>1488</td>\n",
              "      <td>94</td>\n",
              "      <td>185</td>\n",
              "      <td>233</td>\n",
              "    </tr>\n",
              "  </tbody>\n",
              "</table>\n",
              "</div>"
            ],
            "text/plain": [
              "          model_name  roc_auc_scores  recall_scores  ...   fp   fn   tp\n",
              "0                 lr        0.672795       0.047847  ...   39  398   20\n",
              "1           lr_scale        0.758735       0.234450  ...   76  320   98\n",
              "6  tree_class_weight        0.799947       0.705742  ...  344  123  295\n",
              "3               tree        0.816463       0.449761  ...   54  230  188\n",
              "2                clf        0.836262       0.471292  ...   53  221  197\n",
              "4      tree_balanced        0.821057       0.519139  ...   91  201  217\n",
              "5       clf_balanced        0.849533       0.557416  ...   94  185  233\n",
              "\n",
              "[7 rows x 9 columns]"
            ]
          },
          "metadata": {
            "tags": []
          },
          "execution_count": 86
        }
      ]
    },
    {
      "cell_type": "markdown",
      "metadata": {
        "id": "Tk1H9MXXZrWE"
      },
      "source": [
        "### Итог\n",
        "\n",
        "После ручной и автоматической балансировки классов, f1-мера повысилась. Нам удалось повысить показатель полноты для обеих моделй, но и доля ложноположительных ответов увеличилась. \n",
        "\n",
        "Попробуем изменить пороговые значения и посмотрим на показатели полноты и точности моделей.\n",
        "\n",
        "\n",
        "Лучший результат  у модели \"Случайный лес\".\n",
        "\n",
        "Для модели \"решающее дерево\", будем использовать параметры полученные при обучении на сбалансированном вручную датасете "
      ]
    },
    {
      "cell_type": "markdown",
      "metadata": {
        "id": "juelwkZkZrWF"
      },
      "source": [
        "<a id=\"порог_лес\"></a>\n",
        "### Порог для случайного леса"
      ]
    },
    {
      "cell_type": "code",
      "metadata": {
        "colab": {
          "base_uri": "https://localhost:8080/"
        },
        "id": "cHUZypkwZrWF",
        "outputId": "6501959b-34f8-4e38-a677-4c55dc8b1fa2"
      },
      "source": [
        "probabilites_clf_one"
      ],
      "execution_count": 87,
      "outputs": [
        {
          "output_type": "execute_result",
          "data": {
            "text/plain": [
              "array([0.02810312, 0.43324294, 0.33460197, ..., 0.1076442 , 0.5970696 ,\n",
              "       0.87969833])"
            ]
          },
          "metadata": {
            "tags": []
          },
          "execution_count": 87
        }
      ]
    },
    {
      "cell_type": "code",
      "metadata": {
        "colab": {
          "base_uri": "https://localhost:8080/"
        },
        "id": "B_SME2r1ZrWF",
        "outputId": "0818d38b-cbce-4505-f89f-cf4f3ab32f45"
      },
      "source": [
        "f1_best = 0\n",
        "thresh = 0\n",
        "prec = 0\n",
        "rec = 0\n",
        "for threshold in np.arange(0.3, 0.8, 0.02):\n",
        "    predictions = (probabilites_clf_one>threshold)*1\n",
        "    #recall_scores=0\n",
        "    recall = recall_score(y_valid, predictions)\n",
        "    f1 = f1_score(y_valid,predictions)\n",
        "    #precision_scores=0\n",
        "    precision = precision_score(y_valid, predictions)\n",
        "    \n",
        "    if f1 > f1_best:\n",
        "        f1_best = f1\n",
        "        thresh = threshold\n",
        "        prec = precision\n",
        "        rec = recall\n",
        "            \n",
        "print(\"Порог = {:.2f} | Точность = {:.3f}, Полнота = {:.3f}, f1-мера = {:.3f}\".format(\n",
        "                                                thresh, prec, rec ,f1_best))"
      ],
      "execution_count": 88,
      "outputs": [
        {
          "output_type": "stream",
          "text": [
            "Порог = 0.38 | Точность = 0.586, Полнота = 0.679, f1-мера = 0.629\n"
          ],
          "name": "stdout"
        }
      ]
    },
    {
      "cell_type": "code",
      "metadata": {
        "colab": {
          "base_uri": "https://localhost:8080/"
        },
        "id": "1zL7MuETZrWF",
        "outputId": "2fdcc402-9142-4e44-87f2-e050d71f5e74"
      },
      "source": [
        "clf"
      ],
      "execution_count": 89,
      "outputs": [
        {
          "output_type": "execute_result",
          "data": {
            "text/plain": [
              "RandomForestClassifier(bootstrap=True, ccp_alpha=0.0, class_weight=None,\n",
              "                       criterion='gini', max_depth=11, max_features='auto',\n",
              "                       max_leaf_nodes=None, max_samples=None,\n",
              "                       min_impurity_decrease=0.0, min_impurity_split=None,\n",
              "                       min_samples_leaf=1, min_samples_split=2,\n",
              "                       min_weight_fraction_leaf=0.0, n_estimators=91,\n",
              "                       n_jobs=None, oob_score=False, random_state=12345,\n",
              "                       verbose=0, warm_start=False)"
            ]
          },
          "metadata": {
            "tags": []
          },
          "execution_count": 89
        }
      ]
    },
    {
      "cell_type": "code",
      "metadata": {
        "id": "CRfgYzuBZrWF"
      },
      "source": [
        "probabilites_clf = clf.predict_proba(x_valid)"
      ],
      "execution_count": 90,
      "outputs": []
    },
    {
      "cell_type": "code",
      "metadata": {
        "id": "ujtF5bqoZrWG"
      },
      "source": [
        "predicted_clf_valid = (probabilites_clf[:,1] > 0.46)*1"
      ],
      "execution_count": 91,
      "outputs": []
    },
    {
      "cell_type": "code",
      "metadata": {
        "colab": {
          "base_uri": "https://localhost:8080/"
        },
        "id": "DyQiLpYRZrWG",
        "outputId": "2fcc3a19-9d78-4845-b998-e1a293562401"
      },
      "source": [
        "f1_score(y_valid,predicted_clf_valid)"
      ],
      "execution_count": 92,
      "outputs": [
        {
          "output_type": "execute_result",
          "data": {
            "text/plain": [
              "0.6223337515683814"
            ]
          },
          "metadata": {
            "tags": []
          },
          "execution_count": 92
        }
      ]
    },
    {
      "cell_type": "code",
      "metadata": {
        "id": "3rQ21CjJZrWG"
      },
      "source": [
        "result_metric=result_metric.append(metrics_model('clf_final',\n",
        "                                                 y_valid, \n",
        "                                                 predicted_clf_valid,\n",
        "                                                 probabilites_clf[:,1]),ignore_index=True)"
      ],
      "execution_count": 93,
      "outputs": []
    },
    {
      "cell_type": "code",
      "metadata": {
        "colab": {
          "base_uri": "https://localhost:8080/",
          "height": 297
        },
        "id": "JhzchBzZZrWG",
        "outputId": "7f768ec6-4d9e-4e5f-9bd2-ede4ddfdde9a"
      },
      "source": [
        "result_metric"
      ],
      "execution_count": 94,
      "outputs": [
        {
          "output_type": "execute_result",
          "data": {
            "text/html": [
              "<div>\n",
              "<style scoped>\n",
              "    .dataframe tbody tr th:only-of-type {\n",
              "        vertical-align: middle;\n",
              "    }\n",
              "\n",
              "    .dataframe tbody tr th {\n",
              "        vertical-align: top;\n",
              "    }\n",
              "\n",
              "    .dataframe thead th {\n",
              "        text-align: right;\n",
              "    }\n",
              "</style>\n",
              "<table border=\"1\" class=\"dataframe\">\n",
              "  <thead>\n",
              "    <tr style=\"text-align: right;\">\n",
              "      <th></th>\n",
              "      <th>model_name</th>\n",
              "      <th>roc_auc_scores</th>\n",
              "      <th>recall_scores</th>\n",
              "      <th>precision_scores</th>\n",
              "      <th>f1_scores</th>\n",
              "      <th>tn</th>\n",
              "      <th>fp</th>\n",
              "      <th>fn</th>\n",
              "      <th>tp</th>\n",
              "    </tr>\n",
              "  </thead>\n",
              "  <tbody>\n",
              "    <tr>\n",
              "      <th>0</th>\n",
              "      <td>lr</td>\n",
              "      <td>0.672795</td>\n",
              "      <td>0.047847</td>\n",
              "      <td>0.338983</td>\n",
              "      <td>0.083857</td>\n",
              "      <td>1543</td>\n",
              "      <td>39</td>\n",
              "      <td>398</td>\n",
              "      <td>20</td>\n",
              "    </tr>\n",
              "    <tr>\n",
              "      <th>1</th>\n",
              "      <td>lr_scale</td>\n",
              "      <td>0.758735</td>\n",
              "      <td>0.234450</td>\n",
              "      <td>0.563218</td>\n",
              "      <td>0.331081</td>\n",
              "      <td>1506</td>\n",
              "      <td>76</td>\n",
              "      <td>320</td>\n",
              "      <td>98</td>\n",
              "    </tr>\n",
              "    <tr>\n",
              "      <th>2</th>\n",
              "      <td>clf</td>\n",
              "      <td>0.836262</td>\n",
              "      <td>0.471292</td>\n",
              "      <td>0.788000</td>\n",
              "      <td>0.589820</td>\n",
              "      <td>1529</td>\n",
              "      <td>53</td>\n",
              "      <td>221</td>\n",
              "      <td>197</td>\n",
              "    </tr>\n",
              "    <tr>\n",
              "      <th>3</th>\n",
              "      <td>tree</td>\n",
              "      <td>0.816463</td>\n",
              "      <td>0.449761</td>\n",
              "      <td>0.776860</td>\n",
              "      <td>0.569697</td>\n",
              "      <td>1528</td>\n",
              "      <td>54</td>\n",
              "      <td>230</td>\n",
              "      <td>188</td>\n",
              "    </tr>\n",
              "    <tr>\n",
              "      <th>4</th>\n",
              "      <td>tree_balanced</td>\n",
              "      <td>0.821057</td>\n",
              "      <td>0.519139</td>\n",
              "      <td>0.704545</td>\n",
              "      <td>0.597796</td>\n",
              "      <td>1491</td>\n",
              "      <td>91</td>\n",
              "      <td>201</td>\n",
              "      <td>217</td>\n",
              "    </tr>\n",
              "    <tr>\n",
              "      <th>5</th>\n",
              "      <td>clf_balanced</td>\n",
              "      <td>0.849533</td>\n",
              "      <td>0.557416</td>\n",
              "      <td>0.712538</td>\n",
              "      <td>0.625503</td>\n",
              "      <td>1488</td>\n",
              "      <td>94</td>\n",
              "      <td>185</td>\n",
              "      <td>233</td>\n",
              "    </tr>\n",
              "    <tr>\n",
              "      <th>6</th>\n",
              "      <td>tree_class_weight</td>\n",
              "      <td>0.799947</td>\n",
              "      <td>0.705742</td>\n",
              "      <td>0.461659</td>\n",
              "      <td>0.558184</td>\n",
              "      <td>1238</td>\n",
              "      <td>344</td>\n",
              "      <td>123</td>\n",
              "      <td>295</td>\n",
              "    </tr>\n",
              "    <tr>\n",
              "      <th>7</th>\n",
              "      <td>clf_final</td>\n",
              "      <td>0.849533</td>\n",
              "      <td>0.593301</td>\n",
              "      <td>0.654354</td>\n",
              "      <td>0.622334</td>\n",
              "      <td>1451</td>\n",
              "      <td>131</td>\n",
              "      <td>170</td>\n",
              "      <td>248</td>\n",
              "    </tr>\n",
              "  </tbody>\n",
              "</table>\n",
              "</div>"
            ],
            "text/plain": [
              "          model_name  roc_auc_scores  recall_scores  ...   fp   fn   tp\n",
              "0                 lr        0.672795       0.047847  ...   39  398   20\n",
              "1           lr_scale        0.758735       0.234450  ...   76  320   98\n",
              "2                clf        0.836262       0.471292  ...   53  221  197\n",
              "3               tree        0.816463       0.449761  ...   54  230  188\n",
              "4      tree_balanced        0.821057       0.519139  ...   91  201  217\n",
              "5       clf_balanced        0.849533       0.557416  ...   94  185  233\n",
              "6  tree_class_weight        0.799947       0.705742  ...  344  123  295\n",
              "7          clf_final        0.849533       0.593301  ...  131  170  248\n",
              "\n",
              "[8 rows x 9 columns]"
            ]
          },
          "metadata": {
            "tags": []
          },
          "execution_count": 94
        }
      ]
    },
    {
      "cell_type": "markdown",
      "metadata": {
        "id": "3m_5LQdTZrWG"
      },
      "source": [
        "<a id=\"порог_дерево\"></a>\n",
        "### Порог для решающего дерева"
      ]
    },
    {
      "cell_type": "code",
      "metadata": {
        "colab": {
          "base_uri": "https://localhost:8080/"
        },
        "id": "g4itCVaYZrWG",
        "outputId": "33581eb5-9412-48a5-a496-548a621f05d3"
      },
      "source": [
        "tree = DecisionTreeClassifier(max_depth=6,random_state=12345)\n",
        "tree.fit(x_upsampled,y_upsampled)"
      ],
      "execution_count": 95,
      "outputs": [
        {
          "output_type": "execute_result",
          "data": {
            "text/plain": [
              "DecisionTreeClassifier(ccp_alpha=0.0, class_weight=None, criterion='gini',\n",
              "                       max_depth=6, max_features=None, max_leaf_nodes=None,\n",
              "                       min_impurity_decrease=0.0, min_impurity_split=None,\n",
              "                       min_samples_leaf=1, min_samples_split=2,\n",
              "                       min_weight_fraction_leaf=0.0, presort='deprecated',\n",
              "                       random_state=12345, splitter='best')"
            ]
          },
          "metadata": {
            "tags": []
          },
          "execution_count": 95
        }
      ]
    },
    {
      "cell_type": "code",
      "metadata": {
        "id": "_2Bks0mWZrWH"
      },
      "source": [
        "probabilites_tree_one = tree.predict_proba(x_valid)[:,1]"
      ],
      "execution_count": 96,
      "outputs": []
    },
    {
      "cell_type": "code",
      "metadata": {
        "colab": {
          "base_uri": "https://localhost:8080/"
        },
        "id": "0Sv0hShWZrWH",
        "outputId": "fded55d2-ff85-4f28-a9dd-3d01852d06c1"
      },
      "source": [
        "probabilites_tree_one"
      ],
      "execution_count": 97,
      "outputs": [
        {
          "output_type": "execute_result",
          "data": {
            "text/plain": [
              "array([0.02819237, 0.57553957, 0.41269841, ..., 0.02819237, 0.        ,\n",
              "       0.9122807 ])"
            ]
          },
          "metadata": {
            "tags": []
          },
          "execution_count": 97
        }
      ]
    },
    {
      "cell_type": "code",
      "metadata": {
        "colab": {
          "base_uri": "https://localhost:8080/"
        },
        "id": "qxQYgW17ZrWH",
        "outputId": "0364f3f4-4a5e-4028-ed34-244122241b1f"
      },
      "source": [
        "f1_best = 0\n",
        "thresh = 0\n",
        "prec = 0\n",
        "rec = 0\n",
        "for threshold in np.arange(0.3, 0.8, 0.02):\n",
        "    predictions = (probabilites_tree_one>threshold)*1\n",
        "    #recall_scores=0\n",
        "    recall = recall_score(y_valid, predictions)\n",
        "    f1 = f1_score(y_valid,predictions)\n",
        "    #precision_scores=0\n",
        "    precision = precision_score(y_valid, predictions)\n",
        "    \n",
        "    if f1 > f1_best:\n",
        "        f1_best = f1\n",
        "        thresh = threshold\n",
        "        prec = precision\n",
        "        rec = recall\n",
        "            \n",
        "print(\"Порог = {:.2f} | Точность = {:.3f}, Полнота = {:.3f}, f1-мера = {:.3f}\".format(\n",
        "                                                thresh, prec, rec ,f1_best))"
      ],
      "execution_count": 98,
      "outputs": [
        {
          "output_type": "stream",
          "text": [
            "Порог = 0.44 | Точность = 0.625, Полнота = 0.581, f1-мера = 0.602\n"
          ],
          "name": "stdout"
        }
      ]
    },
    {
      "cell_type": "code",
      "metadata": {
        "colab": {
          "base_uri": "https://localhost:8080/"
        },
        "id": "AD4kV0aUZrWH",
        "outputId": "4bf71f6a-4ddc-4a1d-c65e-c5e5b50dba00"
      },
      "source": [
        "tree"
      ],
      "execution_count": 99,
      "outputs": [
        {
          "output_type": "execute_result",
          "data": {
            "text/plain": [
              "DecisionTreeClassifier(ccp_alpha=0.0, class_weight=None, criterion='gini',\n",
              "                       max_depth=6, max_features=None, max_leaf_nodes=None,\n",
              "                       min_impurity_decrease=0.0, min_impurity_split=None,\n",
              "                       min_samples_leaf=1, min_samples_split=2,\n",
              "                       min_weight_fraction_leaf=0.0, presort='deprecated',\n",
              "                       random_state=12345, splitter='best')"
            ]
          },
          "metadata": {
            "tags": []
          },
          "execution_count": 99
        }
      ]
    },
    {
      "cell_type": "code",
      "metadata": {
        "id": "Swe77HdWZrWH"
      },
      "source": [
        "probabilites_tree = tree.predict_proba(x_valid)"
      ],
      "execution_count": 100,
      "outputs": []
    },
    {
      "cell_type": "code",
      "metadata": {
        "id": "dQztmCnGZrWH"
      },
      "source": [
        "predict_tree_valid = (probabilites_tree[:,1] > thresh)*1"
      ],
      "execution_count": 101,
      "outputs": []
    },
    {
      "cell_type": "code",
      "metadata": {
        "colab": {
          "base_uri": "https://localhost:8080/"
        },
        "id": "qF_jnAcdZrWH",
        "outputId": "86d7078a-2e1b-4641-d982-bfee9af273e2"
      },
      "source": [
        "f1_score(y_valid,predict_tree_valid)"
      ],
      "execution_count": 102,
      "outputs": [
        {
          "output_type": "execute_result",
          "data": {
            "text/plain": [
              "0.6022304832713755"
            ]
          },
          "metadata": {
            "tags": []
          },
          "execution_count": 102
        }
      ]
    },
    {
      "cell_type": "code",
      "metadata": {
        "id": "ydmF9XGSZrWI"
      },
      "source": [
        "result_metric=result_metric.append(metrics_model('tree_final',\n",
        "                                                 y_valid, predict_tree_valid,\n",
        "                                                 probabilites_tree[:,1]),ignore_index=True)"
      ],
      "execution_count": 103,
      "outputs": []
    },
    {
      "cell_type": "code",
      "metadata": {
        "colab": {
          "base_uri": "https://localhost:8080/",
          "height": 328
        },
        "id": "D5csJPuDZrWI",
        "outputId": "2a3a725b-f6df-4fe7-bc74-a6732ab47f1a"
      },
      "source": [
        "result_metric"
      ],
      "execution_count": 104,
      "outputs": [
        {
          "output_type": "execute_result",
          "data": {
            "text/html": [
              "<div>\n",
              "<style scoped>\n",
              "    .dataframe tbody tr th:only-of-type {\n",
              "        vertical-align: middle;\n",
              "    }\n",
              "\n",
              "    .dataframe tbody tr th {\n",
              "        vertical-align: top;\n",
              "    }\n",
              "\n",
              "    .dataframe thead th {\n",
              "        text-align: right;\n",
              "    }\n",
              "</style>\n",
              "<table border=\"1\" class=\"dataframe\">\n",
              "  <thead>\n",
              "    <tr style=\"text-align: right;\">\n",
              "      <th></th>\n",
              "      <th>model_name</th>\n",
              "      <th>roc_auc_scores</th>\n",
              "      <th>recall_scores</th>\n",
              "      <th>precision_scores</th>\n",
              "      <th>f1_scores</th>\n",
              "      <th>tn</th>\n",
              "      <th>fp</th>\n",
              "      <th>fn</th>\n",
              "      <th>tp</th>\n",
              "    </tr>\n",
              "  </thead>\n",
              "  <tbody>\n",
              "    <tr>\n",
              "      <th>0</th>\n",
              "      <td>lr</td>\n",
              "      <td>0.672795</td>\n",
              "      <td>0.047847</td>\n",
              "      <td>0.338983</td>\n",
              "      <td>0.083857</td>\n",
              "      <td>1543</td>\n",
              "      <td>39</td>\n",
              "      <td>398</td>\n",
              "      <td>20</td>\n",
              "    </tr>\n",
              "    <tr>\n",
              "      <th>1</th>\n",
              "      <td>lr_scale</td>\n",
              "      <td>0.758735</td>\n",
              "      <td>0.234450</td>\n",
              "      <td>0.563218</td>\n",
              "      <td>0.331081</td>\n",
              "      <td>1506</td>\n",
              "      <td>76</td>\n",
              "      <td>320</td>\n",
              "      <td>98</td>\n",
              "    </tr>\n",
              "    <tr>\n",
              "      <th>2</th>\n",
              "      <td>clf</td>\n",
              "      <td>0.836262</td>\n",
              "      <td>0.471292</td>\n",
              "      <td>0.788000</td>\n",
              "      <td>0.589820</td>\n",
              "      <td>1529</td>\n",
              "      <td>53</td>\n",
              "      <td>221</td>\n",
              "      <td>197</td>\n",
              "    </tr>\n",
              "    <tr>\n",
              "      <th>3</th>\n",
              "      <td>tree</td>\n",
              "      <td>0.816463</td>\n",
              "      <td>0.449761</td>\n",
              "      <td>0.776860</td>\n",
              "      <td>0.569697</td>\n",
              "      <td>1528</td>\n",
              "      <td>54</td>\n",
              "      <td>230</td>\n",
              "      <td>188</td>\n",
              "    </tr>\n",
              "    <tr>\n",
              "      <th>4</th>\n",
              "      <td>tree_balanced</td>\n",
              "      <td>0.821057</td>\n",
              "      <td>0.519139</td>\n",
              "      <td>0.704545</td>\n",
              "      <td>0.597796</td>\n",
              "      <td>1491</td>\n",
              "      <td>91</td>\n",
              "      <td>201</td>\n",
              "      <td>217</td>\n",
              "    </tr>\n",
              "    <tr>\n",
              "      <th>5</th>\n",
              "      <td>clf_balanced</td>\n",
              "      <td>0.849533</td>\n",
              "      <td>0.557416</td>\n",
              "      <td>0.712538</td>\n",
              "      <td>0.625503</td>\n",
              "      <td>1488</td>\n",
              "      <td>94</td>\n",
              "      <td>185</td>\n",
              "      <td>233</td>\n",
              "    </tr>\n",
              "    <tr>\n",
              "      <th>6</th>\n",
              "      <td>tree_class_weight</td>\n",
              "      <td>0.799947</td>\n",
              "      <td>0.705742</td>\n",
              "      <td>0.461659</td>\n",
              "      <td>0.558184</td>\n",
              "      <td>1238</td>\n",
              "      <td>344</td>\n",
              "      <td>123</td>\n",
              "      <td>295</td>\n",
              "    </tr>\n",
              "    <tr>\n",
              "      <th>7</th>\n",
              "      <td>clf_final</td>\n",
              "      <td>0.849533</td>\n",
              "      <td>0.593301</td>\n",
              "      <td>0.654354</td>\n",
              "      <td>0.622334</td>\n",
              "      <td>1451</td>\n",
              "      <td>131</td>\n",
              "      <td>170</td>\n",
              "      <td>248</td>\n",
              "    </tr>\n",
              "    <tr>\n",
              "      <th>8</th>\n",
              "      <td>tree_final</td>\n",
              "      <td>0.821057</td>\n",
              "      <td>0.581340</td>\n",
              "      <td>0.624679</td>\n",
              "      <td>0.602230</td>\n",
              "      <td>1436</td>\n",
              "      <td>146</td>\n",
              "      <td>175</td>\n",
              "      <td>243</td>\n",
              "    </tr>\n",
              "  </tbody>\n",
              "</table>\n",
              "</div>"
            ],
            "text/plain": [
              "          model_name  roc_auc_scores  recall_scores  ...   fp   fn   tp\n",
              "0                 lr        0.672795       0.047847  ...   39  398   20\n",
              "1           lr_scale        0.758735       0.234450  ...   76  320   98\n",
              "2                clf        0.836262       0.471292  ...   53  221  197\n",
              "3               tree        0.816463       0.449761  ...   54  230  188\n",
              "4      tree_balanced        0.821057       0.519139  ...   91  201  217\n",
              "5       clf_balanced        0.849533       0.557416  ...   94  185  233\n",
              "6  tree_class_weight        0.799947       0.705742  ...  344  123  295\n",
              "7          clf_final        0.849533       0.593301  ...  131  170  248\n",
              "8         tree_final        0.821057       0.581340  ...  146  175  243\n",
              "\n",
              "[9 rows x 9 columns]"
            ]
          },
          "metadata": {
            "tags": []
          },
          "execution_count": 104
        }
      ]
    },
    {
      "cell_type": "code",
      "metadata": {
        "colab": {
          "base_uri": "https://localhost:8080/",
          "height": 422
        },
        "id": "QTsrz3NQZrWI",
        "outputId": "1b0902ec-d3d3-4b29-d8ea-1778b87f77a7"
      },
      "source": [
        "ax = figure()\n",
        "roc(y_valid,probabilites_clf[:,1],'clf_final',ax)\n",
        "roc(y_valid,probabilites_tree[:,1],'tree_final',ax)"
      ],
      "execution_count": 105,
      "outputs": [
        {
          "output_type": "display_data",
          "data": {
            "image/png": "[encoded data removed]",
            "text/plain": [
              "<Figure size 432x432 with 1 Axes>"
            ]
          },
          "metadata": {
            "tags": [],
            "needs_background": "light"
          }
        },
        {
          "output_type": "display_data",
          "data": {
            "text/plain": [
              "<Figure size 432x288 with 0 Axes>"
            ]
          },
          "metadata": {
            "tags": []
          }
        },
        {
          "output_type": "display_data",
          "data": {
            "text/plain": [
              "<Figure size 432x288 with 0 Axes>"
            ]
          },
          "metadata": {
            "tags": []
          }
        }
      ]
    },
    {
      "cell_type": "markdown",
      "metadata": {
        "id": "mDLtjUaZZrWI"
      },
      "source": [
        "Изменив порог для двух моделей, мы еще немного смогли поднять целевой показатель. Таким образром после проверки на валидационной выборке, обе модели отвечают целевым показателям и можно оценить их работу на тестовой выборке.\n",
        "\n"
      ]
    },
    {
      "cell_type": "markdown",
      "metadata": {
        "id": "S6vFF-jbZrWJ"
      },
      "source": [
        "# 4. Тестирование модели"
      ]
    },
    {
      "cell_type": "code",
      "metadata": {
        "id": "aFZhV6XVZrWJ"
      },
      "source": [
        "# Обьеденим валидационну выборку и тестову для обучения модели перед тестированием\n",
        "x_final_train = pd.concat([x_upsampled] + [x_valid])\n",
        "                        "
      ],
      "execution_count": 106,
      "outputs": []
    },
    {
      "cell_type": "code",
      "metadata": {
        "id": "uWqqqd4UZrWJ"
      },
      "source": [
        "y_final_train = pd.concat([y_upsampled] + [y_valid])"
      ],
      "execution_count": 107,
      "outputs": []
    },
    {
      "cell_type": "code",
      "metadata": {
        "id": "4WxpnbZrZrWJ"
      },
      "source": [
        "x_final_train, y_final_train = shuffle(\n",
        "        x_final_train, y_final_train, random_state=12345)"
      ],
      "execution_count": 108,
      "outputs": []
    },
    {
      "cell_type": "code",
      "metadata": {
        "colab": {
          "base_uri": "https://localhost:8080/"
        },
        "id": "0JLx2WXvZrWJ",
        "outputId": "5626060c-639e-4ea4-cea4-2865bb661182"
      },
      "source": [
        "len(x_final_train)"
      ],
      "execution_count": 109,
      "outputs": [
        {
          "output_type": "execute_result",
          "data": {
            "text/plain": [
              "9196"
            ]
          },
          "metadata": {
            "tags": []
          },
          "execution_count": 109
        }
      ]
    },
    {
      "cell_type": "code",
      "metadata": {
        "colab": {
          "base_uri": "https://localhost:8080/"
        },
        "id": "1UjMYfb7ZrWJ",
        "outputId": "8bad7ad2-f1dc-4554-88f7-eb1e38f5c521"
      },
      "source": [
        "len(y_final_train)"
      ],
      "execution_count": 110,
      "outputs": [
        {
          "output_type": "execute_result",
          "data": {
            "text/plain": [
              "9196"
            ]
          },
          "metadata": {
            "tags": []
          },
          "execution_count": 110
        }
      ]
    },
    {
      "cell_type": "markdown",
      "metadata": {
        "id": "kptSaXzZZrWK"
      },
      "source": [
        "### Случайный лес"
      ]
    },
    {
      "cell_type": "code",
      "metadata": {
        "colab": {
          "base_uri": "https://localhost:8080/"
        },
        "id": "u4nRNEkRZrWK",
        "outputId": "5bf642a8-ca73-4de8-a50f-f045a578b221"
      },
      "source": [
        "clf = RandomForestClassifier(n_estimators=91, max_depth=11,random_state=12345)\n",
        "clf.fit(x_final_train,y_final_train)"
      ],
      "execution_count": 111,
      "outputs": [
        {
          "output_type": "execute_result",
          "data": {
            "text/plain": [
              "RandomForestClassifier(bootstrap=True, ccp_alpha=0.0, class_weight=None,\n",
              "                       criterion='gini', max_depth=11, max_features='auto',\n",
              "                       max_leaf_nodes=None, max_samples=None,\n",
              "                       min_impurity_decrease=0.0, min_impurity_split=None,\n",
              "                       min_samples_leaf=1, min_samples_split=2,\n",
              "                       min_weight_fraction_leaf=0.0, n_estimators=91,\n",
              "                       n_jobs=None, oob_score=False, random_state=12345,\n",
              "                       verbose=0, warm_start=False)"
            ]
          },
          "metadata": {
            "tags": []
          },
          "execution_count": 111
        }
      ]
    },
    {
      "cell_type": "code",
      "metadata": {
        "id": "ncZhZZTBZrWK"
      },
      "source": [
        "probabilites_clf = clf.predict_proba(x_test)"
      ],
      "execution_count": 112,
      "outputs": []
    },
    {
      "cell_type": "code",
      "metadata": {
        "id": "0UAQNtgwZrWK"
      },
      "source": [
        "predicted_clf_test = (probabilites_clf[:,1] > 0.46)*1"
      ],
      "execution_count": 113,
      "outputs": []
    },
    {
      "cell_type": "code",
      "metadata": {
        "colab": {
          "base_uri": "https://localhost:8080/"
        },
        "id": "IkAIjvkiZrWK",
        "outputId": "97b0fe0c-40f7-4f46-f0be-f7c3aeb72138"
      },
      "source": [
        "f1_score(y_test,predicted_clf_test)"
      ],
      "execution_count": 114,
      "outputs": [
        {
          "output_type": "execute_result",
          "data": {
            "text/plain": [
              "0.6119791666666666"
            ]
          },
          "metadata": {
            "tags": []
          },
          "execution_count": 114
        }
      ]
    },
    {
      "cell_type": "code",
      "metadata": {
        "id": "LzAhnIS5ZrWK"
      },
      "source": [
        "result_metric=result_metric.append(metrics_model('clf_test',\n",
        "                                                 y_test, \n",
        "                                                 predicted_clf_test,\n",
        "                                                 probabilites_clf[:,1]),ignore_index=True)"
      ],
      "execution_count": 115,
      "outputs": []
    },
    {
      "cell_type": "markdown",
      "metadata": {
        "id": "zFeq_f0tZrWK"
      },
      "source": [
        "### Решающее дерево"
      ]
    },
    {
      "cell_type": "code",
      "metadata": {
        "colab": {
          "base_uri": "https://localhost:8080/"
        },
        "id": "7HaI1tiEZrWL",
        "outputId": "11970682-bccd-4b96-baee-445d0b4b8374"
      },
      "source": [
        "tree = DecisionTreeClassifier(max_depth=6,random_state=12345)\n",
        "tree.fit(x_final_train,y_final_train)"
      ],
      "execution_count": 116,
      "outputs": [
        {
          "output_type": "execute_result",
          "data": {
            "text/plain": [
              "DecisionTreeClassifier(ccp_alpha=0.0, class_weight=None, criterion='gini',\n",
              "                       max_depth=6, max_features=None, max_leaf_nodes=None,\n",
              "                       min_impurity_decrease=0.0, min_impurity_split=None,\n",
              "                       min_samples_leaf=1, min_samples_split=2,\n",
              "                       min_weight_fraction_leaf=0.0, presort='deprecated',\n",
              "                       random_state=12345, splitter='best')"
            ]
          },
          "metadata": {
            "tags": []
          },
          "execution_count": 116
        }
      ]
    },
    {
      "cell_type": "code",
      "metadata": {
        "id": "sWC8I2ctZrWL"
      },
      "source": [
        "probabilites_tree = tree.predict_proba(x_test)"
      ],
      "execution_count": 117,
      "outputs": []
    },
    {
      "cell_type": "code",
      "metadata": {
        "id": "tkmmHw6WZrWL"
      },
      "source": [
        "predict_tree_test = (probabilites_tree[:,1] > 0.44)*1"
      ],
      "execution_count": 118,
      "outputs": []
    },
    {
      "cell_type": "code",
      "metadata": {
        "colab": {
          "base_uri": "https://localhost:8080/"
        },
        "id": "HzpD-LohZrWL",
        "outputId": "c79de04c-0e19-46c1-b005-36233c84afc1"
      },
      "source": [
        "f1_score(y_test,predict_tree_test)"
      ],
      "execution_count": 119,
      "outputs": [
        {
          "output_type": "execute_result",
          "data": {
            "text/plain": [
              "0.5997521685254028"
            ]
          },
          "metadata": {
            "tags": []
          },
          "execution_count": 119
        }
      ]
    },
    {
      "cell_type": "code",
      "metadata": {
        "id": "DE7VrsSPZrWM"
      },
      "source": [
        "result_metric=result_metric.append(metrics_model('tree_test',\n",
        "                                                 y_test, predict_tree_test,\n",
        "                                                 probabilites_tree[:,1]),ignore_index=True)"
      ],
      "execution_count": 120,
      "outputs": []
    },
    {
      "cell_type": "code",
      "metadata": {
        "colab": {
          "base_uri": "https://localhost:8080/",
          "height": 390
        },
        "id": "yrXdrEqpZrWM",
        "outputId": "77e38ca0-2cc9-4b5c-b929-b9d4a3e962a0"
      },
      "source": [
        "result_metric"
      ],
      "execution_count": 121,
      "outputs": [
        {
          "output_type": "execute_result",
          "data": {
            "text/html": [
              "<div>\n",
              "<style scoped>\n",
              "    .dataframe tbody tr th:only-of-type {\n",
              "        vertical-align: middle;\n",
              "    }\n",
              "\n",
              "    .dataframe tbody tr th {\n",
              "        vertical-align: top;\n",
              "    }\n",
              "\n",
              "    .dataframe thead th {\n",
              "        text-align: right;\n",
              "    }\n",
              "</style>\n",
              "<table border=\"1\" class=\"dataframe\">\n",
              "  <thead>\n",
              "    <tr style=\"text-align: right;\">\n",
              "      <th></th>\n",
              "      <th>model_name</th>\n",
              "      <th>roc_auc_scores</th>\n",
              "      <th>recall_scores</th>\n",
              "      <th>precision_scores</th>\n",
              "      <th>f1_scores</th>\n",
              "      <th>tn</th>\n",
              "      <th>fp</th>\n",
              "      <th>fn</th>\n",
              "      <th>tp</th>\n",
              "    </tr>\n",
              "  </thead>\n",
              "  <tbody>\n",
              "    <tr>\n",
              "      <th>0</th>\n",
              "      <td>lr</td>\n",
              "      <td>0.672795</td>\n",
              "      <td>0.047847</td>\n",
              "      <td>0.338983</td>\n",
              "      <td>0.083857</td>\n",
              "      <td>1543</td>\n",
              "      <td>39</td>\n",
              "      <td>398</td>\n",
              "      <td>20</td>\n",
              "    </tr>\n",
              "    <tr>\n",
              "      <th>1</th>\n",
              "      <td>lr_scale</td>\n",
              "      <td>0.758735</td>\n",
              "      <td>0.234450</td>\n",
              "      <td>0.563218</td>\n",
              "      <td>0.331081</td>\n",
              "      <td>1506</td>\n",
              "      <td>76</td>\n",
              "      <td>320</td>\n",
              "      <td>98</td>\n",
              "    </tr>\n",
              "    <tr>\n",
              "      <th>2</th>\n",
              "      <td>clf</td>\n",
              "      <td>0.836262</td>\n",
              "      <td>0.471292</td>\n",
              "      <td>0.788000</td>\n",
              "      <td>0.589820</td>\n",
              "      <td>1529</td>\n",
              "      <td>53</td>\n",
              "      <td>221</td>\n",
              "      <td>197</td>\n",
              "    </tr>\n",
              "    <tr>\n",
              "      <th>3</th>\n",
              "      <td>tree</td>\n",
              "      <td>0.816463</td>\n",
              "      <td>0.449761</td>\n",
              "      <td>0.776860</td>\n",
              "      <td>0.569697</td>\n",
              "      <td>1528</td>\n",
              "      <td>54</td>\n",
              "      <td>230</td>\n",
              "      <td>188</td>\n",
              "    </tr>\n",
              "    <tr>\n",
              "      <th>4</th>\n",
              "      <td>tree_balanced</td>\n",
              "      <td>0.821057</td>\n",
              "      <td>0.519139</td>\n",
              "      <td>0.704545</td>\n",
              "      <td>0.597796</td>\n",
              "      <td>1491</td>\n",
              "      <td>91</td>\n",
              "      <td>201</td>\n",
              "      <td>217</td>\n",
              "    </tr>\n",
              "    <tr>\n",
              "      <th>5</th>\n",
              "      <td>clf_balanced</td>\n",
              "      <td>0.849533</td>\n",
              "      <td>0.557416</td>\n",
              "      <td>0.712538</td>\n",
              "      <td>0.625503</td>\n",
              "      <td>1488</td>\n",
              "      <td>94</td>\n",
              "      <td>185</td>\n",
              "      <td>233</td>\n",
              "    </tr>\n",
              "    <tr>\n",
              "      <th>6</th>\n",
              "      <td>tree_class_weight</td>\n",
              "      <td>0.799947</td>\n",
              "      <td>0.705742</td>\n",
              "      <td>0.461659</td>\n",
              "      <td>0.558184</td>\n",
              "      <td>1238</td>\n",
              "      <td>344</td>\n",
              "      <td>123</td>\n",
              "      <td>295</td>\n",
              "    </tr>\n",
              "    <tr>\n",
              "      <th>7</th>\n",
              "      <td>clf_final</td>\n",
              "      <td>0.849533</td>\n",
              "      <td>0.593301</td>\n",
              "      <td>0.654354</td>\n",
              "      <td>0.622334</td>\n",
              "      <td>1451</td>\n",
              "      <td>131</td>\n",
              "      <td>170</td>\n",
              "      <td>248</td>\n",
              "    </tr>\n",
              "    <tr>\n",
              "      <th>8</th>\n",
              "      <td>tree_final</td>\n",
              "      <td>0.821057</td>\n",
              "      <td>0.581340</td>\n",
              "      <td>0.624679</td>\n",
              "      <td>0.602230</td>\n",
              "      <td>1436</td>\n",
              "      <td>146</td>\n",
              "      <td>175</td>\n",
              "      <td>243</td>\n",
              "    </tr>\n",
              "    <tr>\n",
              "      <th>9</th>\n",
              "      <td>clf_test</td>\n",
              "      <td>0.861282</td>\n",
              "      <td>0.555556</td>\n",
              "      <td>0.681159</td>\n",
              "      <td>0.611979</td>\n",
              "      <td>1467</td>\n",
              "      <td>110</td>\n",
              "      <td>188</td>\n",
              "      <td>235</td>\n",
              "    </tr>\n",
              "    <tr>\n",
              "      <th>10</th>\n",
              "      <td>tree_test</td>\n",
              "      <td>0.842468</td>\n",
              "      <td>0.572104</td>\n",
              "      <td>0.630208</td>\n",
              "      <td>0.599752</td>\n",
              "      <td>1435</td>\n",
              "      <td>142</td>\n",
              "      <td>181</td>\n",
              "      <td>242</td>\n",
              "    </tr>\n",
              "  </tbody>\n",
              "</table>\n",
              "</div>"
            ],
            "text/plain": [
              "           model_name  roc_auc_scores  recall_scores  ...   fp   fn   tp\n",
              "0                  lr        0.672795       0.047847  ...   39  398   20\n",
              "1            lr_scale        0.758735       0.234450  ...   76  320   98\n",
              "2                 clf        0.836262       0.471292  ...   53  221  197\n",
              "3                tree        0.816463       0.449761  ...   54  230  188\n",
              "4       tree_balanced        0.821057       0.519139  ...   91  201  217\n",
              "5        clf_balanced        0.849533       0.557416  ...   94  185  233\n",
              "6   tree_class_weight        0.799947       0.705742  ...  344  123  295\n",
              "7           clf_final        0.849533       0.593301  ...  131  170  248\n",
              "8          tree_final        0.821057       0.581340  ...  146  175  243\n",
              "9            clf_test        0.861282       0.555556  ...  110  188  235\n",
              "10          tree_test        0.842468       0.572104  ...  142  181  242\n",
              "\n",
              "[11 rows x 9 columns]"
            ]
          },
          "metadata": {
            "tags": []
          },
          "execution_count": 121
        }
      ]
    },
    {
      "cell_type": "markdown",
      "metadata": {
        "id": "A8KdpoYMZrWM"
      },
      "source": [
        "<a class=\"anchor\" id=\"21-bullet\">"
      ]
    },
    {
      "cell_type": "markdown",
      "metadata": {
        "id": "m0MunmyGZrWN"
      },
      "source": [
        "#### Итог \n",
        "Мы получили нужный целевой показатель метрики на моделях  \"случаный лес\"и \"решающее дерево\"\n",
        "\n",
        "Целевой метрики на тестовой выборке удалось достич применяя следующие методы и практики.\n",
        "\n",
        "* Прямое кодирование признаков\n",
        "* Балансировка классов, путем анализа результатов можели положительный класс в обучающей выборку был увеличен вдвое.\n",
        "* Обучение модели с параметром class, для модели решающее дерево, балансировка классов недала улучшений, пожтому был применен параметр class\n",
        "* Анализ и изменение порога. Для обоих моделей был изменен стандартный порог, что позволило увеличить целевую метрику.\n"
      ]
    }
  ]
}