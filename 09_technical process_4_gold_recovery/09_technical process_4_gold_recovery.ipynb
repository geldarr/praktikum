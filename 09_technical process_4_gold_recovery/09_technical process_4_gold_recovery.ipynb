{
 "cells": [
  {
   "cell_type": "markdown",
   "metadata": {},
   "source": [
    "Привет, меня зовут Артем Хуршудов. Сегодня я проверю твой проект.\n",
    "<br> Дальнейшее общение будет происходить на \"ты\" если это не вызывает никаких проблем.\n",
    "<br> Желательно реагировать на каждый мой комментарий ('исправил', 'не понятно как исправить ошибку', ...)\n",
    "<br> Пожалуйста, не удаляй комментарии ревьюера, так как они повышают качество повторного ревью.\n",
    "\n",
    "Комментарии будут в <font color='green'>зеленой</font>, <font color='blue'>синей</font> или <font color='red'>красной</font> рамках:\n",
    "\n",
    "<div class=\"alert alert-block alert-success\">\n",
    "<b>Успех:</b> Если все сделано отлично\n",
    "</div>\n",
    "\n",
    "<div class=\"alert alert-block alert-info\">\n",
    "<b>Совет: </b> Если можно немного улучшить\n",
    "</div>\n",
    "\n",
    "<div class=\"alert alert-block alert-danger\">\n",
    "<b>Ошибка:</b> Если требуются исправления. Работа не может быть принята с красными комментариями.\n",
    "</div>\n",
    "\n",
    "-------------------\n",
    "\n",
    "Будет очень хорошо, если ты будешь помечать свои действия следующим образом:\n",
    "<div class=\"alert alert-block alert-warning\">\n",
    "<b>Комментарий студента:</b> ...\n",
    "</div>\n",
    "\n",
    "<div class=\"alert alert-block alert-warning\">\n",
    "<b>Изменения:</b> Были внесены следующие изменения ...\n",
    "</div>\n",
    "\n",
    "### <font color='orange'>Общее впечатление</font>\n",
    "* Большое спасибо за проделанную работу. Видно, что приложено много усилий.\n",
    "* Выводы и рассуждения получились содержательными, их было интересно читать.\n",
    "* Работа в целом и каждый шаг в отдельности сделаны хорошо.\n",
    "* К сожалению, над проектом нужно будет еще немного поработать. Однако, правки не должны занять много времени.\n",
    "* В работе ты сможешь найти несколько советов. Буду рад, если ты обратишь на них внимание.\n",
    "* С радостью отвечу на твои вопросы, если они есть. Лучше всего их собрать в следующей ячейке. Жду новую версию проекта."
   ]
  },
  {
   "cell_type": "markdown",
   "metadata": {},
   "source": [
    "<div class=\"alert alert-block alert-warning\">\n",
    "<b>Привет, спсибо за оперативность при проверке моей работы:</b> ...\n",
    "</div>"
   ]
  },
  {
   "cell_type": "markdown",
   "metadata": {},
   "source": [
    "### <font color='orange'>Общее впечатление (ревью 2)</font>\n",
    "* Новые комментарии обозначены фразой \"ревью 2\"."
   ]
  },
  {
   "cell_type": "markdown",
   "metadata": {},
   "source": [
    "### <font color='orange'>Общее впечатление (ревью 3)</font>\n",
    "* После правок проект может быть зачтен.\n",
    "* Удачи в дальнейшем обучении и следующих работах! С наступающим!"
   ]
  },
  {
   "cell_type": "markdown",
   "metadata": {
    "id": "zUwyam31vFIs"
   },
   "source": [
    "# Импорт библиотек"
   ]
  },
  {
   "cell_type": "markdown",
   "metadata": {
    "id": "LyUM1Hz25k7K"
   },
   "source": [
    "Описание проекта\n",
    "Подготовьте прототип модели машинного обучения для «Цифры». Компания разрабатывает решения для эффективной работы промышленных предприятий.\n",
    "\n",
    "Модель должна предсказать коэффициент восстановления золота из золотосодержащей руды. В вашем распоряжении данные с параметрами добычи и очистки.\n",
    "\n",
    "\n",
    "Модель поможет оптимизировать производство, чтобы не запускать предприятие с убыточными характеристиками.\n",
    "\n",
    "Вам нужно:\n",
    "\n",
    "Подготовить данные;\n",
    "Провести исследовательский анализ данных;\n",
    "Построить и обучить модель.\n",
    "Чтобы выполнить проект, обращайтесь к библиотекам pandas, matplotlib и sklearn. Вам поможет их документация."
   ]
  },
  {
   "cell_type": "markdown",
   "metadata": {
    "id": "-bRImaTr9YkL"
   },
   "source": [
    "Флотация (обогощение) золосожержащей руды  => Черновой концентрат + Отвальные хвосты\n",
    "\n",
    "Очистка  чернового концентрата => финальный концентрат + отвальные хвосты.\n"
   ]
  },
  {
   "cell_type": "code",
   "execution_count": 1,
   "metadata": {
    "id": "gpsODALaFun2"
   },
   "outputs": [],
   "source": [
    "import pandas as pd\n",
    "import numpy as np\n",
    "from sklearn.metrics import mean_absolute_error\n",
    "import matplotlib.pyplot as plt\n",
    "import seaborn as sns\n",
    "from scipy.stats import norm\n",
    "from sklearn.pipeline import Pipeline\n",
    "from sklearn.linear_model import LinearRegression\n",
    "from sklearn.preprocessing import StandardScaler\n",
    "from sklearn.utils import shuffle\n",
    "from sklearn.model_selection import cross_validate\n",
    "from sklearn.model_selection import cross_val_score\n",
    "from sklearn.multioutput import MultiOutputRegressor\n",
    "from sklearn.ensemble import RandomForestRegressor\n",
    "from sklearn.model_selection import GridSearchCV\n",
    "from sklearn.metrics import r2_score\n",
    "from sklearn.metrics import make_scorer\n",
    "from sklearn.tree import DecisionTreeRegressor"
   ]
  },
  {
   "cell_type": "markdown",
   "metadata": {
    "id": "NY5j2kvYu720"
   },
   "source": [
    "Импорт данных "
   ]
  },
  {
   "cell_type": "markdown",
   "metadata": {},
   "source": [
    "<div class=\"alert alert-block alert-success\">\n",
    "<b>Успех:</b> Отлично, что все импорты собраны в первой ячейке ноутбука! Если у того, кто будет запускать твой ноутбук будут отсутствовать некоторые библиотеки, то он это увидит сразу, а не в процессе!\n",
    "</div>"
   ]
  },
  {
   "cell_type": "markdown",
   "metadata": {
    "id": "uahgTi9ju-28"
   },
   "source": [
    "# Импорт данных"
   ]
  },
  {
   "cell_type": "code",
   "execution_count": 2,
   "metadata": {
    "id": "gXa7CNGVF84H"
   },
   "outputs": [],
   "source": [
    "data_full = pd.read_csv('/datasets/gold_recovery_full.csv')\n",
    "data_train = pd.read_csv('/datasets/gold_recovery_train.csv')\n",
    "data_test = pd.read_csv('/datasets/gold_recovery_test.csv')"
   ]
  },
  {
   "cell_type": "code",
   "execution_count": null,
   "metadata": {},
   "outputs": [],
   "source": []
  },
  {
   "cell_type": "markdown",
   "metadata": {},
   "source": [
    "<div class=\"alert alert-block alert-info\">\n",
    "<b>Совет: </b> Данные загружены корректно. Однако, не забывай про первичный анализ (методы head и info).\n",
    "</div>"
   ]
  },
  {
   "cell_type": "markdown",
   "metadata": {},
   "source": [
    "<div class=\"alert alert-block alert-warning\">\n",
    "<b>Спасибо, что напомнил, в обязательно учту в слеующих проектах:</b> ...\n",
    "</div>"
   ]
  },
  {
   "cell_type": "markdown",
   "metadata": {
    "id": "nV_z9MU4N-6p"
   },
   "source": [
    "# Анализ данных"
   ]
  },
  {
   "cell_type": "markdown",
   "metadata": {
    "id": "MY-dX3N2aQOA"
   },
   "source": [
    "\n",
    "Цеоевые признаки:\n",
    "\n",
    "\n",
    "*   **final.output.recovery**\n",
    "*   **rougher.output.recovery**\n",
    "\n",
    "Предсказав данные признаки мы сможем расщитать целевую эффективность обогощения.\n",
    "\n",
    "---\n",
    "Признаки:\n",
    "\n",
    "Для обучения модели нам необходимы признаки, параметры технического процесса, которые заранее известны. В нашем случае такие признаки содержат следующие значения:\n",
    "\n",
    "*   input - изначальные параметры сырья\n",
    "*   state - параметры, характеризующие текущее состояние этапа\n",
    "\n",
    "\n",
    "\n",
    "\n"
   ]
  },
  {
   "cell_type": "markdown",
   "metadata": {
    "id": "5yo-XWynm8QH"
   },
   "source": [
    "# Проверка на корректность формулы вычисления эффективности обогащения"
   ]
  },
  {
   "cell_type": "markdown",
   "metadata": {
    "id": "Vo4LyuMd-E4W"
   },
   "source": [
    "Проверка на корректность формулы вычисления эффективности обогащения. \n",
    "Обогощение исходного сырья (золотосодержащей руды) происходит на стадии флотации. В предоставленных данных результат флотации представлен в признаках:\n",
    "\n",
    "\n",
    "1.   C = rougher.output.concentrate_au  - доля золота в концентрате после флотации \n",
    "2.   F = rougher.input.feed_au - Доля золота в сырье до флотации \n",
    "3.   T =  rougher.output.tail_au - Доля золота в отвальных хвостах после флотации.\n",
    "\n",
    "Расчитывать эффективность обогощения будем по следующей формуле:\n",
    "\n",
    " \n",
    "\n",
    "```\n",
    "# Recovery = ((C * (F - T))/(F * (C - T))\n",
    "```\n",
    "Для расчета создадим функцию \"recovery\".\n",
    "\n"
   ]
  },
  {
   "cell_type": "code",
   "execution_count": 3,
   "metadata": {
    "id": "C1Ge1iSn-DpS"
   },
   "outputs": [],
   "source": [
    "def recovery(c,f,t):\n",
    "  recovery = ((c * (f - t))/(f * (c - t)))*100\n",
    "  return recovery"
   ]
  },
  {
   "cell_type": "code",
   "execution_count": 4,
   "metadata": {
    "id": "6pgr6ZUupZxz"
   },
   "outputs": [],
   "source": [
    "# Удалим нулевые значения из целевых признаков.\n",
    "#data_train['rougher.output.recovery'].dropna()\n",
    "#data_train['final.output.recovery'].dropna()"
   ]
  },
  {
   "cell_type": "code",
   "execution_count": 5,
   "metadata": {
    "id": "azbVvm4gAwg2"
   },
   "outputs": [],
   "source": [
    "data_train['rougher.calculated.recovery'] = recovery(data_train['rougher.output.concentrate_au'],\n",
    "                                                     data_train['rougher.input.feed_au'],\n",
    "                                                     data_train['rougher.output.tail_au'])"
   ]
  },
  {
   "cell_type": "markdown",
   "metadata": {
    "id": "-SlDLdMyBtuN"
   },
   "source": [
    "Вычислим MAE между полученными данными эффективности и имеющимися. "
   ]
  },
  {
   "cell_type": "code",
   "execution_count": 6,
   "metadata": {
    "colab": {
     "base_uri": "https://localhost:8080/"
    },
    "id": "DcEm0i7dpsUC",
    "outputId": "8d4989b8-768c-44e2-af88-f8384b132aab"
   },
   "outputs": [
    {
     "data": {
      "text/plain": [
       "14577"
      ]
     },
     "execution_count": 6,
     "metadata": {},
     "output_type": "execute_result"
    }
   ],
   "source": [
    "data_train['rougher.calculated.recovery'].count()"
   ]
  },
  {
   "cell_type": "code",
   "execution_count": 7,
   "metadata": {
    "id": "uI5COU3GFWmj"
   },
   "outputs": [],
   "source": [
    "# для проверки отберем только актульные данные \n",
    "output_recovery = data_train.loc[data_train['rougher.output.recovery'].notna()]['rougher.output.recovery']"
   ]
  },
  {
   "cell_type": "code",
   "execution_count": 8,
   "metadata": {
    "id": "aGtiZtvKFfpW"
   },
   "outputs": [],
   "source": [
    "output_calculate = data_train.loc[output_recovery.index]['rougher.calculated.recovery']"
   ]
  },
  {
   "cell_type": "code",
   "execution_count": 9,
   "metadata": {
    "colab": {
     "base_uri": "https://localhost:8080/"
    },
    "id": "B_Hqj5_EBTTJ",
    "outputId": "b25e77c8-6739-43d6-9872-b91a785cafc7"
   },
   "outputs": [
    {
     "data": {
      "text/plain": [
       "0.0"
      ]
     },
     "execution_count": 9,
     "metadata": {},
     "output_type": "execute_result"
    }
   ],
   "source": [
    "mean_absolute_error(output_recovery,output_recovery)"
   ]
  },
  {
   "cell_type": "markdown",
   "metadata": {
    "id": "qg8tPZtudxYX"
   },
   "source": [
    "Расчет корректен"
   ]
  },
  {
   "cell_type": "markdown",
   "metadata": {},
   "source": [
    "<div class=\"alert alert-block alert-success\">\n",
    "<b>Успех:</b> Абсолютно верно!\n",
    "</div>"
   ]
  },
  {
   "cell_type": "markdown",
   "metadata": {
    "id": "9ozExvcL04d1"
   },
   "source": [
    "Анализ тестовой выборки, анализ признаков, поиск различий между обучающей выборкой.\n"
   ]
  },
  {
   "cell_type": "code",
   "execution_count": 10,
   "metadata": {
    "colab": {
     "base_uri": "https://localhost:8080/"
    },
    "id": "HdNrt2vafH_0",
    "outputId": "5a4e1126-d0f1-4622-e1c8-e1b4663e7466"
   },
   "outputs": [
    {
     "name": "stdout",
     "output_type": "stream",
     "text": [
      "<class 'pandas.core.frame.DataFrame'>\n",
      "RangeIndex: 5856 entries, 0 to 5855\n",
      "Data columns (total 53 columns):\n",
      "date                                          5856 non-null object\n",
      "primary_cleaner.input.sulfate                 5554 non-null float64\n",
      "primary_cleaner.input.depressant              5572 non-null float64\n",
      "primary_cleaner.input.feed_size               5856 non-null float64\n",
      "primary_cleaner.input.xanthate                5690 non-null float64\n",
      "primary_cleaner.state.floatbank8_a_air        5840 non-null float64\n",
      "primary_cleaner.state.floatbank8_a_level      5840 non-null float64\n",
      "primary_cleaner.state.floatbank8_b_air        5840 non-null float64\n",
      "primary_cleaner.state.floatbank8_b_level      5840 non-null float64\n",
      "primary_cleaner.state.floatbank8_c_air        5840 non-null float64\n",
      "primary_cleaner.state.floatbank8_c_level      5840 non-null float64\n",
      "primary_cleaner.state.floatbank8_d_air        5840 non-null float64\n",
      "primary_cleaner.state.floatbank8_d_level      5840 non-null float64\n",
      "rougher.input.feed_ag                         5840 non-null float64\n",
      "rougher.input.feed_pb                         5840 non-null float64\n",
      "rougher.input.feed_rate                       5816 non-null float64\n",
      "rougher.input.feed_size                       5834 non-null float64\n",
      "rougher.input.feed_sol                        5789 non-null float64\n",
      "rougher.input.feed_au                         5840 non-null float64\n",
      "rougher.input.floatbank10_sulfate             5599 non-null float64\n",
      "rougher.input.floatbank10_xanthate            5733 non-null float64\n",
      "rougher.input.floatbank11_sulfate             5801 non-null float64\n",
      "rougher.input.floatbank11_xanthate            5503 non-null float64\n",
      "rougher.state.floatbank10_a_air               5839 non-null float64\n",
      "rougher.state.floatbank10_a_level             5840 non-null float64\n",
      "rougher.state.floatbank10_b_air               5839 non-null float64\n",
      "rougher.state.floatbank10_b_level             5840 non-null float64\n",
      "rougher.state.floatbank10_c_air               5839 non-null float64\n",
      "rougher.state.floatbank10_c_level             5840 non-null float64\n",
      "rougher.state.floatbank10_d_air               5839 non-null float64\n",
      "rougher.state.floatbank10_d_level             5840 non-null float64\n",
      "rougher.state.floatbank10_e_air               5839 non-null float64\n",
      "rougher.state.floatbank10_e_level             5840 non-null float64\n",
      "rougher.state.floatbank10_f_air               5839 non-null float64\n",
      "rougher.state.floatbank10_f_level             5840 non-null float64\n",
      "secondary_cleaner.state.floatbank2_a_air      5836 non-null float64\n",
      "secondary_cleaner.state.floatbank2_a_level    5840 non-null float64\n",
      "secondary_cleaner.state.floatbank2_b_air      5833 non-null float64\n",
      "secondary_cleaner.state.floatbank2_b_level    5840 non-null float64\n",
      "secondary_cleaner.state.floatbank3_a_air      5822 non-null float64\n",
      "secondary_cleaner.state.floatbank3_a_level    5840 non-null float64\n",
      "secondary_cleaner.state.floatbank3_b_air      5840 non-null float64\n",
      "secondary_cleaner.state.floatbank3_b_level    5840 non-null float64\n",
      "secondary_cleaner.state.floatbank4_a_air      5840 non-null float64\n",
      "secondary_cleaner.state.floatbank4_a_level    5840 non-null float64\n",
      "secondary_cleaner.state.floatbank4_b_air      5840 non-null float64\n",
      "secondary_cleaner.state.floatbank4_b_level    5840 non-null float64\n",
      "secondary_cleaner.state.floatbank5_a_air      5840 non-null float64\n",
      "secondary_cleaner.state.floatbank5_a_level    5840 non-null float64\n",
      "secondary_cleaner.state.floatbank5_b_air      5840 non-null float64\n",
      "secondary_cleaner.state.floatbank5_b_level    5840 non-null float64\n",
      "secondary_cleaner.state.floatbank6_a_air      5840 non-null float64\n",
      "secondary_cleaner.state.floatbank6_a_level    5840 non-null float64\n",
      "dtypes: float64(52), object(1)\n",
      "memory usage: 2.4+ MB\n"
     ]
    }
   ],
   "source": [
    "data_test.info()"
   ]
  },
  {
   "cell_type": "code",
   "execution_count": 11,
   "metadata": {
    "id": "1m2gWPELwFgm"
   },
   "outputs": [],
   "source": [
    "differences = list(set(data_train.columns) - set(data_test.columns))"
   ]
  },
  {
   "cell_type": "code",
   "execution_count": 12,
   "metadata": {
    "colab": {
     "base_uri": "https://localhost:8080/"
    },
    "id": "gj-TmFyCTUSI",
    "outputId": "2fac775f-6eb3-4be2-a599-e0d7636eb790"
   },
   "outputs": [
    {
     "data": {
      "text/plain": [
       "35"
      ]
     },
     "execution_count": 12,
     "metadata": {},
     "output_type": "execute_result"
    }
   ],
   "source": [
    "len(differences)"
   ]
  },
  {
   "cell_type": "code",
   "execution_count": 13,
   "metadata": {
    "colab": {
     "base_uri": "https://localhost:8080/"
    },
    "id": "UwtglNfXkj3p",
    "outputId": "f2943bbd-1262-4b4b-f41d-afca0ad71b49"
   },
   "outputs": [
    {
     "data": {
      "text/plain": [
       "['rougher.output.tail_pb',\n",
       " 'final.output.concentrate_pb',\n",
       " 'secondary_cleaner.output.tail_ag',\n",
       " 'rougher.calculation.au_pb_ratio',\n",
       " 'final.output.tail_ag',\n",
       " 'rougher.calculation.sulfate_to_au_concentrate',\n",
       " 'final.output.concentrate_au',\n",
       " 'rougher.calculation.floatbank11_sulfate_to_au_feed',\n",
       " 'rougher.output.concentrate_au',\n",
       " 'primary_cleaner.output.tail_ag',\n",
       " 'rougher.output.concentrate_pb',\n",
       " 'primary_cleaner.output.tail_sol',\n",
       " 'final.output.recovery',\n",
       " 'rougher.calculation.floatbank10_sulfate_to_au_feed',\n",
       " 'rougher.calculated.recovery',\n",
       " 'secondary_cleaner.output.tail_au',\n",
       " 'rougher.output.concentrate_sol',\n",
       " 'final.output.tail_au',\n",
       " 'final.output.tail_sol',\n",
       " 'secondary_cleaner.output.tail_pb',\n",
       " 'final.output.tail_pb',\n",
       " 'primary_cleaner.output.tail_au',\n",
       " 'primary_cleaner.output.concentrate_ag',\n",
       " 'final.output.concentrate_sol',\n",
       " 'rougher.output.concentrate_ag',\n",
       " 'primary_cleaner.output.concentrate_au',\n",
       " 'rougher.output.tail_au',\n",
       " 'primary_cleaner.output.tail_pb',\n",
       " 'secondary_cleaner.output.tail_sol',\n",
       " 'rougher.output.recovery',\n",
       " 'final.output.concentrate_ag',\n",
       " 'primary_cleaner.output.concentrate_sol',\n",
       " 'primary_cleaner.output.concentrate_pb',\n",
       " 'rougher.output.tail_ag',\n",
       " 'rougher.output.tail_sol']"
      ]
     },
     "execution_count": 13,
     "metadata": {},
     "output_type": "execute_result"
    }
   ],
   "source": [
    "differences"
   ]
  },
  {
   "cell_type": "markdown",
   "metadata": {
    "id": "x15VAnW8x-TG"
   },
   "source": [
    "Заменим индексы нанаших датасетах, согласно условиям задачи данные индексируются по дате, ее и установим в качестве индекса"
   ]
  },
  {
   "cell_type": "code",
   "execution_count": 14,
   "metadata": {
    "id": "TaQyEMdNuqrJ"
   },
   "outputs": [],
   "source": [
    "data_test = data_test.set_index('date')\n",
    "data_full = data_full.set_index('date')\n",
    "data_train = data_train.set_index('date')"
   ]
  },
  {
   "cell_type": "markdown",
   "metadata": {
    "id": "EvforqynyJ20"
   },
   "source": [
    "Добавим в тестовую выборку целевые признаки."
   ]
  },
  {
   "cell_type": "code",
   "execution_count": 15,
   "metadata": {
    "id": "gyPnhqblvMRc"
   },
   "outputs": [],
   "source": [
    "data_test[['rougher.output.recovery','final.output.recovery']] = data_full.loc[data_test.index][['rougher.output.recovery','final.output.recovery']]"
   ]
  },
  {
   "cell_type": "markdown",
   "metadata": {},
   "source": [
    "<div class=\"alert alert-block alert-success\">\n",
    "<b>Успех:</b> Использовать дату в качестве индекса – отличное решение.\n",
    "</div>"
   ]
  },
  {
   "cell_type": "code",
   "execution_count": 16,
   "metadata": {
    "colab": {
     "base_uri": "https://localhost:8080/"
    },
    "id": "-cxEuv_Uq44I",
    "outputId": "380db8eb-3d88-4427-fa1e-571ea683891b"
   },
   "outputs": [
    {
     "name": "stdout",
     "output_type": "stream",
     "text": [
      "<class 'pandas.core.frame.DataFrame'>\n",
      "Index: 5856 entries, 2016-09-01 00:59:59 to 2017-12-31 23:59:59\n",
      "Data columns (total 54 columns):\n",
      "primary_cleaner.input.sulfate                 5554 non-null float64\n",
      "primary_cleaner.input.depressant              5572 non-null float64\n",
      "primary_cleaner.input.feed_size               5856 non-null float64\n",
      "primary_cleaner.input.xanthate                5690 non-null float64\n",
      "primary_cleaner.state.floatbank8_a_air        5840 non-null float64\n",
      "primary_cleaner.state.floatbank8_a_level      5840 non-null float64\n",
      "primary_cleaner.state.floatbank8_b_air        5840 non-null float64\n",
      "primary_cleaner.state.floatbank8_b_level      5840 non-null float64\n",
      "primary_cleaner.state.floatbank8_c_air        5840 non-null float64\n",
      "primary_cleaner.state.floatbank8_c_level      5840 non-null float64\n",
      "primary_cleaner.state.floatbank8_d_air        5840 non-null float64\n",
      "primary_cleaner.state.floatbank8_d_level      5840 non-null float64\n",
      "rougher.input.feed_ag                         5840 non-null float64\n",
      "rougher.input.feed_pb                         5840 non-null float64\n",
      "rougher.input.feed_rate                       5816 non-null float64\n",
      "rougher.input.feed_size                       5834 non-null float64\n",
      "rougher.input.feed_sol                        5789 non-null float64\n",
      "rougher.input.feed_au                         5840 non-null float64\n",
      "rougher.input.floatbank10_sulfate             5599 non-null float64\n",
      "rougher.input.floatbank10_xanthate            5733 non-null float64\n",
      "rougher.input.floatbank11_sulfate             5801 non-null float64\n",
      "rougher.input.floatbank11_xanthate            5503 non-null float64\n",
      "rougher.state.floatbank10_a_air               5839 non-null float64\n",
      "rougher.state.floatbank10_a_level             5840 non-null float64\n",
      "rougher.state.floatbank10_b_air               5839 non-null float64\n",
      "rougher.state.floatbank10_b_level             5840 non-null float64\n",
      "rougher.state.floatbank10_c_air               5839 non-null float64\n",
      "rougher.state.floatbank10_c_level             5840 non-null float64\n",
      "rougher.state.floatbank10_d_air               5839 non-null float64\n",
      "rougher.state.floatbank10_d_level             5840 non-null float64\n",
      "rougher.state.floatbank10_e_air               5839 non-null float64\n",
      "rougher.state.floatbank10_e_level             5840 non-null float64\n",
      "rougher.state.floatbank10_f_air               5839 non-null float64\n",
      "rougher.state.floatbank10_f_level             5840 non-null float64\n",
      "secondary_cleaner.state.floatbank2_a_air      5836 non-null float64\n",
      "secondary_cleaner.state.floatbank2_a_level    5840 non-null float64\n",
      "secondary_cleaner.state.floatbank2_b_air      5833 non-null float64\n",
      "secondary_cleaner.state.floatbank2_b_level    5840 non-null float64\n",
      "secondary_cleaner.state.floatbank3_a_air      5822 non-null float64\n",
      "secondary_cleaner.state.floatbank3_a_level    5840 non-null float64\n",
      "secondary_cleaner.state.floatbank3_b_air      5840 non-null float64\n",
      "secondary_cleaner.state.floatbank3_b_level    5840 non-null float64\n",
      "secondary_cleaner.state.floatbank4_a_air      5840 non-null float64\n",
      "secondary_cleaner.state.floatbank4_a_level    5840 non-null float64\n",
      "secondary_cleaner.state.floatbank4_b_air      5840 non-null float64\n",
      "secondary_cleaner.state.floatbank4_b_level    5840 non-null float64\n",
      "secondary_cleaner.state.floatbank5_a_air      5840 non-null float64\n",
      "secondary_cleaner.state.floatbank5_a_level    5840 non-null float64\n",
      "secondary_cleaner.state.floatbank5_b_air      5840 non-null float64\n",
      "secondary_cleaner.state.floatbank5_b_level    5840 non-null float64\n",
      "secondary_cleaner.state.floatbank6_a_air      5840 non-null float64\n",
      "secondary_cleaner.state.floatbank6_a_level    5840 non-null float64\n",
      "rougher.output.recovery                       5310 non-null float64\n",
      "final.output.recovery                         5414 non-null float64\n",
      "dtypes: float64(54)\n",
      "memory usage: 2.5+ MB\n"
     ]
    }
   ],
   "source": [
    "data_test.info()"
   ]
  },
  {
   "cell_type": "markdown",
   "metadata": {
    "id": "607F_bZMr7w8"
   },
   "source": [
    "Тестовая выборка содержит признаки, которые известны еще до запуска процесса, что вполне подходит для тестирования и обучения модели. \n",
    "Аналогичные признаки будем использовать и в обучающем наборе данных. "
   ]
  },
  {
   "cell_type": "markdown",
   "metadata": {},
   "source": [
    "<div class=\"alert alert-block alert-success\">\n",
    "<b>Успех:</b> Согласен.\n",
    "</div>"
   ]
  },
  {
   "cell_type": "markdown",
   "metadata": {
    "id": "W_aAzfk5k-jT"
   },
   "source": [
    "На этапе проверки расчета коофицента обогощения, были ошибки, которые указывали на наличие пустых признаков в данных, проверим и посчитаем долю пропусков."
   ]
  },
  {
   "cell_type": "code",
   "execution_count": 17,
   "metadata": {
    "colab": {
     "base_uri": "https://localhost:8080/"
    },
    "id": "ktXMcCzaTeFY",
    "outputId": "6c493909-f9a8-4c18-be53-2709aaf124a9"
   },
   "outputs": [
    {
     "data": {
      "text/plain": [
       "rougher.output.recovery                   0.152610\n",
       "rougher.calculated.recovery               0.135409\n",
       "rougher.output.tail_ag                    0.133452\n",
       "rougher.output.tail_sol                   0.133393\n",
       "rougher.output.tail_au                    0.133393\n",
       "secondary_cleaner.output.tail_sol         0.117794\n",
       "rougher.input.floatbank11_xanthate        0.112930\n",
       "final.output.recovery                     0.090214\n",
       "primary_cleaner.input.sulfate             0.077521\n",
       "primary_cleaner.input.depressant          0.074852\n",
       "rougher.calculation.au_pb_ratio           0.073665\n",
       "rougher.input.floatbank10_sulfate         0.061922\n",
       "primary_cleaner.input.xanthate            0.058422\n",
       "primary_cleaner.output.concentrate_sol    0.037722\n",
       "rougher.input.floatbank11_sulfate         0.036951\n",
       "dtype: float64"
      ]
     },
     "execution_count": 17,
     "metadata": {},
     "output_type": "execute_result"
    }
   ],
   "source": [
    "# проверка на пустые значения\n",
    "data_train.isna().mean().nlargest(15)"
   ]
  },
  {
   "cell_type": "code",
   "execution_count": 18,
   "metadata": {
    "colab": {
     "base_uri": "https://localhost:8080/"
    },
    "id": "v2n0IRBMk79p",
    "outputId": "b324b233-3638-47af-9884-2cff7b1ce26c"
   },
   "outputs": [
    {
     "data": {
      "text/plain": [
       "rougher.output.recovery                     0.093238\n",
       "final.output.recovery                       0.075478\n",
       "rougher.input.floatbank11_xanthate          0.060280\n",
       "primary_cleaner.input.sulfate               0.051571\n",
       "primary_cleaner.input.depressant            0.048497\n",
       "rougher.input.floatbank10_sulfate           0.043887\n",
       "primary_cleaner.input.xanthate              0.028347\n",
       "rougher.input.floatbank10_xanthate          0.021004\n",
       "rougher.input.feed_sol                      0.011441\n",
       "rougher.input.floatbank11_sulfate           0.009392\n",
       "rougher.input.feed_rate                     0.006831\n",
       "secondary_cleaner.state.floatbank3_a_air    0.005806\n",
       "secondary_cleaner.state.floatbank2_b_air    0.003928\n",
       "rougher.input.feed_size                     0.003757\n",
       "secondary_cleaner.state.floatbank2_a_air    0.003415\n",
       "dtype: float64"
      ]
     },
     "execution_count": 18,
     "metadata": {},
     "output_type": "execute_result"
    }
   ],
   "source": [
    "# проверка на пустые значения\n",
    "data_test.isna().mean().nlargest(15)"
   ]
  },
  {
   "cell_type": "code",
   "execution_count": 19,
   "metadata": {
    "colab": {
     "base_uri": "https://localhost:8080/"
    },
    "id": "Jj-Ip1POOPqb",
    "outputId": "3af41463-b91e-4fae-c537-71084ba2e688"
   },
   "outputs": [
    {
     "data": {
      "text/plain": [
       "rougher.output.recovery                   0.137304\n",
       "rougher.output.tail_ag                    0.120488\n",
       "rougher.output.tail_sol                   0.120444\n",
       "rougher.output.tail_au                    0.120444\n",
       "rougher.input.floatbank11_xanthate        0.099357\n",
       "secondary_cleaner.output.tail_sol         0.097508\n",
       "final.output.recovery                     0.086415\n",
       "rougher.calculation.au_pb_ratio           0.071624\n",
       "primary_cleaner.input.sulfate             0.070831\n",
       "primary_cleaner.input.depressant          0.068058\n",
       "rougher.input.floatbank10_sulfate         0.057272\n",
       "primary_cleaner.input.xanthate            0.050669\n",
       "primary_cleaner.output.concentrate_sol    0.035129\n",
       "rougher.input.floatbank11_sulfate         0.029847\n",
       "rougher.state.floatbank10_e_air           0.027294\n",
       "dtype: float64"
      ]
     },
     "execution_count": 19,
     "metadata": {},
     "output_type": "execute_result"
    }
   ],
   "source": [
    "# проверка на пустые значения\n",
    "data_full.isna().mean().nlargest(15)"
   ]
  },
  {
   "cell_type": "code",
   "execution_count": 20,
   "metadata": {
    "colab": {
     "base_uri": "https://localhost:8080/"
    },
    "id": "p_zLDZCQmBTr",
    "outputId": "1db68101-a95c-4251-c43f-d7bdd202d8ba"
   },
   "outputs": [
    {
     "data": {
      "text/plain": [
       "0.0009489916963226571"
      ]
     },
     "execution_count": 20,
     "metadata": {},
     "output_type": "execute_result"
    }
   ],
   "source": [
    "# проверка на дубликаты\n",
    "data_train.duplicated().mean()"
   ]
  },
  {
   "cell_type": "code",
   "execution_count": 21,
   "metadata": {
    "id": "PxBAsdQ0mfS0"
   },
   "outputs": [],
   "source": [
    "# проверка на дубликаты\n",
    "data_test.drop_duplicates(inplace=True)"
   ]
  },
  {
   "cell_type": "code",
   "execution_count": 22,
   "metadata": {
    "colab": {
     "base_uri": "https://localhost:8080/"
    },
    "id": "TOv_-aiymgZ2",
    "outputId": "ed56b19e-54f1-4887-f536-95749ce0c951"
   },
   "outputs": [
    {
     "data": {
      "text/plain": [
       "0.0009684803662616658"
      ]
     },
     "execution_count": 22,
     "metadata": {},
     "output_type": "execute_result"
    }
   ],
   "source": [
    "# проверка на дубликаты\n",
    "data_full.duplicated().mean()"
   ]
  },
  {
   "cell_type": "markdown",
   "metadata": {
    "id": "7FLrAsGzYaO8"
   },
   "source": [
    "Заполним NaN методом линейно интерполяции"
   ]
  },
  {
   "cell_type": "code",
   "execution_count": 23,
   "metadata": {
    "id": "ljzK7ksYnRQm"
   },
   "outputs": [],
   "source": [
    "data_train=data_train.interpolate(method='linear')"
   ]
  },
  {
   "cell_type": "code",
   "execution_count": 24,
   "metadata": {},
   "outputs": [
    {
     "data": {
      "text/plain": [
       "date\n",
       "2016-01-15 00:00:00    87.107763\n",
       "2016-01-15 01:00:00    86.843261\n",
       "2016-01-15 02:00:00    86.842308\n",
       "2016-01-15 03:00:00    87.226430\n",
       "2016-01-15 04:00:00    86.688794\n",
       "                         ...    \n",
       "2018-08-18 06:59:59    89.574376\n",
       "2018-08-18 07:59:59    87.724007\n",
       "2018-08-18 08:59:59    88.890579\n",
       "2018-08-18 09:59:59    89.858126\n",
       "2018-08-18 10:59:59    89.514960\n",
       "Name: rougher.output.recovery, Length: 16860, dtype: float64"
      ]
     },
     "execution_count": 24,
     "metadata": {},
     "output_type": "execute_result"
    }
   ],
   "source": [
    "data_train['rougher.output.recovery']"
   ]
  },
  {
   "cell_type": "markdown",
   "metadata": {},
   "source": [
    "<div class=\"alert alert-block alert-info\">\n",
    "<b>Совет: </b> В целом хорошо, но я бы удалил строки, в которых есть пропуски в целевых колонках.\n",
    "</div>"
   ]
  },
  {
   "cell_type": "markdown",
   "metadata": {
    "id": "QoBhWn56Ynk1"
   },
   "source": [
    "Из тестовой выборки удалим все пустые значения."
   ]
  },
  {
   "cell_type": "code",
   "execution_count": 25,
   "metadata": {
    "colab": {
     "base_uri": "https://localhost:8080/"
    },
    "id": "HoIpYhIQyu07",
    "outputId": "57defa98-9580-4100-a8f2-17223795a946"
   },
   "outputs": [
    {
     "data": {
      "text/plain": [
       "primary_cleaner.input.sulfate               0.0\n",
       "primary_cleaner.input.depressant            0.0\n",
       "primary_cleaner.input.feed_size             0.0\n",
       "primary_cleaner.input.xanthate              0.0\n",
       "primary_cleaner.state.floatbank8_a_air      0.0\n",
       "primary_cleaner.state.floatbank8_a_level    0.0\n",
       "primary_cleaner.state.floatbank8_b_air      0.0\n",
       "primary_cleaner.state.floatbank8_b_level    0.0\n",
       "primary_cleaner.state.floatbank8_c_air      0.0\n",
       "primary_cleaner.state.floatbank8_c_level    0.0\n",
       "primary_cleaner.state.floatbank8_d_air      0.0\n",
       "primary_cleaner.state.floatbank8_d_level    0.0\n",
       "rougher.input.feed_ag                       0.0\n",
       "rougher.input.feed_pb                       0.0\n",
       "rougher.input.feed_rate                     0.0\n",
       "dtype: float64"
      ]
     },
     "execution_count": 25,
     "metadata": {},
     "output_type": "execute_result"
    }
   ],
   "source": [
    "data_test.dropna(inplace=True)\n",
    "data_test.isna().mean().nlargest(15)"
   ]
  },
  {
   "cell_type": "code",
   "execution_count": 26,
   "metadata": {
    "colab": {
     "base_uri": "https://localhost:8080/"
    },
    "id": "mIlPbKWEraMx",
    "outputId": "40ee8f0f-03f5-4b06-b239-f8ed198563a5"
   },
   "outputs": [
    {
     "data": {
      "text/plain": [
       "5229"
      ]
     },
     "execution_count": 26,
     "metadata": {},
     "output_type": "execute_result"
    }
   ],
   "source": [
    "len(data_test)"
   ]
  },
  {
   "cell_type": "code",
   "execution_count": 27,
   "metadata": {
    "colab": {
     "base_uri": "https://localhost:8080/"
    },
    "id": "DuYki-6Krcqe",
    "outputId": "ec99946f-d546-4efa-d11d-4f27ce808eae"
   },
   "outputs": [
    {
     "data": {
      "text/plain": [
       "16860"
      ]
     },
     "execution_count": 27,
     "metadata": {},
     "output_type": "execute_result"
    }
   ],
   "source": [
    "len(data_train)"
   ]
  },
  {
   "cell_type": "markdown",
   "metadata": {
    "id": "H1Jub0vzsK6V"
   },
   "source": [
    "# 2.1. Посмотрите, как меняется концентрация металлов (Au, Ag, Pb) на различных этапах очистки. Опишите выводы."
   ]
  },
  {
   "cell_type": "markdown",
   "metadata": {
    "id": "keO4_60VsdIa"
   },
   "source": [
    "У нас есть два этапа очистки, первый и второй.\n",
    "построи график дл этих этапов"
   ]
  },
  {
   "cell_type": "code",
   "execution_count": 28,
   "metadata": {
    "colab": {
     "base_uri": "https://localhost:8080/",
     "height": 282
    },
    "id": "DxYFMev0s-GM",
    "outputId": "4066e720-782c-4234-b79b-51f323d90224"
   },
   "outputs": [
    {
     "data": {
      "text/plain": [
       "<matplotlib.legend.Legend at 0x7f33fdeb8390>"
      ]
     },
     "execution_count": 28,
     "metadata": {},
     "output_type": "execute_result"
    },
    {
     "data": {
      "image/png": "[encoded data removed]",
      "text/plain": [
       "<Figure size 1080x288 with 1 Axes>"
      ]
     },
     "metadata": {
      "needs_background": "light"
     },
     "output_type": "display_data"
    }
   ],
   "source": [
    "fig, (ax1) = plt.subplots(1,figsize=(15,4))\n",
    "\n",
    "ax1.hist(data_train['rougher.input.feed_ag'],bins=100,\n",
    "         label='secondary_ag',color='#424242')\n",
    "ax1.hist(data_train['rougher.output.concentrate_ag'],bins=100,\n",
    "         label = 'rougher',color='#BF360C',alpha=0.5)\n",
    "\n",
    "ax1.hist(data_train['primary_cleaner.output.concentrate_ag'],\n",
    "        bins=100,label='primary_ag',color='#808080',alpha=0.8)\n",
    "\n",
    "ax1.hist(data_train['final.output.concentrate_ag'],bins=100,\n",
    "         label='final',color='#9E9E9E',alpha=0.5)\n",
    "\n",
    "ax1.grid()\n",
    "ax1.legend(prop={'size': 10})\n"
   ]
  },
  {
   "cell_type": "code",
   "execution_count": 29,
   "metadata": {
    "colab": {
     "base_uri": "https://localhost:8080/",
     "height": 282
    },
    "id": "ahJE-7EfYw74",
    "outputId": "839db509-940f-4b21-b6d0-623b2e191f45"
   },
   "outputs": [
    {
     "data": {
      "text/plain": [
       "<matplotlib.legend.Legend at 0x7f33fb0e6550>"
      ]
     },
     "execution_count": 29,
     "metadata": {},
     "output_type": "execute_result"
    },
    {
     "data": {
      "image/png": "[encoded data removed]",
      "text/plain": [
       "<Figure size 1080x288 with 1 Axes>"
      ]
     },
     "metadata": {
      "needs_background": "light"
     },
     "output_type": "display_data"
    }
   ],
   "source": [
    "fig, (ax2) = plt.subplots(1,figsize=(15,4))\n",
    "ax2.hist(data_train['rougher.input.feed_au'],bins=100,\n",
    "         label='input_au',color='#424242',histtype='bar')\n",
    "\n",
    "ax2.hist(data_train['rougher.output.concentrate_au'],bins=100,\n",
    "         label = 'rougher',color='#BF360C')\n",
    "ax2.hist(data_train['primary_cleaner.output.concentrate_au'],bins=100,\n",
    "         label = 'primary_au',color='#757575')\n",
    "\n",
    "ax2.hist(data_train['final.output.concentrate_au'],bins=100,\n",
    "         label = 'secondary/final_au',color='#FDD835',histtype='stepfilled')\n",
    "\n",
    "ax2.grid()\n",
    "ax2.legend(prop={'size': 10})\n"
   ]
  },
  {
   "cell_type": "code",
   "execution_count": 30,
   "metadata": {
    "colab": {
     "base_uri": "https://localhost:8080/",
     "height": 282
    },
    "id": "-OQhQL1LY4UA",
    "outputId": "b31fe50a-a16d-4cb7-932e-0a32b6b30fe1"
   },
   "outputs": [
    {
     "data": {
      "text/plain": [
       "<matplotlib.legend.Legend at 0x7f33fae4ab10>"
      ]
     },
     "execution_count": 30,
     "metadata": {},
     "output_type": "execute_result"
    },
    {
     "data": {
      "image/png": "[encoded data removed]",
      "text/plain": [
       "<Figure size 1080x288 with 1 Axes>"
      ]
     },
     "metadata": {
      "needs_background": "light"
     },
     "output_type": "display_data"
    }
   ],
   "source": [
    "fig, (ax3) = plt.subplots(1,figsize=(15,4))\n",
    "ax3.hist(data_train['rougher.input.feed_pb'],bins=100,\n",
    "         label='secondary_pb',color='#424242')\n",
    "\n",
    "ax3.hist(data_train['rougher.output.concentrate_pb'],bins=100,\n",
    "         label = 'rougher',color='#BF360C')\n",
    "\n",
    "ax3.hist(data_train['final.output.concentrate_pb'],bins=100,\n",
    "         label = 'secondary/final_pb',color='#836565')\n",
    "\n",
    "ax3.hist(data_train['primary_cleaner.output.concentrate_pb'],bins=100,\n",
    "         label = 'primary_pb',color='#757575')\n",
    "\n",
    "\n",
    "\n",
    "ax3.grid()\n",
    "ax3.legend(prop={'size': 10})"
   ]
  },
  {
   "cell_type": "markdown",
   "metadata": {
    "id": "KsYVifsCIGa7"
   },
   "source": [
    "1. Концентрация серербра Ag \n",
    "\n",
    "Уровень серебра заметно уменьшается после второй очистики. Среднее значение уменьшается. На графике видно как после каждого этапа график смещается в лево.\n",
    "2. Концентрация золота Au\n",
    "\n",
    "Гистограмма золота как и серебра показывает изменения. Средний показатель увеличился, от этого график значительно сместился вправо. Разброс значений уменьшился. Это говорит о том, что доля золота в концентрате увеличивается на каждом этапе процеса очистки.\n",
    "\n",
    "3. Свенец Pb\n",
    "Гистограмма сместилась вправо, разброс данных немного уменьшился. Но из-за того что график сдвинулся вправо, похоже, что доля свенца в концентрате увеличилась, вероятно это из-за технологии флотации.\n",
    "\n",
    "\n",
    "Еще на всех трех графиках есть пики на нулевых значениях. Это не похоже на истинные данные. Нулевые значения больше похожи на ошибки измерения или их отсутвие, возможно стоит от них мзбавится."
   ]
  },
  {
   "cell_type": "markdown",
   "metadata": {},
   "source": [
    "<div class=\"alert alert-block alert-info\">\n",
    "<b>Совет: </b> Гистограммы получились неплохо, но я бы сделал из полупрозрачными: параметр \"alpha\".\n",
    "</div>"
   ]
  },
  {
   "cell_type": "markdown",
   "metadata": {},
   "source": [
    "<div class=\"alert alert-block alert-warning\">\n",
    "<b>Изменения:</b> Поигрался с прозрачностью, оставил в первом графике. В целом думаю надо цвета подобрать другие.\n",
    "</div>"
   ]
  },
  {
   "cell_type": "markdown",
   "metadata": {
    "id": "i0Cnlo2nrQe_"
   },
   "source": [
    "# 2.2 Сравнение размеров гранул сырья"
   ]
  },
  {
   "cell_type": "code",
   "execution_count": 31,
   "metadata": {
    "colab": {
     "base_uri": "https://localhost:8080/",
     "height": 386
    },
    "id": "gpL5Fn-Cu-if",
    "outputId": "d152303a-1e3f-4d84-9644-d4db12375ef9"
   },
   "outputs": [
    {
     "data": {
      "text/plain": [
       "<matplotlib.legend.Legend at 0x7f33fa9c6150>"
      ]
     },
     "execution_count": 31,
     "metadata": {},
     "output_type": "execute_result"
    },
    {
     "data": {
      "image/png": "[encoded data removed]",
      "text/plain": [
       "<Figure size 432x288 with 1 Axes>"
      ]
     },
     "metadata": {
      "needs_background": "light"
     },
     "output_type": "display_data"
    }
   ],
   "source": [
    "sns.distplot(data_train['rougher.input.feed_size'],label='train')\n",
    "sns.distplot(data_test['rougher.input.feed_size'],label='test')\n",
    "plt.legend()\n"
   ]
  },
  {
   "cell_type": "markdown",
   "metadata": {
    "id": "4wHnzR0yEAZ6"
   },
   "source": [
    "Распределение значения размера гранул  на обучающем и тестовом наборах данных схожи между собой"
   ]
  },
  {
   "cell_type": "markdown",
   "metadata": {},
   "source": [
    "<div class=\"alert alert-block alert-info\">\n",
    "<b>Совет: </b> В данном случае желательно было использовать параметр \"hist=True\" в методе \".displot()\". Так бы нам удалось перейти от количества к доле. Обе гистограммы желательно было объеденить на одном графике.\n",
    "</div>"
   ]
  },
  {
   "cell_type": "markdown",
   "metadata": {},
   "source": [
    "<div class=\"alert alert-block alert-warning\">\n",
    "<b>Изменения:</b> Поправил, перенес на один график. Но мне было понятней когда два)),разных. \n",
    "</div>"
   ]
  },
  {
   "cell_type": "markdown",
   "metadata": {
    "id": "Nda258kyFhX8"
   },
   "source": [
    "# 2.3. Исследования суммарной концентрации всех веществ на разных стадиях"
   ]
  },
  {
   "cell_type": "markdown",
   "metadata": {
    "id": "VITfpfACFuGC"
   },
   "source": [
    "У нас есть три стадии обработки сырья.\n",
    "\n",
    "\n",
    "1.   Первая стадия - обогощение, флотация. Итог - черновой концентрат\n",
    "2.   Вторая стадия - первый этап очистки. Итог - очищеный концентрат\n",
    "3.   Третья стадия - второй этап очистки. Итог - финальный концентрат \n",
    "\n",
    "Вычислим для каждой стадии суммарное значение и построим  гистограмму и боксплот.\n"
   ]
  },
  {
   "cell_type": "code",
   "execution_count": 32,
   "metadata": {
    "id": "MGGXimDZHqsz"
   },
   "outputs": [],
   "source": [
    "stage_concentration = pd.DataFrame(columns = ['input','rougher','primary','final'])"
   ]
  },
  {
   "cell_type": "code",
   "execution_count": 33,
   "metadata": {
    "id": "Sd64FabVtcxI"
   },
   "outputs": [],
   "source": [
    "data_train['rougher_sum'] = data_train['rougher.output.concentrate_pb'] +\\\n",
    "                    data_train['rougher.output.concentrate_ag'] +\\\n",
    "                    data_train['rougher.output.concentrate_au'] +\\\n",
    "                    data_train['rougher.output.concentrate_sol']"
   ]
  },
  {
   "cell_type": "code",
   "execution_count": 34,
   "metadata": {
    "id": "0ydtz6NtHgSh"
   },
   "outputs": [],
   "source": [
    "data_train['primary_sum'] = data_train['primary_cleaner.output.concentrate_pb'] +\\\n",
    "                    data_train['primary_cleaner.output.concentrate_ag'] +\\\n",
    "                    data_train['primary_cleaner.output.concentrate_au'] +\\\n",
    "                    data_train['primary_cleaner.output.concentrate_sol']"
   ]
  },
  {
   "cell_type": "code",
   "execution_count": 35,
   "metadata": {
    "id": "423QJYaDInqm"
   },
   "outputs": [],
   "source": [
    "data_train['final_sum'] = data_train['final.output.concentrate_pb'] +\\\n",
    "                    data_train['final.output.concentrate_ag'] +\\\n",
    "                    data_train['final.output.concentrate_au'] +\\\n",
    "                    data_train['final.output.concentrate_sol']"
   ]
  },
  {
   "cell_type": "code",
   "execution_count": 36,
   "metadata": {
    "id": "0xIIUWNUJVhA"
   },
   "outputs": [],
   "source": [
    "data_train['input_sum'] = data_train['rougher.input.feed_pb'] +\\\n",
    "                    data_train['rougher.input.feed_ag'] +\\\n",
    "                    data_train['rougher.input.feed_au'] +\\\n",
    "                    data_train['rougher.input.feed_sol']"
   ]
  },
  {
   "cell_type": "markdown",
   "metadata": {
    "id": "UwFwmOG9g88U"
   },
   "source": []
  },
  {
   "cell_type": "code",
   "execution_count": 37,
   "metadata": {
    "id": "xeYRPdT0Xvn9"
   },
   "outputs": [],
   "source": [
    "stage_concentration = data_train.loc[:,['input_sum','rougher_sum','primary_sum','final_sum']]"
   ]
  },
  {
   "cell_type": "code",
   "execution_count": 38,
   "metadata": {
    "colab": {
     "base_uri": "https://localhost:8080/",
     "height": 399
    },
    "id": "i_4j7yWrJz01",
    "outputId": "cf9a044f-f434-4670-d0a8-af2c0c3a495e"
   },
   "outputs": [
    {
     "data": {
      "text/plain": [
       "<matplotlib.legend.Legend at 0x7f3402547f10>"
      ]
     },
     "execution_count": 38,
     "metadata": {},
     "output_type": "execute_result"
    },
    {
     "data": {
      "image/png": "[encoded data removed]",
      "text/plain": [
       "<Figure size 1080x576 with 1 Axes>"
      ]
     },
     "metadata": {},
     "output_type": "display_data"
    }
   ],
   "source": [
    "sns.set(style=\"whitegrid\")\n",
    "plt.figure(figsize=(15,8))\n",
    "sns.distplot(stage_concentration['input_sum'],label='input')\n",
    "sns.distplot(stage_concentration['rougher_sum'],label='rougher')\n",
    "sns.distplot(stage_concentration['primary_sum'],label='primary_clean')\n",
    "sns.distplot(stage_concentration['final_sum'],label='final')\n",
    "plt.legend()\n"
   ]
  },
  {
   "cell_type": "code",
   "execution_count": 39,
   "metadata": {
    "colab": {
     "base_uri": "https://localhost:8080/",
     "height": 394
    },
    "id": "L9sG2jywNiUf",
    "outputId": "77c822b7-3bce-48fd-c1f4-c5ee41c33181"
   },
   "outputs": [
    {
     "data": {
      "text/plain": [
       "<matplotlib.axes._subplots.AxesSubplot at 0x7f33fa5fddd0>"
      ]
     },
     "execution_count": 39,
     "metadata": {},
     "output_type": "execute_result"
    },
    {
     "data": {
      "image/png": "[encoded data removed]",
      "text/plain": [
       "<Figure size 576x432 with 1 Axes>"
      ]
     },
     "metadata": {},
     "output_type": "display_data"
    }
   ],
   "source": [
    "sns.set(style=\"whitegrid\")\n",
    "plt.figure(figsize=(8,6))\n",
    "sns.boxplot(data=stage_concentration)"
   ]
  },
  {
   "cell_type": "markdown",
   "metadata": {
    "id": "SixV4HAmZZHJ"
   },
   "source": [
    "На графике очень хорошо видно \"свечку\" с нулевыми или близкими к 0 показателями, как следствие ошибок при занесении данных или их отсутсвии. Такие данны для нас бесполезны, придется удалить."
   ]
  },
  {
   "cell_type": "markdown",
   "metadata": {
    "id": "EwAMFoBziVil"
   },
   "source": [
    "Удалим все выбросы. Так как на каждом этапе происходит измерение результата этапа и внесение данных, некорректные значения будем удалять для каждого этапа. Порог будет 0.1, соответсвенно если на одном из этапов сумарное значение концентрата веществ меньше или равно 0.1 для нас это будет означать, что на данном этапе были внесены не корректные данные."
   ]
  },
  {
   "cell_type": "code",
   "execution_count": 40,
   "metadata": {
    "id": "HCyqA70GJ7A1"
   },
   "outputs": [],
   "source": [
    "data_train.drop(data_train.loc[data_train['rougher_sum'] <=0.1].index,inplace=True)\n",
    "data_train.drop(data_train.loc[data_train['primary_sum'] <= 0.1].index,inplace=True)\n",
    "data_train.drop(data_train.loc[data_train['final_sum'] <= 0.1].index,inplace=True)\n",
    "data_train.drop(data_train.loc[data_train['input_sum'] <= 0.1].index,inplace=True)"
   ]
  },
  {
   "cell_type": "code",
   "execution_count": 41,
   "metadata": {
    "colab": {
     "base_uri": "https://localhost:8080/"
    },
    "id": "yd4RHPAOmDYs",
    "outputId": "29eda1dc-2dab-485b-fa58-92e97878a91d"
   },
   "outputs": [
    {
     "data": {
      "text/plain": [
       "14362"
      ]
     },
     "execution_count": 41,
     "metadata": {},
     "output_type": "execute_result"
    }
   ],
   "source": [
    "len(data_train)"
   ]
  },
  {
   "cell_type": "code",
   "execution_count": 42,
   "metadata": {
    "colab": {
     "base_uri": "https://localhost:8080/"
    },
    "id": "2rFm83sEmNcY",
    "outputId": "cb4d4127-97d3-4351-f398-504a4d3cde1b"
   },
   "outputs": [
    {
     "data": {
      "text/plain": [
       "0.14816132858837486"
      ]
     },
     "execution_count": 42,
     "metadata": {},
     "output_type": "execute_result"
    }
   ],
   "source": [
    "(16860-14362)/16860"
   ]
  },
  {
   "cell_type": "code",
   "execution_count": 43,
   "metadata": {
    "id": "rgSIYnqeTtSp"
   },
   "outputs": [],
   "source": [
    "stage_concentration = data_train.loc[:,['input_sum','rougher_sum','primary_sum','final_sum']]"
   ]
  },
  {
   "cell_type": "code",
   "execution_count": 44,
   "metadata": {
    "colab": {
     "base_uri": "https://localhost:8080/",
     "height": 399
    },
    "id": "QaDlRS7jTg7F",
    "outputId": "c3cd5f13-a50f-4ece-d040-31dbaeccde0e"
   },
   "outputs": [
    {
     "data": {
      "text/plain": [
       "<matplotlib.legend.Legend at 0x7f33fa3dc850>"
      ]
     },
     "execution_count": 44,
     "metadata": {},
     "output_type": "execute_result"
    },
    {
     "data": {
      "image/png": "[encoded data removed]",
      "text/plain": [
       "<Figure size 1080x576 with 1 Axes>"
      ]
     },
     "metadata": {},
     "output_type": "display_data"
    }
   ],
   "source": [
    "sns.set(style=\"whitegrid\")\n",
    "plt.figure(figsize=(15,8))\n",
    "sns.distplot(stage_concentration['input_sum'],label='input')\n",
    "sns.distplot(stage_concentration['rougher_sum'],label='rougher')\n",
    "sns.distplot(stage_concentration['primary_sum'],label='primary_clean')\n",
    "sns.distplot(stage_concentration['final_sum'],label='final')\n",
    "plt.legend()"
   ]
  },
  {
   "cell_type": "markdown",
   "metadata": {
    "id": "HL6nWVbJPsSb"
   },
   "source": [
    "\n",
    "\n",
    "После удаление нулевых строк, выброс стал гораздо меньше, но и данных уже тоже меньше). Нам пришлось удалить 15 % данных\n"
   ]
  },
  {
   "cell_type": "markdown",
   "metadata": {},
   "source": [
    "<div class=\"alert alert-block alert-success\">\n",
    "<b>Успех:</b> Выбросы обработаны корректно.\n",
    "</div>"
   ]
  },
  {
   "cell_type": "markdown",
   "metadata": {
    "id": "Gu17124Mr0yD"
   },
   "source": [
    "# 3. Построение модели."
   ]
  },
  {
   "cell_type": "markdown",
   "metadata": {
    "id": "tZt5IAyRr6ho"
   },
   "source": [
    "Функция подсчета sMAPE.\n",
    "\n",
    "Для опеределения лучшей модели будем использовать эту функцию. Данная метрика покажет нам процент ошибок в предсказания модели. Идеальным показателем для модели бедт значение 0 "
   ]
  },
  {
   "cell_type": "code",
   "execution_count": 45,
   "metadata": {
    "id": "mL269e6hlee8"
   },
   "outputs": [],
   "source": [
    "def smape_final(p, t):\n",
    "     return 1/len(p) * (sum((2*abs(t - p))*100 / (abs(p) + abs(t))))"
   ]
  },
  {
   "cell_type": "markdown",
   "metadata": {},
   "source": [
    "<div class=\"alert alert-block alert-danger\">\n",
    "<b>Ошибка:</b> 4/2/2 = 1, а не 4. Аналогичная ошибка допущена в функции выше.\n",
    "</div>"
   ]
  },
  {
   "attachments": {
    "image.png": {
     "image/png": "[encoded data removed]"
    }
   },
   "cell_type": "markdown",
   "metadata": {},
   "source": [
    "![image.png](attachment:image.png)\n",
    "<div class=\"alert alert-block alert-warning\">\n",
    "<b>Изменения:</b>  \n",
    "    Извини но не могу понять где ошибка в формуле ? Вроде перенес все как в задании.\n",
    "</div>\n"
   ]
  },
  {
   "cell_type": "markdown",
   "metadata": {},
   "source": [
    "<div class=\"alert alert-block alert-danger\">\n",
    "\n",
    "<b>Ошибка (ревью 2):</b> Деление на 2 должно быть в знаменателе. $\\frac{a}{b / c} = \\frac{c * a}{b}$. У тебя же $\\frac{a}{b / c}$ = $\\frac{a / с}{b}$, что неверно.\n",
    "\n",
    "</div>"
   ]
  },
  {
   "cell_type": "markdown",
   "metadata": {},
   "source": [
    "<div class=\"alert alert-block alert-warning\">\n",
    "<b>Изменения 2:</b>  \n",
    "    Все попарвил), спасибо \n",
    "</div>"
   ]
  },
  {
   "cell_type": "code",
   "execution_count": 46,
   "metadata": {
    "id": "spfYtQmFr4q8"
   },
   "outputs": [],
   "source": [
    "def smape(y_true,y_predict):\n",
    "  if len(y_true) != len(y_predict):\n",
    "    return \"разная длина массивов\"\n",
    "  \n",
    "  result_rougher = smape_final(y_true['rougher.output.recovery'],y_predict[:,0])\n",
    "  result_final = smape_final(y_true['final.output.recovery'],y_predict[:,1])\n",
    "  \n",
    "\n",
    "  result = (0.25*result_rougher + 0.75*result_final)\n",
    "  return result"
   ]
  },
  {
   "cell_type": "markdown",
   "metadata": {},
   "source": [
    "<div class=\"alert alert-block alert-success\">\n",
    "<b>Успех:</b> Отлично, что тебе удалось избедать циклов в этих функциях.\n",
    "</div>"
   ]
  },
  {
   "cell_type": "markdown",
   "metadata": {
    "id": "GhKhgOgAr4Zm"
   },
   "source": [
    "# Подготовим наборы для обучения"
   ]
  },
  {
   "cell_type": "markdown",
   "metadata": {
    "id": "A1nG1nnucB2J"
   },
   "source": []
  },
  {
   "cell_type": "markdown",
   "metadata": {
    "id": "gpRvfdiGsJtV"
   },
   "source": [
    "\n",
    "\n",
    "1.   Для начала подгтовим тестовы набор данных, затем по нему определим признаки для тренировочного.\n",
    "\n",
    "\n",
    "\n"
   ]
  },
  {
   "cell_type": "code",
   "execution_count": 47,
   "metadata": {
    "colab": {
     "base_uri": "https://localhost:8080/"
    },
    "id": "xAjYpHPkMvUM",
    "outputId": "a8f5e6fe-697a-4f89-f0f7-f30fdd1213d7"
   },
   "outputs": [
    {
     "data": {
      "text/plain": [
       "final.output.concentrate_ag              0.0\n",
       "final.output.concentrate_pb              0.0\n",
       "final.output.concentrate_sol             0.0\n",
       "final.output.concentrate_au              0.0\n",
       "final.output.recovery                    0.0\n",
       "final.output.tail_ag                     0.0\n",
       "final.output.tail_pb                     0.0\n",
       "final.output.tail_sol                    0.0\n",
       "final.output.tail_au                     0.0\n",
       "primary_cleaner.input.sulfate            0.0\n",
       "primary_cleaner.input.depressant         0.0\n",
       "primary_cleaner.input.feed_size          0.0\n",
       "primary_cleaner.input.xanthate           0.0\n",
       "primary_cleaner.output.concentrate_ag    0.0\n",
       "primary_cleaner.output.concentrate_pb    0.0\n",
       "dtype: float64"
      ]
     },
     "execution_count": 47,
     "metadata": {},
     "output_type": "execute_result"
    }
   ],
   "source": [
    "data_train.isna().mean().nlargest(15)"
   ]
  },
  {
   "cell_type": "code",
   "execution_count": 48,
   "metadata": {
    "id": "kGG6yQG4uB_-"
   },
   "outputs": [],
   "source": [
    "data_train = shuffle(data_train)"
   ]
  },
  {
   "cell_type": "code",
   "execution_count": 49,
   "metadata": {
    "id": "j8lRnJZNuOLI"
   },
   "outputs": [],
   "source": [
    "data_test = shuffle(data_test)"
   ]
  },
  {
   "cell_type": "code",
   "execution_count": 50,
   "metadata": {
    "id": "5ERkMPCi4wyZ"
   },
   "outputs": [],
   "source": [
    "x_test = data_test.drop(['rougher.output.recovery','final.output.recovery'],axis=1)\n",
    "y_test = data_test[['rougher.output.recovery','final.output.recovery']]"
   ]
  },
  {
   "cell_type": "code",
   "execution_count": 51,
   "metadata": {
    "id": "qpFl3D6ErTet"
   },
   "outputs": [],
   "source": [
    "# подготовка тренеровочного набора.\n",
    "x_train = data_train[x_test.columns]\n",
    "y_train = data_train[['rougher.output.recovery','final.output.recovery']]"
   ]
  },
  {
   "cell_type": "code",
   "execution_count": 52,
   "metadata": {
    "colab": {
     "base_uri": "https://localhost:8080/"
    },
    "id": "WTNUEP3rtQRH",
    "outputId": "98b9ae5d-7fcd-45dc-feb0-79b90b94c20e"
   },
   "outputs": [
    {
     "data": {
      "text/plain": [
       "14362"
      ]
     },
     "execution_count": 52,
     "metadata": {},
     "output_type": "execute_result"
    }
   ],
   "source": [
    "len(y_train)"
   ]
  },
  {
   "cell_type": "markdown",
   "metadata": {
    "id": "WUKQKdA8dOce"
   },
   "source": [
    "Обучать будем три модели\n",
    "MultiOutputRegressor и RandomForestRegressor Treedesigen.\n",
    "\n",
    "\n"
   ]
  },
  {
   "cell_type": "markdown",
   "metadata": {
    "id": "zdxSa7Aq71CH"
   },
   "source": [
    "Линейная регрессия"
   ]
  },
  {
   "cell_type": "code",
   "execution_count": 53,
   "metadata": {
    "colab": {
     "base_uri": "https://localhost:8080/"
    },
    "id": "JFxnCRPlv6LL",
    "outputId": "6acfbb07-cc87-4a0e-a39b-179a67bbbaac"
   },
   "outputs": [
    {
     "data": {
      "text/plain": [
       "MultiOutputRegressor(estimator=LinearRegression(copy_X=True, fit_intercept=True,\n",
       "                                                n_jobs=None, normalize=True),\n",
       "                     n_jobs=None)"
      ]
     },
     "execution_count": 53,
     "metadata": {},
     "output_type": "execute_result"
    }
   ],
   "source": [
    "lr  = MultiOutputRegressor(LinearRegression(normalize=True))\n",
    "lr.fit(x_train, y_train)"
   ]
  },
  {
   "cell_type": "code",
   "execution_count": 54,
   "metadata": {
    "id": "wp34HrYj4otn"
   },
   "outputs": [],
   "source": [
    "predict_lr = lr.predict(x_train)"
   ]
  },
  {
   "cell_type": "code",
   "execution_count": 55,
   "metadata": {
    "colab": {
     "base_uri": "https://localhost:8080/"
    },
    "id": "o6FhkgE242Ue",
    "outputId": "0760791d-9597-4410-f396-05b99c72f209"
   },
   "outputs": [
    {
     "data": {
      "text/plain": [
       "7.620775552632165"
      ]
     },
     "execution_count": 55,
     "metadata": {},
     "output_type": "execute_result"
    }
   ],
   "source": [
    "smape(y_train,predict_lr)"
   ]
  },
  {
   "cell_type": "markdown",
   "metadata": {
    "id": "6d3ywdhJ7nwg"
   },
   "source": [
    "Модель случайный лес"
   ]
  },
  {
   "cell_type": "code",
   "execution_count": 56,
   "metadata": {
    "id": "SETS0e2RtyKt"
   },
   "outputs": [],
   "source": [
    "gyperparams = [{'n_estimators': range(1,50,10),'max_depth': range(1,40,10)}]\n",
    "clf = RandomForestRegressor(random_state=12345)"
   ]
  },
  {
   "cell_type": "code",
   "execution_count": 57,
   "metadata": {
    "id": "X8nGZ6V6uPI0"
   },
   "outputs": [],
   "source": [
    "#  так как наша задача минимизировать показатель smape, будем использовать параметр greater_is_better = False\n",
    "grid = GridSearchCV(clf,gyperparams,scoring=make_scorer(smape,greater_is_better=False),cv=3)"
   ]
  },
  {
   "cell_type": "code",
   "execution_count": 58,
   "metadata": {
    "colab": {
     "base_uri": "https://localhost:8080/"
    },
    "id": "RpY2ba4gvQus",
    "outputId": "0ffc6984-4634-4b7b-8a2a-a1945f9ea4dd"
   },
   "outputs": [
    {
     "name": "stdout",
     "output_type": "stream",
     "text": [
      "CPU times: user 7min 23s, sys: 199 ms, total: 7min 23s\n",
      "Wall time: 7min 26s\n"
     ]
    },
    {
     "data": {
      "text/plain": [
       "GridSearchCV(cv=3, error_score='raise-deprecating',\n",
       "             estimator=RandomForestRegressor(bootstrap=True, criterion='mse',\n",
       "                                             max_depth=None,\n",
       "                                             max_features='auto',\n",
       "                                             max_leaf_nodes=None,\n",
       "                                             min_impurity_decrease=0.0,\n",
       "                                             min_impurity_split=None,\n",
       "                                             min_samples_leaf=1,\n",
       "                                             min_samples_split=2,\n",
       "                                             min_weight_fraction_leaf=0.0,\n",
       "                                             n_estimators='warn', n_jobs=None,\n",
       "                                             oob_score=False,\n",
       "                                             random_state=12345, verbose=0,\n",
       "                                             warm_start=False),\n",
       "             iid='warn', n_jobs=None,\n",
       "             param_grid=[{'max_depth': range(1, 40, 10),\n",
       "                          'n_estimators': range(1, 50, 10)}],\n",
       "             pre_dispatch='2*n_jobs', refit=True, return_train_score=False,\n",
       "             scoring=make_scorer(smape, greater_is_better=False), verbose=0)"
      ]
     },
     "execution_count": 58,
     "metadata": {},
     "output_type": "execute_result"
    }
   ],
   "source": [
    "\n",
    "%time grid.fit(x_train,y_train)"
   ]
  },
  {
   "cell_type": "code",
   "execution_count": 59,
   "metadata": {
    "colab": {
     "base_uri": "https://localhost:8080/"
    },
    "id": "nEC9P78KraFd",
    "outputId": "67c4068f-d23a-4286-8398-fd2b3b2d3239"
   },
   "outputs": [
    {
     "data": {
      "text/plain": [
       "5.386332380014263"
      ]
     },
     "execution_count": 59,
     "metadata": {},
     "output_type": "execute_result"
    }
   ],
   "source": [
    "grid.best_score_ *-1"
   ]
  },
  {
   "cell_type": "code",
   "execution_count": 60,
   "metadata": {
    "colab": {
     "base_uri": "https://localhost:8080/"
    },
    "id": "A_2ZPtxZruCG",
    "outputId": "a23c15a1-3808-45b5-a3de-db009eee3414"
   },
   "outputs": [
    {
     "data": {
      "text/plain": [
       "{'max_depth': 31, 'n_estimators': 41}"
      ]
     },
     "execution_count": 60,
     "metadata": {},
     "output_type": "execute_result"
    }
   ],
   "source": [
    "grid.best_params_"
   ]
  },
  {
   "cell_type": "markdown",
   "metadata": {
    "id": "J-PBNwSL7kF4"
   },
   "source": [
    "Модель решающее дерево"
   ]
  },
  {
   "cell_type": "code",
   "execution_count": 61,
   "metadata": {
    "id": "HMfoOJdeLVA4"
   },
   "outputs": [],
   "source": [
    "gyperparams_tr = [{'max_depth': range(1,40,10)}]\n",
    "tr = RandomForestRegressor(random_state=12345)"
   ]
  },
  {
   "cell_type": "code",
   "execution_count": 62,
   "metadata": {
    "id": "CjYN1U60Ljzt"
   },
   "outputs": [],
   "source": [
    "grid_tr = GridSearchCV(tr, gyperparams_tr, scoring=make_scorer(smape,greater_is_better=False),cv=3)"
   ]
  },
  {
   "cell_type": "markdown",
   "metadata": {},
   "source": [
    "<div class=\"alert alert-block alert-success\">\n",
    "<b>Успех:</b> Приятно видеть использование GridSearchCV с корректно определенным скорером.\n",
    "</div>"
   ]
  },
  {
   "cell_type": "code",
   "execution_count": 63,
   "metadata": {
    "colab": {
     "base_uri": "https://localhost:8080/"
    },
    "id": "x5hxKqRCLlEY",
    "outputId": "1c91e298-625a-4ac1-e5a6-a5468501eacd"
   },
   "outputs": [
    {
     "name": "stdout",
     "output_type": "stream",
     "text": [
      "CPU times: user 46.8 s, sys: 16 ms, total: 46.8 s\n",
      "Wall time: 47.7 s\n"
     ]
    },
    {
     "data": {
      "text/plain": [
       "GridSearchCV(cv=3, error_score='raise-deprecating',\n",
       "             estimator=RandomForestRegressor(bootstrap=True, criterion='mse',\n",
       "                                             max_depth=None,\n",
       "                                             max_features='auto',\n",
       "                                             max_leaf_nodes=None,\n",
       "                                             min_impurity_decrease=0.0,\n",
       "                                             min_impurity_split=None,\n",
       "                                             min_samples_leaf=1,\n",
       "                                             min_samples_split=2,\n",
       "                                             min_weight_fraction_leaf=0.0,\n",
       "                                             n_estimators='warn', n_jobs=None,\n",
       "                                             oob_score=False,\n",
       "                                             random_state=12345, verbose=0,\n",
       "                                             warm_start=False),\n",
       "             iid='warn', n_jobs=None,\n",
       "             param_grid=[{'max_depth': range(1, 40, 10)}],\n",
       "             pre_dispatch='2*n_jobs', refit=True, return_train_score=False,\n",
       "             scoring=make_scorer(smape, greater_is_better=False), verbose=0)"
      ]
     },
     "execution_count": 63,
     "metadata": {},
     "output_type": "execute_result"
    }
   ],
   "source": [
    "import warnings\n",
    "warnings.simplefilter(action='ignore', category=FutureWarning)\n",
    "%time grid_tr.fit(x_train,y_train)"
   ]
  },
  {
   "cell_type": "code",
   "execution_count": 64,
   "metadata": {
    "colab": {
     "base_uri": "https://localhost:8080/"
    },
    "id": "tqIM651TLqHu",
    "outputId": "29974639-dac5-4329-869e-48278fd245e6"
   },
   "outputs": [
    {
     "data": {
      "text/plain": [
       "5.725438358185699"
      ]
     },
     "execution_count": 64,
     "metadata": {},
     "output_type": "execute_result"
    }
   ],
   "source": [
    "grid_tr.best_score_ *-1"
   ]
  },
  {
   "cell_type": "code",
   "execution_count": 65,
   "metadata": {
    "colab": {
     "base_uri": "https://localhost:8080/"
    },
    "id": "HWlZjcqHNlTw",
    "outputId": "faf6cab1-c4e0-43aa-9309-00cc2b6c0fd9"
   },
   "outputs": [
    {
     "data": {
      "text/plain": [
       "{'max_depth': 31}"
      ]
     },
     "execution_count": 65,
     "metadata": {},
     "output_type": "execute_result"
    }
   ],
   "source": [
    "grid_tr.best_params_"
   ]
  },
  {
   "cell_type": "markdown",
   "metadata": {
    "id": "Knz2M4AP8Doc"
   },
   "source": [
    "Лучше всего показатель оказался у модели решабщего дерева и случайного леса. Несмотря на то что они трицательные.\n",
    "\n",
    "Проверим эти модели с полученными параметрами на тестовой выборке."
   ]
  },
  {
   "cell_type": "markdown",
   "metadata": {},
   "source": [
    "<div class=\"alert alert-block alert-info\">\n",
    "<b>Совет: </b> В sklearn принято, что оценка - это то, что можно максимизировать. SMAPE - функция потерь для минимизации, поэтому мы меняем знак внутри поиска. Получается, что максимизация -Х эквивалентно минимизации самого Х.\n",
    "</div>"
   ]
  },
  {
   "cell_type": "markdown",
   "metadata": {},
   "source": [
    "<div class=\"alert alert-block alert-warning\">\n",
    "<b>Изменения:</b>  \n",
    "    Есля я не правильно понял, есои нет поправь.\n",
    "    В нашей кагорте куратор этот момент пояснял. Я понял так что параметр greater_is_better=False возвращает мне нименьшее значение метрики.А мне остается только домножить итоговую метрику на -1, если она отрицательная. \n",
    "</div>\n"
   ]
  },
  {
   "cell_type": "markdown",
   "metadata": {},
   "source": [
    "<div class=\"alert alert-block alert-success\">\n",
    "<b>Успех (ревью 2):</b> Ты понял правильно.\n",
    "</div>"
   ]
  },
  {
   "cell_type": "markdown",
   "metadata": {
    "id": "pKLatzxPTURe"
   },
   "source": [
    "Случайнй лес"
   ]
  },
  {
   "cell_type": "code",
   "execution_count": 66,
   "metadata": {
    "id": "c9OtEX7uhSRV"
   },
   "outputs": [],
   "source": [
    "model_rf = RandomForestRegressor(n_estimators=41,max_depth=31,random_state=12345)"
   ]
  },
  {
   "cell_type": "code",
   "execution_count": 67,
   "metadata": {
    "colab": {
     "base_uri": "https://localhost:8080/"
    },
    "id": "55y1bbhuhy3x",
    "outputId": "0bd73d2d-4a2b-4015-9c9c-c94b47d76e88"
   },
   "outputs": [
    {
     "data": {
      "text/plain": [
       "RandomForestRegressor(bootstrap=True, criterion='mse', max_depth=31,\n",
       "                      max_features='auto', max_leaf_nodes=None,\n",
       "                      min_impurity_decrease=0.0, min_impurity_split=None,\n",
       "                      min_samples_leaf=1, min_samples_split=2,\n",
       "                      min_weight_fraction_leaf=0.0, n_estimators=41,\n",
       "                      n_jobs=None, oob_score=False, random_state=12345,\n",
       "                      verbose=0, warm_start=False)"
      ]
     },
     "execution_count": 67,
     "metadata": {},
     "output_type": "execute_result"
    }
   ],
   "source": [
    "model_rf.fit(x_train,y_train)"
   ]
  },
  {
   "cell_type": "code",
   "execution_count": 68,
   "metadata": {
    "id": "fdnqS-69ekBQ"
   },
   "outputs": [],
   "source": [
    "predicted_rf = model_rf.predict(x_test)"
   ]
  },
  {
   "cell_type": "code",
   "execution_count": 69,
   "metadata": {
    "colab": {
     "base_uri": "https://localhost:8080/"
    },
    "id": "imNZDmK1jI0z",
    "outputId": "917bce9b-7b66-4100-81cc-df6f0e5bf13c"
   },
   "outputs": [
    {
     "data": {
      "text/plain": [
       "10.142797932618008"
      ]
     },
     "execution_count": 69,
     "metadata": {},
     "output_type": "execute_result"
    }
   ],
   "source": [
    "smape(y_test, predicted_rf)"
   ]
  },
  {
   "cell_type": "markdown",
   "metadata": {
    "id": "_w9zKDGjTg_j"
   },
   "source": [
    "Решающее дерево"
   ]
  },
  {
   "cell_type": "code",
   "execution_count": 70,
   "metadata": {
    "id": "2uzE_rwukXd2"
   },
   "outputs": [],
   "source": [
    "model_tr = DecisionTreeRegressor(max_depth=41, random_state=12345)"
   ]
  },
  {
   "cell_type": "code",
   "execution_count": 71,
   "metadata": {
    "colab": {
     "base_uri": "https://localhost:8080/"
    },
    "id": "utAPQnchTu36",
    "outputId": "b9118fe0-47ba-464a-fa4f-eaccf0940bd0"
   },
   "outputs": [
    {
     "data": {
      "text/plain": [
       "DecisionTreeRegressor(criterion='mse', max_depth=41, max_features=None,\n",
       "                      max_leaf_nodes=None, min_impurity_decrease=0.0,\n",
       "                      min_impurity_split=None, min_samples_leaf=1,\n",
       "                      min_samples_split=2, min_weight_fraction_leaf=0.0,\n",
       "                      presort=False, random_state=12345, splitter='best')"
      ]
     },
     "execution_count": 71,
     "metadata": {},
     "output_type": "execute_result"
    }
   ],
   "source": [
    "model_tr.fit(x_train, y_train)"
   ]
  },
  {
   "cell_type": "code",
   "execution_count": 72,
   "metadata": {
    "id": "SUwyH9p-Tz2D"
   },
   "outputs": [],
   "source": [
    "predicted_tr = model_tr.predict(x_test)"
   ]
  },
  {
   "cell_type": "code",
   "execution_count": 73,
   "metadata": {
    "colab": {
     "base_uri": "https://localhost:8080/"
    },
    "id": "kdY3knqHT8Rn",
    "outputId": "bf09f7f1-6539-4755-fe76-7d0b0a8f03b3"
   },
   "outputs": [
    {
     "data": {
      "text/plain": [
       "16.513851489619498"
      ]
     },
     "execution_count": 73,
     "metadata": {},
     "output_type": "execute_result"
    }
   ],
   "source": [
    "smape(y_test, predicted_tr)"
   ]
  },
  {
   "cell_type": "markdown",
   "metadata": {
    "id": "kHTFdylC9G6S"
   },
   "source": [
    "# Итог\n",
    "Модели обучены, предсказания получены, эффетивность обогощения расчитана расчитана.\n",
    "\n",
    "Полученный набор данных был с множеством неточностей, большим колличеством пропусков на разных этапах процесса очистки. В дальнейшем для улучшения модели необходимо более тчательно подходить к процессу измерения на всех стадиях обработки сырья.\n",
    "Для обучения модели нам пришлось избавится от 15% процентов данных. \n",
    "\n",
    "Тестировались три модели Линейная регрессия, случайный лес и дерево решений.\n",
    "Для моделей решабщее дерево и случайный лес подбор параметров производился с помощью gridsearchCV и кросс-валидации с 3-мя наборами.\n",
    "По итогам была выбраны две лучшие модели Случайный лес и решающее дерево, на тестовой выборке лучший показатель у модели решающее дерево, отклонение 10 %\n",
    "\n",
    "\n",
    "\n"
   ]
  },
  {
   "cell_type": "markdown",
   "metadata": {
    "id": "6xj3qmab_B3l"
   },
   "source": [
    "<div class=\"alert alert-block alert-success\">\n",
    "<b>Успех:</b> Отлично, что ты попробовал несколько разных моделей и в конце проекта подвел итог.\n",
    "</div>"
   ]
  },
  {
   "cell_type": "code",
   "execution_count": null,
   "metadata": {},
   "outputs": [],
   "source": []
  }
 ],
 "metadata": {
  "colab": {
   "collapsed_sections": [],
   "name": "made_project.ipynb",
   "provenance": []
  },
  "kernelspec": {
   "display_name": "Python 3",
   "language": "python",
   "name": "python3"
  },
  "language_info": {
   "codemirror_mode": {
    "name": "ipython",
    "version": 3
   },
   "file_extension": ".py",
   "mimetype": "text/x-python",
   "name": "python",
   "nbconvert_exporter": "python",
   "pygments_lexer": "ipython3",
   "version": "3.7.8"
  },
  "toc": {
   "base_numbering": 1,
   "nav_menu": {},
   "number_sections": true,
   "sideBar": true,
   "skip_h1_title": false,
   "title_cell": "Table of Contents",
   "title_sidebar": "Contents",
   "toc_cell": false,
   "toc_position": {},
   "toc_section_display": true,
   "toc_window_display": false
  }
 },
 "nbformat": 4,
 "nbformat_minor": 1
}
