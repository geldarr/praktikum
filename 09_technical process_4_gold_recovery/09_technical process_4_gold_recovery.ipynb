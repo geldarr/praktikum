{
  "nbformat": 4,
  "nbformat_minor": 0,
  "metadata": {
    "colab": {
      "name": "made_project.ipynb",
      "provenance": [],
      "collapsed_sections": []
    },
    "kernelspec": {
      "display_name": "Python 3",
      "language": "python",
      "name": "python3"
    },
    "language_info": {
      "codemirror_mode": {
        "name": "ipython",
        "version": 3
      },
      "file_extension": ".py",
      "mimetype": "text/x-python",
      "name": "python",
      "nbconvert_exporter": "python",
      "pygments_lexer": "ipython3",
      "version": "3.7.8"
    },
    "toc": {
      "base_numbering": 1,
      "nav_menu": {},
      "number_sections": true,
      "sideBar": true,
      "skip_h1_title": false,
      "title_cell": "Table of Contents",
      "title_sidebar": "Contents",
      "toc_cell": false,
      "toc_position": {},
      "toc_section_display": true,
      "toc_window_display": false
    }
  },
  "cells": [
    {
      "cell_type": "markdown",
      "metadata": {
        "id": "zUwyam31vFIs"
      },
      "source": [
        "# Импорт библиотек"
      ]
    },
    {
      "cell_type": "markdown",
      "metadata": {
        "id": "LyUM1Hz25k7K"
      },
      "source": [
        "Описание проекта\n",
        "Подготовьте прототип модели машинного обучения для «Цифры». Компания разрабатывает решения для эффективной работы промышленных предприятий.\n",
        "\n",
        "Модель должна предсказать коэффициент восстановления золота из золотосодержащей руды. В вашем распоряжении данные с параметрами добычи и очистки.\n",
        "\n",
        "\n",
        "Модель поможет оптимизировать производство, чтобы не запускать предприятие с убыточными характеристиками.\n",
        "\n",
        "Вам нужно:\n",
        "\n",
        "Подготовить данные;\n",
        "Провести исследовательский анализ данных;\n",
        "Построить и обучить модель.\n",
        "Чтобы выполнить проект, обращайтесь к библиотекам pandas, matplotlib и sklearn. Вам поможет их документация."
      ]
    },
    {
      "cell_type": "markdown",
      "metadata": {
        "id": "-bRImaTr9YkL"
      },
      "source": [
        "Флотация (обогощение) золосожержащей руды  => Черновой концентрат + Отвальные хвосты\n",
        "\n",
        "Очистка  чернового концентрата => финальный концентрат + отвальные хвосты.\n"
      ]
    },
    {
      "cell_type": "code",
      "metadata": {
        "id": "gpsODALaFun2"
      },
      "source": [
        "import pandas as pd\n",
        "import numpy as np\n",
        "from sklearn.metrics import mean_absolute_error\n",
        "import matplotlib.pyplot as plt\n",
        "import seaborn as sns\n",
        "from scipy.stats import norm\n",
        "from sklearn.pipeline import Pipeline\n",
        "from sklearn.linear_model import LinearRegression\n",
        "from sklearn.preprocessing import StandardScaler\n",
        "from sklearn.utils import shuffle\n",
        "from sklearn.model_selection import cross_validate\n",
        "from sklearn.model_selection import cross_val_score\n",
        "from sklearn.multioutput import MultiOutputRegressor\n",
        "from sklearn.ensemble import RandomForestRegressor\n",
        "from sklearn.model_selection import GridSearchCV\n",
        "from sklearn.metrics import r2_score\n",
        "from sklearn.metrics import make_scorer\n",
        "from sklearn.tree import DecisionTreeRegressor"
      ],
      "execution_count": 5,
      "outputs": []
    },
    {
      "cell_type": "markdown",
      "metadata": {
        "id": "uahgTi9ju-28"
      },
      "source": [
        "# Импорт данных"
      ]
    },
    {
      "cell_type": "code",
      "metadata": {
        "colab": {
          "base_uri": "https://localhost:8080/"
        },
        "id": "8YFONso4AkQ5",
        "outputId": "db89df96-69f8-459e-a986-eae77cbb03b6"
      },
      "source": [
        "from google.colab import drive\n",
        "drive.mount('/content/drive')"
      ],
      "execution_count": 6,
      "outputs": [
        {
          "output_type": "stream",
          "text": [
            "Drive already mounted at /content/drive; to attempt to forcibly remount, call drive.mount(\"/content/drive\", force_remount=True).\n"
          ],
          "name": "stdout"
        }
      ]
    },
    {
      "cell_type": "code",
      "metadata": {
        "id": "gXa7CNGVF84H"
      },
      "source": [
        "data_full = pd.read_csv('/content/drive/MyDrive/Colab Notebooks/Shad/gold_recovery/gold_recovery_full.csv')\n",
        "data_train = pd.read_csv('/content/drive/MyDrive/Colab Notebooks/Shad/gold_recovery/gold_recovery_train.csv')\n",
        "data_test = pd.read_csv('/content/drive/MyDrive/Colab Notebooks/Shad/gold_recovery/gold_recovery_test.csv')"
      ],
      "execution_count": 7,
      "outputs": []
    },
    {
      "cell_type": "markdown",
      "metadata": {
        "id": "nV_z9MU4N-6p"
      },
      "source": [
        "# Анализ данных"
      ]
    },
    {
      "cell_type": "markdown",
      "metadata": {
        "id": "MY-dX3N2aQOA"
      },
      "source": [
        "\n",
        "Цеоевые признаки:\n",
        "\n",
        "\n",
        "*   **final.output.recovery**\n",
        "*   **rougher.output.recovery**\n",
        "\n",
        "Предсказав данные признаки мы сможем расщитать целевую эффективность обогощения.\n",
        "\n",
        "---\n",
        "Признаки:\n",
        "\n",
        "Для обучения модели нам необходимы признаки, параметры технического процесса, которые заранее известны. В нашем случае такие признаки содержат следующие значения:\n",
        "\n",
        "*   input - изначальные параметры сырья\n",
        "*   state - параметры, характеризующие текущее состояние этапа\n",
        "\n",
        "\n",
        "\n",
        "\n"
      ]
    },
    {
      "cell_type": "markdown",
      "metadata": {
        "id": "5yo-XWynm8QH"
      },
      "source": [
        "# Проверка на корректность формулы вычисления эффективности обогащения"
      ]
    },
    {
      "cell_type": "markdown",
      "metadata": {
        "id": "Vo4LyuMd-E4W"
      },
      "source": [
        "Проверка на корректность формулы вычисления эффективности обогащения. \n",
        "Обогощение исходного сырья (золотосодержащей руды) происходит на стадии флотации. В предоставленных данных результат флотации представлен в признаках:\n",
        "\n",
        "\n",
        "1.   C = rougher.output.concentrate_au  - доля золота в концентрате после флотации \n",
        "2.   F = rougher.input.feed_au - Доля золота в сырье до флотации \n",
        "3.   T =  rougher.output.tail_au - Доля золота в отвальных хвостах после флотации.\n",
        "\n",
        "Расчитывать эффективность обогощения будем по следующей формуле:\n",
        "\n",
        " \n",
        "\n",
        "```\n",
        "# Recovery = ((C * (F - T))/(F * (C - T))\n",
        "```\n",
        "Для расчета создадим функцию \"recovery\".\n",
        "\n"
      ]
    },
    {
      "cell_type": "code",
      "metadata": {
        "id": "C1Ge1iSn-DpS"
      },
      "source": [
        "def recovery(c,f,t):\n",
        "  recovery = ((c * (f - t))/(f * (c - t)))*100\n",
        "  return recovery"
      ],
      "execution_count": 8,
      "outputs": []
    },
    {
      "cell_type": "code",
      "metadata": {
        "id": "6pgr6ZUupZxz"
      },
      "source": [
        "# Удалим нулевые значения из целевых признаков.\n",
        "#data_train['rougher.output.recovery'].dropna()\n",
        "#data_train['final.output.recovery'].dropna()"
      ],
      "execution_count": 9,
      "outputs": []
    },
    {
      "cell_type": "code",
      "metadata": {
        "id": "azbVvm4gAwg2"
      },
      "source": [
        "data_train['rougher.calculated.recovery'] = recovery(data_train['rougher.output.concentrate_au'],\n",
        "                                                     data_train['rougher.input.feed_au'],\n",
        "                                                     data_train['rougher.output.tail_au'])"
      ],
      "execution_count": 10,
      "outputs": []
    },
    {
      "cell_type": "markdown",
      "metadata": {
        "id": "-SlDLdMyBtuN"
      },
      "source": [
        "Вычислим MAE между полученными данными эффективности и имеющимися. "
      ]
    },
    {
      "cell_type": "code",
      "metadata": {
        "colab": {
          "base_uri": "https://localhost:8080/"
        },
        "id": "DcEm0i7dpsUC",
        "outputId": "75aa834f-c0cd-430b-f2d2-41c0c99b0137"
      },
      "source": [
        "data_train['rougher.calculated.recovery'].count()"
      ],
      "execution_count": 11,
      "outputs": [
        {
          "output_type": "execute_result",
          "data": {
            "text/plain": [
              "14577"
            ]
          },
          "metadata": {
            "tags": []
          },
          "execution_count": 11
        }
      ]
    },
    {
      "cell_type": "code",
      "metadata": {
        "id": "uI5COU3GFWmj"
      },
      "source": [
        "# для проверки отберем только актульные данные \n",
        "output_recovery = data_train.loc[data_train['rougher.output.recovery'].notna()]['rougher.output.recovery']"
      ],
      "execution_count": 12,
      "outputs": []
    },
    {
      "cell_type": "code",
      "metadata": {
        "id": "aGtiZtvKFfpW"
      },
      "source": [
        "output_calculate = data_train.loc[output_recovery.index]['rougher.calculated.recovery']"
      ],
      "execution_count": 13,
      "outputs": []
    },
    {
      "cell_type": "code",
      "metadata": {
        "colab": {
          "base_uri": "https://localhost:8080/"
        },
        "id": "B_Hqj5_EBTTJ",
        "outputId": "cda6547f-fd94-4f3c-b150-84f1f7ee57fc"
      },
      "source": [
        "mean_absolute_error(output_recovery,output_recovery)"
      ],
      "execution_count": 14,
      "outputs": [
        {
          "output_type": "execute_result",
          "data": {
            "text/plain": [
              "0.0"
            ]
          },
          "metadata": {
            "tags": []
          },
          "execution_count": 14
        }
      ]
    },
    {
      "cell_type": "markdown",
      "metadata": {
        "id": "qg8tPZtudxYX"
      },
      "source": [
        "Расчет корректен"
      ]
    },
    {
      "cell_type": "markdown",
      "metadata": {
        "id": "9ozExvcL04d1"
      },
      "source": [
        "Анализ тестовой выборки, анализ признаков, поиск различий между обучающей выборкой.\n"
      ]
    },
    {
      "cell_type": "code",
      "metadata": {
        "colab": {
          "base_uri": "https://localhost:8080/"
        },
        "id": "HdNrt2vafH_0",
        "outputId": "25f98126-cc08-4114-df0f-4492d81e30fb"
      },
      "source": [
        "data_test.info()"
      ],
      "execution_count": 15,
      "outputs": [
        {
          "output_type": "stream",
          "text": [
            "<class 'pandas.core.frame.DataFrame'>\n",
            "RangeIndex: 5856 entries, 0 to 5855\n",
            "Data columns (total 53 columns):\n",
            " #   Column                                      Non-Null Count  Dtype  \n",
            "---  ------                                      --------------  -----  \n",
            " 0   date                                        5856 non-null   object \n",
            " 1   primary_cleaner.input.sulfate               5554 non-null   float64\n",
            " 2   primary_cleaner.input.depressant            5572 non-null   float64\n",
            " 3   primary_cleaner.input.feed_size             5856 non-null   float64\n",
            " 4   primary_cleaner.input.xanthate              5690 non-null   float64\n",
            " 5   primary_cleaner.state.floatbank8_a_air      5840 non-null   float64\n",
            " 6   primary_cleaner.state.floatbank8_a_level    5840 non-null   float64\n",
            " 7   primary_cleaner.state.floatbank8_b_air      5840 non-null   float64\n",
            " 8   primary_cleaner.state.floatbank8_b_level    5840 non-null   float64\n",
            " 9   primary_cleaner.state.floatbank8_c_air      5840 non-null   float64\n",
            " 10  primary_cleaner.state.floatbank8_c_level    5840 non-null   float64\n",
            " 11  primary_cleaner.state.floatbank8_d_air      5840 non-null   float64\n",
            " 12  primary_cleaner.state.floatbank8_d_level    5840 non-null   float64\n",
            " 13  rougher.input.feed_ag                       5840 non-null   float64\n",
            " 14  rougher.input.feed_pb                       5840 non-null   float64\n",
            " 15  rougher.input.feed_rate                     5816 non-null   float64\n",
            " 16  rougher.input.feed_size                     5834 non-null   float64\n",
            " 17  rougher.input.feed_sol                      5789 non-null   float64\n",
            " 18  rougher.input.feed_au                       5840 non-null   float64\n",
            " 19  rougher.input.floatbank10_sulfate           5599 non-null   float64\n",
            " 20  rougher.input.floatbank10_xanthate          5733 non-null   float64\n",
            " 21  rougher.input.floatbank11_sulfate           5801 non-null   float64\n",
            " 22  rougher.input.floatbank11_xanthate          5503 non-null   float64\n",
            " 23  rougher.state.floatbank10_a_air             5839 non-null   float64\n",
            " 24  rougher.state.floatbank10_a_level           5840 non-null   float64\n",
            " 25  rougher.state.floatbank10_b_air             5839 non-null   float64\n",
            " 26  rougher.state.floatbank10_b_level           5840 non-null   float64\n",
            " 27  rougher.state.floatbank10_c_air             5839 non-null   float64\n",
            " 28  rougher.state.floatbank10_c_level           5840 non-null   float64\n",
            " 29  rougher.state.floatbank10_d_air             5839 non-null   float64\n",
            " 30  rougher.state.floatbank10_d_level           5840 non-null   float64\n",
            " 31  rougher.state.floatbank10_e_air             5839 non-null   float64\n",
            " 32  rougher.state.floatbank10_e_level           5840 non-null   float64\n",
            " 33  rougher.state.floatbank10_f_air             5839 non-null   float64\n",
            " 34  rougher.state.floatbank10_f_level           5840 non-null   float64\n",
            " 35  secondary_cleaner.state.floatbank2_a_air    5836 non-null   float64\n",
            " 36  secondary_cleaner.state.floatbank2_a_level  5840 non-null   float64\n",
            " 37  secondary_cleaner.state.floatbank2_b_air    5833 non-null   float64\n",
            " 38  secondary_cleaner.state.floatbank2_b_level  5840 non-null   float64\n",
            " 39  secondary_cleaner.state.floatbank3_a_air    5822 non-null   float64\n",
            " 40  secondary_cleaner.state.floatbank3_a_level  5840 non-null   float64\n",
            " 41  secondary_cleaner.state.floatbank3_b_air    5840 non-null   float64\n",
            " 42  secondary_cleaner.state.floatbank3_b_level  5840 non-null   float64\n",
            " 43  secondary_cleaner.state.floatbank4_a_air    5840 non-null   float64\n",
            " 44  secondary_cleaner.state.floatbank4_a_level  5840 non-null   float64\n",
            " 45  secondary_cleaner.state.floatbank4_b_air    5840 non-null   float64\n",
            " 46  secondary_cleaner.state.floatbank4_b_level  5840 non-null   float64\n",
            " 47  secondary_cleaner.state.floatbank5_a_air    5840 non-null   float64\n",
            " 48  secondary_cleaner.state.floatbank5_a_level  5840 non-null   float64\n",
            " 49  secondary_cleaner.state.floatbank5_b_air    5840 non-null   float64\n",
            " 50  secondary_cleaner.state.floatbank5_b_level  5840 non-null   float64\n",
            " 51  secondary_cleaner.state.floatbank6_a_air    5840 non-null   float64\n",
            " 52  secondary_cleaner.state.floatbank6_a_level  5840 non-null   float64\n",
            "dtypes: float64(52), object(1)\n",
            "memory usage: 2.4+ MB\n"
          ],
          "name": "stdout"
        }
      ]
    },
    {
      "cell_type": "code",
      "metadata": {
        "id": "1m2gWPELwFgm"
      },
      "source": [
        "differences = list(set(data_train.columns) - set(data_test.columns))"
      ],
      "execution_count": 16,
      "outputs": []
    },
    {
      "cell_type": "code",
      "metadata": {
        "colab": {
          "base_uri": "https://localhost:8080/"
        },
        "id": "gj-TmFyCTUSI",
        "outputId": "ee93d679-2998-47ba-e3cc-1b6a21bf8a22"
      },
      "source": [
        "len(differences)"
      ],
      "execution_count": 17,
      "outputs": [
        {
          "output_type": "execute_result",
          "data": {
            "text/plain": [
              "35"
            ]
          },
          "metadata": {
            "tags": []
          },
          "execution_count": 17
        }
      ]
    },
    {
      "cell_type": "code",
      "metadata": {
        "colab": {
          "base_uri": "https://localhost:8080/"
        },
        "id": "UwtglNfXkj3p",
        "outputId": "6461d97e-d682-45a6-a2d8-41966dd4402e"
      },
      "source": [
        "differences"
      ],
      "execution_count": 18,
      "outputs": [
        {
          "output_type": "execute_result",
          "data": {
            "text/plain": [
              "['rougher.output.concentrate_au',\n",
              " 'final.output.tail_au',\n",
              " 'final.output.concentrate_ag',\n",
              " 'rougher.output.concentrate_ag',\n",
              " 'final.output.recovery',\n",
              " 'primary_cleaner.output.concentrate_sol',\n",
              " 'rougher.output.concentrate_sol',\n",
              " 'rougher.output.tail_sol',\n",
              " 'secondary_cleaner.output.tail_ag',\n",
              " 'primary_cleaner.output.tail_au',\n",
              " 'primary_cleaner.output.concentrate_ag',\n",
              " 'final.output.tail_pb',\n",
              " 'rougher.output.recovery',\n",
              " 'secondary_cleaner.output.tail_sol',\n",
              " 'rougher.calculation.floatbank10_sulfate_to_au_feed',\n",
              " 'rougher.output.tail_pb',\n",
              " 'rougher.calculation.sulfate_to_au_concentrate',\n",
              " 'primary_cleaner.output.tail_ag',\n",
              " 'rougher.output.tail_au',\n",
              " 'final.output.concentrate_pb',\n",
              " 'secondary_cleaner.output.tail_au',\n",
              " 'primary_cleaner.output.concentrate_pb',\n",
              " 'rougher.calculated.recovery',\n",
              " 'final.output.concentrate_sol',\n",
              " 'rougher.output.concentrate_pb',\n",
              " 'primary_cleaner.output.tail_pb',\n",
              " 'rougher.calculation.au_pb_ratio',\n",
              " 'final.output.tail_sol',\n",
              " 'primary_cleaner.output.tail_sol',\n",
              " 'rougher.output.tail_ag',\n",
              " 'primary_cleaner.output.concentrate_au',\n",
              " 'secondary_cleaner.output.tail_pb',\n",
              " 'rougher.calculation.floatbank11_sulfate_to_au_feed',\n",
              " 'final.output.tail_ag',\n",
              " 'final.output.concentrate_au']"
            ]
          },
          "metadata": {
            "tags": []
          },
          "execution_count": 18
        }
      ]
    },
    {
      "cell_type": "markdown",
      "metadata": {
        "id": "x15VAnW8x-TG"
      },
      "source": [
        "Заменим индексы нанаших датасетах, согласно условиям задачи данные индексируются по дате, ее и установим в качестве индекса"
      ]
    },
    {
      "cell_type": "code",
      "metadata": {
        "id": "TaQyEMdNuqrJ"
      },
      "source": [
        "data_test = data_test.set_index('date')\n",
        "data_full = data_full.set_index('date')\n",
        "data_train = data_train.set_index('date')"
      ],
      "execution_count": 19,
      "outputs": []
    },
    {
      "cell_type": "markdown",
      "metadata": {
        "id": "EvforqynyJ20"
      },
      "source": [
        "Добавим в тестовую выборку целевые признаки."
      ]
    },
    {
      "cell_type": "code",
      "metadata": {
        "id": "gyPnhqblvMRc"
      },
      "source": [
        "data_test[['rougher.output.recovery','final.output.recovery']] = data_full.loc[data_test.index][['rougher.output.recovery','final.output.recovery']]"
      ],
      "execution_count": 20,
      "outputs": []
    },
    {
      "cell_type": "code",
      "metadata": {
        "colab": {
          "base_uri": "https://localhost:8080/"
        },
        "id": "-cxEuv_Uq44I",
        "outputId": "dca0894a-0980-4153-8118-b2d49f194005"
      },
      "source": [
        "data_test.info()"
      ],
      "execution_count": 21,
      "outputs": [
        {
          "output_type": "stream",
          "text": [
            "<class 'pandas.core.frame.DataFrame'>\n",
            "Index: 5856 entries, 2016-09-01 00:59:59 to 2017-12-31 23:59:59\n",
            "Data columns (total 54 columns):\n",
            " #   Column                                      Non-Null Count  Dtype  \n",
            "---  ------                                      --------------  -----  \n",
            " 0   primary_cleaner.input.sulfate               5554 non-null   float64\n",
            " 1   primary_cleaner.input.depressant            5572 non-null   float64\n",
            " 2   primary_cleaner.input.feed_size             5856 non-null   float64\n",
            " 3   primary_cleaner.input.xanthate              5690 non-null   float64\n",
            " 4   primary_cleaner.state.floatbank8_a_air      5840 non-null   float64\n",
            " 5   primary_cleaner.state.floatbank8_a_level    5840 non-null   float64\n",
            " 6   primary_cleaner.state.floatbank8_b_air      5840 non-null   float64\n",
            " 7   primary_cleaner.state.floatbank8_b_level    5840 non-null   float64\n",
            " 8   primary_cleaner.state.floatbank8_c_air      5840 non-null   float64\n",
            " 9   primary_cleaner.state.floatbank8_c_level    5840 non-null   float64\n",
            " 10  primary_cleaner.state.floatbank8_d_air      5840 non-null   float64\n",
            " 11  primary_cleaner.state.floatbank8_d_level    5840 non-null   float64\n",
            " 12  rougher.input.feed_ag                       5840 non-null   float64\n",
            " 13  rougher.input.feed_pb                       5840 non-null   float64\n",
            " 14  rougher.input.feed_rate                     5816 non-null   float64\n",
            " 15  rougher.input.feed_size                     5834 non-null   float64\n",
            " 16  rougher.input.feed_sol                      5789 non-null   float64\n",
            " 17  rougher.input.feed_au                       5840 non-null   float64\n",
            " 18  rougher.input.floatbank10_sulfate           5599 non-null   float64\n",
            " 19  rougher.input.floatbank10_xanthate          5733 non-null   float64\n",
            " 20  rougher.input.floatbank11_sulfate           5801 non-null   float64\n",
            " 21  rougher.input.floatbank11_xanthate          5503 non-null   float64\n",
            " 22  rougher.state.floatbank10_a_air             5839 non-null   float64\n",
            " 23  rougher.state.floatbank10_a_level           5840 non-null   float64\n",
            " 24  rougher.state.floatbank10_b_air             5839 non-null   float64\n",
            " 25  rougher.state.floatbank10_b_level           5840 non-null   float64\n",
            " 26  rougher.state.floatbank10_c_air             5839 non-null   float64\n",
            " 27  rougher.state.floatbank10_c_level           5840 non-null   float64\n",
            " 28  rougher.state.floatbank10_d_air             5839 non-null   float64\n",
            " 29  rougher.state.floatbank10_d_level           5840 non-null   float64\n",
            " 30  rougher.state.floatbank10_e_air             5839 non-null   float64\n",
            " 31  rougher.state.floatbank10_e_level           5840 non-null   float64\n",
            " 32  rougher.state.floatbank10_f_air             5839 non-null   float64\n",
            " 33  rougher.state.floatbank10_f_level           5840 non-null   float64\n",
            " 34  secondary_cleaner.state.floatbank2_a_air    5836 non-null   float64\n",
            " 35  secondary_cleaner.state.floatbank2_a_level  5840 non-null   float64\n",
            " 36  secondary_cleaner.state.floatbank2_b_air    5833 non-null   float64\n",
            " 37  secondary_cleaner.state.floatbank2_b_level  5840 non-null   float64\n",
            " 38  secondary_cleaner.state.floatbank3_a_air    5822 non-null   float64\n",
            " 39  secondary_cleaner.state.floatbank3_a_level  5840 non-null   float64\n",
            " 40  secondary_cleaner.state.floatbank3_b_air    5840 non-null   float64\n",
            " 41  secondary_cleaner.state.floatbank3_b_level  5840 non-null   float64\n",
            " 42  secondary_cleaner.state.floatbank4_a_air    5840 non-null   float64\n",
            " 43  secondary_cleaner.state.floatbank4_a_level  5840 non-null   float64\n",
            " 44  secondary_cleaner.state.floatbank4_b_air    5840 non-null   float64\n",
            " 45  secondary_cleaner.state.floatbank4_b_level  5840 non-null   float64\n",
            " 46  secondary_cleaner.state.floatbank5_a_air    5840 non-null   float64\n",
            " 47  secondary_cleaner.state.floatbank5_a_level  5840 non-null   float64\n",
            " 48  secondary_cleaner.state.floatbank5_b_air    5840 non-null   float64\n",
            " 49  secondary_cleaner.state.floatbank5_b_level  5840 non-null   float64\n",
            " 50  secondary_cleaner.state.floatbank6_a_air    5840 non-null   float64\n",
            " 51  secondary_cleaner.state.floatbank6_a_level  5840 non-null   float64\n",
            " 52  rougher.output.recovery                     5310 non-null   float64\n",
            " 53  final.output.recovery                       5414 non-null   float64\n",
            "dtypes: float64(54)\n",
            "memory usage: 2.5+ MB\n"
          ],
          "name": "stdout"
        }
      ]
    },
    {
      "cell_type": "markdown",
      "metadata": {
        "id": "607F_bZMr7w8"
      },
      "source": [
        "Тестовая выборка содержит признаки, которые известны еще до запуска процесса, что вполне подходит для тестирования и обучения модели. \n",
        "Аналогичные признаки будем использовать и в обучающем наборе данных. "
      ]
    },
    {
      "cell_type": "markdown",
      "metadata": {
        "id": "W_aAzfk5k-jT"
      },
      "source": [
        "На этапе проверки расчета коофицента обогощения, были ошибки, которые указывали на наличие пустых признаков в данных, проверим и посчитаем долю пропусков."
      ]
    },
    {
      "cell_type": "code",
      "metadata": {
        "colab": {
          "base_uri": "https://localhost:8080/"
        },
        "id": "ktXMcCzaTeFY",
        "outputId": "351c1538-152d-4d65-e052-26144d85d673"
      },
      "source": [
        "# проверка на пустые значения\n",
        "data_train.isna().mean().nlargest(15)"
      ],
      "execution_count": 22,
      "outputs": [
        {
          "output_type": "execute_result",
          "data": {
            "text/plain": [
              "rougher.output.recovery                   0.152610\n",
              "rougher.calculated.recovery               0.135409\n",
              "rougher.output.tail_ag                    0.133452\n",
              "rougher.output.tail_sol                   0.133393\n",
              "rougher.output.tail_au                    0.133393\n",
              "secondary_cleaner.output.tail_sol         0.117794\n",
              "rougher.input.floatbank11_xanthate        0.112930\n",
              "final.output.recovery                     0.090214\n",
              "primary_cleaner.input.sulfate             0.077521\n",
              "primary_cleaner.input.depressant          0.074852\n",
              "rougher.calculation.au_pb_ratio           0.073665\n",
              "rougher.input.floatbank10_sulfate         0.061922\n",
              "primary_cleaner.input.xanthate            0.058422\n",
              "primary_cleaner.output.concentrate_sol    0.037722\n",
              "rougher.input.floatbank11_sulfate         0.036951\n",
              "dtype: float64"
            ]
          },
          "metadata": {
            "tags": []
          },
          "execution_count": 22
        }
      ]
    },
    {
      "cell_type": "code",
      "metadata": {
        "colab": {
          "base_uri": "https://localhost:8080/"
        },
        "id": "v2n0IRBMk79p",
        "outputId": "ab576103-d247-4b30-8f79-4b5e013c536a"
      },
      "source": [
        "# проверка на пустые значения\n",
        "data_test.isna().mean().nlargest(15)"
      ],
      "execution_count": 23,
      "outputs": [
        {
          "output_type": "execute_result",
          "data": {
            "text/plain": [
              "rougher.output.recovery                     0.093238\n",
              "final.output.recovery                       0.075478\n",
              "rougher.input.floatbank11_xanthate          0.060280\n",
              "primary_cleaner.input.sulfate               0.051571\n",
              "primary_cleaner.input.depressant            0.048497\n",
              "rougher.input.floatbank10_sulfate           0.043887\n",
              "primary_cleaner.input.xanthate              0.028347\n",
              "rougher.input.floatbank10_xanthate          0.021004\n",
              "rougher.input.feed_sol                      0.011441\n",
              "rougher.input.floatbank11_sulfate           0.009392\n",
              "rougher.input.feed_rate                     0.006831\n",
              "secondary_cleaner.state.floatbank3_a_air    0.005806\n",
              "secondary_cleaner.state.floatbank2_b_air    0.003928\n",
              "rougher.input.feed_size                     0.003757\n",
              "secondary_cleaner.state.floatbank2_a_air    0.003415\n",
              "dtype: float64"
            ]
          },
          "metadata": {
            "tags": []
          },
          "execution_count": 23
        }
      ]
    },
    {
      "cell_type": "code",
      "metadata": {
        "colab": {
          "base_uri": "https://localhost:8080/"
        },
        "id": "Jj-Ip1POOPqb",
        "outputId": "19cfbf53-cb22-4948-b143-cbfcf42fcd83"
      },
      "source": [
        "# проверка на пустые значения\n",
        "data_full.isna().mean().nlargest(15)"
      ],
      "execution_count": 24,
      "outputs": [
        {
          "output_type": "execute_result",
          "data": {
            "text/plain": [
              "rougher.output.recovery                   0.137304\n",
              "rougher.output.tail_ag                    0.120488\n",
              "rougher.output.tail_sol                   0.120444\n",
              "rougher.output.tail_au                    0.120444\n",
              "rougher.input.floatbank11_xanthate        0.099357\n",
              "secondary_cleaner.output.tail_sol         0.097508\n",
              "final.output.recovery                     0.086415\n",
              "rougher.calculation.au_pb_ratio           0.071624\n",
              "primary_cleaner.input.sulfate             0.070831\n",
              "primary_cleaner.input.depressant          0.068058\n",
              "rougher.input.floatbank10_sulfate         0.057272\n",
              "primary_cleaner.input.xanthate            0.050669\n",
              "primary_cleaner.output.concentrate_sol    0.035129\n",
              "rougher.input.floatbank11_sulfate         0.029847\n",
              "rougher.state.floatbank10_e_air           0.027294\n",
              "dtype: float64"
            ]
          },
          "metadata": {
            "tags": []
          },
          "execution_count": 24
        }
      ]
    },
    {
      "cell_type": "code",
      "metadata": {
        "colab": {
          "base_uri": "https://localhost:8080/"
        },
        "id": "p_zLDZCQmBTr",
        "outputId": "76bf4460-e634-4699-8aa2-7168f6559d46"
      },
      "source": [
        "# проверка на дубликаты\n",
        "data_train.duplicated().mean()"
      ],
      "execution_count": 25,
      "outputs": [
        {
          "output_type": "execute_result",
          "data": {
            "text/plain": [
              "0.0009489916963226571"
            ]
          },
          "metadata": {
            "tags": []
          },
          "execution_count": 25
        }
      ]
    },
    {
      "cell_type": "code",
      "metadata": {
        "id": "PxBAsdQ0mfS0"
      },
      "source": [
        "# проверка на дубликаты\n",
        "data_test.drop_duplicates(inplace=True)"
      ],
      "execution_count": 26,
      "outputs": []
    },
    {
      "cell_type": "code",
      "metadata": {
        "colab": {
          "base_uri": "https://localhost:8080/"
        },
        "id": "TOv_-aiymgZ2",
        "outputId": "d9b98b86-5982-4a5f-dc4c-2468578c8312"
      },
      "source": [
        "# проверка на дубликаты\n",
        "data_full.duplicated().mean()"
      ],
      "execution_count": 27,
      "outputs": [
        {
          "output_type": "execute_result",
          "data": {
            "text/plain": [
              "0.0009684803662616658"
            ]
          },
          "metadata": {
            "tags": []
          },
          "execution_count": 27
        }
      ]
    },
    {
      "cell_type": "markdown",
      "metadata": {
        "id": "7FLrAsGzYaO8"
      },
      "source": [
        "Заполним NaN методом линейной интерполяции"
      ]
    },
    {
      "cell_type": "code",
      "metadata": {
        "id": "ljzK7ksYnRQm"
      },
      "source": [
        "#data_train=data_train.interpolate(method='linear')"
      ],
      "execution_count": 29,
      "outputs": []
    },
    {
      "cell_type": "code",
      "metadata": {
        "id": "U_XzP27mhv2I",
        "outputId": "af3e109d-6a49-49fc-ab38-0f6c7ecdaa11",
        "colab": {
          "base_uri": "https://localhost:8080/"
        }
      },
      "source": [
        "data_train.info()"
      ],
      "execution_count": 35,
      "outputs": [
        {
          "output_type": "stream",
          "text": [
            "<class 'pandas.core.frame.DataFrame'>\n",
            "Index: 16860 entries, 2016-01-15 00:00:00 to 2018-08-18 10:59:59\n",
            "Data columns (total 87 columns):\n",
            " #   Column                                              Non-Null Count  Dtype  \n",
            "---  ------                                              --------------  -----  \n",
            " 0   final.output.concentrate_ag                         16788 non-null  float64\n",
            " 1   final.output.concentrate_pb                         16788 non-null  float64\n",
            " 2   final.output.concentrate_sol                        16490 non-null  float64\n",
            " 3   final.output.concentrate_au                         16789 non-null  float64\n",
            " 4   final.output.recovery                               15339 non-null  float64\n",
            " 5   final.output.tail_ag                                16794 non-null  float64\n",
            " 6   final.output.tail_pb                                16677 non-null  float64\n",
            " 7   final.output.tail_sol                               16715 non-null  float64\n",
            " 8   final.output.tail_au                                16794 non-null  float64\n",
            " 9   primary_cleaner.input.sulfate                       15553 non-null  float64\n",
            " 10  primary_cleaner.input.depressant                    15598 non-null  float64\n",
            " 11  primary_cleaner.input.feed_size                     16860 non-null  float64\n",
            " 12  primary_cleaner.input.xanthate                      15875 non-null  float64\n",
            " 13  primary_cleaner.output.concentrate_ag               16778 non-null  float64\n",
            " 14  primary_cleaner.output.concentrate_pb               16502 non-null  float64\n",
            " 15  primary_cleaner.output.concentrate_sol              16224 non-null  float64\n",
            " 16  primary_cleaner.output.concentrate_au               16778 non-null  float64\n",
            " 17  primary_cleaner.output.tail_ag                      16777 non-null  float64\n",
            " 18  primary_cleaner.output.tail_pb                      16761 non-null  float64\n",
            " 19  primary_cleaner.output.tail_sol                     16579 non-null  float64\n",
            " 20  primary_cleaner.output.tail_au                      16777 non-null  float64\n",
            " 21  primary_cleaner.state.floatbank8_a_air              16820 non-null  float64\n",
            " 22  primary_cleaner.state.floatbank8_a_level            16827 non-null  float64\n",
            " 23  primary_cleaner.state.floatbank8_b_air              16820 non-null  float64\n",
            " 24  primary_cleaner.state.floatbank8_b_level            16833 non-null  float64\n",
            " 25  primary_cleaner.state.floatbank8_c_air              16822 non-null  float64\n",
            " 26  primary_cleaner.state.floatbank8_c_level            16833 non-null  float64\n",
            " 27  primary_cleaner.state.floatbank8_d_air              16821 non-null  float64\n",
            " 28  primary_cleaner.state.floatbank8_d_level            16833 non-null  float64\n",
            " 29  rougher.calculation.sulfate_to_au_concentrate       16833 non-null  float64\n",
            " 30  rougher.calculation.floatbank10_sulfate_to_au_feed  16833 non-null  float64\n",
            " 31  rougher.calculation.floatbank11_sulfate_to_au_feed  16833 non-null  float64\n",
            " 32  rougher.calculation.au_pb_ratio                     15618 non-null  float64\n",
            " 33  rougher.input.feed_ag                               16778 non-null  float64\n",
            " 34  rougher.input.feed_pb                               16632 non-null  float64\n",
            " 35  rougher.input.feed_rate                             16347 non-null  float64\n",
            " 36  rougher.input.feed_size                             16443 non-null  float64\n",
            " 37  rougher.input.feed_sol                              16568 non-null  float64\n",
            " 38  rougher.input.feed_au                               16777 non-null  float64\n",
            " 39  rougher.input.floatbank10_sulfate                   15816 non-null  float64\n",
            " 40  rougher.input.floatbank10_xanthate                  16514 non-null  float64\n",
            " 41  rougher.input.floatbank11_sulfate                   16237 non-null  float64\n",
            " 42  rougher.input.floatbank11_xanthate                  14956 non-null  float64\n",
            " 43  rougher.output.concentrate_ag                       16778 non-null  float64\n",
            " 44  rougher.output.concentrate_pb                       16778 non-null  float64\n",
            " 45  rougher.output.concentrate_sol                      16698 non-null  float64\n",
            " 46  rougher.output.concentrate_au                       16778 non-null  float64\n",
            " 47  rougher.output.recovery                             14287 non-null  float64\n",
            " 48  rougher.output.tail_ag                              14610 non-null  float64\n",
            " 49  rougher.output.tail_pb                              16778 non-null  float64\n",
            " 50  rougher.output.tail_sol                             14611 non-null  float64\n",
            " 51  rougher.output.tail_au                              14611 non-null  float64\n",
            " 52  rougher.state.floatbank10_a_air                     16807 non-null  float64\n",
            " 53  rougher.state.floatbank10_a_level                   16807 non-null  float64\n",
            " 54  rougher.state.floatbank10_b_air                     16807 non-null  float64\n",
            " 55  rougher.state.floatbank10_b_level                   16807 non-null  float64\n",
            " 56  rougher.state.floatbank10_c_air                     16807 non-null  float64\n",
            " 57  rougher.state.floatbank10_c_level                   16814 non-null  float64\n",
            " 58  rougher.state.floatbank10_d_air                     16802 non-null  float64\n",
            " 59  rougher.state.floatbank10_d_level                   16809 non-null  float64\n",
            " 60  rougher.state.floatbank10_e_air                     16257 non-null  float64\n",
            " 61  rougher.state.floatbank10_e_level                   16809 non-null  float64\n",
            " 62  rougher.state.floatbank10_f_air                     16802 non-null  float64\n",
            " 63  rougher.state.floatbank10_f_level                   16802 non-null  float64\n",
            " 64  secondary_cleaner.output.tail_ag                    16776 non-null  float64\n",
            " 65  secondary_cleaner.output.tail_pb                    16764 non-null  float64\n",
            " 66  secondary_cleaner.output.tail_sol                   14874 non-null  float64\n",
            " 67  secondary_cleaner.output.tail_au                    16778 non-null  float64\n",
            " 68  secondary_cleaner.state.floatbank2_a_air            16497 non-null  float64\n",
            " 69  secondary_cleaner.state.floatbank2_a_level          16751 non-null  float64\n",
            " 70  secondary_cleaner.state.floatbank2_b_air            16705 non-null  float64\n",
            " 71  secondary_cleaner.state.floatbank2_b_level          16748 non-null  float64\n",
            " 72  secondary_cleaner.state.floatbank3_a_air            16763 non-null  float64\n",
            " 73  secondary_cleaner.state.floatbank3_a_level          16747 non-null  float64\n",
            " 74  secondary_cleaner.state.floatbank3_b_air            16752 non-null  float64\n",
            " 75  secondary_cleaner.state.floatbank3_b_level          16750 non-null  float64\n",
            " 76  secondary_cleaner.state.floatbank4_a_air            16731 non-null  float64\n",
            " 77  secondary_cleaner.state.floatbank4_a_level          16747 non-null  float64\n",
            " 78  secondary_cleaner.state.floatbank4_b_air            16768 non-null  float64\n",
            " 79  secondary_cleaner.state.floatbank4_b_level          16767 non-null  float64\n",
            " 80  secondary_cleaner.state.floatbank5_a_air            16775 non-null  float64\n",
            " 81  secondary_cleaner.state.floatbank5_a_level          16775 non-null  float64\n",
            " 82  secondary_cleaner.state.floatbank5_b_air            16775 non-null  float64\n",
            " 83  secondary_cleaner.state.floatbank5_b_level          16776 non-null  float64\n",
            " 84  secondary_cleaner.state.floatbank6_a_air            16757 non-null  float64\n",
            " 85  secondary_cleaner.state.floatbank6_a_level          16775 non-null  float64\n",
            " 86  rougher.calculated.recovery                         14577 non-null  float64\n",
            "dtypes: float64(87)\n",
            "memory usage: 11.9+ MB\n"
          ],
          "name": "stdout"
        }
      ]
    },
    {
      "cell_type": "code",
      "metadata": {
        "id": "I6LUlxKniCSu",
        "outputId": "6fb5cafb-a1a6-4f25-eb1e-286ab8e0f9e2",
        "colab": {
          "base_uri": "https://localhost:8080/",
          "height": 810
        }
      },
      "source": [
        "data_train.loc[data_train['rougher.output.recovery'].isna()]"
      ],
      "execution_count": 56,
      "outputs": [
        {
          "output_type": "execute_result",
          "data": {
            "text/html": [
              "<div>\n",
              "<style scoped>\n",
              "    .dataframe tbody tr th:only-of-type {\n",
              "        vertical-align: middle;\n",
              "    }\n",
              "\n",
              "    .dataframe tbody tr th {\n",
              "        vertical-align: top;\n",
              "    }\n",
              "\n",
              "    .dataframe thead th {\n",
              "        text-align: right;\n",
              "    }\n",
              "</style>\n",
              "<table border=\"1\" class=\"dataframe\">\n",
              "  <thead>\n",
              "    <tr style=\"text-align: right;\">\n",
              "      <th></th>\n",
              "      <th>final.output.concentrate_ag</th>\n",
              "      <th>final.output.concentrate_pb</th>\n",
              "      <th>final.output.concentrate_sol</th>\n",
              "      <th>final.output.concentrate_au</th>\n",
              "      <th>final.output.recovery</th>\n",
              "      <th>final.output.tail_ag</th>\n",
              "      <th>final.output.tail_pb</th>\n",
              "      <th>final.output.tail_sol</th>\n",
              "      <th>final.output.tail_au</th>\n",
              "      <th>primary_cleaner.input.sulfate</th>\n",
              "      <th>primary_cleaner.input.depressant</th>\n",
              "      <th>primary_cleaner.input.feed_size</th>\n",
              "      <th>primary_cleaner.input.xanthate</th>\n",
              "      <th>primary_cleaner.output.concentrate_ag</th>\n",
              "      <th>primary_cleaner.output.concentrate_pb</th>\n",
              "      <th>primary_cleaner.output.concentrate_sol</th>\n",
              "      <th>primary_cleaner.output.concentrate_au</th>\n",
              "      <th>primary_cleaner.output.tail_ag</th>\n",
              "      <th>primary_cleaner.output.tail_pb</th>\n",
              "      <th>primary_cleaner.output.tail_sol</th>\n",
              "      <th>primary_cleaner.output.tail_au</th>\n",
              "      <th>primary_cleaner.state.floatbank8_a_air</th>\n",
              "      <th>primary_cleaner.state.floatbank8_a_level</th>\n",
              "      <th>primary_cleaner.state.floatbank8_b_air</th>\n",
              "      <th>primary_cleaner.state.floatbank8_b_level</th>\n",
              "      <th>primary_cleaner.state.floatbank8_c_air</th>\n",
              "      <th>primary_cleaner.state.floatbank8_c_level</th>\n",
              "      <th>primary_cleaner.state.floatbank8_d_air</th>\n",
              "      <th>primary_cleaner.state.floatbank8_d_level</th>\n",
              "      <th>rougher.calculation.sulfate_to_au_concentrate</th>\n",
              "      <th>rougher.calculation.floatbank10_sulfate_to_au_feed</th>\n",
              "      <th>rougher.calculation.floatbank11_sulfate_to_au_feed</th>\n",
              "      <th>rougher.calculation.au_pb_ratio</th>\n",
              "      <th>rougher.input.feed_ag</th>\n",
              "      <th>rougher.input.feed_pb</th>\n",
              "      <th>rougher.input.feed_rate</th>\n",
              "      <th>rougher.input.feed_size</th>\n",
              "      <th>rougher.input.feed_sol</th>\n",
              "      <th>rougher.input.feed_au</th>\n",
              "      <th>rougher.input.floatbank10_sulfate</th>\n",
              "      <th>...</th>\n",
              "      <th>rougher.output.recovery</th>\n",
              "      <th>rougher.output.tail_ag</th>\n",
              "      <th>rougher.output.tail_pb</th>\n",
              "      <th>rougher.output.tail_sol</th>\n",
              "      <th>rougher.output.tail_au</th>\n",
              "      <th>rougher.state.floatbank10_a_air</th>\n",
              "      <th>rougher.state.floatbank10_a_level</th>\n",
              "      <th>rougher.state.floatbank10_b_air</th>\n",
              "      <th>rougher.state.floatbank10_b_level</th>\n",
              "      <th>rougher.state.floatbank10_c_air</th>\n",
              "      <th>rougher.state.floatbank10_c_level</th>\n",
              "      <th>rougher.state.floatbank10_d_air</th>\n",
              "      <th>rougher.state.floatbank10_d_level</th>\n",
              "      <th>rougher.state.floatbank10_e_air</th>\n",
              "      <th>rougher.state.floatbank10_e_level</th>\n",
              "      <th>rougher.state.floatbank10_f_air</th>\n",
              "      <th>rougher.state.floatbank10_f_level</th>\n",
              "      <th>secondary_cleaner.output.tail_ag</th>\n",
              "      <th>secondary_cleaner.output.tail_pb</th>\n",
              "      <th>secondary_cleaner.output.tail_sol</th>\n",
              "      <th>secondary_cleaner.output.tail_au</th>\n",
              "      <th>secondary_cleaner.state.floatbank2_a_air</th>\n",
              "      <th>secondary_cleaner.state.floatbank2_a_level</th>\n",
              "      <th>secondary_cleaner.state.floatbank2_b_air</th>\n",
              "      <th>secondary_cleaner.state.floatbank2_b_level</th>\n",
              "      <th>secondary_cleaner.state.floatbank3_a_air</th>\n",
              "      <th>secondary_cleaner.state.floatbank3_a_level</th>\n",
              "      <th>secondary_cleaner.state.floatbank3_b_air</th>\n",
              "      <th>secondary_cleaner.state.floatbank3_b_level</th>\n",
              "      <th>secondary_cleaner.state.floatbank4_a_air</th>\n",
              "      <th>secondary_cleaner.state.floatbank4_a_level</th>\n",
              "      <th>secondary_cleaner.state.floatbank4_b_air</th>\n",
              "      <th>secondary_cleaner.state.floatbank4_b_level</th>\n",
              "      <th>secondary_cleaner.state.floatbank5_a_air</th>\n",
              "      <th>secondary_cleaner.state.floatbank5_a_level</th>\n",
              "      <th>secondary_cleaner.state.floatbank5_b_air</th>\n",
              "      <th>secondary_cleaner.state.floatbank5_b_level</th>\n",
              "      <th>secondary_cleaner.state.floatbank6_a_air</th>\n",
              "      <th>secondary_cleaner.state.floatbank6_a_level</th>\n",
              "      <th>rougher.calculated.recovery</th>\n",
              "    </tr>\n",
              "    <tr>\n",
              "      <th>date</th>\n",
              "      <th></th>\n",
              "      <th></th>\n",
              "      <th></th>\n",
              "      <th></th>\n",
              "      <th></th>\n",
              "      <th></th>\n",
              "      <th></th>\n",
              "      <th></th>\n",
              "      <th></th>\n",
              "      <th></th>\n",
              "      <th></th>\n",
              "      <th></th>\n",
              "      <th></th>\n",
              "      <th></th>\n",
              "      <th></th>\n",
              "      <th></th>\n",
              "      <th></th>\n",
              "      <th></th>\n",
              "      <th></th>\n",
              "      <th></th>\n",
              "      <th></th>\n",
              "      <th></th>\n",
              "      <th></th>\n",
              "      <th></th>\n",
              "      <th></th>\n",
              "      <th></th>\n",
              "      <th></th>\n",
              "      <th></th>\n",
              "      <th></th>\n",
              "      <th></th>\n",
              "      <th></th>\n",
              "      <th></th>\n",
              "      <th></th>\n",
              "      <th></th>\n",
              "      <th></th>\n",
              "      <th></th>\n",
              "      <th></th>\n",
              "      <th></th>\n",
              "      <th></th>\n",
              "      <th></th>\n",
              "      <th></th>\n",
              "      <th></th>\n",
              "      <th></th>\n",
              "      <th></th>\n",
              "      <th></th>\n",
              "      <th></th>\n",
              "      <th></th>\n",
              "      <th></th>\n",
              "      <th></th>\n",
              "      <th></th>\n",
              "      <th></th>\n",
              "      <th></th>\n",
              "      <th></th>\n",
              "      <th></th>\n",
              "      <th></th>\n",
              "      <th></th>\n",
              "      <th></th>\n",
              "      <th></th>\n",
              "      <th></th>\n",
              "      <th></th>\n",
              "      <th></th>\n",
              "      <th></th>\n",
              "      <th></th>\n",
              "      <th></th>\n",
              "      <th></th>\n",
              "      <th></th>\n",
              "      <th></th>\n",
              "      <th></th>\n",
              "      <th></th>\n",
              "      <th></th>\n",
              "      <th></th>\n",
              "      <th></th>\n",
              "      <th></th>\n",
              "      <th></th>\n",
              "      <th></th>\n",
              "      <th></th>\n",
              "      <th></th>\n",
              "      <th></th>\n",
              "      <th></th>\n",
              "      <th></th>\n",
              "      <th></th>\n",
              "    </tr>\n",
              "  </thead>\n",
              "  <tbody>\n",
              "    <tr>\n",
              "      <th>2016-01-17 05:00:00</th>\n",
              "      <td>5.919503</td>\n",
              "      <td>11.078044</td>\n",
              "      <td>6.215769</td>\n",
              "      <td>42.922611</td>\n",
              "      <td>71.308281</td>\n",
              "      <td>10.866006</td>\n",
              "      <td>1.577753</td>\n",
              "      <td>17.550397</td>\n",
              "      <td>2.476280</td>\n",
              "      <td>137.334448</td>\n",
              "      <td>13.944077</td>\n",
              "      <td>7.25</td>\n",
              "      <td>1.203816</td>\n",
              "      <td>10.096140</td>\n",
              "      <td>9.967757</td>\n",
              "      <td>19.338940</td>\n",
              "      <td>33.534196</td>\n",
              "      <td>15.530185</td>\n",
              "      <td>2.878396</td>\n",
              "      <td>6.711868</td>\n",
              "      <td>2.718301</td>\n",
              "      <td>1598.394630</td>\n",
              "      <td>-500.458080</td>\n",
              "      <td>1602.960131</td>\n",
              "      <td>-500.418604</td>\n",
              "      <td>1600.863989</td>\n",
              "      <td>-499.987692</td>\n",
              "      <td>1600.511126</td>\n",
              "      <td>-500.261028</td>\n",
              "      <td>39933.069105</td>\n",
              "      <td>3203.462131</td>\n",
              "      <td>3192.357901</td>\n",
              "      <td>2.320302</td>\n",
              "      <td>8.124270</td>\n",
              "      <td>3.253172</td>\n",
              "      <td>598.319124</td>\n",
              "      <td>52.130611</td>\n",
              "      <td>39.030467</td>\n",
              "      <td>7.548341</td>\n",
              "      <td>14.433785</td>\n",
              "      <td>...</td>\n",
              "      <td>NaN</td>\n",
              "      <td>5.102708</td>\n",
              "      <td>0.909215</td>\n",
              "      <td>18.132700</td>\n",
              "      <td>2.187465</td>\n",
              "      <td>999.661447</td>\n",
              "      <td>-500.031802</td>\n",
              "      <td>1599.268574</td>\n",
              "      <td>-501.554117</td>\n",
              "      <td>1600.102406</td>\n",
              "      <td>-501.702500</td>\n",
              "      <td>1403.530218</td>\n",
              "      <td>-501.239410</td>\n",
              "      <td>1201.597520</td>\n",
              "      <td>-500.535422</td>\n",
              "      <td>1201.043695</td>\n",
              "      <td>-506.311877</td>\n",
              "      <td>12.977405</td>\n",
              "      <td>4.906992</td>\n",
              "      <td>9.904222</td>\n",
              "      <td>2.740749</td>\n",
              "      <td>26.082321</td>\n",
              "      <td>-499.698904</td>\n",
              "      <td>23.916400</td>\n",
              "      <td>-500.094545</td>\n",
              "      <td>25.012275</td>\n",
              "      <td>-500.403009</td>\n",
              "      <td>24.007706</td>\n",
              "      <td>-499.846645</td>\n",
              "      <td>13.972224</td>\n",
              "      <td>-548.238797</td>\n",
              "      <td>12.042964</td>\n",
              "      <td>-550.430774</td>\n",
              "      <td>9.989624</td>\n",
              "      <td>-499.606754</td>\n",
              "      <td>7.950446</td>\n",
              "      <td>-500.352648</td>\n",
              "      <td>12.011728</td>\n",
              "      <td>-599.043399</td>\n",
              "      <td>188.742102</td>\n",
              "    </tr>\n",
              "    <tr>\n",
              "      <th>2016-01-19 03:00:00</th>\n",
              "      <td>0.000000</td>\n",
              "      <td>0.000000</td>\n",
              "      <td>0.000000</td>\n",
              "      <td>0.000000</td>\n",
              "      <td>NaN</td>\n",
              "      <td>0.000000</td>\n",
              "      <td>0.000000</td>\n",
              "      <td>0.000000</td>\n",
              "      <td>0.000000</td>\n",
              "      <td>2.116168</td>\n",
              "      <td>NaN</td>\n",
              "      <td>7.25</td>\n",
              "      <td>NaN</td>\n",
              "      <td>0.000000</td>\n",
              "      <td>0.000000</td>\n",
              "      <td>0.000000</td>\n",
              "      <td>0.000000</td>\n",
              "      <td>0.000000</td>\n",
              "      <td>0.000000</td>\n",
              "      <td>0.000000</td>\n",
              "      <td>0.000000</td>\n",
              "      <td>1549.052155</td>\n",
              "      <td>-500.274820</td>\n",
              "      <td>1548.147964</td>\n",
              "      <td>-500.140456</td>\n",
              "      <td>1551.246558</td>\n",
              "      <td>-500.102150</td>\n",
              "      <td>1549.613537</td>\n",
              "      <td>-500.344154</td>\n",
              "      <td>652.624634</td>\n",
              "      <td>-1607.685064</td>\n",
              "      <td>-276.558327</td>\n",
              "      <td>NaN</td>\n",
              "      <td>0.000000</td>\n",
              "      <td>0.000000</td>\n",
              "      <td>0.342757</td>\n",
              "      <td>30.525966</td>\n",
              "      <td>0.000000</td>\n",
              "      <td>0.000000</td>\n",
              "      <td>NaN</td>\n",
              "      <td>...</td>\n",
              "      <td>NaN</td>\n",
              "      <td>NaN</td>\n",
              "      <td>0.000000</td>\n",
              "      <td>NaN</td>\n",
              "      <td>NaN</td>\n",
              "      <td>1000.044075</td>\n",
              "      <td>-499.701093</td>\n",
              "      <td>1601.264122</td>\n",
              "      <td>-500.208509</td>\n",
              "      <td>1602.147192</td>\n",
              "      <td>-501.166016</td>\n",
              "      <td>1403.699349</td>\n",
              "      <td>-500.472778</td>\n",
              "      <td>1200.039757</td>\n",
              "      <td>-500.722503</td>\n",
              "      <td>1100.262371</td>\n",
              "      <td>-501.588772</td>\n",
              "      <td>0.000000</td>\n",
              "      <td>0.000000</td>\n",
              "      <td>0.000000</td>\n",
              "      <td>0.000000</td>\n",
              "      <td>25.023285</td>\n",
              "      <td>-498.788519</td>\n",
              "      <td>22.947632</td>\n",
              "      <td>-499.973364</td>\n",
              "      <td>24.008926</td>\n",
              "      <td>-499.771421</td>\n",
              "      <td>23.021715</td>\n",
              "      <td>-500.241633</td>\n",
              "      <td>13.985160</td>\n",
              "      <td>-799.601232</td>\n",
              "      <td>12.036072</td>\n",
              "      <td>-603.234250</td>\n",
              "      <td>9.974968</td>\n",
              "      <td>-497.092974</td>\n",
              "      <td>7.953962</td>\n",
              "      <td>-499.698442</td>\n",
              "      <td>11.941642</td>\n",
              "      <td>-598.541756</td>\n",
              "      <td>NaN</td>\n",
              "    </tr>\n",
              "    <tr>\n",
              "      <th>2016-01-19 04:00:00</th>\n",
              "      <td>0.000000</td>\n",
              "      <td>0.000000</td>\n",
              "      <td>0.000000</td>\n",
              "      <td>0.000000</td>\n",
              "      <td>NaN</td>\n",
              "      <td>0.000000</td>\n",
              "      <td>0.000000</td>\n",
              "      <td>0.000000</td>\n",
              "      <td>0.000000</td>\n",
              "      <td>NaN</td>\n",
              "      <td>NaN</td>\n",
              "      <td>7.25</td>\n",
              "      <td>0.003844</td>\n",
              "      <td>0.000000</td>\n",
              "      <td>0.000000</td>\n",
              "      <td>0.000000</td>\n",
              "      <td>0.000000</td>\n",
              "      <td>0.000000</td>\n",
              "      <td>0.000000</td>\n",
              "      <td>0.000000</td>\n",
              "      <td>0.000000</td>\n",
              "      <td>1549.558400</td>\n",
              "      <td>-500.299753</td>\n",
              "      <td>1548.453530</td>\n",
              "      <td>-499.997415</td>\n",
              "      <td>1550.885468</td>\n",
              "      <td>-499.430257</td>\n",
              "      <td>1548.365520</td>\n",
              "      <td>-499.846258</td>\n",
              "      <td>-1113.249700</td>\n",
              "      <td>-5862.022260</td>\n",
              "      <td>738.069870</td>\n",
              "      <td>NaN</td>\n",
              "      <td>0.000000</td>\n",
              "      <td>0.000000</td>\n",
              "      <td>0.334574</td>\n",
              "      <td>30.522523</td>\n",
              "      <td>0.000000</td>\n",
              "      <td>0.000000</td>\n",
              "      <td>NaN</td>\n",
              "      <td>...</td>\n",
              "      <td>NaN</td>\n",
              "      <td>NaN</td>\n",
              "      <td>0.000000</td>\n",
              "      <td>NaN</td>\n",
              "      <td>NaN</td>\n",
              "      <td>999.863380</td>\n",
              "      <td>-500.412610</td>\n",
              "      <td>1598.849869</td>\n",
              "      <td>-500.259972</td>\n",
              "      <td>1601.084772</td>\n",
              "      <td>-501.168446</td>\n",
              "      <td>1398.605136</td>\n",
              "      <td>-500.912921</td>\n",
              "      <td>1199.053065</td>\n",
              "      <td>-500.442736</td>\n",
              "      <td>1099.171620</td>\n",
              "      <td>-499.965096</td>\n",
              "      <td>0.000000</td>\n",
              "      <td>0.000000</td>\n",
              "      <td>0.000000</td>\n",
              "      <td>0.000000</td>\n",
              "      <td>25.017330</td>\n",
              "      <td>-500.648252</td>\n",
              "      <td>23.018610</td>\n",
              "      <td>-500.255010</td>\n",
              "      <td>23.983840</td>\n",
              "      <td>-499.953553</td>\n",
              "      <td>23.030884</td>\n",
              "      <td>-500.035173</td>\n",
              "      <td>14.034374</td>\n",
              "      <td>-799.600946</td>\n",
              "      <td>12.040491</td>\n",
              "      <td>-623.446329</td>\n",
              "      <td>9.898782</td>\n",
              "      <td>-499.623262</td>\n",
              "      <td>7.979302</td>\n",
              "      <td>-500.283366</td>\n",
              "      <td>11.959950</td>\n",
              "      <td>-600.998301</td>\n",
              "      <td>NaN</td>\n",
              "    </tr>\n",
              "    <tr>\n",
              "      <th>2016-01-19 05:00:00</th>\n",
              "      <td>0.000000</td>\n",
              "      <td>0.000000</td>\n",
              "      <td>0.000000</td>\n",
              "      <td>0.000000</td>\n",
              "      <td>NaN</td>\n",
              "      <td>0.000000</td>\n",
              "      <td>0.000000</td>\n",
              "      <td>0.000000</td>\n",
              "      <td>0.000000</td>\n",
              "      <td>NaN</td>\n",
              "      <td>NaN</td>\n",
              "      <td>7.25</td>\n",
              "      <td>NaN</td>\n",
              "      <td>0.000000</td>\n",
              "      <td>0.000000</td>\n",
              "      <td>0.000000</td>\n",
              "      <td>0.000000</td>\n",
              "      <td>0.000000</td>\n",
              "      <td>0.000000</td>\n",
              "      <td>0.000000</td>\n",
              "      <td>0.000000</td>\n",
              "      <td>1552.989735</td>\n",
              "      <td>-499.142241</td>\n",
              "      <td>1548.580485</td>\n",
              "      <td>-500.582886</td>\n",
              "      <td>1550.585231</td>\n",
              "      <td>-500.092564</td>\n",
              "      <td>1548.705846</td>\n",
              "      <td>-499.644246</td>\n",
              "      <td>-5026.304089</td>\n",
              "      <td>-7072.017271</td>\n",
              "      <td>-10516.041812</td>\n",
              "      <td>NaN</td>\n",
              "      <td>0.000000</td>\n",
              "      <td>0.000000</td>\n",
              "      <td>0.327750</td>\n",
              "      <td>30.519080</td>\n",
              "      <td>0.000000</td>\n",
              "      <td>0.000000</td>\n",
              "      <td>NaN</td>\n",
              "      <td>...</td>\n",
              "      <td>NaN</td>\n",
              "      <td>NaN</td>\n",
              "      <td>0.000000</td>\n",
              "      <td>NaN</td>\n",
              "      <td>NaN</td>\n",
              "      <td>999.718014</td>\n",
              "      <td>-500.151085</td>\n",
              "      <td>1599.058233</td>\n",
              "      <td>-499.815608</td>\n",
              "      <td>1598.454684</td>\n",
              "      <td>-499.937535</td>\n",
              "      <td>1399.279129</td>\n",
              "      <td>-500.148499</td>\n",
              "      <td>1199.089797</td>\n",
              "      <td>-501.718382</td>\n",
              "      <td>1099.402230</td>\n",
              "      <td>-500.014360</td>\n",
              "      <td>0.000000</td>\n",
              "      <td>0.000000</td>\n",
              "      <td>0.000000</td>\n",
              "      <td>0.000000</td>\n",
              "      <td>25.024290</td>\n",
              "      <td>-500.779993</td>\n",
              "      <td>23.031969</td>\n",
              "      <td>-500.579827</td>\n",
              "      <td>23.939799</td>\n",
              "      <td>-500.379681</td>\n",
              "      <td>22.990611</td>\n",
              "      <td>-499.920924</td>\n",
              "      <td>13.943929</td>\n",
              "      <td>-799.600659</td>\n",
              "      <td>12.040238</td>\n",
              "      <td>-638.103348</td>\n",
              "      <td>9.956309</td>\n",
              "      <td>-499.791870</td>\n",
              "      <td>7.978806</td>\n",
              "      <td>-500.202026</td>\n",
              "      <td>11.987839</td>\n",
              "      <td>-600.302819</td>\n",
              "      <td>NaN</td>\n",
              "    </tr>\n",
              "    <tr>\n",
              "      <th>2016-01-19 06:00:00</th>\n",
              "      <td>0.000000</td>\n",
              "      <td>0.000000</td>\n",
              "      <td>0.000000</td>\n",
              "      <td>0.000000</td>\n",
              "      <td>NaN</td>\n",
              "      <td>0.000000</td>\n",
              "      <td>0.000000</td>\n",
              "      <td>0.000000</td>\n",
              "      <td>0.000000</td>\n",
              "      <td>NaN</td>\n",
              "      <td>NaN</td>\n",
              "      <td>7.25</td>\n",
              "      <td>NaN</td>\n",
              "      <td>0.000000</td>\n",
              "      <td>0.000000</td>\n",
              "      <td>0.000000</td>\n",
              "      <td>0.000000</td>\n",
              "      <td>0.000000</td>\n",
              "      <td>0.000000</td>\n",
              "      <td>0.000000</td>\n",
              "      <td>0.000000</td>\n",
              "      <td>1550.788972</td>\n",
              "      <td>-499.561168</td>\n",
              "      <td>1548.768526</td>\n",
              "      <td>-500.099996</td>\n",
              "      <td>1548.135744</td>\n",
              "      <td>-500.086065</td>\n",
              "      <td>1550.651535</td>\n",
              "      <td>-500.751272</td>\n",
              "      <td>-13348.010125</td>\n",
              "      <td>-7812.535185</td>\n",
              "      <td>7804.366138</td>\n",
              "      <td>NaN</td>\n",
              "      <td>0.000000</td>\n",
              "      <td>0.000000</td>\n",
              "      <td>0.325795</td>\n",
              "      <td>30.515637</td>\n",
              "      <td>0.000000</td>\n",
              "      <td>0.000000</td>\n",
              "      <td>NaN</td>\n",
              "      <td>...</td>\n",
              "      <td>NaN</td>\n",
              "      <td>NaN</td>\n",
              "      <td>0.000000</td>\n",
              "      <td>NaN</td>\n",
              "      <td>NaN</td>\n",
              "      <td>999.149275</td>\n",
              "      <td>-499.815983</td>\n",
              "      <td>1600.393040</td>\n",
              "      <td>-499.970544</td>\n",
              "      <td>1601.402540</td>\n",
              "      <td>-500.770495</td>\n",
              "      <td>1401.367847</td>\n",
              "      <td>-499.765025</td>\n",
              "      <td>1201.748531</td>\n",
              "      <td>-498.162290</td>\n",
              "      <td>1101.422868</td>\n",
              "      <td>-500.104581</td>\n",
              "      <td>0.000000</td>\n",
              "      <td>0.000000</td>\n",
              "      <td>0.000000</td>\n",
              "      <td>0.000000</td>\n",
              "      <td>25.010456</td>\n",
              "      <td>-500.658867</td>\n",
              "      <td>23.003599</td>\n",
              "      <td>-500.682334</td>\n",
              "      <td>23.916091</td>\n",
              "      <td>-500.144107</td>\n",
              "      <td>22.984865</td>\n",
              "      <td>-500.080687</td>\n",
              "      <td>14.040873</td>\n",
              "      <td>-799.600372</td>\n",
              "      <td>12.030771</td>\n",
              "      <td>-641.310327</td>\n",
              "      <td>9.966952</td>\n",
              "      <td>-499.842458</td>\n",
              "      <td>8.053455</td>\n",
              "      <td>-499.588522</td>\n",
              "      <td>11.987935</td>\n",
              "      <td>-600.523057</td>\n",
              "      <td>NaN</td>\n",
              "    </tr>\n",
              "    <tr>\n",
              "      <th>...</th>\n",
              "      <td>...</td>\n",
              "      <td>...</td>\n",
              "      <td>...</td>\n",
              "      <td>...</td>\n",
              "      <td>...</td>\n",
              "      <td>...</td>\n",
              "      <td>...</td>\n",
              "      <td>...</td>\n",
              "      <td>...</td>\n",
              "      <td>...</td>\n",
              "      <td>...</td>\n",
              "      <td>...</td>\n",
              "      <td>...</td>\n",
              "      <td>...</td>\n",
              "      <td>...</td>\n",
              "      <td>...</td>\n",
              "      <td>...</td>\n",
              "      <td>...</td>\n",
              "      <td>...</td>\n",
              "      <td>...</td>\n",
              "      <td>...</td>\n",
              "      <td>...</td>\n",
              "      <td>...</td>\n",
              "      <td>...</td>\n",
              "      <td>...</td>\n",
              "      <td>...</td>\n",
              "      <td>...</td>\n",
              "      <td>...</td>\n",
              "      <td>...</td>\n",
              "      <td>...</td>\n",
              "      <td>...</td>\n",
              "      <td>...</td>\n",
              "      <td>...</td>\n",
              "      <td>...</td>\n",
              "      <td>...</td>\n",
              "      <td>...</td>\n",
              "      <td>...</td>\n",
              "      <td>...</td>\n",
              "      <td>...</td>\n",
              "      <td>...</td>\n",
              "      <td>...</td>\n",
              "      <td>...</td>\n",
              "      <td>...</td>\n",
              "      <td>...</td>\n",
              "      <td>...</td>\n",
              "      <td>...</td>\n",
              "      <td>...</td>\n",
              "      <td>...</td>\n",
              "      <td>...</td>\n",
              "      <td>...</td>\n",
              "      <td>...</td>\n",
              "      <td>...</td>\n",
              "      <td>...</td>\n",
              "      <td>...</td>\n",
              "      <td>...</td>\n",
              "      <td>...</td>\n",
              "      <td>...</td>\n",
              "      <td>...</td>\n",
              "      <td>...</td>\n",
              "      <td>...</td>\n",
              "      <td>...</td>\n",
              "      <td>...</td>\n",
              "      <td>...</td>\n",
              "      <td>...</td>\n",
              "      <td>...</td>\n",
              "      <td>...</td>\n",
              "      <td>...</td>\n",
              "      <td>...</td>\n",
              "      <td>...</td>\n",
              "      <td>...</td>\n",
              "      <td>...</td>\n",
              "      <td>...</td>\n",
              "      <td>...</td>\n",
              "      <td>...</td>\n",
              "      <td>...</td>\n",
              "      <td>...</td>\n",
              "      <td>...</td>\n",
              "      <td>...</td>\n",
              "      <td>...</td>\n",
              "      <td>...</td>\n",
              "      <td>...</td>\n",
              "    </tr>\n",
              "    <tr>\n",
              "      <th>2018-08-11 16:59:59</th>\n",
              "      <td>3.958494</td>\n",
              "      <td>10.765712</td>\n",
              "      <td>7.887805</td>\n",
              "      <td>46.249962</td>\n",
              "      <td>70.871419</td>\n",
              "      <td>14.793868</td>\n",
              "      <td>4.400949</td>\n",
              "      <td>8.613606</td>\n",
              "      <td>3.868595</td>\n",
              "      <td>184.623479</td>\n",
              "      <td>10.966594</td>\n",
              "      <td>6.18</td>\n",
              "      <td>0.784677</td>\n",
              "      <td>9.897685</td>\n",
              "      <td>11.032726</td>\n",
              "      <td>12.686947</td>\n",
              "      <td>28.999781</td>\n",
              "      <td>26.217701</td>\n",
              "      <td>7.953188</td>\n",
              "      <td>6.051989</td>\n",
              "      <td>4.938223</td>\n",
              "      <td>1650.685123</td>\n",
              "      <td>-399.713013</td>\n",
              "      <td>1649.956650</td>\n",
              "      <td>-400.148320</td>\n",
              "      <td>1649.465597</td>\n",
              "      <td>-400.109747</td>\n",
              "      <td>1649.596061</td>\n",
              "      <td>-400.044625</td>\n",
              "      <td>114668.696661</td>\n",
              "      <td>5396.603665</td>\n",
              "      <td>5503.318457</td>\n",
              "      <td>1.796448</td>\n",
              "      <td>12.601612</td>\n",
              "      <td>6.142826</td>\n",
              "      <td>547.663573</td>\n",
              "      <td>59.718078</td>\n",
              "      <td>35.434937</td>\n",
              "      <td>11.035269</td>\n",
              "      <td>12.231987</td>\n",
              "      <td>...</td>\n",
              "      <td>NaN</td>\n",
              "      <td>5.418127</td>\n",
              "      <td>0.568332</td>\n",
              "      <td>15.853109</td>\n",
              "      <td>1.343570</td>\n",
              "      <td>1199.478429</td>\n",
              "      <td>-299.971072</td>\n",
              "      <td>1100.951835</td>\n",
              "      <td>-501.151965</td>\n",
              "      <td>1001.111908</td>\n",
              "      <td>-500.904121</td>\n",
              "      <td>899.924759</td>\n",
              "      <td>-501.172413</td>\n",
              "      <td>800.006139</td>\n",
              "      <td>-500.149530</td>\n",
              "      <td>800.782845</td>\n",
              "      <td>-501.815854</td>\n",
              "      <td>17.877049</td>\n",
              "      <td>10.715671</td>\n",
              "      <td>4.795835</td>\n",
              "      <td>8.817675</td>\n",
              "      <td>34.965226</td>\n",
              "      <td>-499.871456</td>\n",
              "      <td>27.954805</td>\n",
              "      <td>-499.897976</td>\n",
              "      <td>26.010605</td>\n",
              "      <td>-500.234467</td>\n",
              "      <td>22.997999</td>\n",
              "      <td>-500.073868</td>\n",
              "      <td>22.986898</td>\n",
              "      <td>-501.051083</td>\n",
              "      <td>20.046078</td>\n",
              "      <td>-501.394212</td>\n",
              "      <td>17.982038</td>\n",
              "      <td>-499.849382</td>\n",
              "      <td>12.989903</td>\n",
              "      <td>-500.207022</td>\n",
              "      <td>17.997144</td>\n",
              "      <td>-501.774775</td>\n",
              "      <td>112.957805</td>\n",
              "    </tr>\n",
              "    <tr>\n",
              "      <th>2018-08-11 17:59:59</th>\n",
              "      <td>4.004948</td>\n",
              "      <td>9.668969</td>\n",
              "      <td>8.652235</td>\n",
              "      <td>46.803491</td>\n",
              "      <td>56.203095</td>\n",
              "      <td>16.301126</td>\n",
              "      <td>5.009660</td>\n",
              "      <td>9.603387</td>\n",
              "      <td>5.517890</td>\n",
              "      <td>210.215178</td>\n",
              "      <td>14.996560</td>\n",
              "      <td>6.18</td>\n",
              "      <td>0.763875</td>\n",
              "      <td>10.294083</td>\n",
              "      <td>10.830741</td>\n",
              "      <td>14.530251</td>\n",
              "      <td>29.218656</td>\n",
              "      <td>27.947460</td>\n",
              "      <td>8.982318</td>\n",
              "      <td>6.432505</td>\n",
              "      <td>7.685736</td>\n",
              "      <td>1651.714756</td>\n",
              "      <td>-400.071084</td>\n",
              "      <td>1650.778183</td>\n",
              "      <td>-400.040107</td>\n",
              "      <td>1650.283167</td>\n",
              "      <td>-399.443067</td>\n",
              "      <td>1649.515383</td>\n",
              "      <td>-400.725703</td>\n",
              "      <td>40727.819927</td>\n",
              "      <td>2495.385466</td>\n",
              "      <td>2505.514287</td>\n",
              "      <td>1.821513</td>\n",
              "      <td>12.521320</td>\n",
              "      <td>6.007757</td>\n",
              "      <td>546.487863</td>\n",
              "      <td>66.058661</td>\n",
              "      <td>35.576985</td>\n",
              "      <td>10.943209</td>\n",
              "      <td>13.895579</td>\n",
              "      <td>...</td>\n",
              "      <td>NaN</td>\n",
              "      <td>6.070173</td>\n",
              "      <td>0.742224</td>\n",
              "      <td>15.847652</td>\n",
              "      <td>1.858404</td>\n",
              "      <td>1199.648749</td>\n",
              "      <td>-299.966458</td>\n",
              "      <td>1099.216875</td>\n",
              "      <td>-499.850579</td>\n",
              "      <td>997.895740</td>\n",
              "      <td>-499.564089</td>\n",
              "      <td>900.558159</td>\n",
              "      <td>-499.289488</td>\n",
              "      <td>800.952855</td>\n",
              "      <td>-500.581101</td>\n",
              "      <td>800.405186</td>\n",
              "      <td>-498.791937</td>\n",
              "      <td>17.899961</td>\n",
              "      <td>10.213508</td>\n",
              "      <td>6.855386</td>\n",
              "      <td>12.407067</td>\n",
              "      <td>34.960547</td>\n",
              "      <td>-500.367667</td>\n",
              "      <td>27.953561</td>\n",
              "      <td>-495.261706</td>\n",
              "      <td>26.005550</td>\n",
              "      <td>-499.726515</td>\n",
              "      <td>23.014754</td>\n",
              "      <td>-500.005220</td>\n",
              "      <td>23.013058</td>\n",
              "      <td>-499.974814</td>\n",
              "      <td>19.987702</td>\n",
              "      <td>-499.084535</td>\n",
              "      <td>18.000712</td>\n",
              "      <td>-500.307173</td>\n",
              "      <td>13.019299</td>\n",
              "      <td>-500.132894</td>\n",
              "      <td>18.010586</td>\n",
              "      <td>-502.012474</td>\n",
              "      <td>100.442153</td>\n",
              "    </tr>\n",
              "    <tr>\n",
              "      <th>2018-08-11 18:59:59</th>\n",
              "      <td>3.725068</td>\n",
              "      <td>8.274357</td>\n",
              "      <td>8.841145</td>\n",
              "      <td>48.654627</td>\n",
              "      <td>49.317741</td>\n",
              "      <td>16.118560</td>\n",
              "      <td>5.002483</td>\n",
              "      <td>10.102624</td>\n",
              "      <td>5.733715</td>\n",
              "      <td>222.410319</td>\n",
              "      <td>14.999232</td>\n",
              "      <td>6.18</td>\n",
              "      <td>0.816182</td>\n",
              "      <td>9.711289</td>\n",
              "      <td>10.614269</td>\n",
              "      <td>14.353717</td>\n",
              "      <td>30.864162</td>\n",
              "      <td>28.634613</td>\n",
              "      <td>9.389223</td>\n",
              "      <td>6.414685</td>\n",
              "      <td>7.959472</td>\n",
              "      <td>1649.922647</td>\n",
              "      <td>-399.749130</td>\n",
              "      <td>1652.154129</td>\n",
              "      <td>-400.401915</td>\n",
              "      <td>1650.971361</td>\n",
              "      <td>-397.575915</td>\n",
              "      <td>1649.947571</td>\n",
              "      <td>-399.437871</td>\n",
              "      <td>46583.046623</td>\n",
              "      <td>2528.303394</td>\n",
              "      <td>2528.057884</td>\n",
              "      <td>1.862945</td>\n",
              "      <td>11.727699</td>\n",
              "      <td>5.447947</td>\n",
              "      <td>552.123753</td>\n",
              "      <td>74.164257</td>\n",
              "      <td>36.010590</td>\n",
              "      <td>10.149224</td>\n",
              "      <td>12.765586</td>\n",
              "      <td>...</td>\n",
              "      <td>NaN</td>\n",
              "      <td>6.026247</td>\n",
              "      <td>0.667213</td>\n",
              "      <td>16.427776</td>\n",
              "      <td>1.729189</td>\n",
              "      <td>1200.812724</td>\n",
              "      <td>-300.058867</td>\n",
              "      <td>1101.882403</td>\n",
              "      <td>-499.690923</td>\n",
              "      <td>1003.056997</td>\n",
              "      <td>-499.748236</td>\n",
              "      <td>899.920790</td>\n",
              "      <td>-500.230111</td>\n",
              "      <td>800.174804</td>\n",
              "      <td>-499.677540</td>\n",
              "      <td>800.213837</td>\n",
              "      <td>-499.839006</td>\n",
              "      <td>17.366943</td>\n",
              "      <td>10.500144</td>\n",
              "      <td>7.116332</td>\n",
              "      <td>14.444799</td>\n",
              "      <td>35.030756</td>\n",
              "      <td>-499.532921</td>\n",
              "      <td>27.991966</td>\n",
              "      <td>-499.497591</td>\n",
              "      <td>26.008173</td>\n",
              "      <td>-500.062720</td>\n",
              "      <td>23.028198</td>\n",
              "      <td>-499.891762</td>\n",
              "      <td>22.982590</td>\n",
              "      <td>-501.346407</td>\n",
              "      <td>20.033370</td>\n",
              "      <td>-500.583932</td>\n",
              "      <td>17.968434</td>\n",
              "      <td>-501.021691</td>\n",
              "      <td>12.960565</td>\n",
              "      <td>-500.076888</td>\n",
              "      <td>17.994091</td>\n",
              "      <td>-504.227412</td>\n",
              "      <td>-0.482567</td>\n",
              "    </tr>\n",
              "    <tr>\n",
              "      <th>2018-08-11 19:59:59</th>\n",
              "      <td>3.455061</td>\n",
              "      <td>7.840984</td>\n",
              "      <td>8.833333</td>\n",
              "      <td>49.429785</td>\n",
              "      <td>50.760512</td>\n",
              "      <td>15.543128</td>\n",
              "      <td>4.780950</td>\n",
              "      <td>9.944061</td>\n",
              "      <td>5.851795</td>\n",
              "      <td>216.354853</td>\n",
              "      <td>15.013820</td>\n",
              "      <td>6.32</td>\n",
              "      <td>0.786161</td>\n",
              "      <td>9.546455</td>\n",
              "      <td>10.345454</td>\n",
              "      <td>13.918958</td>\n",
              "      <td>31.334660</td>\n",
              "      <td>28.375224</td>\n",
              "      <td>9.253749</td>\n",
              "      <td>6.221817</td>\n",
              "      <td>8.302881</td>\n",
              "      <td>1650.645803</td>\n",
              "      <td>-400.050658</td>\n",
              "      <td>1649.822309</td>\n",
              "      <td>-399.577568</td>\n",
              "      <td>1649.092060</td>\n",
              "      <td>-399.952487</td>\n",
              "      <td>1649.983676</td>\n",
              "      <td>-399.816910</td>\n",
              "      <td>47023.559095</td>\n",
              "      <td>2475.991525</td>\n",
              "      <td>2475.843955</td>\n",
              "      <td>1.843715</td>\n",
              "      <td>12.612778</td>\n",
              "      <td>5.744765</td>\n",
              "      <td>564.664062</td>\n",
              "      <td>77.187484</td>\n",
              "      <td>35.705315</td>\n",
              "      <td>10.591710</td>\n",
              "      <td>12.961569</td>\n",
              "      <td>...</td>\n",
              "      <td>NaN</td>\n",
              "      <td>5.779185</td>\n",
              "      <td>0.565239</td>\n",
              "      <td>17.111970</td>\n",
              "      <td>1.481931</td>\n",
              "      <td>1201.148914</td>\n",
              "      <td>-300.235433</td>\n",
              "      <td>1099.018323</td>\n",
              "      <td>-500.670139</td>\n",
              "      <td>1000.963250</td>\n",
              "      <td>-500.209512</td>\n",
              "      <td>900.648888</td>\n",
              "      <td>-500.372470</td>\n",
              "      <td>801.084557</td>\n",
              "      <td>-499.742507</td>\n",
              "      <td>799.931525</td>\n",
              "      <td>-500.237471</td>\n",
              "      <td>17.290191</td>\n",
              "      <td>10.287409</td>\n",
              "      <td>6.684000</td>\n",
              "      <td>13.935479</td>\n",
              "      <td>34.995399</td>\n",
              "      <td>-500.265134</td>\n",
              "      <td>27.968682</td>\n",
              "      <td>-499.355763</td>\n",
              "      <td>25.982855</td>\n",
              "      <td>-500.247509</td>\n",
              "      <td>23.026080</td>\n",
              "      <td>-500.078404</td>\n",
              "      <td>23.018285</td>\n",
              "      <td>-500.439620</td>\n",
              "      <td>20.007188</td>\n",
              "      <td>-500.244110</td>\n",
              "      <td>17.955487</td>\n",
              "      <td>-499.845317</td>\n",
              "      <td>13.024346</td>\n",
              "      <td>-500.219297</td>\n",
              "      <td>17.989071</td>\n",
              "      <td>-502.324529</td>\n",
              "      <td>-0.584325</td>\n",
              "    </tr>\n",
              "    <tr>\n",
              "      <th>2018-08-11 20:59:59</th>\n",
              "      <td>3.567320</td>\n",
              "      <td>7.873250</td>\n",
              "      <td>8.615208</td>\n",
              "      <td>49.602848</td>\n",
              "      <td>53.019959</td>\n",
              "      <td>16.177795</td>\n",
              "      <td>4.916824</td>\n",
              "      <td>10.082170</td>\n",
              "      <td>6.111331</td>\n",
              "      <td>225.133375</td>\n",
              "      <td>14.968767</td>\n",
              "      <td>6.32</td>\n",
              "      <td>0.909494</td>\n",
              "      <td>9.966417</td>\n",
              "      <td>10.165105</td>\n",
              "      <td>13.945748</td>\n",
              "      <td>30.316664</td>\n",
              "      <td>28.813052</td>\n",
              "      <td>9.382358</td>\n",
              "      <td>6.250760</td>\n",
              "      <td>7.897105</td>\n",
              "      <td>1649.605338</td>\n",
              "      <td>-400.782946</td>\n",
              "      <td>1650.045312</td>\n",
              "      <td>-400.881531</td>\n",
              "      <td>1649.904012</td>\n",
              "      <td>-403.360817</td>\n",
              "      <td>1649.846771</td>\n",
              "      <td>-400.329095</td>\n",
              "      <td>45617.376976</td>\n",
              "      <td>2485.625062</td>\n",
              "      <td>2485.433705</td>\n",
              "      <td>1.783141</td>\n",
              "      <td>13.427919</td>\n",
              "      <td>6.404657</td>\n",
              "      <td>551.792324</td>\n",
              "      <td>74.615924</td>\n",
              "      <td>35.330504</td>\n",
              "      <td>11.420406</td>\n",
              "      <td>14.126459</td>\n",
              "      <td>...</td>\n",
              "      <td>NaN</td>\n",
              "      <td>6.225653</td>\n",
              "      <td>0.684349</td>\n",
              "      <td>17.071277</td>\n",
              "      <td>1.803747</td>\n",
              "      <td>1197.563580</td>\n",
              "      <td>-300.178872</td>\n",
              "      <td>1098.879556</td>\n",
              "      <td>-499.915008</td>\n",
              "      <td>996.786744</td>\n",
              "      <td>-500.727110</td>\n",
              "      <td>899.331542</td>\n",
              "      <td>-500.609804</td>\n",
              "      <td>799.470793</td>\n",
              "      <td>-500.029641</td>\n",
              "      <td>799.793468</td>\n",
              "      <td>-500.412486</td>\n",
              "      <td>17.354665</td>\n",
              "      <td>10.233930</td>\n",
              "      <td>6.735278</td>\n",
              "      <td>14.822218</td>\n",
              "      <td>34.935880</td>\n",
              "      <td>-497.683948</td>\n",
              "      <td>27.958205</td>\n",
              "      <td>-484.882680</td>\n",
              "      <td>25.968420</td>\n",
              "      <td>-499.304437</td>\n",
              "      <td>23.020967</td>\n",
              "      <td>-499.988770</td>\n",
              "      <td>22.997121</td>\n",
              "      <td>-498.583774</td>\n",
              "      <td>19.976622</td>\n",
              "      <td>-498.238287</td>\n",
              "      <td>17.981863</td>\n",
              "      <td>-498.675906</td>\n",
              "      <td>12.979300</td>\n",
              "      <td>-499.871272</td>\n",
              "      <td>17.987102</td>\n",
              "      <td>-499.191760</td>\n",
              "      <td>-1.498298</td>\n",
              "    </tr>\n",
              "  </tbody>\n",
              "</table>\n",
              "<p>2542 rows × 87 columns</p>\n",
              "</div>"
            ],
            "text/plain": [
              "                     final.output.concentrate_ag  ...  rougher.calculated.recovery\n",
              "date                                              ...                             \n",
              "2016-01-17 05:00:00                     5.919503  ...                   188.742102\n",
              "2016-01-19 03:00:00                     0.000000  ...                          NaN\n",
              "2016-01-19 04:00:00                     0.000000  ...                          NaN\n",
              "2016-01-19 05:00:00                     0.000000  ...                          NaN\n",
              "2016-01-19 06:00:00                     0.000000  ...                          NaN\n",
              "...                                          ...  ...                          ...\n",
              "2018-08-11 16:59:59                     3.958494  ...                   112.957805\n",
              "2018-08-11 17:59:59                     4.004948  ...                   100.442153\n",
              "2018-08-11 18:59:59                     3.725068  ...                    -0.482567\n",
              "2018-08-11 19:59:59                     3.455061  ...                    -0.584325\n",
              "2018-08-11 20:59:59                     3.567320  ...                    -1.498298\n",
              "\n",
              "[2542 rows x 87 columns]"
            ]
          },
          "metadata": {
            "tags": []
          },
          "execution_count": 56
        }
      ]
    },
    {
      "cell_type": "code",
      "metadata": {
        "id": "n_mNd6BZAZFH"
      },
      "source": [
        "data_train = data_train.drop(data_train.loc[data_train['final.output.recovery'].isna()].index)"
      ],
      "execution_count": 57,
      "outputs": []
    },
    {
      "cell_type": "code",
      "metadata": {
        "id": "CWECz9uCix0a"
      },
      "source": [
        "data_train = data_train.drop(data_train.loc[data_train['rougher.output.recovery'].isna()].index)"
      ],
      "execution_count": 58,
      "outputs": []
    },
    {
      "cell_type": "code",
      "metadata": {
        "id": "EoZaeYNrkAVm"
      },
      "source": [
        "data_train=data_train.interpolate(method='linear')"
      ],
      "execution_count": 63,
      "outputs": []
    },
    {
      "cell_type": "code",
      "metadata": {
        "id": "AZjFfCHKi-59",
        "outputId": "51c3e61b-1cfd-4b18-eb0d-b65eba1d488d",
        "colab": {
          "base_uri": "https://localhost:8080/"
        }
      },
      "source": [
        "data_train.isna().mean()"
      ],
      "execution_count": 64,
      "outputs": [
        {
          "output_type": "execute_result",
          "data": {
            "text/plain": [
              "final.output.concentrate_ag                   0.0\n",
              "final.output.concentrate_pb                   0.0\n",
              "final.output.concentrate_sol                  0.0\n",
              "final.output.concentrate_au                   0.0\n",
              "final.output.recovery                         0.0\n",
              "                                             ... \n",
              "secondary_cleaner.state.floatbank5_b_air      0.0\n",
              "secondary_cleaner.state.floatbank5_b_level    0.0\n",
              "secondary_cleaner.state.floatbank6_a_air      0.0\n",
              "secondary_cleaner.state.floatbank6_a_level    0.0\n",
              "rougher.calculated.recovery                   0.0\n",
              "Length: 87, dtype: float64"
            ]
          },
          "metadata": {
            "tags": []
          },
          "execution_count": 64
        }
      ]
    },
    {
      "cell_type": "markdown",
      "metadata": {
        "id": "QoBhWn56Ynk1"
      },
      "source": [
        "Из тестовой выборки удалим все пустые значения."
      ]
    },
    {
      "cell_type": "code",
      "metadata": {
        "colab": {
          "base_uri": "https://localhost:8080/"
        },
        "id": "HoIpYhIQyu07",
        "outputId": "730d5cfa-010c-479c-c25a-00736a6c006c"
      },
      "source": [
        "data_test.dropna(inplace=True)\n",
        "data_test.isna().mean().nlargest(15)"
      ],
      "execution_count": 62,
      "outputs": [
        {
          "output_type": "execute_result",
          "data": {
            "text/plain": [
              "primary_cleaner.input.sulfate               0.0\n",
              "primary_cleaner.input.depressant            0.0\n",
              "primary_cleaner.input.feed_size             0.0\n",
              "primary_cleaner.input.xanthate              0.0\n",
              "primary_cleaner.state.floatbank8_a_air      0.0\n",
              "primary_cleaner.state.floatbank8_a_level    0.0\n",
              "primary_cleaner.state.floatbank8_b_air      0.0\n",
              "primary_cleaner.state.floatbank8_b_level    0.0\n",
              "primary_cleaner.state.floatbank8_c_air      0.0\n",
              "primary_cleaner.state.floatbank8_c_level    0.0\n",
              "primary_cleaner.state.floatbank8_d_air      0.0\n",
              "primary_cleaner.state.floatbank8_d_level    0.0\n",
              "rougher.input.feed_ag                       0.0\n",
              "rougher.input.feed_pb                       0.0\n",
              "rougher.input.feed_rate                     0.0\n",
              "dtype: float64"
            ]
          },
          "metadata": {
            "tags": []
          },
          "execution_count": 62
        }
      ]
    },
    {
      "cell_type": "code",
      "metadata": {
        "colab": {
          "base_uri": "https://localhost:8080/"
        },
        "id": "mIlPbKWEraMx",
        "outputId": "6d02a4d3-5aba-40c6-d0fd-ffc70ff6f49c"
      },
      "source": [
        "len(data_test)"
      ],
      "execution_count": 65,
      "outputs": [
        {
          "output_type": "execute_result",
          "data": {
            "text/plain": [
              "5229"
            ]
          },
          "metadata": {
            "tags": []
          },
          "execution_count": 65
        }
      ]
    },
    {
      "cell_type": "code",
      "metadata": {
        "colab": {
          "base_uri": "https://localhost:8080/"
        },
        "id": "DuYki-6Krcqe",
        "outputId": "b7fa563c-4cc2-4bfd-ed5f-c1fc52630d60"
      },
      "source": [
        "len(data_train)"
      ],
      "execution_count": 66,
      "outputs": [
        {
          "output_type": "execute_result",
          "data": {
            "text/plain": [
              "13795"
            ]
          },
          "metadata": {
            "tags": []
          },
          "execution_count": 66
        }
      ]
    },
    {
      "cell_type": "markdown",
      "metadata": {
        "id": "H1Jub0vzsK6V"
      },
      "source": [
        "# 2.1. Посмотрите, как меняется концентрация металлов (Au, Ag, Pb) на различных этапах очистки. Опишите выводы."
      ]
    },
    {
      "cell_type": "markdown",
      "metadata": {
        "id": "keO4_60VsdIa"
      },
      "source": [
        "У нас есть два этапа очистки, первый и второй.\n",
        "построи график дл этих этапов"
      ]
    },
    {
      "cell_type": "code",
      "metadata": {
        "id": "xUUg1929ENuE"
      },
      "source": [
        "sns.set_theme(style=\"darkgrid\")"
      ],
      "execution_count": 67,
      "outputs": []
    },
    {
      "cell_type": "code",
      "metadata": {
        "id": "r_nHjHsyBbhL"
      },
      "source": [
        "data_ag = data_train[['rougher.input.feed_ag','rougher.output.concentrate_ag','primary_cleaner.output.concentrate_ag','final.output.concentrate_ag']]"
      ],
      "execution_count": 68,
      "outputs": []
    },
    {
      "cell_type": "code",
      "metadata": {
        "colab": {
          "base_uri": "https://localhost:8080/",
          "height": 355
        },
        "id": "QgqBlVXHBx6U",
        "outputId": "f5ea754b-b345-4416-ca4d-f573e429ff81"
      },
      "source": [
        "fig, ax1 = plt.subplots(figsize=(15,5))\n",
        "sns.histplot(data=data_ag,alpha=.8)\n",
        "ax1.set_title('Ag Concetration')\n"
      ],
      "execution_count": 69,
      "outputs": [
        {
          "output_type": "execute_result",
          "data": {
            "text/plain": [
              "Text(0.5, 1.0, 'Ag Concetration')"
            ]
          },
          "metadata": {
            "tags": []
          },
          "execution_count": 69
        },
        {
          "output_type": "display_data",
          "data": {
            "image/png": "[encoded data removed]",
            "text/plain": [
              "<Figure size 1080x360 with 1 Axes>"
            ]
          },
          "metadata": {
            "tags": []
          }
        }
      ]
    },
    {
      "cell_type": "code",
      "metadata": {
        "id": "Pi5mjIewCz0U"
      },
      "source": [
        "data_au = data_train[['rougher.input.feed_au','rougher.output.concentrate_au','primary_cleaner.output.concentrate_au','final.output.concentrate_au']]"
      ],
      "execution_count": 70,
      "outputs": []
    },
    {
      "cell_type": "code",
      "metadata": {
        "colab": {
          "base_uri": "https://localhost:8080/",
          "height": 355
        },
        "id": "Vyo-XPfCCtnN",
        "outputId": "d749b8f9-3358-490a-d9c6-c397bf96dc41"
      },
      "source": [
        "fig, ax2 = plt.subplots(1,figsize=(15,5))\n",
        "sns.histplot(data=data_au)\n",
        "ax2.set_title('Au Concetration')\n"
      ],
      "execution_count": 71,
      "outputs": [
        {
          "output_type": "execute_result",
          "data": {
            "text/plain": [
              "Text(0.5, 1.0, 'Au Concetration')"
            ]
          },
          "metadata": {
            "tags": []
          },
          "execution_count": 71
        },
        {
          "output_type": "display_data",
          "data": {
            "image/png": "[encoded data removed]",
            "text/plain": [
              "<Figure size 1080x360 with 1 Axes>"
            ]
          },
          "metadata": {
            "tags": []
          }
        }
      ]
    },
    {
      "cell_type": "code",
      "metadata": {
        "id": "veh6x0cWDUAi"
      },
      "source": [
        "data_pb = data_train[['rougher.input.feed_pb','primary_cleaner.output.concentrate_pb','rougher.output.concentrate_pb','final.output.concentrate_pb']]"
      ],
      "execution_count": 72,
      "outputs": []
    },
    {
      "cell_type": "code",
      "metadata": {
        "colab": {
          "base_uri": "https://localhost:8080/",
          "height": 355
        },
        "id": "RkRvPL1TDgJR",
        "outputId": "7cd15e94-cd58-44bf-c5b7-49b551e0b738"
      },
      "source": [
        "fig, ax3 = plt.subplots(1,figsize=(15,5))\n",
        "sns.histplot(data=data_pb,ax=ax3)\n",
        "ax3.set_title('Pb Concetration')\n"
      ],
      "execution_count": 73,
      "outputs": [
        {
          "output_type": "execute_result",
          "data": {
            "text/plain": [
              "Text(0.5, 1.0, 'Pb Concetration')"
            ]
          },
          "metadata": {
            "tags": []
          },
          "execution_count": 73
        },
        {
          "output_type": "display_data",
          "data": {
            "image/png": "[encoded data removed]",
            "text/plain": [
              "<Figure size 1080x360 with 1 Axes>"
            ]
          },
          "metadata": {
            "tags": []
          }
        }
      ]
    },
    {
      "cell_type": "markdown",
      "metadata": {
        "id": "KsYVifsCIGa7"
      },
      "source": [
        "1. Концентрация серербра Ag \n",
        "\n",
        "Уровень серебра заметно уменьшается после второй очистики. Среднее значение уменьшается. На графике видно как после каждого этапа график смещается в лево.\n",
        "2. Концентрация золота Au\n",
        "\n",
        "Гистограмма золота как и серебра показывает изменения. Средний показатель увеличился, от этого график значительно сместился вправо. Разброс значений уменьшился. Это говорит о том, что доля золота в концентрате увеличивается на каждом этапе процеса очистки.\n",
        "\n",
        "3. Свенец Pb\n",
        "Гистограмма сместилась вправо, разброс данных немного уменьшился. Но из-за того что график сдвинулся вправо, похоже, что доля свенца в концентрате увеличилась, вероятно это из-за технологии флотации.\n",
        "\n",
        "\n",
        "Еще на всех трех графиках есть пики на нулевых значениях. Это не похоже на истинные данные. Нулевые значения больше похожи на ошибки измерения или их отсутвие, возможно стоит от них мзбавится."
      ]
    },
    {
      "cell_type": "markdown",
      "metadata": {
        "id": "T7gPenvFAZFJ"
      },
      "source": [
        "<div class=\"alert alert-block alert-info\">\n",
        "<b>Совет: </b> Гистограммы получились неплохо, но я бы сделал из полупрозрачными: параметр \"alpha\".\n",
        "</div>"
      ]
    },
    {
      "cell_type": "markdown",
      "metadata": {
        "id": "oxNwgun6AZFK"
      },
      "source": [
        "<div class=\"alert alert-block alert-warning\">\n",
        "<b>Изменения:</b> Поигрался с прозрачностью, оставил в первом графике. В целом думаю надо цвета подобрать другие.\n",
        "</div>"
      ]
    },
    {
      "cell_type": "markdown",
      "metadata": {
        "id": "i0Cnlo2nrQe_"
      },
      "source": [
        "# 2.2 Сравнение размеров гранул сырья"
      ]
    },
    {
      "cell_type": "code",
      "metadata": {
        "colab": {
          "base_uri": "https://localhost:8080/",
          "height": 372
        },
        "id": "gpL5Fn-Cu-if",
        "outputId": "da6cff28-2dda-441f-cf7f-288f4364f6d5"
      },
      "source": [
        "fig, ax4 = plt.subplots(1,figsize=(15,5))\n",
        "sns.histplot(data_train['rougher.input.feed_size'],label='train',color='red',alpha=0.6)\n",
        "sns.histplot(data_test['rougher.input.feed_size'],label='test',color='green',alpha=0.6)\n",
        "ax4.set_title('deferent feed size train and test')\n",
        "ax4.legend()"
      ],
      "execution_count": 74,
      "outputs": [
        {
          "output_type": "execute_result",
          "data": {
            "text/plain": [
              "<matplotlib.legend.Legend at 0x7fdb27517c90>"
            ]
          },
          "metadata": {
            "tags": []
          },
          "execution_count": 74
        },
        {
          "output_type": "display_data",
          "data": {
            "image/png": "[encoded data removed]",
            "text/plain": [
              "<Figure size 1080x360 with 1 Axes>"
            ]
          },
          "metadata": {
            "tags": []
          }
        }
      ]
    },
    {
      "cell_type": "markdown",
      "metadata": {
        "id": "4wHnzR0yEAZ6"
      },
      "source": [
        "Распределение значения размера гранул  на обучающем и тестовом наборах данных схожи между собой"
      ]
    },
    {
      "cell_type": "markdown",
      "metadata": {
        "id": "Nda258kyFhX8"
      },
      "source": [
        "# 2.3. Исследования суммарной концентрации всех веществ на разных стадиях"
      ]
    },
    {
      "cell_type": "markdown",
      "metadata": {
        "id": "VITfpfACFuGC"
      },
      "source": [
        "У нас есть три стадии обработки сырья.\n",
        "\n",
        "\n",
        "1.   Первая стадия - обогощение, флотация. Итог - черновой концентрат\n",
        "2.   Вторая стадия - первый этап очистки. Итог - очищеный концентрат\n",
        "3.   Третья стадия - второй этап очистки. Итог - финальный концентрат \n",
        "\n",
        "Вычислим для каждой стадии суммарное значение и построим  гистограмму и боксплот.\n"
      ]
    },
    {
      "cell_type": "code",
      "metadata": {
        "id": "MGGXimDZHqsz"
      },
      "source": [
        "stage_concentration = pd.DataFrame(columns = ['input','rougher','primary','final'])"
      ],
      "execution_count": 75,
      "outputs": []
    },
    {
      "cell_type": "code",
      "metadata": {
        "id": "Sd64FabVtcxI"
      },
      "source": [
        "data_train['rougher_sum'] = data_train['rougher.output.concentrate_pb'] +\\\n",
        "                    data_train['rougher.output.concentrate_ag'] +\\\n",
        "                    data_train['rougher.output.concentrate_au'] +\\\n",
        "                    data_train['rougher.output.concentrate_sol']"
      ],
      "execution_count": 76,
      "outputs": []
    },
    {
      "cell_type": "code",
      "metadata": {
        "id": "0ydtz6NtHgSh"
      },
      "source": [
        "data_train['primary_sum'] = data_train['primary_cleaner.output.concentrate_pb'] +\\\n",
        "                    data_train['primary_cleaner.output.concentrate_ag'] +\\\n",
        "                    data_train['primary_cleaner.output.concentrate_au'] +\\\n",
        "                    data_train['primary_cleaner.output.concentrate_sol']"
      ],
      "execution_count": 77,
      "outputs": []
    },
    {
      "cell_type": "code",
      "metadata": {
        "id": "423QJYaDInqm"
      },
      "source": [
        "data_train['final_sum'] = data_train['final.output.concentrate_pb'] +\\\n",
        "                    data_train['final.output.concentrate_ag'] +\\\n",
        "                    data_train['final.output.concentrate_au'] +\\\n",
        "                    data_train['final.output.concentrate_sol']"
      ],
      "execution_count": 78,
      "outputs": []
    },
    {
      "cell_type": "code",
      "metadata": {
        "id": "0xIIUWNUJVhA"
      },
      "source": [
        "data_train['input_sum'] = data_train['rougher.input.feed_pb'] +\\\n",
        "                    data_train['rougher.input.feed_ag'] +\\\n",
        "                    data_train['rougher.input.feed_au'] +\\\n",
        "                    data_train['rougher.input.feed_sol']"
      ],
      "execution_count": 79,
      "outputs": []
    },
    {
      "cell_type": "code",
      "metadata": {
        "id": "xeYRPdT0Xvn9"
      },
      "source": [
        "stage_concentration = data_train.loc[:,['input_sum','rougher_sum','primary_sum','final_sum']]"
      ],
      "execution_count": 80,
      "outputs": []
    },
    {
      "cell_type": "code",
      "metadata": {
        "id": "GjC2KqBmMFfz",
        "colab": {
          "base_uri": "https://localhost:8080/",
          "height": 382
        },
        "outputId": "de71daee-44ff-4c2f-b670-a16c6180501f"
      },
      "source": [
        "sns.displot(data=stage_concentration, aspect=2, kde=True, alpha = 0.3)"
      ],
      "execution_count": 81,
      "outputs": [
        {
          "output_type": "execute_result",
          "data": {
            "text/plain": [
              "<seaborn.axisgrid.FacetGrid at 0x7fdb25f0ce90>"
            ]
          },
          "metadata": {
            "tags": []
          },
          "execution_count": 81
        },
        {
          "output_type": "display_data",
          "data": {
            "image/png": "[encoded data removed]",
            "text/plain": [
              "<Figure size 831.975x360 with 1 Axes>"
            ]
          },
          "metadata": {
            "tags": []
          }
        }
      ]
    },
    {
      "cell_type": "code",
      "metadata": {
        "colab": {
          "base_uri": "https://localhost:8080/",
          "height": 394
        },
        "id": "L9sG2jywNiUf",
        "outputId": "aab15e6c-9bd4-41e3-85a4-7bced6e24be4"
      },
      "source": [
        "sns.set(style=\"whitegrid\")\n",
        "plt.figure(figsize=(14,6))\n",
        "sns.boxplot(data=stage_concentration,width=0.5)"
      ],
      "execution_count": 82,
      "outputs": [
        {
          "output_type": "execute_result",
          "data": {
            "text/plain": [
              "<matplotlib.axes._subplots.AxesSubplot at 0x7fdb25efea50>"
            ]
          },
          "metadata": {
            "tags": []
          },
          "execution_count": 82
        },
        {
          "output_type": "display_data",
          "data": {
            "image/png": "[encoded data removed]",
            "text/plain": [
              "<Figure size 1008x432 with 1 Axes>"
            ]
          },
          "metadata": {
            "tags": []
          }
        }
      ]
    },
    {
      "cell_type": "markdown",
      "metadata": {
        "id": "SixV4HAmZZHJ"
      },
      "source": [
        "На графике очень хорошо видно \"свечку\" с нулевыми или близкими к 0 показателями, как следствие ошибок при занесении данных или их отсутсвии. Такие данны для нас бесполезны, придется удалить."
      ]
    },
    {
      "cell_type": "markdown",
      "metadata": {
        "id": "EwAMFoBziVil"
      },
      "source": [
        "Удалим все выбросы. Так как на каждом этапе происходит измерение результата этапа и внесение данных, некорректные значения будем удалять для каждого этапа. Порог будет 0.1, соответсвенно если на одном из этапов сумарное значение концентрата веществ меньше или равно 0.1 для нас это будет означать, что на данном этапе были внесены не корректные данные."
      ]
    },
    {
      "cell_type": "code",
      "metadata": {
        "id": "HCyqA70GJ7A1"
      },
      "source": [
        "data_train.drop(data_train.loc[data_train['rougher_sum'] <=0.1].index,inplace=True)\n",
        "data_train.drop(data_train.loc[data_train['primary_sum'] <= 0.1].index,inplace=True)\n",
        "data_train.drop(data_train.loc[data_train['final_sum'] <= 0.1].index,inplace=True)\n",
        "data_train.drop(data_train.loc[data_train['input_sum'] <= 0.1].index,inplace=True)"
      ],
      "execution_count": 83,
      "outputs": []
    },
    {
      "cell_type": "code",
      "metadata": {
        "colab": {
          "base_uri": "https://localhost:8080/"
        },
        "id": "yd4RHPAOmDYs",
        "outputId": "a23bc154-b047-4b9c-9d70-432582429d54"
      },
      "source": [
        "len(data_train)"
      ],
      "execution_count": 84,
      "outputs": [
        {
          "output_type": "execute_result",
          "data": {
            "text/plain": [
              "13602"
            ]
          },
          "metadata": {
            "tags": []
          },
          "execution_count": 84
        }
      ]
    },
    {
      "cell_type": "code",
      "metadata": {
        "colab": {
          "base_uri": "https://localhost:8080/"
        },
        "id": "2rFm83sEmNcY",
        "outputId": "799ba0c7-3d9a-4e01-c5db-2ffc91ad6095"
      },
      "source": [
        "(16860-14362)/16860"
      ],
      "execution_count": 85,
      "outputs": [
        {
          "output_type": "execute_result",
          "data": {
            "text/plain": [
              "0.14816132858837486"
            ]
          },
          "metadata": {
            "tags": []
          },
          "execution_count": 85
        }
      ]
    },
    {
      "cell_type": "code",
      "metadata": {
        "id": "rgSIYnqeTtSp"
      },
      "source": [
        "stage_concentration = data_train.loc[:,['input_sum','rougher_sum','primary_sum','final_sum']]"
      ],
      "execution_count": 86,
      "outputs": []
    },
    {
      "cell_type": "code",
      "metadata": {
        "colab": {
          "base_uri": "https://localhost:8080/",
          "height": 382
        },
        "id": "QaDlRS7jTg7F",
        "outputId": "d51320bd-bbc5-462a-a0f0-a2a53f2e15b9"
      },
      "source": [
        "sns.displot(data=stage_concentration, aspect=2, kde=True, alpha = 0.3)"
      ],
      "execution_count": 87,
      "outputs": [
        {
          "output_type": "execute_result",
          "data": {
            "text/plain": [
              "<seaborn.axisgrid.FacetGrid at 0x7fdb1c9e88d0>"
            ]
          },
          "metadata": {
            "tags": []
          },
          "execution_count": 87
        },
        {
          "output_type": "display_data",
          "data": {
            "image/png": "[encoded data removed]",
            "text/plain": [
              "<Figure size 831.975x360 with 1 Axes>"
            ]
          },
          "metadata": {
            "tags": []
          }
        }
      ]
    },
    {
      "cell_type": "markdown",
      "metadata": {
        "id": "HL6nWVbJPsSb"
      },
      "source": [
        "\n",
        "\n",
        "После удаление нулевых строк, выброс стал гораздо меньше, но и данных уже тоже меньше). Нам пришлось удалить 15 % данных\n"
      ]
    },
    {
      "cell_type": "markdown",
      "metadata": {
        "id": "Gu17124Mr0yD"
      },
      "source": [
        "# 3. Построение модели."
      ]
    },
    {
      "cell_type": "markdown",
      "metadata": {
        "id": "tZt5IAyRr6ho"
      },
      "source": [
        "Функция подсчета sMAPE.\n",
        "\n",
        "Для опеределения лучшей модели будем использовать эту функцию. Данная метрика покажет нам процент ошибок в предсказания модели. Идеальным показателем для модели бедт значение 0 "
      ]
    },
    {
      "cell_type": "code",
      "metadata": {
        "id": "mL269e6hlee8"
      },
      "source": [
        "def smape_final(p, t):\n",
        "     return 1/len(p) * (sum((2*abs(t - p))*100 / (abs(p) + abs(t))))"
      ],
      "execution_count": 88,
      "outputs": []
    },
    {
      "cell_type": "code",
      "metadata": {
        "id": "spfYtQmFr4q8"
      },
      "source": [
        "def smape(y_true,y_predict):\n",
        "  if len(y_true) != len(y_predict):\n",
        "    return \"разная длина массивов\"\n",
        "  \n",
        "  result_rougher = smape_final(y_true['rougher.output.recovery'],y_predict[:,0])\n",
        "  result_final = smape_final(y_true['final.output.recovery'],y_predict[:,1])\n",
        "  \n",
        "\n",
        "  result = (0.25*result_rougher + 0.75*result_final)\n",
        "  return result"
      ],
      "execution_count": 89,
      "outputs": []
    },
    {
      "cell_type": "markdown",
      "metadata": {
        "id": "GhKhgOgAr4Zm"
      },
      "source": [
        "# Подготовим наборы для обучения"
      ]
    },
    {
      "cell_type": "markdown",
      "metadata": {
        "id": "A1nG1nnucB2J"
      },
      "source": [
        ""
      ]
    },
    {
      "cell_type": "markdown",
      "metadata": {
        "id": "gpRvfdiGsJtV"
      },
      "source": [
        "\n",
        "\n",
        "1.   Для начала подгтовим тестовы набор данных, затем по нему определим признаки для тренировочного.\n",
        "\n",
        "\n",
        "\n"
      ]
    },
    {
      "cell_type": "code",
      "metadata": {
        "colab": {
          "base_uri": "https://localhost:8080/"
        },
        "id": "xAjYpHPkMvUM",
        "outputId": "4798dec1-c0b1-482e-8864-fcdb0acc4a18"
      },
      "source": [
        "data_train.isna().mean().nlargest(15)"
      ],
      "execution_count": 90,
      "outputs": [
        {
          "output_type": "execute_result",
          "data": {
            "text/plain": [
              "final.output.concentrate_ag              0.0\n",
              "final.output.concentrate_pb              0.0\n",
              "final.output.concentrate_sol             0.0\n",
              "final.output.concentrate_au              0.0\n",
              "final.output.recovery                    0.0\n",
              "final.output.tail_ag                     0.0\n",
              "final.output.tail_pb                     0.0\n",
              "final.output.tail_sol                    0.0\n",
              "final.output.tail_au                     0.0\n",
              "primary_cleaner.input.sulfate            0.0\n",
              "primary_cleaner.input.depressant         0.0\n",
              "primary_cleaner.input.feed_size          0.0\n",
              "primary_cleaner.input.xanthate           0.0\n",
              "primary_cleaner.output.concentrate_ag    0.0\n",
              "primary_cleaner.output.concentrate_pb    0.0\n",
              "dtype: float64"
            ]
          },
          "metadata": {
            "tags": []
          },
          "execution_count": 90
        }
      ]
    },
    {
      "cell_type": "code",
      "metadata": {
        "id": "kGG6yQG4uB_-"
      },
      "source": [
        "data_train = shuffle(data_train)"
      ],
      "execution_count": 91,
      "outputs": []
    },
    {
      "cell_type": "code",
      "metadata": {
        "id": "j8lRnJZNuOLI"
      },
      "source": [
        "data_test = shuffle(data_test)"
      ],
      "execution_count": 92,
      "outputs": []
    },
    {
      "cell_type": "code",
      "metadata": {
        "id": "5ERkMPCi4wyZ"
      },
      "source": [
        "x_test = data_test.drop(['rougher.output.recovery','final.output.recovery'],axis=1)\n",
        "y_test = data_test[['rougher.output.recovery','final.output.recovery']]"
      ],
      "execution_count": 93,
      "outputs": []
    },
    {
      "cell_type": "code",
      "metadata": {
        "id": "qpFl3D6ErTet"
      },
      "source": [
        "# подготовка тренеровочного набора.\n",
        "x_train = data_train[x_test.columns]\n",
        "y_train = data_train[['rougher.output.recovery','final.output.recovery']]"
      ],
      "execution_count": 94,
      "outputs": []
    },
    {
      "cell_type": "code",
      "metadata": {
        "colab": {
          "base_uri": "https://localhost:8080/"
        },
        "id": "WTNUEP3rtQRH",
        "outputId": "68d86b5e-ac70-4464-9102-37bbbe8f3437"
      },
      "source": [
        "len(y_train)"
      ],
      "execution_count": 95,
      "outputs": [
        {
          "output_type": "execute_result",
          "data": {
            "text/plain": [
              "13602"
            ]
          },
          "metadata": {
            "tags": []
          },
          "execution_count": 95
        }
      ]
    },
    {
      "cell_type": "markdown",
      "metadata": {
        "id": "WUKQKdA8dOce"
      },
      "source": [
        "Обучать будем три модели\n",
        "MultiOutputRegressor и RandomForestRegressor Treedesigen.\n",
        "\n",
        "\n"
      ]
    },
    {
      "cell_type": "markdown",
      "metadata": {
        "id": "zdxSa7Aq71CH"
      },
      "source": [
        "Линейная регрессия"
      ]
    },
    {
      "cell_type": "code",
      "metadata": {
        "colab": {
          "base_uri": "https://localhost:8080/"
        },
        "id": "JFxnCRPlv6LL",
        "outputId": "8f8f1131-56a5-42a4-9515-896bf0808e8b"
      },
      "source": [
        "lr  = MultiOutputRegressor(LinearRegression(normalize=True))\n",
        "lr.fit(x_train, y_train)"
      ],
      "execution_count": 96,
      "outputs": [
        {
          "output_type": "execute_result",
          "data": {
            "text/plain": [
              "MultiOutputRegressor(estimator=LinearRegression(copy_X=True, fit_intercept=True,\n",
              "                                                n_jobs=None, normalize=True),\n",
              "                     n_jobs=None)"
            ]
          },
          "metadata": {
            "tags": []
          },
          "execution_count": 96
        }
      ]
    },
    {
      "cell_type": "code",
      "metadata": {
        "id": "wp34HrYj4otn"
      },
      "source": [
        "predict_lr = lr.predict(x_train)"
      ],
      "execution_count": 97,
      "outputs": []
    },
    {
      "cell_type": "code",
      "metadata": {
        "colab": {
          "base_uri": "https://localhost:8080/"
        },
        "id": "o6FhkgE242Ue",
        "outputId": "1c66c8ae-f20f-42bc-ff1d-a9f1083806d3"
      },
      "source": [
        "smape(y_train,predict_lr)"
      ],
      "execution_count": 98,
      "outputs": [
        {
          "output_type": "execute_result",
          "data": {
            "text/plain": [
              "7.109426452709716"
            ]
          },
          "metadata": {
            "tags": []
          },
          "execution_count": 98
        }
      ]
    },
    {
      "cell_type": "markdown",
      "metadata": {
        "id": "6d3ywdhJ7nwg"
      },
      "source": [
        "Модель случайный лес"
      ]
    },
    {
      "cell_type": "code",
      "metadata": {
        "id": "SETS0e2RtyKt"
      },
      "source": [
        "gyperparams = [{'n_estimators': range(1,50,10),'max_depth': range(1,40,10)}]\n",
        "clf = RandomForestRegressor(random_state=12345)"
      ],
      "execution_count": 99,
      "outputs": []
    },
    {
      "cell_type": "code",
      "metadata": {
        "id": "X8nGZ6V6uPI0"
      },
      "source": [
        "#  так как наша задача минимизировать показатель smape, будем использовать параметр greater_is_better = False\n",
        "grid = GridSearchCV(clf,gyperparams,scoring=make_scorer(smape,greater_is_better=False),cv=3)"
      ],
      "execution_count": 100,
      "outputs": []
    },
    {
      "cell_type": "code",
      "metadata": {
        "colab": {
          "base_uri": "https://localhost:8080/"
        },
        "id": "RpY2ba4gvQus",
        "outputId": "48012d7c-8f8a-4af9-e9fc-169ba75f3a25"
      },
      "source": [
        "\n",
        "%time grid.fit(x_train,y_train)"
      ],
      "execution_count": 101,
      "outputs": [
        {
          "output_type": "stream",
          "text": [
            "CPU times: user 7min 38s, sys: 225 ms, total: 7min 38s\n",
            "Wall time: 7min 40s\n"
          ],
          "name": "stdout"
        },
        {
          "output_type": "execute_result",
          "data": {
            "text/plain": [
              "GridSearchCV(cv=3, error_score=nan,\n",
              "             estimator=RandomForestRegressor(bootstrap=True, ccp_alpha=0.0,\n",
              "                                             criterion='mse', max_depth=None,\n",
              "                                             max_features='auto',\n",
              "                                             max_leaf_nodes=None,\n",
              "                                             max_samples=None,\n",
              "                                             min_impurity_decrease=0.0,\n",
              "                                             min_impurity_split=None,\n",
              "                                             min_samples_leaf=1,\n",
              "                                             min_samples_split=2,\n",
              "                                             min_weight_fraction_leaf=0.0,\n",
              "                                             n_estimators=100, n_jobs=None,\n",
              "                                             oob_score=False,\n",
              "                                             random_state=12345, verbose=0,\n",
              "                                             warm_start=False),\n",
              "             iid='deprecated', n_jobs=None,\n",
              "             param_grid=[{'max_depth': range(1, 40, 10),\n",
              "                          'n_estimators': range(1, 50, 10)}],\n",
              "             pre_dispatch='2*n_jobs', refit=True, return_train_score=False,\n",
              "             scoring=make_scorer(smape, greater_is_better=False), verbose=0)"
            ]
          },
          "metadata": {
            "tags": []
          },
          "execution_count": 101
        }
      ]
    },
    {
      "cell_type": "code",
      "metadata": {
        "colab": {
          "base_uri": "https://localhost:8080/"
        },
        "id": "nEC9P78KraFd",
        "outputId": "6cca0e7b-ad31-4f5f-fecf-7f135a2463c5"
      },
      "source": [
        "grid.best_score_ *-1"
      ],
      "execution_count": 102,
      "outputs": [
        {
          "output_type": "execute_result",
          "data": {
            "text/plain": [
              "4.966047588776468"
            ]
          },
          "metadata": {
            "tags": []
          },
          "execution_count": 102
        }
      ]
    },
    {
      "cell_type": "code",
      "metadata": {
        "colab": {
          "base_uri": "https://localhost:8080/"
        },
        "id": "A_2ZPtxZruCG",
        "outputId": "c2381d18-5365-48c1-c63c-95d9cd4beb8d"
      },
      "source": [
        "grid.best_params_"
      ],
      "execution_count": 103,
      "outputs": [
        {
          "output_type": "execute_result",
          "data": {
            "text/plain": [
              "{'max_depth': 31, 'n_estimators': 41}"
            ]
          },
          "metadata": {
            "tags": []
          },
          "execution_count": 103
        }
      ]
    },
    {
      "cell_type": "markdown",
      "metadata": {
        "id": "J-PBNwSL7kF4"
      },
      "source": [
        "Модель решающее дерево"
      ]
    },
    {
      "cell_type": "code",
      "metadata": {
        "id": "HMfoOJdeLVA4"
      },
      "source": [
        "gyperparams_tr = [{'max_depth': range(1,40,10)}]\n",
        "tr = RandomForestRegressor(random_state=12345)"
      ],
      "execution_count": 104,
      "outputs": []
    },
    {
      "cell_type": "code",
      "metadata": {
        "id": "CjYN1U60Ljzt"
      },
      "source": [
        "grid_tr = GridSearchCV(tr, gyperparams_tr, scoring=make_scorer(smape,greater_is_better=False),cv=3)"
      ],
      "execution_count": 105,
      "outputs": []
    },
    {
      "cell_type": "code",
      "metadata": {
        "colab": {
          "base_uri": "https://localhost:8080/"
        },
        "id": "x5hxKqRCLlEY",
        "outputId": "0bb5061e-e438-40ca-a929-fea74b947bb0"
      },
      "source": [
        "import warnings\n",
        "warnings.simplefilter(action='ignore', category=FutureWarning)\n",
        "%time grid_tr.fit(x_train,y_train)"
      ],
      "execution_count": 106,
      "outputs": [
        {
          "output_type": "stream",
          "text": [
            "CPU times: user 8min 3s, sys: 331 ms, total: 8min 3s\n",
            "Wall time: 8min 6s\n"
          ],
          "name": "stdout"
        },
        {
          "output_type": "execute_result",
          "data": {
            "text/plain": [
              "GridSearchCV(cv=3, error_score=nan,\n",
              "             estimator=RandomForestRegressor(bootstrap=True, ccp_alpha=0.0,\n",
              "                                             criterion='mse', max_depth=None,\n",
              "                                             max_features='auto',\n",
              "                                             max_leaf_nodes=None,\n",
              "                                             max_samples=None,\n",
              "                                             min_impurity_decrease=0.0,\n",
              "                                             min_impurity_split=None,\n",
              "                                             min_samples_leaf=1,\n",
              "                                             min_samples_split=2,\n",
              "                                             min_weight_fraction_leaf=0.0,\n",
              "                                             n_estimators=100, n_jobs=None,\n",
              "                                             oob_score=False,\n",
              "                                             random_state=12345, verbose=0,\n",
              "                                             warm_start=False),\n",
              "             iid='deprecated', n_jobs=None,\n",
              "             param_grid=[{'max_depth': range(1, 40, 10)}],\n",
              "             pre_dispatch='2*n_jobs', refit=True, return_train_score=False,\n",
              "             scoring=make_scorer(smape, greater_is_better=False), verbose=0)"
            ]
          },
          "metadata": {
            "tags": []
          },
          "execution_count": 106
        }
      ]
    },
    {
      "cell_type": "code",
      "metadata": {
        "colab": {
          "base_uri": "https://localhost:8080/"
        },
        "id": "tqIM651TLqHu",
        "outputId": "3c6406bc-d749-4576-c459-7a6173d2f0bd"
      },
      "source": [
        "grid_tr.best_score_ *-1"
      ],
      "execution_count": 107,
      "outputs": [
        {
          "output_type": "execute_result",
          "data": {
            "text/plain": [
              "4.890377278718824"
            ]
          },
          "metadata": {
            "tags": []
          },
          "execution_count": 107
        }
      ]
    },
    {
      "cell_type": "code",
      "metadata": {
        "colab": {
          "base_uri": "https://localhost:8080/"
        },
        "id": "HWlZjcqHNlTw",
        "outputId": "63b3b48b-2353-4f0f-d9e9-b3d8f0d107a4"
      },
      "source": [
        "grid_tr.best_params_"
      ],
      "execution_count": 108,
      "outputs": [
        {
          "output_type": "execute_result",
          "data": {
            "text/plain": [
              "{'max_depth': 31}"
            ]
          },
          "metadata": {
            "tags": []
          },
          "execution_count": 108
        }
      ]
    },
    {
      "cell_type": "markdown",
      "metadata": {
        "id": "Knz2M4AP8Doc"
      },
      "source": [
        "Лучше всего показатель оказался у модели решабщего дерева и случайного леса. Несмотря на то что они трицательные.\n",
        "\n",
        "Проверим эти модели с полученными параметрами на тестовой выборке."
      ]
    },
    {
      "cell_type": "markdown",
      "metadata": {
        "id": "pKLatzxPTURe"
      },
      "source": [
        "Случайнй лес"
      ]
    },
    {
      "cell_type": "code",
      "metadata": {
        "id": "c9OtEX7uhSRV"
      },
      "source": [
        "model_rf = RandomForestRegressor(n_estimators=41,max_depth=31,random_state=12345)"
      ],
      "execution_count": 109,
      "outputs": []
    },
    {
      "cell_type": "code",
      "metadata": {
        "colab": {
          "base_uri": "https://localhost:8080/"
        },
        "id": "55y1bbhuhy3x",
        "outputId": "9cac7a7f-ca11-4bc7-8f27-87e9a8431fef"
      },
      "source": [
        "model_rf.fit(x_train,y_train)"
      ],
      "execution_count": 110,
      "outputs": [
        {
          "output_type": "execute_result",
          "data": {
            "text/plain": [
              "RandomForestRegressor(bootstrap=True, ccp_alpha=0.0, criterion='mse',\n",
              "                      max_depth=31, max_features='auto', max_leaf_nodes=None,\n",
              "                      max_samples=None, min_impurity_decrease=0.0,\n",
              "                      min_impurity_split=None, min_samples_leaf=1,\n",
              "                      min_samples_split=2, min_weight_fraction_leaf=0.0,\n",
              "                      n_estimators=41, n_jobs=None, oob_score=False,\n",
              "                      random_state=12345, verbose=0, warm_start=False)"
            ]
          },
          "metadata": {
            "tags": []
          },
          "execution_count": 110
        }
      ]
    },
    {
      "cell_type": "code",
      "metadata": {
        "id": "fdnqS-69ekBQ"
      },
      "source": [
        "predicted_rf = model_rf.predict(x_test)"
      ],
      "execution_count": 111,
      "outputs": []
    },
    {
      "cell_type": "code",
      "metadata": {
        "colab": {
          "base_uri": "https://localhost:8080/"
        },
        "id": "imNZDmK1jI0z",
        "outputId": "f9c4c330-025a-4fcd-f40f-9cb2fd1ce0a0"
      },
      "source": [
        "smape(y_test, predicted_rf)"
      ],
      "execution_count": 112,
      "outputs": [
        {
          "output_type": "execute_result",
          "data": {
            "text/plain": [
              "9.91654118052967"
            ]
          },
          "metadata": {
            "tags": []
          },
          "execution_count": 112
        }
      ]
    },
    {
      "cell_type": "markdown",
      "metadata": {
        "id": "_w9zKDGjTg_j"
      },
      "source": [
        "Решающее дерево"
      ]
    },
    {
      "cell_type": "code",
      "metadata": {
        "id": "2uzE_rwukXd2"
      },
      "source": [
        "model_tr = DecisionTreeRegressor(max_depth=31, random_state=12345)"
      ],
      "execution_count": 117,
      "outputs": []
    },
    {
      "cell_type": "code",
      "metadata": {
        "colab": {
          "base_uri": "https://localhost:8080/"
        },
        "id": "utAPQnchTu36",
        "outputId": "69d71be5-dc88-4c78-c974-ab4615e4bbcf"
      },
      "source": [
        "model_tr.fit(x_train, y_train)"
      ],
      "execution_count": 118,
      "outputs": [
        {
          "output_type": "execute_result",
          "data": {
            "text/plain": [
              "DecisionTreeRegressor(ccp_alpha=0.0, criterion='mse', max_depth=31,\n",
              "                      max_features=None, max_leaf_nodes=None,\n",
              "                      min_impurity_decrease=0.0, min_impurity_split=None,\n",
              "                      min_samples_leaf=1, min_samples_split=2,\n",
              "                      min_weight_fraction_leaf=0.0, presort='deprecated',\n",
              "                      random_state=12345, splitter='best')"
            ]
          },
          "metadata": {
            "tags": []
          },
          "execution_count": 118
        }
      ]
    },
    {
      "cell_type": "code",
      "metadata": {
        "id": "SUwyH9p-Tz2D"
      },
      "source": [
        "predicted_tr = model_tr.predict(x_test)"
      ],
      "execution_count": 119,
      "outputs": []
    },
    {
      "cell_type": "code",
      "metadata": {
        "colab": {
          "base_uri": "https://localhost:8080/"
        },
        "id": "kdY3knqHT8Rn",
        "outputId": "f7fc2f45-9572-4bb1-db55-8c66dc7b5055"
      },
      "source": [
        "smape(y_test, predicted_tr)"
      ],
      "execution_count": 120,
      "outputs": [
        {
          "output_type": "execute_result",
          "data": {
            "text/plain": [
              "20.785910300310384"
            ]
          },
          "metadata": {
            "tags": []
          },
          "execution_count": 120
        }
      ]
    },
    {
      "cell_type": "markdown",
      "metadata": {
        "id": "kHTFdylC9G6S"
      },
      "source": [
        "# Итог\n",
        "Модели обучены, предсказания получены, эффетивность обогощения расчитана расчитана.\n",
        "\n",
        "Полученный набор данных был с множеством неточностей, большим колличеством пропусков на разных этапах процесса очистки. В дальнейшем для улучшения модели необходимо более тчательно подходить к процессу измерения на всех стадиях обработки сырья.\n",
        "Для обучения модели нам пришлось избавится от 15% процентов данных. \n",
        "\n",
        "Тестировались три модели Линейная регрессия, случайный лес и дерево решений.\n",
        "Для моделей решабщее дерево и случайный лес подбор параметров производился с помощью gridsearchCV и кросс-валидации с 3-мя наборами.\n",
        "По итогам была выбраны две лучшие модели Случайный лес и решающее дерево, на тестовой выборке лучший показатель у модели решающее дерево, отклонение 10 %\n",
        "\n",
        "\n",
        "\n"
      ]
    },
    {
      "cell_type": "code",
      "metadata": {
        "id": "A3db6qylAZFV"
      },
      "source": [
        ""
      ],
      "execution_count": 116,
      "outputs": []
    }
  ]
}