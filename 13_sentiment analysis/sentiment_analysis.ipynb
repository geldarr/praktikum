{
  "nbformat": 4,
  "nbformat_minor": 0,
  "metadata": {
    "kernelspec": {
      "display_name": "Python 3",
      "language": "python",
      "name": "python3"
    },
    "language_info": {
      "codemirror_mode": {
        "name": "ipython",
        "version": 3
      },
      "file_extension": ".py",
      "mimetype": "text/x-python",
      "name": "python",
      "nbconvert_exporter": "python",
      "pygments_lexer": "ipython3",
      "version": "3.7.8"
    },
    "toc": {
      "base_numbering": 1,
      "nav_menu": {
        "height": "275.994px",
        "width": "335px"
      },
      "number_sections": true,
      "sideBar": true,
      "skip_h1_title": false,
      "title_cell": "Table of Contents",
      "title_sidebar": "Contents",
      "toc_cell": false,
      "toc_position": {},
      "toc_section_display": true,
      "toc_window_display": false
    },
    "colab": {
      "name": "sentiment analysis.ipynb",
      "provenance": [],
      "toc_visible": true
    }
  },
  "cells": [
    {
      "cell_type": "markdown",
      "metadata": {
        "id": "vhg3huT7xFDZ"
      },
      "source": [
        "# Проект для «Викишоп»\n",
        "\n",
        "Интернет-магазин «Викишоп» запускает новый сервис. Теперь пользователи могут редактировать и дополнять описания товаров, как в вики-сообществах. То есть клиенты предлагают свои правки и комментируют изменения других. Магазину нужен инструмент, который будет искать токсичные комментарии и отправлять их на модерацию. \n",
        "\n",
        "Обучите модель классифицировать комментарии на позитивные и негативные. В вашем распоряжении набор данных с разметкой о токсичности правок.\n",
        "\n",
        "Постройте модель со значением метрики качества *F1* не меньше 0.75. \n",
        "\n",
        "**Инструкция по выполнению проекта**\n",
        "\n",
        "1. Загрузите и подготовьте данные.\n",
        "2. Обучите разные модели. \n",
        "3. Сделайте выводы.\n",
        "\n",
        "\n",
        "\n",
        "**Описание данных**\n",
        "\n",
        "Данные находятся в файле `toxic_comments.csv`. Столбец *text* в нём содержит текст комментария, а *toxic* — целевой признак."
      ]
    },
    {
      "cell_type": "markdown",
      "metadata": {
        "id": "BZrvuPDCxFDa"
      },
      "source": [
        "### Постановка задачи и выяснение общей картины\n",
        "1. **Цель**:   Повышение продаж, за счет внедрения нового сервиса, позволив пользователям редактировать комментарии и описание к товарам. Сделав описание товаров более информативным для потенциальных покупателей.\n",
        "    \n",
        "    **Ожидаемый эффект** от внедрения нашего решения - снижение нагрузки на модераторов, за счет автоматизации проверки на токсичность комментариев пользователей. \n",
        "2. **Применение:** Наше решение на вход будет принимать массив или  строку для классификации ее на токсичность. Полная схема взаимодействия с дргуими сервисами проекта не предоставлена. \n",
        "3. **Текущее решение:** Данные отсутсвуют\n",
        "4. **Задача:** Тип задачи - классификация. Данные уже размечены, поэтому будетм использовать обучение с учителем. \n",
        "5. **Производительность:** Критериии производительности отсутсвуют\n",
        "6. **Оценка:** В качестве оценки работы моделей будет использоваться F1 мера.\n",
        "7. **Предположения:** стоит учесть тот факт, что пропуск токсичного коментария несет потенциальные финансовые и репутационные потери. \n",
        "\n",
        "\n"
      ]
    },
    {
      "cell_type": "markdown",
      "metadata": {
        "id": "XH2yY12xxFDb"
      },
      "source": [
        "### План работ\n",
        "1. Анализ данных\n",
        "2. Очистка данных от служебных символов и знаков препинания\n",
        "3. Лемматизация данных\n",
        "4. Подготовка датасетов для обучения и проверки моделей\n",
        "5. Выбрать наилучшую модель для дальнейшего анализа\n",
        "6. Проверка модели на тестовом наборе"
      ]
    },
    {
      "cell_type": "markdown",
      "metadata": {
        "id": "DjYXiS5FxFDb"
      },
      "source": [
        "## Подготовка"
      ]
    },
    {
      "cell_type": "markdown",
      "metadata": {
        "id": "xv5wpGXYxFDb"
      },
      "source": [
        "#### Анализ данных"
      ]
    },
    {
      "cell_type": "code",
      "metadata": {
        "colab": {
          "base_uri": "https://localhost:8080/"
        },
        "id": "pV3LmZZ1x1cC",
        "outputId": "ecea85eb-7c33-4039-d5f1-76374414d9ac"
      },
      "source": [
        "from google.colab import drive\n",
        "drive.mount('/content/drive')"
      ],
      "execution_count": 30,
      "outputs": [
        {
          "output_type": "stream",
          "text": [
            "Drive already mounted at /content/drive; to attempt to forcibly remount, call drive.mount(\"/content/drive\", force_remount=True).\n"
          ],
          "name": "stdout"
        }
      ]
    },
    {
      "cell_type": "code",
      "metadata": {
        "id": "ED5KYHFQyAuy"
      },
      "source": [
        ""
      ],
      "execution_count": 30,
      "outputs": []
    },
    {
      "cell_type": "code",
      "metadata": {
        "colab": {
          "base_uri": "https://localhost:8080/"
        },
        "id": "Qcitpo84xFDc",
        "outputId": "fccc6e33-bc4c-47a4-f274-f4781573e62a"
      },
      "source": [
        "import pandas as pd\n",
        "import numpy as np\n",
        "from random import shuffle\n",
        "import re\n",
        "from nltk.stem import WordNetLemmatizer\n",
        "import spacy\n",
        "from sklearn.tree import DecisionTreeClassifier\n",
        "from sklearn.pipeline import Pipeline\n",
        "from sklearn.ensemble import RandomForestClassifier\n",
        "from sklearn.model_selection import train_test_split, GridSearchCV, TimeSeriesSplit\n",
        "import nltk\n",
        "from nltk.corpus import stopwords as nltk_stopwords\n",
        "from sklearn.feature_extraction.text import TfidfVectorizer\n",
        "from sklearn.linear_model import LogisticRegression\n",
        "from sklearn.metrics import f1_score\n",
        "import matplotlib.pyplot as plt\n",
        "from sklearn.metrics import precision_recall_curve\n",
        "import time\n",
        "nltk.download('stopwords')\n",
        "stopwords = set(nltk_stopwords.words('english'))"
      ],
      "execution_count": 31,
      "outputs": [
        {
          "output_type": "stream",
          "text": [
            "[nltk_data] Downloading package stopwords to /root/nltk_data...\n",
            "[nltk_data]   Package stopwords is already up-to-date!\n"
          ],
          "name": "stdout"
        }
      ]
    },
    {
      "cell_type": "markdown",
      "metadata": {
        "id": "_zdCNonlxFDc"
      },
      "source": [
        "<div class=\"alert alert-block alert-success\">\n",
        "<b>Успех:</b> Отлично, что все импорты собраны в первой ячейке ноутбука! Если у того, кто будет запускать твой ноутбук будут отсутствовать некоторые библиотеки, то он это увидит сразу, а не в процессе!\n",
        "</div>"
      ]
    },
    {
      "cell_type": "code",
      "metadata": {
        "id": "PVIJqrI3xFDd"
      },
      "source": [
        "df = pd.read_csv('/content/drive/MyDrive/Colab Notebooks/Shad/toxic/toxic_comments.csv')"
      ],
      "execution_count": 32,
      "outputs": []
    },
    {
      "cell_type": "code",
      "metadata": {
        "colab": {
          "base_uri": "https://localhost:8080/"
        },
        "id": "bmHK52kgxFDd",
        "outputId": "509f0f74-9e8b-41b7-e5a1-e71fae072437"
      },
      "source": [
        "df.shape"
      ],
      "execution_count": 33,
      "outputs": [
        {
          "output_type": "execute_result",
          "data": {
            "text/plain": [
              "(159571, 2)"
            ]
          },
          "metadata": {
            "tags": []
          },
          "execution_count": 33
        }
      ]
    },
    {
      "cell_type": "code",
      "metadata": {
        "colab": {
          "base_uri": "https://localhost:8080/",
          "height": 204
        },
        "id": "USlX0hgJxFDd",
        "outputId": "74fe66af-8b28-44a3-cd37-4a25c15c9b79"
      },
      "source": [
        "df.head(5)"
      ],
      "execution_count": 34,
      "outputs": [
        {
          "output_type": "execute_result",
          "data": {
            "text/html": [
              "<div>\n",
              "<style scoped>\n",
              "    .dataframe tbody tr th:only-of-type {\n",
              "        vertical-align: middle;\n",
              "    }\n",
              "\n",
              "    .dataframe tbody tr th {\n",
              "        vertical-align: top;\n",
              "    }\n",
              "\n",
              "    .dataframe thead th {\n",
              "        text-align: right;\n",
              "    }\n",
              "</style>\n",
              "<table border=\"1\" class=\"dataframe\">\n",
              "  <thead>\n",
              "    <tr style=\"text-align: right;\">\n",
              "      <th></th>\n",
              "      <th>text</th>\n",
              "      <th>toxic</th>\n",
              "    </tr>\n",
              "  </thead>\n",
              "  <tbody>\n",
              "    <tr>\n",
              "      <th>0</th>\n",
              "      <td>Explanation\\nWhy the edits made under my usern...</td>\n",
              "      <td>0</td>\n",
              "    </tr>\n",
              "    <tr>\n",
              "      <th>1</th>\n",
              "      <td>D'aww! He matches this background colour I'm s...</td>\n",
              "      <td>0</td>\n",
              "    </tr>\n",
              "    <tr>\n",
              "      <th>2</th>\n",
              "      <td>Hey man, I'm really not trying to edit war. It...</td>\n",
              "      <td>0</td>\n",
              "    </tr>\n",
              "    <tr>\n",
              "      <th>3</th>\n",
              "      <td>\"\\nMore\\nI can't make any real suggestions on ...</td>\n",
              "      <td>0</td>\n",
              "    </tr>\n",
              "    <tr>\n",
              "      <th>4</th>\n",
              "      <td>You, sir, are my hero. Any chance you remember...</td>\n",
              "      <td>0</td>\n",
              "    </tr>\n",
              "  </tbody>\n",
              "</table>\n",
              "</div>"
            ],
            "text/plain": [
              "                                                text  toxic\n",
              "0  Explanation\\nWhy the edits made under my usern...      0\n",
              "1  D'aww! He matches this background colour I'm s...      0\n",
              "2  Hey man, I'm really not trying to edit war. It...      0\n",
              "3  \"\\nMore\\nI can't make any real suggestions on ...      0\n",
              "4  You, sir, are my hero. Any chance you remember...      0"
            ]
          },
          "metadata": {
            "tags": []
          },
          "execution_count": 34
        }
      ]
    },
    {
      "cell_type": "code",
      "metadata": {
        "colab": {
          "base_uri": "https://localhost:8080/"
        },
        "id": "vISoiPuhxFDe",
        "outputId": "6ebeab01-63d8-4b17-cd25-2b74352a83c6"
      },
      "source": [
        "df.isnull().mean()"
      ],
      "execution_count": 35,
      "outputs": [
        {
          "output_type": "execute_result",
          "data": {
            "text/plain": [
              "text     0.0\n",
              "toxic    0.0\n",
              "dtype: float64"
            ]
          },
          "metadata": {
            "tags": []
          },
          "execution_count": 35
        }
      ]
    },
    {
      "cell_type": "code",
      "metadata": {
        "colab": {
          "base_uri": "https://localhost:8080/"
        },
        "id": "5iRC1MTUxFDe",
        "outputId": "362a740f-fdd9-4627-f0ae-6bf0f4850dd6"
      },
      "source": [
        "(df['toxic'] == 0).mean()"
      ],
      "execution_count": 36,
      "outputs": [
        {
          "output_type": "execute_result",
          "data": {
            "text/plain": [
              "0.8983211235124177"
            ]
          },
          "metadata": {
            "tags": []
          },
          "execution_count": 36
        }
      ]
    },
    {
      "cell_type": "code",
      "metadata": {
        "colab": {
          "base_uri": "https://localhost:8080/"
        },
        "id": "UjB8N56VxFDe",
        "outputId": "e7d11952-55b3-4f78-f130-a064e66c7d57"
      },
      "source": [
        "(df['toxic'] == 1).mean()"
      ],
      "execution_count": 37,
      "outputs": [
        {
          "output_type": "execute_result",
          "data": {
            "text/plain": [
              "0.10167887648758234"
            ]
          },
          "metadata": {
            "tags": []
          },
          "execution_count": 37
        }
      ]
    },
    {
      "cell_type": "markdown",
      "metadata": {
        "id": "IvI7lMpYxFDf"
      },
      "source": [
        "Есть дисбаланс классов"
      ]
    },
    {
      "cell_type": "markdown",
      "metadata": {
        "id": "kXa8SOwlxFDf"
      },
      "source": [
        "#### Очистка и лемматизация"
      ]
    },
    {
      "cell_type": "code",
      "metadata": {
        "id": "pcGC-WIixFDf"
      },
      "source": [
        "nlp =  spacy.load(\"en_core_web_sm\", disable=[\"tagger\", \"parser\", \"ner\"])"
      ],
      "execution_count": 38,
      "outputs": []
    },
    {
      "cell_type": "code",
      "metadata": {
        "id": "pj9QEhMexFDg"
      },
      "source": [
        "def lemmatize(text):\n",
        "    doc = nlp(text)\n",
        "    lemm_text = \" \".join([token.lemma_ if token.lemma_ !='-PRON-' else token.text for token in doc])      \n",
        "    return lemm_text"
      ],
      "execution_count": 39,
      "outputs": []
    },
    {
      "cell_type": "code",
      "metadata": {
        "id": "Ys-UenwPxFDg"
      },
      "source": [
        "def clear_txt(text):\n",
        "    return (\" \".join(re.sub(r'[^a-zA-Z\\']', ' ', text).lower().split()))"
      ],
      "execution_count": 40,
      "outputs": []
    },
    {
      "cell_type": "markdown",
      "metadata": {
        "id": "_a_yuwc6xFDg"
      },
      "source": [
        "<div class=\"alert alert-block alert-success\">\n",
        "<b>Успех:</b> Лемматизация и очистка определена корректно.\n",
        "</div>"
      ]
    },
    {
      "cell_type": "code",
      "metadata": {
        "colab": {
          "base_uri": "https://localhost:8080/"
        },
        "id": "8S43JT-DxFDg",
        "outputId": "55d0c26e-fc5c-4ca4-8fe4-ccade5e2e8fc"
      },
      "source": [
        "%%time\n",
        "df['lemma_text'] = df['text'].apply(lambda x: lemmatize(clear_txt(x)))\n"
      ],
      "execution_count": 41,
      "outputs": [
        {
          "output_type": "stream",
          "text": [
            "CPU times: user 1min 43s, sys: 90.4 ms, total: 1min 43s\n",
            "Wall time: 1min 43s\n"
          ],
          "name": "stdout"
        }
      ]
    },
    {
      "cell_type": "code",
      "metadata": {
        "colab": {
          "base_uri": "https://localhost:8080/",
          "height": 419
        },
        "id": "YwKayX_AxFDi",
        "outputId": "47a4811e-0160-4395-c658-4116966cc9ea"
      },
      "source": [
        "df"
      ],
      "execution_count": 42,
      "outputs": [
        {
          "output_type": "execute_result",
          "data": {
            "text/html": [
              "<div>\n",
              "<style scoped>\n",
              "    .dataframe tbody tr th:only-of-type {\n",
              "        vertical-align: middle;\n",
              "    }\n",
              "\n",
              "    .dataframe tbody tr th {\n",
              "        vertical-align: top;\n",
              "    }\n",
              "\n",
              "    .dataframe thead th {\n",
              "        text-align: right;\n",
              "    }\n",
              "</style>\n",
              "<table border=\"1\" class=\"dataframe\">\n",
              "  <thead>\n",
              "    <tr style=\"text-align: right;\">\n",
              "      <th></th>\n",
              "      <th>text</th>\n",
              "      <th>toxic</th>\n",
              "      <th>lemma_text</th>\n",
              "    </tr>\n",
              "  </thead>\n",
              "  <tbody>\n",
              "    <tr>\n",
              "      <th>0</th>\n",
              "      <td>Explanation\\nWhy the edits made under my usern...</td>\n",
              "      <td>0</td>\n",
              "      <td>explanation why the edit make under my usernam...</td>\n",
              "    </tr>\n",
              "    <tr>\n",
              "      <th>1</th>\n",
              "      <td>D'aww! He matches this background colour I'm s...</td>\n",
              "      <td>0</td>\n",
              "      <td>d'aww he match this background colour i be see...</td>\n",
              "    </tr>\n",
              "    <tr>\n",
              "      <th>2</th>\n",
              "      <td>Hey man, I'm really not trying to edit war. It...</td>\n",
              "      <td>0</td>\n",
              "      <td>hey man i be really not try to edit war it hav...</td>\n",
              "    </tr>\n",
              "    <tr>\n",
              "      <th>3</th>\n",
              "      <td>\"\\nMore\\nI can't make any real suggestions on ...</td>\n",
              "      <td>0</td>\n",
              "      <td>much i can not make any real suggestion on imp...</td>\n",
              "    </tr>\n",
              "    <tr>\n",
              "      <th>4</th>\n",
              "      <td>You, sir, are my hero. Any chance you remember...</td>\n",
              "      <td>0</td>\n",
              "      <td>you sir be my hero any chance you remember wha...</td>\n",
              "    </tr>\n",
              "    <tr>\n",
              "      <th>...</th>\n",
              "      <td>...</td>\n",
              "      <td>...</td>\n",
              "      <td>...</td>\n",
              "    </tr>\n",
              "    <tr>\n",
              "      <th>159566</th>\n",
              "      <td>\":::::And for the second time of asking, when ...</td>\n",
              "      <td>0</td>\n",
              "      <td>and for the 2 time of ask when your view compl...</td>\n",
              "    </tr>\n",
              "    <tr>\n",
              "      <th>159567</th>\n",
              "      <td>You should be ashamed of yourself \\n\\nThat is ...</td>\n",
              "      <td>0</td>\n",
              "      <td>you should be ashamed of yourself that be a ho...</td>\n",
              "    </tr>\n",
              "    <tr>\n",
              "      <th>159568</th>\n",
              "      <td>Spitzer \\n\\nUmm, theres no actual article for ...</td>\n",
              "      <td>0</td>\n",
              "      <td>spitzer umm there s no actual article for pros...</td>\n",
              "    </tr>\n",
              "    <tr>\n",
              "      <th>159569</th>\n",
              "      <td>And it looks like it was actually you who put ...</td>\n",
              "      <td>0</td>\n",
              "      <td>and it look like it be actually you who put on...</td>\n",
              "    </tr>\n",
              "    <tr>\n",
              "      <th>159570</th>\n",
              "      <td>\"\\nAnd ... I really don't think you understand...</td>\n",
              "      <td>0</td>\n",
              "      <td>and i really do not think you understand i com...</td>\n",
              "    </tr>\n",
              "  </tbody>\n",
              "</table>\n",
              "<p>159571 rows × 3 columns</p>\n",
              "</div>"
            ],
            "text/plain": [
              "                                                     text  ...                                         lemma_text\n",
              "0       Explanation\\nWhy the edits made under my usern...  ...  explanation why the edit make under my usernam...\n",
              "1       D'aww! He matches this background colour I'm s...  ...  d'aww he match this background colour i be see...\n",
              "2       Hey man, I'm really not trying to edit war. It...  ...  hey man i be really not try to edit war it hav...\n",
              "3       \"\\nMore\\nI can't make any real suggestions on ...  ...  much i can not make any real suggestion on imp...\n",
              "4       You, sir, are my hero. Any chance you remember...  ...  you sir be my hero any chance you remember wha...\n",
              "...                                                   ...  ...                                                ...\n",
              "159566  \":::::And for the second time of asking, when ...  ...  and for the 2 time of ask when your view compl...\n",
              "159567  You should be ashamed of yourself \\n\\nThat is ...  ...  you should be ashamed of yourself that be a ho...\n",
              "159568  Spitzer \\n\\nUmm, theres no actual article for ...  ...  spitzer umm there s no actual article for pros...\n",
              "159569  And it looks like it was actually you who put ...  ...  and it look like it be actually you who put on...\n",
              "159570  \"\\nAnd ... I really don't think you understand...  ...  and i really do not think you understand i com...\n",
              "\n",
              "[159571 rows x 3 columns]"
            ]
          },
          "metadata": {
            "tags": []
          },
          "execution_count": 42
        }
      ]
    },
    {
      "cell_type": "markdown",
      "metadata": {
        "id": "ev69jYGIxFDi"
      },
      "source": [
        "#### Разбивка датасета"
      ]
    },
    {
      "cell_type": "code",
      "metadata": {
        "id": "QT4CbngExFDi"
      },
      "source": [
        "X_train, X_test, y_train, y_test = train_test_split(df['lemma_text'], df['toxic'], test_size = 0.3, random_state = 42)"
      ],
      "execution_count": 43,
      "outputs": []
    },
    {
      "cell_type": "code",
      "metadata": {
        "id": "1BmpVbeyxFDi"
      },
      "source": [
        "#X_train, X_valid, y_train, y_valid = train_test_split(X_temporary, y_temporary, test_size=0.2,random_state = 42)"
      ],
      "execution_count": 44,
      "outputs": []
    },
    {
      "cell_type": "markdown",
      "metadata": {
        "id": "cCtlpQjrxFDj"
      },
      "source": [
        "## Обучение"
      ]
    },
    {
      "cell_type": "markdown",
      "metadata": {
        "id": "-3gYeTOexFDj"
      },
      "source": [
        "#### Подготовка Pipeline"
      ]
    },
    {
      "cell_type": "code",
      "metadata": {
        "id": "46P6n7SIxFDj"
      },
      "source": [
        "pipe_fit = Pipeline(steps = [\n",
        "                             ('tfidf', TfidfVectorizer(stop_words=stopwords)),\n",
        "                             ('model', LogisticRegression(random_state=42))\n",
        "                            ])"
      ],
      "execution_count": 45,
      "outputs": []
    },
    {
      "cell_type": "code",
      "metadata": {
        "id": "PBq2zvVBxFDj"
      },
      "source": [
        "params = [\n",
        "          {\n",
        "              'model': [LogisticRegression(random_state=42,max_iter=1000)],\n",
        "              'tfidf__ngram_range': [(1,1), (2, 2)]    \n",
        "          },\n",
        "\n",
        "          {\n",
        "              'model': [DecisionTreeClassifier(random_state=42)],\n",
        "              'model__max_depth': [10, 20],\n",
        "              'tfidf__ngram_range': [(1,1), (2, 2)] \n",
        "          },\n",
        "\n",
        "          {\n",
        "              'model': [RandomForestClassifier(random_state=42)],\n",
        "              'model__n_estimators': [10, 20],\n",
        "              'tfidf__ngram_range': [(1,1), (2, 2)] \n",
        "          }\n",
        "]"
      ],
      "execution_count": 46,
      "outputs": []
    },
    {
      "cell_type": "code",
      "metadata": {
        "id": "zYQPXvEZxFDk"
      },
      "source": [
        "grid = GridSearchCV(pipe_fit, param_grid=params, verbose=True, n_jobs=5, cv=3,  scoring='f1')"
      ],
      "execution_count": 47,
      "outputs": []
    },
    {
      "cell_type": "code",
      "metadata": {
        "colab": {
          "base_uri": "https://localhost:8080/"
        },
        "id": "-LNDEvy_xFDk",
        "outputId": "597070a4-2abf-48a1-d5ac-e9c626d217d5"
      },
      "source": [
        "%%time\n",
        "grid.fit(X_train, y_train)\n"
      ],
      "execution_count": 48,
      "outputs": [
        {
          "output_type": "stream",
          "text": [
            "Fitting 3 folds for each of 10 candidates, totalling 30 fits\n"
          ],
          "name": "stdout"
        },
        {
          "output_type": "stream",
          "text": [
            "[Parallel(n_jobs=5)]: Using backend LokyBackend with 5 concurrent workers.\n",
            "/usr/local/lib/python3.7/dist-packages/joblib/externals/loky/process_executor.py:691: UserWarning: A worker stopped while some jobs were given to the executor. This can be caused by a too short worker timeout or by a memory leak.\n",
            "  \"timeout or by a memory leak.\", UserWarning\n",
            "[Parallel(n_jobs=5)]: Done  30 out of  30 | elapsed: 43.9min finished\n"
          ],
          "name": "stderr"
        },
        {
          "output_type": "stream",
          "text": [
            "CPU times: user 17.8 s, sys: 9.91 s, total: 27.7 s\n",
            "Wall time: 44min 7s\n"
          ],
          "name": "stdout"
        },
        {
          "output_type": "execute_result",
          "data": {
            "text/plain": [
              "GridSearchCV(cv=3, error_score=nan,\n",
              "             estimator=Pipeline(memory=None,\n",
              "                                steps=[('tfidf',\n",
              "                                        TfidfVectorizer(analyzer='word',\n",
              "                                                        binary=False,\n",
              "                                                        decode_error='strict',\n",
              "                                                        dtype=<class 'numpy.float64'>,\n",
              "                                                        encoding='utf-8',\n",
              "                                                        input='content',\n",
              "                                                        lowercase=True,\n",
              "                                                        max_df=1.0,\n",
              "                                                        max_features=None,\n",
              "                                                        min_df=1,\n",
              "                                                        ngram_range=(1, 1),\n",
              "                                                        norm='l2',\n",
              "                                                        preprocessor=None,\n",
              "                                                        smooth_idf=True,\n",
              "                                                        stop_words={'a',\n",
              "                                                                    'about',\n",
              "                                                                    '...\n",
              "                                                           min_impurity_decrease=0.0,\n",
              "                                                           min_impurity_split=None,\n",
              "                                                           min_samples_leaf=1,\n",
              "                                                           min_samples_split=2,\n",
              "                                                           min_weight_fraction_leaf=0.0,\n",
              "                                                           n_estimators=100,\n",
              "                                                           n_jobs=None,\n",
              "                                                           oob_score=False,\n",
              "                                                           random_state=42,\n",
              "                                                           verbose=0,\n",
              "                                                           warm_start=False)],\n",
              "                          'model__n_estimators': [10, 20],\n",
              "                          'tfidf__ngram_range': [(1, 1), (2, 2)]}],\n",
              "             pre_dispatch='2*n_jobs', refit=True, return_train_score=False,\n",
              "             scoring='f1', verbose=True)"
            ]
          },
          "metadata": {
            "tags": []
          },
          "execution_count": 48
        }
      ]
    },
    {
      "cell_type": "code",
      "metadata": {
        "colab": {
          "base_uri": "https://localhost:8080/"
        },
        "id": "UZOEiysIxFDk",
        "outputId": "9f171890-2e23-4eb1-b397-e3ac67082ac1"
      },
      "source": [
        "grid.best_score_"
      ],
      "execution_count": 49,
      "outputs": [
        {
          "output_type": "execute_result",
          "data": {
            "text/plain": [
              "0.7167614508103185"
            ]
          },
          "metadata": {
            "tags": []
          },
          "execution_count": 49
        }
      ]
    },
    {
      "cell_type": "code",
      "metadata": {
        "colab": {
          "base_uri": "https://localhost:8080/",
          "height": 359
        },
        "id": "CnNI_SdMxFDk",
        "outputId": "dbbe032c-9768-4d04-8cd2-fa1122e2ccc9"
      },
      "source": [
        "pd.DataFrame(grid.cv_results_).sort_values(by=\"mean_test_score\", ascending=False)[['param_tfidf__ngram_range',\n",
        "                                                                                  'param_model__max_depth',\n",
        "                                                                                  'param_model__n_estimators',\n",
        "                                                                                  'mean_test_score',\n",
        "                                                                                  'param_model']]"
      ],
      "execution_count": 50,
      "outputs": [
        {
          "output_type": "execute_result",
          "data": {
            "text/html": [
              "<div>\n",
              "<style scoped>\n",
              "    .dataframe tbody tr th:only-of-type {\n",
              "        vertical-align: middle;\n",
              "    }\n",
              "\n",
              "    .dataframe tbody tr th {\n",
              "        vertical-align: top;\n",
              "    }\n",
              "\n",
              "    .dataframe thead th {\n",
              "        text-align: right;\n",
              "    }\n",
              "</style>\n",
              "<table border=\"1\" class=\"dataframe\">\n",
              "  <thead>\n",
              "    <tr style=\"text-align: right;\">\n",
              "      <th></th>\n",
              "      <th>param_tfidf__ngram_range</th>\n",
              "      <th>param_model__max_depth</th>\n",
              "      <th>param_model__n_estimators</th>\n",
              "      <th>mean_test_score</th>\n",
              "      <th>param_model</th>\n",
              "    </tr>\n",
              "  </thead>\n",
              "  <tbody>\n",
              "    <tr>\n",
              "      <th>0</th>\n",
              "      <td>(1, 1)</td>\n",
              "      <td>NaN</td>\n",
              "      <td>NaN</td>\n",
              "      <td>0.716761</td>\n",
              "      <td>LogisticRegression(C=1.0, class_weight=None, d...</td>\n",
              "    </tr>\n",
              "    <tr>\n",
              "      <th>8</th>\n",
              "      <td>(1, 1)</td>\n",
              "      <td>NaN</td>\n",
              "      <td>20</td>\n",
              "      <td>0.669408</td>\n",
              "      <td>RandomForestClassifier(bootstrap=True, ccp_alp...</td>\n",
              "    </tr>\n",
              "    <tr>\n",
              "      <th>4</th>\n",
              "      <td>(1, 1)</td>\n",
              "      <td>20</td>\n",
              "      <td>NaN</td>\n",
              "      <td>0.664068</td>\n",
              "      <td>DecisionTreeClassifier(ccp_alpha=0.0, class_we...</td>\n",
              "    </tr>\n",
              "    <tr>\n",
              "      <th>6</th>\n",
              "      <td>(1, 1)</td>\n",
              "      <td>NaN</td>\n",
              "      <td>10</td>\n",
              "      <td>0.652290</td>\n",
              "      <td>RandomForestClassifier(bootstrap=True, ccp_alp...</td>\n",
              "    </tr>\n",
              "    <tr>\n",
              "      <th>2</th>\n",
              "      <td>(1, 1)</td>\n",
              "      <td>10</td>\n",
              "      <td>NaN</td>\n",
              "      <td>0.605628</td>\n",
              "      <td>DecisionTreeClassifier(ccp_alpha=0.0, class_we...</td>\n",
              "    </tr>\n",
              "    <tr>\n",
              "      <th>9</th>\n",
              "      <td>(2, 2)</td>\n",
              "      <td>NaN</td>\n",
              "      <td>20</td>\n",
              "      <td>0.434921</td>\n",
              "      <td>RandomForestClassifier(bootstrap=True, ccp_alp...</td>\n",
              "    </tr>\n",
              "    <tr>\n",
              "      <th>7</th>\n",
              "      <td>(2, 2)</td>\n",
              "      <td>NaN</td>\n",
              "      <td>10</td>\n",
              "      <td>0.424107</td>\n",
              "      <td>RandomForestClassifier(bootstrap=True, ccp_alp...</td>\n",
              "    </tr>\n",
              "    <tr>\n",
              "      <th>5</th>\n",
              "      <td>(2, 2)</td>\n",
              "      <td>20</td>\n",
              "      <td>NaN</td>\n",
              "      <td>0.211810</td>\n",
              "      <td>DecisionTreeClassifier(ccp_alpha=0.0, class_we...</td>\n",
              "    </tr>\n",
              "    <tr>\n",
              "      <th>1</th>\n",
              "      <td>(2, 2)</td>\n",
              "      <td>NaN</td>\n",
              "      <td>NaN</td>\n",
              "      <td>0.183083</td>\n",
              "      <td>LogisticRegression(C=1.0, class_weight=None, d...</td>\n",
              "    </tr>\n",
              "    <tr>\n",
              "      <th>3</th>\n",
              "      <td>(2, 2)</td>\n",
              "      <td>10</td>\n",
              "      <td>NaN</td>\n",
              "      <td>0.160776</td>\n",
              "      <td>DecisionTreeClassifier(ccp_alpha=0.0, class_we...</td>\n",
              "    </tr>\n",
              "  </tbody>\n",
              "</table>\n",
              "</div>"
            ],
            "text/plain": [
              "  param_tfidf__ngram_range  ...                                        param_model\n",
              "0                   (1, 1)  ...  LogisticRegression(C=1.0, class_weight=None, d...\n",
              "8                   (1, 1)  ...  RandomForestClassifier(bootstrap=True, ccp_alp...\n",
              "4                   (1, 1)  ...  DecisionTreeClassifier(ccp_alpha=0.0, class_we...\n",
              "6                   (1, 1)  ...  RandomForestClassifier(bootstrap=True, ccp_alp...\n",
              "2                   (1, 1)  ...  DecisionTreeClassifier(ccp_alpha=0.0, class_we...\n",
              "9                   (2, 2)  ...  RandomForestClassifier(bootstrap=True, ccp_alp...\n",
              "7                   (2, 2)  ...  RandomForestClassifier(bootstrap=True, ccp_alp...\n",
              "5                   (2, 2)  ...  DecisionTreeClassifier(ccp_alpha=0.0, class_we...\n",
              "1                   (2, 2)  ...  LogisticRegression(C=1.0, class_weight=None, d...\n",
              "3                   (2, 2)  ...  DecisionTreeClassifier(ccp_alpha=0.0, class_we...\n",
              "\n",
              "[10 rows x 5 columns]"
            ]
          },
          "metadata": {
            "tags": []
          },
          "execution_count": 50
        }
      ]
    },
    {
      "cell_type": "markdown",
      "metadata": {
        "id": "qRlCI7DkxFDl"
      },
      "source": [
        "#### Вывод\n",
        "Модель логистическая регрессия выдала лучший результат 0,70"
      ]
    },
    {
      "cell_type": "markdown",
      "metadata": {
        "id": "DMvBmZgZxFDl"
      },
      "source": [
        "#### Финальные проверки"
      ]
    },
    {
      "cell_type": "markdown",
      "metadata": {
        "id": "xwYJzmSHxFDl"
      },
      "source": [
        "Создадим функцию для построения графиков "
      ]
    },
    {
      "cell_type": "code",
      "metadata": {
        "id": "MVynNo18xFDl"
      },
      "source": [
        "def prc_graph(y_train, predict_proba):\n",
        "  precision, recall, thresholds = precision_recall_curve(y_train, predict_proba[:,1])\n",
        "  plt.plot(thresholds, precision[:-1], label = \"presision\")\n",
        "  plt.plot(thresholds, recall[:-1], label = \"recall\")\n",
        "  plt.xlabel(\"thresholds\")\n",
        "  plt.legend(loc=\"center left\")\n",
        "  plt.xlim(0,1)\n",
        "  plt.ylim(0,1)\n",
        "  plt.grid(True)\n",
        "  plt.title('presision recall')"
      ],
      "execution_count": 51,
      "outputs": []
    },
    {
      "cell_type": "markdown",
      "metadata": {
        "id": "4Dhju7xQxFDl"
      },
      "source": [
        "Функция поиска лучшего порога и метрики"
      ]
    },
    {
      "cell_type": "code",
      "metadata": {
        "id": "2-A0gfBNxFDm"
      },
      "source": [
        "def best_predict(model, X, y):\n",
        "  predict_proba = model.predict_proba(X)\n",
        "  best_f1 = 0\n",
        "  best_threshold  = 0\n",
        "  for threshold in np.arange(0.1, 0.8, 0.03):\n",
        "    predict = (predict_proba[:,1] > threshold)*1\n",
        "    f1 = f1_score(y, predict)\n",
        "    if f1 > best_f1:\n",
        "      best_f1 = f1\n",
        "      best_threshold = threshold\n",
        "  prc_graph(y, predict_proba)\n",
        "  predict = (predict_proba[:,1] > best_threshold)*1\n",
        "  return best_f1, best_threshold, predict"
      ],
      "execution_count": 52,
      "outputs": []
    },
    {
      "cell_type": "code",
      "metadata": {
        "id": "Y5IK_A1hxFDm"
      },
      "source": [
        "count_tf_idf = TfidfVectorizer(stop_words=stopwords, ngram_range=(1, 1))"
      ],
      "execution_count": 53,
      "outputs": []
    },
    {
      "cell_type": "code",
      "metadata": {
        "id": "ham1ZRuNxFDm"
      },
      "source": [
        "X_train = count_tf_idf.fit_transform(X_train.values.astype('U'))"
      ],
      "execution_count": 54,
      "outputs": []
    },
    {
      "cell_type": "code",
      "metadata": {
        "id": "xPAymf1PxFDm"
      },
      "source": [
        "X_test = count_tf_idf.transform(X_test.values.astype('U'))"
      ],
      "execution_count": 55,
      "outputs": []
    },
    {
      "cell_type": "code",
      "metadata": {
        "id": "gyW-jGpMxFDm"
      },
      "source": [
        "clr = LogisticRegression()"
      ],
      "execution_count": 56,
      "outputs": []
    },
    {
      "cell_type": "code",
      "metadata": {
        "colab": {
          "base_uri": "https://localhost:8080/"
        },
        "id": "73tVD910xFDn",
        "outputId": "2a82d2a9-7662-495c-a49d-30e534df346f"
      },
      "source": [
        "clr.fit(X_train, y_train)"
      ],
      "execution_count": 57,
      "outputs": [
        {
          "output_type": "execute_result",
          "data": {
            "text/plain": [
              "LogisticRegression(C=1.0, class_weight=None, dual=False, fit_intercept=True,\n",
              "                   intercept_scaling=1, l1_ratio=None, max_iter=100,\n",
              "                   multi_class='auto', n_jobs=None, penalty='l2',\n",
              "                   random_state=None, solver='lbfgs', tol=0.0001, verbose=0,\n",
              "                   warm_start=False)"
            ]
          },
          "metadata": {
            "tags": []
          },
          "execution_count": 57
        }
      ]
    },
    {
      "cell_type": "code",
      "metadata": {
        "colab": {
          "base_uri": "https://localhost:8080/",
          "height": 312
        },
        "id": "p3y6ncqixFDn",
        "outputId": "7e09991d-7fb8-4f18-8f5f-7f481b289043"
      },
      "source": [
        "best_predict(clr, X_test, y_test)"
      ],
      "execution_count": 58,
      "outputs": [
        {
          "output_type": "execute_result",
          "data": {
            "text/plain": [
              "(0.7868542629147417, 0.25, array([0, 0, 0, ..., 1, 0, 0]))"
            ]
          },
          "metadata": {
            "tags": []
          },
          "execution_count": 58
        },
        {
          "output_type": "display_data",
          "data": {
            "image/png": "[encoded data removed]",
            "text/plain": [
              "<Figure size 432x288 with 1 Axes>"
            ]
          },
          "metadata": {
            "tags": [],
            "needs_background": "light"
          }
        }
      ]
    },
    {
      "cell_type": "markdown",
      "metadata": {
        "id": "uFchNXR9xFDn"
      },
      "source": [
        "Получен результат: метрика f1 0.78, порог для модели 0.25"
      ]
    },
    {
      "cell_type": "markdown",
      "metadata": {
        "id": "yn0EKfVWxFDo"
      },
      "source": [
        "## Выводы"
      ]
    },
    {
      "cell_type": "markdown",
      "metadata": {
        "id": "o61lj9-ixFDo"
      },
      "source": [
        "1. Задача по поставленным условиям решена.\n",
        "2. Данные перед обучением были подготовлены по следующему алгоритму: \n",
        "   \n",
        "    * Очистка и лемматизация \n",
        "    * разбиение на Тренеровочный, валидационный и тестовый датасеты.\n",
        "3. Обучены были три модели:\n",
        "   \n",
        "    * Решающее деревоо\n",
        "    * Линейная регрессия\n",
        "    * Случайный лес\n",
        "\n",
        "Модели обучались с разными вариантами трансформации данных, униграма и биграма. Лучшие показатели были при использовании униграмы. На этот счет есть предположение, что ругательные слова чаще всего употребляются с вполне приемлемыми словами. При использовании биграмы модели сложнее провести классификацию текста.\n",
        "\n",
        "\n",
        "4. Замечание касательно алгоритма работы. По условию задачи необходимо определить токсичный комментарий (1) или позитивный (0). Токсичные идут на проверку, позитивные в публикацию. По логике как мне кажется мы должны делать наоборот, определять позитивный комментарий как 1 и пропускать его, а токсичный отправлять на модерацию. При такой схеме ошибка модели не так страшна, если модель ошибется то положительный комментарий пойдет на модерацию. Но токсичный текс не пройдет. "
      ]
    }
  ]
}